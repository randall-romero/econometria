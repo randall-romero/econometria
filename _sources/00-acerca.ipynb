{
 "cells": [
  {
   "cell_type": "markdown",
   "id": "0792a5db",
   "metadata": {},
   "source": [
    "![portada](./imgs/portada.jpg)\n",
    "\n",
    "# Inicio\n",
    "\n",
    "Este sitio muestra la versión preliminar de un libro de macroeconometría, basado en los apuntes del curso EC-4301 Macroeconometría, de la Universidad de Costa Rica.\n",
    "\n",
    "\n",
    "Se asume que el lector ha tenido formación básica en estadística, econometría y en álgebra lineal.\n",
    "\n",
    "En estos apuntes se presenta además varios ejemplos numéricos, bien sea con Stata o con Python.\n",
    "\n",
    "\n",
    "```{warning}\n",
    "Esta es apenas una versión preliminar de los apuntes del curso, que estoy actualizando desde 2021. \n",
    "```\n",
    "\n",
    "La mayoría del material aquí cubierto lo he publicado también en video, en [mi canal de YouTube](https://www.youtube.com/c/RandallRomeroEconomíaUCR)\n",
    "\n",
    "\n",
    "## Tabla de contenido\n",
    "```{tableofcontents}\n",
    "```"
   ]
  }
 ],
 "metadata": {
  "jupytext": {
   "formats": "md:myst",
   "text_representation": {
    "extension": ".md",
    "format_name": "myst"
   }
  },
  "kernelspec": {
   "display_name": "Python 3",
   "language": "python",
   "name": "python3"
  },
  "language_info": {
   "codemirror_mode": {
    "name": "ipython",
    "version": 3
   },
   "file_extension": ".py",
   "mimetype": "text/x-python",
   "name": "python",
   "nbconvert_exporter": "python",
   "pygments_lexer": "ipython3",
   "version": "3.9.7"
  },
  "source_map": [
   11
  ]
 },
 "nbformat": 4,
 "nbformat_minor": 5
}