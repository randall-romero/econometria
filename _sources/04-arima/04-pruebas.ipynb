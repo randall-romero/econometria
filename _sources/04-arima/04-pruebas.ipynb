{
 "cells": [
  {
   "cell_type": "markdown",
   "id": "european-maria",
   "metadata": {},
   "source": [
    "```{include} ../math-definitions.md\n",
    "```"
   ]
  },
  {
   "cell_type": "code",
   "execution_count": null,
   "id": "central-nightmare",
   "metadata": {
    "tags": [
     "hide-input"
    ]
   },
   "outputs": [],
   "source": [
    "import bccr\n",
    "import matplotlib.pyplot as plt\n",
    "plt.style.use('seaborn')\n",
    "\n",
    "import numpy as np\n",
    "import pandas as pd\n",
    "pd.options.plotting.backend = \"plotly\"\n",
    "\n",
    "import statsmodels.formula.api as smf\n",
    "from statsmodels.tsa.stattools import adfuller, kpss\n",
    "from macrodemos.common_components import merge_plots\n",
    "\n",
    "# Funciones para ayudar a hacer varias pruebas de Dickey Fuller de una sola vez\n",
    "\n",
    "def signif_una_cola(tvalues):\n",
    "    \"\"\"Para sombrear en verde los niveles a los que un test es significativo\"\"\"\n",
    "\n",
    "    is_sig = (tvalues > tvalues[0])\n",
    "    return ['background-color: green' if v else '' for v in is_sig]\n",
    "\n",
    "\n",
    "def DF(datos, spec):\n",
    "    \"\"\"Prueba de Dickey-Fuller\"\"\"\n",
    "\n",
    "    res = adfuller(datos, maxlag=0,regression=spec)\n",
    "    resultado = {\n",
    "        'z':res[0],\n",
    "        '1%': res[4]['1%'],\n",
    "        '5%': res[4]['5%'],\n",
    "        '10%': res[4]['10%']}\n",
    "    return resultado\n",
    "\n",
    "def ADF(datos, spec):\n",
    "    \"\"\"Prueba Aumentada de Dickey-Fuller, con selección automática de rezagos\"\"\"\n",
    "\n",
    "    res = adfuller(datos, regression=spec, autolag='t-stat')\n",
    "    resultado = {\n",
    "        'z':res[0],\n",
    "        '1%': res[4]['1%'],\n",
    "        '5%': res[4]['5%'],\n",
    "        '10%': res[4]['10%'],\n",
    "        'p': res[2]}\n",
    "    return resultado\n",
    "\n",
    "\n",
    "all_specs = ['nc', 'c', 'ct']\n",
    "\n",
    "def tabla_dickey_fuller(serie, test, diff=0, specs=all_specs):\n",
    "    \"\"\"Tabla resumen de pruebas Dickey-Fuller, para las tres especificaciones\"\"\"\n",
    "    datos = serie.copy()\n",
    "\n",
    "    while diff:\n",
    "        datos = datos.diff()\n",
    "        diff -=1\n",
    "    else:\n",
    "        datos.dropna(inplace=True)   \n",
    "\n",
    "    resultados = pd.DataFrame([test(datos, ss) for ss in specs], index=specs).round(4)\n",
    "    resultados.rename(\n",
    "        index= dict(nc='sin constante', c='con constante', ct='con constante y tendencia'),\n",
    "        inplace=True)\n",
    "    return resultados.style.apply(signif_una_cola, axis=1)\n",
    "\n",
    "def KPSS_una_serie(datos, tipo):\n",
    "    return [kpss(datos.dropna(), regression=tipo, nlags=k)[0] for k in range(7)]   \n",
    "\n",
    "\n",
    "def tabla_KPSS(diff=0):\n",
    "    datos = pib['lPIB'].diff(diff) if diff else pib['lPIB']\n",
    "    resultados = pd.DataFrame([KPSS_una_serie(datos, ss) for ss in ['c','ct']], index=['c','ct']).round(3)\n",
    "    #nombre = '_'.join([test,serie,str(diff)])\n",
    "    #resultados.to_latex(nombre + '.tex')\n",
    "    return resultados.T   \n"
   ]
  },
  {
   "cell_type": "markdown",
   "id": "demonstrated-montana",
   "metadata": {},
   "source": [
    "# Detectando raíces unitarias\n",
    "\n",
    "\n",
    "## La prueba Dickey-Fuller\n",
    "**Caminata aleatoria como serie AR(1)**\n",
    "\n",
    "El modelo más sencillo de una serie con raíz unitaria, la caminata aleatoria, es un  proceso AR(1)\n",
    "\\begin{equation*}\n",
    "y_t = \\phi y_{t-1} + \\epsilon_t\n",
    "\\end{equation*}\n",
    "en el cual se cumple que $\\phi=1$.\n",
    "\n",
    "Entonces resulta natural, para determinar si una serie es una caminata aleatoria, estimar esta ecuación y comprobar la hipótesis $\\phi=1$.\n",
    "\n",
    "Alternativamente, restando $y_{t-1}$ de ambos lados podemos estimar\n",
    "\\begin{align*}\n",
    "y_t - y_{t-1} &= (\\phi-1) y_{t-1} + \\epsilon_t \\\\\n",
    "\\Delta y_t &= \\gamma y_{t-1} + \\epsilon_t\n",
    "\\end{align*}\n",
    "y comprobar si\n",
    "\\begin{align*}\n",
    "H_0:\\quad \\gamma_0 &= 0 \\qquad \\text{versus} & H_1:\\quad \\gamma_0 &<0\n",
    "\\end{align*}\n",
    "\n",
    "No obstante, Dickey y Fuller (1979) encontraron que si la hipótesis nula es verdadera, la regresión anterior tiene series no estacionarias en ambos lados de la ecuación, por lo que no se cumple que\n",
    "\\begin{equation*}\n",
    "z = \\frac{\\hat{\\gamma}}{s.e.(\\gamma)}\n",
    "\\end{equation*}\n",
    "tenga una distribución $t$-Student.\n",
    "\n",
    "Para determinar la distribución de este estadístico, de manera que pueda realizarse la prueba de hipótesis, Dickey y Fuller realizaron experimentos de Monte Carlo, en los cuales\n",
    "\n",
    "- Se simula una caminata aleatoria con un tamaño de muestra predeterminado.\n",
    "- Se estima el modelo AR(1)\n",
    "- Se calcula el valor de $z$\n",
    "\n",
    "Realizando muchas simulaciones como la anterior es posible aproximar la verdadera distribución del estadístico $z$ **bajo la hipótesis nula $\\gamma=0$**.\n",
    "\n",
    "\n",
    "\n",
    "{{ empieza_test }} Las pruebas de Dickey-Fuller {{ fin_titulo_test }}\n",
    "{{ test_inquietud }} ¿Tiene la serie $y_t$ una raíz unitaria?\n",
    "{{ test_hipotesis }}\n",
    "\\begin{equation*}\n",
    "\\qquad\n",
    "\\left.\\begin{aligned}\n",
    "\\Delta y_t &= \\phantom{a_0 + b_0 t +} \\alert{\\gamma} y_{t-1} + \\epsilon_t \\\\\n",
    "\\Delta y_t &= a_0 + \\phantom{b_0 t +} \\alert{\\gamma} y_{t-1} + \\epsilon_t \\\\\n",
    "\\Delta y_t &= a_0 + b_0 t + \\alert{\\gamma} y_{t-1} + \\epsilon_t\n",
    "\\end{aligned}\\right\\} \\alert{\\gamma = 0}\n",
    "\\end{equation*}\n",
    "\n",
    "{{ test_estadistico }} Estimar $z = \\frac{\\hat{\\gamma}}{s.e.(\\gamma)}$ por mínimos cuadrados.\n",
    "{{ test_interpretacion }} Si $z$ es menor que el valor crítico de Dickey Fuller, entonces $\\gamma<0$, es decir, no hay raíz unitaria.\n",
    "{{ termina_test }}\n",
    "\n",
    "\n",
    "\n",
    "## La distribución de Dickey-Fuller\n",
    "```{figure} figures/Dickey-Fuller.png\n",
    "```\n",
    "\n",
    "\n",
    "{{ empieza_ejemplo }} Pruebas Dickey-Fuller {{ fin_titulo_ejemplo }}\n",
    "```{margin} Archivos\n",
    "- bccr.SW(33783)\n",
    "- tendencias-pib.ipynb\n",
    "```\n",
    "Al estimar por mínimos cuadrados ordinarios la regresión\n",
    "\\begin{equation*}\n",
    "\\Delta\\log\\text{PIB}_t = c + \\phi\\log\\text{PIB}_{t-1} + \\epsilon_{t}\n",
    "\\end{equation*}\n",
    "encontramos"
   ]
  },
  {
   "cell_type": "code",
   "execution_count": null,
   "id": "lucky-interview",
   "metadata": {
    "tags": [
     "hide-input"
    ]
   },
   "outputs": [],
   "source": [
    "pib = bccr.SW(PIB=33783)\n",
    "pib['lPIB'] = np.log(pib['PIB'])\n",
    "pib['ΔlPIB'] = pib['lPIB'].diff()\n",
    "pib['LlPIB'] = pib['lPIB'].shift()\n",
    "\n",
    "res = smf.ols(\"ΔlPIB ~ LlPIB\", data=pib).fit()\n",
    "res.summary().tables[1]"
   ]
  },
  {
   "cell_type": "markdown",
   "id": "blocked-grave",
   "metadata": {},
   "source": [
    "Los resultados de la tabla indican que $\\phi$ es significativamente distinto de cero al 5\\% de significancia, **pero este resultado es incorrecto** porque en esta regresión el estadístico $t$ no tiene la distribución $t$-Student.\n",
    "\n",
    "Además, la prueba reportada es de dos colas, mientras que la apropiada es de una cola.\n",
    "\n",
    "Por ello, recurrimos a los valores críticos de Dickey-Fuller\n",
    "\n",
    "%\\input{labs/df_lpib_0.tex}"
   ]
  },
  {
   "cell_type": "code",
   "execution_count": null,
   "id": "romance-lover",
   "metadata": {
    "tags": [
     "hide-input"
    ]
   },
   "outputs": [],
   "source": [
    "tabla_dickey_fuller(pib['lPIB'], DF, diff=0, specs=['c'])"
   ]
  },
  {
   "cell_type": "markdown",
   "id": "secure-capital",
   "metadata": {},
   "source": [
    "```{margin} REVISAR\n",
    "Como en todos los casos el valor $z$ estimado es mayor que el valor crítico de Dickey-Fuller (sin importar cuál nivel de significancia utilizamos), no podemos rechazar la hipótesis de que el PIB tenga raíz unitaria.\n",
    "```\n",
    "\n",
    "Por otra parte, si realizamos las pruebas de Dickey-Fuller a la primera diferencia del (logaritmo del) PIB trimestral encontramos\n",
    "\n",
    "%\\input{labs/df_lpib_1.tex}"
   ]
  },
  {
   "cell_type": "code",
   "execution_count": null,
   "id": "polished-palmer",
   "metadata": {
    "tags": [
     "hide-input"
    ]
   },
   "outputs": [],
   "source": [
    "pib['Δ2lPIB'] = pib['ΔlPIB'].diff()\n",
    "pib['LΔlPIB'] = pib['ΔlPIB'].shift()\n",
    "\n",
    "res = smf.ols(\"Δ2lPIB ~ LΔlPIB\", data=pib).fit()\n",
    "res.summary().tables[1]"
   ]
  },
  {
   "cell_type": "code",
   "execution_count": null,
   "id": "closing-visiting",
   "metadata": {
    "tags": [
     "hide-input"
    ]
   },
   "outputs": [],
   "source": [
    "tabla_dickey_fuller(pib['ΔlPIB'], DF, diff=0, specs=['c'])"
   ]
  },
  {
   "cell_type": "markdown",
   "id": "sustainable-biodiversity",
   "metadata": {},
   "source": [
    "Como en todos los casos el valor $z$ estimado es menor que el valor crítico de Dickey-Fuller (sin importar cuál nivel de significancia utilizamos), concluimos que el crecimiento trimestral del PIB es estacionario (no tiene raíz unitaria).\n",
    "\n",
    "Dado que no pudimos rechazar que el PIB tuviese raíz unitaria, pero sí lo hicimos para su primer diferencia, concluimos que el PIB es una serie I(1).\n",
    "\n",
    "¿Qué hubiera pasado si en vez de diferenciar la serie, le extraemos una tendencia lineal?\n",
    "\n",
    "Obtenemos los residuos de la regresión\n",
    "\\begin{equation*}\n",
    "\\log\\text{PIB}_t = c + at + \\epsilon_{t}\n",
    "\\end{equation*}"
   ]
  },
  {
   "cell_type": "code",
   "execution_count": null,
   "id": "seasonal-assessment",
   "metadata": {
    "tags": [
     "hide-input"
    ]
   },
   "outputs": [],
   "source": [
    "pib['t'] = np.arange(pib.shape[0])\n",
    "\n",
    "res = smf.ols(\"lPIB ~ t\", data=pib).fit()\n",
    "res.summary().tables[1]\n",
    "\n",
    "df = pd.concat([pib['lPIB'], res.fittedvalues, res.resid], axis=1)\n",
    "df.columns = [\"PIB\", \"Ajuste\", \"Residuos\"]\n",
    "df.index = df.index.to_timestamp() # para poder graficar con plotly\n",
    "\n",
    "merge_plots(\n",
    "  [df[[\"PIB\", \"Ajuste\"]].plot(), df[[\"Residuos\"]].plot()],\n",
    "  subplot_titles=[\"PIB con tendencia lineal ajustada\", \"Residuos\"],\n",
    "  title_text=r\"$\\log\\text{PIB}_t = c + at + \\epsilon_{t}$\",\n",
    ")"
   ]
  },
  {
   "cell_type": "markdown",
   "id": "radio-afghanistan",
   "metadata": {},
   "source": [
    "Al aplicar las pruebas de Dickey-Fuller a los residuos, vemos que"
   ]
  },
  {
   "cell_type": "code",
   "execution_count": null,
   "id": "electoral-thompson",
   "metadata": {
    "tags": [
     "hide-input"
    ]
   },
   "outputs": [],
   "source": [
    "tabla_dickey_fuller(res.resid, DF)"
   ]
  },
  {
   "cell_type": "markdown",
   "id": "fitted-rainbow",
   "metadata": {},
   "source": [
    "Ninguna de las pruebas rechaza la presencia de una raíz unitaria.\n",
    "{{ termina_ejemplo }}\n",
    "\n",
    "## La prueba aumentada de Dickey-Fuller\n",
    "**Caminata aleatoria como serie AR(p)**\n",
    "\n",
    "No todas las series de tiempo pueden representarse apropiadamente como un proceso AR(1).\n",
    "\n",
    "La prueba de Dickey-Fuller puede aplicarse en estos casos también, aunque con modificaciones.\n",
    "\n",
    "Consideremos por ejemplo un proceso AR(2):\n",
    "\\begin{align*}\n",
    "y_t &= \\phi_1 y_{t-1} + \\phi_2 y_{t-2} + \\epsilon_t \\\\\n",
    "    &= \\alert{(\\phi_1 + \\phi_2-1)}y_{t-1} - \\alert{\\phi_2y_{t-1} + y_{t-1}} +\\phi_2 y_{t-2} + \\epsilon_t \\\\\n",
    "y_t - y_{t-1} &= (\\phi_1 + \\phi_2-1)y_{t-1} - \\phi_2\\left(y_{t-1} - y_{t-2}\\right) + \\epsilon_t \\\\\n",
    "\\Delta y_t &= (\\phi_1 + \\phi_2-1)y_{t-1} - \\phi_2\\Delta  y_{t-1} + \\epsilon_t \\\\\n",
    "\\Delta y_t &= \\gamma y_{t-1} + a_1\\Delta  y_{t-1} + \\epsilon_t\n",
    "\\end{align*}\n",
    "\n",
    "Esta serie tiene raíz unitaria si $\\gamma=0$.\n",
    "\n",
    "Para permitir la posibilidad que la serie original sea AR(p+1), la **prueba aumentada de Dickey-Fuller** introduce $p$ rezagos de la variable dependiente en la regresión original:\n",
    "\\begin{align*}\n",
    "\\Delta y_t &= \\phantom{a_0 + b_0 t +}\\alert{\\gamma} y_{t-1} + a_1\\Delta y_{t-1} +\\dots + a_p\\Delta y_{t-p} + \\epsilon_t \\\\\n",
    "\\Delta y_t &= a_0 \\phantom{ + b_0 t } + \\alert{\\gamma} y_{t-1} + a_1\\Delta y_{t-1} +\\dots + a_p\\Delta y_{t-p} + \\epsilon_t \\\\\n",
    "\\Delta y_t &= a_0 + b_0 t + \\alert{\\gamma} y_{t-1} + a_1\\Delta y_{t-1} +\\dots + a_p\\Delta y_{t-p} + \\epsilon_t\n",
    "\\end{align*}\n",
    "\n",
    "En cualquiera de las formulaciones, la hipótesis nula es $\\gamma=0$.\n",
    "\n",
    "Se utilizan los mismos valores críticos de la prueba de Dickey-Fuller.\n",
    "\n",
    "\n",
    "\n",
    "{{ empieza_ejemplo }} Pruebas aumentada de Dickey-Fuller {{ fin_titulo_ejemplo }}\n",
    "```{margin} Archivos\n",
    "- bccr.SW\n",
    "- tendencias-pib.ipynb\n",
    "```\n",
    "Al realizar las pruebas aumentadas de Dickey-Fuller del (logaritmo del) PIB trimestral de Costa Rica encontramos"
   ]
  },
  {
   "cell_type": "code",
   "execution_count": null,
   "id": "photographic-aluminum",
   "metadata": {
    "tags": [
     "hide-input"
    ]
   },
   "outputs": [],
   "source": [
    "tabla_dickey_fuller(pib['lPIB'], ADF, diff=0)"
   ]
  },
  {
   "cell_type": "markdown",
   "id": "heavy-barcelona",
   "metadata": {},
   "source": [
    "Esto confirma lo que ya habíamos encontrado: no podemos rechazar la hipótesis de que el PIB tenga raíz unitaria.\n",
    "En todos los casos, el número de rezagos corresponde al máximo rezago significativo.\n",
    "\n",
    "Por otra parte, si realizamos las pruebas de Dickey-Fuller a la primera diferencia del (logaritmo del) PIB trimestral encontramos"
   ]
  },
  {
   "cell_type": "code",
   "execution_count": null,
   "id": "weighted-behalf",
   "metadata": {
    "tags": [
     "hide-input"
    ]
   },
   "outputs": [],
   "source": [
    "tabla_dickey_fuller(pib['lPIB'], ADF, diff=1)"
   ]
  },
  {
   "cell_type": "markdown",
   "id": "unexpected-tunnel",
   "metadata": {},
   "source": [
    "De nuevo concluimos que el crecimiento trimestral del PIB es estacionario (no tiene raíz unitaria).\n",
    "{{ termina_ejemplo }}\n",
    "\n",
    "\n",
    "## Interpretando una prueba de Dickey Fuller\n",
    "\n",
    "```{important}\n",
    "En la prueba DF, no rechazar la hipótesis de que una serie tenga raíz unitaria...\n",
    "\n",
    "- **no implica** que la serie sí tenga tal raíz unitaria.\n",
    "- solamente decimos que **no hay evidencia** suficiente para descartarla con un nivel “razonable” de significancia.\n",
    "```\n",
    "\n",
    "Esto es así porque bien podría ser el caso de que el verdadero valor de $\\phi$ sea ligeramente menor a uno (en cuyo caso el proceso AR(1) es estacionario), pero la prueba Dickey-Fuller no puede distinguirlo efectivamente de 1.\n",
    "\n",
    "\n",
    "\n",
    "## Potencia de la distribución de Dickey-Fuller\n",
    "```{figure} figures/Dickey-Fuller-power.png\n",
    "```\n",
    "\n",
    "\n",
    "## Limitaciones de las pruebas de raíz unitaria\n",
    "\n",
    "Hemos visto que la prueba de Dickey-Fuller tienen muy poca potencia para casos en que el proceso es persistente pero no integrado. Esto es una limitación también de otras pruebas de raíz unitaria, como la de Phillips-Perron.\n",
    "\n",
    "Por ello, cuando se estudian series macroeconómicas con estos tests, usualmente se encuentra que tienen raíces unitarias.\n",
    "\n",
    "Esto se debe a que la hipótesis nula es que sí hay raíz unitaria, y esta hipótesis solamente se rechaza cuando existe **fuerte evidencia** en su contra.\n",
    "\n",
    "\n",
    "## La prueba KPSS\n",
    "\n",
    "Kwiatkowski, Phillips, Schmidt y Shin (1992) proponen una *prueba de estacionariedad*: la hipótesis nula es que la serie es estacionaria.\n",
    "\n",
    "Para ello, asumen que una serie puede ser expresada como la suma de una tendencia determinística, una caminata aleatoria, y un error estacionario (no necesariamente ruido blanco):\n",
    "\\begin{equation*}\n",
    "y_t = \\notation{\\xi t}{tendencia} + \\notation{r_t}{caminata} + \\notation{\\omega_t}{estacionario}\n",
    "\\end{equation*}\n",
    "\n",
    "donde $r_t$ es una caminata aleatoria\n",
    "\n",
    "\\begin{equation*}\n",
    "r_t = r_{t-1} + u_t, \\qquad u_t\\sim N(0, \\sigma^2_u)\n",
    "\\end{equation*}\n",
    "\n",
    "La hipótesis de estacionariedad es simplemente $\\sigma^2_u = 0$.\n",
    "\n",
    "\n",
    "Bajo la hipótesis nula, $r_t = r_{t-1} = \\dots = r_0$ una constante, por lo que la serie sería estacionaria alrededor de una tendencia:\n",
    "\\begin{equation*}\n",
    "y_t = r_0 + \\xi t + \\omega_t\n",
    "\\end{equation*}\n",
    "\n",
    "KPSS también consideran el caso particular en el que $\\xi=0$, es decir, la serie es simplemente estacionaria.\n",
    "\\begin{equation*}\n",
    "y_t = r_0 +  \\omega_t\n",
    "\\end{equation*}\n",
    "\n",
    "En cualquiera de estos dos casos, si $e_1, e_2,\\dots,e_T$ son los residuos de la regresión, se define\n",
    "\\begin{align*}\n",
    "S_t &= \\sum_{i=1}^t e_i,\\quad t=1,2,\\dots,T  \\tag{suma parcial de residuos}\\\\\n",
    "\\hat{\\sigma}^2_e &= \\frac{1}{T}\\sum_{t=1}^Te_t^2 \\tag{varianza estimada del error}\n",
    "\\end{align*}\n",
    "\n",
    "\n",
    "$\\hat{\\sigma}^2_e$ es un estimador consistente de la varianza de la parte estacionaria $\\omega_t$ solo si es ruido blanco.\n",
    "\n",
    "Pero en la práctica, las series económicas rara vez cumplen esa restricción, por lo que KPSS proponen esta corrección para tomar en cuenta la posible correlación de $\\omega_t$:\n",
    "\\begin{equation*}\n",
    "s^2(l) = \\frac{1}{T}\\sum_{t=1}^Te_t^2 +\\frac{2}{T}\\sum_{s=1}^{l}\\left[ \\left(1-\\tfrac{s}{1+l}\\right)\\sum_{t=s+1}^{T}e_{t}e_{t-s} \\right]\n",
    "\\end{equation*}\n",
    "\n",
    "Así, para hacer una prueba KPSS hay que decidir:\n",
    "\n",
    "- si incluir o no la tendencia determinística\n",
    "- cuántos rezagos $l$ incluir en la estimación de la varianza $s^2(l)$\n",
    "\n",
    "\n",
    "{{ empieza_test }} La prueba KPSS {{ fin_titulo_test }}\n",
    "{{ test_inquietud }} ¿Es la serie $y_t$ estacionaria?\n",
    "{{ test_hipotesis }}\n",
    "\\begin{align*}\n",
    "y_t &= \\xi t + r_t +  \\omega_t \\\\\n",
    "r_t &= r_{t-1} + u_t, \\qquad u_t\\sim N(0, \\sigma^2_u) \\\\\n",
    "\\alert{\\sigma^2_u} &\\alert{=0}\n",
    "\\end{align*}\n",
    "{{ test_estadistico }}\n",
    "\\begin{equation*}\n",
    "LM = \\sum_{t=1}^{T}\\frac{S^2_t}{s^2(l)}\n",
    "\\end{equation*}\n",
    "\n",
    "{{ test_interpretacion }} Si $LM$ es mayor que el valor crítico, rechazar la hipótesis nula y concluir que la serie tiene raíz unitaria.\n",
    "\n",
    "KPSS proporcionan los siguientes valores críticos asintóticos, los cuales obtuvieron por simulación 50~000 iteraciones con muestras de 2000 datos."
   ]
  },
  {
   "cell_type": "code",
   "execution_count": null,
   "id": "conservative-stadium",
   "metadata": {
    "tags": [
     "hide-input"
    ]
   },
   "outputs": [],
   "source": [
    "critical = pd.DataFrame(\n",
    "    {'c': np.array([0.347, 0.463, 0.574, 0.739]),\n",
    "     'ct':np.array([0.119, 0.146, 0.176, 0.216])},\n",
    "    index=['10%', '5%', '2.5%', '1%'])\n",
    "critical"
   ]
  },
  {
   "cell_type": "markdown",
   "id": "secret-cleaning",
   "metadata": {},
   "source": [
    "Las pruebas son de una cola: se rechaza la hipótesis nula (de que la serie es estacionaria) cuando el estadístico LM es mayor al valor crítico seleccionado.\n",
    "{{ termina_test }}\n",
    "\n",
    "\n",
    "{{ empieza_ejemplo }} Pruebas KPSS {{ fin_titulo_ejemplo }}\n",
    "Al realizar las pruebas KPSS del (logaritmo del) PIB trimestral de Costa Rica encontramos"
   ]
  },
  {
   "cell_type": "code",
   "execution_count": null,
   "id": "accurate-gentleman",
   "metadata": {
    "tags": [
     "hide-cell"
    ]
   },
   "outputs": [],
   "source": [
    "result = pd.concat([tabla_KPSS(diff=r) for r in range(2)],\n",
    "    axis=1,\n",
    "    keys=['nivel','diferencia'])"
   ]
  },
  {
   "cell_type": "code",
   "execution_count": null,
   "id": "signal-alliance",
   "metadata": {
    "tags": [
     "hide-input"
    ]
   },
   "outputs": [],
   "source": [
    "result"
   ]
  },
  {
   "cell_type": "markdown",
   "id": "serious-hands",
   "metadata": {},
   "source": [
    "**Valores críticos**"
   ]
  },
  {
   "cell_type": "code",
   "execution_count": null,
   "id": "latest-relay",
   "metadata": {
    "tags": [
     "hide-input"
    ]
   },
   "outputs": [],
   "source": [
    "critical"
   ]
  },
  {
   "cell_type": "markdown",
   "id": "strong-guinea",
   "metadata": {},
   "source": [
    "En todas las especificaciones, podemos rechazar al 1\\% que el PIB sea estacionario.\n",
    "\n",
    "Al 5\\%, en ningún caso podemos rechazar que el crecimiento del PIB (diferencia del logaritomo) sea estacionaria.\n",
    "\n",
    "Juntos, estos resultados señalan que el PIB es un proceso I(1).\n",
    "{{ termina_ejemplo }}\n",
    "\n",
    "\n",
    "Ahora un ejemplo con datos de Estados Unidos.\n",
    "\n",
    "{{ empieza_ejemplo }} Raíces unitarias en series macroeconómicas de Estados Unidos {{ fin_titulo_ejemplo }}\n",
    "```{margin} Basado en Leventis pp.160\n",
    "- NelsonPlosser.ipynb\n",
    "```\n",
    "En uno de los artículos más citados en macroeconomía, Nelson y Plosser (1982) examinaron varias series macro de uso común, averiguando si tenían raíces unitarias.\n",
    "\n",
    "Aplicando la prueba aumentada de Dickey-Fuller, concluyeron que todas menos una de las series analizadas tenían raíz unitaria.\n",
    "\n",
    "```{figure} figures/NelsonPlosser-table5.png\n",
    "```\n",
    "\n",
    "En su artículo original, KPSS aplican su prueba a las mismas series que utilizaron Nelson y Plosser.\n",
    "\n",
    "Encontraron que para varias de las series no era posible rechazar la hipótesis de que fueran estacionarias alrededor de una tendencia.\n",
    "\n",
    "\n",
    "```{figure} figures/KPSS-table5.png\n",
    "```\n",
    "\n",
    "\n",
    "```{figure} figures/NelsonPlosser-KPSS.png\n",
    "```\n",
    "\n",
    "{{ termina_ejemplo }}"
   ]
  }
 ],
 "metadata": {
  "jupytext": {
   "formats": "md:myst",
   "text_representation": {
    "extension": ".md",
    "format_name": "myst"
   }
  },
  "kernelspec": {
   "display_name": "Python 3",
   "language": "python",
   "name": "python3"
  },
  "source_map": [
   30,
   36,
   113,
   191,
   200,
   208,
   211,
   221,
   229,
   232,
   246,
   262,
   267,
   270,
   313,
   316,
   325,
   328,
   428,
   435,
   444,
   451,
   454,
   457,
   460
  ],
  "substitutions": {
   "empieza_ejemplo": "<div class=\"ejemplo\">\n<div class=\"ejemplo-titulo\"><b>Ejemplo: &nbsp;\n",
   "empieza_test": "<div class=\"test\">\n<div class=\"test-titulo\">\n",
   "fin_titulo_ejemplo": "</b></div>",
   "fin_titulo_test": "</div>",
   "termina_ejemplo": "</div>",
   "termina_test": "</div>",
   "test_estadistico": "<br><hr><i class=\"fas fa-calculator test-simbolo\"></i>\n",
   "test_hipotesis": "<br><hr><i class=\"fas fa-heading test-simbolo\"></i>\n",
   "test_inquietud": "<i class=\"fas fa-question test-simbolo\"></i>\n",
   "test_interpretacion": "<br><hr><i class=\"far fa-lightbulb test-simbolo\"></i>"
  }
 },
 "nbformat": 4,
 "nbformat_minor": 5
}