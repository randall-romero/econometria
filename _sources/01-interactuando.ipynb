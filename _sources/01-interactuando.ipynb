{
 "cells": [
  {
   "cell_type": "markdown",
   "id": "blank-amber",
   "metadata": {},
   "source": [
    "# Cómo interactuar con este libro\n",
    "\n",
    "Este libro fue creado con [Jupyter Book](https://jupyterbook.org/intro.html), un proyecto de código abierto para diseñar libros interactivos en línea, que contienen el código y otros material computacional.\n",
    "\n",
    "A continuación se explican las herramientas interactivas de este libro. La mayoría de estas heramientas están en la barra de herramientas en la parte superior de la página\n",
    "\n",
    "## <i class=\"fa fa-rocket\" aria-hidden=\"true\"></i> Abrir el cuaderno de Jupyter en la nube\n",
    "\n",
    "Usted puede abrir la mayoría de las páginas de este libro en la nube y correr allí el código. Coloque el puntero del *mouse* sobre el icono <i class=\"fa fa-rocket\" aria-hidden=\"true\"></i>  en la parte superior de la página y haga clic en \"Binder\" para abrir una versión de esta página en la nube.\n",
    "\n",
    "\n",
    "[Binder](https://mybinder.org/) is a service that allows you to run Jupyter notebooks without any prior configuration or installation. It may take a few minutes for the Jupyter notebook to load, so be patient.\n",
    "\n",
    "## <i class=\"fa fa-download\" aria-hidden=\"true\"></i> Descargue el cuaderno de Jupyter\n",
    "\n",
    "Usted puede descargar cualquier página que contenga código en este libro como un cuaderno de Jupyter (archivo con extensión .ipynb). Coloque el puntero del *mouse* sobre el icono <i class=\"fa fa-download\" aria-hidden=\"true\"></i> y haga clic en \".ipynb\"\n",
    "\n",
    "\n",
    "```{attention}\n",
    "Para trabajar con este archivo .ipynb, usted necesitará tener Jupyter en su computardora.\n",
    "\n",
    "Además, para algunos de los ejemplos requerirá haber instalado los paquetes de python `bccr` y `macrodemos`.\n",
    "```\n",
    "\n",
    "## <i class=\"fa fa-download\" aria-hidden=\"true\"></i> Download PDF\n",
    "\n",
    "Usted puede descargar cualquier página de este libro como un archivo PDF. Coloque el puntero del *mouse* sobre el icono <i class=\"fa fa-download\" aria-hidden=\"true\"></i> y haga clic en \".pdf\"\n",
    "\n",
    "\n",
    "## <i class=\"fas fa-expand\" aria-hidden=\"true\"></i> Modo de pantalla completa\n",
    "\n",
    "Para ver cualquier página de este cuaderno en pantalla completa, haga clic en el icono <i class=\"fas fa-expand\" aria-hidden=\"true\"></i> en la parte superior de la página.\n",
    "\n",
    "## <i class=\"fab fa-github\" aria-hidden=\"true\"></i> Open Issue on GitHub\n",
    "\n",
    "Si tuviese algún problema utilizando este libro, o si quisiera hacerme una sugerencia, puede enviarme un correo a randall.romero@ucr.ac.cr .\n",
    "\n",
    "\n",
    "## Clic para mostrar el código\n",
    "\n",
    "Para facilitar la lectura del material, la mayoría de las páginas de este libro ocultan el código que genera los resultados obtenidos. Para ver ese código, haga clic en \"Click to Show\" a la derecha de la celda de código."
   ]
  },
  {
   "cell_type": "code",
   "execution_count": 1,
   "id": "paperback-combine",
   "metadata": {
    "tags": [
     "hide-input"
    ]
   },
   "outputs": [
    {
     "name": "stdout",
     "output_type": "stream",
     "text": [
      "Este es un resultado obtenido con Python!\n",
      "\n",
      "Clic en 'Click to Show' para ver el código que lo generó!\n"
     ]
    },
    {
     "data": {
      "image/png": "[encoded data removed]",
      "text/plain": [
       "<Figure size 432x288 with 1 Axes>"
      ]
     },
     "metadata": {
      "filenames": {
       "image/png": "/home/randall/Documents/econometria/_build/jupyter_execute/01-interactuando_1_1.png"
      },
      "needs_background": "light"
     },
     "output_type": "display_data"
    }
   ],
   "source": [
    "import matplotlib.pyplot as plt\n",
    "\n",
    "print(\"Este es un resultado obtenido con Python!\\n\\nClic en 'Click to Show' para ver el código que lo generó!\")\n",
    "\n",
    "plt.plot([1,9,2,8,3,7,4,6,5,5,5]);"
   ]
  }
 ],
 "metadata": {
  "jupytext": {
   "formats": "md:myst",
   "text_representation": {
    "extension": ".md",
    "format_name": "myst"
   }
  },
  "kernelspec": {
   "display_name": "Python 3",
   "language": "python",
   "name": "python3"
  },
  "language_info": {
   "codemirror_mode": {
    "name": "ipython",
    "version": 3
   },
   "file_extension": ".py",
   "mimetype": "text/x-python",
   "name": "python",
   "nbconvert_exporter": "python",
   "pygments_lexer": "ipython3",
   "version": "3.8.8"
  },
  "source_map": [
   11,
   55
  ]
 },
 "nbformat": 4,
 "nbformat_minor": 5
}