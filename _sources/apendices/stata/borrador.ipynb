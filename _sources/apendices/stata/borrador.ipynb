{
 "cells": [
  {
   "cell_type": "markdown",
   "id": "f227ec6f",
   "metadata": {},
   "source": [
    "(Rcode-correlogram)=\n",
    "# Correlogramas con Stata\n",
    "\n",
    "**Cálculando el autocorrelograma del IMAE de Costa Rica**\n",
    "\n",
    "Importar las librerías necesarias"
   ]
  },
  {
   "cell_type": "code",
   "execution_count": 1,
   "id": "c0482666",
   "metadata": {},
   "outputs": [
    {
     "name": "stdout",
     "output_type": "stream",
     "text": [
      "error: unrecognized arguments: autotabgraphs on\r\n",
      "\r\n",
      "clear *\r\n",
      "\n"
     ]
    },
    {
     "name": "stdout",
     "output_type": "stream",
     "text": [
      "usage: %set [-h] [--permanently] [--reset] key value\r\n",
      "\n"
     ]
    }
   ],
   "source": [
    "%set graph_format png\n",
    "set autotabgraphs on\n",
    "\n",
    "clear *"
   ]
  },
  {
   "cell_type": "markdown",
   "id": "cfeae71e",
   "metadata": {},
   "source": [
    "Leemos datos del IMAE de Costa Rica (original y tendencia-ciclo), indexamos datos como series de tiempo"
   ]
  },
  {
   "cell_type": "code",
   "execution_count": 2,
   "id": "96174fa0",
   "metadata": {},
   "outputs": [
    {
     "name": "stdout",
     "output_type": "stream",
     "text": [
      "\n",
      "----------------------------------------------- python (type end to exit) ------\n"
     ]
    },
    {
     "name": "stdout",
     "output_type": "stream",
     "text": [
      "\n",
      "... from bccr import SW\n"
     ]
    },
    {
     "name": "stdout",
     "output_type": "stream",
     "text": [
      ">>> imae = SW(Original=87703, Tendencia_ciclo=87764)\n"
     ]
    },
    {
     "name": "stdout",
     "output_type": "stream",
     "text": [
      ">>> imae['mes'] = imae.index.astype(str)\n"
     ]
    },
    {
     "name": "stdout",
     "output_type": "stream",
     "text": [
      ">>> # Export data to Stata\n"
     ]
    },
    {
     "name": "stdout",
     "output_type": "stream",
     "text": [
      "... from sfi import Data\n"
     ]
    },
    {
     "name": "stdout",
     "output_type": "stream",
     "text": [
      ">>> Data.setObsTotal(len(imae))\n"
     ]
    },
    {
     "name": "stdout",
     "output_type": "stream",
     "text": [
      ">>> Data.addVarDouble(\"Original\")\n"
     ]
    },
    {
     "name": "stdout",
     "output_type": "stream",
     "text": [
      ">>> Data.addVarDouble(\"Tendencia_ciclo\")\n"
     ]
    },
    {
     "name": "stdout",
     "output_type": "stream",
     "text": [
      ">>> Data.addVarStr(\"mes\", 7)\n"
     ]
    },
    {
     "name": "stdout",
     "output_type": "stream",
     "text": [
      ">>> Data.store(imae.columns, None, imae.values)\n"
     ]
    },
    {
     "name": "stdout",
     "output_type": "stream",
     "text": [
      ">>> end\n"
     ]
    },
    {
     "name": "stdout",
     "output_type": "stream",
     "text": [
      "--------------------------------------------------------------------------------\n"
     ]
    }
   ],
   "source": [
    "python\n",
    "# Read data with bccr\n",
    "\n",
    "from bccr import SW\n",
    "\n",
    "imae = SW(Original=87703, Tendencia_ciclo=87764)\n",
    "imae['mes'] = imae.index.astype(str)\n",
    "\n",
    "\n",
    "# Export data to Stata\n",
    "from sfi import Data\n",
    "\n",
    "Data.setObsTotal(len(imae))\n",
    "Data.addVarDouble(\"Original\")\n",
    "Data.addVarDouble(\"Tendencia_ciclo\")\n",
    "Data.addVarStr(\"mes\", 7)\n",
    "\n",
    "Data.store(imae.columns, None, imae.values)\n",
    "end"
   ]
  },
  {
   "cell_type": "markdown",
   "id": "89eb17eb",
   "metadata": {},
   "source": [
    "Las primeras dos líneas del código anterior serían mejores como"
   ]
  },
  {
   "cell_type": "code",
   "execution_count": 3,
   "id": "04db7883",
   "metadata": {},
   "outputs": [
    {
     "name": "stdout",
     "output_type": "stream",
     "text": [
      "\n",
      "\n",
      "\n",
      "Time variable: date, 1991m1 to 2022m3\n"
     ]
    },
    {
     "name": "stdout",
     "output_type": "stream",
     "text": [
      "        Delta: 1 month\n"
     ]
    }
   ],
   "source": [
    "generate date = monthly(mes, \"YM\")\n",
    "tsset date, monthly"
   ]
  },
  {
   "cell_type": "markdown",
   "id": "53ea2958",
   "metadata": {},
   "source": [
    "pero por alguna extraña razón `yearmonth` está convirtiendo los meses 11 como enero y 12 como febrero! (al menos en mi instalación con Linux).\n",
    "\n",
    "\n",
    "\n",
    "## Graficamos las dos series"
   ]
  },
  {
   "cell_type": "code",
   "execution_count": 4,
   "id": "5114e495",
   "metadata": {},
   "outputs": [
    {
     "name": "stdout",
     "output_type": "stream",
     "text": [
      "\n",
      "file C:/Users/randa/.stata_kernel_cache/graph0.png saved as PNG format\n"
     ]
    }
   ],
   "source": [
    "graph twoway (tsline Original)"
   ]
  },
  {
   "cell_type": "code",
   "execution_count": 5,
   "id": "0b69dd86",
   "metadata": {},
   "outputs": [
    {
     "name": "stdout",
     "output_type": "stream",
     "text": [
      "\n",
      "\n",
      "\n",
      "\n",
      "file C:/Users/randa/.stata_kernel_cache/graph1.png saved as PNG format\n"
     ]
    },
    {
     "name": "stdout",
     "output_type": "stream",
     "text": [
      "\n",
      "(1 missing value generated)\n"
     ]
    },
    {
     "name": "stdout",
     "output_type": "stream",
     "text": [
      "\n",
      "(1 missing value generated)\n"
     ]
    },
    {
     "name": "stdout",
     "output_type": "stream",
     "text": [
      "\n",
      "\n",
      "file C:/Users/randa/.stata_kernel_cache/graph2.png saved as PNG format\n"
     ]
    },
    {
     "name": "stdout",
     "output_type": "stream",
     "text": [
      "\n",
      "(12 missing values generated)\n"
     ]
    },
    {
     "name": "stdout",
     "output_type": "stream",
     "text": [
      "\n",
      "(12 missing values generated)\n"
     ]
    },
    {
     "name": "stdout",
     "output_type": "stream",
     "text": [
      "\n",
      "\n",
      "file C:/Users/randa/.stata_kernel_cache/graph3.png saved as PNG format\n"
     ]
    }
   ],
   "source": [
    "* Series en logaritmo\n",
    "generate Y = log(Original)\n",
    "generate TC = log(Tendencia_ciclo)\n",
    "graph twoway (tsline Y) (tsline TC), name(nivel) title(\"Niveles\") \n",
    "\n",
    "* Crecimiento mensual\n",
    "generate DY = D.Y\n",
    "generate DTC = D.TC\n",
    "graph twoway (tsline DY) (tsline DTC), name(dnivel) title(\"Crecimiento mensual\") \n",
    "\n",
    "* Crecimiento interanual\n",
    "generate GY = S12.Y\n",
    "generate GTC = S12.Y\n",
    "graph twoway (tsline GY) (tsline GTC), name(s12nivel) title(\"Crecimiento interanual\") "
   ]
  }
 ],
 "metadata": {
  "jupytext": {
   "text_representation": {
    "extension": ".md",
    "format_name": "myst",
    "format_version": 0.13,
    "jupytext_version": "1.10.3"
   }
  },
  "kernelspec": {
   "display_name": "Stata",
   "language": "stata",
   "name": "stata"
  },
  "language_info": {
   "codemirror_mode": "stata",
   "file_extension": ".do",
   "mimetype": "text/x-stata",
   "name": "stata",
   "version": "15.1"
  },
  "source_map": [
   12,
   21,
   26,
   31,
   51,
   55,
   58,
   64,
   69
  ]
 },
 "nbformat": 4,
 "nbformat_minor": 5
}