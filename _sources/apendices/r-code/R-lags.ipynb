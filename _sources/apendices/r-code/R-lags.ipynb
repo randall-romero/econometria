{
 "cells": [
  {
   "cell_type": "markdown",
   "id": "e82a58c1",
   "metadata": {},
   "source": [
    "(Rcode-lags)=\n",
    "# Rezagos con R\n",
    "\n",
    "**Ejemplo numérico para ilustrar el uso de los operadores de rezago, diferencia, y diferencia estacional.**"
   ]
  },
  {
   "cell_type": "markdown",
   "id": "0514525b",
   "metadata": {},
   "source": [
    "Basado en Levendis 2018 Time Series Econometrics, pp4-5"
   ]
  },
  {
   "cell_type": "markdown",
   "id": "aedc9bac",
   "metadata": {},
   "source": [
    "Importar las librerías necesarias"
   ]
  },
  {
   "cell_type": "code",
   "execution_count": null,
   "id": "d722b8d0",
   "metadata": {},
   "outputs": [],
   "source": [
    "library(readr)\n",
    "library(fpp3)"
   ]
  },
  {
   "cell_type": "markdown",
   "id": "0902f18a",
   "metadata": {},
   "source": [
    "Leer una serie de tiempo ficticia de data\\LandD.csv, declarar los datos como serie de tiempo"
   ]
  },
  {
   "cell_type": "code",
   "execution_count": null,
   "id": "01da7133",
   "metadata": {},
   "outputs": [],
   "source": [
    "datos <- read_csv(\"../data/LandD.csv\") %>%\n",
    "  mutate(trimestre = yearquarter(trimestre)) %>%\n",
    "  as_tsibble(index=trimestre) %>%\n",
    "  select(trimestre, y)\n",
    "\n",
    "datos"
   ]
  },
  {
   "cell_type": "markdown",
   "id": "40b3f2f3",
   "metadata": {},
   "source": [
    "Operador de rezagos"
   ]
  },
  {
   "cell_type": "code",
   "execution_count": null,
   "id": "f2cc87be",
   "metadata": {},
   "outputs": [],
   "source": [
    "datos <- datos %>% mutate(\n",
    "  Lag_y = lag(y),\n",
    "  Lag2_y = lag(y, 2)\n",
    ")"
   ]
  },
  {
   "cell_type": "markdown",
   "id": "c7f1e68c",
   "metadata": {},
   "source": [
    "Operador de diferencias"
   ]
  },
  {
   "cell_type": "code",
   "execution_count": null,
   "id": "3e56c138",
   "metadata": {},
   "outputs": [],
   "source": [
    "datos <- datos %>% mutate(\n",
    "  D_y = difference(y),\n",
    "  D2_y = difference(y, differences = 2)\n",
    ")"
   ]
  },
  {
   "cell_type": "markdown",
   "id": "d069e1c4",
   "metadata": {},
   "source": [
    "Operador de diferencia estacional"
   ]
  },
  {
   "cell_type": "code",
   "execution_count": null,
   "id": "f822b723",
   "metadata": {},
   "outputs": [],
   "source": [
    "datos <- datos %>% mutate(\n",
    "  S_y = difference(y, lag = 4)\n",
    ")"
   ]
  },
  {
   "cell_type": "markdown",
   "id": "86110ecc",
   "metadata": {},
   "source": [
    "Mostrar los resultados"
   ]
  },
  {
   "cell_type": "code",
   "execution_count": null,
   "id": "1b392f43",
   "metadata": {},
   "outputs": [],
   "source": [
    "show(datos)"
   ]
  },
  {
   "cell_type": "markdown",
   "id": "85cc5dec",
   "metadata": {},
   "source": [
    "{ref}`Volver al texto principal.<example-lags-and-diffs>`"
   ]
  }
 ],
 "metadata": {
  "jupytext": {
   "text_representation": {
    "extension": ".md",
    "format_name": "myst",
    "format_version": 0.13,
    "jupytext_version": "1.10.3"
   }
  },
  "kernelspec": {
   "display_name": "R",
   "language": "R",
   "name": "ir"
  },
  "source_map": [
   12,
   19,
   23,
   27,
   30,
   34,
   41,
   45,
   50,
   54,
   59,
   63,
   67,
   71,
   73
  ]
 },
 "nbformat": 4,
 "nbformat_minor": 5
}