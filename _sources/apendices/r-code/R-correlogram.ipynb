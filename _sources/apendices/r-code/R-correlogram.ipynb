{
 "cells": [
  {
   "cell_type": "markdown",
   "id": "e945b83d",
   "metadata": {},
   "source": [
    "(Rcode-correlogram)=\n",
    "# Correlogramas con R\n",
    "\n",
    "**Cálculando el autocorrelograma del IMAE de Costa Rica**\n",
    "\n",
    "Importar las librerías necesarias"
   ]
  },
  {
   "cell_type": "code",
   "execution_count": null,
   "id": "98d580c9",
   "metadata": {},
   "outputs": [],
   "source": [
    "library(readr)\n",
    "library(fpp3)\n",
    "library(patchwork)"
   ]
  },
  {
   "cell_type": "markdown",
   "id": "7e89a44e",
   "metadata": {},
   "source": [
    "Leemos datos del IMAE de Costa Rica (original y tendencia-ciclo), indexamos datos como series de tiempo"
   ]
  },
  {
   "cell_type": "code",
   "execution_count": null,
   "id": "06c116c2",
   "metadata": {},
   "outputs": [],
   "source": [
    "datos <- read.csv(\"../data/log-imae.csv\", stringsAsFactors=FALSE) %>%\n",
    "  mutate(mes = yearmonth(seq(as.Date(\"1991-01-01\"), as.Date(\"2019-12-01\"), by = \"1 month\"))) %>%\n",
    "  as_tsibble(index=`mes`) %>%\n",
    "  select(mes, Original, Tendencia.ciclo)"
   ]
  },
  {
   "cell_type": "markdown",
   "id": "4826329b",
   "metadata": {},
   "source": [
    "Las primeras dos líneas del código anterior serían mejores como\n",
    "\n",
    "```r\n",
    "datos <- read.csv(\"../data/log-imae.csv\", stringsAsFactors=FALSE) %>%\n",
    "  mutate(mes = yearmonth(X) %>%\n",
    "```\n",
    "pero por alguna extraña razón `yearmonth` está convirtiendo los meses 11 como enero y 12 como febrero! (al menos en mi instalación con Linux).\n",
    "\n",
    "\n",
    "\n",
    "## Graficamos las dos series"
   ]
  },
  {
   "cell_type": "code",
   "execution_count": null,
   "id": "04e5acc2",
   "metadata": {},
   "outputs": [],
   "source": [
    "datos %>% gather() %>% autoplot()"
   ]
  },
  {
   "cell_type": "markdown",
   "id": "775a4ea7",
   "metadata": {},
   "source": [
    "## Autocorrelogramas"
   ]
  },
  {
   "cell_type": "code",
   "execution_count": null,
   "id": "3c25e0ce",
   "metadata": {},
   "outputs": [],
   "source": [
    "datos %>% ACF(Original) %>% autoplot() + xlab(\" \") -> fig1a\n",
    "datos %>% ACF(Tendencia.ciclo) %>% autoplot() + xlab(\" \") -> fig1b\n",
    "\n",
    "datos %>% mutate(temp = difference(Original)) %>% ACF(temp) %>% autoplot() + xlab(\" \") -> fig2a\n",
    "datos %>% mutate(temp = difference(Tendencia.ciclo)) %>% ACF(temp) %>% autoplot() + xlab(\" \") -> fig2b\n",
    "\n",
    "datos %>% mutate(temp = difference(Original, lag=12)) %>% ACF(temp) %>% autoplot() + xlab(\" \") -> fig3a\n",
    "datos %>% mutate(temp = difference(Tendencia.ciclo, lag=12)) %>% ACF(temp) %>% autoplot() + xlab(\" \") -> fig3b\n",
    "\n",
    "(fig1a | fig1b) / (fig2a | fig2b) / (fig3a | fig3b)"
   ]
  },
  {
   "cell_type": "markdown",
   "id": "a67c5baf",
   "metadata": {},
   "source": [
    "## Autocorrelogramas parciales"
   ]
  },
  {
   "cell_type": "code",
   "execution_count": null,
   "id": "47f1b66c",
   "metadata": {},
   "outputs": [],
   "source": [
    "datos %>% ACF(Original, type=\"partial\") %>% autoplot() + xlab(\" \") -> figP1a\n",
    "datos %>% ACF(Tendencia.ciclo, type=\"partial\") %>% autoplot() + xlab(\" \")-> figP1b\n",
    "\n",
    "datos %>% mutate(temp = difference(Original)) %>% ACF(temp, type=\"partial\") %>% autoplot() + xlab(\" \") -> figP2a\n",
    "datos %>% mutate(temp = difference(Tendencia.ciclo)) %>% ACF(temp, type=\"partial\") %>% autoplot() + xlab(\" \")-> figP2b\n",
    "\n",
    "datos %>% mutate(temp = difference(Original, lag=12)) %>% ACF(temp, type=\"partial\") %>% autoplot() + xlab(\" \") -> figP3a\n",
    "datos %>% mutate(temp = difference(Tendencia.ciclo, lag=12)) %>% ACF(temp, type=\"partial\") %>% autoplot() + xlab(\" \") -> figP3b\n",
    "\n",
    "(figP1a | figP1b) / (figP2a | figP2b) / (figP3a | figP3b)"
   ]
  }
 ],
 "metadata": {
  "jupytext": {
   "text_representation": {
    "extension": ".md",
    "format_name": "myst",
    "format_version": 0.13,
    "jupytext_version": "1.10.3"
   }
  },
  "kernelspec": {
   "display_name": "R",
   "language": "R",
   "name": "ir"
  },
  "source_map": [
   12,
   21,
   25,
   30,
   35,
   48,
   50,
   53,
   64,
   68
  ]
 },
 "nbformat": 4,
 "nbformat_minor": 5
}