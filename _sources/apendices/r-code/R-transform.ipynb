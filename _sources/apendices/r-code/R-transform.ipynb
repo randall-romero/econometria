{
 "cells": [
  {
   "cell_type": "markdown",
   "id": "ecab85c0",
   "metadata": {},
   "source": [
    "(Rcode-transform)=\n",
    "# Transformaciones con R\n",
    "\n",
    "**Cálculo de transformaciones de la serie del PIB de Costa Rica**\n",
    "\n",
    "Importar las librerías necesarias"
   ]
  },
  {
   "cell_type": "code",
   "execution_count": null,
   "id": "5bf7e033",
   "metadata": {},
   "outputs": [],
   "source": [
    "library(readr)\n",
    "library(fpp3)\n",
    "library(slider)\n",
    "#library(ggplot2)"
   ]
  },
  {
   "cell_type": "markdown",
   "id": "f89a0917",
   "metadata": {},
   "source": [
    "Leer datos del PIB trimestral de Costa Rica e indexar datos como serie de tiempo"
   ]
  },
  {
   "cell_type": "code",
   "execution_count": null,
   "id": "bb12105a",
   "metadata": {},
   "outputs": [],
   "source": [
    "datos <- read_csv(\"../data/CR-PIB.csv\") %>%\n",
    "  mutate(trimestre = yearquarter(periodo)) %>%\n",
    "  as_tsibble(index=trimestre) %>%\n",
    "  select(trimestre, pib)"
   ]
  },
  {
   "cell_type": "markdown",
   "id": "647e0d3c",
   "metadata": {},
   "source": [
    "Datos originales"
   ]
  },
  {
   "cell_type": "code",
   "execution_count": null,
   "id": "3b6b8fed",
   "metadata": {},
   "outputs": [],
   "source": [
    "datos %>% autoplot(pib) +\n",
    "  labs(title = \"Producto Interno Bruto de Costa Rica\") +\n",
    "  ylab(\"billones de colones constantes\") + xlab(\" \")"
   ]
  },
  {
   "cell_type": "markdown",
   "id": "3c98078c",
   "metadata": {},
   "source": [
    "Primera diferencia"
   ]
  },
  {
   "cell_type": "code",
   "execution_count": null,
   "id": "4874f40f",
   "metadata": {},
   "outputs": [],
   "source": [
    "datos %>% mutate(Dpib=difference(pib)) %>%\n",
    "  autoplot(Dpib) +\n",
    "  labs(title = \"Cambio trimestral en el PIB de Costa Rica\") +\n",
    "  ylab(\"billones de colones constantes\") + xlab(\" \")"
   ]
  },
  {
   "cell_type": "markdown",
   "id": "92e0f345",
   "metadata": {},
   "source": [
    "Tasa de variación"
   ]
  },
  {
   "cell_type": "code",
   "execution_count": null,
   "id": "26820b00",
   "metadata": {},
   "outputs": [],
   "source": [
    "datos %>% mutate(growth=100* difference(pib) / lag(pib)) %>%\n",
    "  autoplot(growth) +\n",
    "  labs(title = \"Tasa de crecimiento trimestral del PIB de Costa Rica\") +\n",
    "  ylab(\"por ciento\") + xlab(\" \")"
   ]
  },
  {
   "cell_type": "markdown",
   "id": "72ff3d35",
   "metadata": {},
   "source": [
    "Tasa de variación continua"
   ]
  },
  {
   "cell_type": "code",
   "execution_count": null,
   "id": "eb99c81c",
   "metadata": {},
   "outputs": [],
   "source": [
    "datos %>% mutate(growth=100* difference(log(pib))) %>%\n",
    "  autoplot(growth) +\n",
    "  labs(title = \"Tasa de crecimiento trimestral del PIB de Costa Rica\") +\n",
    "  ylab(\"por ciento\") + xlab(\" \")"
   ]
  },
  {
   "cell_type": "markdown",
   "id": "9de54a01",
   "metadata": {},
   "source": [
    "Cambio interanual"
   ]
  },
  {
   "cell_type": "code",
   "execution_count": null,
   "id": "742c9d65",
   "metadata": {},
   "outputs": [],
   "source": [
    "datos %>% mutate(growth=100* difference(pib, lag=4) / lag(pib)) %>%\n",
    "  autoplot(growth) +\n",
    "  labs(title = \"Cambio interanual en el PIB de Costa Rica\") +\n",
    "  ylab(\"billones de colones constantes\") + xlab(\" \")"
   ]
  },
  {
   "cell_type": "markdown",
   "id": "559e1372",
   "metadata": {},
   "source": [
    "Tasa de variación interanual"
   ]
  },
  {
   "cell_type": "code",
   "execution_count": null,
   "id": "0c02e023",
   "metadata": {},
   "outputs": [],
   "source": [
    "datos %>% mutate(growth=100* difference(log(pib), lag=4)) %>%\n",
    "  autoplot(growth) +\n",
    "  labs(title = \" de crecimiento interanual del PIB de Costa Rica\") +\n",
    "  ylab(\"por ciento\") + xlab(\" \")"
   ]
  },
  {
   "cell_type": "markdown",
   "id": "4e58afff",
   "metadata": {},
   "source": [
    "Serie suavizada"
   ]
  },
  {
   "cell_type": "code",
   "execution_count": null,
   "id": "2d3edd4a",
   "metadata": {},
   "outputs": [],
   "source": [
    "datos %>% mutate(suave=slide_dbl(pib, mean, .before=4, .complete=TRUE)) %>%\n",
    "  select(trimestre, pib, suave) %>%\n",
    "  gather() %>%\n",
    "  autoplot() + geom_line() +\n",
    "  labs(title = \"Producto Interno Bruto de Costa Rica\") +\n",
    "  ylab(\"billones de colones constantes\") + xlab(\" \")"
   ]
  },
  {
   "cell_type": "markdown",
   "id": "f66942e7",
   "metadata": {},
   "source": [
    "{ref}`Volver al texto principal.<subsec-nivel-serie>`"
   ]
  }
 ],
 "metadata": {
  "jupytext": {
   "text_representation": {
    "extension": ".md",
    "format_name": "myst",
    "format_version": 0.13,
    "jupytext_version": "1.10.3"
   }
  },
  "kernelspec": {
   "display_name": "R",
   "language": "R",
   "name": "ir"
  },
  "source_map": [
   12,
   21,
   26,
   30,
   35,
   39,
   43,
   47,
   52,
   56,
   61,
   65,
   70,
   74,
   79,
   83,
   88,
   92,
   99
  ]
 },
 "nbformat": 4,
 "nbformat_minor": 5
}