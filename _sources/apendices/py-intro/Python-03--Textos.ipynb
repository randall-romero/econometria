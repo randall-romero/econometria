{
 "cells": [
  {
   "cell_type": "markdown",
   "id": "03421127-74d4-465f-9ec5-4612af01aa9b",
   "metadata": {
    "pycharm": {
     "name": "#%% md\n"
    }
   },
   "source": [
    "# Manipulando Textos"
   ]
  },
  {
   "cell_type": "markdown",
   "id": "3c8b1ac8-a86a-48f8-a15b-322cc98d4f91",
   "metadata": {
    "pycharm": {
     "name": "#%% md\n"
    }
   },
   "source": [
    "## Trabajando con mayúsculas y minúsculas"
   ]
  },
  {
   "cell_type": "code",
   "execution_count": 1,
   "id": "fd55c75c-f460-4e6a-9129-c675d8e6d058",
   "metadata": {
    "pycharm": {
     "name": "#%%\n"
    }
   },
   "outputs": [],
   "source": [
    "personaje = \"robin HOOD  \""
   ]
  },
  {
   "cell_type": "code",
   "execution_count": 2,
   "id": "7150efb0-9ad8-485f-9147-dad847e73011",
   "metadata": {
    "pycharm": {
     "name": "#%%\n"
    }
   },
   "outputs": [
    {
     "data": {
      "text/plain": [
       "'ROBIN HOOD  '"
      ]
     },
     "execution_count": 2,
     "metadata": {},
     "output_type": "execute_result"
    }
   ],
   "source": [
    "personaje.upper()"
   ]
  },
  {
   "cell_type": "code",
   "execution_count": 3,
   "id": "d445b055-d87e-4347-a2be-d7eb7ef3a8f2",
   "metadata": {
    "pycharm": {
     "name": "#%%\n"
    }
   },
   "outputs": [
    {
     "data": {
      "text/plain": [
       "'robin hood  '"
      ]
     },
     "execution_count": 3,
     "metadata": {},
     "output_type": "execute_result"
    }
   ],
   "source": [
    "personaje.lower()"
   ]
  },
  {
   "cell_type": "code",
   "execution_count": 4,
   "id": "c9850c27-0f46-4ea8-8cfa-d4a3df79e48a",
   "metadata": {
    "pycharm": {
     "name": "#%%\n"
    }
   },
   "outputs": [
    {
     "data": {
      "text/plain": [
       "'Robin Hood  '"
      ]
     },
     "execution_count": 4,
     "metadata": {},
     "output_type": "execute_result"
    }
   ],
   "source": [
    "personaje.title()"
   ]
  },
  {
   "cell_type": "code",
   "execution_count": 5,
   "id": "55728c99-f136-4829-b12c-dc77d173552d",
   "metadata": {
    "pycharm": {
     "name": "#%%\n"
    }
   },
   "outputs": [
    {
     "data": {
      "text/plain": [
       "'Robin hood  '"
      ]
     },
     "execution_count": 5,
     "metadata": {},
     "output_type": "execute_result"
    }
   ],
   "source": [
    "personaje.capitalize()"
   ]
  },
  {
   "cell_type": "markdown",
   "id": "c713d3a8-8d32-4f80-902e-4a2fd059147f",
   "metadata": {
    "pycharm": {
     "name": "#%% md\n"
    }
   },
   "source": [
    "## Eliminando espacios"
   ]
  },
  {
   "cell_type": "code",
   "execution_count": 6,
   "id": "ba22dd71-7367-4038-ac94-3ae76cdfc90c",
   "metadata": {
    "pycharm": {
     "name": "#%%\n"
    }
   },
   "outputs": [
    {
     "data": {
      "text/plain": [
       "'robin HOOD'"
      ]
     },
     "execution_count": 6,
     "metadata": {},
     "output_type": "execute_result"
    }
   ],
   "source": [
    "personaje.strip()"
   ]
  },
  {
   "cell_type": "code",
   "execution_count": 7,
   "id": "22078c97-0be2-419f-a125-760c1eb46357",
   "metadata": {
    "pycharm": {
     "name": "#%%\n"
    }
   },
   "outputs": [
    {
     "data": {
      "text/plain": [
       "'Robin Hood'"
      ]
     },
     "execution_count": 7,
     "metadata": {},
     "output_type": "execute_result"
    }
   ],
   "source": [
    "personaje = personaje.strip().title()\n",
    "personaje"
   ]
  },
  {
   "cell_type": "markdown",
   "id": "76045b3c-92c1-4c10-97b3-233f207cc434",
   "metadata": {
    "pycharm": {
     "name": "#%% md\n"
    }
   },
   "source": [
    "## Separando textos"
   ]
  },
  {
   "cell_type": "code",
   "execution_count": 8,
   "id": "6b3d46c0-d536-4bc1-89d6-83eeeec2b03d",
   "metadata": {
    "pycharm": {
     "name": "#%%\n"
    }
   },
   "outputs": [
    {
     "data": {
      "text/plain": [
       "['Robin', 'Hood']"
      ]
     },
     "execution_count": 8,
     "metadata": {},
     "output_type": "execute_result"
    }
   ],
   "source": [
    "personaje.split(' ')"
   ]
  },
  {
   "cell_type": "code",
   "execution_count": 9,
   "id": "f6733501-7640-4c1a-87d1-b635ec3a3175",
   "metadata": {
    "pycharm": {
     "name": "#%%\n"
    }
   },
   "outputs": [],
   "source": [
    "nombre, apellido = personaje.split(' ')"
   ]
  },
  {
   "cell_type": "code",
   "execution_count": 10,
   "id": "1bb6b986-8a3e-4bbe-9c66-e3d0398a012e",
   "metadata": {
    "pycharm": {
     "name": "#%%\n"
    }
   },
   "outputs": [
    {
     "data": {
      "text/plain": [
       "['1', '1', '2', '3', '5', '8', '13', '21', '34', '55', '89']"
      ]
     },
     "execution_count": 10,
     "metadata": {},
     "output_type": "execute_result"
    }
   ],
   "source": [
    "fibonacci_str = \"1,1,2,3,5,8,13,21,34,55,89\"\n",
    "fibonacci_str.split(',')"
   ]
  },
  {
   "cell_type": "code",
   "execution_count": 11,
   "id": "43f13777-dd17-48e7-a946-902a8b81d847",
   "metadata": {
    "pycharm": {
     "name": "#%%\n"
    }
   },
   "outputs": [
    {
     "data": {
      "text/plain": [
       "[1, 1, 2, 3, 5, 8, 13, 21, 34, 55, 89]"
      ]
     },
     "execution_count": 11,
     "metadata": {},
     "output_type": "execute_result"
    }
   ],
   "source": [
    "fibonacci_int = [int(x) for x in fibonacci_str.split(',')]\n",
    "fibonacci_int"
   ]
  },
  {
   "cell_type": "markdown",
   "id": "eff11500-adea-4a81-82bf-a4e0d89e617e",
   "metadata": {
    "pycharm": {
     "name": "#%% md\n"
    }
   },
   "source": [
    "## Evaluando algunas condiciones"
   ]
  },
  {
   "cell_type": "code",
   "execution_count": 12,
   "id": "8651140f-df8c-43bb-812d-191ef9a8b238",
   "metadata": {
    "pycharm": {
     "name": "#%%\n"
    }
   },
   "outputs": [
    {
     "name": "stdout",
     "output_type": "stream",
     "text": [
      "dia='15'    mes='septiembre'    año='1821'\n"
     ]
    }
   ],
   "source": [
    "dia, mes, año = \"15 de septiembre de 1821\".split(' de ')\n",
    "print(f'{dia=}    {mes=}    {año=}')"
   ]
  },
  {
   "cell_type": "code",
   "execution_count": 13,
   "id": "1672d0c9-829c-4261-95df-cf97798bd3ad",
   "metadata": {
    "pycharm": {
     "name": "#%%\n"
    }
   },
   "outputs": [
    {
     "name": "stdout",
     "output_type": "stream",
     "text": [
      "año.startswith('18')=True\n",
      "mes.endswith('embre')=True\n"
     ]
    }
   ],
   "source": [
    "print(f\"{año.startswith('18')=}\")\n",
    "print(f\"{mes.endswith('embre')=}\")"
   ]
  },
  {
   "cell_type": "code",
   "execution_count": 14,
   "id": "dc64870d-0169-4f05-8e06-07004a71b16c",
   "metadata": {
    "pycharm": {
     "name": "#%%\n"
    }
   },
   "outputs": [
    {
     "name": "stdout",
     "output_type": "stream",
     "text": [
      "año.isnumeric()=True\n",
      "mes.isnumeric()=False\n"
     ]
    }
   ],
   "source": [
    "print(f'{año.isnumeric()=}')\n",
    "print(f'{mes.isnumeric()=}')"
   ]
  },
  {
   "cell_type": "code",
   "execution_count": 15,
   "id": "11ad61ac-85c4-494a-8070-b78982ede01e",
   "metadata": {
    "pycharm": {
     "name": "#%%\n"
    }
   },
   "outputs": [
    {
     "data": {
      "text/plain": [
       "10"
      ]
     },
     "execution_count": 15,
     "metadata": {},
     "output_type": "execute_result"
    }
   ],
   "source": [
    "len(mes)"
   ]
  },
  {
   "cell_type": "markdown",
   "id": "0079b999-e30d-40ac-a7d2-734e43b190c2",
   "metadata": {
    "pycharm": {
     "name": "#%% md\n"
    }
   },
   "source": [
    "## Operaciones con textos"
   ]
  },
  {
   "cell_type": "code",
   "execution_count": 16,
   "id": "00f3aa90-6f45-4e0c-aa29-872d0f4b2bb9",
   "metadata": {
    "pycharm": {
     "name": "#%%\n"
    }
   },
   "outputs": [],
   "source": [
    "ladrido = \"guau \""
   ]
  },
  {
   "cell_type": "code",
   "execution_count": 17,
   "id": "3f702a9a-bbc2-4aff-a830-4b7a4d502307",
   "metadata": {
    "pycharm": {
     "name": "#%%\n"
    }
   },
   "outputs": [
    {
     "data": {
      "text/plain": [
       "'guau guau guau '"
      ]
     },
     "execution_count": 17,
     "metadata": {},
     "output_type": "execute_result"
    }
   ],
   "source": [
    "ladrido * 3"
   ]
  },
  {
   "cell_type": "code",
   "execution_count": 18,
   "id": "7fca292d-a56a-4a9e-aa6e-66db59c34fea",
   "metadata": {
    "pycharm": {
     "name": "#%%\n"
    }
   },
   "outputs": [
    {
     "data": {
      "text/plain": [
       "'balónpie'"
      ]
     },
     "execution_count": 18,
     "metadata": {},
     "output_type": "execute_result"
    }
   ],
   "source": [
    "\"balón\"  + \"pie\""
   ]
  },
  {
   "cell_type": "markdown",
   "id": "48fda3a5-fda0-40f6-a801-ae51eeab8398",
   "metadata": {
    "pycharm": {
     "name": "#%% md\n"
    }
   },
   "source": [
    "## Contando palabras"
   ]
  },
  {
   "cell_type": "code",
   "execution_count": 19,
   "id": "72d53d1a-e3d5-4af2-b1aa-eaf9d2e3909f",
   "metadata": {
    "pycharm": {
     "name": "#%%\n"
    }
   },
   "outputs": [
    {
     "name": "stderr",
     "output_type": "stream",
     "text": [
      "C:\\ProgramData\\Anaconda3\\lib\\site-packages\\IPython\\core\\display.py:724: UserWarning: Consider using IPython.display.IFrame instead\n",
      "  warnings.warn(\"Consider using IPython.display.IFrame instead\")\n"
     ]
    },
    {
     "data": {
      "text/html": [
       "<iframe width=\"560\" height=\"315\" src=\"https://www.youtube.com/embed/nfWlot6h_JM?rel=0&amp;controls=0&amp;showinfo=0\" frameborder=\"0\" allowfullscreen></iframe>"
      ],
      "text/plain": [
       "<IPython.core.display.HTML object>"
      ]
     },
     "execution_count": 19,
     "metadata": {},
     "output_type": "execute_result"
    }
   ],
   "source": [
    "from IPython.display import HTML\n",
    "HTML('<iframe width=\"560\" height=\"315\" src=\"https://www.youtube.com/embed/nfWlot6h_JM?rel=0&amp;controls=0&amp;showinfo=0\" frameborder=\"0\" allowfullscreen></iframe>')"
   ]
  },
  {
   "cell_type": "code",
   "execution_count": 20,
   "id": "1f983169-c122-43c1-abce-b78b769cec3a",
   "metadata": {
    "pycharm": {
     "name": "#%%\n"
    }
   },
   "outputs": [
    {
     "name": "stdout",
     "output_type": "stream",
     "text": [
      "I stay out too late\n",
      "Got nothing in my brain\n",
      "That's what people say, mmm-mmm\n",
      "That's what people say, mmm-mmm\n",
      "\n",
      "I go on too many dates\n",
      "But I can't make them stay\n",
      "At least that's what people say, mmm-mmm\n",
      "That's what people say, mmm-mmm\n",
      "\n",
      "But I keep cruising\n",
      "Can't stop, won't stop moving\n",
      "It's like I got this music\n",
      "In my mind\n",
      "Saying, \"It's gonna be alright.\"\n",
      "\n",
      "'Cause the players gonna play, play, play, play, play\n",
      "And the haters gonna hate, hate, hate, hate, hate\n",
      "Baby, I'm just gonna shake, shake, shake, shake, shake\n",
      "I shake it off, I shake it off\n",
      "Heart-breakers gonna break, break, break, break, break\n",
      "And the fakers gonna fake, fake, fake, fake, fake\n",
      "Baby, I'm just gonna shake, shake, shake, shake, shake\n",
      "I shake it off, I shake it off\n",
      "\n",
      "I never miss a beat\n",
      "I'm lightning on my feet\n",
      "And that's what they don't see, mmm-mmm\n",
      "That's what they don't see, mmm-mmm\n",
      "\n",
      "I'm dancing on my own (dancing on my own)\n",
      "I make the moves up as I go (moves up as I go)\n",
      "And that's what they don't know, mmm-mmm\n",
      "That's what they don't know, mmm-mmm\n",
      "\n",
      "But I keep cruising\n",
      "Can't stop, won't stop grooving\n",
      "It's like I got this music\n",
      "In my mind\n",
      "Saying, \"It's gonna be alright.\"\n",
      "\n",
      "'Cause the players gonna play, play, play, play, play\n",
      "And the haters gonna hate, hate, hate, hate, hate\n",
      "Baby, I'm just gonna shake, shake, shake, shake, shake\n",
      "I shake it off, I shake it off\n",
      "Heart-breakers gonna break, break, break, break, break\n",
      "And the fakers gonna fake, fake, fake, fake, fake\n",
      "Baby, I'm just gonna shake, shake, shake, shake, shake\n",
      "I shake it off, I shake it off\n",
      "\n",
      "Shake it off, I shake it off,\n",
      "I, I, I shake it off, I shake it off,\n",
      "I, I, I shake it off, I shake it off,\n",
      "I, I, I shake it off, I shake it off\n",
      "\n",
      "Hey, hey, hey\n",
      "Just think while you've been getting down and out about the liars and the dirty, dirty cheats of the world,\n",
      "You could've been getting down to this sick beat.\n",
      "\n",
      "My ex-man brought his new girlfriend\n",
      "She's like \"Oh, my God!\" but I'm just gonna shake.\n",
      "And to the fella over there with the hella good hair\n",
      "Won't you come on over, baby? We can shake, shake, shake\n",
      "\n",
      "Yeah ohhh\n",
      "\n",
      "'Cause the players gonna play, play, play, play, play\n",
      "And the haters gonna hate, hate, hate, hate, hate (haters gonna hate)\n",
      "I'm just gonna shake, shake, shake, shake, shake\n",
      "I shake it off, I shake it off\n",
      "Heart-breakers gonna break, break, break, break, break (mmmm)\n",
      "And the fakers gonna fake, fake, fake, fake, fake (and fake, and fake, and fake)\n",
      "Baby, I'm just gonna shake, shake, shake, shake, shake\n",
      "I shake it off, I shake it off\n",
      "\n",
      "Shake it off, I shake it off,\n",
      "I, I, I shake it off, I shake it off,\n",
      "I, I, I shake it off, I shake it off\n",
      "I, I, I shake it off, I shake it off\n",
      "\n",
      "Shake it off, I shake it off,\n",
      "I, I, I shake it off, I shake it off,\n",
      "I, I, I shake it off, I shake it off,\n",
      "I, I, I shake it off, I shake it off\n",
      "\n",
      "Shake it off, I shake it off,\n",
      "I, I, I shake it off, I shake it off (you've got to),\n",
      "I, I, I shake it off, I shake it off,\n",
      "I, I, I shake it off, I shake it off\n"
     ]
    }
   ],
   "source": [
    "shake_it_off = open(\"shake-it-off.txt\", 'r', encoding='utf-8').read()\n",
    "\n",
    "print(shake_it_off)"
   ]
  },
  {
   "cell_type": "code",
   "execution_count": 21,
   "id": "92e4121e-e873-488c-b288-29b7dab3ddd2",
   "metadata": {
    "pycharm": {
     "name": "#%%\n"
    }
   },
   "outputs": [
    {
     "data": {
      "text/plain": [
       "78"
      ]
     },
     "execution_count": 21,
     "metadata": {},
     "output_type": "execute_result"
    }
   ],
   "source": [
    "shake_it_off.lower().count('shake')"
   ]
  },
  {
   "cell_type": "code",
   "execution_count": 22,
   "id": "b4a2319a-46a7-4252-bbda-34096387d536",
   "metadata": {
    "pycharm": {
     "name": "#%%\n"
    }
   },
   "outputs": [
    {
     "data": {
      "text/plain": [
       "21"
      ]
     },
     "execution_count": 22,
     "metadata": {},
     "output_type": "execute_result"
    }
   ],
   "source": [
    "shake_it_off.lower().count('fake')"
   ]
  },
  {
   "cell_type": "code",
   "execution_count": 23,
   "id": "0ec2cf49-c8a7-4067-8812-71d1dd8e0017",
   "metadata": {
    "pycharm": {
     "name": "#%%\n"
    }
   },
   "outputs": [
    {
     "data": {
      "text/plain": [
       "20"
      ]
     },
     "execution_count": 23,
     "metadata": {},
     "output_type": "execute_result"
    }
   ],
   "source": [
    "shake_it_off.lower().count('hate')"
   ]
  },
  {
   "cell_type": "code",
   "execution_count": 24,
   "id": "949f5266-7637-4950-97df-3d1946ef572a",
   "metadata": {
    "pycharm": {
     "name": "#%%\n"
    }
   },
   "outputs": [
    {
     "data": {
      "text/plain": [
       "18"
      ]
     },
     "execution_count": 24,
     "metadata": {},
     "output_type": "execute_result"
    }
   ],
   "source": [
    "shake_it_off.lower().count('play')"
   ]
  },
  {
   "cell_type": "markdown",
   "id": "93a52b19-b700-4986-9fb1-4f07f3d83d2f",
   "metadata": {
    "pycharm": {
     "name": "#%% md\n"
    }
   },
   "source": [
    "## Uniendo textos"
   ]
  },
  {
   "cell_type": "code",
   "execution_count": 25,
   "id": "ccbad99c-fbad-4bb9-82ca-0ec6596d2eec",
   "metadata": {
    "pycharm": {
     "name": "#%%\n"
    }
   },
   "outputs": [
    {
     "data": {
      "text/plain": [
       "['1', '1', '2', '3', '5', '8', '13', '21', '34', '55', '89']"
      ]
     },
     "execution_count": 25,
     "metadata": {},
     "output_type": "execute_result"
    }
   ],
   "source": [
    "separados = fibonacci_str.split(\",\")\n",
    "separados"
   ]
  },
  {
   "cell_type": "code",
   "execution_count": 26,
   "id": "aedfc255-6a41-43d0-bab6-2e11ac9f6788",
   "metadata": {
    "pycharm": {
     "name": "#%%\n"
    }
   },
   "outputs": [
    {
     "data": {
      "text/plain": [
       "'1 + 1 + 2 + 3 + 5 + 8 + 13 + 21 + 34 + 55 + 89'"
      ]
     },
     "execution_count": 26,
     "metadata": {},
     "output_type": "execute_result"
    }
   ],
   "source": [
    "' + '.join(separados) "
   ]
  },
  {
   "cell_type": "markdown",
   "id": "94628d7d-45da-410f-a148-353546bba984",
   "metadata": {
    "pycharm": {
     "name": "#%% md\n"
    }
   },
   "source": [
    "## Operación \"slice\" con textos"
   ]
  },
  {
   "cell_type": "code",
   "execution_count": 27,
   "id": "8e9b0802-929e-447b-b482-7913375ca350",
   "metadata": {
    "pycharm": {
     "name": "#%%\n"
    }
   },
   "outputs": [],
   "source": [
    "libro = \"El ingenioso hidalgo don Quijote de la Mancha\""
   ]
  },
  {
   "cell_type": "code",
   "execution_count": 28,
   "id": "4b68fc48-a31a-46a6-8f71-67e763dcfd90",
   "metadata": {
    "pycharm": {
     "name": "#%%\n"
    }
   },
   "outputs": [
    {
     "data": {
      "text/plain": [
       "'El ingenio'"
      ]
     },
     "execution_count": 28,
     "metadata": {},
     "output_type": "execute_result"
    }
   ],
   "source": [
    "libro[:10]"
   ]
  },
  {
   "cell_type": "code",
   "execution_count": 29,
   "id": "c6cb112c-4334-4934-9ba3-62f7454a4376",
   "metadata": {
    "pycharm": {
     "name": "#%%\n"
    }
   },
   "outputs": [
    {
     "data": {
      "text/plain": [
       "'Mancha'"
      ]
     },
     "execution_count": 29,
     "metadata": {},
     "output_type": "execute_result"
    }
   ],
   "source": [
    "libro[-6:]"
   ]
  },
  {
   "cell_type": "code",
   "execution_count": 30,
   "id": "9aaa3ebb-9e9c-495b-9807-a5e276d8b82d",
   "metadata": {
    "pycharm": {
     "name": "#%%\n"
    }
   },
   "outputs": [
    {
     "data": {
      "text/plain": [
       "'roma'"
      ]
     },
     "execution_count": 30,
     "metadata": {},
     "output_type": "execute_result"
    }
   ],
   "source": [
    "'amor'[::-1]"
   ]
  },
  {
   "cell_type": "markdown",
   "id": "16f580b6-8421-462e-a381-d9d743be4d37",
   "metadata": {
    "pycharm": {
     "name": "#%% md\n"
    }
   },
   "source": [
    "## Acomodando texto en un formato"
   ]
  },
  {
   "cell_type": "code",
   "execution_count": 31,
   "id": "44bcb294-98ec-478b-aff3-a580a75caec7",
   "metadata": {
    "pycharm": {
     "name": "#%%\n"
    }
   },
   "outputs": [
    {
     "name": "stdout",
     "output_type": "stream",
     "text": [
      "======================================================\n",
      "                  TÍTULO DE MI LIBRO                  \n",
      "                    Fulano de la O                    \n",
      "\n",
      "\n",
      "                                                EC4301\n",
      "\n",
      "\n",
      "/°\\/°\\/°\\/°\\/°\\/°\\/°\\/°\\/°\\/°\\/°\\/°\\/°\\/°\\/°\\/°\\/°\\/°\\\n",
      "\\_/\\_/\\_/\\_/\\_/\\_/\\_/\\_/\\_/\\_/\\_/\\_/\\_/\\_/\\_/\\_/\\_/\\_/\n"
     ]
    }
   ],
   "source": [
    "ancho_línea = 54\n",
    "\n",
    "print(\"=\" * ancho_línea)\n",
    "print(\"Título de mi libro\".upper().center(ancho_línea))\n",
    "print(\"Fulano de la O\".center(ancho_línea))\n",
    "print(\"\\n\")\n",
    "print(\"EC4301\".rjust(ancho_línea))\n",
    "print(\"\\n\")\n",
    "print(\"/°\\\\\" * (ancho_línea//3))\n",
    "print(\"\\\\_/\" * (ancho_línea//3))"
   ]
  },
  {
   "cell_type": "markdown",
   "id": "b30de7dc-a64a-4f9c-9da3-739fcc5c87a4",
   "metadata": {
    "pycharm": {
     "name": "#%% md\n"
    }
   },
   "source": [
    "## Interpolando texto"
   ]
  },
  {
   "cell_type": "code",
   "execution_count": 32,
   "id": "3e7dd666-efe2-4b6a-b70b-d9e35be3bc86",
   "metadata": {
    "pycharm": {
     "name": "#%%\n"
    }
   },
   "outputs": [],
   "source": [
    "diasemana = 'lunes'\n",
    "dia = 30\n",
    "mes = 'Febrero'\n",
    "año = 2020"
   ]
  },
  {
   "cell_type": "code",
   "execution_count": 33,
   "id": "dff110eb-6de5-42e9-b5af-90d103a05145",
   "metadata": {
    "pycharm": {
     "name": "#%%\n"
    }
   },
   "outputs": [
    {
     "data": {
      "text/plain": [
       "'Hoy es lunes 30 de Febrero de 2020'"
      ]
     },
     "execution_count": 33,
     "metadata": {},
     "output_type": "execute_result"
    }
   ],
   "source": [
    "\"Hoy es %s %d de %s de %d\" % (diasemana, dia, mes, año)"
   ]
  },
  {
   "cell_type": "code",
   "execution_count": 34,
   "id": "2bc3ed5c-2510-4a09-9d22-3e86fee22296",
   "metadata": {
    "pycharm": {
     "name": "#%%\n"
    }
   },
   "outputs": [
    {
     "data": {
      "text/plain": [
       "'Hoy es lunes 30 de Febrero de 2020'"
      ]
     },
     "execution_count": 34,
     "metadata": {},
     "output_type": "execute_result"
    }
   ],
   "source": [
    "\"Hoy es {0} {1} de {2} de {3}\".format(diasemana, dia, mes, año)"
   ]
  },
  {
   "cell_type": "code",
   "execution_count": 35,
   "id": "cab2eae0-84ae-4f03-89f5-48724a0cd87b",
   "metadata": {
    "pycharm": {
     "name": "#%%\n"
    }
   },
   "outputs": [
    {
     "data": {
      "text/plain": [
       "'Hoy es LUNES 29 de Febrero de 2020'"
      ]
     },
     "execution_count": 35,
     "metadata": {},
     "output_type": "execute_result"
    }
   ],
   "source": [
    "f\"Hoy es {diasemana.upper()} {dia-1} de {mes.title()} de {año}\""
   ]
  },
  {
   "cell_type": "code",
   "execution_count": 36,
   "id": "28c64561-6be0-4ac8-b261-d1bb0d09b0a9",
   "metadata": {
    "pycharm": {
     "name": "#%%\n"
    }
   },
   "outputs": [
    {
     "data": {
      "text/plain": [
       "0.14285714285714285"
      ]
     },
     "execution_count": 36,
     "metadata": {},
     "output_type": "execute_result"
    }
   ],
   "source": [
    "x = 1/7\n",
    "x"
   ]
  },
  {
   "cell_type": "code",
   "execution_count": 37,
   "id": "34c7b9d0-8a54-47fe-a091-57eead8311af",
   "metadata": {
    "pycharm": {
     "name": "#%%\n"
    }
   },
   "outputs": [
    {
     "data": {
      "text/plain": [
       "'x es igual a         0.14286'"
      ]
     },
     "execution_count": 37,
     "metadata": {},
     "output_type": "execute_result"
    }
   ],
   "source": [
    "f\"x es igual a {x:15.5f}\""
   ]
  }
 ],
 "metadata": {
  "kernelspec": {
   "display_name": "Python 3 (ipykernel)",
   "language": "python",
   "name": "python3"
  },
  "language_info": {
   "codemirror_mode": {
    "name": "ipython",
    "version": 3
   },
   "file_extension": ".py",
   "mimetype": "text/x-python",
   "name": "python",
   "nbconvert_exporter": "python",
   "pygments_lexer": "ipython3",
   "version": "3.9.7"
  }
 },
 "nbformat": 4,
 "nbformat_minor": 5
}