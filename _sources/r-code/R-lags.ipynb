{
 "cells": [
  {
   "cell_type": "markdown",
   "id": "parental-alabama",
   "metadata": {},
   "source": [
    "(Rcode-lags)=\n",
    "# Rezagos con R\n",
    "\n",
    "**Ejemplo numérico para ilustrar el uso de los operadores de rezago, diferencia, y diferencia estacional.**"
   ]
  },
  {
   "cell_type": "markdown",
   "id": "occasional-receptor",
   "metadata": {},
   "source": [
    "Basado en Levendis 2018 Time Series Econometrics, pp4-5"
   ]
  },
  {
   "cell_type": "markdown",
   "id": "distinguished-nightmare",
   "metadata": {},
   "source": [
    "Importar las librerías necesarias"
   ]
  },
  {
   "cell_type": "code",
   "execution_count": 1,
   "id": "recognized-buyer",
   "metadata": {},
   "outputs": [
    {
     "name": "stderr",
     "output_type": "stream",
     "text": [
      "── \u001b[1mAttaching packages\u001b[22m ──────────────────────────────────────────────────────────────────────────────────────────────────────────────────────────────────────────── fpp3 0.4.0 ──\n",
      "\n"
     ]
    },
    {
     "name": "stderr",
     "output_type": "stream",
     "text": [
      "\u001b[32m✔\u001b[39m \u001b[34mtibble     \u001b[39m 3.1.0      \u001b[32m✔\u001b[39m \u001b[34mtsibble    \u001b[39m 1.0.0 \n",
      "\u001b[32m✔\u001b[39m \u001b[34mdplyr      \u001b[39m 1.0.5      \u001b[32m✔\u001b[39m \u001b[34mtsibbledata\u001b[39m 0.3.0 \n",
      "\u001b[32m✔\u001b[39m \u001b[34mtidyr      \u001b[39m 1.1.3      \u001b[32m✔\u001b[39m \u001b[34mfeasts     \u001b[39m 0.1.7 \n",
      "\u001b[32m✔\u001b[39m \u001b[34mlubridate  \u001b[39m 1.7.10     \u001b[32m✔\u001b[39m \u001b[34mfable      \u001b[39m 0.3.0 \n",
      "\u001b[32m✔\u001b[39m \u001b[34mggplot2    \u001b[39m 3.3.3      \n",
      "\n"
     ]
    },
    {
     "name": "stderr",
     "output_type": "stream",
     "text": [
      "── \u001b[1mConflicts\u001b[22m ───────────────────────────────────────────────────────────────────────────────────────────────────────────────────────────────────────────────── fpp3_conflicts ──\n",
      "\u001b[31m✖\u001b[39m \u001b[34mlubridate\u001b[39m::\u001b[32mdate()\u001b[39m    masks \u001b[34mbase\u001b[39m::date()\n",
      "\u001b[31m✖\u001b[39m \u001b[34mdplyr\u001b[39m::\u001b[32mfilter()\u001b[39m      masks \u001b[34mstats\u001b[39m::filter()\n",
      "\u001b[31m✖\u001b[39m \u001b[34mtsibble\u001b[39m::\u001b[32mintersect()\u001b[39m masks \u001b[34mbase\u001b[39m::intersect()\n",
      "\u001b[31m✖\u001b[39m \u001b[34mtsibble\u001b[39m::\u001b[32minterval()\u001b[39m  masks \u001b[34mlubridate\u001b[39m::interval()\n",
      "\u001b[31m✖\u001b[39m \u001b[34mdplyr\u001b[39m::\u001b[32mlag()\u001b[39m         masks \u001b[34mstats\u001b[39m::lag()\n",
      "\u001b[31m✖\u001b[39m \u001b[34mtsibble\u001b[39m::\u001b[32msetdiff()\u001b[39m   masks \u001b[34mbase\u001b[39m::setdiff()\n",
      "\u001b[31m✖\u001b[39m \u001b[34mtsibble\u001b[39m::\u001b[32munion()\u001b[39m     masks \u001b[34mbase\u001b[39m::union()\n",
      "\n"
     ]
    }
   ],
   "source": [
    "library(readr)\n",
    "library(fpp3)"
   ]
  },
  {
   "cell_type": "markdown",
   "id": "several-thursday",
   "metadata": {},
   "source": [
    "Leer una serie de tiempo ficticia de data\\LandD.csv, declarar los datos como serie de tiempo"
   ]
  },
  {
   "cell_type": "code",
   "execution_count": 2,
   "id": "noble-setup",
   "metadata": {},
   "outputs": [
    {
     "name": "stderr",
     "output_type": "stream",
     "text": [
      "\n",
      "\u001b[36m──\u001b[39m \u001b[1m\u001b[1mColumn specification\u001b[1m\u001b[22m \u001b[36m────────────────────────────────────────────────────────────────────────────────────────────────────────────────────────────────────────────────────────\u001b[39m\n",
      "cols(\n",
      "  trimestre = \u001b[31mcol_character()\u001b[39m,\n",
      "  y = \u001b[32mcol_double()\u001b[39m\n",
      ")\n",
      "\n",
      "\n"
     ]
    },
    {
     "data": {
      "text/html": [
       "<table class=\"dataframe\">\n",
       "<caption>A tbl_ts: 8 × 2</caption>\n",
       "<thead>\n",
       "\t<tr><th scope=col>trimestre</th><th scope=col>y</th></tr>\n",
       "\t<tr><th scope=col>&lt;qtr&gt;</th><th scope=col>&lt;dbl&gt;</th></tr>\n",
       "</thead>\n",
       "<tbody>\n",
       "\t<tr><td>2018 Q1</td><td>10</td></tr>\n",
       "\t<tr><td>2018 Q2</td><td>13</td></tr>\n",
       "\t<tr><td>2018 Q3</td><td>10</td></tr>\n",
       "\t<tr><td>2018 Q4</td><td> 8</td></tr>\n",
       "\t<tr><td>2019 Q1</td><td>15</td></tr>\n",
       "\t<tr><td>2019 Q2</td><td>16</td></tr>\n",
       "\t<tr><td>2019 Q3</td><td>14</td></tr>\n",
       "\t<tr><td>2019 Q4</td><td>11</td></tr>\n",
       "</tbody>\n",
       "</table>\n"
      ],
      "text/latex": [
       "A tbl\\_ts: 8 × 2\n",
       "\\begin{tabular}{ll}\n",
       " trimestre & y\\\\\n",
       " <qtr> & <dbl>\\\\\n",
       "\\hline\n",
       "\t 2018 Q1 & 10\\\\\n",
       "\t 2018 Q2 & 13\\\\\n",
       "\t 2018 Q3 & 10\\\\\n",
       "\t 2018 Q4 &  8\\\\\n",
       "\t 2019 Q1 & 15\\\\\n",
       "\t 2019 Q2 & 16\\\\\n",
       "\t 2019 Q3 & 14\\\\\n",
       "\t 2019 Q4 & 11\\\\\n",
       "\\end{tabular}\n"
      ],
      "text/markdown": [
       "\n",
       "A tbl_ts: 8 × 2\n",
       "\n",
       "| trimestre &lt;qtr&gt; | y &lt;dbl&gt; |\n",
       "|---|---|\n",
       "| 2018 Q1 | 10 |\n",
       "| 2018 Q2 | 13 |\n",
       "| 2018 Q3 | 10 |\n",
       "| 2018 Q4 |  8 |\n",
       "| 2019 Q1 | 15 |\n",
       "| 2019 Q2 | 16 |\n",
       "| 2019 Q3 | 14 |\n",
       "| 2019 Q4 | 11 |\n",
       "\n"
      ],
      "text/plain": [
       "  trimestre y \n",
       "1 2018 Q1   10\n",
       "2 2018 Q2   13\n",
       "3 2018 Q3   10\n",
       "4 2018 Q4    8\n",
       "5 2019 Q1   15\n",
       "6 2019 Q2   16\n",
       "7 2019 Q3   14\n",
       "8 2019 Q4   11"
      ]
     },
     "metadata": {},
     "output_type": "display_data"
    }
   ],
   "source": [
    "datos <- read_csv(\"../data/LandD.csv\") %>%\n",
    "  mutate(trimestre = yearquarter(trimestre)) %>%\n",
    "  as_tsibble(index=trimestre) %>%\n",
    "  select(trimestre, y)\n",
    "\n",
    "datos"
   ]
  },
  {
   "cell_type": "markdown",
   "id": "anticipated-collect",
   "metadata": {},
   "source": [
    "Operador de rezagos"
   ]
  },
  {
   "cell_type": "code",
   "execution_count": 3,
   "id": "golden-reader",
   "metadata": {},
   "outputs": [],
   "source": [
    "datos <- datos %>% mutate(\n",
    "  Lag_y = lag(y),\n",
    "  Lag2_y = lag(y, 2)\n",
    ")"
   ]
  },
  {
   "cell_type": "markdown",
   "id": "useful-meter",
   "metadata": {},
   "source": [
    "Operador de diferencias"
   ]
  },
  {
   "cell_type": "code",
   "execution_count": 4,
   "id": "transsexual-nowhere",
   "metadata": {},
   "outputs": [],
   "source": [
    "datos <- datos %>% mutate(\n",
    "  D_y = difference(y),\n",
    "  D2_y = difference(y, differences = 2)\n",
    ")"
   ]
  },
  {
   "cell_type": "markdown",
   "id": "manufactured-louis",
   "metadata": {},
   "source": [
    "Operador de diferencia estacional"
   ]
  },
  {
   "cell_type": "code",
   "execution_count": 5,
   "id": "agricultural-official",
   "metadata": {},
   "outputs": [],
   "source": [
    "datos <- datos %>% mutate(\n",
    "  S_y = difference(y, lag = 4)\n",
    ")"
   ]
  },
  {
   "cell_type": "markdown",
   "id": "sized-commission",
   "metadata": {},
   "source": [
    "Mostrar los resultados"
   ]
  },
  {
   "cell_type": "code",
   "execution_count": 6,
   "id": "retained-parker",
   "metadata": {},
   "outputs": [
    {
     "name": "stdout",
     "output_type": "stream",
     "text": [
      "\u001b[90m# A tsibble: 8 x 7 [1Q]\u001b[39m\n",
      "  trimestre     y Lag_y Lag2_y   D_y  D2_y   S_y\n",
      "      \u001b[3m\u001b[90m<qtr>\u001b[39m\u001b[23m \u001b[3m\u001b[90m<dbl>\u001b[39m\u001b[23m \u001b[3m\u001b[90m<dbl>\u001b[39m\u001b[23m  \u001b[3m\u001b[90m<dbl>\u001b[39m\u001b[23m \u001b[3m\u001b[90m<dbl>\u001b[39m\u001b[23m \u001b[3m\u001b[90m<dbl>\u001b[39m\u001b[23m \u001b[3m\u001b[90m<dbl>\u001b[39m\u001b[23m\n",
      "\u001b[90m1\u001b[39m   2018 Q1    10    \u001b[31mNA\u001b[39m     \u001b[31mNA\u001b[39m    \u001b[31mNA\u001b[39m    \u001b[31mNA\u001b[39m    \u001b[31mNA\u001b[39m\n",
      "\u001b[90m2\u001b[39m   2018 Q2    13    10     \u001b[31mNA\u001b[39m     3    \u001b[31mNA\u001b[39m    \u001b[31mNA\u001b[39m\n",
      "\u001b[90m3\u001b[39m   2018 Q3    10    13     10    -\u001b[31m3\u001b[39m    -\u001b[31m6\u001b[39m    \u001b[31mNA\u001b[39m\n",
      "\u001b[90m4\u001b[39m   2018 Q4     8    10     13    -\u001b[31m2\u001b[39m     1    \u001b[31mNA\u001b[39m\n",
      "\u001b[90m5\u001b[39m   2019 Q1    15     8     10     7     9     5\n",
      "\u001b[90m6\u001b[39m   2019 Q2    16    15      8     1    -\u001b[31m6\u001b[39m     3\n",
      "\u001b[90m7\u001b[39m   2019 Q3    14    16     15    -\u001b[31m2\u001b[39m    -\u001b[31m3\u001b[39m     4\n",
      "\u001b[90m8\u001b[39m   2019 Q4    11    14     16    -\u001b[31m3\u001b[39m    -\u001b[31m1\u001b[39m     3\n"
     ]
    }
   ],
   "source": [
    "show(datos)"
   ]
  },
  {
   "cell_type": "markdown",
   "id": "painful-worship",
   "metadata": {},
   "source": [
    "{ref}`Volver al texto principal.<example-lags-and-diffs>`"
   ]
  }
 ],
 "metadata": {
  "jupytext": {
   "text_representation": {
    "extension": ".md",
    "format_name": "myst",
    "format_version": 0.13,
    "jupytext_version": "1.10.3"
   }
  },
  "kernelspec": {
   "display_name": "R",
   "language": "R",
   "name": "ir"
  },
  "language_info": {
   "codemirror_mode": "r",
   "file_extension": ".r",
   "mimetype": "text/x-r-source",
   "name": "R",
   "pygments_lexer": "r",
   "version": "4.0.4"
  },
  "source_map": [
   12,
   19,
   23,
   27,
   30,
   34,
   41,
   45,
   50,
   54,
   59,
   63,
   67,
   71,
   73
  ]
 },
 "nbformat": 4,
 "nbformat_minor": 5
}