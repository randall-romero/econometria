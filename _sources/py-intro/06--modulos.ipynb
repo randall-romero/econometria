{
 "cells": [
  {
   "cell_type": "markdown",
   "id": "postal-native",
   "metadata": {},
   "source": [
    "# Módulos\n",
    "\n",
    "<div class = \"video-w\">\n",
    "    <div class = \"video-container\">\n",
    "        <iframe width=\"560\" height=\"315\" src=\"https://www.youtube.com/embed/-KnsVpFhh3M\" frameborder=\"0\" allow=\"accelerometer; autoplay; clipboard-write; encrypted-media; gyroscope; picture-in-picture\" allowfullscreen></iframe>\n",
    "    </div>\n",
    "</div>\n",
    "\n",
    "\n",
    "## Importando módulos\n",
    "\n",
    "\n",
    "* Las definiciones de funciones en Python en uno o más archivos separados para facilitar su manteniniento y para permitir usarlos en varios programas sin copiar las definiciones en cada uno.\n",
    "\n",
    "* Cada archivo que almacenda definciones de funciones se llama “módulo” y el nombre del módulo es igual al del archivo pero sin la extensión “.py”.\n",
    "\n",
    "* Las funciones almacenadas en un módulo están disponibles para un programa usando la palabra clave ```import``` seguida del nombre del módulo.\n",
    "\n",
    "* Aunque no es esencial, se acostumbra poner las instrucciones ```import``` al inicio del programa.\n",
    "\n",
    "* Las funciones importadas pueden usarse llamando su nombre como un \"punto-sufijo\" luego del nombre del módulo. Por ejemplo, una función `sqrt` de un módulo importado `numpy` puede llamarse con `numpy.sqrt()`\n",
    "\n",
    "\n",
    "\n",
    "## Algunos paquetes (módulos) muy útiles\n",
    "\n",
    "En nuestro curso, los siguientes paquetes (= colecciones de módulos) serán muy útiles\n",
    "* `numpy` Paquete base para arreglos N-dimensional. Operaciones matemáticas, especialmente álgebra lineal\n",
    "* `matplotlib` gráficos 2D\n",
    "* `pandas` estructuras para almacenar y analizar datos\n",
    "* `scipy` librería fundamental para computación científica\n",
    "* `bccr` ofrece funciones para descargar datos del Banco Central de Costa Rica\n",
    "* `macrodemos` contiene demos de conceptos macroeconométricos, por ejemplo los modelos ARMA\n",
    "* `compecon` Para resolver modelos de economía computacional\n",
    "\n",
    "\n",
    "\n",
    "### Algunos ejemplos:\n",
    "\n",
    "Para importar `numpy`"
   ]
  },
  {
   "cell_type": "code",
   "execution_count": 1,
   "id": "driven-feeding",
   "metadata": {},
   "outputs": [
    {
     "data": {
      "text/plain": [
       "3.0"
      ]
     },
     "execution_count": 1,
     "metadata": {},
     "output_type": "execute_result"
    }
   ],
   "source": [
    "import numpy\n",
    "numpy.sqrt(9)"
   ]
  },
  {
   "cell_type": "markdown",
   "id": "brief-consciousness",
   "metadata": {},
   "source": [
    "Mismo ejemplo, pero dándolo un “alias” al módulo"
   ]
  },
  {
   "cell_type": "code",
   "execution_count": 2,
   "id": "after-silicon",
   "metadata": {},
   "outputs": [
    {
     "data": {
      "text/plain": [
       "3.0"
      ]
     },
     "execution_count": 2,
     "metadata": {},
     "output_type": "execute_result"
    }
   ],
   "source": [
    "import numpy as np\n",
    "np.sqrt(9)"
   ]
  },
  {
   "cell_type": "markdown",
   "id": "measured-convention",
   "metadata": {},
   "source": [
    "Mismo ejemplo, pero importando solo la función `sqrt`"
   ]
  },
  {
   "cell_type": "code",
   "execution_count": 3,
   "id": "formed-rolling",
   "metadata": {},
   "outputs": [
    {
     "data": {
      "text/plain": [
       "3.0"
      ]
     },
     "execution_count": 3,
     "metadata": {},
     "output_type": "execute_result"
    }
   ],
   "source": [
    "from numpy import sqrt, cos, sin\n",
    "sqrt(9)"
   ]
  },
  {
   "cell_type": "markdown",
   "id": "happy-peace",
   "metadata": {},
   "source": [
    "## ¿Por qué trabajar con módulos?\n",
    "\n",
    "* Una ventaja de organizar el código en módulos y paquetes es evitar desordenar el espacio de nombres.\n",
    "* Los módulos permites tener funciones del mismo nombre en espacios de nombre separados, obligándonos a ser explícitos acerca de cuál es la que usamos.\n",
    "\n",
    "\n",
    "\n",
    "Por ejemplo, tanto `math` como `numpy` tienen una función `cos` para computar el coseno, pero su implementación es muy distinta.\n",
    "\n",
    "### Con `numpy`:"
   ]
  },
  {
   "cell_type": "code",
   "execution_count": 4,
   "id": "retired-newsletter",
   "metadata": {},
   "outputs": [
    {
     "name": "stdout",
     "output_type": "stream",
     "text": [
      "1.0\n",
      "[ 1.          0.54030231 -1.        ]\n"
     ]
    }
   ],
   "source": [
    "import numpy as np\n",
    "π = np.pi\n",
    "print(np.cos(0))\n",
    "print(np.cos([0,   1,   π]))"
   ]
  },
  {
   "cell_type": "markdown",
   "id": "sufficient-underwear",
   "metadata": {},
   "source": [
    "### Con `math`:"
   ]
  },
  {
   "cell_type": "code",
   "execution_count": 5,
   "id": "scheduled-bicycle",
   "metadata": {
    "tags": [
     "raises-exception"
    ]
   },
   "outputs": [
    {
     "name": "stdout",
     "output_type": "stream",
     "text": [
      "1.0\n"
     ]
    },
    {
     "ename": "TypeError",
     "evalue": "must be real number, not list",
     "output_type": "error",
     "traceback": [
      "\u001b[0;31m---------------------------------------------------------------------------\u001b[0m",
      "\u001b[0;31mTypeError\u001b[0m                                 Traceback (most recent call last)",
      "\u001b[0;32m<ipython-input-5-91f3b7dbd55b>\u001b[0m in \u001b[0;36m<module>\u001b[0;34m\u001b[0m\n\u001b[1;32m      1\u001b[0m \u001b[0;32mimport\u001b[0m \u001b[0mmath\u001b[0m\u001b[0;34m\u001b[0m\u001b[0;34m\u001b[0m\u001b[0m\n\u001b[1;32m      2\u001b[0m \u001b[0mprint\u001b[0m\u001b[0;34m(\u001b[0m\u001b[0mmath\u001b[0m\u001b[0;34m.\u001b[0m\u001b[0mcos\u001b[0m\u001b[0;34m(\u001b[0m\u001b[0;36m0\u001b[0m\u001b[0;34m)\u001b[0m\u001b[0;34m)\u001b[0m\u001b[0;34m\u001b[0m\u001b[0;34m\u001b[0m\u001b[0m\n\u001b[0;32m----> 3\u001b[0;31m \u001b[0mprint\u001b[0m\u001b[0;34m(\u001b[0m\u001b[0mmath\u001b[0m\u001b[0;34m.\u001b[0m\u001b[0mcos\u001b[0m\u001b[0;34m(\u001b[0m\u001b[0;34m[\u001b[0m\u001b[0;36m0\u001b[0m\u001b[0;34m,\u001b[0m\u001b[0;36m1\u001b[0m\u001b[0;34m,\u001b[0m \u001b[0mπ\u001b[0m\u001b[0;34m]\u001b[0m\u001b[0;34m)\u001b[0m\u001b[0;34m)\u001b[0m\u001b[0;34m\u001b[0m\u001b[0;34m\u001b[0m\u001b[0m\n\u001b[0m",
      "\u001b[0;31mTypeError\u001b[0m: must be real number, not list"
     ]
    }
   ],
   "source": [
    "import math\n",
    "print(math.cos(0))\n",
    "print(math.cos([0,1, π]))"
   ]
  },
  {
   "cell_type": "markdown",
   "id": "concerned-oxide",
   "metadata": {},
   "source": [
    "## Iteración más rápida"
   ]
  },
  {
   "cell_type": "code",
   "execution_count": 6,
   "id": "desirable-pierce",
   "metadata": {},
   "outputs": [],
   "source": [
    "nrep = 12_000\n",
    "values = list(range(nrep))"
   ]
  },
  {
   "cell_type": "code",
   "execution_count": 7,
   "id": "fifteen-strain",
   "metadata": {},
   "outputs": [
    {
     "name": "stdout",
     "output_type": "stream",
     "text": [
      "3.34 ms ± 13.8 µs per loop (mean ± std. dev. of 7 runs, 100 loops each)\n"
     ]
    }
   ],
   "source": [
    "%%timeit\n",
    "option0 = np.empty_like(values)\n",
    "\n",
    "for i, x in enumerate(values):\n",
    "    option0[i] = math.cos(x)"
   ]
  },
  {
   "cell_type": "code",
   "execution_count": 8,
   "id": "oriental-system",
   "metadata": {},
   "outputs": [
    {
     "name": "stdout",
     "output_type": "stream",
     "text": [
      "1.82 ms ± 17.1 µs per loop (mean ± std. dev. of 7 runs, 1000 loops each)\n"
     ]
    }
   ],
   "source": [
    "%%timeit\n",
    "option1 = list()\n",
    "for x in values:\n",
    "    option1.append(math.cos(x))"
   ]
  },
  {
   "cell_type": "code",
   "execution_count": 9,
   "id": "speaking-wisdom",
   "metadata": {},
   "outputs": [
    {
     "name": "stdout",
     "output_type": "stream",
     "text": [
      "1.39 ms ± 74 µs per loop (mean ± std. dev. of 7 runs, 1000 loops each)\n"
     ]
    }
   ],
   "source": [
    "%%timeit\n",
    "option2 = [math.cos(x) for x in values]"
   ]
  },
  {
   "cell_type": "code",
   "execution_count": 10,
   "id": "civilian-investigator",
   "metadata": {},
   "outputs": [
    {
     "name": "stdout",
     "output_type": "stream",
     "text": [
      "958 µs ± 82.5 µs per loop (mean ± std. dev. of 7 runs, 1000 loops each)\n"
     ]
    }
   ],
   "source": [
    "%%timeit\n",
    "option3 = np.cos(values)"
   ]
  },
  {
   "cell_type": "markdown",
   "id": "mighty-treaty",
   "metadata": {},
   "source": [
    "## Ejemplo de módulo: Trabajando con decimales\n",
    "\n",
    "Los programas de cómputo que ejecutan aritmética con números de punto flotante pueden producir resultados inesperados e imprecisos porque los números de punto flotante no pueden representar adecuadamente todos los número decimales."
   ]
  },
  {
   "cell_type": "code",
   "execution_count": 11,
   "id": "usual-binding",
   "metadata": {},
   "outputs": [
    {
     "name": "stdout",
     "output_type": "stream",
     "text": [
      "item  = 0.70\n",
      "tax   = 0.73\n",
      "total = 1.44\n"
     ]
    }
   ],
   "source": [
    "item, rate = 0.70, 1.05\n",
    "tax = item * rate\n",
    "total = item + tax\n",
    "txt, val = ['item','tax','total'], [item,tax,total]\n",
    "\n",
    "for tt, vv in zip(txt, val):\n",
    "    print(f'{tt:5s} = {vv:.2f}')"
   ]
  },
  {
   "cell_type": "markdown",
   "id": "economic-hypothetical",
   "metadata": {},
   "source": [
    "Con más decimales"
   ]
  },
  {
   "cell_type": "code",
   "execution_count": 12,
   "id": "exposed-console",
   "metadata": {},
   "outputs": [
    {
     "name": "stdout",
     "output_type": "stream",
     "text": [
      "item     = 0.69999999999999995559\n",
      "tax      = 0.73499999999999998668\n",
      "total    = 1.43500000000000005329\n"
     ]
    }
   ],
   "source": [
    "for tt, vv in zip(txt, val):\n",
    "    print(f'{tt:8s} = {vv:.20f}')"
   ]
  },
  {
   "cell_type": "markdown",
   "id": "every-shoot",
   "metadata": {},
   "source": [
    "Los errores de la aritmética de punto flotante pueden evitarse usando el módulo de Python `decimal`. Este módulo contiene un objeto `Decimal()` con el cual los números de punto flotante pueden representarse con más precisión."
   ]
  },
  {
   "cell_type": "code",
   "execution_count": 13,
   "id": "monetary-grade",
   "metadata": {},
   "outputs": [
    {
     "name": "stdout",
     "output_type": "stream",
     "text": [
      "item  = 0.70\n",
      "tax   = 0.74\n",
      "total = 1.44\n"
     ]
    }
   ],
   "source": [
    "from decimal import Decimal\n",
    "item, rate = Decimal('0.70'), Decimal('1.05')\n",
    "tax = item * rate\n",
    "total = item + tax\n",
    "\n",
    "txt, val = ['item','tax','total'], [item,tax,total]\n",
    "\n",
    "for tt, vv in zip(txt, val):\n",
    "    print(f'{tt:5s} = {vv:.2f}')"
   ]
  },
  {
   "cell_type": "markdown",
   "id": "severe-industry",
   "metadata": {},
   "source": [
    "With more decimals"
   ]
  },
  {
   "cell_type": "code",
   "execution_count": 14,
   "id": "frozen-fireplace",
   "metadata": {},
   "outputs": [
    {
     "name": "stdout",
     "output_type": "stream",
     "text": [
      "item  = 0.70000000000000000000\n",
      "tax   = 0.73500000000000000000\n",
      "total = 1.43500000000000000000\n"
     ]
    }
   ],
   "source": [
    "for tt, vv in zip(txt, val):\n",
    "    print(f'{tt:5s} = {vv:.20f}')"
   ]
  },
  {
   "cell_type": "markdown",
   "id": "chubby-breed",
   "metadata": {},
   "source": [
    "## Creando un módulo\n",
    "\n",
    "Los módulo son muy convenientes para almacenar funciones relacionadas en un solo archivo, de manera que podamos mantener el orden en nuestro proyecto y además reutilizar esas funciones en distintos lugares.\n",
    "\n",
    "Por ejemplo, archivo **temperaturas.py** que está en la misma carpeta que este cuaderno de Jupyter contiene dos funciones, `f2c` y `c2f`, para convertir datos de temperatura.\n",
    "\n",
    "El archivo **temperaturas.py** contiene\n",
    "```python\n",
    "\"\"\" Módulo temperaturas\n",
    "\n",
    "Este módulo tiene apenas nos funciones, c2f y f2c, para convertir temperaturas\n",
    "de Celsius a Fahrenheit y viceversa.\n",
    "\"\"\"\n",
    "\n",
    "def c2f(c):\n",
    "    return 1.8 * c + 32\n",
    "\n",
    "def f2c(f):\n",
    "    return (f-32) / 1.8\n",
    "```\n",
    "\n",
    "Para usarlo"
   ]
  },
  {
   "cell_type": "code",
   "execution_count": 15,
   "id": "statistical-speech",
   "metadata": {},
   "outputs": [
    {
     "data": {
      "text/plain": [
       "32.22222222222222"
      ]
     },
     "execution_count": 15,
     "metadata": {},
     "output_type": "execute_result"
    }
   ],
   "source": [
    "import temperaturas as tm\n",
    "\n",
    "tm.f2c(90)"
   ]
  },
  {
   "cell_type": "code",
   "execution_count": 16,
   "id": "usual-brazil",
   "metadata": {},
   "outputs": [
    {
     "data": {
      "text/plain": [
       "104.0"
      ]
     },
     "execution_count": 16,
     "metadata": {},
     "output_type": "execute_result"
    }
   ],
   "source": [
    "tm.c2f(40)"
   ]
  },
  {
   "cell_type": "markdown",
   "id": "initial-olive",
   "metadata": {},
   "source": [
    "Para crear un módulo, simplemente almacenamos una o más definiciones (de funciones, variables, clases) en un archivo con extensión **.py**. Si el archivo está en la misma carpeta que el archivo de Python en ejecución, lo podemos importar directamente."
   ]
  }
 ],
 "metadata": {
  "jupytext": {
   "formats": "md:myst",
   "text_representation": {
    "extension": ".md",
    "format_name": "myst"
   }
  },
  "kernelspec": {
   "display_name": "Python 3",
   "language": "python",
   "name": "python3"
  },
  "language_info": {
   "codemirror_mode": {
    "name": "ipython",
    "version": 3
   },
   "file_extension": ".py",
   "mimetype": "text/x-python",
   "name": "python",
   "nbconvert_exporter": "python",
   "pygments_lexer": "ipython3",
   "version": "3.8.8"
  },
  "source_map": [
   11,
   54,
   57,
   61,
   64,
   68,
   71,
   84,
   89,
   93,
   98,
   102,
   107,
   115,
   122,
   127,
   130,
   138,
   146,
   150,
   153,
   157,
   167,
   171,
   174,
   199,
   205,
   207
  ]
 },
 "nbformat": 4,
 "nbformat_minor": 5
}