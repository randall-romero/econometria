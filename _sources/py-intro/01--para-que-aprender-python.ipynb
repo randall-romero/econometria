{
 "cells": [
  {
   "cell_type": "markdown",
   "id": "chicken-laundry",
   "metadata": {},
   "source": [
    "# Introducción a Python\n",
    "\n",
    "\n",
    "## Acerca de Python\n",
    "\n",
    "Python es...\n",
    "* **libre** – es software distribuible de código abierto\n",
    "* **fácil de aprender** – tiene una sintaxis de lenguaje simple\n",
    "* **fácil de leer** – no está atiborrada de signos de puntuación\n",
    "* **fácil de manterner** – es modular para simplicidad\n",
    "* **“baterias incluidas”** – provee una librería estándar grande para que sea fácil integrar con sus propios programas\n",
    "* **interactivo** – tiene una terminal para arreglar y probar fragmentos de código\n",
    "* **portable** – corre en una amplia variedad de plataformas de hardware y tiene la misma interface en todas las plataformas\n",
    "* **interpretado** – no se requiere compilar el código\n",
    "* **alto nivel** – tiene administración de memoria automática\n",
    "* **extendible** – permite agregar módulos de bajo nivel al intérprete para personalización\n",
    "* **versátil** – soporta tnato programs orientados a procesos como programación orientada a objetos (OOP)\n",
    "* **flexible** – puede crear porgrams de consolas, aplicaciones con ventanas GUI (Graphical User Interface), y código CGI (Common Gateway Interface) para procesar datos de la web\n",
    "\n",
    "\n",
    "\n",
    "## Python en las noticias\n",
    "\n",
    "> The language’s two main advantages are its simplicity and flexibility. Its straightforward syntax and use of indented spaces make it easy to learn, read and share. Its avid practitioners, known as Pythonistas, have uploaded 145,000 custom-built software packages to an online repository. These cover everything from game development to astronomy, and can be installed and inserted into a Python program in a matter of seconds. This versatility means that the Central Intelligence Agency has used it for hacking, Google for crawling webpages, Pixar for producing movies and Spotify for recommending songs. Some of the most popular packages harness “machine learning”, by crunching large quantities of data to pick out patterns that would otherwise be imperceptible.\n",
    ">\n",
    "> Fuente: [The Economist, julio de 2018](https://www.economist.com/graphic-detail/2018/07/26/python-is-becoming-the-worlds-most-popular-coding-language)\n",
    "\n",
    "\n",
    "\n",
    "> Python is not perfect. Other languages have more processing efficiency and specialised capabilities. C and C++ are “lower-level” options which give the user more control over what is happening within a computer’s processor. Java is popular for building large, complex applications. JavaScript is the language of choice for applications accessed via a web browser. Countless others have evolved for various purposes. But Python’s killer features—simple syntax that makes its code easy to learn and share, and its huge array of third-party packages—make it a good general-purpose language. **Its versatility is shown by its range of users and uses**.\n",
    ">\n",
    "> **For professions that have long relied on trawling through spreadsheets, Python is especially valuable**. Citigroup, an American bank, has introduced a crash course in Python for its trainee analysts. A jobs website, eFinancialCareers, reports a near-fourfold increase in listings mentioning Python between the first quarters of 2015 and 2018.\n",
    ">  Fuente: [The Economist, julio de 2018](https://www.economist.com/science-and-technology/2018/07/19/python-has-brought-computer-programming-to-a-vast-new-audience)\n",
    "\n",
    "![economist](figures/Economist-20180721.png)\n",
    "\n",
    "\n",
    "## El mercado lo demanda\n",
    "\n",
    "\n",
    "![Top Data Science Technologies](figures/Artboard-2--1-.png)\n",
    "\n",
    "Fuente: https://www.thinkful.com/blog/insights-on-the-data-science-job-market-analyzing-7k-data-science-job-descriptions/\n",
    "\n",
    "\n",
    "## Descargando Python\n",
    "\n",
    "La manera más fácil de obtener Python es descargarlo de Anaconda en https://www.anaconda.com/download/\n",
    "\n",
    "![Anaconda](figures/anaconda-download.png)\n",
    "\n",
    "* Hay dos versiones mayores de Python: 2 vs 3\n",
    "* Asegúrese de descargar la versión 3.\n",
    "\n",
    "\n",
    "## Ejecutando Python\n",
    "Hay varias maneras de correr código de Python, dependiendo de lo que sea más conveniente en el momento. Muchas de las opciones pueden comenzarse desde *Anaconda Navigator*\n",
    "![anaconda-navigator.png](figures/anaconda-navigator.png), entre ellas:\n",
    "\n",
    "1. en una terminal (command window)\n",
    "\n",
    "![python-terminal.png](figures/python-terminal.png)\n",
    "\n",
    "2. en Jupyter QtConsole\n",
    "\n",
    "Es una GUI de PyQt GUI que permite tener figuras incrustadas, edición de muchas líneas con resaltado de sintaxis, pistas de ayuda gráficas, y más.\n",
    "![python-qtconsole.png](figures/python-qtconsole.png)\n",
    "\n",
    "3. en Jupyter Notebook\n",
    "\n",
    "Es un ambiente de cuaderno computable interactivo basado en la web. Se edita y ejecutan documentos legibles para humanos mientras que se describe el análisis de los datos.\n",
    "![python-jupyter-notebook](figures/python-jupyter-notebook.png)\n",
    "\n",
    "4. en Spyder\n",
    "\n",
    "**S**cientific **PY**thon **D**evelopment **E**nvi**R**onment. Es una IDE poderosa, con edición avanzada, pruebas interactivas, correción y características de introspección.\n",
    "![python-spyder](figures/python-spyder.png)\n",
    "\n",
    "5. en nteract\n",
    "\n",
    "**nteract** es una excelente opción para trabajar con cuadernos de Jupyter, pues puede abrirlos sin necesidad de abrir Jupyter previamente. Es gratuito y puede descargarse del sitio [https://nteract.io/](https://nteract.io/).\n",
    "\n",
    "![python-nteract](figures/nteract.png)\n",
    "\n",
    "6. Ejecutando Python en la nube\n",
    "\n",
    "Una opción muy conveniente para correr programas de Python sin instalarlo en su máquina es [Google Colab](https://colab.research.google.com), el cual permite ejecutarlos en los servidores de Google. A la fecha utiliza la versión 3.6.9 de Python.\n",
    "\n",
    "![colab](figures/colab.png)\n",
    "\n",
    "Por ejemplo, para ejecutar los cuadernos de Jupyter de este curso, puede cargarlos directamente desde mi repositorio de Github. Para ello, seleccione el menú **File >> Open notebook >> Github**, escriba **randall-romero** en el campo de búsqueda, y selecciones el repositorio EC4301.\n",
    "\n",
    "![colab-github](figures/colab-github.png)\n",
    "\n",
    "\n",
    "## ¡Listos para empezar!\n",
    "\n",
    "Un primer comando"
   ]
  },
  {
   "cell_type": "code",
   "execution_count": 1,
   "id": "inside-sigma",
   "metadata": {},
   "outputs": [
    {
     "name": "stdout",
     "output_type": "stream",
     "text": [
      "Bienvenidos a este tutorial de Python\n"
     ]
    }
   ],
   "source": [
    "print(\"Bienvenidos a este tutorial de Python\")"
   ]
  }
 ],
 "metadata": {
  "jupytext": {
   "formats": "md:myst",
   "text_representation": {
    "extension": ".md",
    "format_name": "myst"
   }
  },
  "kernelspec": {
   "display_name": "Python 3",
   "language": "python",
   "name": "python3"
  },
  "language_info": {
   "codemirror_mode": {
    "name": "ipython",
    "version": 3
   },
   "file_extension": ".py",
   "mimetype": "text/x-python",
   "name": "python",
   "nbconvert_exporter": "python",
   "pygments_lexer": "ipython3",
   "version": "3.8.8"
  },
  "source_map": [
   11,
   112
  ]
 },
 "nbformat": 4,
 "nbformat_minor": 5
}