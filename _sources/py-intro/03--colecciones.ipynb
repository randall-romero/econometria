{
 "cells": [
  {
   "cell_type": "markdown",
   "id": "express-wichita",
   "metadata": {},
   "source": [
    "(py-sec-colecciones)=\n",
    "# Colecciones\n",
    "\n",
    "Los tipos de colecciones más utilizados son\n",
    "\n",
    "* `list` una lista ordenada y mutable de valores\n",
    "* `tuple` una lista ordenada e inmutable de valores\n",
    "* `set` una lista mutable pero no ordenada de valores\n",
    "* `dict` un diccionario no ordenado\n",
    "\n",
    "## Listas\n",
    "\n",
    "### Haciendo listas\n",
    "Para hacer una lista, enumeramos sus elemento entre un par de ```[ ]```"
   ]
  },
  {
   "cell_type": "code",
   "execution_count": 1,
   "id": "round-pathology",
   "metadata": {},
   "outputs": [
    {
     "data": {
      "text/plain": [
       "['Spring', 'Summer', 'Autumn', 'Winter']"
      ]
     },
     "execution_count": 1,
     "metadata": {},
     "output_type": "execute_result"
    }
   ],
   "source": [
    "seasons = ['Spring', 'Summer','Autumn','Winter']\n",
    "seasons"
   ]
  },
  {
   "cell_type": "markdown",
   "id": "incomplete-wheel",
   "metadata": {},
   "source": [
    "![seasons](figures/list-diagram.png)\n",
    "\n",
    "\n",
    "Las listas pueden tener elementos heterogéneos"
   ]
  },
  {
   "cell_type": "code",
   "execution_count": 2,
   "id": "suspended-cooler",
   "metadata": {},
   "outputs": [
    {
     "data": {
      "text/plain": [
       "[4, 3.0, 'abc', 5, 8, -3, 0, 2]"
      ]
     },
     "execution_count": 2,
     "metadata": {},
     "output_type": "execute_result"
    }
   ],
   "source": [
    "mylist = [4, 3.0, 'abc', 5, 8, -3, 0 , 2]\n",
    "mylist"
   ]
  },
  {
   "cell_type": "markdown",
   "id": "ecological-madness",
   "metadata": {},
   "source": [
    "### Para obtener los datos:"
   ]
  },
  {
   "cell_type": "code",
   "execution_count": 3,
   "id": "medical-explorer",
   "metadata": {},
   "outputs": [
    {
     "data": {
      "text/plain": [
       "'Autumn'"
      ]
     },
     "execution_count": 3,
     "metadata": {},
     "output_type": "execute_result"
    }
   ],
   "source": [
    "seasons[2]"
   ]
  },
  {
   "cell_type": "code",
   "execution_count": 4,
   "id": "completed-matthew",
   "metadata": {},
   "outputs": [
    {
     "data": {
      "text/plain": [
       "'Summer'"
      ]
     },
     "execution_count": 4,
     "metadata": {},
     "output_type": "execute_result"
    }
   ],
   "source": [
    "seasons[-3]"
   ]
  },
  {
   "cell_type": "markdown",
   "id": "given-identity",
   "metadata": {},
   "source": [
    "### Para modificar los datos:"
   ]
  },
  {
   "cell_type": "code",
   "execution_count": 5,
   "id": "plastic-tomato",
   "metadata": {},
   "outputs": [
    {
     "data": {
      "text/plain": [
       "['Spring', 'Summer', 'Fall', 'Winter']"
      ]
     },
     "execution_count": 5,
     "metadata": {},
     "output_type": "execute_result"
    }
   ],
   "source": [
    "seasons[2] = 'Fall'\n",
    "seasons"
   ]
  },
  {
   "cell_type": "markdown",
   "id": "secondary-physics",
   "metadata": {},
   "source": [
    "### *Slicing*\n",
    "\n",
    "Para obtener una franja de datos:"
   ]
  },
  {
   "cell_type": "code",
   "execution_count": 6,
   "id": "featured-chain",
   "metadata": {},
   "outputs": [
    {
     "data": {
      "text/plain": [
       "[4, 3.0, 'abc', 5, 8, -3, 0, 2]"
      ]
     },
     "execution_count": 6,
     "metadata": {},
     "output_type": "execute_result"
    }
   ],
   "source": [
    "mylist"
   ]
  },
  {
   "cell_type": "code",
   "execution_count": 7,
   "id": "frank-occurrence",
   "metadata": {},
   "outputs": [
    {
     "data": {
      "text/plain": [
       "['abc', 5]"
      ]
     },
     "execution_count": 7,
     "metadata": {},
     "output_type": "execute_result"
    }
   ],
   "source": [
    "mylist[2:4]"
   ]
  },
  {
   "cell_type": "code",
   "execution_count": 8,
   "id": "economic-hamilton",
   "metadata": {},
   "outputs": [
    {
     "data": {
      "text/plain": [
       "[4, 3.0, 'abc']"
      ]
     },
     "execution_count": 8,
     "metadata": {},
     "output_type": "execute_result"
    }
   ],
   "source": [
    "mylist[:3]"
   ]
  },
  {
   "cell_type": "code",
   "execution_count": 9,
   "id": "domestic-business",
   "metadata": {},
   "outputs": [
    {
     "data": {
      "text/plain": [
       "[-3, 0, 2]"
      ]
     },
     "execution_count": 9,
     "metadata": {},
     "output_type": "execute_result"
    }
   ],
   "source": [
    "mylist[5:]"
   ]
  },
  {
   "cell_type": "code",
   "execution_count": 10,
   "id": "fitted-reason",
   "metadata": {},
   "outputs": [
    {
     "data": {
      "text/plain": [
       "[0, 2]"
      ]
     },
     "execution_count": 10,
     "metadata": {},
     "output_type": "execute_result"
    }
   ],
   "source": [
    "mylist[-2:]"
   ]
  },
  {
   "cell_type": "code",
   "execution_count": 11,
   "id": "radical-racing",
   "metadata": {},
   "outputs": [
    {
     "data": {
      "text/plain": [
       "[5]"
      ]
     },
     "execution_count": 11,
     "metadata": {},
     "output_type": "execute_result"
    }
   ],
   "source": [
    "mylist[3:4] # a pesar de que es un solo elemento, retorna una lista"
   ]
  },
  {
   "cell_type": "code",
   "execution_count": 12,
   "id": "innovative-springfield",
   "metadata": {},
   "outputs": [
    {
     "data": {
      "text/plain": [
       "5"
      ]
     },
     "execution_count": 12,
     "metadata": {},
     "output_type": "execute_result"
    }
   ],
   "source": [
    "mylist[3]"
   ]
  },
  {
   "cell_type": "code",
   "execution_count": 13,
   "id": "saved-timer",
   "metadata": {},
   "outputs": [
    {
     "data": {
      "text/plain": [
       "[]"
      ]
     },
     "execution_count": 13,
     "metadata": {},
     "output_type": "execute_result"
    }
   ],
   "source": [
    "mylist[3:3]"
   ]
  },
  {
   "cell_type": "code",
   "execution_count": 14,
   "id": "underlying-mississippi",
   "metadata": {},
   "outputs": [
    {
     "data": {
      "text/plain": [
       "[4, 'abc', 8, 0]"
      ]
     },
     "execution_count": 14,
     "metadata": {},
     "output_type": "execute_result"
    }
   ],
   "source": [
    "mylist[::2]"
   ]
  },
  {
   "cell_type": "code",
   "execution_count": 15,
   "id": "unauthorized-authentication",
   "metadata": {},
   "outputs": [
    {
     "data": {
      "text/plain": [
       "[3.0, 5, -3, 2]"
      ]
     },
     "execution_count": 15,
     "metadata": {},
     "output_type": "execute_result"
    }
   ],
   "source": [
    "mylist[1::2]"
   ]
  },
  {
   "cell_type": "markdown",
   "id": "sunset-channels",
   "metadata": {},
   "source": [
    "### Copiando una lista\n",
    "\n",
    "- `nueva_lista = vieja_lista` hace una variable nueva que apunta a la misma lista que la lista anterior:"
   ]
  },
  {
   "cell_type": "code",
   "execution_count": 16,
   "id": "overall-candle",
   "metadata": {},
   "outputs": [
    {
     "data": {
      "text/plain": [
       "[4, 3.0, 'abc', 5, 8, -3, 0, 2]"
      ]
     },
     "execution_count": 16,
     "metadata": {},
     "output_type": "execute_result"
    }
   ],
   "source": [
    "otralista = mylist\n",
    "otralista"
   ]
  },
  {
   "cell_type": "code",
   "execution_count": 17,
   "id": "verified-health",
   "metadata": {},
   "outputs": [
    {
     "data": {
      "text/plain": [
       "[99999, 3.0, 'abc', 5, 8, -3, 0, 2]"
      ]
     },
     "execution_count": 17,
     "metadata": {},
     "output_type": "execute_result"
    }
   ],
   "source": [
    "otralista[0] = 99999\n",
    "otralista"
   ]
  },
  {
   "cell_type": "code",
   "execution_count": 18,
   "id": "alert-investment",
   "metadata": {},
   "outputs": [
    {
     "data": {
      "text/plain": [
       "[99999, 3.0, 'abc', 5, 8, -3, 0, 2]"
      ]
     },
     "execution_count": 18,
     "metadata": {},
     "output_type": "execute_result"
    }
   ],
   "source": [
    "mylist"
   ]
  },
  {
   "cell_type": "markdown",
   "id": "piano-beads",
   "metadata": {},
   "source": [
    "Vemos que es la misma lista al comparar sus `id`:"
   ]
  },
  {
   "cell_type": "code",
   "execution_count": 19,
   "id": "sorted-lincoln",
   "metadata": {},
   "outputs": [
    {
     "name": "stdout",
     "output_type": "stream",
     "text": [
      "139806897180480\n",
      "139806897180480\n"
     ]
    }
   ],
   "source": [
    "print(id(otralista), id(mylist),sep='\\n')"
   ]
  },
  {
   "cell_type": "code",
   "execution_count": 20,
   "id": "large-affairs",
   "metadata": {},
   "outputs": [
    {
     "data": {
      "text/plain": [
       "True"
      ]
     },
     "execution_count": 20,
     "metadata": {},
     "output_type": "execute_result"
    }
   ],
   "source": [
    "otralista is mylist"
   ]
  },
  {
   "cell_type": "markdown",
   "id": "fiscal-consciousness",
   "metadata": {},
   "source": [
    "- `nueva_lista = vieja_lista.copy()` hace una copia *independiente* de la original:"
   ]
  },
  {
   "cell_type": "code",
   "execution_count": 21,
   "id": "technological-contrast",
   "metadata": {},
   "outputs": [
    {
     "name": "stdout",
     "output_type": "stream",
     "text": [
      "copialista =  [99999, 3.0, 'abc', 5, 8, -3, 0, 'copia independiente de la original']\n",
      "mylist     =  [99999, 3.0, 'abc', 5, 8, -3, 0, 2]\n",
      "otralista  =  [99999, 3.0, 'abc', 5, 8, -3, 0, 2]\n",
      "copialista es 139806896827840\n",
      "mylist     es 139806897180480\n",
      "otralista  es 139806897180480\n"
     ]
    }
   ],
   "source": [
    "copialista = mylist.copy()\n",
    "copialista[-1] = 'copia independiente de la original'\n",
    "print('copialista = ', copialista)\n",
    "print('mylist     = ', mylist)\n",
    "print('otralista  = ', mylist)\n",
    "print(f'copialista es {id(copialista)}',  f'mylist     es {id(mylist)}', f'otralista  es {id(otralista)}',  sep='\\n')"
   ]
  },
  {
   "cell_type": "markdown",
   "id": "strong-charleston",
   "metadata": {},
   "source": [
    "### Manipulando listas"
   ]
  },
  {
   "cell_type": "code",
   "execution_count": 22,
   "id": "popular-tracker",
   "metadata": {},
   "outputs": [],
   "source": [
    "fruit = ['apple','orange','grape','kiwi']"
   ]
  },
  {
   "cell_type": "markdown",
   "id": "every-noise",
   "metadata": {},
   "source": [
    "#### ```list.append(x)``` Agrega el elemento ```x``` al final de la lista"
   ]
  },
  {
   "cell_type": "code",
   "execution_count": 23,
   "id": "important-deputy",
   "metadata": {},
   "outputs": [
    {
     "data": {
      "text/plain": [
       "['apple', 'orange', 'grape', 'kiwi', 'apple']"
      ]
     },
     "execution_count": 23,
     "metadata": {},
     "output_type": "execute_result"
    }
   ],
   "source": [
    "fruit.append('apple')\n",
    "fruit"
   ]
  },
  {
   "cell_type": "markdown",
   "id": "least-starter",
   "metadata": {},
   "source": [
    "#### ```list.extend(L)``` Agrega todos los elementos de la lista ```L``` al final de la lista"
   ]
  },
  {
   "cell_type": "code",
   "execution_count": 24,
   "id": "general-instrument",
   "metadata": {},
   "outputs": [
    {
     "data": {
      "text/plain": [
       "['apple', 'orange', 'grape', 'kiwi', 'apple', 'mango', 'banana', 'kiwi']"
      ]
     },
     "execution_count": 24,
     "metadata": {},
     "output_type": "execute_result"
    }
   ],
   "source": [
    "fruit.extend(['mango','banana','kiwi'])\n",
    "fruit"
   ]
  },
  {
   "cell_type": "markdown",
   "id": "interested-concern",
   "metadata": {},
   "source": [
    "#### ```list.insert(i,x)``` Inserta el elemento ```x``` en la posición de índice ```i```"
   ]
  },
  {
   "cell_type": "code",
   "execution_count": 25,
   "id": "varied-couple",
   "metadata": {},
   "outputs": [
    {
     "data": {
      "text/plain": [
       "['apple',\n",
       " 'orange',\n",
       " 'guava',\n",
       " 'grape',\n",
       " 'kiwi',\n",
       " 'apple',\n",
       " 'mango',\n",
       " 'banana',\n",
       " 'kiwi']"
      ]
     },
     "execution_count": 25,
     "metadata": {},
     "output_type": "execute_result"
    }
   ],
   "source": [
    "fruit.insert(2,'guava')\n",
    "fruit"
   ]
  },
  {
   "cell_type": "markdown",
   "id": "settled-department",
   "metadata": {},
   "source": [
    "#### ```len(list)``` cuenta el número de elementos de la lista"
   ]
  },
  {
   "cell_type": "code",
   "execution_count": 26,
   "id": "forty-indonesian",
   "metadata": {},
   "outputs": [
    {
     "data": {
      "text/plain": [
       "9"
      ]
     },
     "execution_count": 26,
     "metadata": {},
     "output_type": "execute_result"
    }
   ],
   "source": [
    "len(fruit)"
   ]
  },
  {
   "cell_type": "markdown",
   "id": "professional-torture",
   "metadata": {},
   "source": [
    "#### ```list.remove(x)``` Elimina el primer elemento ```x``` de la lista"
   ]
  },
  {
   "cell_type": "code",
   "execution_count": 27,
   "id": "alert-uncle",
   "metadata": {},
   "outputs": [
    {
     "data": {
      "text/plain": [
       "['apple', 'orange', 'guava', 'grape', 'apple', 'mango', 'banana', 'kiwi']"
      ]
     },
     "execution_count": 27,
     "metadata": {},
     "output_type": "execute_result"
    }
   ],
   "source": [
    "fruit.remove('kiwi')\n",
    "fruit"
   ]
  },
  {
   "cell_type": "markdown",
   "id": "regular-performance",
   "metadata": {},
   "source": [
    "#### ```list.pop(i)``` Eliminina el elemento en la posición ```i``` y lo retorna"
   ]
  },
  {
   "cell_type": "code",
   "execution_count": 28,
   "id": "placed-module",
   "metadata": {},
   "outputs": [
    {
     "data": {
      "text/plain": [
       "['apple', 'orange', 'guava', 'grape', 'apple', 'mango', 'banana']"
      ]
     },
     "execution_count": 28,
     "metadata": {},
     "output_type": "execute_result"
    }
   ],
   "source": [
    "fruit.pop()\n",
    "fruit"
   ]
  },
  {
   "cell_type": "markdown",
   "id": "understanding-wyoming",
   "metadata": {},
   "source": [
    "#### ```list.index(x)``` Retorna el índice del primer elemento ```x``` de la lista"
   ]
  },
  {
   "cell_type": "code",
   "execution_count": 29,
   "id": "addressed-copper",
   "metadata": {},
   "outputs": [
    {
     "data": {
      "text/plain": [
       "3"
      ]
     },
     "execution_count": 29,
     "metadata": {},
     "output_type": "execute_result"
    }
   ],
   "source": [
    "fruit.index('grape')"
   ]
  },
  {
   "cell_type": "markdown",
   "id": "medical-tuesday",
   "metadata": {},
   "source": [
    "#### ```list.count(x)``` Retorna el número de veces que aparece ```x``` en la lista"
   ]
  },
  {
   "cell_type": "code",
   "execution_count": 30,
   "id": "interim-burke",
   "metadata": {},
   "outputs": [
    {
     "data": {
      "text/plain": [
       "2"
      ]
     },
     "execution_count": 30,
     "metadata": {},
     "output_type": "execute_result"
    }
   ],
   "source": [
    "fruit.count('apple')"
   ]
  },
  {
   "cell_type": "markdown",
   "id": "hungarian-brown",
   "metadata": {},
   "source": [
    "#### ```list.sort()``` Ordena todos los elementos de la lista, in situ"
   ]
  },
  {
   "cell_type": "code",
   "execution_count": 31,
   "id": "comprehensive-pottery",
   "metadata": {},
   "outputs": [
    {
     "data": {
      "text/plain": [
       "['apple', 'apple', 'banana', 'grape', 'guava', 'mango', 'orange']"
      ]
     },
     "execution_count": 31,
     "metadata": {},
     "output_type": "execute_result"
    }
   ],
   "source": [
    "fruit.sort()\n",
    "fruit"
   ]
  },
  {
   "cell_type": "markdown",
   "id": "extra-taxation",
   "metadata": {},
   "source": [
    "#### ```list.reverse()``` Revierte el orden de todos los elementos de la lista, in situ"
   ]
  },
  {
   "cell_type": "code",
   "execution_count": 32,
   "id": "modern-equality",
   "metadata": {},
   "outputs": [
    {
     "data": {
      "text/plain": [
       "['orange', 'mango', 'guava', 'grape', 'banana', 'apple', 'apple']"
      ]
     },
     "execution_count": 32,
     "metadata": {},
     "output_type": "execute_result"
    }
   ],
   "source": [
    "fruit.reverse()\n",
    "fruit"
   ]
  },
  {
   "cell_type": "code",
   "execution_count": 33,
   "id": "behind-bundle",
   "metadata": {},
   "outputs": [],
   "source": [
    "fruit.sort(reverse=True)"
   ]
  },
  {
   "cell_type": "markdown",
   "id": "logical-writing",
   "metadata": {},
   "source": [
    "## Tuplas\n",
    "\n",
    "Una tupla es similar a una lista, pero una vez que se define **sus elementos no pueden cambiarse**. Se define enumerando sus elementos entre un par de  ```( )```"
   ]
  },
  {
   "cell_type": "code",
   "execution_count": 34,
   "id": "aging-orchestra",
   "metadata": {},
   "outputs": [],
   "source": [
    "seasons = ('Spring', 'Summer','Autumn','Winter')"
   ]
  },
  {
   "cell_type": "markdown",
   "id": "growing-elite",
   "metadata": {},
   "source": [
    "![seasons](figures/tuple-diagram.png)\n",
    "\n",
    "Para obtener datos:"
   ]
  },
  {
   "cell_type": "code",
   "execution_count": 35,
   "id": "developed-middle",
   "metadata": {},
   "outputs": [
    {
     "data": {
      "text/plain": [
       "'Autumn'"
      ]
     },
     "execution_count": 35,
     "metadata": {},
     "output_type": "execute_result"
    }
   ],
   "source": [
    "seasons[2]"
   ]
  },
  {
   "cell_type": "code",
   "execution_count": 36,
   "id": "narrative-broad",
   "metadata": {},
   "outputs": [
    {
     "data": {
      "text/plain": [
       "'Summer'"
      ]
     },
     "execution_count": 36,
     "metadata": {},
     "output_type": "execute_result"
    }
   ],
   "source": [
    "seasons[-3]"
   ]
  },
  {
   "cell_type": "markdown",
   "id": "whole-chrome",
   "metadata": {},
   "source": [
    "Sin embargo, los datos no se pueden modificar"
   ]
  },
  {
   "cell_type": "code",
   "execution_count": 37,
   "id": "blond-vector",
   "metadata": {
    "tags": [
     "raises-exception"
    ]
   },
   "outputs": [
    {
     "ename": "TypeError",
     "evalue": "'tuple' object does not support item assignment",
     "output_type": "error",
     "traceback": [
      "\u001b[0;31m---------------------------------------------------------------------------\u001b[0m",
      "\u001b[0;31mTypeError\u001b[0m                                 Traceback (most recent call last)",
      "\u001b[0;32m<ipython-input-37-3a773b804719>\u001b[0m in \u001b[0;36m<module>\u001b[0;34m\u001b[0m\n\u001b[0;32m----> 1\u001b[0;31m \u001b[0mseasons\u001b[0m\u001b[0;34m[\u001b[0m\u001b[0;36m2\u001b[0m\u001b[0;34m]\u001b[0m \u001b[0;34m=\u001b[0m \u001b[0;34m'Fall'\u001b[0m\u001b[0;34m\u001b[0m\u001b[0;34m\u001b[0m\u001b[0m\n\u001b[0m",
      "\u001b[0;31mTypeError\u001b[0m: 'tuple' object does not support item assignment"
     ]
    }
   ],
   "source": [
    "seasons[2] = 'Fall'"
   ]
  },
  {
   "cell_type": "markdown",
   "id": "medium-mississippi",
   "metadata": {},
   "source": [
    "Las tuplas también entienden de franjas"
   ]
  },
  {
   "cell_type": "code",
   "execution_count": 38,
   "id": "verbal-technical",
   "metadata": {},
   "outputs": [
    {
     "data": {
      "text/plain": [
       "('Jan',\n",
       " 'Feb',\n",
       " 'Mar',\n",
       " 'Apr',\n",
       " 'May',\n",
       " 'Jun',\n",
       " 'Jul',\n",
       " 'Aug',\n",
       " 'Sep',\n",
       " 'Oct',\n",
       " 'Nov',\n",
       " 'Dec')"
      ]
     },
     "execution_count": 38,
     "metadata": {},
     "output_type": "execute_result"
    }
   ],
   "source": [
    "M = ('Jan', 'Feb', 'Mar', 'Apr', 'May', 'Jun', \\\n",
    "'Jul','Aug','Sep','Oct','Nov','Dec')\n",
    "M"
   ]
  },
  {
   "cell_type": "code",
   "execution_count": 39,
   "id": "available-balance",
   "metadata": {},
   "outputs": [
    {
     "data": {
      "text/plain": [
       "('Apr', 'May', 'Jun')"
      ]
     },
     "execution_count": 39,
     "metadata": {},
     "output_type": "execute_result"
    }
   ],
   "source": [
    "# To split the months into quarters:\n",
    "Q1, Q2, Q3, Q4 = M[:3], M[3:6], M[6:9], M[9:]\n",
    "Q2"
   ]
  },
  {
   "cell_type": "markdown",
   "id": "widespread-spray",
   "metadata": {},
   "source": [
    "Para hacer una tupla de un único elemento:"
   ]
  },
  {
   "cell_type": "code",
   "execution_count": 40,
   "id": "taken-oracle",
   "metadata": {},
   "outputs": [],
   "source": [
    "solo = (55, )"
   ]
  },
  {
   "cell_type": "code",
   "execution_count": 41,
   "id": "several-edwards",
   "metadata": {},
   "outputs": [
    {
     "data": {
      "text/plain": [
       "tuple"
      ]
     },
     "execution_count": 41,
     "metadata": {},
     "output_type": "execute_result"
    }
   ],
   "source": [
    "type(solo)"
   ]
  },
  {
   "cell_type": "markdown",
   "id": "peripheral-interest",
   "metadata": {},
   "source": [
    "## Conjuntos\n",
    "Para hacer un conjunto, enumeramos sus elementos entre ```{ }```. Alternativamento, transformamos una lista en un conjunto usando la función ```set```.\n",
    "\n",
    "### Operaciones con conjuntos"
   ]
  },
  {
   "cell_type": "code",
   "execution_count": 42,
   "id": "conventional-softball",
   "metadata": {},
   "outputs": [],
   "source": [
    "M2 = {2, 4, 6, 8, 10, 12, 14}\n",
    "M3 = set([3, 6, 9, 12, 15])"
   ]
  },
  {
   "cell_type": "markdown",
   "id": "composed-prophet",
   "metadata": {},
   "source": [
    "#### ```set.add(x)``` Agrega un elemento ```x``` al conjunto"
   ]
  },
  {
   "cell_type": "code",
   "execution_count": 43,
   "id": "olympic-mineral",
   "metadata": {},
   "outputs": [
    {
     "data": {
      "text/plain": [
       "{2, 4, 6, 8, 10, 12, 14, 16}"
      ]
     },
     "execution_count": 43,
     "metadata": {},
     "output_type": "execute_result"
    }
   ],
   "source": [
    "M2.add(16)\n",
    "M2"
   ]
  },
  {
   "cell_type": "markdown",
   "id": "dress-timber",
   "metadata": {},
   "source": [
    "#### ```set.update([x,y,z])``` Agrega varios elementos al conjunto"
   ]
  },
  {
   "cell_type": "code",
   "execution_count": 44,
   "id": "competent-relaxation",
   "metadata": {},
   "outputs": [
    {
     "data": {
      "text/plain": [
       "{3, 6, 9, 12, 15, 18, 21}"
      ]
     },
     "execution_count": 44,
     "metadata": {},
     "output_type": "execute_result"
    }
   ],
   "source": [
    "M3.update([18, 21])\n",
    "M3"
   ]
  },
  {
   "cell_type": "markdown",
   "id": "technical-toilet",
   "metadata": {},
   "source": [
    "#### ```set.copy()``` Retorna una copia del conjunto"
   ]
  },
  {
   "cell_type": "code",
   "execution_count": 45,
   "id": "pursuant-deposit",
   "metadata": {},
   "outputs": [
    {
     "data": {
      "text/plain": [
       "{2, 4, 6, 8, 10, 12, 14, 16}"
      ]
     },
     "execution_count": 45,
     "metadata": {},
     "output_type": "execute_result"
    }
   ],
   "source": [
    "M2c = M2.copy()\n",
    "M2c"
   ]
  },
  {
   "cell_type": "markdown",
   "id": "spare-respect",
   "metadata": {},
   "source": [
    "#### ```set.pop()``` Elimina al azar un elemento del conjunto"
   ]
  },
  {
   "cell_type": "code",
   "execution_count": 46,
   "id": "secret-origin",
   "metadata": {},
   "outputs": [
    {
     "data": {
      "text/plain": [
       "2"
      ]
     },
     "execution_count": 46,
     "metadata": {},
     "output_type": "execute_result"
    }
   ],
   "source": [
    "M2c.pop()"
   ]
  },
  {
   "cell_type": "code",
   "execution_count": 47,
   "id": "distinguished-washington",
   "metadata": {},
   "outputs": [
    {
     "data": {
      "text/plain": [
       "{4, 6, 8, 10, 12, 14, 16}"
      ]
     },
     "execution_count": 47,
     "metadata": {},
     "output_type": "execute_result"
    }
   ],
   "source": [
    "M2c"
   ]
  },
  {
   "cell_type": "markdown",
   "id": "thorough-jersey",
   "metadata": {},
   "source": [
    "#### ```set.discard(x)``` Elimina el elemnto ```x``` del conjunto (si es miembro)"
   ]
  },
  {
   "cell_type": "code",
   "execution_count": 48,
   "id": "freelance-traffic",
   "metadata": {},
   "outputs": [
    {
     "data": {
      "text/plain": [
       "{4, 6, 8, 12, 14, 16}"
      ]
     },
     "execution_count": 48,
     "metadata": {},
     "output_type": "execute_result"
    }
   ],
   "source": [
    "M2c.discard(10)\n",
    "M2c"
   ]
  },
  {
   "cell_type": "markdown",
   "id": "loose-council",
   "metadata": {},
   "source": [
    "#### ```set1.union(set2)``` Retorna elementos que aparecen en cualquiera de los conjuntos"
   ]
  },
  {
   "cell_type": "code",
   "execution_count": 49,
   "id": "instrumental-tattoo",
   "metadata": {},
   "outputs": [
    {
     "data": {
      "text/plain": [
       "{2, 3, 4, 6, 8, 9, 10, 12, 14, 15, 16, 18, 21}"
      ]
     },
     "execution_count": 49,
     "metadata": {},
     "output_type": "execute_result"
    }
   ],
   "source": [
    "M2.union(M3)"
   ]
  },
  {
   "cell_type": "markdown",
   "id": "continuous-holly",
   "metadata": {},
   "source": [
    "#### ```set1.intersection(set2)``` Retorna elementos que aparecen en los dos conjuntos"
   ]
  },
  {
   "cell_type": "code",
   "execution_count": 50,
   "id": "higher-durham",
   "metadata": {},
   "outputs": [
    {
     "data": {
      "text/plain": [
       "{6, 12}"
      ]
     },
     "execution_count": 50,
     "metadata": {},
     "output_type": "execute_result"
    }
   ],
   "source": [
    "M3.intersection(M2)"
   ]
  },
  {
   "cell_type": "markdown",
   "id": "impressive-exclusive",
   "metadata": {},
   "source": [
    "#### ```set1.difference(set2)``` Retorna elementos del conjunto ```set1``` que no estén en ```set2```"
   ]
  },
  {
   "cell_type": "code",
   "execution_count": 51,
   "id": "relevant-companion",
   "metadata": {},
   "outputs": [
    {
     "data": {
      "text/plain": [
       "{2, 4, 8, 10, 14, 16}"
      ]
     },
     "execution_count": 51,
     "metadata": {},
     "output_type": "execute_result"
    }
   ],
   "source": [
    "M2.difference(M3)"
   ]
  },
  {
   "cell_type": "markdown",
   "id": "julian-colony",
   "metadata": {},
   "source": [
    "#### ```set1.isdisjoint(set2)``` True si los conjuntos no tienen elementos en común"
   ]
  },
  {
   "cell_type": "code",
   "execution_count": 52,
   "id": "proved-gross",
   "metadata": {},
   "outputs": [
    {
     "data": {
      "text/plain": [
       "False"
      ]
     },
     "execution_count": 52,
     "metadata": {},
     "output_type": "execute_result"
    }
   ],
   "source": [
    "M2.isdisjoint(M3)"
   ]
  },
  {
   "cell_type": "markdown",
   "id": "elegant-potential",
   "metadata": {},
   "source": [
    "## Diccionarios\n",
    "* En Python un “diccionario” es un contenedor de datos que puede almacenar múltiples elementos de datos como una lista de pares `llave:valor`.\n",
    "* A diferencia de las listas y tuplas, cuyos datos se obtienen por referencia a su índice, los valores almacenados en un diccionario se obtienen por referencia a su llave.\n",
    "* La llave debe ser única en el diccionario, usualmente se una un texto aunque también puede usarse números."
   ]
  },
  {
   "cell_type": "code",
   "execution_count": 53,
   "id": "recovered-numbers",
   "metadata": {},
   "outputs": [
    {
     "data": {
      "text/plain": [
       "{'name': 'John Snow', 'age': 24, 'home': 'Winterfell'}"
      ]
     },
     "execution_count": 53,
     "metadata": {},
     "output_type": "execute_result"
    }
   ],
   "source": [
    "king = {'name': 'John Snow',\n",
    "        'age': 24,\n",
    "        'home': 'Winterfell'}\n",
    "\n",
    "king"
   ]
  },
  {
   "cell_type": "markdown",
   "id": "integral-seeker",
   "metadata": {},
   "source": [
    "Los diccionarios se pueden crear con la función ```dict```:"
   ]
  },
  {
   "cell_type": "code",
   "execution_count": 54,
   "id": "logical-sunglasses",
   "metadata": {},
   "outputs": [
    {
     "data": {
      "text/plain": [
       "{'name': 'Samwell Tarly', 'age': 22}"
      ]
     },
     "execution_count": 54,
     "metadata": {},
     "output_type": "execute_result"
    }
   ],
   "source": [
    "friend = dict(name='Samwell Tarly', age=22)\n",
    "friend"
   ]
  },
  {
   "cell_type": "markdown",
   "id": "japanese-rubber",
   "metadata": {},
   "source": [
    "Obteniendo datos"
   ]
  },
  {
   "cell_type": "code",
   "execution_count": 55,
   "id": "expensive-eagle",
   "metadata": {},
   "outputs": [
    {
     "data": {
      "text/plain": [
       "24"
      ]
     },
     "execution_count": 55,
     "metadata": {},
     "output_type": "execute_result"
    }
   ],
   "source": [
    "king['age']"
   ]
  },
  {
   "cell_type": "markdown",
   "id": "sudden-newfoundland",
   "metadata": {},
   "source": [
    "Modificando datos:"
   ]
  },
  {
   "cell_type": "code",
   "execution_count": 56,
   "id": "pursuant-kruger",
   "metadata": {},
   "outputs": [
    {
     "data": {
      "text/plain": [
       "{'name': 'John Snow', 'age': 24, 'home': 'Castle Black'}"
      ]
     },
     "execution_count": 56,
     "metadata": {},
     "output_type": "execute_result"
    }
   ],
   "source": [
    "king['home'] = 'Castle Black'\n",
    "king"
   ]
  },
  {
   "cell_type": "markdown",
   "id": "tough-failing",
   "metadata": {},
   "source": [
    "Agregando datos:"
   ]
  },
  {
   "cell_type": "code",
   "execution_count": 57,
   "id": "unlimited-penetration",
   "metadata": {},
   "outputs": [
    {
     "data": {
      "text/plain": [
       "{'name': 'John Snow',\n",
       " 'age': 24,\n",
       " 'home': 'Castle Black',\n",
       " 'lover': 'Ygritte',\n",
       " 'knows': None}"
      ]
     },
     "execution_count": 57,
     "metadata": {},
     "output_type": "execute_result"
    }
   ],
   "source": [
    "king['lover'] = 'Ygritte'\n",
    "king['knows'] = None\n",
    "king"
   ]
  },
  {
   "cell_type": "markdown",
   "id": "polish-solution",
   "metadata": {},
   "source": [
    "Borrando datos:"
   ]
  },
  {
   "cell_type": "code",
   "execution_count": 58,
   "id": "light-starter",
   "metadata": {},
   "outputs": [
    {
     "data": {
      "text/plain": [
       "{'name': 'John Snow', 'age': 24, 'home': 'Castle Black', 'knows': None}"
      ]
     },
     "execution_count": 58,
     "metadata": {},
     "output_type": "execute_result"
    }
   ],
   "source": [
    "del king['lover'] # killed by Olly!\n",
    "king"
   ]
  },
  {
   "cell_type": "markdown",
   "id": "bacterial-manual",
   "metadata": {},
   "source": [
    "Para almacenar un texto muy largo, podemos encerrarlo en triples comillas dobles:"
   ]
  },
  {
   "cell_type": "code",
   "execution_count": 59,
   "id": "gross-riverside",
   "metadata": {},
   "outputs": [
    {
     "name": "stdout",
     "output_type": "stream",
     "text": [
      "Daenerys Stormborn of the House Targaryen, First of Her Name,\n",
      "The Unburnt, Queen of the Andals and the First Men, Khaleesi of the Great Grass Sea,\n",
      "Breaker of Chains, and Mother of Dragons\n"
     ]
    }
   ],
   "source": [
    "king['lover'] = \"\"\"Daenerys Stormborn of the House Targaryen, First of Her Name,\n",
    "The Unburnt, Queen of the Andals and the First Men, Khaleesi of the Great Grass Sea,\n",
    "Breaker of Chains, and Mother of Dragons\"\"\"\n",
    "\n",
    "print(king['lover'])"
   ]
  }
 ],
 "metadata": {
  "jupytext": {
   "formats": "md:myst",
   "text_representation": {
    "extension": ".md",
    "format_name": "myst"
   }
  },
  "kernelspec": {
   "display_name": "Python 3",
   "language": "python",
   "name": "python3"
  },
  "language_info": {
   "codemirror_mode": {
    "name": "ipython",
    "version": 3
   },
   "file_extension": ".py",
   "mimetype": "text/x-python",
   "name": "python",
   "nbconvert_exporter": "python",
   "pygments_lexer": "ipython3",
   "version": "3.8.8"
  },
  "source_map": [
   11,
   28,
   31,
   37,
   40,
   44,
   48,
   50,
   54,
   57,
   63,
   67,
   71,
   75,
   79,
   83,
   87,
   91,
   95,
   99,
   101,
   107,
   112,
   117,
   119,
   123,
   127,
   129,
   133,
   140,
   144,
   146,
   150,
   153,
   157,
   160,
   166,
   169,
   175,
   177,
   183,
   186,
   192,
   195,
   201,
   203,
   209,
   211,
   217,
   220,
   225,
   230,
   232,
   238,
   240,
   246,
   250,
   252,
   258,
   261,
   265,
   271,
   275,
   279,
   283,
   285,
   292,
   295,
   299,
   302,
   306,
   309,
   313,
   316,
   321,
   325,
   327,
   331,
   334,
   338,
   340,
   346,
   348,
   352,
   354,
   358,
   360,
   367,
   373,
   379,
   382,
   386,
   388,
   392,
   395,
   399,
   403,
   407,
   410,
   414
  ]
 },
 "nbformat": 4,
 "nbformat_minor": 5
}