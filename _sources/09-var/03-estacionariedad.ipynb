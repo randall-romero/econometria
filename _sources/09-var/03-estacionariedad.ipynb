{
 "cells": [
  {
   "cell_type": "markdown",
   "id": "going-stockholm",
   "metadata": {},
   "source": [
    "```{include} ../math-definitions.md\n",
    "```\n",
    "\n",
    "\n",
    "\n",
    "\n",
    "# Estacionariedad\n",
    "\n",
    "\\begin{equation*}\n",
    "\\hat{Y}_{t+s} = \\xi_{t+s} + \\Phi\\xi_{t+s-1} +\\dots+\\Phi^s\\xi_{t} + \\Phi^{s+1}\\hat{Y}_{t-1}\n",
    "\\end{equation*}\n",
    "\n",
    "Recuerde que la respuesta del VAR $s$ períodos después a un impulso $\\xi_{t}$ es $\\Phi^s\\xi_{t}$.\n",
    "\n",
    "Si el VAR es estacionario, toda respuesta a cualquier impulso en $t$ debe ser transitoria:\n",
    "\\begin{equation*}\n",
    "\\lim\\limits_{s\\to\\infty}\\Phi^s\\xi_{t} = 0.\n",
    "\\end{equation*}\n",
    "\n",
    "De lo contrario, la media $\\mu$ del proceso no sería constante.\n",
    "\n",
    "Es decir, el VAR es estacionario si y sólo si\n",
    "\\begin{equation*}\n",
    "\\lim\\limits_{s\\to\\infty}\\Phi^s = 0\n",
    "\\end{equation*}\n",
    "\n",
    "\n",
    "\n",
    "## Condiciones para la estacionariedad\n",
    "\n",
    "$Y$ es estacionario si y solo si todos los eigenvalores de $\\Phi$ están dentro {ref}`del círculo unitario<appendix:mult-complex>`.\n",
    "\n",
    "Los eigenvalores $\\lambda$ de $\\Phi$ satisfacen:\n",
    "\\begin{equation*}\n",
    "\\left|I\\lambda^p - \\Phi_1\\lambda^{p-1} - \\dots -\\Phi_p\\right| = 0\n",
    "\\end{equation*}\n",
    "\n",
    "{{ empieza_ejemplo }}  Estacionariedad de un VAR(2) {{ fin_titulo_ejemplo }}\n",
    "\n",
    "Para el VAR(2) del ejemplo anterior:\n",
    "\n",
    "\\begin{align*}\n",
    "0 &=\\left|\\MAT{1 & 0 \\\\ 0 & 1}\\lambda^2 - \\MAT{.5 & .1\\\\.4 & .5}\\lambda - \\MAT{0 & 0\\\\.25 & 0} \\right| \\\\\n",
    " &=\\left|\\MAT{\\lambda^2 -.5\\lambda & -.1\\lambda \\\\ -.4\\lambda -.25 & \\lambda^2 - .5\\lambda} \\right|\\\\\n",
    "&=\\left(\\lambda^2 -.5\\lambda\\right)\\left(\\lambda^2 - .5\\lambda\\right)-\\left(-.4\\lambda -.25\\right)\\left(-.1\\lambda \\right) \\\\\n",
    "&= \\lambda^4 -\\lambda^3+0.21\\lambda^2-0.025\\lambda\n",
    "\\end{align*}\n",
    "\n",
    "Las raíces de este polinomio son\n",
    "\\begin{align*}\n",
    "\\lambda_1 &= 0                &\\rightarrow |\\lambda_1| &= 0      \\\\\n",
    "\\lambda_2 &= 0.7693           &\\rightarrow |\\lambda_2| &= 0.7693      \\\\\n",
    "\\lambda_3 &= 0.1154+0.1385i   &\\rightarrow |\\lambda_3| &= \\sqrt{0.1154^2+0.1385^2} \\approx 0.1803  \\\\\n",
    "\\lambda_4 &= 0.1154-0.1385i   &\\rightarrow |\\lambda_4| &= \\sqrt{0.1154^2+0.1385^2} \\approx 0.1803   \n",
    "\\end{align*}\n",
    "\n",
    "todas ellas dentro del círculo unitario. Por lo tanto, el VAR es estacionario.\n",
    "{{ termina_ejemplo }}\n",
    "\n",
    "\n",
    "\n",
    "\n",
    "\n",
    "\n",
    "\n",
    "\n",
    "{{ empieza_ejemplo }}  {Dinámica de un VAR} {{ fin_titulo_ejemplo }}\n",
    "\n",
    "\n",
    "\n",
    "-  Hasta el momento hemos estudiado\n",
    "\n",
    "-  cómo determinar si un VAR es estacionario\n",
    "-  la función de impulso respuesta\n",
    "\n",
    "-  En el cuaderno de Jupyter \\texttt{02 Simulacion de un VAR.ipynb} se introduce un ejemplo para analizar un VAR.\n",
    "-  En el cuaderno de Jupyter \\texttt{03 VAR(1) clase.ipynb} se presentan 5 modelos VAR reducidos. Acá definimos una \\alert{clase} para representar un VAR.\n",
    "\n",
    "\n",
    "{{ termina_ejemplo }}"
   ]
  }
 ],
 "metadata": {
  "jupytext": {
   "formats": "md:myst",
   "text_representation": {
    "extension": ".md",
    "format_name": "myst"
   }
  },
  "kernelspec": {
   "display_name": "Python 3",
   "language": "python",
   "name": "python3"
  },
  "language_info": {
   "codemirror_mode": {
    "name": "ipython",
    "version": 3
   },
   "file_extension": ".py",
   "mimetype": "text/x-python",
   "name": "python",
   "nbconvert_exporter": "python",
   "pygments_lexer": "ipython3",
   "version": "3.8.8"
  },
  "source_map": [
   17
  ],
  "substitutions": {
   "empieza_ejemplo": "<div class=\"ejemplo\">\n<div class=\"ejemplo-titulo\"><b>Ejemplo: &nbsp;\n",
   "fin_titulo_ejemplo": "</b></div>",
   "termina_ejemplo": "</div>"
  }
 },
 "nbformat": 4,
 "nbformat_minor": 5
}