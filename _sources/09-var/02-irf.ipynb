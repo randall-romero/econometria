{
 "cells": [
  {
   "cell_type": "markdown",
   "id": "soviet-turning",
   "metadata": {},
   "source": [
    "```{include} ../math-definitions.md\n",
    "```\n",
    "\n",
    "\n",
    "# La función de impulso respuesta\n",
    "\n",
    "## Impulso respuesta\n",
    "\n",
    "\\begin{equation*}\n",
    "\\hat{Y}_{t+s} = \\xi_{t+s} + \\Phi\\xi_{t+s-1} +\\dots+ \\alert{\\Phi^s\\xi_{t}} + \\Phi^{s+1}\\hat{Y}_{t-1}\n",
    "\\end{equation*}\n",
    "\n",
    "La función de **impulso-respueta** mide la respuesta observada en la variable $m$-ésima $s$ períodos después ($\\hat{Y}_{t+s,m}$) de que se presenta un impulso en la $k$-ésima variable ($\\xi_{t,k}$)\n",
    "\n",
    "Viene dada por\n",
    "\\begin{equation*}\n",
    "\\marginal{\\hat{Y}_{t+s,m}}{\\xi_{t,k}} = \\left(\\Phi^s\\right)_{km}\n",
    "\\end{equation*}\n",
    "\n",
    "es decir, por el elemento en la fila $k$, columna $m$, de la matriz $\\Phi$ elevada al número de períodos $s$.\n",
    "\n",
    "\n",
    "\n",
    "## Interpretando la función de impulso-respuesta\n",
    "Suponga que\n",
    "\n",
    "-  el sistema estaba en equilibrio en $t-1$, es decir $\\alert{\\hat{Y}_{t-1}=0}$\n",
    "-  hay un shock $v' = \\MAT{v_1&\\dots&v_n}$ a las variables en $t$, $\\alert{\\xi_t = v}$\n",
    "-  el shock es transitorio: $\\alert{0=\\xi_{t+1} = \\xi_{t+2}=\\dots}$\n",
    "\n",
    "En este caso, la desviación del sistema respecto a su equilibrio $s$ períodos después del shock es\n",
    "\\begin{equation*}\n",
    "\\hat{Y}_{t+s} = \\Phi^sv\n",
    "\\end{equation*}\n",
    "\n",
    "\n",
    "\\begin{equation*}\n",
    "\\Omega = PP' = \\left[\\Gamma_0^{-1}\\Sigma^{1/2}\\right] \\left[\\Gamma_0^{-1}\\Sigma^{1/2}\\right]' = \\Gamma_0^{-1}\\Sigma{\\Gamma'}_0^{-1}\n",
    "\\end{equation*}\n",
    "\n",
    "En la práctica, estamos interesados en shocks $\\varepsilon_t$ a las ecuaciones estructurales, en vez de a las ecuaciones reducidas $\\epsilon_t$. Esto para tomar en cuenta los efectos contemporáneos del shock.\n",
    "\n",
    "Para calcular las respuestas, nos valemos de $\\epsilon_t = \\Gamma_0^{-1}\\varepsilon_t$ y de la descomposición de Cholesky de la covarianza de los errores reducidos $\\Omega$:\n",
    "\n",
    "| Tamaño del impulso | Impulso estructural          | Impulso reducido                | Respuesta                          |\n",
    "|--------------------|------------------------------|---------------------------------|------------------------------------|\n",
    "| unitarios          | $\\varepsilon_t=I$            | $v = \\Gamma_0^{-1}$             | $\\Phi^s\\Gamma_0^{-1}$              |\n",
    "| 1 desv. estándar   | $\\varepsilon_t=\\Sigma^{1/2}$ | $v = \\Gamma_0^{-1}\\Sigma^{1/2}$ | $\\Phi^s \\Gamma_0^{-1}\\Sigma^{1/2}$ |\n",
    "\n",
    "\n",
    "{{ empieza_ejemplo }} Impulso respuesta y descomposición de Cholesky {{ fin_titulo_ejemplo }}\n",
    "\n",
    "Siguiendo con el ejemplo anterior, si $y'_t=\\MAT{m_t & r_t & k_t}$ y la matriz de covarianza reducida es\n",
    "\n",
    "\\begin{equation*}\n",
    "\\begin{aligned}\n",
    "\\Omega = \\MAT{1 & 0.5 & -1 \\\\ 0.5 & 4.25 & 2.5\\\\ -1 &  2.5 & 12.25}\n",
    "&=\\simbolo{\\MAT{1 & 0 & 0\\\\ 0.5 & 2 & 0\\\\-1 & 1.5 & 3}}{P}\n",
    "\\simbolo{\\MAT{1 & 0.5 & -1\\\\ 0 & 2 & 1.5 \\\\0 & 0 & 3}}{P'} \\\\\n",
    "&=\\simbolo{\\MAT{1 & 0 & 0\\\\ 0.5 & 1 & 0\\\\-1 & 0.75 & 1}}{\\Gamma_0^{-1}}\n",
    "\\simbolo{\\MAT{1 & 0 & 0\\\\ 0 & 4 & 0 \\\\0 & 0 & 9}}{\\Sigma}\n",
    "\\simbolo{\\MAT{1 & 0.5 & -1\\\\ 0 & 1 & 0.75 \\\\0 & 0 & 1}}{{\\Gamma'}_0^{-1}}\n",
    "\\end{aligned}\n",
    "\\end{equation*}\n",
    "\n",
    "La respuesta del sistema a un shock en $k_t$ se calcula a partir de...\n",
    "\n",
    "-  $v'=\\MAT{0 & 2 & 1.5}$ si el shock es de una desviación estándar.\n",
    "-  $v'=\\MAT{0 & 1 & 0.75}$ si el shock es unitario.\n",
    "{{ termina_ejemplo }}"
   ]
  }
 ],
 "metadata": {
  "jupytext": {
   "formats": "md:myst",
   "text_representation": {
    "extension": ".md",
    "format_name": "myst"
   }
  },
  "kernelspec": {
   "display_name": "Python 3",
   "language": "python",
   "name": "python3"
  },
  "language_info": {
   "codemirror_mode": {
    "name": "ipython",
    "version": 3
   },
   "file_extension": ".py",
   "mimetype": "text/x-python",
   "name": "python",
   "nbconvert_exporter": "python",
   "pygments_lexer": "ipython3",
   "version": "3.8.8"
  },
  "source_map": [
   17
  ],
  "substitutions": {
   "empieza_ejemplo": "<div class=\"ejemplo\">\n<div class=\"ejemplo-titulo\"><b>Ejemplo: &nbsp;\n",
   "fin_titulo_ejemplo": "</b></div>",
   "termina_ejemplo": "</div>"
  }
 },
 "nbformat": 4,
 "nbformat_minor": 5
}