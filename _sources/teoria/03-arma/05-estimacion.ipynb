{
 "cells": [
  {
   "cell_type": "markdown",
   "id": "924ec8a8",
   "metadata": {},
   "source": [
    "```{include} ../math-definitions.md\n",
    "```"
   ]
  },
  {
   "cell_type": "code",
   "execution_count": 1,
   "id": "0a0e3021",
   "metadata": {
    "tags": [
     "hide-input"
    ]
   },
   "outputs": [],
   "source": [
    "import bccr\n",
    "import matplotlib.pyplot as plt\n",
    "plt.style.use('seaborn')\n",
    "\n",
    "import numpy as np\n",
    "import pandas as pd\n",
    "from statsmodels.tsa.arima.model import ARIMA\n",
    "from statsmodels.graphics.tsaplots import plot_acf, plot_pacf"
   ]
  },
  {
   "cell_type": "markdown",
   "id": "01e44fa1",
   "metadata": {},
   "source": [
    "# Estimación de modelos ARMA\n",
    "\n",
    "\n",
    "## Introducción (muy breve) al estimador de máxima verosimilitud\n",
    "\n",
    "Sea $f(y| \\theta)$ la función de densidad conjunta de la variable $Y=[Y_1, \\dots, Y_n]$. Entonces, para una **muestra observada** $\\mathbf{y}$ de esta distribución, la función del vector de parámetros $\\theta$ definida por\n",
    "\n",
    "```{note}\n",
    "\\begin{equation*}\n",
    "L(\\theta | \\mathbf{y}) = f(\\mathbf{y}|\\theta)\n",
    "\\end{equation*}\n",
    "```\n",
    "\n",
    "se conoce como la **función de verosimilitud**.\n",
    "\n",
    "\n",
    "El **estimador de máxima verosimilitud** es el valor del vector de parámetros $\\theta$ que maximiza la función de verosimilitud\n",
    "\\begin{equation*}\n",
    "\\hat{\\theta}_{\\text{ML}} \\equiv \\argmax{\\theta}\\notationbrace{\\mathcal{L}(\\theta | \\mathbf{y})}{$\\ln L\\left[(\\theta | \\mathbf{y})\\right]$}\n",
    "\\end{equation*}\n",
    "\n",
    "Es decir, $\\hat{\\theta}_{\\text{ML}}$ es el parámetro que hace más plausible haber obtenido la muestra $\\mathbf{y}$ si la verdadera distribución era $f(y|\\theta)$.\n",
    "\n",
    "\n",
    "\n",
    "{{ empieza_ejemplo }} Estimador máximo verosímil de una distribución exponencial {{ fin_titulo_ejemplo }}\n",
    "\n",
    "Supongamos que tenemos una muestra $\\left\\{x_1, \\dots,x_N\\right\\}$ de valores tomados de realizaciones independientes de una distribución exponencial con parámetro $\\lambda$\n",
    "\n",
    "La función de densidad de una observación es $f(x|\\lambda) = \\lambda e^{-\\lambda x}$\n",
    "\n",
    "\n",
    "La función de verosimilitud es la probabilidad conjunta de observar esta muestra:\n",
    "\\begin{align*}\n",
    "L(\\lambda | x_1, \\dots,x_N) &= \\prod_{i=1}^{N}\\lambda e^{-\\lambda x_i}\n",
    "\\end{align*}\n",
    "\n",
    "o bien, tomando su logaritmo\n",
    "\\begin{align*}\n",
    "\\mathcal{L}(\\lambda | x_1, \\dots,x_N) &= \\sum_{i=1}^{N}\\left[\\ln\\lambda -\\lambda x_i\\right] \\\\\n",
    "&= N\\ln\\lambda -\\lambda \\sum_{i=1}^{N}x_i\n",
    "\\end{align*}\n",
    "\n",
    "\n",
    "Para encontrar el máximo:\n",
    "\\begin{align*}\n",
    "\\marginal{\\mathcal{L}(\\lambda)}{\\lambda} = \\frac{N}{\\lambda} - \\sum_{i=1}^{N}x_i = 0\n",
    "\\end{align*}\n",
    "\n",
    "Por lo tanto, el estimador de máxima verosimilitud es:\n",
    "\\begin{equation*}\n",
    "\\hat{\\lambda}_{\\text{ML}} = \\frac{N}{\\sum_{i=1}^{N}x_i} = \\frac{1}{\\bar{x}}\n",
    "\\end{equation*}\n",
    "\n",
    "donde $\\bar{x}$ es el promedio simple de los datos.\n",
    "{{ termina_ejemplo }}\n",
    "\n",
    "## Estimación de modelos ARMA\n",
    "\n",
    "Pensemos en un proceso ARMA estacionario como una distribución conjunta de $Y_1, \\dots, Y_T$, donde\n",
    "\\begin{equation*}\n",
    "\\E(Y_t) = \\mu \\Cov(Y_t, Y_{t-j}) = \\gamma_j\n",
    "\\end{equation*}\n",
    "\n",
    "Entonces\n",
    "\\begin{align*}\n",
    "\\E\\MAT{Y_1 \\\\ \\vdots \\\\ Y_T}   &= \\MAT{\\mu \\\\ \\vdots \\\\ \\mu} = \\mathbb{\\mu} \\\\\n",
    "\\Var\\MAT{Y_1 \\\\ \\vdots \\\\ Y_T} &=\\gamma_0\n",
    "\\MAT{1 & \\rho_1 &\\dots & \\rho_{T-1} \\\\\n",
    " \\rho_1 & 1 & \\dots & \\rho_{T-2} \\\\\n",
    "\\vdots & \\vdots & \\ddots & \\vdots \\\\\n",
    " \\rho_{T-1} &\\rho_{T-2} & \\dots & 1} = \\Omega\n",
    "\\end{align*}\n",
    "\n",
    "\n",
    "Supongamos que tenemos una serie de tiempo débilmente estacionaria, con datos generados por el proceso ARMA descrito anteriormente.\n",
    "\\begin{equation*}\n",
    "\\mathbf{y} = [y_1, y_2, \\dots, y_T]'\n",
    "\\end{equation*}\n",
    "\n",
    "Si asumimos que el ruido blanco $\\epsilon_t$ tiene una distribución normal, entonces el proceso ARMA tiene una distribución normal multivariada\n",
    "\n",
    "Su función de log-verosimilitud es\n",
    "\\begin{equation*}\n",
    "\\mathcal{L}(\\mathbf{\\theta}) = -\\tfrac{T}{2}\\ln(2\\pi) + \\tfrac{1}{2}\\ln|\\Omega^{-1}| - \\tfrac{1}{2}(\\mathbf{y}-\\mathbf{\\mu})'\\Omega^{-1}(\\mathbf{y}-\\mathbf{\\mu})\n",
    "\\end{equation*}\n",
    "\n",
    "donde\n",
    "\\begin{equation*}\n",
    "\\mathbf{\\theta} = [c, \\phi_1, \\dots, \\phi_p, \\theta_1, \\dots,\\theta_q]\n",
    "\\end{equation*}\n",
    "\n",
    "\n",
    "\n",
    "En general, los modelos ARMA se estiman por el método de máxima verosimilitud.\n",
    "\n",
    "Para ello, se igualan a cero las derivadas de la función $\\mathcal{L}(\\mathbf{\\theta})$ con respecto a cada uno de los parámetros presentes en $\\mathbf{\\theta}$.\n",
    "\n",
    "El resultado es un sistema de ecuaciones no lineales que carece de solución cerrada.\n",
    "\n",
    "Por ello, es necesario recurrir a métodos numéricos para resolver estos sistemas de ecuaciones.\n",
    "Por razones de tiempo, no cubrimos estos métodos en este curso. Para más detalles, consulte {cite}`Greene:2012`(cap.5) y {cite}`MirandaFackler:2002` (caps.3 y 4).\n",
    "\n",
    "\n",
    "\n",
    "## Estimación de modelos autorregresivos\n",
    "\n",
    "Para el modelo AR(p)\n",
    "\\begin{align*}\n",
    "y_t & = c + \\phi_1 y_{t-1} +\\dots + \\phi_p y_{t-p} +  \\epsilon_t & \\Var(\\epsilon_t) &= \\sigma^2\n",
    "\\end{align*}\n",
    "es posible estimar los parámetros $c, \\phi_1, \\dots, \\phi_p$ por mínimos cuadrados ordinarios.\n",
    "\n",
    "* El resultado es equivalente a un estimador de máxima verosimilitud condicional.\n",
    "* Se llama así porque los primeros $p$ valores de la serie se toman como dados.\n",
    "* Si la muestra es grande, el resultado es equivalente al estimador de máxima verosimilitud exacto.\n",
    "* El parámetro $\\sigma^2$ se estima como el promedio de los cuadrados de los residuos de la regresión anterior.\n",
    "\n",
    "\n",
    "{{ empieza_ejemplo }} Estimando un modelo AR(3) para la inflación mensual {{ fin_titulo_ejemplo }}\n",
    "\n",
    "```{margin} Archivos\n",
    "* bccr.ServicioWeb\n",
    "* ISI-AR3.ipynb\n",
    "```\n",
    "Veamos la serie histórica y los autocorrelogramas de la inflación mensual subyacente de Costa Rica"
   ]
  },
  {
   "cell_type": "code",
   "execution_count": 2,
   "id": "c056e6bf",
   "metadata": {
    "tags": [
     "hide-input"
    ]
   },
   "outputs": [
    {
     "data": {
      "image/png": "[encoded data removed]",
      "text/plain": [
       "<Figure size 720x360 with 3 Axes>"
      ]
     },
     "metadata": {
      "filenames": {
       "image/png": "C:\\Users\\randa\\OneDrive\\Documents\\Teaching\\econometria\\_build\\jupyter_execute\\teoria\\03-arma\\05-estimacion_3_0.png"
      },
      "needs_background": "light"
     },
     "output_type": "display_data"
    }
   ],
   "source": [
    "isi = bccr.SW(isi=25725).dropna()\n",
    "fig, axs  = plt.subplot_mosaic(\n",
    "\"\"\"\n",
    "AA\n",
    "BC\n",
    "\"\"\",\n",
    "figsize=[10,5], tight_layout=True    \n",
    ")\n",
    "isi.plot(ax=axs['A'], title='Inflación subyacente, mensual', legend=None)\n",
    "plot_acf(isi, ax=axs['B'], title='Autocorrelación')\n",
    "plot_pacf(isi, ax=axs['C'], method='ywm', title='Autocorrelación parcial')\n",
    "axs['B'].set_xticks(range(0,30,6))\n",
    "axs['C'].set_xticks(range(0,30,6));"
   ]
  },
  {
   "cell_type": "markdown",
   "id": "4391dfad",
   "metadata": {},
   "source": [
    "Consideremos este proceso AR(3) para modelar la inflación mensual subyacente\n",
    "\\begin{equation*}\n",
    "y_t  = c + \\phi_1 y_{t-1} + \\phi_2 y_{t-2} + \\phi_3 y_{t-3} +  \\epsilon_t\n",
    "\\end{equation*}\n",
    "\n",
    "la cual estimamos con datos mensuales (2006m08 a 2020m03, indicador 25725)."
   ]
  },
  {
   "cell_type": "code",
   "execution_count": 3,
   "id": "584f7e40",
   "metadata": {
    "tags": [
     "hide-input"
    ]
   },
   "outputs": [
    {
     "data": {
      "text/html": [
       "<table class=\"simpletable\">\n",
       "<caption>SARIMAX Results</caption>\n",
       "<tr>\n",
       "  <th>Dep. Variable:</th>          <td>isi</td>       <th>  No. Observations:  </th>   <td>173</td> \n",
       "</tr>\n",
       "<tr>\n",
       "  <th>Model:</th>            <td>ARIMA(3, 0, 0)</td>  <th>  Log Likelihood     </th> <td>-4.734</td>\n",
       "</tr>\n",
       "<tr>\n",
       "  <th>Date:</th>            <td>Wed, 20 Jul 2022</td> <th>  AIC                </th> <td>19.468</td>\n",
       "</tr>\n",
       "<tr>\n",
       "  <th>Time:</th>                <td>04:02:15</td>     <th>  BIC                </th> <td>35.234</td>\n",
       "</tr>\n",
       "<tr>\n",
       "  <th>Sample:</th>             <td>08-31-2006</td>    <th>  HQIC               </th> <td>25.864</td>\n",
       "</tr>\n",
       "<tr>\n",
       "  <th></th>                   <td>- 12-31-2020</td>   <th>                     </th>    <td> </td>  \n",
       "</tr>\n",
       "<tr>\n",
       "  <th>Covariance Type:</th>        <td>opg</td>       <th>                     </th>    <td> </td>  \n",
       "</tr>\n",
       "</table>\n",
       "<table class=\"simpletable\">\n",
       "<tr>\n",
       "     <td></td>       <th>coef</th>     <th>std err</th>      <th>z</th>      <th>P>|z|</th>  <th>[0.025</th>    <th>0.975]</th>  \n",
       "</tr>\n",
       "<tr>\n",
       "  <th>const</th>  <td>    0.3406</td> <td>    0.116</td> <td>    2.939</td> <td> 0.003</td> <td>    0.113</td> <td>    0.568</td>\n",
       "</tr>\n",
       "<tr>\n",
       "  <th>ar.L1</th>  <td>    0.2630</td> <td>    0.069</td> <td>    3.787</td> <td> 0.000</td> <td>    0.127</td> <td>    0.399</td>\n",
       "</tr>\n",
       "<tr>\n",
       "  <th>ar.L2</th>  <td>    0.1983</td> <td>    0.050</td> <td>    3.998</td> <td> 0.000</td> <td>    0.101</td> <td>    0.296</td>\n",
       "</tr>\n",
       "<tr>\n",
       "  <th>ar.L3</th>  <td>    0.3646</td> <td>    0.069</td> <td>    5.270</td> <td> 0.000</td> <td>    0.229</td> <td>    0.500</td>\n",
       "</tr>\n",
       "<tr>\n",
       "  <th>sigma2</th> <td>    0.0615</td> <td>    0.005</td> <td>   12.753</td> <td> 0.000</td> <td>    0.052</td> <td>    0.071</td>\n",
       "</tr>\n",
       "</table>\n",
       "<table class=\"simpletable\">\n",
       "<tr>\n",
       "  <th>Ljung-Box (L1) (Q):</th>     <td>0.01</td> <th>  Jarque-Bera (JB):  </th> <td>96.24</td>\n",
       "</tr>\n",
       "<tr>\n",
       "  <th>Prob(Q):</th>                <td>0.94</td> <th>  Prob(JB):          </th> <td>0.00</td> \n",
       "</tr>\n",
       "<tr>\n",
       "  <th>Heteroskedasticity (H):</th> <td>0.23</td> <th>  Skew:              </th> <td>1.11</td> \n",
       "</tr>\n",
       "<tr>\n",
       "  <th>Prob(H) (two-sided):</th>    <td>0.00</td> <th>  Kurtosis:          </th> <td>5.90</td> \n",
       "</tr>\n",
       "</table><br/><br/>Warnings:<br/>[1] Covariance matrix calculated using the outer product of gradients (complex-step)."
      ],
      "text/plain": [
       "<class 'statsmodels.iolib.summary.Summary'>\n",
       "\"\"\"\n",
       "                               SARIMAX Results                                \n",
       "==============================================================================\n",
       "Dep. Variable:                    isi   No. Observations:                  173\n",
       "Model:                 ARIMA(3, 0, 0)   Log Likelihood                  -4.734\n",
       "Date:                Wed, 20 Jul 2022   AIC                             19.468\n",
       "Time:                        04:02:15   BIC                             35.234\n",
       "Sample:                    08-31-2006   HQIC                            25.864\n",
       "                         - 12-31-2020                                         \n",
       "Covariance Type:                  opg                                         \n",
       "==============================================================================\n",
       "                 coef    std err          z      P>|z|      [0.025      0.975]\n",
       "------------------------------------------------------------------------------\n",
       "const          0.3406      0.116      2.939      0.003       0.113       0.568\n",
       "ar.L1          0.2630      0.069      3.787      0.000       0.127       0.399\n",
       "ar.L2          0.1983      0.050      3.998      0.000       0.101       0.296\n",
       "ar.L3          0.3646      0.069      5.270      0.000       0.229       0.500\n",
       "sigma2         0.0615      0.005     12.753      0.000       0.052       0.071\n",
       "===================================================================================\n",
       "Ljung-Box (L1) (Q):                   0.01   Jarque-Bera (JB):                96.24\n",
       "Prob(Q):                              0.94   Prob(JB):                         0.00\n",
       "Heteroskedasticity (H):               0.23   Skew:                             1.11\n",
       "Prob(H) (two-sided):                  0.00   Kurtosis:                         5.90\n",
       "===================================================================================\n",
       "\n",
       "Warnings:\n",
       "[1] Covariance matrix calculated using the outer product of gradients (complex-step).\n",
       "\"\"\""
      ]
     },
     "execution_count": 3,
     "metadata": {},
     "output_type": "execute_result"
    }
   ],
   "source": [
    "res = ARIMA(isi, order=[3,0,0]).fit()\n",
    "res.summary()"
   ]
  },
  {
   "cell_type": "markdown",
   "id": "9726473a",
   "metadata": {},
   "source": [
    "El modelo ajustado es\n",
    "\\begin{align*}\n",
    "\\tilde{y}_t &= 0.2534\\tilde{y}_{t-1} + 0.1996\\tilde{y}_{t-2}+0.3690\\tilde{y}_{t-3}+\\epsilon_t \\\\\n",
    "\\tilde{y}_t &=y_t - 0.3535 \\\\\n",
    " \\epsilon_t&\\sim\\text{N}(0,0.2522^2)\n",
    "\\end{align*}\n",
    "\n",
    "Las raíces inversas del polinomio\\newline $1 - 0.253\\Lag - 0.200\\Lag^2 - 0.369\\Lag^3$ están dentro del círculo unitario, por lo que el proceso es estacionario."
   ]
  },
  {
   "cell_type": "code",
   "execution_count": 4,
   "id": "9bb46d0d",
   "metadata": {
    "tags": [
     "hide-input"
    ]
   },
   "outputs": [
    {
     "data": {
      "image/png": "[encoded data removed]",
      "text/plain": [
       "<Figure size 432x288 with 1 Axes>"
      ]
     },
     "metadata": {
      "filenames": {
       "image/png": "C:\\Users\\randa\\OneDrive\\Documents\\Teaching\\econometria\\_build\\jupyter_execute\\teoria\\03-arma\\05-estimacion_7_0.png"
      },
      "needs_background": "light"
     },
     "output_type": "display_data"
    }
   ],
   "source": [
    "arroots = 1/res.arroots\n",
    "\n",
    "plt.polar(np.angle(arroots), np.abs(arroots), '.', ms=20)\n",
    "fig = plt.gcf()\n",
    "ax = fig.gca()\n",
    "ax.set_rlim([0,1])\n",
    "ax.set_title('Raíces inversas del polinomio autorregresivo');"
   ]
  },
  {
   "cell_type": "markdown",
   "id": "c315f7c0",
   "metadata": {},
   "source": [
    "Los residuos de la regresión parecen ruido blanco, excepto por la presencia de un efecto estacional (rezago 12)."
   ]
  },
  {
   "cell_type": "code",
   "execution_count": 5,
   "id": "cf769920",
   "metadata": {
    "tags": [
     "hide-input"
    ]
   },
   "outputs": [
    {
     "data": {
      "image/png": "[encoded data removed]",
      "text/plain": [
       "<Figure size 720x360 with 3 Axes>"
      ]
     },
     "metadata": {
      "filenames": {
       "image/png": "C:\\Users\\randa\\OneDrive\\Documents\\Teaching\\econometria\\_build\\jupyter_execute\\teoria\\03-arma\\05-estimacion_9_0.png"
      },
      "needs_background": "light"
     },
     "output_type": "display_data"
    }
   ],
   "source": [
    "residuos = res.resid.dropna()\n",
    "\n",
    "fig, axs  = plt.subplot_mosaic(\n",
    "\"\"\"\n",
    "AA\n",
    "BC\n",
    "\"\"\",\n",
    "figsize=[10,5], tight_layout=True)\n",
    "\n",
    "residuos.plot(ax=axs['A'], title='Residuos del modelo AR(3)', legend=None)\n",
    "plot_acf(residuos, ax=axs['B'], title='Autocorrelación')\n",
    "plot_pacf(residuos, ax=axs['C'], method='ywm', title='Autocorrelación parcial')\n",
    "axs['B'].set_xticks(range(0,30,6))\n",
    "axs['C'].set_xticks(range(0,30,6));"
   ]
  },
  {
   "cell_type": "markdown",
   "id": "201f1b93",
   "metadata": {},
   "source": [
    "En Stata:\n",
    "\n",
    "![](./figures/isi-AR3stata.png)\n",
    "{{ termina_ejemplo }}\n",
    "\n",
    "\n",
    "## Selección de modelos\n",
    "\n",
    "En la estimación de máxima verosimilitud de un modelo ARMA(p,q) hay un supuesto implícito: que sabemos el orden del proceso, es decir, que sabemos el número “correcto” de rezagos $p, q$\n",
    "\n",
    "En la práctica, esto rara vez sucede. Tenemos una disyuntiva: Entre más rezagos incluyamos\n",
    "\n",
    "* “mejor” será el ajuste del modelo a los datos.\n",
    "* “peor”  se vuelve la precisión de los parámetros que se estiman.\n",
    "\n",
    "La metodología de Box-Jenkins sugiere buscar modelos **parsimoniosos**.\n",
    "\n",
    "<!-- % Hamilton p.109 -->\n",
    "\n",
    "La parsimonia (usar tan pocos parámetros como sea necesario) tiene sus beneficios a la hora de hacer pronósticos.\n",
    "\n",
    "Muchos modelos estructurales complejos tienen un ajuste muy alto a la muestra en que se estiman, pero hacen pronósticos muy pobres fuera de la muestra.\n",
    "\n",
    "Sorprendentemente, modelos ARMA univariados sencillos pueden hacer mejores pronósticos.\n",
    "\n",
    "La idea es que entre más parámetros haya que estimar, más posibilidad hay de hacerlo mal.\n",
    "\n",
    "\n",
    "\n",
    "## La filosofía de modelación de Box-Jenkins  \n",
    "<!-- % Hamilton p.110 -->\n",
    "El enfoque para pronosticar de Box-Jenkins consiste de cuatro etapas:\n",
    "\n",
    "1. Transformar los datos (de ser necesario) para que el supuesto de estacionariedad sea razonable.\n",
    "2. Adivinar valores pequeños de $p$ y $q$ para un modelo ARMA(p,q) que pueda describir la serie transformada.\n",
    "3. Estimar los parámetros de $\\phi(\\Lag)$  y  $\\theta(\\Lag)$.\n",
    "4. Realizar análisis de diagnóstico para confirmar que el modelo es consistente con los datos observados.\n",
    "\n",
    "\n",
    "## Distinguiendo los procesos AR(p) de los MA(q)\n",
    "<!-- %KWH p.69 -->\n",
    "\n",
    "\n",
    "\n",
    "\n",
    "| Proceso\t  |   Autocorrelación           |  Autocorrelación parcial     |\n",
    "| :---------- | :-------------------------- | :--------------------------- |\n",
    "|\tMA(q)     | se parte en $q$             | no se parte                  |\n",
    "|             | ![](./figures/ma2acf.png)   | ![](./figures/ma2pacf.png)   |\n",
    "|\tAR(p)     | no se parte                 | se parte en $p$              |\n",
    "|             | ![](./figures/ar++acf.png)  | ![](./figures/ar++pacf.png)  |\n",
    "\n",
    "\n",
    "\n",
    "\n",
    "## Criterios de selección\n",
    "\n",
    "El autocorrelograma y el autocorrelograma parcial ayudan a reconocer series ARMA(p,0) y ARMA(0, q), pero no series ARMA(p,q) con $pq\\neq 0$.\n",
    "\n",
    "Para esto, recurrimos a **criterios de selección**.  Estos criterios tratan de resolver la disyuntiva de que a mayores valores de $p,q$, “mejor” será el ajuste pero “peor” la precisión de la estimación.\n",
    "\n",
    "Los criterios más usuales son el de Akaike (Akaike) y el de Bayes (BIC).\n",
    "\n",
    "Sean $\\mathcal{L}$ el máximo de la función log-verosimilitud, $T$ el número de observaciones, y $K=p+q+2$ el número de parámetros estimado. Entonces\n",
    "\n",
    "\n",
    "::::{grid}\n",
    ":gutter: 3\n",
    "\n",
    ":::{grid-item-card} Criterio de información de Akaike\n",
    "\\begin{equation*}\n",
    "\\text{AIC} = \\notation{-2\\mathcal{L}}{“desajuste”} + \\notation{2K}{penalización}\n",
    "\\end{equation*}\n",
    ":::\n",
    "\n",
    ":::{grid-item-card} Criterio de información de Bayes\n",
    "\\begin{equation*}\n",
    "\\text{BIC} = \\notation{-2\\mathcal{L}}{“desajuste”} + \\notation{\\ln(T)K}{penalización}\n",
    "\\end{equation*}\n",
    ":::\n",
    "::::\n",
    "\n",
    "\n",
    "\n",
    "Se escoge la combinación $p,q$ que minimiza el criterio de información. En la práctica, en ocasiones AIC y BIC escogen modelos distintos.\n",
    "\n",
    "\n",
    "{{ empieza_ejemplo }} Seleccionando p, q para un modelo ARMA de inflación {{ fin_titulo_ejemplo }}\n",
    "\n",
    "```{margin} Archivos\n",
    "* bccr.ServicioWeb\n",
    "* ISI-AR3.ipynb\n",
    "```\n",
    "En Stata, para el modelo AR(3) que estimamos en el ejemplo anterior:\n",
    "\n",
    "```{image} ./figures/isi-AR3stata-aic.png\n",
    "```\n",
    "\n",
    "Calculamos los criterios de información:\n",
    "\n",
    "\n",
    "\\begin{align*}\n",
    "\\text{AIC} &= -2\\mathcal{L} + 2K \\\\\n",
    "           &=-2\\times -7.3195 + 2\\times 5 = 24.63909\\\\ \\\\\n",
    "\\text{BIC} &= -2\\mathcal{L} + \\ln(T)K \\\\\n",
    "           &=-2\\times -7.3195 + \\ln(164)\\times 5 = 40.13842\n",
    "\\end{align*}\n",
    "\n",
    "\n",
    "Si calculamos los dos criterios para una combinación de valores $p,q$ obtenemos\n",
    "\n",
    "{bdg-primary}`AIC`"
   ]
  },
  {
   "cell_type": "code",
   "execution_count": 6,
   "id": "3e903472",
   "metadata": {
    "tags": [
     "hide-input"
    ]
   },
   "outputs": [
    {
     "name": "stderr",
     "output_type": "stream",
     "text": [
      "C:\\ProgramData\\Anaconda3\\envs\\libro-ec4301\\lib\\site-packages\\statsmodels\\tsa\\statespace\\sarimax.py:966: UserWarning: Non-stationary starting autoregressive parameters found. Using zeros as starting parameters.\n",
      "  warn('Non-stationary starting autoregressive parameters'\n"
     ]
    },
    {
     "name": "stderr",
     "output_type": "stream",
     "text": [
      "C:\\ProgramData\\Anaconda3\\envs\\libro-ec4301\\lib\\site-packages\\statsmodels\\tsa\\statespace\\sarimax.py:966: UserWarning: Non-stationary starting autoregressive parameters found. Using zeros as starting parameters.\n",
      "  warn('Non-stationary starting autoregressive parameters'\n",
      "C:\\ProgramData\\Anaconda3\\envs\\libro-ec4301\\lib\\site-packages\\statsmodels\\tsa\\statespace\\sarimax.py:978: UserWarning: Non-invertible starting MA parameters found. Using zeros as starting parameters.\n",
      "  warn('Non-invertible starting MA parameters found.'\n"
     ]
    },
    {
     "name": "stderr",
     "output_type": "stream",
     "text": [
      "C:\\ProgramData\\Anaconda3\\envs\\libro-ec4301\\lib\\site-packages\\statsmodels\\tsa\\statespace\\sarimax.py:966: UserWarning: Non-stationary starting autoregressive parameters found. Using zeros as starting parameters.\n",
      "  warn('Non-stationary starting autoregressive parameters'\n",
      "C:\\ProgramData\\Anaconda3\\envs\\libro-ec4301\\lib\\site-packages\\statsmodels\\tsa\\statespace\\sarimax.py:978: UserWarning: Non-invertible starting MA parameters found. Using zeros as starting parameters.\n",
      "  warn('Non-invertible starting MA parameters found.'\n"
     ]
    },
    {
     "data": {
      "text/html": [
       "<style type=\"text/css\">\n",
       "#T_e8a9e_row3_col0 {\n",
       "  background-color: yellow;\n",
       "}\n",
       "</style>\n",
       "<table id=\"T_e8a9e\">\n",
       "  <thead>\n",
       "    <tr>\n",
       "      <th class=\"blank level0\" >&nbsp;</th>\n",
       "      <th id=\"T_e8a9e_level0_col0\" class=\"col_heading level0 col0\" >q=0</th>\n",
       "      <th id=\"T_e8a9e_level0_col1\" class=\"col_heading level0 col1\" >q=1</th>\n",
       "      <th id=\"T_e8a9e_level0_col2\" class=\"col_heading level0 col2\" >q=2</th>\n",
       "    </tr>\n",
       "  </thead>\n",
       "  <tbody>\n",
       "    <tr>\n",
       "      <th id=\"T_e8a9e_level0_row0\" class=\"row_heading level0 row0\" >p=0</th>\n",
       "      <td id=\"T_e8a9e_row0_col0\" class=\"data row0 col0\" >131.620888</td>\n",
       "      <td id=\"T_e8a9e_row0_col1\" class=\"data row0 col1\" >89.023411</td>\n",
       "      <td id=\"T_e8a9e_row0_col2\" class=\"data row0 col2\" >82.401382</td>\n",
       "    </tr>\n",
       "    <tr>\n",
       "      <th id=\"T_e8a9e_level0_row1\" class=\"row_heading level0 row1\" >p=1</th>\n",
       "      <td id=\"T_e8a9e_row1_col0\" class=\"data row1 col0\" >60.759065</td>\n",
       "      <td id=\"T_e8a9e_row1_col1\" class=\"data row1 col1\" >25.081481</td>\n",
       "      <td id=\"T_e8a9e_row1_col2\" class=\"data row1 col2\" >26.533141</td>\n",
       "    </tr>\n",
       "    <tr>\n",
       "      <th id=\"T_e8a9e_level0_row2\" class=\"row_heading level0 row2\" >p=2</th>\n",
       "      <td id=\"T_e8a9e_row2_col0\" class=\"data row2 col0\" >41.690410</td>\n",
       "      <td id=\"T_e8a9e_row2_col1\" class=\"data row2 col1\" >26.708214</td>\n",
       "      <td id=\"T_e8a9e_row2_col2\" class=\"data row2 col2\" >28.697323</td>\n",
       "    </tr>\n",
       "    <tr>\n",
       "      <th id=\"T_e8a9e_level0_row3\" class=\"row_heading level0 row3\" >p=3</th>\n",
       "      <td id=\"T_e8a9e_row3_col0\" class=\"data row3 col0\" >19.467588</td>\n",
       "      <td id=\"T_e8a9e_row3_col1\" class=\"data row3 col1\" >21.346944</td>\n",
       "      <td id=\"T_e8a9e_row3_col2\" class=\"data row3 col2\" >23.220068</td>\n",
       "    </tr>\n",
       "    <tr>\n",
       "      <th id=\"T_e8a9e_level0_row4\" class=\"row_heading level0 row4\" >p=4</th>\n",
       "      <td id=\"T_e8a9e_row4_col0\" class=\"data row4 col0\" >21.338571</td>\n",
       "      <td id=\"T_e8a9e_row4_col1\" class=\"data row4 col1\" >23.338547</td>\n",
       "      <td id=\"T_e8a9e_row4_col2\" class=\"data row4 col2\" >19.543282</td>\n",
       "    </tr>\n",
       "  </tbody>\n",
       "</table>\n"
      ],
      "text/plain": [
       "<pandas.io.formats.style.Styler at 0x1c67848ae50>"
      ]
     },
     "execution_count": 6,
     "metadata": {},
     "output_type": "execute_result"
    }
   ],
   "source": [
    "pmax = 4\n",
    "qmax = 2\n",
    "P = np.arange(pmax+1)\n",
    "Q = np.arange(qmax+1)\n",
    "plabels = [f'p={p}' for p in P]\n",
    "qlabels = [f'q={q}' for q in Q]\n",
    "\n",
    "AIC = pd.DataFrame(\n",
    "        [[ARIMA(isi, order=[p,0,q]).fit().aic for q in Q ] for p in P ],\n",
    "        index=plabels, columns=qlabels)\n",
    "\n",
    "AIC.style.highlight_min(axis=None)"
   ]
  },
  {
   "cell_type": "markdown",
   "id": "706ca8a9",
   "metadata": {},
   "source": [
    "{bdg-primary}`BIC`"
   ]
  },
  {
   "cell_type": "code",
   "execution_count": 7,
   "id": "64f86ca7",
   "metadata": {
    "tags": [
     "hide-input"
    ]
   },
   "outputs": [
    {
     "name": "stderr",
     "output_type": "stream",
     "text": [
      "C:\\ProgramData\\Anaconda3\\envs\\libro-ec4301\\lib\\site-packages\\statsmodels\\tsa\\statespace\\sarimax.py:966: UserWarning: Non-stationary starting autoregressive parameters found. Using zeros as starting parameters.\n",
      "  warn('Non-stationary starting autoregressive parameters'\n"
     ]
    },
    {
     "name": "stderr",
     "output_type": "stream",
     "text": [
      "C:\\ProgramData\\Anaconda3\\envs\\libro-ec4301\\lib\\site-packages\\statsmodels\\tsa\\statespace\\sarimax.py:966: UserWarning: Non-stationary starting autoregressive parameters found. Using zeros as starting parameters.\n",
      "  warn('Non-stationary starting autoregressive parameters'\n",
      "C:\\ProgramData\\Anaconda3\\envs\\libro-ec4301\\lib\\site-packages\\statsmodels\\tsa\\statespace\\sarimax.py:978: UserWarning: Non-invertible starting MA parameters found. Using zeros as starting parameters.\n",
      "  warn('Non-invertible starting MA parameters found.'\n"
     ]
    },
    {
     "name": "stderr",
     "output_type": "stream",
     "text": [
      "C:\\ProgramData\\Anaconda3\\envs\\libro-ec4301\\lib\\site-packages\\statsmodels\\tsa\\statespace\\sarimax.py:966: UserWarning: Non-stationary starting autoregressive parameters found. Using zeros as starting parameters.\n",
      "  warn('Non-stationary starting autoregressive parameters'\n",
      "C:\\ProgramData\\Anaconda3\\envs\\libro-ec4301\\lib\\site-packages\\statsmodels\\tsa\\statespace\\sarimax.py:978: UserWarning: Non-invertible starting MA parameters found. Using zeros as starting parameters.\n",
      "  warn('Non-invertible starting MA parameters found.'\n"
     ]
    },
    {
     "data": {
      "text/html": [
       "<style type=\"text/css\">\n",
       "#T_24987_row3_col0 {\n",
       "  background-color: yellow;\n",
       "}\n",
       "</style>\n",
       "<table id=\"T_24987\">\n",
       "  <thead>\n",
       "    <tr>\n",
       "      <th class=\"blank level0\" >&nbsp;</th>\n",
       "      <th id=\"T_24987_level0_col0\" class=\"col_heading level0 col0\" >q=0</th>\n",
       "      <th id=\"T_24987_level0_col1\" class=\"col_heading level0 col1\" >q=1</th>\n",
       "      <th id=\"T_24987_level0_col2\" class=\"col_heading level0 col2\" >q=2</th>\n",
       "    </tr>\n",
       "  </thead>\n",
       "  <tbody>\n",
       "    <tr>\n",
       "      <th id=\"T_24987_level0_row0\" class=\"row_heading level0 row0\" >p=0</th>\n",
       "      <td id=\"T_24987_row0_col0\" class=\"data row0 col0\" >137.927471</td>\n",
       "      <td id=\"T_24987_row0_col1\" class=\"data row0 col1\" >98.483286</td>\n",
       "      <td id=\"T_24987_row0_col2\" class=\"data row0 col2\" >95.014549</td>\n",
       "    </tr>\n",
       "    <tr>\n",
       "      <th id=\"T_24987_level0_row1\" class=\"row_heading level0 row1\" >p=1</th>\n",
       "      <td id=\"T_24987_row1_col0\" class=\"data row1 col0\" >70.218940</td>\n",
       "      <td id=\"T_24987_row1_col1\" class=\"data row1 col1\" >37.694647</td>\n",
       "      <td id=\"T_24987_row1_col2\" class=\"data row1 col2\" >42.299599</td>\n",
       "    </tr>\n",
       "    <tr>\n",
       "      <th id=\"T_24987_level0_row2\" class=\"row_heading level0 row2\" >p=2</th>\n",
       "      <td id=\"T_24987_row2_col0\" class=\"data row2 col0\" >54.303577</td>\n",
       "      <td id=\"T_24987_row2_col1\" class=\"data row2 col1\" >42.474672</td>\n",
       "      <td id=\"T_24987_row2_col2\" class=\"data row2 col2\" >47.617073</td>\n",
       "    </tr>\n",
       "    <tr>\n",
       "      <th id=\"T_24987_level0_row3\" class=\"row_heading level0 row3\" >p=3</th>\n",
       "      <td id=\"T_24987_row3_col0\" class=\"data row3 col0\" >35.234046</td>\n",
       "      <td id=\"T_24987_row3_col1\" class=\"data row3 col1\" >40.266694</td>\n",
       "      <td id=\"T_24987_row3_col2\" class=\"data row3 col2\" >45.293109</td>\n",
       "    </tr>\n",
       "    <tr>\n",
       "      <th id=\"T_24987_level0_row4\" class=\"row_heading level0 row4\" >p=4</th>\n",
       "      <td id=\"T_24987_row4_col0\" class=\"data row4 col0\" >40.258321</td>\n",
       "      <td id=\"T_24987_row4_col1\" class=\"data row4 col1\" >45.411589</td>\n",
       "      <td id=\"T_24987_row4_col2\" class=\"data row4 col2\" >44.769614</td>\n",
       "    </tr>\n",
       "  </tbody>\n",
       "</table>\n"
      ],
      "text/plain": [
       "<pandas.io.formats.style.Styler at 0x1c67835cdc0>"
      ]
     },
     "execution_count": 7,
     "metadata": {},
     "output_type": "execute_result"
    }
   ],
   "source": [
    "BIC = pd.DataFrame(\n",
    "        [[ARIMA(isi, order=[p,0,q]).fit().bic for q in Q ] for p in P ],\n",
    "        index=plabels, columns=qlabels)\n",
    "\n",
    "BIC.style.highlight_min(axis=None)"
   ]
  },
  {
   "cell_type": "markdown",
   "id": "b0f41f78",
   "metadata": {},
   "source": [
    "Esto nos indica que la serie de tiempo debe modelarse como un proceso AR(3).\n",
    "\n",
    "{{ termina_ejemplo }}"
   ]
  }
 ],
 "metadata": {
  "jupytext": {
   "formats": "md:myst",
   "text_representation": {
    "extension": ".md",
    "format_name": "myst"
   }
  },
  "kernelspec": {
   "display_name": "Python 3",
   "language": "python",
   "name": "python3"
  },
  "language_info": {
   "codemirror_mode": {
    "name": "ipython",
    "version": 3
   },
   "file_extension": ".py",
   "mimetype": "text/x-python",
   "name": "python",
   "nbconvert_exporter": "python",
   "pygments_lexer": "ipython3",
   "version": "3.9.13"
  },
  "source_map": [
   17,
   23,
   33,
   163,
   178,
   188,
   192,
   206,
   215,
   219,
   235,
   352,
   366,
   369,
   376
  ],
  "substitutions": {
   "empieza_ejemplo": "<div class=\"ejemplo\">\n<div class=\"ejemplo-titulo\"><b>Ejemplo: &nbsp;\n",
   "fin_titulo_ejemplo": "</b></div>",
   "termina_ejemplo": "</div>"
  }
 },
 "nbformat": 4,
 "nbformat_minor": 5
}