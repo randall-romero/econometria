{
 "cells": [
  {
   "cell_type": "markdown",
   "id": "1979899b",
   "metadata": {},
   "source": [
    "```{include} ../math-definitions.md\n",
    "```\n",
    "\n",
    "# Introducción\n",
    "\n",
    "\n",
    "\n",
    "## ¿Qué es una serie de tiempo?\n",
    "Una serie de tiempo $\\{y_t\\}_{t=1}^T$ es una realización de un proceso estocástico.\n",
    "\n",
    "```{image} ./figures/serie-no-estacionaria.png\n",
    "```\n",
    "\n",
    "## ¿Qué nos gustaría hacer con esta serie de tiempo?\n",
    "\n",
    "Imaginemos a la serie de tiempo como la parte de un proceso estocástico para la cual ya tenemos las realizaciones del proceso (un valor por período)\n",
    "\\begin{equation*}\n",
    "\\notationbrace{y_1, y_2,\\dots,y_T}{datos observados},\\notationbrace{y_{T+1}, y_{T+2},\\dots}{futuro}\n",
    "\\end{equation*}\n",
    "\n",
    "Nos gustaría saber **la distribución condicional**\n",
    "\\begin{equation*}\n",
    "\\Prob\\left[y_{T+j} \\leq x\\;|\\;y_1,\\dots, y_T\\right]\n",
    "\\end{equation*}\n",
    "\n",
    "Esto nos permitiría utilizar nuestra serie de tiempo para pronosticar valores futuros de la serie, así como precisar su variabilidad:\n",
    "\\begin{align*}\n",
    "\\E_T\\left[y_{T+j}\\right] &\\equiv \\E\\left[y_{T+j}\\;|\\;y_1\\dots, y_T\\right] \\\\\n",
    "\\Var_T\\left[y_{T+j}\\right] &\\equiv \\Var\\left[y_{T+j}\\;|\\;y_1,\\dots, y_T\\right]\n",
    "\\end{align*}\n",
    "\n",
    "\n",
    "\n",
    "## Nuestra tarea\n",
    "\n",
    "En la práctica, puede ser que nunca conozcamos el verdadero **proceso generador de datos (PGD)** (el proceso estocástico del cual fueron obtenidos los valores de nuestra serie de tiempo).\n",
    "\n",
    "Nuestra tarea es desarrollar **modelos** que capturen la esencia del verdadero PGD.\n",
    "\n",
    "Las ecuaciones en diferencia estocásticas son una manera muy conveniente de modelar procesos económicos dinámicos.\n",
    "\n",
    "\n",
    "{{ empieza_ejemplo }} Controlando la oferta de dinero {{ fin_titulo_ejemplo }}\n",
    "<!-- %basado en Enders 2015 p48-49 -->\n",
    "\n",
    "Suponga que la meta de oferta monetaria $M^*$ del banco central crece 100g\\% por año:\n",
    "\\begin{equation*}\n",
    "M_t^* = (1+g)M_{t-1}^*\n",
    "\\end{equation*}\n",
    "\n",
    "o en términos logarítmicos, con $m^*\\equiv \\log\\left(M^*\\right)$\n",
    "\\begin{align*}\n",
    "m_t^* &= \\log(1+g) + m_{t-1}^* \\\\\n",
    "      &\\approx g + m_{t-1}^*\n",
    "\\end{align*}\n",
    "\n",
    "Para una condición inicial $m_0^*$ dada, la solución es:\n",
    "\\begin{equation*}\n",
    "m_t^* = gt + m_{0}^*\n",
    "\\end{equation*}\n",
    "\n",
    "\n",
    "La cantidad efectiva de dinero $m_t$ puede diferir de la meta $m_t^*$.\n",
    "\n",
    "El banco central intenta cerrar una proporción $\\rho$ de la brecha entre la meta y la cantidad efectiva del período anterior. El cambio en la oferta de dinero es:\n",
    "\\begin{equation*}\n",
    "\\Delta m_t = \\notation{\\rho\\left(m_{t-1}^* - m_{t-1}\\right)}{política monetaria} + \\notation{\\epsilon_t}{perturbación}\n",
    "\\end{equation*}\n",
    "\n",
    "por lo que la oferta de dinero es\n",
    "\\begin{align*}\n",
    "m_t &= \\rho m_{t-1}^* + (1-\\rho)m_{t-1} + \\epsilon_t \\\\\n",
    "    &= \\rho g(t-1) + \\rho m_{0}^* + (1-\\rho)m_{t-1} + \\epsilon_t \\\\\n",
    "    &= \\notationbrace{\\rho(m_{0}^* - g)}{intercepto} + \\notationbrace{(\\rho g) t}{tendencia} + \\notationbrace{(1-\\rho)m_{t-1}}{autorregresivo} + \\notationbrace{\\epsilon_t}{shock}\n",
    "\\end{align*}\n",
    "\n",
    "Aunque la oferta monetaria es una variable continua, nuestro modelo es una ecuación en diferencia (discreta).\n",
    "\n",
    "Como las perturbaciones $\\left\\{\\epsilon_t\\right\\}$ son aleatorias, la oferta de dinero es estocástica.\n",
    "\n",
    "Si supiéramos la distribución de $\\left\\{\\epsilon_t\\right\\}$, podríamos calcular la distribución de cada elemento de $\\left\\{m_t\\right\\}$, porque está determinada completamente por los parámetros de la ecuación y por la secuencia $\\left\\{\\epsilon_t\\right\\}$.\n",
    "\n",
    "Habiendo observado las primeras $T$ observaciones de la serie $\\left\\{m_t\\right\\}$, podríamos pronosticar futuros valores. Por ejemplo:\n",
    "\\begin{align*}\n",
    "m_{T+1} &= \\rho\\left(gT + m_{0}^*\\right) + (1-\\rho)m_{T} + \\epsilon_{T+1} \\\\\n",
    "\\Rightarrow \\E_T\\left[m_{T+1}\\right]  &= \\rho\\left(gT + m_{0}^*\\right) + (1-\\rho)m_{T}\n",
    "\\end{align*}\n",
    "{{ termina_ejemplo }}\n",
    "\n",
    "## Ruido blanco y el modelo clásico de regresión lineal\n",
    "\n",
    "En el MCRL se asume que\n",
    "\\begin{equation*}\n",
    "y_t = x'_t\\beta + \\epsilon_t\n",
    "\\end{equation*}\n",
    "\n",
    "donde para todas las observaciones $t=1,2,\\dots,T$ el término de error cumple que:\n",
    "\\begin{align*}\n",
    "  \\E[\\epsilon_t]              &=0 \\tag{media cero} \\\\\n",
    "  \\Var[\\epsilon_t]            &=\\sigma^2 \\tag{no hay heteroscedasticidad} \\\\\n",
    "  \\E[\\epsilon_t\\epsilon_\\tau] &=0 \\quad\\text{si } t\\neq\\tau \\tag{no hay autocorrelación}\n",
    "\\end{align*}\n",
    "\n",
    "Es decir, el MCRL aplicado a series de tiempo asume que el error es un proceso de ruido blanco.\n",
    "\n",
    "Sin embargo, en la práctica rara vez se satisface ese supuesto cuando se ajusta un modelo de regresión lineal a datos de series de tiempo.\n",
    "\n",
    "\n",
    "{{ empieza_ejemplo }} Estimando la demanda de dinero{{ fin_titulo_ejemplo }}\n",
    "<!-- %basado en Greene 2018, p. 981 -->\n",
    "Consideremos la demanda de dinero en Costa Rica\n",
    "\\begin{equation*}\n",
    "\\log(M_t) = \\beta_0 + \\beta_1\\log(q_t) + \\beta_2\\log(p_t) + \\beta_3\\log(i_t) + \\epsilon_t\n",
    "\\end{equation*}\n",
    "\n",
    "la cual estimamos con datos mensuales (1991m01 a 2020m01) del medio circulante $M_t$, el IMAE $q_t$, el IPC $p_t$, y la tasa básica pasiva $i_t$."
   ]
  },
  {
   "cell_type": "code",
   "execution_count": 1,
   "id": "701c4d6c",
   "metadata": {
    "tags": [
     "hide-input"
    ]
   },
   "outputs": [
    {
     "data": {
      "text/html": [
       "<div>\n",
       "<style scoped>\n",
       "    .dataframe tbody tr th:only-of-type {\n",
       "        vertical-align: middle;\n",
       "    }\n",
       "\n",
       "    .dataframe tbody tr th {\n",
       "        vertical-align: top;\n",
       "    }\n",
       "\n",
       "    .dataframe thead th {\n",
       "        text-align: right;\n",
       "    }\n",
       "</style>\n",
       "<table border=\"1\" class=\"dataframe\">\n",
       "  <thead>\n",
       "    <tr style=\"text-align: right;\">\n",
       "      <th></th>\n",
       "      <th>IMAE</th>\n",
       "      <th>IPC</th>\n",
       "      <th>M1</th>\n",
       "      <th>Tbasica</th>\n",
       "    </tr>\n",
       "    <tr>\n",
       "      <th>fecha</th>\n",
       "      <th></th>\n",
       "      <th></th>\n",
       "      <th></th>\n",
       "      <th></th>\n",
       "    </tr>\n",
       "  </thead>\n",
       "  <tbody>\n",
       "    <tr>\n",
       "      <th>2020-07</th>\n",
       "      <td>110.987099</td>\n",
       "      <td>106.127077</td>\n",
       "      <td>5.166828e+06</td>\n",
       "      <td>3.708065</td>\n",
       "    </tr>\n",
       "    <tr>\n",
       "      <th>2020-08</th>\n",
       "      <td>110.584336</td>\n",
       "      <td>106.122788</td>\n",
       "      <td>5.206881e+06</td>\n",
       "      <td>3.635484</td>\n",
       "    </tr>\n",
       "    <tr>\n",
       "      <th>2020-09</th>\n",
       "      <td>113.705524</td>\n",
       "      <td>106.411930</td>\n",
       "      <td>5.206211e+06</td>\n",
       "      <td>3.498333</td>\n",
       "    </tr>\n",
       "    <tr>\n",
       "      <th>2020-10</th>\n",
       "      <td>118.613059</td>\n",
       "      <td>106.496597</td>\n",
       "      <td>5.061595e+06</td>\n",
       "      <td>3.293548</td>\n",
       "    </tr>\n",
       "    <tr>\n",
       "      <th>2020-11</th>\n",
       "      <td>120.969090</td>\n",
       "      <td>106.498184</td>\n",
       "      <td>4.913216e+06</td>\n",
       "      <td>3.346667</td>\n",
       "    </tr>\n",
       "  </tbody>\n",
       "</table>\n",
       "</div>"
      ],
      "text/plain": [
       "               IMAE         IPC            M1   Tbasica\n",
       "fecha                                                  \n",
       "2020-07  110.987099  106.127077  5.166828e+06  3.708065\n",
       "2020-08  110.584336  106.122788  5.206881e+06  3.635484\n",
       "2020-09  113.705524  106.411930  5.206211e+06  3.498333\n",
       "2020-10  118.613059  106.496597  5.061595e+06  3.293548\n",
       "2020-11  120.969090  106.498184  4.913216e+06  3.346667"
      ]
     },
     "execution_count": 1,
     "metadata": {},
     "output_type": "execute_result"
    }
   ],
   "source": [
    "import bccr\n",
    "import numpy as np\n",
    "import matplotlib.pyplot as plt\n",
    "plt.style.use('seaborn')\n",
    "import matplotlib.gridspec as gridspec\n",
    "\n",
    "import statsmodels.api as sm\n",
    "from statsmodels.formula.api import ols\n",
    "\n",
    "\n",
    "datos = bccr.SW(IMAE=35449, IPC=25482, M1=1445, Tbasica=423, func=np.mean, fillna='ffill').dropna()\n",
    "datos.tail()"
   ]
  },
  {
   "cell_type": "code",
   "execution_count": 2,
   "id": "c74ddb48",
   "metadata": {
    "tags": [
     "hide-input"
    ]
   },
   "outputs": [
    {
     "data": {
      "text/html": [
       "<table class=\"simpletable\">\n",
       "<caption>OLS Regression Results</caption>\n",
       "<tr>\n",
       "  <th>Dep. Variable:</th>           <td>M1</td>        <th>  R-squared:         </th> <td>   0.994</td> \n",
       "</tr>\n",
       "<tr>\n",
       "  <th>Model:</th>                   <td>OLS</td>       <th>  Adj. R-squared:    </th> <td>   0.994</td> \n",
       "</tr>\n",
       "<tr>\n",
       "  <th>Method:</th>             <td>Least Squares</td>  <th>  F-statistic:       </th> <td>1.944e+04</td>\n",
       "</tr>\n",
       "<tr>\n",
       "  <th>Date:</th>             <td>Thu, 21 Jul 2022</td> <th>  Prob (F-statistic):</th>  <td>  0.00</td>  \n",
       "</tr>\n",
       "<tr>\n",
       "  <th>Time:</th>                 <td>00:13:54</td>     <th>  Log-Likelihood:    </th> <td>  335.36</td> \n",
       "</tr>\n",
       "<tr>\n",
       "  <th>No. Observations:</th>      <td>   359</td>      <th>  AIC:               </th> <td>  -662.7</td> \n",
       "</tr>\n",
       "<tr>\n",
       "  <th>Df Residuals:</th>          <td>   355</td>      <th>  BIC:               </th> <td>  -647.2</td> \n",
       "</tr>\n",
       "<tr>\n",
       "  <th>Df Model:</th>              <td>     3</td>      <th>                     </th>     <td> </td>    \n",
       "</tr>\n",
       "<tr>\n",
       "  <th>Covariance Type:</th>      <td>nonrobust</td>    <th>                     </th>     <td> </td>    \n",
       "</tr>\n",
       "</table>\n",
       "<table class=\"simpletable\">\n",
       "<tr>\n",
       "      <td></td>         <th>coef</th>     <th>std err</th>      <th>t</th>      <th>P>|t|</th>  <th>[0.025</th>    <th>0.975]</th>  \n",
       "</tr>\n",
       "<tr>\n",
       "  <th>Intercept</th> <td>    6.3294</td> <td>    0.298</td> <td>   21.263</td> <td> 0.000</td> <td>    5.744</td> <td>    6.915</td>\n",
       "</tr>\n",
       "<tr>\n",
       "  <th>IMAE</th>      <td>    1.0242</td> <td>    0.079</td> <td>   13.044</td> <td> 0.000</td> <td>    0.870</td> <td>    1.179</td>\n",
       "</tr>\n",
       "<tr>\n",
       "  <th>IPC</th>       <td>    0.9268</td> <td>    0.028</td> <td>   33.508</td> <td> 0.000</td> <td>    0.872</td> <td>    0.981</td>\n",
       "</tr>\n",
       "<tr>\n",
       "  <th>Tbasica</th>   <td>   -0.3519</td> <td>    0.022</td> <td>  -15.919</td> <td> 0.000</td> <td>   -0.395</td> <td>   -0.308</td>\n",
       "</tr>\n",
       "</table>\n",
       "<table class=\"simpletable\">\n",
       "<tr>\n",
       "  <th>Omnibus:</th>       <td>115.244</td> <th>  Durbin-Watson:     </th> <td>   0.450</td> \n",
       "</tr>\n",
       "<tr>\n",
       "  <th>Prob(Omnibus):</th> <td> 0.000</td>  <th>  Jarque-Bera (JB):  </th> <td> 463.868</td> \n",
       "</tr>\n",
       "<tr>\n",
       "  <th>Skew:</th>          <td> 1.349</td>  <th>  Prob(JB):          </th> <td>1.87e-101</td>\n",
       "</tr>\n",
       "<tr>\n",
       "  <th>Kurtosis:</th>      <td> 7.872</td>  <th>  Cond. No.          </th> <td>    390.</td> \n",
       "</tr>\n",
       "</table><br/><br/>Notes:<br/>[1] Standard Errors assume that the covariance matrix of the errors is correctly specified."
      ],
      "text/plain": [
       "<class 'statsmodels.iolib.summary.Summary'>\n",
       "\"\"\"\n",
       "                            OLS Regression Results                            \n",
       "==============================================================================\n",
       "Dep. Variable:                     M1   R-squared:                       0.994\n",
       "Model:                            OLS   Adj. R-squared:                  0.994\n",
       "Method:                 Least Squares   F-statistic:                 1.944e+04\n",
       "Date:                Thu, 21 Jul 2022   Prob (F-statistic):               0.00\n",
       "Time:                        00:13:54   Log-Likelihood:                 335.36\n",
       "No. Observations:                 359   AIC:                            -662.7\n",
       "Df Residuals:                     355   BIC:                            -647.2\n",
       "Df Model:                           3                                         \n",
       "Covariance Type:            nonrobust                                         \n",
       "==============================================================================\n",
       "                 coef    std err          t      P>|t|      [0.025      0.975]\n",
       "------------------------------------------------------------------------------\n",
       "Intercept      6.3294      0.298     21.263      0.000       5.744       6.915\n",
       "IMAE           1.0242      0.079     13.044      0.000       0.870       1.179\n",
       "IPC            0.9268      0.028     33.508      0.000       0.872       0.981\n",
       "Tbasica       -0.3519      0.022    -15.919      0.000      -0.395      -0.308\n",
       "==============================================================================\n",
       "Omnibus:                      115.244   Durbin-Watson:                   0.450\n",
       "Prob(Omnibus):                  0.000   Jarque-Bera (JB):              463.868\n",
       "Skew:                           1.349   Prob(JB):                    1.87e-101\n",
       "Kurtosis:                       7.872   Cond. No.                         390.\n",
       "==============================================================================\n",
       "\n",
       "Notes:\n",
       "[1] Standard Errors assume that the covariance matrix of the errors is correctly specified.\n",
       "\"\"\""
      ]
     },
     "execution_count": 2,
     "metadata": {},
     "output_type": "execute_result"
    }
   ],
   "source": [
    "res = ols('M1 ~ IMAE + IPC + Tbasica', data=np.log(datos)).fit()\n",
    "res.summary()"
   ]
  },
  {
   "cell_type": "markdown",
   "id": "4278f1ce",
   "metadata": {},
   "source": [
    "No obstante, los residuos de la regresión no parecen ruido blanco."
   ]
  },
  {
   "cell_type": "code",
   "execution_count": 3,
   "id": "d17e4bdb",
   "metadata": {
    "tags": [
     "hide-input"
    ]
   },
   "outputs": [
    {
     "name": "stderr",
     "output_type": "stream",
     "text": [
      "C:\\ProgramData\\Anaconda3\\envs\\libro-ec4301\\lib\\site-packages\\statsmodels\\graphics\\tsaplots.py:348: FutureWarning: The default method 'yw' can produce PACF values outside of the [-1,1] interval. After 0.13, the default will change tounadjusted Yule-Walker ('ywm'). You can use this method now by setting method='ywm'.\n",
      "  warnings.warn(\n"
     ]
    },
    {
     "data": {
      "image/png": "[encoded data removed]",
      "text/plain": [
       "<Figure size 720x360 with 3 Axes>"
      ]
     },
     "metadata": {
      "filenames": {
       "image/png": "C:\\Users\\randa\\OneDrive\\Documents\\Teaching\\econometria\\_build\\jupyter_execute\\teoria\\03-arma\\01-intro_4_1.png"
      },
      "needs_background": "light"
     },
     "output_type": "display_data"
    }
   ],
   "source": [
    "fig = plt.figure(figsize=[10,5], tight_layout=True)\n",
    "gs = gridspec.GridSpec(2, 2)\n",
    "ax = fig.add_subplot(gs[0, :])\n",
    "axs0 = fig.add_subplot(gs[1,0])\n",
    "axs1 = fig.add_subplot(gs[1,1], sharey=axs0)\n",
    "\n",
    "res.resid.plot(title='Residuos de la regresión', ax=ax)\n",
    "\n",
    "OPCIONES = dict(lags=48, alpha=0.05, )\n",
    "sm.graphics.tsa.plot_acf(res.resid, ax=axs0, title='Autocorrelación',**OPCIONES);\n",
    "sm.graphics.tsa.plot_pacf(res.resid, ax=axs1, title='Autocorrelación parcial', **OPCIONES);\n",
    "axs0.set_xticks([0,12,24,36,48])\n",
    "axs1.set_xticks([0,12,24,36,48]);"
   ]
  },
  {
   "cell_type": "markdown",
   "id": "fbcb7e6b",
   "metadata": {},
   "source": [
    "Conocer el valor de un residuo puede ayudar a pronosticar el siguiente.\n",
    "\n",
    "Aún así, notemos que para pronosticar el valor del M1 en 2020m12, necesitaríamos pronosticar los valores de las demás variables.\n",
    "{{ termina_ejemplo }}"
   ]
  }
 ],
 "metadata": {
  "jupytext": {
   "formats": "md:myst",
   "text_representation": {
    "extension": ".md",
    "format_name": "myst"
   }
  },
  "kernelspec": {
   "display_name": "Python 3",
   "language": "python",
   "name": "python3"
  },
  "language_info": {
   "codemirror_mode": {
    "name": "ipython",
    "version": 3
   },
   "file_extension": ".py",
   "mimetype": "text/x-python",
   "name": "python",
   "nbconvert_exporter": "python",
   "pygments_lexer": "ipython3",
   "version": "3.9.13"
  },
  "source_map": [
   17,
   137,
   153,
   157,
   162,
   177
  ],
  "substitutions": {
   "empieza_ejemplo": "<div class=\"ejemplo\">\n<div class=\"ejemplo-titulo\"><b>Ejemplo: &nbsp;\n",
   "fin_titulo_ejemplo": "</b></div>",
   "termina_ejemplo": "</div>"
  }
 },
 "nbformat": 4,
 "nbformat_minor": 5
}