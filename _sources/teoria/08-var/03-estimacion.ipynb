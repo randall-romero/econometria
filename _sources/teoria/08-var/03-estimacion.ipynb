{
 "cells": [
  {
   "cell_type": "markdown",
   "id": "09f465d1",
   "metadata": {},
   "source": [
    "```{include} ../math-definitions.md\n",
    "```"
   ]
  },
  {
   "cell_type": "code",
   "execution_count": 1,
   "id": "2d935934",
   "metadata": {
    "tags": [
     "hide-input"
    ]
   },
   "outputs": [],
   "source": [
    "import numpy as np\n",
    "import matplotlib.pyplot as plt\n",
    "import seaborn\n",
    "import pandas as pd\n",
    "from statsmodels.tsa.api import VAR\n",
    "\n",
    "np.random.seed(1995)"
   ]
  },
  {
   "cell_type": "markdown",
   "id": "1fcf95fa",
   "metadata": {},
   "source": [
    "# Estimación\n",
    "\n",
    "## Especificación de un VAR\n",
    "\n",
    "Para especificar un VAR, hay dos cosas que escoger:\n",
    "1. Las $n$ series que conforman el VAR\n",
    "2. El número $p$ de rezagos a ser incluidos en el modelo\n",
    "\n",
    "En contraste con la metodología de Box-Jenkins, el modelo VAR no es parsimonioso $\\Rightarrow$ un VAR está sobreparametrizado:\n",
    "\n",
    "-  hay $n + pn^2$ parámetros.\n",
    "-  muchos de sus coeficientes no son significativos\n",
    "-  regresores posiblemente son altamente colineales, estadísticos $t$ no confiables.\n",
    "\n",
    "No obstante, en un VAR los coeficientes individuales no son de interés. Interesa determinar la dinámica del modelo (impulso respuesta) y la causalidad (Granger, que estudiaremos en la siguiente sección).\n",
    "\n",
    "\n",
    "\n",
    "## Estimación de un VAR\n",
    "\n",
    "El VAR reducido es un sistema de ecuaciones SUR, donde todas las ecuaciones tienen los mismos regresores.\n",
    "\n",
    "Por lo tanto, la estimación OLS ecuación por ecuación es insesgada, eficiente y consistente.\n",
    "\n",
    "\n",
    "La matriz de covarianza de los errores se estima a partir de los residuos\n",
    "\\begin{equation*}\n",
    "\\hat{\\Omega} =\\frac{1}{T-np-1}\\sum_{t=1}^{T}\\hat{\\epsilon_t}\\hat{\\epsilon_t}'\n",
    "\\end{equation*}\n",
    "\n",
    "\n",
    "\n",
    "\n",
    "## Estimación de un VAR no estacionario\n",
    "Si las series son I(1), ¿hay que diferenciarlas para estimar el VAR? Hay un debate respecto:\n",
    "\n",
    "```{panels}\n",
    ":header: bg-danger text-center text-white\n",
    "\n",
    "NO:\n",
    "^^^\n",
    "Algunos aconsejan no diferenciar las series, porque se pierde información, alegando que la meta del VAR es determinar relaciones entre variables, no los parámetros mismos.\n",
    "\n",
    "---\n",
    ":header: bg-success text-center text-white\n",
    "\n",
    "SÍ:\n",
    "^^^\n",
    "Otros advierten que si las series son integradas, el VAR en niveles no es consistente con el proceso generador de datos. En este caso se aconseja estudiar la cointegración de las series $\\Rightarrow$ VECM\n",
    "```\n",
    "\n",
    "\n",
    "{{ empieza_ejemplo }} Propiedades de la estimación OLS de un VAR estacionario {{ fin_titulo_ejemplo }}\n",
    "\n",
    "En este ejemplo simulamos realizaciones del VAR(1)\n",
    "\\begin{align*}\n",
    "x_t &= 0.8x_{t-1} + 0.7y_{t-1} + \\epsilon_{x,t} \\\\\n",
    "y_t &= -0.2x_{t-1} + 0.5y_{t-1} + \\epsilon_{y,t}\n",
    "\\end{align*}\n",
    "\n",
    "que puede escribirse\n",
    "\\begin{align*}\n",
    "\\notation{\\begin{pmatrix}x_t \\\\ y_t\\end{pmatrix}}{$Y_t$} &=\n",
    "\\notation{\\begin{pmatrix}0.8 & 0.7 \\\\ -0.2 & 0.5\\end{pmatrix}}{$\\Phi$}\n",
    "\\notation{\\begin{pmatrix}x_{t-1} \\\\ y_{t-1}\\end{pmatrix}}{$Y_{t-1}$} +\n",
    "\\notation{\\begin{pmatrix}\\epsilon_{x,t} \\\\ \\epsilon_{y,t}\\end{pmatrix}}{$\\epsilon_t$}\n",
    "\\\\ \\\\\n",
    "\\Omega &= \\begin{pmatrix}0.9 & 0 \\\\ 0 & 0.9\\end{pmatrix}\n",
    "\\end{align*}\n",
    "\n",
    "y las utilizamos para estimar los párametros originales por OLS. El objetivo es ilustrar que este estimador está insesgado y que es consistente."
   ]
  },
  {
   "cell_type": "code",
   "execution_count": 2,
   "id": "5c974661",
   "metadata": {
    "tags": [
     "hide-input"
    ]
   },
   "outputs": [],
   "source": [
    "# Funciones auxiliares:\n",
    "# Definimos las matrices de parámetros $\\Phi$ y $\\Omega$. Declaramos dos funciones: para simular una muestra de observaciones del VAR, y otra para estimar los coeficientes de $\\Phi$ a partir de tales simulaciones.\n",
    "\n",
    "\n",
    "Φ = np.array([[0.8, 0.7], [-0.2, 0.5]])\n",
    "param_names = ['$Φ_{11}$', '$Φ_{21}$', '$Φ_{12}$', '$Φ_{22}$']\n",
    "sigma = 0.9\n",
    "\n",
    "def var_sample(T = 100):\n",
    "    ''' Simula el VAR(1) T períodos'''\n",
    "    Y = np.zeros((T,2))\n",
    "    for t in range(1, T):\n",
    "        Y[t] = Y[t-1] @ Φ.T + sigma * np.random.randn(2) # transpuesta es más rápido\n",
    "\n",
    "    return pd.DataFrame(Y, columns=['x', 'y'])\n",
    "\n",
    "def Φ_ols(data):\n",
    "    '''Estima un VAR(1) a partir de datos, retorna coeficientes como vector'''\n",
    "    return VAR(data).fit().coefs[0].flatten()"
   ]
  },
  {
   "cell_type": "markdown",
   "id": "7b1e838b",
   "metadata": {},
   "source": [
    "{bdg-primary}`La estimación OLS de un VAR es insesgada`\n",
    "\n",
    "Con un experimento de Monte Carlo obtenemos 10000 muestras de $T=100$ observaciones del VAR. Para cada muestra estimamos el VAR y colectamos los coeficientes estimados."
   ]
  },
  {
   "cell_type": "code",
   "execution_count": 3,
   "id": "8ea34d53",
   "metadata": {
    "tags": [
     "hide-input"
    ]
   },
   "outputs": [
    {
     "name": "stdout",
     "output_type": "stream",
     "text": [
      "CPU times: total: 33.5 s\n",
      "Wall time: 33.5 s\n"
     ]
    },
    {
     "data": {
      "text/html": [
       "<div>\n",
       "<style scoped>\n",
       "    .dataframe tbody tr th:only-of-type {\n",
       "        vertical-align: middle;\n",
       "    }\n",
       "\n",
       "    .dataframe tbody tr th {\n",
       "        vertical-align: top;\n",
       "    }\n",
       "\n",
       "    .dataframe thead th {\n",
       "        text-align: right;\n",
       "    }\n",
       "</style>\n",
       "<table border=\"1\" class=\"dataframe\">\n",
       "  <thead>\n",
       "    <tr style=\"text-align: right;\">\n",
       "      <th></th>\n",
       "      <th>$Φ_{11}$</th>\n",
       "      <th>$Φ_{21}$</th>\n",
       "      <th>$Φ_{12}$</th>\n",
       "      <th>$Φ_{22}$</th>\n",
       "    </tr>\n",
       "  </thead>\n",
       "  <tbody>\n",
       "    <tr>\n",
       "      <th>0</th>\n",
       "      <td>0.691685</td>\n",
       "      <td>0.679327</td>\n",
       "      <td>-0.276123</td>\n",
       "      <td>0.428017</td>\n",
       "    </tr>\n",
       "    <tr>\n",
       "      <th>1</th>\n",
       "      <td>0.779543</td>\n",
       "      <td>0.763695</td>\n",
       "      <td>-0.186702</td>\n",
       "      <td>0.584590</td>\n",
       "    </tr>\n",
       "    <tr>\n",
       "      <th>2</th>\n",
       "      <td>0.827301</td>\n",
       "      <td>0.837952</td>\n",
       "      <td>-0.278445</td>\n",
       "      <td>0.444311</td>\n",
       "    </tr>\n",
       "    <tr>\n",
       "      <th>3</th>\n",
       "      <td>0.826135</td>\n",
       "      <td>0.791333</td>\n",
       "      <td>-0.343680</td>\n",
       "      <td>0.382260</td>\n",
       "    </tr>\n",
       "    <tr>\n",
       "      <th>4</th>\n",
       "      <td>0.819778</td>\n",
       "      <td>0.615994</td>\n",
       "      <td>-0.153597</td>\n",
       "      <td>0.315891</td>\n",
       "    </tr>\n",
       "  </tbody>\n",
       "</table>\n",
       "</div>"
      ],
      "text/plain": [
       "   $Φ_{11}$  $Φ_{21}$  $Φ_{12}$  $Φ_{22}$\n",
       "0  0.691685  0.679327 -0.276123  0.428017\n",
       "1  0.779543  0.763695 -0.186702  0.584590\n",
       "2  0.827301  0.837952 -0.278445  0.444311\n",
       "3  0.826135  0.791333 -0.343680  0.382260\n",
       "4  0.819778  0.615994 -0.153597  0.315891"
      ]
     },
     "execution_count": 3,
     "metadata": {},
     "output_type": "execute_result"
    }
   ],
   "source": [
    "%%time\n",
    "nrepetitions = 10_000\n",
    "estimates = pd.DataFrame(\n",
    "     [Φ_ols(var_sample()) for _ in range(nrepetitions)],                         columns=param_names)\n",
    "\n",
    "estimates.head()"
   ]
  },
  {
   "cell_type": "markdown",
   "id": "4c0bf7bd",
   "metadata": {},
   "source": [
    "Luego graficamos la distribución de cada columna (estimaciones de uno de los parámetros) con un histograma. Observe cómo la distribución estimada está centrada alrededor del verdadero parámetro en cada uno de los gráficos."
   ]
  },
  {
   "cell_type": "code",
   "execution_count": 4,
   "id": "92486a07",
   "metadata": {
    "tags": [
     "hide-input"
    ]
   },
   "outputs": [
    {
     "data": {
      "image/png": "[encoded data removed]",
      "text/plain": [
       "<Figure size 1080x432 with 4 Axes>"
      ]
     },
     "metadata": {
      "filenames": {
       "image/png": "C:\\Users\\randa\\OneDrive\\Documents\\Teaching\\econometria\\_build\\jupyter_execute\\teoria\\08-var\\03-estimacion_7_0.png"
      },
      "needs_background": "light"
     },
     "output_type": "display_data"
    }
   ],
   "source": [
    "ax = estimates.hist(bins=50,figsize=[15,6])\n",
    "\n",
    "for i in range(2):\n",
    "    for j in range(2):\n",
    "        ax[i,j].axvline(x=Φ[i,j],linewidth=4, color='r')"
   ]
  },
  {
   "cell_type": "markdown",
   "id": "87d6f8ac",
   "metadata": {},
   "source": [
    "{bdg-primary}`La estimación OLS de un VAR es consistente`\n",
    "\n",
    "Para ilustrar que la estimación OLS de un VAR es consistente, simulamos una sola muestra de datos y vamos agregando una nueva observación. En cada paso estimamos el VAR con OLS. Observe que conforme aumenta el número de observaciones, los valores estimados convergen a los parámetros poblacionales."
   ]
  },
  {
   "cell_type": "code",
   "execution_count": 5,
   "id": "051bdf5b",
   "metadata": {
    "tags": [
     "hide-input"
    ]
   },
   "outputs": [
    {
     "data": {
      "image/png": "[encoded data removed]",
      "text/plain": [
       "<Figure size 1080x576 with 4 Axes>"
      ]
     },
     "metadata": {
      "filenames": {
       "image/png": "C:\\Users\\randa\\OneDrive\\Documents\\Teaching\\econometria\\_build\\jupyter_execute\\teoria\\08-var\\03-estimacion_9_0.png"
      },
      "needs_background": "light"
     },
     "output_type": "display_data"
    }
   ],
   "source": [
    "xlag = np.zeros([2,1])\n",
    "XpX = np.zeros([2,2])\n",
    "XpY = np.zeros([2,2])\n",
    "\n",
    "T = 4000\n",
    "minT = 5\n",
    "Xest = np.zeros([T+1, 4])\n",
    "\n",
    "for t in range(T+1):\n",
    "    x = Φ @ xlag + sigma * np.random.randn(2,1)\n",
    "    XpX += np.outer(xlag, xlag)\n",
    "    XpY += np.outer(xlag, x)\n",
    "    xlag = x.copy()\n",
    "\n",
    "    if t>minT:\n",
    "        Xest[t] = np.linalg.solve(XpX/t, XpY/t).flatten()\n",
    "\n",
    "\n",
    "estimates2 = pd.DataFrame(Xest[minT:], columns=param_names)\n",
    "\n",
    "ax = estimates2.plot(color='b',figsize=[15,8],subplots=True, layout=[2,2])\n",
    "\n",
    "for i in range(2):\n",
    "    for j in range(2):\n",
    "        ax[i,j].axhline(y=Φ[j,i],linewidth=1, color='r')"
   ]
  },
  {
   "cell_type": "markdown",
   "id": "6adf6ec1",
   "metadata": {},
   "source": [
    "{{ termina_ejemplo }}\n",
    "\n",
    "\n",
    "\n",
    "## Escogiendo el óptimo número de rezagos del VAR\n",
    "\n",
    "La selección del número de rezagos $p$ es crítica.\n",
    "\n",
    "```{panels}\n",
    ":header: bg-danger text-center text-white\n",
    "\n",
    "Si $p$ es demasiado pequeño\n",
    "^^^\n",
    "el modelo está mal especificado\n",
    "\n",
    "---\n",
    "Si $p$ es demasiado grande\n",
    "^^^\n",
    "se desperdician grados de libertad y se introduce colinealidad.\n",
    "```\n",
    "\n",
    "Una opción: dejar que $p$ difiera para cada ecuación y variable $\\Rightarrow$ el VAR no podría estimarse con OLS.\n",
    "\n",
    "Por tanto, se determina un sólo $p$ para todas las variables y ecuaciones, usando dos enfoques distintos\n",
    "-  Descartando los últimos rezagos si no son significativos\n",
    "-  Utilizando un criterio de selección que contraponga el ajuste a los grados de libertad.\n",
    "\n",
    "\n",
    "## Escogiendo el $p$ óptimo con pruebas de significancia\n",
    "\n",
    "Suponga que queremos decidir entre $p$ y $q$ número de rezagos, con $q<p$.\n",
    "\n",
    "Obtenemos $\\hat{\\Omega}$ para ambos modelos, **usando la misma muestra**.\n",
    "\n",
    "Comprobamos la significancia conjunta de los rezagos $q+1,\\dots,p$ con la prueba de razón de verosimilitud\n",
    "\\begin{equation*}\n",
    "(T-1-pn)\\left(\\ln\\left|\\hat{\\Omega}_q\\right| - \\ln\\left|\\hat{\\Omega}_p\\right|\\right) \\overset{asym}{\\sim} \\chi^2(n^2(p-q))\n",
    "\\end{equation*}\n",
    "\n",
    "Si no se rechaza la hipótesis nula, puede escogerse $q$ rezagos.\n",
    "\n",
    "Limitaciones:\n",
    "-  Resultado asintótico, pero muestras  usualmente pequeñas\n",
    "-  Resultado sensible a escogencia de $p$ y $q$.\n",
    "\n",
    "\n",
    "\n",
    "## Escogiendo el $p$ óptimo con criterios de selección\n",
    "\n",
    "En la práctica, el número óptimo de rezagos se escoge minimizando el valor de AIC o de SBC:\n",
    "\\begin{align*}\n",
    "\\text{AIC} &= T\\ln\\left|\\hat{\\Omega}\\right| + 2N \\\\\n",
    "\\text{SBC} &= T\\ln\\left|\\hat{\\Omega}\\right| + N\\ln T \\\\\n",
    "\\end{align*}\n",
    "donde $N=n^2p+n$ es el número total de parámetros estimados\n",
    "\n",
    "Rezagos adicionales reducen $\\hat{\\Omega}$, pero incrementando $N$\n",
    "\n",
    "\n",
    "\n",
    "\n",
    "\n",
    "\n",
    "## Usando un VAR para describir los datos\n",
    "\n",
    "La práctica usual en el análisis VAR es reportar\n",
    "-  pruebas de causalidad de Granger\n",
    "-  funciones de impulso respuesta\n",
    "-  descomposición de varianza del error de pronóstico\n",
    "\n",
    "Usualmente no se reportan los coeficientes estimados ni el $R^2$, porque no son tan informativos.\n",
    "\n",
    "\n",
    "## Causalidad de Granger\n",
    "\n",
    "Las pruebas de causalidad de Granger determinan si los valores rezagados de una variable ayudan a predecir otra variable.\n",
    "-  Si los rezagos de $A$ no ayudan a predecir $B$, entonces coeficientes de los rezagos de $A$ en la ecuación de $B$ son ceros.\n",
    "-  Si alguna variable no es causada en el sentido de Granger por ninguna otra, **no implica que la variable sea exógena**. Bien podría haber causalidad contemporánea.\n",
    "\n",
    "\n",
    "\n",
    "{{ empieza_ejemplo }} Causalidad de Granger {{ fin_titulo_ejemplo }}\n",
    "\n",
    "\n",
    "En el modelo VAR(2) con variables $y_t, m_t$:\n",
    "\n",
    "\\begin{equation*}\n",
    "\\begin{aligned}\n",
    "y_t &= c^y + \\alpha_{11}y_{t-1} + \\alpha_{12}m_{t-1} + \\beta_{11}y_{t-2} + \\beta_{12}m_{t-2} + u^y_t\\\\\n",
    "m_t &= c^m + \\alpha_{21}y_{t-1} + \\alpha_{22}m_{t-1} + \\beta_{21}y_{t-2} + \\beta_{22}m_{t-2} + u^m_t\n",
    "\\end{aligned}\n",
    "\\end{equation*}\n",
    "\n",
    "las pruebas de causalidad de Granger son:\n",
    "\n",
    "| Hipótesis nula    | Restricciones                  |\n",
    "| :---------------- | :----------------------------- |\n",
    "| $m$ no causa $y$  | $\\alpha_{12} = \\beta_{12} = 0$ |\n",
    "| $y$ no causa $m$  | $\\alpha_{21} = \\beta_{21} = 0$ |\n",
    "\n",
    "\n",
    "Si se rechaza, por ejemplo, la primera hipótesis, decimos que **$m$ causa $y$ en el sentido de Granger**.\n",
    "{{ termina_ejemplo }}"
   ]
  }
 ],
 "metadata": {
  "jupytext": {
   "formats": "md:myst",
   "text_representation": {
    "extension": ".md",
    "format_name": "myst"
   }
  },
  "kernelspec": {
   "display_name": "Python 3",
   "language": "python",
   "name": "python3"
  },
  "language_info": {
   "codemirror_mode": {
    "name": "ipython",
    "version": 3
   },
   "file_extension": ".py",
   "mimetype": "text/x-python",
   "name": "python",
   "nbconvert_exporter": "python",
   "pygments_lexer": "ipython3",
   "version": "3.9.13"
  },
  "source_map": [
   30,
   36,
   45,
   121,
   142,
   148,
   156,
   160,
   167,
   174,
   201
  ],
  "substitutions": {
   "empieza_ejemplo": "<div class=\"ejemplo\">\n<div class=\"ejemplo-titulo\"><b>Ejemplo: &nbsp;\n",
   "empieza_test": "<div class=\"test\">\n<div class=\"test-titulo\">\n",
   "fin_titulo_ejemplo": "</b></div>",
   "fin_titulo_test": "</div>",
   "termina_ejemplo": "</div>",
   "termina_test": "</div>",
   "test_estadistico": "<br><hr><i class=\"fas fa-calculator test-simbolo\"></i>\n",
   "test_hipotesis": "<br><hr><i class=\"fas fa-heading test-simbolo\"></i>\n",
   "test_inquietud": "<i class=\"fas fa-question test-simbolo\"></i>\n",
   "test_interpretacion": "<br><hr><i class=\"far fa-lightbulb test-simbolo\"></i>"
  }
 },
 "nbformat": 4,
 "nbformat_minor": 5
}