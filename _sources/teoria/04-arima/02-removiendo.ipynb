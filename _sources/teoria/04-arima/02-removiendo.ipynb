{
 "cells": [
  {
   "cell_type": "markdown",
   "id": "5eece83f",
   "metadata": {},
   "source": [
    "```{include} ../math-definitions.md\n",
    "```"
   ]
  },
  {
   "cell_type": "code",
   "execution_count": 1,
   "id": "4beccf3b",
   "metadata": {
    "tags": [
     "hide-input"
    ]
   },
   "outputs": [],
   "source": [
    "import numpy as np\n",
    "import pandas as pd\n",
    "import matplotlib.pyplot as plt"
   ]
  },
  {
   "cell_type": "markdown",
   "id": "f46f0bdd",
   "metadata": {},
   "source": [
    "# Removiendo una tendencia\n",
    "\n",
    "## Distinguiendo una serie DS de una TS\n",
    "\n",
    "- Comparemos la media y la varianza de estas dos series:\n",
    "\n",
    "|                |    TS             |    DS                   |\n",
    "| :------------- | :---------------- | :---------------------- |\n",
    "| Proceso        | $x_t = x_0 + at + \\epsilon_t$  |  $y_t = y_0 + at + \\sum_{\\tau=1}^{t}\\epsilon_{\\tau}$  |\n",
    "| Media          | $x_0 + at$           | $y_0 + at$                  |\n",
    "| Varianza       | $\\sigma^2$               | $t\\sigma^2$                      |\n",
    "| $\\Delta$             | $a + \\epsilon_{t} - \\epsilon_{t-1}$      |& $ a + \\epsilon_t$                   |\n",
    "| $-(\\hat{z}_0 + \\hat{a}t)$     |  $\\epsilon_t$              | $\\sum_{\\tau=1}^{t}\\epsilon_{\\tau}$                   |\n",
    "\n",
    "\n",
    "Los dos modelos tiene una media que crece linealmente, por lo que es muy difícil distinguirlos.\n",
    "\n",
    "\n",
    "{{ empieza_ejemplo }} Serie TS vs caminata aleatoria con deriva {{ fin_titulo_ejemplo }}\n",
    "Este código simula una realización de serie estacionaria alrededor de tendencia (TS) y una estacionaria en diferencia (DS).\n",
    "\\begin{align*}\n",
    "x_t &= x_0 + at + \\epsilon_t \\tag{TS} \\\\\n",
    "y_t &= y_0 + at + \\sum_{\\tau=1}^t\\epsilon_\\tau \\tag{DS}\n",
    "\\end{align*}"
   ]
  },
  {
   "cell_type": "code",
   "execution_count": 2,
   "id": "ab31fd34",
   "metadata": {
    "tags": [
     "hide-input"
    ]
   },
   "outputs": [
    {
     "data": {
      "text/plain": [
       "Text(0.5, 1.05, 'Series no estacionarias')"
      ]
     },
     "execution_count": 2,
     "metadata": {},
     "output_type": "execute_result"
    },
    {
     "data": {
      "image/png": "[encoded data removed]",
      "text/plain": [
       "<Figure size 432x288 with 1 Axes>"
      ]
     },
     "metadata": {
      "filenames": {
       "image/png": "C:\\Users\\randa\\OneDrive\\Documents\\Teaching\\econometria\\_build\\jupyter_execute\\teoria\\04-arima\\02-removiendo_3_1.png"
      },
      "needs_background": "light"
     },
     "output_type": "display_data"
    }
   ],
   "source": [
    "# Para que sea replicable, fijamos un valor para la función  `np.random.seed`.\n",
    "np.random.seed(1)\n",
    "T = 121\n",
    "e = np.random.randn(T)\n",
    "e[0] = 0\n",
    "\n",
    "x0 = y0 = a = 1\n",
    "t = np.arange(T)\n",
    "\n",
    "y = y0 + a*t + e.cumsum()\n",
    "x = x0 + a*t + e\n",
    "\n",
    "fig, ax = plt.subplots()\n",
    "pd.DataFrame({'DS': y, 'TS': x}).plot(ax=ax)\n",
    "ax.set_title('Tendencia determinística (TS) versus estocástica (DS)', fontsize=16)\n",
    "fig.suptitle('Series no estacionarias',fontsize=24, y=1.05)"
   ]
  },
  {
   "cell_type": "markdown",
   "id": "46bec33e",
   "metadata": {},
   "source": [
    "{{ termina_ejemplo }}\n",
    "\n",
    "Hemos visto que para transformar en estacionaria una serie...\n",
    "\n",
    "- {bdg-primary}`TS` estimamos su tendencia determinística por regresión, usamos los residuos de esta regresión como el componente estacionario\n",
    "- {bdg-primary}`DS` tomamos su primera diferencia.\n",
    "\n",
    "Hecho esto, podemos modelar el componente estacionario, por ejemplo con ARMA.\n",
    "\n",
    "Pero es importante usar la técnica adecuada para remover la tendencia, según sea el tipo de serie (TS o DS)\n",
    "\n",
    "¿Qué pasaría si tomamos primera diferencia de una serie TS?, o ¿qué pasaría si removemos una tendencia determinística de una serie DS?\n",
    "\n",
    "\n",
    "\n",
    "## Diferenciando una serie TS\n",
    "{bdg-danger}`(buscando problemas -- parte 1)`\n",
    "\n",
    "Para un proceso TS como $x_t = x_0 + at + \\epsilon_t $, su primera diferencia es\n",
    "\\begin{align*}\n",
    "\\Delta x_t &= a + \\epsilon_{t} - \\epsilon_{t-1}\\\\\n",
    "           &= a + (1-\\Lag)\\epsilon_{t}\n",
    "\\end{align*}\n",
    "\n",
    "Es decir, la serie resultante $\\Delta x_t$ es un proceso MA(1).\n",
    "\n",
    "El polinomio de rezagos para la parte MA tiene una raíz unitaria, por lo que el proceso **no es invertible**.\n",
    "\n",
    "Esto puede causar problemas a la hora de estimar el modelo.\n",
    "\n",
    "Este problema también se presenta si diferenciamos una serie que ya es estacionaria: resultamos con un proceso no invertible y que tiene mayor varianza que el proceso original. A esto lo llamamos **sobrediferenciar**.\n",
    "\n",
    "\n",
    "\n",
    "## Restando una tendencia determinística a una serie DS\n",
    "{bdg-danger}`(buscando problemas -- parte 2)`\n",
    "\n",
    "Para un proceso DS como $y_t = y_0 + at + \\sum_{\\tau=1}^t \\epsilon_{\\tau}$, remover la tendencia determinística resulta en\n",
    "\\begin{equation*}\n",
    "\\tilde{y}_t = \t\\sum_{\\tau=1}^t \\epsilon_{\\tau}\n",
    "\\end{equation*}\n",
    "\n",
    "Es decir, la serie resultante $\\tilde{y}_t$ aún conserva su tendencia estocástica.\n",
    "\n",
    "Vemos que\n",
    "\\begin{align*}\n",
    "\\Delta\\tilde{y}_t &= \\epsilon \\\\\n",
    "\\tilde{y}_t &= \\tilde{y}_{t-1} + \\epsilon\n",
    "\\end{align*}\n",
    "\n",
    "Esto es un proceso AR(1) con coeficiente autorregresivo igual a uno, por lo que no es estacionario."
   ]
  }
 ],
 "metadata": {
  "jupytext": {
   "formats": "md:myst",
   "text_representation": {
    "extension": ".md",
    "format_name": "myst"
   }
  },
  "kernelspec": {
   "display_name": "Python 3",
   "language": "python",
   "name": "python3"
  },
  "language_info": {
   "codemirror_mode": {
    "name": "ipython",
    "version": 3
   },
   "file_extension": ".py",
   "mimetype": "text/x-python",
   "name": "python",
   "nbconvert_exporter": "python",
   "pygments_lexer": "ipython3",
   "version": "3.9.13"
  },
  "source_map": [
   17,
   23,
   29,
   59,
   77
  ],
  "substitutions": {
   "empieza_ejemplo": "<div class=\"ejemplo\">\n<div class=\"ejemplo-titulo\"><b>Ejemplo: &nbsp;\n",
   "fin_titulo_ejemplo": "</b></div>",
   "termina_ejemplo": "</div>"
  }
 },
 "nbformat": 4,
 "nbformat_minor": 5
}