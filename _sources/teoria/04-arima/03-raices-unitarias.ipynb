{
 "cells": [
  {
   "cell_type": "markdown",
   "id": "d787bf0e",
   "metadata": {},
   "source": [
    "```{include} ../math-definitions.md\n",
    "```"
   ]
  },
  {
   "cell_type": "code",
   "execution_count": 1,
   "id": "029ce287",
   "metadata": {
    "tags": [
     "hide-input"
    ]
   },
   "outputs": [],
   "source": [
    "import numpy as np\n",
    "import pandas as pd\n",
    "import matplotlib.pyplot as plt\n",
    "import statsmodels.formula.api as smf\n",
    "import seaborn as sns\n",
    "from scipy.stats import t as t_Student\n",
    "from joblib import Parallel, delayed\n",
    "\n",
    "plt.style.use('seaborn')"
   ]
  },
  {
   "cell_type": "markdown",
   "id": "230a35d2",
   "metadata": {},
   "source": [
    "# Series con raíz unitaria y procesos ARIMA\n",
    "\n",
    "## Series con raíz unitaria\n",
    "\n",
    "La caminata aleatoria (con o sin deriva) puede verse como un modelo AR(1) en el cual la raíz del polinomio de rezagos es uno:\n",
    "\\begin{align*}\n",
    "y_t &= c + y_{t-1} + \\epsilon_t \\\\\n",
    "(1-\\Lag)y_t &= c + \\epsilon_{t}\n",
    "\\end{align*}\n",
    "\n",
    "Por ello, en general decimos que un proceso con tendencia estocástica tiene raíz unitaria.\n",
    "\n",
    "Consideremos el siguiente proceso AR(2)\n",
    "\\begin{equation*}\n",
    "y_t = 0.6y_{t-1} + 0.4y_{t-2} + \\epsilon_{t}\n",
    "\\end{equation*}\n",
    "\n",
    "Su polinomio de rezagos es $1-0.6\\Lag - 0.4\\Lag^2 = (1-0.4\\Lag)(1-1\\Lag)$, cuyas raíces son 1 y 2.5. Es decir, este proceso también tiene una raíz unitaria, y por tanto no es estacionario.\n",
    "\n",
    "La factorización del polinomio de rezagos nos sugiere escribir\n",
    "\\begin{align*}\n",
    "\t(1-0.4\\Lag)(1-1\\Lag)y_t & =\\epsilon_{t}                       \\\\\n",
    "\t(1-0.4\\Lag)\\Delta y_t           & =\\epsilon_{t}                       \\\\\n",
    "\t\\Delta y_t                      & = \t0.4\\Delta y_{t-1} + \\epsilon_{t}\n",
    "\\end{align*}\n",
    "\n",
    "Visto como un proceso para $y^*\\equiv\\Delta y_t$, este es un proceso AR(1) estacionario.\n",
    "\n",
    "\n",
    "\n",
    "## Procesos ARIMA(p,d,q)\n",
    "\n",
    "En el ejemplo anterior, como la primera diferencia de $y_t$ es un proceso AR(1) estacionario, decimos que $y_t$ es un proceso ARIMA(1,1,0).\n",
    "\n",
    "En general, si un proceso integrado de orden $d$, $y_t$, es diferenciado $d$ veces y su resultado  $\\Delta^d y_t$  es un proceso ARMA(p,q), entonces decimos que $y_t$ tiene un proceso ARIMA(p,d,q):\n",
    "\n",
    "\\{admonition} Autorregresivo integrado de media móvil: ARIMA\n",
    "Sea $\\left\\{\\epsilon_t\\right\\}$ ruido blanco; el proceso estocástico \\vspace{-0.5em}\n",
    "\\begin{equation*}\n",
    "\\Phi(\\Lag)(1-\\Lag)^d y_t = \\Theta(\\Lag)\\epsilon_t\n",
    "\\end{equation*}\n",
    "\n",
    "\\vspace{-0.5em} es llamado proceso ARIMA(p,d,q), donde $\\Phi(\\Lag)$ es un polinomio de grado $p$ cuyas raíces están fuera del círculo unitario, y $\\Theta(\\Lag)$ es un polinomio de grado $q$.\n",
    "\n",
    "\n",
    "\n",
    "## Repaso del modelo clásico de regresión lineal\n",
    "\n",
    "En el modelo clásico de regresión lineal se tiene\n",
    "\\begin{equation*}\n",
    "y_i = \\beta_1x_{1,i} + \\beta_2x_{2,i} + \\dots + \\beta_kx_{k,i} + \\epsilon_i\n",
    "\\end{equation*}\n",
    "donde $\\epsilon_i\\sim N(0,\\sigma^2)$ es un error homoscedástico y no-autocorrelacionado.\n",
    "\n",
    "Si se cumplen los supuestos del MCRL, este modelo se puede estimar de manera insesgada y eficiente por medio del estimador mínimos cuadrados ordinarios.\n",
    "\n",
    "Para hacer un test sobre un parámetro\n",
    "\\begin{align*}\n",
    "H_0:\\quad \\beta_j &= q &\n",
    "H_1:\\quad \\beta_j &\\neq q\n",
    "\\end{align*}\n",
    "\n",
    "utilizamos el valor estimado por mínimos cuadrados ordinarios $\\hat{\\beta}_j$ y su error estándar $s.e.(\\beta_j)$, y decimos que **si la hipótesis nula es cierta** entonces el estadístico\n",
    "\n",
    "\\begin{equation*}\n",
    "\\frac{\\hat{\\beta}_j - q}{s.e.(\\beta_j)} \\sim t_{n-k}\n",
    "\\end{equation*}\n",
    "(tiene una distribución $t$-Student con $n-k$ grados de libertad, donde $n$ es el número de observaciones y $k$ el número de parámetros estimados).\n",
    "\n",
    "\n",
    "Es decir, con un nivel de significancia $\\alpha$, el intervalo\n",
    "\\begin{equation*}\n",
    "\\left[q + t_{\\alpha/2}s.e.(\\beta_j),\\; q + t_{1-\\alpha/2}s.e.(\\beta_j)\\right]\n",
    "\\end{equation*}\n",
    "contendrá al valor estimado $\\hat{\\beta}_j$ en $100(1-\\alpha)\\%$ de las muestras **siempre y cuando sea cierto que $\\beta_j=q$**.\n",
    "\n",
    "Por ello, cuando encontramos un valor $\\hat{\\beta}_j$ que no está contenido en ese intervalo, rechazamos la hipótesis nula, y decimos que $\\beta_j$ es significativamente distinto de $q$, **a sabiendas de que nuestro procedimiento incurrirá en el error tipo-1 (rechazar una hipotésis verdadera) en $100\\alpha\\%$ de las muestras**.\n",
    "\n",
    "Para que este procedimiento tenga validez, es necesario que el estadístico efectivamente tenga la distribución $t$-Student, lo cual es cierto **siempre que se cumplan los supuestos del modelo clásico de regresión lineal**.\n",
    "\n",
    "\n",
    "## Regresión espuria\n",
    "\n",
    "En 1974, Granger y Newbold demostraron, via simulaciones, que si una serie I(1) se estima en función de otra serie I(1) completamente independiente de ella, los estadísticos usuales tenderán a mostar que las dos series están relacionadas.\n",
    "\n",
    "Es decir, si $y_t, x_t$ son dos series I(1) independientes, al correr la regresión\n",
    "\\begin{equation*}\n",
    "y_t = \\beta_0 + \\beta_1 x_t + \\epsilon_{t}\n",
    "\\end{equation*}\n",
    "fallaríamos en rechazar la hipótesis nula $\\beta_1 = 0$ (la cual es cierta porque $y_t$ no depende de $x_t$) con una frecuencia mayor a la que sugiere la distribución $t$-student correspondiente:\n",
    "\\begin{equation*}\n",
    "\\frac{\\hat{\\beta}_{1}}{\\hat{s.e}(\\beta_1)} \\sim t_{T-2} \\quad\\Leftarrow\\text{¡ya no es cierto!}\n",
    "\\end{equation*}\n",
    "\n",
    "Este fenómeno de encontrar relaciones inexistentes entre variables integradas se conoce como **regresión espuria**.\n",
    "\n",
    "\n",
    "\n",
    "{{ empieza_ejemplo }} Replicando Granger y Newbold 1974 {{ fin_titulo_ejemplo }}\n",
    "<!-- Basado en Levendis pp117-121 -->\n",
    "\n",
    "\\begin{align*}\n",
    "y_t &= 0.25 + y_{t-1} + \\epsilon^y_t \\\\\n",
    "x_t &= 0.25 + x_{t-1} + \\epsilon^x_t\n",
    "\\end{align*}"
   ]
  },
  {
   "cell_type": "code",
   "execution_count": 2,
   "id": "b6c254d1",
   "metadata": {
    "tags": [
     "hide-input"
    ]
   },
   "outputs": [
    {
     "data": {
      "image/png": "[encoded data removed]",
      "text/plain": [
       "<Figure size 576x288 with 1 Axes>"
      ]
     },
     "metadata": {
      "filenames": {
       "image/png": "C:\\Users\\randa\\OneDrive\\Documents\\Teaching\\econometria\\_build\\jupyter_execute\\teoria\\04-arima\\03-raices-unitarias_3_0.png"
      },
      "needs_background": "light"
     },
     "output_type": "display_data"
    }
   ],
   "source": [
    "np.random.seed(240)\n",
    "e = np.random.randn(40,2)\n",
    "\n",
    "df = pd.DataFrame(\n",
    "    (0.25+e).cumsum(axis=1),\n",
    "    columns=['y', 'x']\n",
    "    )\n",
    "\n",
    "res = smf.ols(\"y ~ x\" , df).fit()\n",
    "\n",
    "fig, ax = plt.subplots(figsize=[8,4])\n",
    "sns.regplot(x='x',y='y',data=df, marker='*',ax=ax)\n",
    "ax.set(xlabel='x', ylabel='y')\n",
    "\n",
    "statslabel = f'$R^2={res.rsquared:.2f}$'\n",
    "statslabel += f'\\n\\n$\\\\hat\\\\beta_1={res.params[1]:.2f}$'\n",
    "statslabel += f'\\n\\n$t_1={res.tvalues[1]:.2f}$'\n",
    "ax.annotate(statslabel, (0.02,0.98), xycoords='axes fraction', size=15, va='top')\n",
    "\n",
    "modellabel = r'$y_t = 0.25 + y_{t-1} + \\epsilon^y_t$'\n",
    "modellabel += '\\n\\n$x_t = 0.25 + x_{t-1} + \\\\epsilon^x_t$'\n",
    "ax.annotate(modellabel, (0.98,0.02), xycoords='axes fraction', size=15, va='bottom',ha='right')\n",
    "ax.grid(False);"
   ]
  },
  {
   "cell_type": "code",
   "execution_count": 3,
   "id": "ead21e8f",
   "metadata": {
    "tags": [
     "hide-input"
    ]
   },
   "outputs": [
    {
     "data": {
      "text/html": [
       "<table class=\"simpletable\">\n",
       "<caption>OLS Regression Results</caption>\n",
       "<tr>\n",
       "  <th>Dep. Variable:</th>            <td>y</td>        <th>  R-squared:         </th> <td>   0.561</td>\n",
       "</tr>\n",
       "<tr>\n",
       "  <th>Model:</th>                   <td>OLS</td>       <th>  Adj. R-squared:    </th> <td>   0.550</td>\n",
       "</tr>\n",
       "<tr>\n",
       "  <th>Method:</th>             <td>Least Squares</td>  <th>  F-statistic:       </th> <td>   48.60</td>\n",
       "</tr>\n",
       "<tr>\n",
       "  <th>Date:</th>             <td>Thu, 21 Jul 2022</td> <th>  Prob (F-statistic):</th> <td>2.69e-08</td>\n",
       "</tr>\n",
       "<tr>\n",
       "  <th>Time:</th>                 <td>00:15:57</td>     <th>  Log-Likelihood:    </th> <td> -40.091</td>\n",
       "</tr>\n",
       "<tr>\n",
       "  <th>No. Observations:</th>      <td>    40</td>      <th>  AIC:               </th> <td>   84.18</td>\n",
       "</tr>\n",
       "<tr>\n",
       "  <th>Df Residuals:</th>          <td>    38</td>      <th>  BIC:               </th> <td>   87.56</td>\n",
       "</tr>\n",
       "<tr>\n",
       "  <th>Df Model:</th>              <td>     1</td>      <th>                     </th>     <td> </td>   \n",
       "</tr>\n",
       "<tr>\n",
       "  <th>Covariance Type:</th>      <td>nonrobust</td>    <th>                     </th>     <td> </td>   \n",
       "</tr>\n",
       "</table>\n",
       "<table class=\"simpletable\">\n",
       "<tr>\n",
       "      <td></td>         <th>coef</th>     <th>std err</th>      <th>t</th>      <th>P>|t|</th>  <th>[0.025</th>    <th>0.975]</th>  \n",
       "</tr>\n",
       "<tr>\n",
       "  <th>Intercept</th> <td>    0.1400</td> <td>    0.119</td> <td>    1.174</td> <td> 0.248</td> <td>   -0.101</td> <td>    0.381</td>\n",
       "</tr>\n",
       "<tr>\n",
       "  <th>x</th>         <td>    0.5325</td> <td>    0.076</td> <td>    6.972</td> <td> 0.000</td> <td>    0.378</td> <td>    0.687</td>\n",
       "</tr>\n",
       "</table>\n",
       "<table class=\"simpletable\">\n",
       "<tr>\n",
       "  <th>Omnibus:</th>       <td> 7.474</td> <th>  Durbin-Watson:     </th> <td>   2.329</td>\n",
       "</tr>\n",
       "<tr>\n",
       "  <th>Prob(Omnibus):</th> <td> 0.024</td> <th>  Jarque-Bera (JB):  </th> <td>   6.173</td>\n",
       "</tr>\n",
       "<tr>\n",
       "  <th>Skew:</th>          <td> 0.843</td> <th>  Prob(JB):          </th> <td>  0.0457</td>\n",
       "</tr>\n",
       "<tr>\n",
       "  <th>Kurtosis:</th>      <td> 3.929</td> <th>  Cond. No.          </th> <td>    1.94</td>\n",
       "</tr>\n",
       "</table><br/><br/>Notes:<br/>[1] Standard Errors assume that the covariance matrix of the errors is correctly specified."
      ],
      "text/plain": [
       "<class 'statsmodels.iolib.summary.Summary'>\n",
       "\"\"\"\n",
       "                            OLS Regression Results                            \n",
       "==============================================================================\n",
       "Dep. Variable:                      y   R-squared:                       0.561\n",
       "Model:                            OLS   Adj. R-squared:                  0.550\n",
       "Method:                 Least Squares   F-statistic:                     48.60\n",
       "Date:                Thu, 21 Jul 2022   Prob (F-statistic):           2.69e-08\n",
       "Time:                        00:15:57   Log-Likelihood:                -40.091\n",
       "No. Observations:                  40   AIC:                             84.18\n",
       "Df Residuals:                      38   BIC:                             87.56\n",
       "Df Model:                           1                                         \n",
       "Covariance Type:            nonrobust                                         \n",
       "==============================================================================\n",
       "                 coef    std err          t      P>|t|      [0.025      0.975]\n",
       "------------------------------------------------------------------------------\n",
       "Intercept      0.1400      0.119      1.174      0.248      -0.101       0.381\n",
       "x              0.5325      0.076      6.972      0.000       0.378       0.687\n",
       "==============================================================================\n",
       "Omnibus:                        7.474   Durbin-Watson:                   2.329\n",
       "Prob(Omnibus):                  0.024   Jarque-Bera (JB):                6.173\n",
       "Skew:                           0.843   Prob(JB):                       0.0457\n",
       "Kurtosis:                       3.929   Cond. No.                         1.94\n",
       "==============================================================================\n",
       "\n",
       "Notes:\n",
       "[1] Standard Errors assume that the covariance matrix of the errors is correctly specified.\n",
       "\"\"\""
      ]
     },
     "execution_count": 3,
     "metadata": {},
     "output_type": "execute_result"
    }
   ],
   "source": [
    "res.summary()"
   ]
  },
  {
   "cell_type": "markdown",
   "id": "cb76d9f8",
   "metadata": {},
   "source": [
    "**Experimento de Monte Carlo para determinar la distribución del estadítico t**"
   ]
  },
  {
   "cell_type": "code",
   "execution_count": 4,
   "id": "f120fc64",
   "metadata": {
    "tags": [
     "hide-input"
    ]
   },
   "outputs": [
    {
     "name": "stdout",
     "output_type": "stream",
     "text": [
      "CPU times: total: 51.7 s\n",
      "Wall time: 2min 7s\n"
     ]
    },
    {
     "data": {
      "image/png": "[encoded data removed]",
      "text/plain": [
       "<Figure size 1080x576 with 2 Axes>"
      ]
     },
     "metadata": {
      "filenames": {
       "image/png": "C:\\Users\\randa\\OneDrive\\Documents\\Teaching\\econometria\\_build\\jupyter_execute\\teoria\\04-arima\\03-raices-unitarias_6_1.png"
      },
      "needs_background": "light"
     },
     "output_type": "display_data"
    }
   ],
   "source": [
    "%%time\n",
    "def regresion(T=40):\n",
    "    e = np.random.randn(2, T)\n",
    "\n",
    "    df = pd.DataFrame(dict(\n",
    "        x = e[0].cumsum(),\n",
    "        y = e[1].cumsum(),\n",
    "        u = e[0],\n",
    "        v = e[1]\n",
    "        ),\n",
    "        columns=['x', 'y', 'u', 'v']\n",
    "        )\n",
    "\n",
    "    t_estacionario = smf.ols(\"v~u\", data=df).fit().tvalues[1]\n",
    "    t_espurio = smf.ols(\"y~x\", data=df).fit().tvalues[1]\n",
    "    return t_estacionario, t_espurio\n",
    "\n",
    "def Monte_Carlo(funcion, repeticiones, columns, *args, **kwargs):\n",
    "    datos = Parallel(n_jobs=-1)(delayed(funcion)(*args, **kwargs) for _ in range(repeticiones))\n",
    "    return pd.DataFrame(datos, columns=columns)\n",
    "\n",
    "\n",
    "N = 10_000\n",
    "np.random.seed(12345)\n",
    "tvalues = Monte_Carlo(regresion, N, ['estacionaria', 'espuria'])\n",
    "\n",
    "\n",
    "maxtval = 12\n",
    "t5crit = t_Student.isf(0.05/2, 98)\n",
    "\n",
    "\n",
    "fig, (ax0,ax1) = plt.subplots(2,1,figsize=[15, 8], sharex=True)\n",
    "\n",
    "\n",
    "def plot_simulated(caso, ax):\n",
    "    ff, edges = np.histogram(tvalues[caso], bins=100, density=True)\n",
    "    center = (edges[1:] + edges[:-1])/2\n",
    "    w = center[1] - center[0]\n",
    "\n",
    "    ax.bar(center, ff, width=w, alpha=0.5)\n",
    "    xvals = np.linspace(-4,4, 200)\n",
    "    ax.plot(xvals, t_Student.pdf(xvals, df=98), '-r')\n",
    "    ax.set(xlim=[-maxtval, maxtval], title=f'Regresión {caso}')\n",
    "    ax.legend(['t-student', 'simulada'], loc='upper left')\n",
    "\n",
    "    # valores críticos\n",
    "    opciones = dict(ls=\"--\", color='gray')\n",
    "    ax.axvline(t5crit, **opciones)\n",
    "    ax.axvline(-t5crit, **opciones)\n",
    "\n",
    "    # error tipo I\n",
    "    err1 = (tvalues[caso].abs() > t5crit).mean()*100\n",
    "    ax.annotate(f'Prob$\\\\left(|t| > 1.984\\\\right)$ = {err1:.3f}%', (-10,0.15), size=20)\n",
    "\n",
    "    ax.grid(False)\n",
    "\n",
    "    \n",
    "plot_simulated('estacionaria', ax0)\n",
    "plot_simulated('espuria', ax1)"
   ]
  },
  {
   "cell_type": "markdown",
   "id": "177d1dd6",
   "metadata": {},
   "source": [
    "{{ termina_ejemplo }}\n",
    "\n",
    "\n",
    "\n",
    "\n",
    "## Regresión lineal con series integradas\n",
    "**¿Cómo estudiar la relación entre series integradas sin incurrir en regresiones espurias?**\n",
    "\n",
    "Supongamos que tanto $y_t$ como $x_t$ son series I(1).\n",
    "\n",
    "Entonces, por definición, $\\Delta y_t$ y $\\Delta x_t$ son series estacionarias.\n",
    "\n",
    "En tal caso, el modelo\n",
    "\\begin{equation*}\n",
    "\\Delta y_t = \\beta_0 + \\beta_1\\Delta x_t + \\epsilon_t\n",
    "\\end{equation*}\n",
    "puede estimarse por mínimos cuadrados, y la prueba $\\beta_1=0$ se realiza usando el procedimiento usual.\n",
    "\n",
    "Una alternativa mejor, que estudiaremos con detalladamente más tarde en el curso, es estimar la regresión en niveles\n",
    "\\begin{equation*}\n",
    "y_t = \\beta_0 + \\beta_1 x_t + \\epsilon_t\n",
    "\\end{equation*}\n",
    "y determinar si los residuos de esta regresión son estacionarios. Si lo son, diremos que $y_t$ está cointegrada con $x_t$.\n",
    "\n",
    "\n",
    "\n",
    "## Procesos AR(p) con raíz unitaria\n",
    "\n",
    "Recordemos que el proceso AR(p) puede escribirse\n",
    "\n",
    "\\begin{align*}\n",
    "\ty_t  & = c + \\phi_1 y_{t-1} +\\dots + \\phi_p y_{t-p} +  \\epsilon_t \\\\\n",
    "\\left(1 - \\phi_1\\Lag^1 -\\dots - \\phi_p\\Lag^p\\right)y_{t} & = c +  \\epsilon_t \\\\\n",
    "\\Phi(\\Lag)y_{t}                                          & = c +  \\epsilon_t\n",
    "\\end{align*}\n",
    "\n",
    "Supongamos que los coeficientes autorregresivos suman uno. Entonces\n",
    "\\begin{align*}\n",
    "\\Phi(1) &= 1 - \\phi_1 1^1 -\\dots - \\phi_p 1^p\\\\\n",
    "        &= 1 - (\\phi_1 + \\phi_2 + \\dots + \\phi_p) = 1 - 1 = 0\n",
    "\\end{align*}\n",
    "\n",
    "Es decir, si $\\phi_1 + \\phi_2 + \\dots + \\phi_p=1$, entonces el proceso tiene raíz unitaria."
   ]
  }
 ],
 "metadata": {
  "jupytext": {
   "formats": "md:myst",
   "text_representation": {
    "extension": ".md",
    "format_name": "myst"
   }
  },
  "kernelspec": {
   "display_name": "Python 3",
   "language": "python",
   "name": "python3"
  },
  "language_info": {
   "codemirror_mode": {
    "name": "ipython",
    "version": 3
   },
   "file_extension": ".py",
   "mimetype": "text/x-python",
   "name": "python",
   "nbconvert_exporter": "python",
   "pygments_lexer": "ipython3",
   "version": "3.9.13"
  },
  "source_map": [
   17,
   22,
   33,
   141,
   168,
   171,
   177,
   239
  ],
  "substitutions": {
   "empieza_ejemplo": "<div class=\"ejemplo\">\n<div class=\"ejemplo-titulo\"><b>Ejemplo: &nbsp;\n",
   "fin_titulo_ejemplo": "</b></div>",
   "termina_ejemplo": "</div>"
  }
 },
 "nbformat": 4,
 "nbformat_minor": 5
}