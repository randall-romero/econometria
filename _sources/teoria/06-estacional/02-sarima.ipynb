{
 "cells": [
  {
   "cell_type": "markdown",
   "id": "d1743325",
   "metadata": {},
   "source": [
    "```{include} ../math-definitions.md\n",
    "```"
   ]
  },
  {
   "cell_type": "code",
   "execution_count": null,
   "id": "54212861",
   "metadata": {
    "tags": [
     "hide-input"
    ]
   },
   "outputs": [],
   "source": [
    "import numpy as np\n",
    "import pandas as pd\n",
    "import matplotlib.pyplot as plt\n",
    "plt.style.use('seaborn-talk')\n",
    "\n",
    "\n",
    "from statsmodels.graphics.tsaplots import plot_acf, plot_pacf\n",
    "from statsmodels.tsa.statespace.sarimax import SARIMAX"
   ]
  },
  {
   "cell_type": "markdown",
   "id": "5196c198",
   "metadata": {},
   "source": [
    "# Modelo ARIMA estacional\n",
    "\n",
    "En un modelo ARIMA estacional, términos AR y MA predicen $ y_{t} $ usando valores de datos y errores con rezagos  que son múltiplos de $s$\n",
    "\n",
    "Por ejemplo, con datos trimestrales (s=4),\n",
    "\n",
    "-  un modelo autorregresivo estacional de primer orden usa $y_{t-4}$ para predecir $y_{t}$, mientras que uno de segundo orden usa $y_{t-4}, y_{t-8}$ para ello.\n",
    "-  un modelo de media móvil estacional de primer orden usa $\\epsilon_{t-4}$ para predecir $y_{t}$, mientras que uno de segundo orden utiliza $\\epsilon_{t-4}, \\epsilon_{t-8}$.\n",
    "\n",
    "\n",
    "Por ejemplo, si quisiéramos pronosticar el número de pasajeros extranjeros que viajarán por el SJO en agosto 2020, tiene mucho sentido modelar ese valor en función del número de pasajeros extranjeros que viajaron por SJO en agosto de años anteriores."
   ]
  },
  {
   "cell_type": "code",
   "execution_count": null,
   "id": "a0719cbe",
   "metadata": {
    "tags": [
     "hide-input"
    ]
   },
   "outputs": [],
   "source": [
    "# read data from previous example\n",
    "\n",
    "sjodatos =pd.read_pickle(\"datos/SJO-pasajeros.pickle\")\n",
    "sjodatoscuadro = sjodatos.unstack()\n",
    "sjodatoscuadro['extranjeros'].round(1)"
   ]
  },
  {
   "cell_type": "markdown",
   "id": "842efc10",
   "metadata": {},
   "source": [
    "## Un modelo estacional puro\n",
    "\n",
    "| Año  | May             | Jun             | Jul             | Ago              |\n",
    "| ---: | --------------: | --------------: | --------------: | ---------------: |\n",
    "| 2016 |                 |                 |                 | $y_{t-36}=138.7$ |\n",
    "| 2017 |                 |                 |                 | $y_{t-24}=142.8$ |\n",
    "| 2018 |                 |                 |                 | $y_{t-12}=156.0$ |\n",
    "| 2019 | $y_{t-3}=128.2$ | $y_{t-2}=137.0$ | $y_{t-1}=151.4$ | $y_{t}=156.4$    |\n",
    "\n",
    "En general, un modelo puramente estacional puede representarse por\n",
    "\\begin{multline*}\n",
    "y_t = \\varphi_1y_{t-s} + \\varphi_2y_{t-2s} + \\dots+ \\varphi_Py_{t-Ps} +\\\\\n",
    "+ \\varepsilon_t + \\vartheta_{1}\\varepsilon_{t-s} + \\vartheta_{2}\\varepsilon_{t-2s} + \\dots + \\vartheta_{Q}\\varepsilon_{t-Qs}\n",
    "\\end{multline*}\n",
    "\n",
    "o bien, en términos de polinomios de rezagos\n",
    "\\begin{equation*}\n",
    "\\notationbrace{\\left(1 - \\varphi_1\\Lag^{s} - \\dots - \\varphi_P\\Lag^{Ps} \\right)}{$\\varPhi(\\Lag^s)$}y_{t} = \\notationbrace{\\left(1 + \\vartheta_{1}\\Lag^{s}+\\dots+\\vartheta_{Q}\\Lag^{Qs}\\right)}{$\\varTheta(\\Lag^s)$}\\varepsilon_{t}\n",
    "\\end{equation*}\n",
    "\n",
    "\n",
    "## Diferenciación estacional\n",
    "\n",
    "La diferenciación estacional se define como la diferencia entre un valor $ y_{t} $ y un valor rezagado un múltiplo de $s$ períodos.\n",
    "\\begin{equation*}\n",
    "\\Delta_{s} y_{t} = \\left(1-\\Lag^{s}\\right)y_t = y_t - y_{t-s}\n",
    "\\end{equation*}\n",
    "\n",
    "Por ejemplo:\n",
    "trimestral\n",
    ":   $\\Delta_{4} y_{t} = \\left(1-\\Lag^{4}\\right)y_t = y_t - y_{t-4}$\n",
    "\n",
    "mensual\n",
    ":   $\\Delta_{12} y_{t} = \\left(1-\\Lag^{12}\\right)y_t = y_t - y_{t-12}$\n",
    "\n",
    "\n",
    "Nótese que siguiendo esta notación $ \\Delta y_t = \\Delta_1 y_t $. Pero\n",
    "```{warning}\n",
    "\\begin{align*}\n",
    "              \\Delta_2 y_t &\\neq \\Delta^2 y_t \\\\\n",
    "\\left(1 - \\Lag^2\\right)y_t &\\neq \\left(1-\\Lag\\right)^2y_t \\\\\n",
    "\\left(1 - \\Lag^2\\right)y_t &\\neq \\left(1-2\\Lag + \\Lag^2\\right)y_t \\\\\n",
    "              y_t- y_{t-2} &\\neq y_t - 2y_{t-1} + y_{t-2}\n",
    "\\end{align*}\n",
    "```\n",
    "\n",
    "## Un modelo ARIMA para observaciones de la misma estación\n",
    "\n",
    "En general, podríamos plantear un modelo ARIMA para observaciones de una sola estación (mes, trimestre)\n",
    "\\begin{equation*}\n",
    "\\varPhi(\\Lag^s)\\Delta_s^D y_t = \\varTheta(\\Lag^s)\\varepsilon_{t}\n",
    "\\end{equation*}\n",
    "\n",
    "Es usualmente razonable asumir que esta misma relación la cumplen las observaciones de la estación anterior\n",
    "\\begin{equation*}\n",
    "\\varPhi(\\Lag^s)\\Delta_s^D y_{t-1} = \\varTheta(\\Lag^s)\\varepsilon_{t-1}\n",
    "\\end{equation*}\n",
    "\n",
    "En general, los errores de estas relaciones $\\varepsilon_{t}, \\varepsilon_{t-1}$ podrían estar correlacionadas, por lo que en principio podemos plantear el modelo ARIMA:\n",
    "\\begin{equation*}\n",
    "\\Phi(\\Lag)\\Delta^d \\varepsilon_{t} = \\Theta(\\Lag)\\epsilon_{t}\n",
    "\\end{equation*}\n",
    "donde $\\epsilon_{t}$ es ruido blanco.\n",
    "\n",
    "\n",
    "## El modelo SARIMA\n",
    "\n",
    "Asumiendo que el proceso ARIMA de cada estación es invertible obtenemos\n",
    "\\begin{align*}\n",
    "     \\varPhi(\\Lag^s)\\Delta_s^D y_t &= \\varTheta(\\Lag^s)\\varepsilon_{t}\\\\\n",
    "\\varTheta^{-1}(\\Lag^s)\\varPhi(\\Lag^s)\\Delta_s^D y_t &= \\varepsilon_{t}\\\\\n",
    "\\Phi(\\Lag)\\Delta^d\\varTheta^{-1}(\\Lag^s)\\varPhi(\\Lag^s)\\Delta_s^D y_t &= \\Phi(\\Lag)\\Delta^d\\varepsilon_{t}\\\\\n",
    "                    &= \\Theta(\\Lag)\\epsilon_{t} \\\\\n",
    "\\notation{\\Phi(\\Lag)}{$p$}\\notation{\\varPhi(\\Lag^s)}{$P$}\\notation{\\Delta^d_{\\phantom{D}}}{$d$}\\notation{\\Delta_s^D}{$D$} y_t &= \\notation{\\Theta(\\Lag)}{$q$}\\notation{\\varTheta(\\Lag^s)}{$Q$}\\epsilon_{t}\n",
    "\\end{align*}\n",
    "\n",
    "Este modelo se denomina $\\alert{\\text{SARIMA}(p,d,q)\\times(P,D,Q)_s}$.\n",
    "\n",
    "\n",
    "\n",
    "{{ empieza_ejemplo }} Algunos modelos SARIMA {{ fin_titulo_ejemplo }}\n",
    "\n",
    "- $\\text{SARIMA}(0,0,0)\\times(0,1,0)_4 = \\text{SARIMA}(0,1,0)_4$\n",
    "\\begin{align*}\n",
    "\\Delta_4 y_t &= \\epsilon_{t} \\\\\n",
    "(1-\\Lag^4) y_t &= \\epsilon_{t} \\\\\n",
    "y_{t} - y_{t-4} &= \\epsilon_{t}\n",
    "\\end{align*}\n",
    "\n",
    "- $\\text{SARIMA}(2,0,0)_4 = \\text{SAR}(2)_4$\n",
    "\\begin{align*}\n",
    "\\left(1-\\varphi_1\\Lag^4-\\varphi_2\\Lag^8\\right) y_t &= \\epsilon_{t} \\\\\n",
    "y_{t} - \\varphi_1y_{t-4} - \\varphi_2y_{t-8} &= \\epsilon_{t}\n",
    "\\end{align*}\n",
    "\n",
    "- $\\text{SARIMA}(0,0,3)_4 = \\text{SMA}(3)_4$\n",
    "\\begin{align*}\n",
    "y_t &= (1+\\vartheta_1\\Lag^4 +\\vartheta_2\\Lag^8 + \\vartheta_3\\Lag^{12})\\epsilon_{t} \\\\\n",
    "    &= \\epsilon_{t} + \\vartheta_1\\epsilon_{t-4} +\\vartheta_2\\epsilon_{t-8} + \\vartheta_3\\epsilon_{t-12}\n",
    "\\end{align*}\n",
    "\n",
    "- $\\text{SARIMA}(0,1,1)\\times(0,1,1)_4$\n",
    "\\begin{align*}\n",
    "\\Delta \\Delta_4 y_t &= (1+\\theta\\Lag)(1+\\vartheta\\Lag^4 )\\epsilon_{t} \\\\\n",
    "(1-\\Lag)(1-\\Lag^4) y_t &= (1+\\theta\\Lag)(1+\\vartheta\\Lag^4 )\\epsilon_{t} \\\\\n",
    "(1-\\Lag -\\Lag^4 + \\Lag^5) y_t &= (1+\\theta\\Lag +\\vartheta\\Lag^4 +\\theta\\vartheta\\Lag^5)\\epsilon_{t} \\\\\n",
    "y_{t} - y_{t-1} - y_{t-4} + y_{t-5} &= \\epsilon_{t} + \\theta\\epsilon_{t-1} + \\vartheta\\epsilon_{t-4} + \\theta\\vartheta\\epsilon_{t-5}\n",
    "\\end{align*}\n",
    "\n",
    "- $\\text{SARIMA}(1,0,0)\\times(0,1,1)_4$\n",
    "\\begin{align*}\n",
    "(1-\\phi\\Lag) \\Delta_4 y_t &= (1+\\vartheta\\Lag^4 )\\epsilon_{t} \\\\\n",
    "(1-\\phi\\Lag)(1-\\Lag^4) y_t &= (1+\\vartheta\\Lag^4 )\\epsilon_{t} \\\\\n",
    "(1-\\phi\\Lag -\\Lag^4 + \\phi\\Lag^5) y_t &= (1+\\vartheta\\Lag^4 )\\epsilon_{t} \\\\\n",
    "y_{t} - \\phi y_{t-1} - y_{t-4} + \\phi y_{t-5} &= \\epsilon_{t} + \\vartheta\\epsilon_{t-4}\n",
    "\\end{align*}\n",
    "\n",
    "{{ termina_ejemplo }}\n",
    "\n",
    "\n",
    "## Identificación de un modelo SARIMA\n",
    "\n",
    "La identificación de modelos estacionales es más difícil que la identificación de modelos no estacionales por dos razones:\n",
    "\n",
    "1. Muchas series estacionales exhiben también patrones no estacionales y por lo tanto las FAC y las FACP estimadas contienen ambos patrones.\n",
    "2. No hay muchas correlaciones en valores $k$ múltiplos de $s$. Por ejemplo, en una serie mensual podríamos contar únicamente con $k = 12$, $k = 24$ y $k = 36$\n",
    "\n",
    "En la práctica, cuando se tienen dudas, se utilizan herramientas que automatizan esta selección de parámetros a partir de criterios de selección.\n",
    "\n",
    "\n",
    "\n",
    "{{ empieza_ejemplo }} Estimación de un modelo SARIMA {{ fin_titulo_ejemplo }}\n",
    "\n",
    "El correlograma de la serie de movimientos de pasajeros extranjeros en SJO sugiere que la serie tiene un componente estacional."
   ]
  },
  {
   "cell_type": "code",
   "execution_count": null,
   "id": "29485260",
   "metadata": {
    "tags": [
     "hide-input"
    ]
   },
   "outputs": [],
   "source": [
    "def correlogramas4(serie, residencia, func):\n",
    "    fig, axs= plt.subplots(2,2, figsize=[12,5], sharex=True, sharey=True)\n",
    "    opts = dict(lags=24)\n",
    "    if func is plot_pacf:\n",
    "        opts['method'] = 'ols'\n",
    "\n",
    "    func(serie, **opts,ax=axs[0,0], title='$y_t$');\n",
    "    func(serie.diff(1).dropna(), **opts, ax=axs[0,1],title='$\\Delta y_t$');\n",
    "    func(serie.diff(12).dropna(), **opts, ax=axs[1,0],title='$\\Delta_{12}y_t$');\n",
    "    func(serie.diff(1).diff(12).dropna(), **opts, ax=axs[1,1],title='$\\Delta\\Delta_{12}y_t$');\n",
    "\n",
    "    for ax in axs.flat:\n",
    "        ax.set(xlim=[-0.5,24.5], xticks=np.arange(0,25,6))\n",
    "\n",
    "    pp = 'parcial' if (func is plot_pacf) else ''\n",
    "    fig.suptitle(f'Correlogramas {pp} de cantidad de pasajeros {residencia} en SJO', size=18)\n",
    "    return fig\n",
    "\n",
    "extranjeros = pd.DataFrame(np.log(sjodatos['extranjeros'].values), index=pd.period_range('2011-01', '2019-12', freq='M'))\n",
    "correlogramas4(extranjeros, 'extranjeros', plot_acf);"
   ]
  },
  {
   "cell_type": "markdown",
   "id": "1244678e",
   "metadata": {},
   "source": [
    "Al usar una herramienta de selección de modelos `statsmodels.tsa.x13.x13_arima_select_order` en Python se selecciona el modelo $\\text{SARIMA}(0, 1, 1)\\times(0, 1, 1)_{12}$."
   ]
  },
  {
   "cell_type": "code",
   "execution_count": null,
   "id": "9d896c50",
   "metadata": {
    "tags": [
     "hide-input"
    ]
   },
   "outputs": [],
   "source": [
    "mod_extranjeros = SARIMAX(extranjeros, order=(0,1,1), seasonal_order=(0,1,1,12)).fit()\n",
    "mod_extranjeros.summary()"
   ]
  },
  {
   "cell_type": "markdown",
   "id": "a6a0e9b9",
   "metadata": {},
   "source": [
    "El modelo estimado es\n",
    "\\begin{align*}\n",
    "(1-\\Lag)(1-\\Lag^{12}) y_t &= (1-0.611\\Lag)(1-0.765\\Lag^{12} )\\epsilon_{t} \\\\\n",
    "y_{t} - y_{t-1} - y_{t-12} + y_{t-13} &= \\epsilon_{t} - 0.611\\epsilon_{t-1} -0.765\\epsilon_{t-12} + 0.467\\epsilon_{t-13}\n",
    "\\end{align*}\n",
    "\n",
    "Los resultados de la tabla anterior muestran que:\n",
    "\n",
    "- Los coeficiente estimados son significativos.\n",
    "- Los residuos del modelo...\n",
    "  - parecen no estar autocorrelacionados: el valor $p$ del estadístico $Q$ de Lung-Box es 0.19.\n",
    "  - parecen ser normales: la asimetría es 0.09, la kurtosis es 3.16, y el valor $p$ de la prueba de Jarque-Bera es 0.89.\n",
    "\n",
    "Por ello, podemos pensar que el modelo estimado es una buena representación de los datos.\n",
    "\n",
    "\n",
    "\n",
    "La expresión\n",
    "\\begin{equation*}\n",
    "y_{t} = y_{t-1} + y_{t-12} - y_{t-13} + \\epsilon_{t} - 0.611\\epsilon_{t-1} -0.765\\epsilon_{t-4} + 0.467\\epsilon_{t-5}\n",
    "\\end{equation*}\n",
    "puede utilizarse recursivamente para generar pronósticos."
   ]
  },
  {
   "cell_type": "code",
   "execution_count": null,
   "id": "c942c08a",
   "metadata": {
    "tags": [
     "hide-input"
    ]
   },
   "outputs": [],
   "source": [
    "def plot_forecast(modelo, serie, residencia, ax):\n",
    "    fcast = modelo.get_forecast('2020-12')\n",
    "    ci = np.exp(fcast.conf_int())\n",
    "    np.exp(fcast.predicted_mean).plot(ax=ax)\n",
    "    ax.fill_between(ci.index,'lower y', 'upper y', data=ci, alpha=0.5)    \n",
    "    np.exp(serie).plot(ax=ax, legend=False)\n",
    "    ax.set(title=f'Pronóstico de pasajeros {residencia} en aeropuerto SJO')\n",
    "    return ax\n",
    "\n",
    "fig, ax = plt.subplots(1,1, figsize=[9,4])\n",
    "plot_forecast(mod_extranjeros, extranjeros['2015':], 'extranjeros', ax)\n",
    "ax.set(ylabel='miles de pasajeros');"
   ]
  },
  {
   "cell_type": "markdown",
   "id": "949668c1",
   "metadata": {},
   "source": [
    "{{ termina_ejemplo }}\n",
    "\n",
    "\n",
    "\n",
    "## Pronosticando un modelo SARIMA\n",
    "\n",
    "Si expandimos los polinomios del proceso $\\text{SARIMA}(p,d,q)\\times(P,D,Q)_s$\n",
    "\\begin{equation*}\n",
    "\\notation{\\Phi(\\Lag)}{$p$}\\notation{\\varPhi(\\Lag^s)}{$P$}\\notation{\\Delta^d_{\\phantom{D}}}{$d$}\\notation{\\Delta_s^D}{$D$} y_t = \\notation{\\Theta(\\Lag)}{$q$}\\notation{\\varTheta(\\Lag^s)}{$Q$}\\epsilon_{t}\n",
    "\\end{equation*}\n",
    "\n",
    "el resultado será un polinomio de grado $p+Ps+d+D$ del lado izquierdo y uno de grado $q+Qs$ del lado derecho.\n",
    "\n",
    "Para horizontes de más allá de $q+Qs$ períodos, la dinámica de estos pronósticos estará gobernada únicamente por la ecuación en diferencia homogénea\n",
    "\\begin{equation*}\n",
    "\\Phi(\\Lag)\\varPhi(\\Lag^s)\\Delta^d\\Delta_s^D \\hat{y}_{t+h} = 0\n",
    "\\end{equation*}\n",
    "\n",
    "\n",
    "![sarima-forecast-paterns](figures/sarima-forecast-patterns.png)"
   ]
  }
 ],
 "metadata": {
  "jupytext": {
   "formats": "md:myst",
   "text_representation": {
    "extension": ".md",
    "format_name": "myst"
   }
  },
  "kernelspec": {
   "display_name": "Python 3",
   "language": "python",
   "name": "python3"
  },
  "source_map": [
   17,
   23,
   33,
   49,
   56,
   196,
   219,
   224,
   228,
   254,
   268
  ],
  "substitutions": {
   "empieza_ejemplo": "<div class=\"ejemplo\">\n<div class=\"ejemplo-titulo\"><b>Ejemplo: &nbsp;\n",
   "fin_titulo_ejemplo": "</b></div>",
   "termina_ejemplo": "</div>"
  }
 },
 "nbformat": 4,
 "nbformat_minor": 5
}