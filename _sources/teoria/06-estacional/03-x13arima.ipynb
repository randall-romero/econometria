{
 "cells": [
  {
   "cell_type": "markdown",
   "id": "7702b5eb",
   "metadata": {},
   "source": [
    "```{include} ../math-definitions.md\n",
    "```"
   ]
  },
  {
   "cell_type": "code",
   "execution_count": 1,
   "id": "bc6be0d7",
   "metadata": {
    "tags": [
     "hide-input"
    ]
   },
   "outputs": [],
   "source": [
    "import numpy as np\n",
    "import pandas as pd\n",
    "import matplotlib.pyplot as plt\n",
    "plt.style.use('seaborn-talk')\n",
    "\n",
    "from statsmodels.tsa.x13 import x13_arima_analysis\n",
    "\n",
    "x13path = \"teoria/06-estacional/\""
   ]
  },
  {
   "cell_type": "markdown",
   "id": "baa92cca",
   "metadata": {},
   "source": [
    "# Ajuste estacional\n",
    "\n",
    "\n",
    "## Ajuste estacional o extracción de señales\n",
    "\n",
    "Estos métodos surgieron a mitad del siglo XX para resolver dos problemas:\n",
    "\n",
    "1. Remover la tendencia de una serie, con el fin de estudiar apropiadamente su autocorrelación.\n",
    "2. Separar las variaciones estacionales de los demás componentes de las series.\n",
    "\n",
    "Al inicio, se utilizaban métodos determiní­sticos, pero luego se fueron abandonando en favor de métodos empíricos basados en promedios móviles\n",
    "\n",
    "\n",
    "## ¿Para qué ajustar una serie por estacionalidad?\n",
    "\n",
    "El objetivo de lo métodos de ajuste estacional es extraer una señal clara de $y_t$, que permita identificar con facilidad la verdadera evolución de la serie\n",
    "\n",
    "Si una serie de tiempo tiene mucho ruido (variabilidad) y un componente estacional fuerte, este ruido afectará a las variaciones inter-periodos o a las variaciones interanuales.\n",
    "\n",
    "El ajuste estacional permite hacer comparaciones de un período respecto al anterior, removiendo el ruido que introduciría la presencia de la estacionalidad.\n",
    "\n",
    "\n",
    "## Componentes de las series\n",
    "\n",
    "Tendencia (T)\n",
    ":   Es un movimiento de larga duración que se mantiene durante todo el período de observación.\n",
    "\n",
    "Movimientos cíclicos (C)\n",
    ":   Son oscilaciones alrededor de la tendencia producidos por periodos alternativos de prosperidad y depresión.\n",
    "\n",
    "Variación estacional (S)\n",
    ":   Son los movimientos que se producen dentro del año y que se repiten de un año a otro.\n",
    "\n",
    "Movimientos irregulares ($\\epsilon$)\n",
    ":   Son las oscilaciones erráticas o accidentales que obedecen a variadas causas. No siguen ningún patrón específico de comportamiento y por tanto son impredecibles.\n",
    "\n",
    "\n",
    "## Descomposición multiplicativa\n",
    "\n",
    "\\begin{equation*}\n",
    "y_t = T_t \\times C_t \\times S_t \\times \\epsilon_t\n",
    "\\end{equation*}\n",
    "\n",
    "Se utiliza cuando se observa que la amplitud del componente estacional varía en forma proporcional al valor de la tendencia.\n",
    "\n",
    "En este caso el componente estacional se expresa como un índice y se interpreta como una diferencia relativa. Lo mismo ocurre para el componente irregular.\n",
    "\n",
    "La tendencia siempre se mide en las mismas unidades que $Y_t$\n",
    "\n",
    "\n",
    "## Descomposición aditiva\n",
    "\n",
    "\\begin{equation*}\n",
    "y_t = T_t + C_t + S_t + \\epsilon_t\n",
    "\\end{equation*}\n",
    "\n",
    "Se utiliza cuando el componente estacional permanece constante, aún si existen cambios en el nivel de tendencia.\n",
    "\n",
    "En este caso el componente estacional se expresa en las mismas unidades que $Y_t$, al igual que ocurre con el componente irregular.\n",
    "\n",
    "La tendencia siempre se mide en las mismas unidades que $Y_t$\n",
    "\n",
    "\n",
    "##  Serie desestacionalizada\n",
    "\n",
    "Se obtiene cuando a la serie original se le elimina el componente estacional:\n",
    "\\begin{equation*}\n",
    "y_t^{s.a.} = \\frac{T_t \\times C_t \\times S_t \\times \\epsilon_t}{S_t} = T_t \\times C_t \\times \\epsilon_t\n",
    "\\end{equation*}\n",
    "\n",
    "## Serie tendencia-ciclo\n",
    "\n",
    "Se obtiene cuando se elimina el componente estacional y el irregular de la serie original:\n",
    "\\begin{equation*}\n",
    "y_t^{t.c.} = \\frac{T_t \\times C_t \\times S_t \\times \\epsilon_t}{S_t\\times \\epsilon_t} = T_t \\times C_t\n",
    "\\end{equation*}\n",
    "\n",
    "\n",
    "## Métodos actuales para la estimación de componentes\n",
    "\n",
    "### Basados en medias móviles\n",
    "\n",
    "- Son empíricos\n",
    "- La estimación de los componentes es local a través de promedio móviles centrados de distintos tamaños\n",
    "- Las revisiones están sujetas a la bondad del pronóstico.\n",
    "\n",
    "### Basados en modelos\n",
    "\n",
    "- Proveen medidas de bondad de ajuste sobre la estimación de los componentes.\n",
    "- Permite obtener pronósticos de los componentes.\n",
    "- Minimiza las revisiones.\n",
    "- Minimiza el riesgo de inducción de propiedades espurias.\n",
    "\n",
    "## Línea de tiempo: programas de ajuste estacional\n",
    "\n",
    "1967\n",
    ":   X11, filtros ad-hoc, Julius Shiskin, US Bureau of the Census\n",
    "\n",
    "1980\n",
    ":   X-11 ARIMA, Statistics Canada\n",
    "\n",
    "1997\n",
    ":   X-12 ARIMA, US Bureau  of Census\n",
    "\n",
    "2012\n",
    ":   [X-13 ARIMA-SEATS, US Bureau of Census](http://www.census.gov/srd/www/winx13/index.html)\n",
    "\n",
    "---\n",
    "\n",
    "\n",
    "1992\n",
    ":   TRAMO y SEATS (prueba), métodos estocásticos\n",
    "\n",
    "1998\n",
    ":   TRAMO y SEATS, Banco de España\n",
    "\n",
    "2001\n",
    ":   TSW, Banco de España\n",
    "\n",
    "2012\n",
    ":   [JDEMETRA+ Eurostat](https://ec.europa.eu/eurostat/cros/content/software-jdemetra_en)\n",
    "\n",
    "2014\n",
    ": TSW+, Banco de España\n",
    "\n",
    "\n",
    "\n",
    "\n",
    "{{ empieza_ejemplo }} Descomposición de la serie pasajeros extranjeros en SJO, usando X13 {{ fin_titulo_ejemplo }}"
   ]
  },
  {
   "cell_type": "code",
   "execution_count": 2,
   "id": "b8d2603d",
   "metadata": {
    "tags": [
     "hide-input"
    ]
   },
   "outputs": [
    {
     "ename": "X13NotFoundError",
     "evalue": "x12a and x13as not found on path. Give the path, put them on PATH, or set the X12PATH or X13PATH environmental variable.",
     "output_type": "error",
     "traceback": [
      "\u001b[1;31m---------------------------------------------------------------------------\u001b[0m",
      "\u001b[1;31mX13NotFoundError\u001b[0m                          Traceback (most recent call last)",
      "Input \u001b[1;32mIn [2]\u001b[0m, in \u001b[0;36m<cell line: 16>\u001b[1;34m()\u001b[0m\n\u001b[0;32m     13\u001b[0m     temp\u001b[38;5;241m.\u001b[39mcolumns \u001b[38;5;241m=\u001b[39m [\u001b[38;5;124m'\u001b[39m\u001b[38;5;124mSerie original\u001b[39m\u001b[38;5;124m'\u001b[39m,\u001b[38;5;124m'\u001b[39m\u001b[38;5;124mSerie ajustada por estacionalidad\u001b[39m\u001b[38;5;124m'\u001b[39m,\u001b[38;5;124m'\u001b[39m\u001b[38;5;124mSerie tendencia ciclo\u001b[39m\u001b[38;5;124m'\u001b[39m,\u001b[38;5;124m'\u001b[39m\u001b[38;5;124mComponente irregular\u001b[39m\u001b[38;5;124m'\u001b[39m]\n\u001b[0;32m     14\u001b[0m     \u001b[38;5;28;01mreturn\u001b[39;00m temp\n\u001b[1;32m---> 16\u001b[0m componentes \u001b[38;5;241m=\u001b[39m \u001b[43mX13ARIMA\u001b[49m\u001b[43m(\u001b[49m\u001b[43mextranjeros\u001b[49m\u001b[43m,\u001b[49m\u001b[43m \u001b[49m\u001b[38;5;28;43;01mFalse\u001b[39;49;00m\u001b[43m)\u001b[49m\n\u001b[0;32m     19\u001b[0m fig \u001b[38;5;241m=\u001b[39m plt\u001b[38;5;241m.\u001b[39mfigure(figsize\u001b[38;5;241m=\u001b[39m[\u001b[38;5;241m12\u001b[39m,\u001b[38;5;241m8\u001b[39m])\n\u001b[0;32m     20\u001b[0m gs \u001b[38;5;241m=\u001b[39m plt\u001b[38;5;241m.\u001b[39mGridSpec(\u001b[38;5;241m3\u001b[39m,\u001b[38;5;241m1\u001b[39m,figure\u001b[38;5;241m=\u001b[39mfig, height_ratios\u001b[38;5;241m=\u001b[39m[\u001b[38;5;241m4\u001b[39m,\u001b[38;5;241m1\u001b[39m,\u001b[38;5;241m1\u001b[39m])\n",
      "Input \u001b[1;32mIn [2]\u001b[0m, in \u001b[0;36mX13ARIMA\u001b[1;34m(serie, show)\u001b[0m\n\u001b[0;32m      7\u001b[0m \u001b[38;5;28;01mdef\u001b[39;00m \u001b[38;5;21mX13ARIMA\u001b[39m(serie, show\u001b[38;5;241m=\u001b[39m\u001b[38;5;28;01mFalse\u001b[39;00m):\n\u001b[1;32m----> 9\u001b[0m     res \u001b[38;5;241m=\u001b[39m \u001b[43mx13_arima_analysis\u001b[49m\u001b[43m(\u001b[49m\u001b[43mserie\u001b[49m\u001b[43m,\u001b[49m\u001b[43m \u001b[49m\u001b[43mx12path\u001b[49m\u001b[38;5;241;43m=\u001b[39;49m\u001b[43mx13path\u001b[49m\u001b[43m,\u001b[49m\u001b[43m \u001b[49m\u001b[43mlog\u001b[49m\u001b[38;5;241;43m=\u001b[39;49m\u001b[38;5;28;43;01mFalse\u001b[39;49;00m\u001b[43m)\u001b[49m\n\u001b[0;32m     10\u001b[0m     \u001b[38;5;28;01mif\u001b[39;00m show:\n\u001b[0;32m     11\u001b[0m         \u001b[38;5;28mprint\u001b[39m(res\u001b[38;5;241m.\u001b[39mresults)\n",
      "File \u001b[1;32mC:\\ProgramData\\Anaconda3\\envs\\libro-ec4301\\lib\\site-packages\\pandas\\util\\_decorators.py:207\u001b[0m, in \u001b[0;36mdeprecate_kwarg.<locals>._deprecate_kwarg.<locals>.wrapper\u001b[1;34m(*args, **kwargs)\u001b[0m\n\u001b[0;32m    205\u001b[0m     \u001b[38;5;28;01melse\u001b[39;00m:\n\u001b[0;32m    206\u001b[0m         kwargs[new_arg_name] \u001b[38;5;241m=\u001b[39m new_arg_value\n\u001b[1;32m--> 207\u001b[0m \u001b[38;5;28;01mreturn\u001b[39;00m func(\u001b[38;5;241m*\u001b[39margs, \u001b[38;5;241m*\u001b[39m\u001b[38;5;241m*\u001b[39mkwargs)\n",
      "File \u001b[1;32mC:\\ProgramData\\Anaconda3\\envs\\libro-ec4301\\lib\\site-packages\\statsmodels\\tsa\\x13.py:478\u001b[0m, in \u001b[0;36mx13_arima_analysis\u001b[1;34m(endog, maxorder, maxdiff, diff, exog, log, outlier, trading, forecast_periods, retspec, speconly, start, freq, print_stdout, x12path, prefer_x13)\u001b[0m\n\u001b[0;32m    371\u001b[0m \u001b[38;5;129m@deprecate_kwarg\u001b[39m(\u001b[38;5;124m\"\u001b[39m\u001b[38;5;124mforecast_years\u001b[39m\u001b[38;5;124m\"\u001b[39m, \u001b[38;5;124m\"\u001b[39m\u001b[38;5;124mforecast_periods\u001b[39m\u001b[38;5;124m\"\u001b[39m)\n\u001b[0;32m    372\u001b[0m \u001b[38;5;28;01mdef\u001b[39;00m \u001b[38;5;21mx13_arima_analysis\u001b[39m(\n\u001b[0;32m    373\u001b[0m     endog,\n\u001b[1;32m   (...)\u001b[0m\n\u001b[0;32m    388\u001b[0m     prefer_x13\u001b[38;5;241m=\u001b[39m\u001b[38;5;28;01mTrue\u001b[39;00m,\n\u001b[0;32m    389\u001b[0m ):\n\u001b[0;32m    390\u001b[0m     \u001b[38;5;124;03m\"\"\"\u001b[39;00m\n\u001b[0;32m    391\u001b[0m \u001b[38;5;124;03m    Perform x13-arima analysis for monthly or quarterly data.\u001b[39;00m\n\u001b[0;32m    392\u001b[0m \n\u001b[1;32m   (...)\u001b[0m\n\u001b[0;32m    476\u001b[0m \u001b[38;5;124;03m    back in.\u001b[39;00m\n\u001b[0;32m    477\u001b[0m \u001b[38;5;124;03m    \"\"\"\u001b[39;00m\n\u001b[1;32m--> 478\u001b[0m     x12path \u001b[38;5;241m=\u001b[39m \u001b[43m_check_x12\u001b[49m\u001b[43m(\u001b[49m\u001b[43mx12path\u001b[49m\u001b[43m)\u001b[49m\n\u001b[0;32m    480\u001b[0m     \u001b[38;5;28;01mif\u001b[39;00m \u001b[38;5;129;01mnot\u001b[39;00m \u001b[38;5;28misinstance\u001b[39m(endog, (pd\u001b[38;5;241m.\u001b[39mDataFrame, pd\u001b[38;5;241m.\u001b[39mSeries)):\n\u001b[0;32m    481\u001b[0m         \u001b[38;5;28;01mif\u001b[39;00m start \u001b[38;5;129;01mis\u001b[39;00m \u001b[38;5;28;01mNone\u001b[39;00m \u001b[38;5;129;01mor\u001b[39;00m freq \u001b[38;5;129;01mis\u001b[39;00m \u001b[38;5;28;01mNone\u001b[39;00m:\n",
      "File \u001b[1;32mC:\\ProgramData\\Anaconda3\\envs\\libro-ec4301\\lib\\site-packages\\statsmodels\\tsa\\x13.py:97\u001b[0m, in \u001b[0;36m_check_x12\u001b[1;34m(x12path)\u001b[0m\n\u001b[0;32m     95\u001b[0m x12path \u001b[38;5;241m=\u001b[39m _find_x12(x12path)\n\u001b[0;32m     96\u001b[0m \u001b[38;5;28;01mif\u001b[39;00m \u001b[38;5;129;01mnot\u001b[39;00m x12path:\n\u001b[1;32m---> 97\u001b[0m     \u001b[38;5;28;01mraise\u001b[39;00m X13NotFoundError(\n\u001b[0;32m     98\u001b[0m         \u001b[38;5;124m\"\u001b[39m\u001b[38;5;124mx12a and x13as not found on path. Give the \u001b[39m\u001b[38;5;124m\"\u001b[39m\n\u001b[0;32m     99\u001b[0m         \u001b[38;5;124m\"\u001b[39m\u001b[38;5;124mpath, put them on PATH, or set the \u001b[39m\u001b[38;5;124m\"\u001b[39m\n\u001b[0;32m    100\u001b[0m         \u001b[38;5;124m\"\u001b[39m\u001b[38;5;124mX12PATH or X13PATH environmental variable.\u001b[39m\u001b[38;5;124m\"\u001b[39m\n\u001b[0;32m    101\u001b[0m     )\n\u001b[0;32m    102\u001b[0m \u001b[38;5;28;01mreturn\u001b[39;00m x12path\n",
      "\u001b[1;31mX13NotFoundError\u001b[0m: x12a and x13as not found on path. Give the path, put them on PATH, or set the X12PATH or X13PATH environmental variable."
     ]
    }
   ],
   "source": [
    "# read data from previous example\n",
    "sjodatos =pd.read_pickle(\"../../data/SJO-pasajeros.pickle\")\n",
    "\n",
    "extranjeros = pd.DataFrame(np.log(sjodatos['extranjeros'].values),\n",
    "                      index=pd.period_range('2011-01', '2019-12', freq='M'))\n",
    "\n",
    "def X13ARIMA(serie, show=False):\n",
    "\n",
    "    res = x13_arima_analysis(serie, x12path=x13path, log=False)\n",
    "    if show:\n",
    "        print(res.results)\n",
    "    temp = pd.concat([res.__getattribute__(componente) for componente in ['observed','seasadj','trend','irregular']], axis=1)\n",
    "    temp.columns = ['Serie original','Serie ajustada por estacionalidad','Serie tendencia ciclo','Componente irregular']\n",
    "    return temp\n",
    "\n",
    "componentes = X13ARIMA(extranjeros, False)\n",
    "\n",
    "\n",
    "fig = plt.figure(figsize=[12,8])\n",
    "gs = plt.GridSpec(3,1,figure=fig, height_ratios=[4,1,1])\n",
    "ax0 = fig.add_subplot(gs[0])\n",
    "np.exp(componentes.iloc[:,:3]).plot(ax=ax0)\n",
    "\n",
    "ax1 = fig.add_subplot(gs[1],sharex=ax0)\n",
    "sfact = componentes['Serie original'] - componentes['Serie ajustada por estacionalidad']\n",
    "np.exp(sfact).plot(ax=ax1)\n",
    "\n",
    "\n",
    "ax2 = fig.add_subplot(gs[2],sharex=ax0, sharey=ax1)\n",
    "np.exp(componentes['Componente irregular']).plot(ax=ax2)\n",
    "\n",
    "ax0.set(title='Series original, ajustada por estacionalidad, y tendencia-ciclo')\n",
    "ax1.set(title='Factor estacional')\n",
    "ax2.set(title='Componente irregular')\n",
    "fig.suptitle('Descomposición multiplicativa de la serie de pasajeros extranjeros en SJO, X13as', size=18);"
   ]
  },
  {
   "cell_type": "code",
   "execution_count": null,
   "id": "d09d0769",
   "metadata": {
    "tags": [
     "hide-input"
    ]
   },
   "outputs": [],
   "source": [
    "mesescorto = ['Ene', 'Feb', 'Mar', 'Abr', 'May', 'Jun',\n",
    "         'Jul', 'Ago', 'Set', 'Oct', 'Nov', 'Dic']\n",
    "\n",
    "\n",
    "factores2019 = np.exp(sfact['2019':'2019'])\n",
    "etiq = [f'{ff:.2f}' for ff in factores2019]\n",
    "fig, ax = plt.subplots(figsize=[12,4])\n",
    "\n",
    "ax.bar(mesescorto, factores2019-1)\n",
    "ax.set(yticks=np.array([0.6,0.8,1.0,1.2,1.4])-1,\n",
    "       yticklabels = ['0.6','0.8','1.0','1.2','1.4'],\n",
    "       ylim=[-0.45,0.45])\n",
    "\n",
    "ax.grid(False)\n",
    "ax.axhline(0, color='red')\n",
    "\n",
    "for mes, ff, tx in zip(range(12), factores2019.values, etiq):\n",
    "    offs = -1.025 if ff<1 else -0.975\n",
    "    ax.annotate(tx, (mes,ff+offs),ha='center', va='center')\n",
    "\n",
    "ax.set(title='Factores estacionales de 2019');"
   ]
  },
  {
   "cell_type": "markdown",
   "id": "71cff23f",
   "metadata": {},
   "source": [
    "- La temporada “alta” ocurre entre enero y abril.\n",
    "- En marzo, el tráfico de pasajeros es 40% mayor que el valor de tendencia-ciclo.\n",
    "- La temporada “baja” es entre septiembre y noviembre.\n",
    "- En octubre, el tráfico de pasajeros es 33% menor que el valor de tendencia-ciclo."
   ]
  },
  {
   "cell_type": "code",
   "execution_count": null,
   "id": "c7b12f08",
   "metadata": {
    "tags": [
     "hide-input"
    ]
   },
   "outputs": [],
   "source": [
    "fig, axs = plt.subplots(3,1,figsize=[12,9], sharex=True)\n",
    "\n",
    "(100 * componentes[['Serie original','Serie tendencia ciclo']].diff(12)).plot(ax=axs[0])\n",
    "\n",
    "(100 * componentes[['Serie original','Serie tendencia ciclo']].diff()).plot(ax=axs[1])\n",
    "\n",
    "(100*((componentes[['Serie tendencia ciclo']].diff())*12)).plot(ax=axs[2])\n",
    "(100 * componentes[['Serie tendencia ciclo']].diff(12)).plot(ax=axs[2])\n",
    "\n",
    "\n",
    "axs[0].set(title='Tasa de crecimiento interanual')\n",
    "axs[1].set(title='Tasa de crecimiento mensual')\n",
    "axs[2].set(title='Tasa de crecimiento de la serie tendencia-ciclo')\n",
    "axs[2].legend(['Mensual, anualizada', 'Interanual'])\n",
    "\n",
    "for ax in axs:\n",
    "    ax.grid(False)"
   ]
  },
  {
   "cell_type": "markdown",
   "id": "cc440457",
   "metadata": {},
   "source": [
    "La tasa de crecimiento interanual no tiene el ruido que presenta la tasa de crecimiento interanual de la serie original.\n",
    "\n",
    "Dado el fuerte componente estacional, la tasa de crecimiento mensual de la serie original es un pobre indicador del estado de la actividad.\n",
    "Al realizar cálculos con la serie tendencia ciclo encontramos:\n",
    "\n",
    "- la tasa de crecimiento interanual es de magnitud similar a la tasa de crecimiento mensual anualizada.\n",
    "- la tasa interanual presenta un desfase respecto a la mensual anualizada.\n",
    "este desfase se debe a que la interanual es una media móvil de la mensual y sus últimos 11 rezagos.\n",
    "{{ termina_ejemplo }}"
   ]
  }
 ],
 "metadata": {
  "jupytext": {
   "formats": "md:myst",
   "text_representation": {
    "extension": ".md",
    "format_name": "myst"
   }
  },
  "kernelspec": {
   "display_name": "Python 3",
   "language": "python",
   "name": "python3"
  },
  "language_info": {
   "codemirror_mode": {
    "name": "ipython",
    "version": 3
   },
   "file_extension": ".py",
   "mimetype": "text/x-python",
   "name": "python",
   "nbconvert_exporter": "python",
   "pygments_lexer": "ipython3",
   "version": "3.9.13"
  },
  "source_map": [
   17,
   23,
   33,
   167,
   209,
   232,
   241,
   261
  ],
  "substitutions": {
   "empieza_ejemplo": "<div class=\"ejemplo\">\n<div class=\"ejemplo-titulo\"><b>Ejemplo: &nbsp;\n",
   "fin_titulo_ejemplo": "</b></div>",
   "termina_ejemplo": "</div>"
  }
 },
 "nbformat": 4,
 "nbformat_minor": 5
}