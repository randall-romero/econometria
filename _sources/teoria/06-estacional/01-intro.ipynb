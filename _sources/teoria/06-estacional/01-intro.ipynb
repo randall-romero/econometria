{
 "cells": [
  {
   "cell_type": "code",
   "execution_count": null,
   "id": "049f9d29",
   "metadata": {
    "tags": [
     "hide-input"
    ]
   },
   "outputs": [],
   "source": [
    "import numpy as np\n",
    "import pandas as pd\n",
    "import matplotlib.pyplot as plt\n",
    "plt.style.use('seaborn-talk')"
   ]
  },
  {
   "cell_type": "markdown",
   "id": "b33100d5",
   "metadata": {},
   "source": [
    "# Introducción\n",
    "\n",
    "## Series con estacionalidad\n",
    "\n",
    "En una serie de tiempo, **estacionalidad** es un patrón regular de cambios que se repite cada $s$ períodos.\n",
    "\n",
    "Por ejemplo, una serie mensual es estacional si valores altos tienden a ocurrir en meses particulares y los valores bajos tienen a ocurrir en otros meses particulares. En este caso $s=12$. Para series trimestrales estacionales, $s=4$.\n",
    "\n",
    "El primer paso para detectar si una serie es estacional es simplemente graficarla.\n",
    "\n",
    "```{warning}\n",
    "¡Estacionalidad no es lo mismo que estacionariedad!\n",
    "```\n",
    "\n",
    "\n",
    "{{ empieza_ejemplo }} Pasajeros del aeropuerto Juan Santamaría{{ fin_titulo_ejemplo }}\n",
    "- Datos-ARESEP-Pasajeros-por-aeropuerto.xlsx"
   ]
  },
  {
   "cell_type": "code",
   "execution_count": null,
   "id": "43f689d4",
   "metadata": {
    "tags": [
     "hide-input"
    ]
   },
   "outputs": [],
   "source": [
    "meses = ['Enero', 'Febrero', 'Marzo', 'Abril', 'Mayo', 'Junio',\n",
    "         'Julio', 'Agosto', 'Setiembre', 'Octubre', 'Noviembre', 'Diciembre']\n",
    "mesescorto = [x[:3] for x in meses]\n",
    "meses2 = {mes: i for i, mes in enumerate(meses, start=1)}\n",
    "\n",
    "# Leer y limpiar datos\n",
    "FILENAME = \"datos/Datos-ARESEP-Pasajeros-por-aeropuerto.csv\"\n",
    "SJO = pd.read_csv(FILENAME)\n",
    "SJO.query('Aeropuerto ==\"Aeropuerto Internacional Juan Santamaría\"', inplace=True)\n",
    "SJO.replace(meses2, None,inplace=True)\n",
    "SJO.sort_values(['Año','Mes'], inplace=True)\n",
    "SJO.index = pd.period_range(start=f\"{SJO['Año'].iloc[0]}-{SJO['Mes'].iloc[0]}\", periods=SJO.shape[0], freq='M')\n",
    "SJO.drop(['Aeropuerto', 'Mes', 'Año', 'Cantidad En Tránsito', 'Cantidad Exentos','Total Pasajeros'], axis=1,inplace=True)\n",
    "SJO.rename(columns={'Cantidad Nacionales':'nacionales', 'Cantidad Extrajeros':'extranjeros'}, inplace=True)\n",
    "\n",
    "\n",
    "# Gráficos de estacionalidad\n",
    "sjodatos = SJO/1000\n",
    "\n",
    "fig, ax = plt.subplots(figsize=[12,5])\n",
    "sjodatos.plot(ax=ax)\n",
    "ax.set(xlabel='',\n",
    "       ylabel='miles de pasajeros',\n",
    "       title='Cantidad de pasajeros del aeropuerto Juan Santamaría, por mes y residencia');"
   ]
  },
  {
   "cell_type": "markdown",
   "id": "4821ca48",
   "metadata": {},
   "source": [
    "Un gráfico estacional es similar a un gráfico de tiempo, excepto que los datos se mapean contra la “estación” en la cual se observan.\n",
    "\n",
    "Permiten percibir el patrón estacional subyacente más claramente.\n",
    "Es especialmente útil para identificar años en que cambian los patrones."
   ]
  },
  {
   "cell_type": "code",
   "execution_count": null,
   "id": "fb68534d",
   "metadata": {
    "tags": [
     "hide-input"
    ]
   },
   "outputs": [],
   "source": [
    "sjodatos.index = pd.MultiIndex.from_arrays([sjodatos.index.year, sjodatos.index.month])\n",
    "sjodatoscuadro = sjodatos.unstack()\n",
    "\n",
    "\n",
    "# Guardar datos filtrados para próximos cuadernos\n",
    "sjodatos.to_pickle(\"datos/SJO-pasajeros.pickle\")\n",
    "\n",
    "\n",
    "fig, axs= plt.subplots(1,2, figsize=[12,5], sharex=True)\n",
    "\n",
    "sjodatoscuadro['nacionales'].T.plot(ax=axs[0], cmap = 'Blues', marker='o', legend=False);\n",
    "sjodatoscuadro['extranjeros'].T.plot(ax=axs[1], cmap = 'Blues', marker='o', legend=False);\n",
    "\n",
    "\n",
    "for ax,tlt in zip(axs, ['Nacionales', 'Extranjeros']):\n",
    "    ax.set(xlabel='',\n",
    "           xticks=[3,6,9,12],\n",
    "           xticklabels = mesescorto[2::3],\n",
    "           xlim=[0.5,13.25],\n",
    "           ylabel='miles de pasajeros')\n",
    "    ax.grid(False, axis='y')\n",
    "    ax.set_title(tlt, size=14)\n",
    "    colores = [aa.get_color() for aa in ax.lines]\n",
    "    for (a,v), cc in zip(sjodatoscuadro[tlt.lower()].T.loc[12].iteritems(), colores):\n",
    "        ax.annotate(str(a), [12, v], color=cc)"
   ]
  },
  {
   "cell_type": "markdown",
   "id": "f898c8f6",
   "metadata": {},
   "source": [
    "La temporada “alta” de viajes de extranjeros ocurre entre enero y abril, mientras que la “baja” sucede en septiembre-octubre.\n",
    "\n",
    "La temporada “alta” de viajes de nacionales es en diciembre y enero, la baja en “febrero”."
   ]
  },
  {
   "cell_type": "code",
   "execution_count": null,
   "id": "b44c0870",
   "metadata": {
    "tags": [
     "hide-input"
    ]
   },
   "outputs": [],
   "source": [
    "promediomensual = sjodatoscuadro.mean().unstack().T\n",
    "\n",
    "plt.style.use('seaborn')\n",
    "fig, axs= plt.subplots(2,12, figsize=[12,5], sharex=True, sharey='row')\n",
    "\n",
    "sjodatoscuadro['nacionales'].plot(subplots=True, ax=axs[0],legend=False);\n",
    "for ax, (mes, mean) in zip(axs[0], promediomensual['nacionales'].iteritems()):\n",
    "    ax.set_title(mesescorto[mes-1])\n",
    "    color = ax.lines[0].get_color()\n",
    "    ax.axhline(mean, color=color, ls=':')\n",
    "    ax.grid(False)\n",
    "\n",
    "\n",
    "sjodatoscuadro['extranjeros'].plot(subplots=True, ax=axs[1],legend=False);\n",
    "for ax, (mes, mean) in zip(axs[1], promediomensual['extranjeros'].iteritems()):\n",
    "    color = ax.lines[0].get_color()\n",
    "    ax.axhline(mean, color=color, ls=':')\n",
    "    ax.grid(False)    \n",
    "    ax.set_xlabel('')\n",
    "\n",
    "axs[0,0].set_xticks([2010,2014,2018])\n",
    "axs[0,0].set_xticklabels(['10','14','18'])\n",
    "\n",
    "\n",
    "axs[0,0].set_ylabel('nacionales', size=14)\n",
    "axs[1,0].set_ylabel('extranjeros', size=14)\n",
    "\n",
    "fig.suptitle('Miles de pasajeros del aeropuerto Juan Santamaría, por mes y residencia', size=16);"
   ]
  },
  {
   "cell_type": "markdown",
   "id": "437d0468",
   "metadata": {},
   "source": [
    "{{ termina_ejemplo }}"
   ]
  }
 ],
 "metadata": {
  "jupytext": {
   "formats": "md:myst",
   "text_representation": {
    "extension": ".md",
    "format_name": "myst"
   }
  },
  "kernelspec": {
   "display_name": "Python 3",
   "language": "python",
   "name": "python3"
  },
  "source_map": [
   19,
   25,
   47,
   73,
   85,
   113,
   118,
   148
  ],
  "substitutions": {
   "empieza_ejemplo": "<div class=\"ejemplo\">\n<div class=\"ejemplo-titulo\"><b>Ejemplo: &nbsp;\n",
   "fin_titulo_ejemplo": "</b></div>",
   "termina_ejemplo": "</div>"
  }
 },
 "nbformat": 4,
 "nbformat_minor": 5
}