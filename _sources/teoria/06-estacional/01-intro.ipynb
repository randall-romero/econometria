{
 "cells": [
  {
   "cell_type": "code",
   "execution_count": 1,
   "id": "c21c74fe",
   "metadata": {
    "tags": [
     "hide-input"
    ]
   },
   "outputs": [],
   "source": [
    "import numpy as np\n",
    "import pandas as pd\n",
    "import matplotlib.pyplot as plt\n",
    "plt.style.use('seaborn-talk')"
   ]
  },
  {
   "cell_type": "markdown",
   "id": "4c1ae014",
   "metadata": {},
   "source": [
    "# Introducción\n",
    "\n",
    "## Series con estacionalidad\n",
    "\n",
    "En una serie de tiempo, **estacionalidad** es un patrón regular de cambios que se repite cada $s$ períodos.\n",
    "\n",
    "Por ejemplo, una serie mensual es estacional si valores altos tienden a ocurrir en meses particulares y los valores bajos tienen a ocurrir en otros meses particulares. En este caso $s=12$. Para series trimestrales estacionales, $s=4$.\n",
    "\n",
    "El primer paso para detectar si una serie es estacional es simplemente graficarla.\n",
    "\n",
    "```{warning}\n",
    "¡Estacionalidad no es lo mismo que estacionariedad!\n",
    "```\n",
    "\n",
    "\n",
    "{{ empieza_ejemplo }} Pasajeros del aeropuerto Juan Santamaría{{ fin_titulo_ejemplo }}\n",
    "- Datos-ARESEP-Pasajeros-por-aeropuerto.xlsx"
   ]
  },
  {
   "cell_type": "code",
   "execution_count": 2,
   "id": "3584a3e3",
   "metadata": {
    "tags": [
     "hide-input"
    ]
   },
   "outputs": [
    {
     "ename": "DateParseError",
     "evalue": "Unknown datetime string format, unable to parse: 2011-ABRIL",
     "output_type": "error",
     "traceback": [
      "\u001b[1;31m---------------------------------------------------------------------------\u001b[0m",
      "\u001b[1;31mValueError\u001b[0m                                Traceback (most recent call last)",
      "File \u001b[1;32mC:\\ProgramData\\Anaconda3\\envs\\libro-ec4301\\lib\\site-packages\\pandas\\_libs\\tslibs\\parsing.pyx:362\u001b[0m, in \u001b[0;36mpandas._libs.tslibs.parsing.parse_datetime_string_with_reso\u001b[1;34m()\u001b[0m\n",
      "File \u001b[1;32mC:\\ProgramData\\Anaconda3\\envs\\libro-ec4301\\lib\\site-packages\\pandas\\_libs\\tslibs\\parsing.pyx:570\u001b[0m, in \u001b[0;36mpandas._libs.tslibs.parsing.dateutil_parse\u001b[1;34m()\u001b[0m\n",
      "\u001b[1;31mValueError\u001b[0m: Unknown datetime string format, unable to parse: 2011-ABRIL",
      "\nDuring handling of the above exception, another exception occurred:\n",
      "\u001b[1;31mDateParseError\u001b[0m                            Traceback (most recent call last)",
      "Input \u001b[1;32mIn [2]\u001b[0m, in \u001b[0;36m<cell line: 12>\u001b[1;34m()\u001b[0m\n\u001b[0;32m     10\u001b[0m SJO\u001b[38;5;241m.\u001b[39mreplace(meses2, \u001b[38;5;28;01mNone\u001b[39;00m,inplace\u001b[38;5;241m=\u001b[39m\u001b[38;5;28;01mTrue\u001b[39;00m)\n\u001b[0;32m     11\u001b[0m SJO\u001b[38;5;241m.\u001b[39msort_values([\u001b[38;5;124m'\u001b[39m\u001b[38;5;124mAño\u001b[39m\u001b[38;5;124m'\u001b[39m,\u001b[38;5;124m'\u001b[39m\u001b[38;5;124mMes\u001b[39m\u001b[38;5;124m'\u001b[39m], inplace\u001b[38;5;241m=\u001b[39m\u001b[38;5;28;01mTrue\u001b[39;00m)\n\u001b[1;32m---> 12\u001b[0m SJO\u001b[38;5;241m.\u001b[39mindex \u001b[38;5;241m=\u001b[39m \u001b[43mpd\u001b[49m\u001b[38;5;241;43m.\u001b[39;49m\u001b[43mperiod_range\u001b[49m\u001b[43m(\u001b[49m\u001b[43mstart\u001b[49m\u001b[38;5;241;43m=\u001b[39;49m\u001b[38;5;124;43mf\u001b[39;49m\u001b[38;5;124;43m\"\u001b[39;49m\u001b[38;5;132;43;01m{\u001b[39;49;00m\u001b[43mSJO\u001b[49m\u001b[43m[\u001b[49m\u001b[38;5;124;43m'\u001b[39;49m\u001b[38;5;124;43mAño\u001b[39;49m\u001b[38;5;124;43m'\u001b[39;49m\u001b[43m]\u001b[49m\u001b[38;5;241;43m.\u001b[39;49m\u001b[43miloc\u001b[49m\u001b[43m[\u001b[49m\u001b[38;5;241;43m0\u001b[39;49m\u001b[43m]\u001b[49m\u001b[38;5;132;43;01m}\u001b[39;49;00m\u001b[38;5;124;43m-\u001b[39;49m\u001b[38;5;132;43;01m{\u001b[39;49;00m\u001b[43mSJO\u001b[49m\u001b[43m[\u001b[49m\u001b[38;5;124;43m'\u001b[39;49m\u001b[38;5;124;43mMes\u001b[39;49m\u001b[38;5;124;43m'\u001b[39;49m\u001b[43m]\u001b[49m\u001b[38;5;241;43m.\u001b[39;49m\u001b[43miloc\u001b[49m\u001b[43m[\u001b[49m\u001b[38;5;241;43m0\u001b[39;49m\u001b[43m]\u001b[49m\u001b[38;5;132;43;01m}\u001b[39;49;00m\u001b[38;5;124;43m\"\u001b[39;49m\u001b[43m,\u001b[49m\u001b[43m \u001b[49m\u001b[43mperiods\u001b[49m\u001b[38;5;241;43m=\u001b[39;49m\u001b[43mSJO\u001b[49m\u001b[38;5;241;43m.\u001b[39;49m\u001b[43mshape\u001b[49m\u001b[43m[\u001b[49m\u001b[38;5;241;43m0\u001b[39;49m\u001b[43m]\u001b[49m\u001b[43m,\u001b[49m\u001b[43m \u001b[49m\u001b[43mfreq\u001b[49m\u001b[38;5;241;43m=\u001b[39;49m\u001b[38;5;124;43m'\u001b[39;49m\u001b[38;5;124;43mM\u001b[39;49m\u001b[38;5;124;43m'\u001b[39;49m\u001b[43m)\u001b[49m\n\u001b[0;32m     13\u001b[0m SJO\u001b[38;5;241m.\u001b[39mdrop([\u001b[38;5;124m'\u001b[39m\u001b[38;5;124mAeropuerto\u001b[39m\u001b[38;5;124m'\u001b[39m, \u001b[38;5;124m'\u001b[39m\u001b[38;5;124mMes\u001b[39m\u001b[38;5;124m'\u001b[39m, \u001b[38;5;124m'\u001b[39m\u001b[38;5;124mAño\u001b[39m\u001b[38;5;124m'\u001b[39m, \u001b[38;5;124m'\u001b[39m\u001b[38;5;124mCantidad En Tránsito\u001b[39m\u001b[38;5;124m'\u001b[39m, \u001b[38;5;124m'\u001b[39m\u001b[38;5;124mCantidad Exentos\u001b[39m\u001b[38;5;124m'\u001b[39m,\u001b[38;5;124m'\u001b[39m\u001b[38;5;124mTotal Pasajeros\u001b[39m\u001b[38;5;124m'\u001b[39m], axis\u001b[38;5;241m=\u001b[39m\u001b[38;5;241m1\u001b[39m,inplace\u001b[38;5;241m=\u001b[39m\u001b[38;5;28;01mTrue\u001b[39;00m)\n\u001b[0;32m     14\u001b[0m SJO\u001b[38;5;241m.\u001b[39mrename(columns\u001b[38;5;241m=\u001b[39m{\u001b[38;5;124m'\u001b[39m\u001b[38;5;124mCantidad Nacionales\u001b[39m\u001b[38;5;124m'\u001b[39m:\u001b[38;5;124m'\u001b[39m\u001b[38;5;124mnacionales\u001b[39m\u001b[38;5;124m'\u001b[39m, \u001b[38;5;124m'\u001b[39m\u001b[38;5;124mCantidad Extrajeros\u001b[39m\u001b[38;5;124m'\u001b[39m:\u001b[38;5;124m'\u001b[39m\u001b[38;5;124mextranjeros\u001b[39m\u001b[38;5;124m'\u001b[39m}, inplace\u001b[38;5;241m=\u001b[39m\u001b[38;5;28;01mTrue\u001b[39;00m)\n",
      "File \u001b[1;32mC:\\ProgramData\\Anaconda3\\envs\\libro-ec4301\\lib\\site-packages\\pandas\\core\\indexes\\period.py:562\u001b[0m, in \u001b[0;36mperiod_range\u001b[1;34m(start, end, periods, freq, name)\u001b[0m\n\u001b[0;32m    559\u001b[0m \u001b[38;5;28;01mif\u001b[39;00m freq \u001b[38;5;129;01mis\u001b[39;00m \u001b[38;5;28;01mNone\u001b[39;00m \u001b[38;5;129;01mand\u001b[39;00m (\u001b[38;5;129;01mnot\u001b[39;00m \u001b[38;5;28misinstance\u001b[39m(start, Period) \u001b[38;5;129;01mand\u001b[39;00m \u001b[38;5;129;01mnot\u001b[39;00m \u001b[38;5;28misinstance\u001b[39m(end, Period)):\n\u001b[0;32m    560\u001b[0m     freq \u001b[38;5;241m=\u001b[39m \u001b[38;5;124m\"\u001b[39m\u001b[38;5;124mD\u001b[39m\u001b[38;5;124m\"\u001b[39m\n\u001b[1;32m--> 562\u001b[0m data, freq \u001b[38;5;241m=\u001b[39m \u001b[43mPeriodArray\u001b[49m\u001b[38;5;241;43m.\u001b[39;49m\u001b[43m_generate_range\u001b[49m\u001b[43m(\u001b[49m\u001b[43mstart\u001b[49m\u001b[43m,\u001b[49m\u001b[43m \u001b[49m\u001b[43mend\u001b[49m\u001b[43m,\u001b[49m\u001b[43m \u001b[49m\u001b[43mperiods\u001b[49m\u001b[43m,\u001b[49m\u001b[43m \u001b[49m\u001b[43mfreq\u001b[49m\u001b[43m,\u001b[49m\u001b[43m \u001b[49m\u001b[43mfields\u001b[49m\u001b[38;5;241;43m=\u001b[39;49m\u001b[43m{\u001b[49m\u001b[43m}\u001b[49m\u001b[43m)\u001b[49m\n\u001b[0;32m    563\u001b[0m data \u001b[38;5;241m=\u001b[39m PeriodArray(data, freq\u001b[38;5;241m=\u001b[39mfreq)\n\u001b[0;32m    564\u001b[0m \u001b[38;5;28;01mreturn\u001b[39;00m PeriodIndex(data, name\u001b[38;5;241m=\u001b[39mname)\n",
      "File \u001b[1;32mC:\\ProgramData\\Anaconda3\\envs\\libro-ec4301\\lib\\site-packages\\pandas\\core\\arrays\\period.py:302\u001b[0m, in \u001b[0;36mPeriodArray._generate_range\u001b[1;34m(cls, start, end, periods, freq, fields)\u001b[0m\n\u001b[0;32m    298\u001b[0m     \u001b[38;5;28;01mif\u001b[39;00m field_count \u001b[38;5;241m>\u001b[39m \u001b[38;5;241m0\u001b[39m:\n\u001b[0;32m    299\u001b[0m         \u001b[38;5;28;01mraise\u001b[39;00m \u001b[38;5;167;01mValueError\u001b[39;00m(\n\u001b[0;32m    300\u001b[0m             \u001b[38;5;124m\"\u001b[39m\u001b[38;5;124mCan either instantiate from fields or endpoints, but not both\u001b[39m\u001b[38;5;124m\"\u001b[39m\n\u001b[0;32m    301\u001b[0m         )\n\u001b[1;32m--> 302\u001b[0m     subarr, freq \u001b[38;5;241m=\u001b[39m \u001b[43m_get_ordinal_range\u001b[49m\u001b[43m(\u001b[49m\u001b[43mstart\u001b[49m\u001b[43m,\u001b[49m\u001b[43m \u001b[49m\u001b[43mend\u001b[49m\u001b[43m,\u001b[49m\u001b[43m \u001b[49m\u001b[43mperiods\u001b[49m\u001b[43m,\u001b[49m\u001b[43m \u001b[49m\u001b[43mfreq\u001b[49m\u001b[43m)\u001b[49m\n\u001b[0;32m    303\u001b[0m \u001b[38;5;28;01melif\u001b[39;00m field_count \u001b[38;5;241m>\u001b[39m \u001b[38;5;241m0\u001b[39m:\n\u001b[0;32m    304\u001b[0m     subarr, freq \u001b[38;5;241m=\u001b[39m _range_from_fields(freq\u001b[38;5;241m=\u001b[39mfreq, \u001b[38;5;241m*\u001b[39m\u001b[38;5;241m*\u001b[39mfields)\n",
      "File \u001b[1;32mC:\\ProgramData\\Anaconda3\\envs\\libro-ec4301\\lib\\site-packages\\pandas\\core\\arrays\\period.py:1135\u001b[0m, in \u001b[0;36m_get_ordinal_range\u001b[1;34m(start, end, periods, freq, mult)\u001b[0m\n\u001b[0;32m   1132\u001b[0m     mult \u001b[38;5;241m=\u001b[39m freq\u001b[38;5;241m.\u001b[39mn\n\u001b[0;32m   1134\u001b[0m \u001b[38;5;28;01mif\u001b[39;00m start \u001b[38;5;129;01mis\u001b[39;00m \u001b[38;5;129;01mnot\u001b[39;00m \u001b[38;5;28;01mNone\u001b[39;00m:\n\u001b[1;32m-> 1135\u001b[0m     start \u001b[38;5;241m=\u001b[39m \u001b[43mPeriod\u001b[49m\u001b[43m(\u001b[49m\u001b[43mstart\u001b[49m\u001b[43m,\u001b[49m\u001b[43m \u001b[49m\u001b[43mfreq\u001b[49m\u001b[43m)\u001b[49m\n\u001b[0;32m   1136\u001b[0m \u001b[38;5;28;01mif\u001b[39;00m end \u001b[38;5;129;01mis\u001b[39;00m \u001b[38;5;129;01mnot\u001b[39;00m \u001b[38;5;28;01mNone\u001b[39;00m:\n\u001b[0;32m   1137\u001b[0m     end \u001b[38;5;241m=\u001b[39m Period(end, freq)\n",
      "File \u001b[1;32mC:\\ProgramData\\Anaconda3\\envs\\libro-ec4301\\lib\\site-packages\\pandas\\_libs\\tslibs\\period.pyx:2553\u001b[0m, in \u001b[0;36mpandas._libs.tslibs.period.Period.__new__\u001b[1;34m()\u001b[0m\n",
      "File \u001b[1;32mC:\\ProgramData\\Anaconda3\\envs\\libro-ec4301\\lib\\site-packages\\pandas\\_libs\\tslibs\\parsing.pyx:321\u001b[0m, in \u001b[0;36mpandas._libs.tslibs.parsing.parse_time_string\u001b[1;34m()\u001b[0m\n",
      "File \u001b[1;32mC:\\ProgramData\\Anaconda3\\envs\\libro-ec4301\\lib\\site-packages\\pandas\\_libs\\tslibs\\parsing.pyx:367\u001b[0m, in \u001b[0;36mpandas._libs.tslibs.parsing.parse_datetime_string_with_reso\u001b[1;34m()\u001b[0m\n",
      "\u001b[1;31mDateParseError\u001b[0m: Unknown datetime string format, unable to parse: 2011-ABRIL"
     ]
    }
   ],
   "source": [
    "meses = ['Enero', 'Febrero', 'Marzo', 'Abril', 'Mayo', 'Junio',\n",
    "         'Julio', 'Agosto', 'Setiembre', 'Octubre', 'Noviembre', 'Diciembre']\n",
    "mesescorto = [x[:3] for x in meses]\n",
    "meses2 = {mes: i for i, mes in enumerate(meses, start=1)}\n",
    "\n",
    "# Leer y limpiar datos\n",
    "FILENAME = \"../../data//Datos-ARESEP-Pasajeros-por-aeropuerto.csv\"\n",
    "SJO = pd.read_csv(FILENAME)\n",
    "SJO.query('Aeropuerto ==\"Aeropuerto Internacional Juan Santamaría\"', inplace=True)\n",
    "SJO.replace(meses2, None,inplace=True)\n",
    "SJO.sort_values(['Año','Mes'], inplace=True)\n",
    "SJO.index = pd.period_range(start=f\"{SJO['Año'].iloc[0]}-{SJO['Mes'].iloc[0]}\", periods=SJO.shape[0], freq='M')\n",
    "SJO.drop(['Aeropuerto', 'Mes', 'Año', 'Cantidad En Tránsito', 'Cantidad Exentos','Total Pasajeros'], axis=1,inplace=True)\n",
    "SJO.rename(columns={'Cantidad Nacionales':'nacionales', 'Cantidad Extrajeros':'extranjeros'}, inplace=True)\n",
    "\n",
    "\n",
    "# Gráficos de estacionalidad\n",
    "sjodatos = SJO/1000\n",
    "\n",
    "fig, ax = plt.subplots(figsize=[12,5])\n",
    "sjodatos.plot(ax=ax)\n",
    "ax.set(xlabel='',\n",
    "       ylabel='miles de pasajeros',\n",
    "       title='Cantidad de pasajeros del aeropuerto Juan Santamaría, por mes y residencia');"
   ]
  },
  {
   "cell_type": "markdown",
   "id": "bc2e49af",
   "metadata": {},
   "source": [
    "Un gráfico estacional es similar a un gráfico de tiempo, excepto que los datos se mapean contra la “estación” en la cual se observan.\n",
    "\n",
    "Permiten percibir el patrón estacional subyacente más claramente.\n",
    "Es especialmente útil para identificar años en que cambian los patrones."
   ]
  },
  {
   "cell_type": "code",
   "execution_count": null,
   "id": "0230e4cb",
   "metadata": {
    "tags": [
     "hide-input"
    ]
   },
   "outputs": [],
   "source": [
    "sjodatos.index = pd.MultiIndex.from_arrays([sjodatos.index.year, sjodatos.index.month])\n",
    "sjodatoscuadro = sjodatos.unstack()\n",
    "\n",
    "\n",
    "# Guardar datos filtrados para próximos cuadernos\n",
    "sjodatos.to_pickle(\"datos/SJO-pasajeros.pickle\")\n",
    "\n",
    "\n",
    "fig, axs= plt.subplots(1,2, figsize=[12,5], sharex=True)\n",
    "\n",
    "sjodatoscuadro['nacionales'].T.plot(ax=axs[0], cmap = 'Blues', marker='o', legend=False);\n",
    "sjodatoscuadro['extranjeros'].T.plot(ax=axs[1], cmap = 'Blues', marker='o', legend=False);\n",
    "\n",
    "\n",
    "for ax,tlt in zip(axs, ['Nacionales', 'Extranjeros']):\n",
    "    ax.set(xlabel='',\n",
    "           xticks=[3,6,9,12],\n",
    "           xticklabels = mesescorto[2::3],\n",
    "           xlim=[0.5,13.25],\n",
    "           ylabel='miles de pasajeros')\n",
    "    ax.grid(False, axis='y')\n",
    "    ax.set_title(tlt, size=14)\n",
    "    colores = [aa.get_color() for aa in ax.lines]\n",
    "    for (a,v), cc in zip(sjodatoscuadro[tlt.lower()].T.loc[12].iteritems(), colores):\n",
    "        ax.annotate(str(a), [12, v], color=cc)"
   ]
  },
  {
   "cell_type": "markdown",
   "id": "60d7cf1a",
   "metadata": {},
   "source": [
    "La temporada “alta” de viajes de extranjeros ocurre entre enero y abril, mientras que la “baja” sucede en septiembre-octubre.\n",
    "\n",
    "La temporada “alta” de viajes de nacionales es en diciembre y enero, la baja en “febrero”."
   ]
  },
  {
   "cell_type": "code",
   "execution_count": null,
   "id": "af1d55a8",
   "metadata": {
    "tags": [
     "hide-input"
    ]
   },
   "outputs": [],
   "source": [
    "promediomensual = sjodatoscuadro.mean().unstack().T\n",
    "\n",
    "plt.style.use('seaborn')\n",
    "fig, axs= plt.subplots(2,12, figsize=[12,5], sharex=True, sharey='row')\n",
    "\n",
    "sjodatoscuadro['nacionales'].plot(subplots=True, ax=axs[0],legend=False);\n",
    "for ax, (mes, mean) in zip(axs[0], promediomensual['nacionales'].iteritems()):\n",
    "    ax.set_title(mesescorto[mes-1])\n",
    "    color = ax.lines[0].get_color()\n",
    "    ax.axhline(mean, color=color, ls=':')\n",
    "    ax.grid(False)\n",
    "\n",
    "\n",
    "sjodatoscuadro['extranjeros'].plot(subplots=True, ax=axs[1],legend=False);\n",
    "for ax, (mes, mean) in zip(axs[1], promediomensual['extranjeros'].iteritems()):\n",
    "    color = ax.lines[0].get_color()\n",
    "    ax.axhline(mean, color=color, ls=':')\n",
    "    ax.grid(False)    \n",
    "    ax.set_xlabel('')\n",
    "\n",
    "axs[0,0].set_xticks([2010,2014,2018])\n",
    "axs[0,0].set_xticklabels(['10','14','18'])\n",
    "\n",
    "\n",
    "axs[0,0].set_ylabel('nacionales', size=14)\n",
    "axs[1,0].set_ylabel('extranjeros', size=14)\n",
    "\n",
    "fig.suptitle('Miles de pasajeros del aeropuerto Juan Santamaría, por mes y residencia', size=16);"
   ]
  },
  {
   "cell_type": "markdown",
   "id": "9ce207f2",
   "metadata": {},
   "source": [
    "{{ termina_ejemplo }}"
   ]
  }
 ],
 "metadata": {
  "jupytext": {
   "formats": "md:myst",
   "text_representation": {
    "extension": ".md",
    "format_name": "myst"
   }
  },
  "kernelspec": {
   "display_name": "Python 3",
   "language": "python",
   "name": "python3"
  },
  "language_info": {
   "codemirror_mode": {
    "name": "ipython",
    "version": 3
   },
   "file_extension": ".py",
   "mimetype": "text/x-python",
   "name": "python",
   "nbconvert_exporter": "python",
   "pygments_lexer": "ipython3",
   "version": "3.9.13"
  },
  "source_map": [
   19,
   25,
   47,
   73,
   85,
   113,
   118,
   148
  ],
  "substitutions": {
   "empieza_ejemplo": "<div class=\"ejemplo\">\n<div class=\"ejemplo-titulo\"><b>Ejemplo: &nbsp;\n",
   "fin_titulo_ejemplo": "</b></div>",
   "termina_ejemplo": "</div>"
  }
 },
 "nbformat": 4,
 "nbformat_minor": 5
}