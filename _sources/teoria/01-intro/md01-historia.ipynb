{
 "cells": [
  {
   "cell_type": "markdown",
   "id": "e792e799",
   "metadata": {},
   "source": [
    "```{include} ../math-definitions.md\n",
    "```\n",
    "\n",
    "# Una breve historia"
   ]
  },
  {
   "cell_type": "code",
   "execution_count": null,
   "id": "3ee1f461",
   "metadata": {
    "tags": [
     "hide-input"
    ]
   },
   "outputs": [],
   "source": [
    "from bccr import SW\n",
    "import numpy as np\n",
    "import pandas as pd\n",
    "import matplotlib.pyplot as plt\n",
    "plt.style.use('seaborn')\n",
    "import seaborn as sns\n",
    "from statsmodels.tsa.seasonal import seasonal_decompose\n",
    "from statsmodels.tsa.filters.hp_filter import hpfilter"
   ]
  },
  {
   "cell_type": "markdown",
   "id": "1f0059dc",
   "metadata": {},
   "source": [
    "## ¿Para qué estudiar series de tiempo?\n",
    "\n",
    "El análisis de series de tiempo ayuda a detectar **regularidades** en las observaciones de una variable y derivar **leyes** a partir de ellas, o bien para explotar toda la información incluida en la variable para **predecir** mejor el futuro.\n",
    "\n",
    "El análisis de series de tiempo ha tenido un papel importante en la ciencia desde la antigüedad.\n",
    "\n",
    "- Por ejemplo, los astrónomos babilonios usaron series de tiempo de las posiciones relativas de las estrellas y planetas para predecir eventos astronómicos.\n",
    "- Kepler descubrió las leyes que llevan su nombre a partir de observaciones de los movimientos de los planetas.\n",
    "\n",
    "## Inicios 1900s ->  Evgenij E. Slutzky y George Udny Yule  \n",
    "\n",
    "A inicios del siglo XX, Slutzky y Yule mostraron que series de tiempo con propiedades similares a series económicas pueden generarse como  sumas o restas (simples o ponderadas) de procesos puramente aleatorios.\n",
    "\n",
    "Desarrollaron los procesos de media móvil y autorregresivos como modelos para representar series de tiempo.\n",
    "\n",
    "\n",
    "## 1919 -> Warren M. Persons  \n",
    "En 1919 Persons propuso la descomposición de una serie de tiempo en componentes no observables que dependen de causas distintas. Los componentes son:\n",
    "\n",
    "* un movimiento de largo plazo, la **tendencia**,\n",
    "* un componente cíclico con períodos de más de un año, el **ciclo económico**,\n",
    "* un componente que contiene los aumentos y disminuciones dentro del año, el ciclo **estacional**,\n",
    "* un componente que contiene todos los movimientos no atribuibles a los demás componentes, el residual o **componente irregular**.\n",
    "\n",
    "\n",
    "::::{grid}\n",
    ":gutter: 2\n",
    "\n",
    ":::{grid-item-card} Aditiva\n",
    "\\begin{equation*}\n",
    "Y_t = T_t + C_t + S_t + I_t\n",
    "\\end{equation*}\n",
    ":::\n",
    "\n",
    ":::{grid-item-card} Multiplicativa\n",
    "\\begin{equation*}\n",
    "Y_t = T_t \\times C_t \\times S_t \\times I_t\n",
    "\\end{equation*}\n",
    ":::\n",
    "\n",
    "::::\n",
    "\n",
    "<div class=\"ejemplo\">\n",
    "<div class=\"ejemplo-titulo\">Ejemplo 1.1: Componentes del IMAE</div>\n",
    "En el siguiente ejemplo vemos los componentes del IMAE de Costa Rica."
   ]
  },
  {
   "cell_type": "code",
   "execution_count": null,
   "id": "9b9c2b6d",
   "metadata": {
    "tags": [
     "hide-cell"
    ]
   },
   "outputs": [],
   "source": [
    "imaes = SW.buscar('IMAE serie original', frecuencia='M', Unidad='Nivel')\n",
    "imaes[imaes.descripcion.str.contains('IMAE')]"
   ]
  },
  {
   "cell_type": "code",
   "execution_count": null,
   "id": "2f43bae5",
   "metadata": {
    "tags": [
     "hide-input"
    ]
   },
   "outputs": [],
   "source": [
    "imae = SW(IMAE=35449)  # descargar el imae\n",
    "imae.plot(figsize=[12,5]);"
   ]
  },
  {
   "cell_type": "markdown",
   "id": "1ef3ff31",
   "metadata": {},
   "source": [
    "Descomposición aditiva y multiplicativa del IMAE de Costa Rica"
   ]
  },
  {
   "cell_type": "code",
   "execution_count": null,
   "id": "35a40f38",
   "metadata": {
    "tags": [
     "hide-input"
    ]
   },
   "outputs": [],
   "source": [
    "componentes = ['Original', 'Tendencia','Ciclo','Estacional','Irregular']\n",
    "\n",
    "res = seasonal_decompose(imae, model='additive', period=12, extrapolate_trend='freq')\n",
    "ciclo, tendencia = hpfilter(res.trend, lamb=14400)\n",
    "additive = pd.concat([res.observed,tendencia, ciclo, res.seasonal, res.resid], axis=1)\n",
    "\n",
    "res = seasonal_decompose(imae, model='multiplicative', period=12, extrapolate_trend='freq')\n",
    "ciclo, tendencia = hpfilter(np.log(res.trend), lamb=14400)\n",
    "multiplicative = pd.concat([res.observed, np.exp(tendencia), np.exp(ciclo), res.seasonal, res.resid], axis=1)\n",
    "\n",
    "descomp = pd.concat([additive, multiplicative], keys=['Aditivo', 'Multiplicativo'])\n",
    "descomp.columns = componentes\n",
    "descomp = descomp.stack().reset_index()\n",
    "descomp.columns = ['Descomposición','Mes','Componente', 'Valor']\n",
    "\n",
    "g = sns.FacetGrid(descomp, row=\"Componente\", col=\"Descomposición\",\n",
    "                  sharey=False, height=3.0, aspect=2.0)\n",
    "g.map_dataframe(plt.plot, \"Mes\", \"Valor\");"
   ]
  },
  {
   "cell_type": "markdown",
   "id": "3c37404c",
   "metadata": {},
   "source": [
    "Esta es una descomposición “ingenua”. Más adelante en el curso estudiaremos métodos más sofisticados.\n",
    "</div>\n",
    "\n",
    "\n",
    "\n",
    "\n",
    "## Enfoques clásico vs moderno de descomposición de series\n",
    "\n",
    "Como los componentes **no son observables**, es necesario hacer supuestos acerca de su naturaleza para estudiar el proceso generador de la serie.\n",
    "\n",
    "\n",
    "::::{grid}\n",
    ":gutter: 2\n",
    "\n",
    ":::{grid-item-card} Enfoque clásico\n",
    "\\begin{equation*}\n",
    "Y_t = \\underbrace{T_t + C_t + S_t}_{\\text{determinísticos}}  + \\underbrace{I_t}_{\\text{estocástico}}\n",
    "\\end{equation*}\n",
    "+++\n",
    "Los componentes sistemáticos son funciones **determinísticas** del tiempo, el componente residual es estocástico pero **no contiene movimientos sistemáticos**.\n",
    ":::\n",
    "\n",
    ":::{grid-item-card} Enfoque moderno\n",
    "\\begin{equation*}\n",
    "Y_t = \\underbrace{T_t + C_t + S_t + I_t}_{\\text{estocásticos}}\n",
    "\\end{equation*}\n",
    "+++\n",
    "La “ley de movimiento” de la serie es vista como un **proceso estocástico**, y los datos de la serie como **una realización** del proceso generador de datos.\n",
    ":::\n",
    "::::\n",
    "\n",
    "\n",
    "\n",
    "## 1930s -> Jan Tinbergen\n",
    "\n",
    "En 1936, Tinbergen construyó el primer modelo econométrico: un modelo macroeconométrico de la economía holandesa, empezando así el desarrollo de la econometría aplicada.\n",
    "\n",
    "En 1939, presentó su metodología para el análisis estadístico de teorías de ciclo económico, así como un modelo macroeconométrico de Estados Unidos.\n",
    "\n",
    "Sus métodos fueron controversiales:\n",
    "\n",
    "> “Nadie podría ser más franco, más meticuloso, más libre de prejuicios subjetivos o partidistas que el profesor Tinbergen. No hay nadie, por lo tanto, en lo que respecta a las cualidades humanas, a quien sería más seguro confiar con magia negra. Todavía no estoy convencido de que haya alguien en quien confiaría en la etapa actual o que esta marca de alquimia estadística está madura para convertirse en una rama de la ciencia. Pero Newton, Boyle y Locke jugaron con la alquimia. Así que déjenle continuar.”\n",
    ">\n",
    "> --- Keynes, 1940 (citado por Boumans2015)\n",
    "\n",
    "## 1938 -> Herman Wold  \n",
    "Wold sistematizó y generalizó el trabajo de Slutzky y Yule.\n",
    "\n",
    "Demostró que para proceso covarianza-estacionario, puramente no-determinístico, existe una descomposición de la serie como combinación lineal de una serie de variables aleatorias no correlacionadas con media cero y varianza constante.\n",
    "\n",
    "## 1949 -> Donald Cochrane y Guy H. Orcutt\n",
    "Tinbergen utilizó los supuestos del modelo clásico de regresión lineal, sin prestar atención a la dependencia cronológica de los residuos.\n",
    "\n",
    "En 1949 Cochrane y Orcutt notaron que esta práctica era problemática.\n",
    "\n",
    "Demostraron que si los residuos de una regresión están positivamente correlacionados, entonces la varianza de los parámetros de regresión está subestimada y los estadísticos t y F sobrestimados.\n",
    "\n",
    "El problema se podía resolver transformando los datos adecuadamente.\n",
    "\n",
    "## 1950 -> James Durbin y Geoffrey S. Watson\n",
    "\n",
    "En 1950/51 Durbin y Watson desarrollaron un test para identificar autocorrelación de primer orden en los residuos.\n",
    "\n",
    "## 1970 -> George E.P. Box y Gwilym M. Jenkins\n",
    "En 1970 Box y Jenkins publican un libro de texto de análisis de series de tiempo.\n",
    "\n",
    "Introducen modelos univariados para series de tiempo, que usan sistemáticamente la información contenida en los valores de la serie.\n",
    "\n",
    "Manera sencilla de producir pronósticos.\n",
    "\n",
    "Hoy en día conocida como **metodología Box-Jenkins**.\n",
    "\n",
    "```{figure} ../../imgs/box-jenkins.png\n",
    ":scale: 45%\n",
    "\n",
    "La metología Box-Jenkins\n",
    "```\n",
    "\n",
    "## 1975 -> Clive W.J. Granger y Paul Newbold\n",
    "En 1975 Granger y Newbold mostraron que los pronósticos sencillos de métodos univariados a menudo eran mejores que los pronósticos basados en modelos econométricos grandes (cientos de ecuaciones).\n",
    "\n",
    "Esto impulsó la enorme popularidad de la metodología Box-Jenkins."
   ]
  }
 ],
 "metadata": {
  "jupytext": {
   "formats": "md:myst",
   "text_representation": {
    "extension": ".md",
    "format_name": "myst"
   }
  },
  "kernelspec": {
   "display_name": "Python 3",
   "language": "python",
   "name": "python3"
  },
  "source_map": [
   11,
   18,
   28,
   79,
   85,
   89,
   93,
   114
  ]
 },
 "nbformat": 4,
 "nbformat_minor": 5
}