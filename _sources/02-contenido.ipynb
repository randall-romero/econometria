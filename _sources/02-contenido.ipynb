{
 "cells": [
  {
   "cell_type": "markdown",
   "id": "3215f0b3",
   "metadata": {},
   "source": [
    "# Tipo de contenido\n",
    "\n",
    "## Tests estadísticos\n",
    "\n",
    "Para facilitar la explicación de pruebas estadísticas, estas se presentarán en este formato\n",
    "\n",
    "\n",
    "{{ empieza_test }} NOMBRE DE LA PRUEBA/TEST {{ fin_titulo_test }}\n",
    "::::{grid} \n",
    ":gutter: 1\n",
    "\n",
    ":::{grid-item}\n",
    ":outline: \n",
    ":columns: 4\n",
    "{fas}`question;test-simbolo`\n",
    "¿Qué pregunta buscamos responder con este test?\n",
    ":::\n",
    "\n",
    ":::{grid-item} \n",
    ":outline: \n",
    ":columns: 8\n",
    "{fas}`bullseye;test-simbolo`\n",
    "¿Cuál es la hipótesis nula del test? Es decir, ¿qué afirma el test en términos de parámetros, que sea conducente a responder la interrogante planteada anteriormente?\n",
    ":::\n",
    "\n",
    ":::{grid-item} \n",
    ":outline: \n",
    ":columns: 8\n",
    "{fas}`calculator;test-simbolo`\n",
    "¿Cómo se calcula el estadístico del test? En general, en un test se calcula un estadístico y se determina su distribución.\n",
    ":::\n",
    "\n",
    ":::{grid-item} \n",
    ":outline: \n",
    ":columns: 4\n",
    "{fas}`lightbulb;test-simbolo` \n",
    "¿Cómo interpreto el estadístico? Es decir, ¿cuándo debo rechazar la hipótesis nula?\n",
    ":::\n",
    "::::\n",
    "{{ termina_test }}\n",
    "\n",
    "\n",
    "\n",
    "\n",
    "## Ejemplos\n",
    "Por su parte, los ejemplos se presentan así\n",
    "\n",
    "\n",
    "{{ empieza_ejemplo }} TITULO DEL EJEMPLO {{ fin_titulo_ejemplo }}\n",
    "Contenido del ejemplo acá."
   ]
  },
  {
   "cell_type": "code",
   "execution_count": 1,
   "id": "44248f5e",
   "metadata": {
    "tags": [
     "hide-input"
    ]
   },
   "outputs": [
    {
     "data": {
      "image/png": "[encoded data removed]",
      "text/plain": [
       "<Figure size 432x288 with 1 Axes>"
      ]
     },
     "metadata": {
      "filenames": {
       "image/png": "C:\\Users\\randa\\OneDrive\\Documents\\Teaching\\econometria\\_build\\jupyter_execute\\02-contenido_1_0.png"
      },
      "needs_background": "light"
     },
     "output_type": "display_data"
    }
   ],
   "source": [
    "import matplotlib.pyplot as plt\n",
    "plt.style.use(\"seaborn\")\n",
    "\n",
    "plt.plot([1,9,2,8,3,7,4,6,5,5,5]);"
   ]
  },
  {
   "cell_type": "markdown",
   "id": "de2c1359",
   "metadata": {},
   "source": [
    "Mismo gráfico de antes, pero ahora en un ejemplo y con mejor formato\n",
    "{{ termina_ejemplo }}"
   ]
  }
 ],
 "metadata": {
  "jupytext": {
   "formats": "md:myst",
   "text_representation": {
    "extension": ".md",
    "format_name": "myst"
   }
  },
  "kernelspec": {
   "display_name": "Python 3",
   "language": "python",
   "name": "python3"
  },
  "language_info": {
   "codemirror_mode": {
    "name": "ipython",
    "version": 3
   },
   "file_extension": ".py",
   "mimetype": "text/x-python",
   "name": "python",
   "nbconvert_exporter": "python",
   "pygments_lexer": "ipython3",
   "version": "3.9.13"
  },
  "source_map": [
   30,
   83,
   89
  ],
  "substitutions": {
   "empieza_ejemplo": "<div class=\"ejemplo\">\n<div class=\"ejemplo-titulo\"><b>Ejemplo: &nbsp;\n",
   "empieza_test": "<div class=\"test\">\n<div class=\"test-titulo\">\n",
   "fin_titulo_ejemplo": "</b></div>",
   "fin_titulo_test": "</div>",
   "termina_ejemplo": "</div>",
   "termina_test": "</div>",
   "test_estadistico": "<br><hr><i class=\"fas fa-calculator test-simbolo\"></i>\n",
   "test_hipotesis": "<br><hr><i class=\"fas fa-heading test-simbolo\"></i>\n",
   "test_inquietud": "<i class=\"fas fa-question test-simbolo\"></i>\n",
   "test_interpretacion": "<br><hr><i class=\"far fa-lightbulb test-simbolo\"></i>"
  }
 },
 "nbformat": 4,
 "nbformat_minor": 5
}