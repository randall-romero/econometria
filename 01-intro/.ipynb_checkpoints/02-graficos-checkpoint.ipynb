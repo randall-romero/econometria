{
 "cells": [
  {
   "cell_type": "markdown",
   "id": "molecular-stephen",
   "metadata": {},
   "source": [
    "```{include} ../math-definitions.md\n",
    "```"
   ]
  },
  {
   "cell_type": "code",
   "execution_count": null,
   "id": "honey-schema",
   "metadata": {
    "tags": [
     "hide-input"
    ]
   },
   "outputs": [],
   "source": [
    "from bccr import SW\n",
    "import numpy as np\n",
    "import matplotlib.pyplot as plt\n",
    "plt.style.use('seaborn')\n",
    "import pandas as pd\n",
    "pd.options.plotting.backend = \"plotly\""
   ]
  },
  {
   "cell_type": "markdown",
   "id": "virtual-brooks",
   "metadata": {},
   "source": [
    "# Representación gráfica de series de tiempo\n",
    "\n",
    "\n",
    "\n",
    "(subsec-nivel-serie)=\n",
    "## Nivel de la serie\n",
    "\n",
    "Antes de modelar una serie de tiempo, es útil representarla con un gráfico para detectar algunas de sus propiedades.\n",
    "\n",
    "En este caso: el PIB\n",
    "- muestra una tendencia positiva\n",
    "- tiene variaciones estacionarias\n",
    "\n",
    "\n",
    "```{margin} Otras implementaciones\n",
    "Las operaciones acá descritas las podemos hacer también con {ref}`R<Rcode-transform>`\n",
    "```\n",
    "En lo que sigue, nos referimos a esta serie en nivel como $y_t$."
   ]
  },
  {
   "cell_type": "code",
   "execution_count": null,
   "id": "experienced-staff",
   "metadata": {
    "tags": [
     "hide-input"
    ]
   },
   "outputs": [],
   "source": [
    "def figura(datos, titulo, y):\n",
    "    fig = datos.plot(title=titulo)\n",
    "    fig.update_layout(\n",
    "        title=titulo,\n",
    "        xaxis_title=\" \",\n",
    "        yaxis_title=y,\n",
    "        showlegend=False\n",
    "    )\n",
    "\n",
    "    return fig\n",
    "\n",
    "pib = SW({33438:'PIB'})\n",
    "pib /=1e6\n",
    "pib.index = pib.index.to_timestamp()\n",
    "\n",
    "figura(pib,\n",
    "       'Producto Interno Bruto de Costa Rica',\n",
    "       'billones de colones constantes')"
   ]
  },
  {
   "cell_type": "markdown",
   "id": "ceramic-grammar",
   "metadata": {},
   "source": [
    "## Primera diferencia de la serie\n",
    "\\begin{equation*}\n",
    "\\Delta y_t \\equiv y_t - y_{t-1}\n",
    "\\end{equation*}\n",
    "Esta transformación\n",
    "\n",
    "*  elimina la tendencia de la serie,\n",
    "*  mantiene las oscilaciones estacionales."
   ]
  },
  {
   "cell_type": "code",
   "execution_count": null,
   "id": "later-spyware",
   "metadata": {
    "tags": [
     "hide-input"
    ]
   },
   "outputs": [],
   "source": [
    "figura(pib.diff(1),\n",
    "       'Cambio trimestral en el PIB de Costa Rica',\n",
    "       'billones de colones constantes')"
   ]
  },
  {
   "cell_type": "markdown",
   "id": "personal-supply",
   "metadata": {},
   "source": [
    "## Tasa de crecimiento de la serie\n",
    "\\begin{equation*}\n",
    "\\Delta\\% y_t \\equiv \\frac{y_t - y_{t-1}}{y_{t-1}} \\times 100\n",
    "\\end{equation*}\n",
    "\n",
    "*  Elimina tendencia, mantiene estacionalidad.\n",
    "*  Limitación: asimetría con respecto a cambios positivos y negativos: Subir de 100 a 125 (aumento de 25%), bajar de 125 a 100 (caída de “solo” 20%)."
   ]
  },
  {
   "cell_type": "code",
   "execution_count": null,
   "id": "emotional-shower",
   "metadata": {
    "tags": [
     "hide-input"
    ]
   },
   "outputs": [],
   "source": [
    "figura(100*pib.pct_change(1),\n",
    "       'Tasa de crecimiento trimestral del PIB de Costa Rica',\n",
    "       'por ciento')"
   ]
  },
  {
   "cell_type": "markdown",
   "id": "parallel-commons",
   "metadata": {},
   "source": [
    "## Tasa “continua” de crecimiento de la serie\n",
    "\\begin{equation*}\n",
    "\\Delta\\% y_t \\approx \\left(\\ln y_t - \\ln y_{t-1}\\right)\\times 100\n",
    "\\end{equation*}\n",
    "\n",
    "*  Similar a la anterior porque $\\ln(1+x)\\approx x$ si $x$ es “pequeño”\n",
    "*  Ventaja: simetría con respecto a cambios positivos y negativos"
   ]
  },
  {
   "cell_type": "code",
   "execution_count": null,
   "id": "civilian-tobago",
   "metadata": {
    "tags": [
     "hide-input"
    ]
   },
   "outputs": [],
   "source": [
    "figura(100*np.log(pib).diff(),\n",
    "       'Tasa de crecimiento trimestral del PIB de Costa Rica',\n",
    "       'por ciento')"
   ]
  },
  {
   "cell_type": "markdown",
   "id": "simplified-roots",
   "metadata": {},
   "source": [
    "## Diferencia interanual de la serie\n",
    "\\begin{equation*}\n",
    "\\Delta_4 y_t \\equiv y_t - y_{t-4}\n",
    "\\end{equation*}\n",
    "\n",
    "*  Elimina tanto la tendencia como el componente estacional\n",
    "*  Nótese la fuerte disminución del PIB durante la crisis de 2008."
   ]
  },
  {
   "cell_type": "code",
   "execution_count": null,
   "id": "desirable-touch",
   "metadata": {
    "tags": [
     "hide-input"
    ]
   },
   "outputs": [],
   "source": [
    "figura(pib.diff(4),\n",
    "       'Cambio interanual en el PIB de Costa Rica',\n",
    "       'billones de colones constantes')"
   ]
  },
  {
   "cell_type": "markdown",
   "id": "breathing-optics",
   "metadata": {},
   "source": [
    "## Tasa de crecimiento interanual\n",
    "\\begin{equation*}\n",
    "\\Delta_4\\% y_t \\approx \\left(\\ln y_t - \\ln y_{t-4}\\right)\\times 100\n",
    "\\end{equation*}\n",
    "\n",
    "\n",
    "*  Equivalente a la suma de las tasas de crecimiento de los cuatro trimestres comprendidos en el año:\n",
    "\n",
    "\n",
    "\\begin{align*}\n",
    "\\Delta_4\\% y_t &\\approx \\left(\\ln y_t - \\ln y_{t-4}\\right)\\times 100 \\\\\n",
    "  &= \\left(\\ln y_{t} - \\ln y_{t-1} + \\ln y_{t-1} - \\ln y_{t-2} + \\ln y_{t-2} - \\ln y_{t-3} + \\ln y_{t-3} - \\ln y_{t-4}\\right)\\times 100 \\\\\n",
    "  &= \\Delta\\% y_{t} + \\Delta\\% y_{t-1} + \\Delta\\% y_{t-2} + \\Delta\\% y_{t-3}\n",
    "\\end{align*}"
   ]
  },
  {
   "cell_type": "code",
   "execution_count": null,
   "id": "organized-colony",
   "metadata": {
    "tags": [
     "hide-input"
    ]
   },
   "outputs": [],
   "source": [
    "figura(100*np.log(pib).diff(4),\n",
    "       'Tasa de crecimiento interanual del PIB de Costa Rica',\n",
    "       'por ciento')"
   ]
  },
  {
   "cell_type": "markdown",
   "id": "breathing-bangkok",
   "metadata": {},
   "source": [
    "## Serie suavizada por media móvil\n",
    "\\begin{equation*}\n",
    "y^s_t \\equiv \\tfrac{1}{4}\\left(y_t + y_{t-1} + y_{t-2} + y_{t-3}\\right)\n",
    "\\end{equation*}\n",
    "\n",
    "*  Elimina el componente estacional, pero manteniendo la tendencia\n",
    "*  Se observa un cambio estructural en 2008-2009."
   ]
  },
  {
   "cell_type": "code",
   "execution_count": null,
   "id": "adopted-furniture",
   "metadata": {
    "tags": [
     "hide-input"
    ]
   },
   "outputs": [],
   "source": [
    "pib2 = pd.concat([pib, pib.rolling(4).mean()], axis=1)\n",
    "pib2.columns = ['Serie original', 'Serie suavizada']\n",
    "\n",
    "figura(pib2,\n",
    "    'Producto Interno Bruto de Costa Rica',\n",
    "    'billones de colones constantes')"
   ]
  },
  {
   "cell_type": "markdown",
   "id": "still-moscow",
   "metadata": {},
   "source": [
    "{{ empieza_ejemplo }} Transformación de datos{{ fin_titulo_ejemplo }}\n",
    "Las transformaciones ilustradas en las figuras pueden ser calculadas con Stata y con Python:\n",
    "\n",
    "\n",
    "|\tOperacion                      | Stata                              | Python                |\n",
    "|  :---------------------------  | :--------------------------------- | :-------------------- |\n",
    "|\tSerie original                 | pib                                | pib                   |\n",
    "|\tPrimera diferencia             | D.pib                              | pib.diff()            |\n",
    "|\tTasa de crecimiento            | D.pib / L.pib                      | pib.pct_change(1)     |\n",
    "|\tTasa de variación continua     | gen l=log(pib)                     | np.log(pib).diff()    |\n",
    "|\t                               | D.lpib                             |                       |\n",
    "|\tDiferencia interanual          | S4.pib                             | pib.diff(4)           |\n",
    "|\tTasa de crecimiento interanual | S4.lpib                            | np.log(pib).diff(4)   |\n",
    "|\tSuavizada por media móvil      | tssmooth ma y = pib, window(3 1 0) | pib.rolling(4).mean() |\n",
    "{{ termina_ejemplo }}"
   ]
  }
 ],
 "metadata": {
  "jupytext": {
   "formats": "md:myst"
  },
  "kernelspec": {
   "display_name": "Python 3",
   "language": "python",
   "name": "python3"
  },
  "substitutions": {
   "empieza_ejemplo": "<div class=\"ejemplo\">\n<div class=\"ejemplo-titulo\"><b>Ejemplo: &nbsp;\n",
   "fin_titulo_ejemplo": "</b></div>",
   "termina_ejemplo": "</div>"
  }
 },
 "nbformat": 4,
 "nbformat_minor": 5
}
