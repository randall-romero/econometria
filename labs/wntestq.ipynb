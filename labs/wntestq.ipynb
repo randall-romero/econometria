{
 "cells": [
  {
   "cell_type": "markdown",
   "metadata": {
    "tags": [],
    "pycharm": {
     "name": "#%% md\n"
    }
   },
   "source": [
    "# Las pruebas de Box-Pierce y Ljung-Box.\n",
    "\n"
   ]
  },
  {
   "cell_type": "markdown",
   "metadata": {
    "pycharm": {
     "name": "#%% md\n"
    }
   },
   "source": [
    "## Cargar paquetes necesarios"
   ]
  },
  {
   "cell_type": "code",
   "execution_count": 1,
   "metadata": {
    "pycharm": {
     "name": "#%%\n"
    }
   },
   "outputs": [],
   "source": [
    "import matplotlib.pyplot as plt\n",
    "plt.style.use('seaborn')\n",
    "import pandas as pd\n",
    "import numpy as np\n",
    "import statsmodels.api as sm\n",
    "from scipy.stats.distributions import chi2"
   ]
  },
  {
   "cell_type": "markdown",
   "metadata": {
    "pycharm": {
     "name": "#%% md\n"
    }
   },
   "source": [
    "## Definir ubicación de archivos de datos"
   ]
  },
  {
   "cell_type": "code",
   "execution_count": 2,
   "metadata": {
    "pycharm": {
     "name": "#%%\n"
    }
   },
   "outputs": [],
   "source": [
    "GITHUB_REPO = \"https://raw.githubusercontent.com/randall-romero/econometria/master/data/\"\n",
    "DATAPATH = GITHUB_REPO if 'google.colab' in str(get_ipython()) else '../data/'"
   ]
  },
  {
   "cell_type": "markdown",
   "metadata": {
    "pycharm": {
     "name": "#%% md\n"
    }
   },
   "source": [
    "## EJEMPLO 1: Crecimiento del IMAE de Costa Rica, serie tendencia-ciclo\n",
    "\n",
    "¿Es es crecimiento mensual del IMAE tendencia-ciclo un proceso ruido blanco?"
   ]
  },
  {
   "cell_type": "code",
   "execution_count": 5,
   "metadata": {
    "pycharm": {
     "name": "#%%\n"
    }
   },
   "outputs": [
    {
     "data": {
      "text/plain": "              fecha  Original  Tendencia_ciclo\n1991-01  1991-01-31  3.543337         3.436627\n1991-02  1991-02-28  3.444160         3.438203\n1991-03  1991-03-31  3.389929         3.439999\n1991-04  1991-04-30  3.391805         3.444238\n1991-05  1991-05-31  3.406380         3.448570\n...             ...       ...              ...\n2021-04  2021-04-30  4.628316         4.657012\n2021-05  2021-05-31  4.657245         4.667075\n2021-06  2021-06-30  4.660920         4.676299\n2021-07  2021-07-31  4.682706         4.685173\n2021-08  2021-08-31  4.659956         4.691523\n\n[368 rows x 3 columns]",
      "text/html": "<div>\n<style scoped>\n    .dataframe tbody tr th:only-of-type {\n        vertical-align: middle;\n    }\n\n    .dataframe tbody tr th {\n        vertical-align: top;\n    }\n\n    .dataframe thead th {\n        text-align: right;\n    }\n</style>\n<table border=\"1\" class=\"dataframe\">\n  <thead>\n    <tr style=\"text-align: right;\">\n      <th></th>\n      <th>fecha</th>\n      <th>Original</th>\n      <th>Tendencia_ciclo</th>\n    </tr>\n  </thead>\n  <tbody>\n    <tr>\n      <th>1991-01</th>\n      <td>1991-01-31</td>\n      <td>3.543337</td>\n      <td>3.436627</td>\n    </tr>\n    <tr>\n      <th>1991-02</th>\n      <td>1991-02-28</td>\n      <td>3.444160</td>\n      <td>3.438203</td>\n    </tr>\n    <tr>\n      <th>1991-03</th>\n      <td>1991-03-31</td>\n      <td>3.389929</td>\n      <td>3.439999</td>\n    </tr>\n    <tr>\n      <th>1991-04</th>\n      <td>1991-04-30</td>\n      <td>3.391805</td>\n      <td>3.444238</td>\n    </tr>\n    <tr>\n      <th>1991-05</th>\n      <td>1991-05-31</td>\n      <td>3.406380</td>\n      <td>3.448570</td>\n    </tr>\n    <tr>\n      <th>...</th>\n      <td>...</td>\n      <td>...</td>\n      <td>...</td>\n    </tr>\n    <tr>\n      <th>2021-04</th>\n      <td>2021-04-30</td>\n      <td>4.628316</td>\n      <td>4.657012</td>\n    </tr>\n    <tr>\n      <th>2021-05</th>\n      <td>2021-05-31</td>\n      <td>4.657245</td>\n      <td>4.667075</td>\n    </tr>\n    <tr>\n      <th>2021-06</th>\n      <td>2021-06-30</td>\n      <td>4.660920</td>\n      <td>4.676299</td>\n    </tr>\n    <tr>\n      <th>2021-07</th>\n      <td>2021-07-31</td>\n      <td>4.682706</td>\n      <td>4.685173</td>\n    </tr>\n    <tr>\n      <th>2021-08</th>\n      <td>2021-08-31</td>\n      <td>4.659956</td>\n      <td>4.691523</td>\n    </tr>\n  </tbody>\n</table>\n<p>368 rows × 3 columns</p>\n</div>"
     },
     "execution_count": 5,
     "metadata": {},
     "output_type": "execute_result"
    }
   ],
   "source": [
    "log_imae = pd.read_csv(DATAPATH + 'log_imae.csv')\n",
    "log_imae.index = pd.period_range(start='1991-01', freq='M', periods=log_imae.shape[0])\n",
    "log_imae"
   ]
  },
  {
   "cell_type": "code",
   "execution_count": 6,
   "metadata": {
    "pycharm": {
     "name": "#%%\n"
    }
   },
   "outputs": [],
   "source": [
    "growth = log_imae['Tendencia_ciclo'].diff().dropna()\n",
    "T = growth.size  # número de datos\n",
    "M = 7   # máximo número de rezagos\n",
    "rezagos = np.arange(1, M+1)\n",
    "alpha = 0.05  # significancia de los test"
   ]
  },
  {
   "cell_type": "markdown",
   "metadata": {
    "pycharm": {
     "name": "#%% md\n"
    }
   },
   "source": [
    "Calculamos las autocovarianzas, a partir de un rezago"
   ]
  },
  {
   "cell_type": "code",
   "execution_count": 7,
   "metadata": {
    "pycharm": {
     "name": "#%%\n"
    }
   },
   "outputs": [],
   "source": [
    "rho = sm.tsa.acf(growth, fft=True, nlags=M)[1:] "
   ]
  },
  {
   "cell_type": "markdown",
   "metadata": {
    "pycharm": {
     "name": "#%% md\n"
    }
   },
   "source": [
    "Calculamos el estadístico de Box-Pierce, para todos los rezagos desde el 1 hasta el 7\n",
    "\n",
    "\\begin{equation*}\n",
    "Q^{*} = T\\sum_{j=1}^{m}\\hat{\\rho}_j^2 \\; \\overset{\\text{asy}}{\\sim} \\; \\chi^2_{m-k}\n",
    "\\end{equation*}"
   ]
  },
  {
   "cell_type": "code",
   "execution_count": 8,
   "metadata": {
    "pycharm": {
     "name": "#%%\n"
    }
   },
   "outputs": [],
   "source": [
    "Qstar = T * (rho ** 2).cumsum()"
   ]
  },
  {
   "cell_type": "markdown",
   "metadata": {
    "pycharm": {
     "name": "#%% md\n"
    }
   },
   "source": [
    "Calculamos el estadístico de Ljung-Box\n",
    "\n",
    "\\begin{equation*}\n",
    "Q = T(T+2)\\sum_{j=1}^{m}\\frac{\\hat{\\rho}_j^2}{T-j} \\; \\overset{\\text{asy}}{\\sim} \\; \\chi^2_{m-k}\n",
    "\\end{equation*}"
   ]
  },
  {
   "cell_type": "code",
   "execution_count": 9,
   "metadata": {
    "pycharm": {
     "name": "#%%\n"
    }
   },
   "outputs": [],
   "source": [
    "Q = T * (T+2) * ((rho ** 2)/(T-rezagos)).cumsum()"
   ]
  },
  {
   "cell_type": "markdown",
   "metadata": {
    "pycharm": {
     "name": "#%% md\n"
    }
   },
   "source": [
    "Calculamos los valores críticos, tomando en cuenta que $k=0$ porque los datos que estamos usando no son residuos"
   ]
  },
  {
   "cell_type": "code",
   "execution_count": 10,
   "metadata": {
    "pycharm": {
     "name": "#%%\n"
    }
   },
   "outputs": [],
   "source": [
    "vcrits = np.array([chi2(k).ppf(1-alpha) for k in rezagos])"
   ]
  },
  {
   "cell_type": "markdown",
   "metadata": {
    "pycharm": {
     "name": "#%% md\n"
    }
   },
   "source": [
    "Con carácter informativo nada más, calculamos la autocorrelación parcial"
   ]
  },
  {
   "cell_type": "code",
   "execution_count": 11,
   "metadata": {
    "pycharm": {
     "name": "#%%\n"
    }
   },
   "outputs": [],
   "source": [
    "rhop = sm.tsa.pacf(growth, nlags=M, method='ols')[1:]"
   ]
  },
  {
   "cell_type": "markdown",
   "metadata": {
    "pycharm": {
     "name": "#%% md\n"
    }
   },
   "source": [
    "Juntamos todos los resultados en una tabla de resumen."
   ]
  },
  {
   "cell_type": "code",
   "execution_count": 12,
   "metadata": {
    "pycharm": {
     "name": "#%%\n"
    }
   },
   "outputs": [
    {
     "data": {
      "text/plain": "            AC    PAC  Box-Pierce  Ljung-Box  $\\chi^2(m-k)$\nRezagos                                                    \n1        0.246  0.246      22.150     22.331          3.841\n2        0.178  0.126      33.829     34.139          5.991\n3        0.117  0.052      38.845     39.223          7.815\n4        0.075  0.020      40.893     41.306          9.488\n5        0.035 -0.006      41.350     41.771         11.070\n6        0.021 -0.002      41.510     41.935         12.592\n7        0.029  0.019      41.822     42.255         14.067",
      "text/html": "<div>\n<style scoped>\n    .dataframe tbody tr th:only-of-type {\n        vertical-align: middle;\n    }\n\n    .dataframe tbody tr th {\n        vertical-align: top;\n    }\n\n    .dataframe thead th {\n        text-align: right;\n    }\n</style>\n<table border=\"1\" class=\"dataframe\">\n  <thead>\n    <tr style=\"text-align: right;\">\n      <th></th>\n      <th>AC</th>\n      <th>PAC</th>\n      <th>Box-Pierce</th>\n      <th>Ljung-Box</th>\n      <th>$\\chi^2(m-k)$</th>\n    </tr>\n    <tr>\n      <th>Rezagos</th>\n      <th></th>\n      <th></th>\n      <th></th>\n      <th></th>\n      <th></th>\n    </tr>\n  </thead>\n  <tbody>\n    <tr>\n      <th>1</th>\n      <td>0.246</td>\n      <td>0.246</td>\n      <td>22.150</td>\n      <td>22.331</td>\n      <td>3.841</td>\n    </tr>\n    <tr>\n      <th>2</th>\n      <td>0.178</td>\n      <td>0.126</td>\n      <td>33.829</td>\n      <td>34.139</td>\n      <td>5.991</td>\n    </tr>\n    <tr>\n      <th>3</th>\n      <td>0.117</td>\n      <td>0.052</td>\n      <td>38.845</td>\n      <td>39.223</td>\n      <td>7.815</td>\n    </tr>\n    <tr>\n      <th>4</th>\n      <td>0.075</td>\n      <td>0.020</td>\n      <td>40.893</td>\n      <td>41.306</td>\n      <td>9.488</td>\n    </tr>\n    <tr>\n      <th>5</th>\n      <td>0.035</td>\n      <td>-0.006</td>\n      <td>41.350</td>\n      <td>41.771</td>\n      <td>11.070</td>\n    </tr>\n    <tr>\n      <th>6</th>\n      <td>0.021</td>\n      <td>-0.002</td>\n      <td>41.510</td>\n      <td>41.935</td>\n      <td>12.592</td>\n    </tr>\n    <tr>\n      <th>7</th>\n      <td>0.029</td>\n      <td>0.019</td>\n      <td>41.822</td>\n      <td>42.255</td>\n      <td>14.067</td>\n    </tr>\n  </tbody>\n</table>\n</div>"
     },
     "execution_count": 12,
     "metadata": {},
     "output_type": "execute_result"
    }
   ],
   "source": [
    "resumen = pd.DataFrame({'AC':rho, 'PAC': rhop, 'Box-Pierce':Qstar, 'Ljung-Box':Q, f'$\\chi^2(m-k)$': vcrits}, index=rezagos)\n",
    "resumen.index.name = 'Rezagos'\n",
    "\n",
    "resumen.round(3)"
   ]
  },
  {
   "cell_type": "markdown",
   "metadata": {
    "pycharm": {
     "name": "#%% md\n"
    }
   },
   "source": [
    "Graficamos los datos y el autocorrelograma"
   ]
  },
  {
   "cell_type": "code",
   "execution_count": 13,
   "metadata": {
    "pycharm": {
     "name": "#%%\n"
    }
   },
   "outputs": [
    {
     "data": {
      "text/plain": "<Figure size 576x432 with 2 Axes>",
      "image/png": "[encoded data removed]"
     },
     "metadata": {},
     "output_type": "display_data"
    }
   ],
   "source": [
    "fig, axs = plt.subplots(2,1, figsize=[8,6])\n",
    "growth.plot(ax=axs[0], title='Evolución del crecimiento del IMAE')\n",
    "sm.graphics.tsa.plot_acf(growth, ax=axs[1], lags=48, alpha=0.05, title='Autocorrelograma');"
   ]
  },
  {
   "cell_type": "markdown",
   "metadata": {
    "pycharm": {
     "name": "#%% md\n"
    }
   },
   "source": [
    "## EJEMPLO 2: Crecimiento del tipo de cambio Euro/USD\n",
    "\n",
    "¿Es es crecimiento diario del tipo de cambio euro-dólar un proceso ruido blanco?"
   ]
  },
  {
   "cell_type": "code",
   "execution_count": 13,
   "metadata": {
    "pycharm": {
     "name": "#%%\n"
    }
   },
   "outputs": [],
   "source": [
    "euro = pd.read_csv(DATAPATH + 'euro.csv')\n",
    "#euro.index = pd.to_datetime(euro['fecha'])\n",
    "euro.drop('fecha',inplace=True,axis=1)"
   ]
  },
  {
   "cell_type": "code",
   "execution_count": 14,
   "metadata": {
    "pycharm": {
     "name": "#%%\n"
    }
   },
   "outputs": [],
   "source": [
    "depreciacion = euro.diff().dropna()\n",
    "T = depreciacion.shape[0]  # número de datos\n",
    "M = 7   # máximo número de rezagos\n",
    "rezagos = np.arange(1, M+1)\n",
    "alpha = 0.05  # significancia de los test"
   ]
  },
  {
   "cell_type": "markdown",
   "metadata": {
    "pycharm": {
     "name": "#%% md\n"
    }
   },
   "source": [
    "Calculamos las autocovarianzas, a partir de un rezago"
   ]
  },
  {
   "cell_type": "code",
   "execution_count": 15,
   "metadata": {
    "pycharm": {
     "name": "#%%\n"
    }
   },
   "outputs": [],
   "source": [
    "rho = sm.tsa.acf(depreciacion, fft=True, nlags=M)[1:] "
   ]
  },
  {
   "cell_type": "markdown",
   "metadata": {
    "pycharm": {
     "name": "#%% md\n"
    }
   },
   "source": [
    "Calculamos el estadístico de Box-Pierce, para todos los rezagos desde el 1 hasta el 7\n",
    "\n",
    "\\begin{equation*}\n",
    "Q^{*} = T\\sum_{j=1}^{m}\\hat{\\rho}_j^2 \\; \\overset{\\text{asy}}{\\sim} \\; \\chi^2_{m-k}\n",
    "\\end{equation*}"
   ]
  },
  {
   "cell_type": "code",
   "execution_count": 16,
   "metadata": {
    "pycharm": {
     "name": "#%%\n"
    }
   },
   "outputs": [],
   "source": [
    "Qstar = T * (rho ** 2).cumsum()"
   ]
  },
  {
   "cell_type": "markdown",
   "metadata": {
    "pycharm": {
     "name": "#%% md\n"
    }
   },
   "source": [
    "Calculamos el estadístico de Ljung-Box\n",
    "\n",
    "\\begin{equation*}\n",
    "Q = T(T+2)\\sum_{j=1}^{m}\\frac{\\hat{\\rho}_j^2}{T-j} \\; \\overset{\\text{asy}}{\\sim} \\; \\chi^2_{m-k}\n",
    "\\end{equation*}"
   ]
  },
  {
   "cell_type": "code",
   "execution_count": 17,
   "metadata": {
    "pycharm": {
     "name": "#%%\n"
    }
   },
   "outputs": [],
   "source": [
    "Q = T * (T+2) * ((rho ** 2)/(T-rezagos)).cumsum()"
   ]
  },
  {
   "cell_type": "markdown",
   "metadata": {
    "pycharm": {
     "name": "#%% md\n"
    }
   },
   "source": [
    "Calculamos los valores críticos, tomando en cuenta que $k=0$ porque los datos que estamos usando no son residuos"
   ]
  },
  {
   "cell_type": "code",
   "execution_count": 18,
   "metadata": {
    "pycharm": {
     "name": "#%%\n"
    }
   },
   "outputs": [],
   "source": [
    "vcrits = np.array([chi2(k).ppf(1-alpha) for k in rezagos])"
   ]
  },
  {
   "cell_type": "markdown",
   "metadata": {
    "pycharm": {
     "name": "#%% md\n"
    }
   },
   "source": [
    "Con carácter informativo nada más, calculamos la autocorrelación parcial"
   ]
  },
  {
   "cell_type": "code",
   "execution_count": 19,
   "metadata": {
    "pycharm": {
     "name": "#%%\n"
    }
   },
   "outputs": [],
   "source": [
    "rhop = sm.tsa.pacf(depreciacion, nlags=M, method='ols')[1:]"
   ]
  },
  {
   "cell_type": "markdown",
   "metadata": {
    "pycharm": {
     "name": "#%% md\n"
    }
   },
   "source": [
    "Juntamos todos los resultados en una tabla de resumen."
   ]
  },
  {
   "cell_type": "code",
   "execution_count": 21,
   "metadata": {
    "pycharm": {
     "name": "#%%\n"
    }
   },
   "outputs": [
    {
     "data": {
      "text/html": [
       "<div>\n",
       "<style scoped>\n",
       "    .dataframe tbody tr th:only-of-type {\n",
       "        vertical-align: middle;\n",
       "    }\n",
       "\n",
       "    .dataframe tbody tr th {\n",
       "        vertical-align: top;\n",
       "    }\n",
       "\n",
       "    .dataframe thead th {\n",
       "        text-align: right;\n",
       "    }\n",
       "</style>\n",
       "<table border=\"1\" class=\"dataframe\">\n",
       "  <thead>\n",
       "    <tr style=\"text-align: right;\">\n",
       "      <th></th>\n",
       "      <th>AC</th>\n",
       "      <th>PAC</th>\n",
       "      <th>Box-Pierce</th>\n",
       "      <th>Ljung-Box</th>\n",
       "      <th>$\\chi^2(m-k)$</th>\n",
       "    </tr>\n",
       "    <tr>\n",
       "      <th>Rezagos</th>\n",
       "      <th></th>\n",
       "      <th></th>\n",
       "      <th></th>\n",
       "      <th></th>\n",
       "      <th></th>\n",
       "    </tr>\n",
       "  </thead>\n",
       "  <tbody>\n",
       "    <tr>\n",
       "      <th>1</th>\n",
       "      <td>0.0042</td>\n",
       "      <td>0.0042</td>\n",
       "      <td>0.0948</td>\n",
       "      <td>0.0949</td>\n",
       "      <td>3.8415</td>\n",
       "    </tr>\n",
       "    <tr>\n",
       "      <th>2</th>\n",
       "      <td>-0.0063</td>\n",
       "      <td>-0.0064</td>\n",
       "      <td>0.3144</td>\n",
       "      <td>0.3146</td>\n",
       "      <td>5.9915</td>\n",
       "    </tr>\n",
       "    <tr>\n",
       "      <th>3</th>\n",
       "      <td>0.0001</td>\n",
       "      <td>0.0002</td>\n",
       "      <td>0.3145</td>\n",
       "      <td>0.3147</td>\n",
       "      <td>7.8147</td>\n",
       "    </tr>\n",
       "    <tr>\n",
       "      <th>4</th>\n",
       "      <td>0.0082</td>\n",
       "      <td>0.0082</td>\n",
       "      <td>0.6825</td>\n",
       "      <td>0.6831</td>\n",
       "      <td>9.4877</td>\n",
       "    </tr>\n",
       "    <tr>\n",
       "      <th>5</th>\n",
       "      <td>0.0022</td>\n",
       "      <td>0.0021</td>\n",
       "      <td>0.7082</td>\n",
       "      <td>0.7088</td>\n",
       "      <td>11.0705</td>\n",
       "    </tr>\n",
       "    <tr>\n",
       "      <th>6</th>\n",
       "      <td>-0.0076</td>\n",
       "      <td>-0.0076</td>\n",
       "      <td>1.0282</td>\n",
       "      <td>1.0293</td>\n",
       "      <td>12.5916</td>\n",
       "    </tr>\n",
       "    <tr>\n",
       "      <th>7</th>\n",
       "      <td>0.0106</td>\n",
       "      <td>0.0108</td>\n",
       "      <td>1.6485</td>\n",
       "      <td>1.6507</td>\n",
       "      <td>14.0671</td>\n",
       "    </tr>\n",
       "  </tbody>\n",
       "</table>\n",
       "</div>"
      ],
      "text/plain": [
       "             AC     PAC  Box-Pierce  Ljung-Box  $\\chi^2(m-k)$\n",
       "Rezagos                                                      \n",
       "1        0.0042  0.0042      0.0948     0.0949         3.8415\n",
       "2       -0.0063 -0.0064      0.3144     0.3146         5.9915\n",
       "3        0.0001  0.0002      0.3145     0.3147         7.8147\n",
       "4        0.0082  0.0082      0.6825     0.6831         9.4877\n",
       "5        0.0022  0.0021      0.7082     0.7088        11.0705\n",
       "6       -0.0076 -0.0076      1.0282     1.0293        12.5916\n",
       "7        0.0106  0.0108      1.6485     1.6507        14.0671"
      ]
     },
     "execution_count": 21,
     "metadata": {},
     "output_type": "execute_result"
    }
   ],
   "source": [
    "resumen = pd.DataFrame({'AC':rho, 'PAC': rhop, 'Box-Pierce':Qstar, 'Ljung-Box':Q, f'$\\chi^2(m-k)$': vcrits}, index=rezagos)\n",
    "resumen.index.name = 'Rezagos'\n",
    "\n",
    "resumen.round(4)"
   ]
  },
  {
   "cell_type": "markdown",
   "metadata": {
    "pycharm": {
     "name": "#%% md\n"
    }
   },
   "source": [
    "Graficamos los datos y el autocorrelograma"
   ]
  },
  {
   "cell_type": "code",
   "execution_count": 22,
   "metadata": {
    "pycharm": {
     "name": "#%%\n"
    }
   },
   "outputs": [
    {
     "data": {
      "image/png": "[encoded data removed]",
      "text/plain": [
       "<Figure size 576x432 with 2 Axes>"
      ]
     },
     "metadata": {},
     "output_type": "display_data"
    }
   ],
   "source": [
    "fig, axs = plt.subplots(2,1, figsize=[8,6])\n",
    "depreciacion.plot(ax=axs[0], title='Evolución del cambio porcentual en EUR/USD')\n",
    "sm.graphics.tsa.plot_acf(depreciacion, zero=False, ax=axs[1], lags=48, alpha=0.05, title='Autocorrelograma');"
   ]
  }
 ],
 "metadata": {
  "kernel_info": {
   "name": "python3"
  },
  "kernelspec": {
   "display_name": "Python 3",
   "language": "python",
   "name": "python3"
  },
  "language_info": {
   "codemirror_mode": {
    "name": "ipython",
    "version": 3
   },
   "file_extension": ".py",
   "mimetype": "text/x-python",
   "name": "python",
   "nbconvert_exporter": "python",
   "pygments_lexer": "ipython3",
   "version": "3.8.8"
  },
  "nteract": {
   "version": "0.22.0"
  }
 },
 "nbformat": 4,
 "nbformat_minor": 4
}