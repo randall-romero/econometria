{
 "cells": [
  {
   "cell_type": "markdown",
   "metadata": {},
   "source": [
    "<img src=\"escuela-de-economia.png\" width=\"260\" height=\"60\">\n",
    "<center>\n",
    "    <b>EC4301 MACROECONOMETRÍA</b><br>\n",
    "    <b>Profesor:  Randall Romero Aguilar, PhD</b>\n",
    "<br><br>\n",
    "<b>Laboratorio:</b>\n",
    "<div style=\"font-size:175%;color:white; background-color: #0064b0;\">Tema 3: Modelos ARMA</div>\n",
    "<div style=\"font-size:250%;color:white; background-color: #0064b0;\">Estimación de la demanda de dinero</div> \n",
    "</center>\n",
    "<i>Creado:     2020-Abr-20 \n",
    "    <br>\n",
    "    Actualizado: 2020-Sep-08</i>"
   ]
  },
  {
   "cell_type": "code",
   "execution_count": 1,
   "metadata": {},
   "outputs": [
    {
     "name": "stdout",
     "output_type": "stream",
     "text": [
      "Este cuaderno está corriendo localmente.\n"
     ]
    }
   ],
   "source": [
    "if 'google.colab' in str(get_ipython()):\n",
    "    print(\"Este cuaderno está corriendo en Google Colab. Es necesario instalar el paquete bccr para obtener los datos\")\n",
    "    !pip install bccr\n",
    "else:\n",
    "    print(\"Este cuaderno está corriendo localmente.\")\n"
   ]
  },
  {
   "cell_type": "code",
   "execution_count": 2,
   "metadata": {
    "Collapsed": "false"
   },
   "outputs": [],
   "source": [
    "import bccr\n",
    "import numpy as np\n",
    "from matplotlib import rcParams\n",
    "import matplotlib.pyplot as plt\n",
    "plt.style.use('seaborn')\n",
    "import matplotlib.gridspec as gridspec\n",
    "\n",
    "import statsmodels.api as sm\n",
    "from statsmodels.formula.api import ols\n"
   ]
  },
  {
   "cell_type": "code",
   "execution_count": 3,
   "metadata": {
    "Collapsed": "false"
   },
   "outputs": [],
   "source": [
    "plt.style.use('seaborn')\n",
    "\n",
    "# Cambiar tamaño de las fuentes\n",
    "rcParams['axes.titlesize'] = 20\n",
    "rcParams['axes.labelsize'] = 16\n",
    "rcParams['xtick.labelsize'] = 14\n",
    "rcParams['ytick.labelsize'] = 14"
   ]
  },
  {
   "cell_type": "code",
   "execution_count": 4,
   "metadata": {
    "Collapsed": "false"
   },
   "outputs": [
    {
     "data": {
      "text/plain": [
       "\n",
       "CLASE ServicioWeb\n",
       "\n",
       "Esta clase permite buscar y descargar datos de indicadores del servicio web del Banco Central de Costa Rica.\n",
       "Suponiendo que el objeto de clase ServicioWeb se llama \"consulta\":\n",
       "    * para buscar indicadores, utilice \n",
       "        consulta.buscar()\n",
       "    * para saber más detalles del indicador 8 (por ejemplo)\n",
       "        consulta.quien(8)\n",
       "    * para buscar las subcuentas de un indicador, digamos el 784\n",
       "        consulta.subcuentas(784)      \n",
       "    * para descargar datos de indicadors 4, 7 y 231 (por ejemplo), hay varias formas de hacerlo \n",
       "        consulta(4, 7, 231)   # pasando los códigos directamente\n",
       "        consulta([4, 7, 231]) # pasando los códigos en una lista\n",
       "        consulta({'4':'indicA', '7':'indicB', '231':'indicC'} # pasando los códigos en un diccionario, en \n",
       "            cuyo caso los indicadores son renombrados como 'indicA', 'indicB' y 'indicC', respectivamente.        "
      ]
     },
     "execution_count": 4,
     "metadata": {},
     "output_type": "execute_result"
    }
   ],
   "source": [
    "consulta = bccr.ServicioWeb()\n",
    "consulta"
   ]
  },
  {
   "cell_type": "code",
   "execution_count": 5,
   "metadata": {
    "Collapsed": "false"
   },
   "outputs": [
    {
     "name": "stdout",
     "output_type": "stream",
     "text": [
      " BUSCAR\n",
      "            Esta función ayuda a buscar los códigos de indicadores, utilizando palabras descriptivas.\n",
      "            Exactamente un parámetro de [frase, todos, algunos] debe ser proporcionado.\n",
      "            \n",
      "            Ejemplos de uso:\n",
      "                buscar(frase=\"descripción contiene esta frase literalmente\")\n",
      "                buscar(todos=\"descripción contiene todos estos términos en cualquir orden\")\n",
      "                buscar(algunos=\"descripción contiene alguno de estos términos\")\n",
      "                buscar()  # muestra este mensaje de ayuda\n",
      "            \n"
     ]
    }
   ],
   "source": [
    "consulta.buscar()"
   ]
  },
  {
   "cell_type": "code",
   "execution_count": 6,
   "metadata": {
    "Collapsed": "false"
   },
   "outputs": [
    {
     "data": {
      "text/html": [
       "<div>\n",
       "<style scoped>\n",
       "    .dataframe tbody tr th:only-of-type {\n",
       "        vertical-align: middle;\n",
       "    }\n",
       "\n",
       "    .dataframe tbody tr th {\n",
       "        vertical-align: top;\n",
       "    }\n",
       "\n",
       "    .dataframe thead th {\n",
       "        text-align: right;\n",
       "    }\n",
       "</style>\n",
       "<table border=\"1\" class=\"dataframe\">\n",
       "  <thead>\n",
       "    <tr style=\"text-align: right;\">\n",
       "      <th></th>\n",
       "      <th>DESCRIPCION</th>\n",
       "      <th>descripcion</th>\n",
       "      <th>Unidad</th>\n",
       "      <th>Medida</th>\n",
       "      <th>periodo</th>\n",
       "    </tr>\n",
       "    <tr>\n",
       "      <th>codigo</th>\n",
       "      <th></th>\n",
       "      <th></th>\n",
       "      <th></th>\n",
       "      <th></th>\n",
       "      <th></th>\n",
       "    </tr>\n",
       "  </thead>\n",
       "  <tbody>\n",
       "    <tr>\n",
       "      <th>1445</th>\n",
       "      <td>Node('/BCCR/Sector Monetario y Financiero/Medio circulante sistema bancario nacional [1445]')</td>\n",
       "      <td>Medio circulante</td>\n",
       "      <td>Colón Costarricense</td>\n",
       "      <td>Millones</td>\n",
       "      <td>Mensual</td>\n",
       "    </tr>\n",
       "    <tr>\n",
       "      <th>1479</th>\n",
       "      <td>Node('/BCCR/Sector Monetario y Financiero/Medio circulante sistema financiero nacional [1479]')</td>\n",
       "      <td>Medio circulante</td>\n",
       "      <td>Colón Costarricense</td>\n",
       "      <td>Millones</td>\n",
       "      <td>Mensual</td>\n",
       "    </tr>\n",
       "    <tr>\n",
       "      <th>2936</th>\n",
       "      <td>Node('/BCCR/Sector Monetario y Financiero/Medio circulante sistema financiero nacional [1479]/Otros activos netos [2...</td>\n",
       "      <td>Otros activos netos</td>\n",
       "      <td>Colón Costarricense</td>\n",
       "      <td>Millones</td>\n",
       "      <td>Mensual</td>\n",
       "    </tr>\n",
       "  </tbody>\n",
       "</table>\n",
       "</div>"
      ],
      "text/plain": [
       "                                                                                                                    DESCRIPCION          descripcion               Unidad    Medida  periodo\n",
       "codigo                                                                                                                                                                                      \n",
       "1445                              Node('/BCCR/Sector Monetario y Financiero/Medio circulante sistema bancario nacional [1445]')     Medio circulante  Colón Costarricense  Millones  Mensual\n",
       "1479                            Node('/BCCR/Sector Monetario y Financiero/Medio circulante sistema financiero nacional [1479]')     Medio circulante  Colón Costarricense  Millones  Mensual\n",
       "2936    Node('/BCCR/Sector Monetario y Financiero/Medio circulante sistema financiero nacional [1479]/Otros activos netos [2...  Otros activos netos  Colón Costarricense  Millones  Mensual"
      ]
     },
     "execution_count": 6,
     "metadata": {},
     "output_type": "execute_result"
    }
   ],
   "source": [
    "consulta.buscar(todos='medio circulante')"
   ]
  },
  {
   "cell_type": "code",
   "execution_count": 7,
   "metadata": {
    "Collapsed": "false"
   },
   "outputs": [
    {
     "data": {
      "text/html": [
       "<div>\n",
       "<style scoped>\n",
       "    .dataframe tbody tr th:only-of-type {\n",
       "        vertical-align: middle;\n",
       "    }\n",
       "\n",
       "    .dataframe tbody tr th {\n",
       "        vertical-align: top;\n",
       "    }\n",
       "\n",
       "    .dataframe thead th {\n",
       "        text-align: right;\n",
       "    }\n",
       "</style>\n",
       "<table border=\"1\" class=\"dataframe\">\n",
       "  <thead>\n",
       "    <tr style=\"text-align: right;\">\n",
       "      <th></th>\n",
       "      <th>DESCRIPCION</th>\n",
       "      <th>descripcion</th>\n",
       "      <th>Unidad</th>\n",
       "      <th>Medida</th>\n",
       "      <th>periodo</th>\n",
       "    </tr>\n",
       "    <tr>\n",
       "      <th>codigo</th>\n",
       "      <th></th>\n",
       "      <th></th>\n",
       "      <th></th>\n",
       "      <th></th>\n",
       "      <th></th>\n",
       "    </tr>\n",
       "  </thead>\n",
       "  <tbody>\n",
       "    <tr>\n",
       "      <th>423</th>\n",
       "      <td>Node('/BCCR/Tasas de interés/Tasa básica pasiva calculada por el BCCR [423]')</td>\n",
       "      <td>Tasa Básica pasiva bruta calculada por el Banco Central.</td>\n",
       "      <td>Porcentaje</td>\n",
       "      <td>NO DEFINIDO</td>\n",
       "      <td>Diaria</td>\n",
       "    </tr>\n",
       "  </tbody>\n",
       "</table>\n",
       "</div>"
      ],
      "text/plain": [
       "                                                                          DESCRIPCION                                               descripcion      Unidad       Medida periodo\n",
       "codigo                                                                                                                                                                          \n",
       "423     Node('/BCCR/Tasas de interés/Tasa básica pasiva calculada por el BCCR [423]')  Tasa Básica pasiva bruta calculada por el Banco Central.  Porcentaje  NO DEFINIDO  Diaria"
      ]
     },
     "execution_count": 7,
     "metadata": {},
     "output_type": "execute_result"
    }
   ],
   "source": [
    "consulta.buscar(todos='tasa básica pasiva', frecuencia='D')"
   ]
  },
  {
   "cell_type": "code",
   "execution_count": 8,
   "metadata": {
    "Collapsed": "false"
   },
   "outputs": [],
   "source": [
    "indicadores = {'35449':'IMAE',\n",
    "               '25482':'IPC',\n",
    "               '1445':'M1', \n",
    "               '423':'Tbasica'}"
   ]
  },
  {
   "cell_type": "code",
   "execution_count": 9,
   "metadata": {
    "Collapsed": "false"
   },
   "outputs": [
    {
     "data": {
      "text/html": [
       "<div>\n",
       "<style scoped>\n",
       "    .dataframe tbody tr th:only-of-type {\n",
       "        vertical-align: middle;\n",
       "    }\n",
       "\n",
       "    .dataframe tbody tr th {\n",
       "        vertical-align: top;\n",
       "    }\n",
       "\n",
       "    .dataframe thead th {\n",
       "        text-align: right;\n",
       "    }\n",
       "</style>\n",
       "<table border=\"1\" class=\"dataframe\">\n",
       "  <thead>\n",
       "    <tr style=\"text-align: right;\">\n",
       "      <th>variable</th>\n",
       "      <th>IMAE</th>\n",
       "      <th>IPC</th>\n",
       "      <th>M1</th>\n",
       "      <th>Tbasica</th>\n",
       "    </tr>\n",
       "  </thead>\n",
       "  <tbody>\n",
       "    <tr>\n",
       "      <th>1991-01</th>\n",
       "      <td>51.107029</td>\n",
       "      <td>8.064069</td>\n",
       "      <td>6.158123e+04</td>\n",
       "      <td>34.000000</td>\n",
       "    </tr>\n",
       "    <tr>\n",
       "      <th>1991-02</th>\n",
       "      <td>42.664338</td>\n",
       "      <td>8.301969</td>\n",
       "      <td>6.024168e+04</td>\n",
       "      <td>35.000000</td>\n",
       "    </tr>\n",
       "    <tr>\n",
       "      <th>1991-03</th>\n",
       "      <td>40.390182</td>\n",
       "      <td>8.407419</td>\n",
       "      <td>5.942290e+04</td>\n",
       "      <td>33.193548</td>\n",
       "    </tr>\n",
       "    <tr>\n",
       "      <th>1991-04</th>\n",
       "      <td>40.184189</td>\n",
       "      <td>8.644489</td>\n",
       "      <td>6.078601e+04</td>\n",
       "      <td>33.000000</td>\n",
       "    </tr>\n",
       "    <tr>\n",
       "      <th>1991-05</th>\n",
       "      <td>40.275039</td>\n",
       "      <td>8.794029</td>\n",
       "      <td>6.185368e+04</td>\n",
       "      <td>32.500000</td>\n",
       "    </tr>\n",
       "    <tr>\n",
       "      <th>...</th>\n",
       "      <td>...</td>\n",
       "      <td>...</td>\n",
       "      <td>...</td>\n",
       "      <td>...</td>\n",
       "    </tr>\n",
       "    <tr>\n",
       "      <th>2020-02</th>\n",
       "      <td>126.436889</td>\n",
       "      <td>106.535301</td>\n",
       "      <td>4.002822e+06</td>\n",
       "      <td>5.434483</td>\n",
       "    </tr>\n",
       "    <tr>\n",
       "      <th>2020-03</th>\n",
       "      <td>125.242581</td>\n",
       "      <td>106.503097</td>\n",
       "      <td>4.245505e+06</td>\n",
       "      <td>4.437097</td>\n",
       "    </tr>\n",
       "    <tr>\n",
       "      <th>2020-04</th>\n",
       "      <td>108.007939</td>\n",
       "      <td>106.033447</td>\n",
       "      <td>4.614638e+06</td>\n",
       "      <td>3.803333</td>\n",
       "    </tr>\n",
       "    <tr>\n",
       "      <th>2020-05</th>\n",
       "      <td>110.830612</td>\n",
       "      <td>105.879502</td>\n",
       "      <td>4.760278e+06</td>\n",
       "      <td>3.859677</td>\n",
       "    </tr>\n",
       "    <tr>\n",
       "      <th>2020-06</th>\n",
       "      <td>114.093727</td>\n",
       "      <td>105.856915</td>\n",
       "      <td>5.047527e+06</td>\n",
       "      <td>3.870000</td>\n",
       "    </tr>\n",
       "  </tbody>\n",
       "</table>\n",
       "<p>354 rows × 4 columns</p>\n",
       "</div>"
      ],
      "text/plain": [
       "variable        IMAE         IPC            M1    Tbasica\n",
       "1991-01    51.107029    8.064069  6.158123e+04  34.000000\n",
       "1991-02    42.664338    8.301969  6.024168e+04  35.000000\n",
       "1991-03    40.390182    8.407419  5.942290e+04  33.193548\n",
       "1991-04    40.184189    8.644489  6.078601e+04  33.000000\n",
       "1991-05    40.275039    8.794029  6.185368e+04  32.500000\n",
       "...              ...         ...           ...        ...\n",
       "2020-02   126.436889  106.535301  4.002822e+06   5.434483\n",
       "2020-03   125.242581  106.503097  4.245505e+06   4.437097\n",
       "2020-04   108.007939  106.033447  4.614638e+06   3.803333\n",
       "2020-05   110.830612  105.879502  4.760278e+06   3.859677\n",
       "2020-06   114.093727  105.856915  5.047527e+06   3.870000\n",
       "\n",
       "[354 rows x 4 columns]"
      ]
     },
     "execution_count": 9,
     "metadata": {},
     "output_type": "execute_result"
    }
   ],
   "source": [
    "datos = consulta(indicadores, func=np.mean).dropna()\n",
    "datos"
   ]
  },
  {
   "cell_type": "code",
   "execution_count": 10,
   "metadata": {
    "Collapsed": "false"
   },
   "outputs": [],
   "source": [
    "res = ols('M1 ~ IMAE + IPC + Tbasica', data=np.log(datos)).fit()"
   ]
  },
  {
   "cell_type": "code",
   "execution_count": 11,
   "metadata": {
    "Collapsed": "false"
   },
   "outputs": [
    {
     "data": {
      "image/png": "[encoded data removed]",
      "text/plain": [
       "<Figure size 720x360 with 3 Axes>"
      ]
     },
     "metadata": {},
     "output_type": "display_data"
    }
   ],
   "source": [
    "fig = plt.figure(figsize=[10,5], tight_layout=True)\n",
    "gs = gridspec.GridSpec(2, 2)\n",
    "ax = fig.add_subplot(gs[0, :])\n",
    "axs0 = fig.add_subplot(gs[1,0])\n",
    "axs1 = fig.add_subplot(gs[1,1], sharey=axs0)\n",
    "\n",
    "res.resid.plot(title='Residuos de la regresión', ax=ax)\n",
    "\n",
    "OPCIONES = dict(lags=48, alpha=0.05, )\n",
    "sm.graphics.tsa.plot_acf(res.resid, ax=axs0, title='Autocorrelación',**OPCIONES);\n",
    "sm.graphics.tsa.plot_pacf(res.resid, ax=axs1, title='Autocorrelación parcial', **OPCIONES);\n",
    "axs0.set_xticks([0,12,24,36,48])\n",
    "axs1.set_xticks([0,12,24,36,48])\n",
    "\n",
    "fig.savefig('residuos-demanda-dinero.pdf', bbox_inches='tight')"
   ]
  },
  {
   "cell_type": "code",
   "execution_count": 12,
   "metadata": {
    "Collapsed": "false"
   },
   "outputs": [
    {
     "data": {
      "text/html": [
       "<table class=\"simpletable\">\n",
       "<caption>OLS Regression Results</caption>\n",
       "<tr>\n",
       "  <th>Dep. Variable:</th>           <td>M1</td>        <th>  R-squared:         </th> <td>   0.995</td> \n",
       "</tr>\n",
       "<tr>\n",
       "  <th>Model:</th>                   <td>OLS</td>       <th>  Adj. R-squared:    </th> <td>   0.995</td> \n",
       "</tr>\n",
       "<tr>\n",
       "  <th>Method:</th>             <td>Least Squares</td>  <th>  F-statistic:       </th> <td>2.480e+04</td>\n",
       "</tr>\n",
       "<tr>\n",
       "  <th>Date:</th>             <td>Tue, 08 Sep 2020</td> <th>  Prob (F-statistic):</th>  <td>  0.00</td>  \n",
       "</tr>\n",
       "<tr>\n",
       "  <th>Time:</th>                 <td>15:28:40</td>     <th>  Log-Likelihood:    </th> <td>  380.37</td> \n",
       "</tr>\n",
       "<tr>\n",
       "  <th>No. Observations:</th>      <td>   354</td>      <th>  AIC:               </th> <td>  -752.7</td> \n",
       "</tr>\n",
       "<tr>\n",
       "  <th>Df Residuals:</th>          <td>   350</td>      <th>  BIC:               </th> <td>  -737.3</td> \n",
       "</tr>\n",
       "<tr>\n",
       "  <th>Df Model:</th>              <td>     3</td>      <th>                     </th>     <td> </td>    \n",
       "</tr>\n",
       "<tr>\n",
       "  <th>Covariance Type:</th>      <td>nonrobust</td>    <th>                     </th>     <td> </td>    \n",
       "</tr>\n",
       "</table>\n",
       "<table class=\"simpletable\">\n",
       "<tr>\n",
       "      <td></td>         <th>coef</th>     <th>std err</th>      <th>t</th>      <th>P>|t|</th>  <th>[0.025</th>    <th>0.975]</th>  \n",
       "</tr>\n",
       "<tr>\n",
       "  <th>Intercept</th> <td>    5.8627</td> <td>    0.262</td> <td>   22.348</td> <td> 0.000</td> <td>    5.347</td> <td>    6.379</td>\n",
       "</tr>\n",
       "<tr>\n",
       "  <th>IMAE</th>      <td>    1.0827</td> <td>    0.069</td> <td>   15.794</td> <td> 0.000</td> <td>    0.948</td> <td>    1.218</td>\n",
       "</tr>\n",
       "<tr>\n",
       "  <th>IPC</th>       <td>    0.9394</td> <td>    0.024</td> <td>   38.927</td> <td> 0.000</td> <td>    0.892</td> <td>    0.987</td>\n",
       "</tr>\n",
       "<tr>\n",
       "  <th>Tbasica</th>   <td>   -0.2883</td> <td>    0.020</td> <td>  -14.348</td> <td> 0.000</td> <td>   -0.328</td> <td>   -0.249</td>\n",
       "</tr>\n",
       "</table>\n",
       "<table class=\"simpletable\">\n",
       "<tr>\n",
       "  <th>Omnibus:</th>       <td>102.451</td> <th>  Durbin-Watson:     </th> <td>   0.616</td> \n",
       "</tr>\n",
       "<tr>\n",
       "  <th>Prob(Omnibus):</th> <td> 0.000</td>  <th>  Jarque-Bera (JB):  </th> <td> 588.862</td> \n",
       "</tr>\n",
       "<tr>\n",
       "  <th>Skew:</th>          <td> 1.075</td>  <th>  Prob(JB):          </th> <td>1.35e-128</td>\n",
       "</tr>\n",
       "<tr>\n",
       "  <th>Kurtosis:</th>      <td> 8.941</td>  <th>  Cond. No.          </th> <td>    392.</td> \n",
       "</tr>\n",
       "</table><br/><br/>Warnings:<br/>[1] Standard Errors assume that the covariance matrix of the errors is correctly specified."
      ],
      "text/plain": [
       "<class 'statsmodels.iolib.summary.Summary'>\n",
       "\"\"\"\n",
       "                            OLS Regression Results                            \n",
       "==============================================================================\n",
       "Dep. Variable:                     M1   R-squared:                       0.995\n",
       "Model:                            OLS   Adj. R-squared:                  0.995\n",
       "Method:                 Least Squares   F-statistic:                 2.480e+04\n",
       "Date:                Tue, 08 Sep 2020   Prob (F-statistic):               0.00\n",
       "Time:                        15:28:40   Log-Likelihood:                 380.37\n",
       "No. Observations:                 354   AIC:                            -752.7\n",
       "Df Residuals:                     350   BIC:                            -737.3\n",
       "Df Model:                           3                                         \n",
       "Covariance Type:            nonrobust                                         \n",
       "==============================================================================\n",
       "                 coef    std err          t      P>|t|      [0.025      0.975]\n",
       "------------------------------------------------------------------------------\n",
       "Intercept      5.8627      0.262     22.348      0.000       5.347       6.379\n",
       "IMAE           1.0827      0.069     15.794      0.000       0.948       1.218\n",
       "IPC            0.9394      0.024     38.927      0.000       0.892       0.987\n",
       "Tbasica       -0.2883      0.020    -14.348      0.000      -0.328      -0.249\n",
       "==============================================================================\n",
       "Omnibus:                      102.451   Durbin-Watson:                   0.616\n",
       "Prob(Omnibus):                  0.000   Jarque-Bera (JB):              588.862\n",
       "Skew:                           1.075   Prob(JB):                    1.35e-128\n",
       "Kurtosis:                       8.941   Cond. No.                         392.\n",
       "==============================================================================\n",
       "\n",
       "Warnings:\n",
       "[1] Standard Errors assume that the covariance matrix of the errors is correctly specified.\n",
       "\"\"\""
      ]
     },
     "execution_count": 12,
     "metadata": {},
     "output_type": "execute_result"
    }
   ],
   "source": [
    "res.summary()"
   ]
  },
  {
   "cell_type": "code",
   "execution_count": 13,
   "metadata": {
    "Collapsed": "false"
   },
   "outputs": [],
   "source": [
    "sss = res.summary()\n",
    "\n",
    "with open('regresion-M1.tex','w') as file:\n",
    "    file.write(sss.tables[1].as_latex_tabular())"
   ]
  }
 ],
 "metadata": {
  "kernelspec": {
   "display_name": "Python 3",
   "language": "python",
   "name": "python3"
  },
  "language_info": {
   "codemirror_mode": {
    "name": "ipython",
    "version": 3
   },
   "file_extension": ".py",
   "mimetype": "text/x-python",
   "name": "python",
   "nbconvert_exporter": "python",
   "pygments_lexer": "ipython3",
   "version": "3.8.3"
  }
 },
 "nbformat": 4,
 "nbformat_minor": 4
}
