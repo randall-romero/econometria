{
 "cells": [
  {
   "cell_type": "markdown",
   "metadata": {
    "pycharm": {
     "name": "#%% md\n"
    }
   },
   "source": [
    "# Clases y objetos"
   ]
  },
  {
   "cell_type": "markdown",
   "metadata": {
    "slideshow": {
     "slide_type": "slide"
    },
    "pycharm": {
     "name": "#%% md\n"
    }
   },
   "source": [
    "## Diseñando una clase"
   ]
  },
  {
   "cell_type": "markdown",
   "metadata": {
    "pycharm": {
     "name": "#%% md\n"
    }
   },
   "source": [
    "* Una **clases** es una *plantilla* que describe las propiedades que caracterizan a un **objeto**. Cada clases contiene datos (**miembros**) y funciones (**métodos**) que operan sobre los objetos.\n",
    "* Para referirnos a los miembros y métodos de una clase utilizamos la *notación punto*: escribimos el nombre del objeto seguido de un punto y del miembro o método deseado."
   ]
  },
  {
   "cell_type": "markdown",
   "metadata": {
    "slideshow": {
     "slide_type": "slide"
    },
    "pycharm": {
     "name": "#%% md\n"
    }
   },
   "source": [
    "## Ejemplo 1: una cuenta bancaria\n",
    "\n"
   ]
  },
  {
   "cell_type": "markdown",
   "metadata": {
    "pycharm": {
     "name": "#%% md\n"
    }
   },
   "source": [
    "En este ejemplo creamos una clase para representar una **cuenta** bancaria.\n",
    "\n",
    "Los **miembros** que debe guardar un objeto de esta clase son:\n",
    "* `cliente`\n",
    "* `saldo`\n",
    "* `número`\n",
    "* `fecha_apertura`\n",
    "\n",
    "Los **métodos** que debe ejecutar la cuenta son\n",
    "* `depositar()`\n",
    "* `retirar()`\n",
    "* `transferir()`\n",
    "\n",
    "Además, debemos implementar estos métodos:\n",
    "* `__init__()`  cómo se abre una cuenta\n",
    "* `__repr__()`  cómo se imprime una cuenta\n",
    "\n",
    "Finalmente, el método **transferir** debe verificar que la cuenta de destino exista."
   ]
  },
  {
   "cell_type": "code",
   "execution_count": 1,
   "metadata": {
    "pycharm": {
     "name": "#%%\n"
    }
   },
   "outputs": [],
   "source": [
    "from datetime import datetime"
   ]
  },
  {
   "cell_type": "code",
   "execution_count": 2,
   "metadata": {
    "pycharm": {
     "name": "#%%\n"
    }
   },
   "outputs": [],
   "source": [
    "class cuenta:\n",
    "    total_abiertas = 0\n",
    "    existentes = dict()\n",
    "    \n",
    "    def __init__(self, cliente):\n",
    "        cuenta.total_abiertas += 1\n",
    "        self.cliente = cliente\n",
    "        self.saldo = 0\n",
    "        self.número = f'UCR{cuenta.total_abiertas:04d}'\n",
    "        self.fecha_apertura = datetime.now()\n",
    "        cuenta.existentes[self.número] = self\n",
    "        print(f\"Se ha abierto la cuenta {self.número} a nombre de {self.cliente} el {self.fecha_apertura}\")\n",
    "        \n",
    "    def __repr__(self):\n",
    "        return f\"Cuenta {self.número}, cliente {self.cliente}, saldo = {self.saldo}\"\n",
    "    \n",
    "    def depositar(self, monto):\n",
    "        if monto < 0:\n",
    "            print(\"ERROR: monto no puede ser negativo\")\n",
    "        else:\n",
    "            self.saldo += monto\n",
    "            print(f\"Se depositó {monto} en la cuenta {self.número}. Nuevo saldo es {self.saldo}\")\n",
    "            \n",
    "    def retirar(self, monto):\n",
    "        if monto < 0:\n",
    "            print(\"ERROR: monto no puede ser negativo\")\n",
    "        elif monto > self.saldo:\n",
    "            print(\"ERROR: fondos insuficientes\")\n",
    "        else:\n",
    "            self.saldo -= monto\n",
    "            print(f\"Se retiró {monto} en la cuenta {self.número}. Nuevo saldo es {self.saldo}\")\n",
    "    \n",
    "    def transferir(self, monto, otra_cuenta):\n",
    "        if monto < 0:\n",
    "            print(\"ERROR: monto no puede ser negativo\")\n",
    "        elif monto > self.saldo:\n",
    "            print(\"ERROR: fondos insuficientes\")\n",
    "        if otra_cuenta not in cuenta.existentes:\n",
    "            print(\"ERROR: cuenta destino no existe.\")\n",
    "        else:\n",
    "            self.saldo -= monto\n",
    "            cuenta.existentes[otra_cuenta].saldo += monto\n",
    "            print(f\"Se transfirió {monto} de la cuenta {self.número} a la cuenta {otra_cuenta}.\")\n",
    "       \n",
    "            "
   ]
  },
  {
   "cell_type": "markdown",
   "metadata": {
    "pycharm": {
     "name": "#%% md\n"
    }
   },
   "source": [
    "Para probar la clase, abramos la cuenta `cta1` a nombre de \"Rodrigo\" y la cuenta `cta2` a nombre de \"Pedro\""
   ]
  },
  {
   "cell_type": "code",
   "execution_count": 3,
   "metadata": {
    "pycharm": {
     "name": "#%%\n"
    }
   },
   "outputs": [
    {
     "name": "stdout",
     "output_type": "stream",
     "text": [
      "Se ha abierto la cuenta UCR0001 a nombre de Rodrigo el 2022-03-27 19:06:38.498920\n",
      "Se ha abierto la cuenta UCR0002 a nombre de Pedro el 2022-03-27 19:06:38.498920\n"
     ]
    }
   ],
   "source": [
    " cta1 = cuenta(\"Rodrigo\")\n",
    " cta2 = cuenta(\"Pedro\")  "
   ]
  },
  {
   "cell_type": "markdown",
   "metadata": {
    "pycharm": {
     "name": "#%% md\n"
    }
   },
   "source": [
    "Depositamos 400 en la cuenta de \"Rodrigo\""
   ]
  },
  {
   "cell_type": "code",
   "execution_count": 4,
   "metadata": {
    "pycharm": {
     "name": "#%%\n"
    }
   },
   "outputs": [
    {
     "name": "stdout",
     "output_type": "stream",
     "text": [
      "Se depositó 400 en la cuenta UCR0001. Nuevo saldo es 400\n"
     ]
    },
    {
     "data": {
      "text/plain": [
       "Cuenta UCR0001, cliente Rodrigo, saldo = 400"
      ]
     },
     "execution_count": 4,
     "metadata": {},
     "output_type": "execute_result"
    }
   ],
   "source": [
    "cta1.depositar(400)\n",
    "cta1"
   ]
  },
  {
   "cell_type": "markdown",
   "metadata": {
    "pycharm": {
     "name": "#%% md\n"
    }
   },
   "source": [
    "Rodrigo le transfiere 200 a Pedro"
   ]
  },
  {
   "cell_type": "code",
   "execution_count": 5,
   "metadata": {
    "pycharm": {
     "name": "#%%\n"
    }
   },
   "outputs": [
    {
     "name": "stdout",
     "output_type": "stream",
     "text": [
      "Se transfirió 200 de la cuenta UCR0001 a la cuenta UCR0002.\n"
     ]
    }
   ],
   "source": [
    "cta1.transferir(200, \"UCR0002\")"
   ]
  },
  {
   "cell_type": "markdown",
   "metadata": {
    "pycharm": {
     "name": "#%% md\n"
    }
   },
   "source": [
    "Revisamos las cuentas existentes"
   ]
  },
  {
   "cell_type": "code",
   "execution_count": 6,
   "metadata": {
    "pycharm": {
     "name": "#%%\n"
    }
   },
   "outputs": [
    {
     "data": {
      "text/plain": [
       "{'UCR0001': Cuenta UCR0001, cliente Rodrigo, saldo = 200,\n",
       " 'UCR0002': Cuenta UCR0002, cliente Pedro, saldo = 200}"
      ]
     },
     "execution_count": 6,
     "metadata": {},
     "output_type": "execute_result"
    }
   ],
   "source": [
    "cuenta.existentes"
   ]
  },
  {
   "cell_type": "markdown",
   "metadata": {
    "pycharm": {
     "name": "#%% md\n"
    }
   },
   "source": [
    "Revisamos el saldo de Pedro"
   ]
  },
  {
   "cell_type": "code",
   "execution_count": 7,
   "metadata": {
    "pycharm": {
     "name": "#%%\n"
    }
   },
   "outputs": [
    {
     "data": {
      "text/plain": [
       "200"
      ]
     },
     "execution_count": 7,
     "metadata": {},
     "output_type": "execute_result"
    }
   ],
   "source": [
    "cta2.saldo"
   ]
  },
  {
   "cell_type": "markdown",
   "metadata": {
    "pycharm": {
     "name": "#%% md\n"
    }
   },
   "source": [
    "Rodrigo retira 200 colones."
   ]
  },
  {
   "cell_type": "code",
   "execution_count": 8,
   "metadata": {
    "pycharm": {
     "name": "#%%\n"
    }
   },
   "outputs": [
    {
     "name": "stdout",
     "output_type": "stream",
     "text": [
      "Se retiró 200 en la cuenta UCR0001. Nuevo saldo es 0\n"
     ]
    }
   ],
   "source": [
    "cta1.retirar(200)"
   ]
  },
  {
   "cell_type": "markdown",
   "metadata": {
    "pycharm": {
     "name": "#%% md\n"
    }
   },
   "source": [
    "Pedro intenta retirar un monto superior a su saldo"
   ]
  },
  {
   "cell_type": "code",
   "execution_count": 9,
   "metadata": {
    "pycharm": {
     "name": "#%%\n"
    }
   },
   "outputs": [
    {
     "name": "stdout",
     "output_type": "stream",
     "text": [
      "ERROR: fondos insuficientes\n"
     ]
    }
   ],
   "source": [
    "cta2.retirar(3600)"
   ]
  },
  {
   "cell_type": "markdown",
   "metadata": {
    "pycharm": {
     "name": "#%% md\n"
    }
   },
   "source": [
    "Por último, volvemos a revisar las cuentas."
   ]
  },
  {
   "cell_type": "code",
   "execution_count": 10,
   "metadata": {
    "pycharm": {
     "name": "#%%\n"
    }
   },
   "outputs": [
    {
     "data": {
      "text/plain": [
       "{'UCR0001': Cuenta UCR0001, cliente Rodrigo, saldo = 0,\n",
       " 'UCR0002': Cuenta UCR0002, cliente Pedro, saldo = 200}"
      ]
     },
     "execution_count": 10,
     "metadata": {},
     "output_type": "execute_result"
    }
   ],
   "source": [
    "cuenta.existentes"
   ]
  },
  {
   "cell_type": "markdown",
   "metadata": {
    "slideshow": {
     "slide_type": "slide"
    },
    "pycharm": {
     "name": "#%% md\n"
    }
   },
   "source": [
    "## Ejemplo 2: un polinomio\n"
   ]
  },
  {
   "cell_type": "markdown",
   "metadata": {
    "pycharm": {
     "name": "#%% md\n"
    }
   },
   "source": [
    "En este ejemplo creamos una clase para representar un **polinomio**.\n",
    "\n",
    "\\begin{equation}\n",
    "P(x) = c_0 + c_1x + c_2x^2 + \\dots c_nx^n, \\qquad c_n=0\n",
    "\\end{equation}\n",
    "\n",
    "\n",
    "\n",
    "\n",
    "Los **miembros** que debe guardar un objeto de esta clase son:\n",
    "* `coefs` = $[c_0, c_1, c_2, \\dots, c_n]$\n",
    "* `grado` = $n$\n",
    "\n",
    "Los **métodos** que debe ejecutar la cuenta son\n",
    "* `simplificar()` para eliminar los monomios de mayor grado que tengan coeficiente cero\n",
    "* `plot()` para graficar el polinomio\n",
    "\n",
    "Además, debemos implementar estos métodos:\n",
    "* `__init__()`  cómo se crea un polinomio\n",
    "* `__repr__()`  cómo se imprime un polinomio\n",
    "* `__add__()`   para sumar dos polinomios\n",
    "* `__call__()`  para evaluar un polinomio"
   ]
  },
  {
   "cell_type": "code",
   "execution_count": 3,
   "metadata": {
    "pycharm": {
     "name": "#%%\n"
    }
   },
   "outputs": [],
   "source": [
    "import numpy as np\n",
    "import pandas as pd\n",
    "import matplotlib.pyplot as plt"
   ]
  },
  {
   "cell_type": "code",
   "execution_count": 12,
   "metadata": {
    "pycharm": {
     "name": "#%%\n"
    }
   },
   "outputs": [],
   "source": [
    "class polinomio:\n",
    "    \n",
    "    def __init__(self, *coeficientes):\n",
    "        self.coefs = np.array(coeficientes)\n",
    "        self.simplificar()\n",
    "        self.grado = len(self.coefs) - 1\n",
    "        \n",
    "    def __repr__(self):\n",
    "        monomios = [f\"{c if c!=1 else ''}{'x' if k else ''}{f'^{k}' if k>1 else''}\" for k, c in enumerate(self.coefs) if c!=0]\n",
    "        return ' + '.join(monomios)\n",
    "    \n",
    "    def simplificar(self):\n",
    "        coefs = list(self.coefs)\n",
    "        while coefs[-1] == 0:\n",
    "            coefs.pop()\n",
    "        self.coefs = np.array(coefs)\n",
    "    \n",
    "    def __add__(self, otro):\n",
    "        grado = max(self.grado, otro.grado)\n",
    "        coefs = np.zeros(1 + grado)\n",
    "        coefs[:self.grado+1] = self.coefs\n",
    "        coefs[:otro.grado+1] += otro.coefs\n",
    "        return polinomio( *coefs  ) \n",
    "        \n",
    "    def __call__(self, x):\n",
    "        resultado = np.zeros_like(x)\n",
    "        for coef in self.coefs[-1:0:-1]:\n",
    "            resultado += coef\n",
    "            resultado *= x\n",
    "        return resultado + self.coefs[0]\n",
    "    \n",
    "    def plot(self, ax, a, b, n=121, **kwargs):       \n",
    "        x = np.linspace(a, b, n)\n",
    "        ax.plot(x, self(x), **kwargs)\n",
    "        ax.set_title(str(self))\n",
    "        return ax"
   ]
  },
  {
   "cell_type": "markdown",
   "metadata": {
    "pycharm": {
     "name": "#%% md\n"
    }
   },
   "source": [
    "Creamos el polinomio $P(x)= 9 + 2x^2 +2x^3$"
   ]
  },
  {
   "cell_type": "code",
   "execution_count": 13,
   "metadata": {
    "pycharm": {
     "name": "#%%\n"
    }
   },
   "outputs": [
    {
     "data": {
      "text/plain": [
       "9 + 2x^2 + 2x^3"
      ]
     },
     "execution_count": 13,
     "metadata": {},
     "output_type": "execute_result"
    }
   ],
   "source": [
    "P = polinomio(9, 0, 2, 2)\n",
    "P"
   ]
  },
  {
   "cell_type": "markdown",
   "metadata": {
    "pycharm": {
     "name": "#%% md\n"
    }
   },
   "source": [
    "Creamos el polinomio $Q(x) = 3 + x + x^2 -2x^3$"
   ]
  },
  {
   "cell_type": "code",
   "execution_count": 14,
   "metadata": {
    "pycharm": {
     "name": "#%%\n"
    }
   },
   "outputs": [
    {
     "data": {
      "text/plain": [
       "3 + x + x^2 + -2x^3"
      ]
     },
     "execution_count": 14,
     "metadata": {},
     "output_type": "execute_result"
    }
   ],
   "source": [
    "Q = polinomio(3,1,1,-2)\n",
    "Q"
   ]
  },
  {
   "cell_type": "markdown",
   "metadata": {
    "pycharm": {
     "name": "#%% md\n"
    }
   },
   "source": [
    "Sumamos los dos polinomios: $R(x) = P(x) + Q(x)$"
   ]
  },
  {
   "cell_type": "code",
   "execution_count": 15,
   "metadata": {
    "pycharm": {
     "name": "#%%\n"
    }
   },
   "outputs": [
    {
     "data": {
      "text/plain": [
       "12.0 + x + 3.0x^2"
      ]
     },
     "execution_count": 15,
     "metadata": {},
     "output_type": "execute_result"
    }
   ],
   "source": [
    "R = P + Q\n",
    "R"
   ]
  },
  {
   "cell_type": "markdown",
   "metadata": {
    "pycharm": {
     "name": "#%% md\n"
    }
   },
   "source": [
    "Graficamos los 3 polinomios en una figura, en el rango $x\\in[-2,2]$, cada uno en su propio eje de coordenadas."
   ]
  },
  {
   "cell_type": "code",
   "execution_count": 16,
   "metadata": {
    "pycharm": {
     "name": "#%%\n"
    }
   },
   "outputs": [
    {
     "data": {
      "text/plain": [
       "<AxesSubplot:title={'center':'12.0 + x + 3.0x^2'}>"
      ]
     },
     "execution_count": 16,
     "metadata": {},
     "output_type": "execute_result"
    },
    {
     "data": {
      "image/png": "[encoded data removed]",
      "text/plain": [
       "<Figure size 648x648 with 3 Axes>"
      ]
     },
     "metadata": {
      "needs_background": "light"
     },
     "output_type": "display_data"
    }
   ],
   "source": [
    "fig, axs = plt.subplots(3,1, figsize=[9,9], sharex=True)\n",
    "P.plot(axs[0], -2,2)\n",
    "Q.plot(axs[1], -2,2, color='orchid')\n",
    "R.plot(axs[2], -2,2, color='skyblue', linewidth=5)"
   ]
  },
  {
   "cell_type": "markdown",
   "source": [
    "## Ejemplo 3: un modelo de regresión lineal"
   ],
   "metadata": {
    "collapsed": false,
    "pycharm": {
     "name": "#%% md\n"
    }
   }
  },
  {
   "cell_type": "code",
   "execution_count": 4,
   "outputs": [],
   "source": [
    "class RegresiónLineal:\n",
    "\n",
    "    def __init__(self, y: str, X: str, data):\n",
    "        X = X.split()\n",
    "        variables = [y] + X\n",
    "        datos = data[variables].dropna(how='any')\n",
    "\n",
    "        self.y = datos[[y]]                        # variable endógena\n",
    "        self.X = datos[variables]                  # variables exógenas\n",
    "        self.X.iloc[:, 0] = 1.0                    # intercepto\n",
    "        self.residuos = np.zeros_like(self.y)      # residuos\n",
    "        self.names = dict(X = ['intercepto'] + X, y = y)  # nombres de las variables\n",
    "        self.nobs, self.nvar = self.X.shape        # número de observaciones y de variables\n",
    "\n",
    "    def ols(self):\n",
    "        \"\"\"\n",
    "        ols: Estima una regresión lineal con mínimos cuadrados ordinarios\n",
    "        \"\"\"\n",
    "        y, X = self.y.values, self.X.values  # extraer datos como arrays de numpy\n",
    "        xpxi = np.linalg.inv(X.T @ X)        # (X'X)^{-1}\n",
    "        beta = xpxi @ (X.T @ y)              # estimador mínimos cuadrados\n",
    "        yhat = X @ beta                      # valores ajustados\n",
    "        resid = y - yhat                     # residuos\n",
    "        sigu = (resid**2).sum()              # sumatoria de residuos al cuadrado\n",
    "        sige = sigu / (self.nobs - self.nvar)  # varianza estimada del término de error\n",
    "        bstd = np.sqrt(sige * np.diag(xpxi))   # error estándar de los coeficientes estimados\n",
    "\n",
    "\n",
    "        tstat = beta.T / bstd                 # estadístico t-Student\n",
    "        rsqr2 = ((y - y.mean())**2).sum()     # suma de cuadrados de (desviación respecto a la media) de los datos endógenos\n",
    "        R2 = 1.0 - sigu * rsqr2               # estadístico R^2\n",
    "\n",
    "        as_series = lambda coef, name: pd.Series(coef.flatten(), index = self.names['X'], name=name) # función para convertir en serie (etiquetada) los parámetros estimados\n",
    "\n",
    "        self.beta = as_series(beta, 'beta')\n",
    "        self.bstd = as_series(bstd, 'bstd')\n",
    "        self.tstat = as_series(tstat, 'tstat')\n",
    "        self.residuos = resid\n",
    "\n",
    "        self.yhat = yhat\n",
    "\n",
    "    def resumen(self):\n",
    "        return pd.concat([self.beta, self.bstd, self.tstat], axis=1)"
   ],
   "metadata": {
    "collapsed": false,
    "pycharm": {
     "name": "#%%\n"
    }
   }
  },
  {
   "cell_type": "code",
   "execution_count": 5,
   "outputs": [
    {
     "data": {
      "text/plain": "                beta      bstd      tstat\nintercepto  0.935763  0.092340  10.133861\nC           1.548043  0.097660  15.851386\nG           0.779599  0.100384   7.766181",
      "text/html": "<div>\n<style scoped>\n    .dataframe tbody tr th:only-of-type {\n        vertical-align: middle;\n    }\n\n    .dataframe tbody tr th {\n        vertical-align: top;\n    }\n\n    .dataframe thead th {\n        text-align: right;\n    }\n</style>\n<table border=\"1\" class=\"dataframe\">\n  <thead>\n    <tr style=\"text-align: right;\">\n      <th></th>\n      <th>beta</th>\n      <th>bstd</th>\n      <th>tstat</th>\n    </tr>\n  </thead>\n  <tbody>\n    <tr>\n      <th>intercepto</th>\n      <td>0.935763</td>\n      <td>0.092340</td>\n      <td>10.133861</td>\n    </tr>\n    <tr>\n      <th>C</th>\n      <td>1.548043</td>\n      <td>0.097660</td>\n      <td>15.851386</td>\n    </tr>\n    <tr>\n      <th>G</th>\n      <td>0.779599</td>\n      <td>0.100384</td>\n      <td>7.766181</td>\n    </tr>\n  </tbody>\n</table>\n</div>"
     },
     "execution_count": 5,
     "metadata": {},
     "output_type": "execute_result"
    }
   ],
   "source": [
    "X = np.random.randn(100, 2)\n",
    "e = np.random.randn(100, 1)\n",
    "beta = np.array([[1.5], [0.8]])\n",
    "\n",
    "y = 1.0 + X @ beta + e\n",
    "\n",
    "data = pd.DataFrame(np.c_[y,X], columns = ['PIB', 'C', 'G'])\n",
    "\n",
    "modelo = RegresiónLineal('PIB', 'C G', data)\n",
    "\n",
    "modelo.ols()\n",
    "modelo.resumen()"
   ],
   "metadata": {
    "collapsed": false,
    "pycharm": {
     "name": "#%%\n"
    }
   }
  }
 ],
 "metadata": {
  "kernel_info": {
   "name": "python3"
  },
  "kernelspec": {
   "display_name": "Python 3 (ipykernel)",
   "language": "python",
   "name": "python3"
  },
  "language_info": {
   "codemirror_mode": {
    "name": "ipython",
    "version": 3
   },
   "file_extension": ".py",
   "mimetype": "text/x-python",
   "name": "python",
   "nbconvert_exporter": "python",
   "pygments_lexer": "ipython3",
   "version": "3.9.7"
  },
  "nteract": {
   "version": "0.14.3"
  },
  "toc-autonumbering": false,
  "toc-showtags": false
 },
 "nbformat": 4,
 "nbformat_minor": 4
}