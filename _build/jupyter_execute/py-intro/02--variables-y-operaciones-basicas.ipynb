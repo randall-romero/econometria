{
 "cells": [
  {
   "cell_type": "markdown",
   "id": "solar-influence",
   "metadata": {},
   "source": [
    "# Variables y operaciones básicas\n",
    "\n",
    "En este cuaderno hacemos una pequeña introducción al lenguage de programación Python.\n",
    "\n",
    "## Utilizando variables\n",
    "\n",
    "* Una variable es un contenedor en el cual un dato puede almacenarse en la memoria de la computadora.\n",
    "* El valor almacenado puede luego ser referido usando el nombre de la variable."
   ]
  },
  {
   "cell_type": "code",
   "execution_count": 1,
   "id": "single-subsection",
   "metadata": {},
   "outputs": [
    {
     "name": "stdout",
     "output_type": "stream",
     "text": [
      "3\n",
      "3.14\n",
      "Fulano y Mengano\n",
      "True\n"
     ]
    }
   ],
   "source": [
    "mosqueteros = 3\n",
    "pi = 3.14\n",
    "nombres = \"Fulano y Mengano\"\n",
    "hoyLlueve = True\n",
    "\n",
    "print(mosqueteros, pi, nombres, hoyLlueve, sep=\"\\n\")"
   ]
  },
  {
   "cell_type": "markdown",
   "id": "known-reach",
   "metadata": {},
   "source": [
    "## Tipos de datos básicos\n",
    "\n",
    "Hay cuatro tipos básicos de datos\n",
    "* `int` enteros\n",
    "* `float` punto flotantes (números decimales)\n",
    "* `bool` boolean (True o False)\n",
    "* `str` texto"
   ]
  },
  {
   "cell_type": "code",
   "execution_count": 2,
   "id": "engaged-plastic",
   "metadata": {},
   "outputs": [
    {
     "data": {
      "text/plain": [
       "int"
      ]
     },
     "execution_count": 2,
     "metadata": {},
     "output_type": "execute_result"
    }
   ],
   "source": [
    "type(mosqueteros)"
   ]
  },
  {
   "cell_type": "code",
   "execution_count": 3,
   "id": "african-alpha",
   "metadata": {},
   "outputs": [
    {
     "data": {
      "text/plain": [
       "str"
      ]
     },
     "execution_count": 3,
     "metadata": {},
     "output_type": "execute_result"
    }
   ],
   "source": [
    "type(nombres)"
   ]
  },
  {
   "cell_type": "code",
   "execution_count": 4,
   "id": "intellectual-creator",
   "metadata": {},
   "outputs": [
    {
     "data": {
      "text/plain": [
       "float"
      ]
     },
     "execution_count": 4,
     "metadata": {},
     "output_type": "execute_result"
    }
   ],
   "source": [
    "type(pi)"
   ]
  },
  {
   "cell_type": "code",
   "execution_count": 5,
   "id": "alike-badge",
   "metadata": {},
   "outputs": [
    {
     "data": {
      "text/plain": [
       "bool"
      ]
     },
     "execution_count": 5,
     "metadata": {},
     "output_type": "execute_result"
    }
   ],
   "source": [
    "type(hoyLlueve)"
   ]
  },
  {
   "cell_type": "markdown",
   "id": "anonymous-commander",
   "metadata": {},
   "source": [
    "```{warning} Cuidado con float:\n",
    "Los floats en general representan **aproximaciones** de los números reales. No siempre son los números exactos porque hay errores de redondeo al almacenar un número en binario con un tamaño finito.\n",
    "```\n",
    "\n",
    "Por ejemplo,"
   ]
  },
  {
   "cell_type": "code",
   "execution_count": 6,
   "id": "proprietary-favorite",
   "metadata": {},
   "outputs": [
    {
     "data": {
      "text/plain": [
       "0.0"
      ]
     },
     "execution_count": 6,
     "metadata": {},
     "output_type": "execute_result"
    }
   ],
   "source": [
    "(1e-18 + 1) - 1"
   ]
  },
  {
   "cell_type": "code",
   "execution_count": 7,
   "id": "painted-scratch",
   "metadata": {},
   "outputs": [
    {
     "data": {
      "text/plain": [
       "1e-18"
      ]
     },
     "execution_count": 7,
     "metadata": {},
     "output_type": "execute_result"
    }
   ],
   "source": [
    "1e-18 + (1 - 1)"
   ]
  },
  {
   "cell_type": "code",
   "execution_count": 8,
   "id": "generous-blast",
   "metadata": {},
   "outputs": [
    {
     "name": "stdout",
     "output_type": "stream",
     "text": [
      "A 24 decimales, z = 0.1 queda almacenado como 0.100000000000000005551115\n"
     ]
    }
   ],
   "source": [
    "z = 0.1\n",
    "print(f\"A 24 decimales, z = 0.1 queda almacenado como {z:.24f}\")"
   ]
  },
  {
   "cell_type": "markdown",
   "id": "floppy-distribution",
   "metadata": {},
   "source": [
    "## Tipos de colecciones\n",
    "\n",
    "Los tipos de colecciones más utilizados son\n",
    "* `list` una lista ordenada y mutable de valores\n",
    "* `tuple` una lista ordenada e inmutable de valores\n",
    "* `set` una lista mutable pero no ordenada de valores\n",
    "* `dict` un diccionario no ordenado\n",
    "\n",
    "Aquí vemos cómo se crean, {ref}`más adelante<py-sec-colecciones>` estudiaremos su utilidad."
   ]
  },
  {
   "cell_type": "code",
   "execution_count": 9,
   "id": "employed-kruger",
   "metadata": {},
   "outputs": [],
   "source": [
    "colores = ['azul', 'rojo', 'verde']   # list\n",
    "primos = (2,3,5,7)  # tuple\n",
    "inflacion = {'CRI': 2.0, 'SLV': 0.8, 'GTM': 4.0,\n",
    "             'HND': 4.0, 'NIC': 5.2, 'DOM': 4.5}  # dict\n",
    "cuadrados = {1,1,1,4,4,9,9,16}  # set"
   ]
  },
  {
   "cell_type": "markdown",
   "id": "environmental-enterprise",
   "metadata": {},
   "source": [
    "## Definiendo múltiples variables\n",
    "En Python es posible definir varias variables en una sola instrucción:"
   ]
  },
  {
   "cell_type": "code",
   "execution_count": 10,
   "id": "colonial-wrist",
   "metadata": {},
   "outputs": [],
   "source": [
    "n, a, b = 12, -2.0, 2.0"
   ]
  },
  {
   "cell_type": "code",
   "execution_count": 11,
   "id": "critical-philippines",
   "metadata": {},
   "outputs": [],
   "source": [
    "x = y = z = 1"
   ]
  },
  {
   "cell_type": "code",
   "execution_count": 12,
   "id": "foreign-appreciation",
   "metadata": {},
   "outputs": [
    {
     "data": {
      "text/plain": [
       "1"
      ]
     },
     "execution_count": 12,
     "metadata": {},
     "output_type": "execute_result"
    }
   ],
   "source": [
    "y"
   ]
  },
  {
   "cell_type": "markdown",
   "id": "sunrise-figure",
   "metadata": {},
   "source": [
    "## Cambiando tipos de datos: *casting*"
   ]
  },
  {
   "cell_type": "code",
   "execution_count": 13,
   "id": "broke-carbon",
   "metadata": {},
   "outputs": [
    {
     "data": {
      "text/plain": [
       "'84'"
      ]
     },
     "execution_count": 13,
     "metadata": {},
     "output_type": "execute_result"
    }
   ],
   "source": [
    "'8' + '4'"
   ]
  },
  {
   "cell_type": "code",
   "execution_count": 14,
   "id": "native-harrison",
   "metadata": {},
   "outputs": [
    {
     "data": {
      "text/plain": [
       "'8888'"
      ]
     },
     "execution_count": 14,
     "metadata": {},
     "output_type": "execute_result"
    }
   ],
   "source": [
    "'8' * 4"
   ]
  },
  {
   "cell_type": "markdown",
   "id": "light-orbit",
   "metadata": {},
   "source": [
    "### ```int(x)``` Convierte ```x``` a un número entero"
   ]
  },
  {
   "cell_type": "code",
   "execution_count": 15,
   "id": "cultural-newark",
   "metadata": {},
   "outputs": [
    {
     "data": {
      "text/plain": [
       "12"
      ]
     },
     "execution_count": 15,
     "metadata": {},
     "output_type": "execute_result"
    }
   ],
   "source": [
    "int('8') + int('4')"
   ]
  },
  {
   "cell_type": "markdown",
   "id": "rolled-geneva",
   "metadata": {},
   "source": [
    "### ```float(x)``` Convierte ```x``` a un número de punto flotante"
   ]
  },
  {
   "cell_type": "code",
   "execution_count": 16,
   "id": "toxic-illinois",
   "metadata": {},
   "outputs": [
    {
     "data": {
      "text/plain": [
       "12.0"
      ]
     },
     "execution_count": 16,
     "metadata": {},
     "output_type": "execute_result"
    }
   ],
   "source": [
    "float('8') + float('4')"
   ]
  },
  {
   "cell_type": "markdown",
   "id": "induced-mambo",
   "metadata": {},
   "source": [
    "### ```str(x)``` Convierte ```x``` a una representación de texto"
   ]
  },
  {
   "cell_type": "code",
   "execution_count": 17,
   "id": "cheap-ireland",
   "metadata": {},
   "outputs": [
    {
     "data": {
      "text/plain": [
       "'84'"
      ]
     },
     "execution_count": 17,
     "metadata": {},
     "output_type": "execute_result"
    }
   ],
   "source": [
    "str(8) + str(4)"
   ]
  },
  {
   "cell_type": "markdown",
   "id": "usual-headset",
   "metadata": {},
   "source": [
    "## Operaciones aritméticos\n",
    "\n",
    "\n",
    "### Suma:  `+`"
   ]
  },
  {
   "cell_type": "code",
   "execution_count": 18,
   "id": "closing-response",
   "metadata": {},
   "outputs": [
    {
     "data": {
      "text/plain": [
       "5"
      ]
     },
     "execution_count": 18,
     "metadata": {},
     "output_type": "execute_result"
    }
   ],
   "source": [
    "2 + 3"
   ]
  },
  {
   "cell_type": "markdown",
   "id": "suspended-keyboard",
   "metadata": {},
   "source": [
    "### Resta:  `-`"
   ]
  },
  {
   "cell_type": "code",
   "execution_count": 19,
   "id": "alpine-generator",
   "metadata": {},
   "outputs": [
    {
     "data": {
      "text/plain": [
       "4.0"
      ]
     },
     "execution_count": 19,
     "metadata": {},
     "output_type": "execute_result"
    }
   ],
   "source": [
    "5 - 1.0"
   ]
  },
  {
   "cell_type": "markdown",
   "id": "still-southeast",
   "metadata": {},
   "source": [
    "### Multiplicación:  `*`"
   ]
  },
  {
   "cell_type": "code",
   "execution_count": 20,
   "id": "sixth-sound",
   "metadata": {},
   "outputs": [
    {
     "data": {
      "text/plain": [
       "16"
      ]
     },
     "execution_count": 20,
     "metadata": {},
     "output_type": "execute_result"
    }
   ],
   "source": [
    "4 * 4"
   ]
  },
  {
   "cell_type": "markdown",
   "id": "insured-coating",
   "metadata": {},
   "source": [
    "### División:   `/`"
   ]
  },
  {
   "cell_type": "code",
   "execution_count": 21,
   "id": "tracked-coordinator",
   "metadata": {},
   "outputs": [
    {
     "data": {
      "text/plain": [
       "3.0"
      ]
     },
     "execution_count": 21,
     "metadata": {},
     "output_type": "execute_result"
    }
   ],
   "source": [
    "9 / 3"
   ]
  },
  {
   "cell_type": "markdown",
   "id": "comprehensive-courage",
   "metadata": {},
   "source": [
    "### Módulo:  `%`"
   ]
  },
  {
   "cell_type": "code",
   "execution_count": 22,
   "id": "norwegian-evolution",
   "metadata": {},
   "outputs": [
    {
     "data": {
      "text/plain": [
       "1"
      ]
     },
     "execution_count": 22,
     "metadata": {},
     "output_type": "execute_result"
    }
   ],
   "source": [
    "10 % 3"
   ]
  },
  {
   "cell_type": "markdown",
   "id": "actual-facility",
   "metadata": {},
   "source": [
    "### División entera:  `//`"
   ]
  },
  {
   "cell_type": "code",
   "execution_count": 23,
   "id": "prerequisite-equality",
   "metadata": {},
   "outputs": [
    {
     "data": {
      "text/plain": [
       "3"
      ]
     },
     "execution_count": 23,
     "metadata": {},
     "output_type": "execute_result"
    }
   ],
   "source": [
    "10 // 3"
   ]
  },
  {
   "cell_type": "markdown",
   "id": "partial-soccer",
   "metadata": {},
   "source": [
    "### Exponente:  `**`"
   ]
  },
  {
   "cell_type": "code",
   "execution_count": 24,
   "id": "french-kansas",
   "metadata": {},
   "outputs": [
    {
     "data": {
      "text/plain": [
       "25"
      ]
     },
     "execution_count": 24,
     "metadata": {},
     "output_type": "execute_result"
    }
   ],
   "source": [
    "5 ** 2"
   ]
  },
  {
   "cell_type": "markdown",
   "id": "southwest-tokyo",
   "metadata": {},
   "source": [
    "## Asignando valores por medio de operadores\n",
    "\n",
    "### a `=` b    $\\qquad\\Rightarrow\\qquad$ a = b"
   ]
  },
  {
   "cell_type": "code",
   "execution_count": 25,
   "id": "extreme-bosnia",
   "metadata": {},
   "outputs": [
    {
     "data": {
      "text/plain": [
       "3"
      ]
     },
     "execution_count": 25,
     "metadata": {},
     "output_type": "execute_result"
    }
   ],
   "source": [
    "x = 2 + 1\n",
    "x"
   ]
  },
  {
   "cell_type": "markdown",
   "id": "limited-argument",
   "metadata": {},
   "source": [
    "### a `+=` b    $\\qquad\\Rightarrow\\qquad$ a = a + b"
   ]
  },
  {
   "cell_type": "code",
   "execution_count": 26,
   "id": "atlantic-surname",
   "metadata": {},
   "outputs": [
    {
     "data": {
      "text/plain": [
       "4"
      ]
     },
     "execution_count": 26,
     "metadata": {},
     "output_type": "execute_result"
    }
   ],
   "source": [
    "x += 1\n",
    "x"
   ]
  },
  {
   "cell_type": "markdown",
   "id": "collaborative-bermuda",
   "metadata": {},
   "source": [
    "### a `-=` b    $\\qquad\\Rightarrow\\qquad$ a = a - b"
   ]
  },
  {
   "cell_type": "code",
   "execution_count": 27,
   "id": "canadian-mitchell",
   "metadata": {},
   "outputs": [
    {
     "data": {
      "text/plain": [
       "2"
      ]
     },
     "execution_count": 27,
     "metadata": {},
     "output_type": "execute_result"
    }
   ],
   "source": [
    "x -= 2\n",
    "x"
   ]
  },
  {
   "cell_type": "markdown",
   "id": "described-montgomery",
   "metadata": {},
   "source": [
    "### a `*=` b    $\\qquad\\Rightarrow\\qquad$ a = a \\* b"
   ]
  },
  {
   "cell_type": "code",
   "execution_count": 28,
   "id": "military-shannon",
   "metadata": {},
   "outputs": [
    {
     "data": {
      "text/plain": [
       "6"
      ]
     },
     "execution_count": 28,
     "metadata": {},
     "output_type": "execute_result"
    }
   ],
   "source": [
    "x *= 3\n",
    "x"
   ]
  },
  {
   "cell_type": "markdown",
   "id": "changing-playlist",
   "metadata": {},
   "source": [
    "### a `/=` b    $\\qquad\\Rightarrow\\qquad$ a = a / b"
   ]
  },
  {
   "cell_type": "code",
   "execution_count": 29,
   "id": "robust-classics",
   "metadata": {},
   "outputs": [
    {
     "data": {
      "text/plain": [
       "24.0"
      ]
     },
     "execution_count": 29,
     "metadata": {},
     "output_type": "execute_result"
    }
   ],
   "source": [
    "x /= 0.25\n",
    "x"
   ]
  },
  {
   "cell_type": "markdown",
   "id": "short-model",
   "metadata": {},
   "source": [
    "### a `%=` b    $\\qquad\\Rightarrow\\qquad$ a = a % b"
   ]
  },
  {
   "cell_type": "code",
   "execution_count": 30,
   "id": "hairy-pottery",
   "metadata": {},
   "outputs": [
    {
     "data": {
      "text/plain": [
       "4.0"
      ]
     },
     "execution_count": 30,
     "metadata": {},
     "output_type": "execute_result"
    }
   ],
   "source": [
    "x %=  5\n",
    "x"
   ]
  },
  {
   "cell_type": "markdown",
   "id": "eastern-evolution",
   "metadata": {},
   "source": [
    "### a `//=` b    $\\qquad\\Rightarrow\\qquad$ a = a // b"
   ]
  },
  {
   "cell_type": "code",
   "execution_count": 31,
   "id": "executive-arkansas",
   "metadata": {},
   "outputs": [
    {
     "data": {
      "text/plain": [
       "3.0"
      ]
     },
     "execution_count": 31,
     "metadata": {},
     "output_type": "execute_result"
    }
   ],
   "source": [
    "x //= 1.25\n",
    "x"
   ]
  },
  {
   "cell_type": "markdown",
   "id": "clean-valentine",
   "metadata": {},
   "source": [
    "### a `**`= b    $\\qquad\\Rightarrow\\qquad$ a = a \\*\\* b"
   ]
  },
  {
   "cell_type": "code",
   "execution_count": 32,
   "id": "experienced-malta",
   "metadata": {},
   "outputs": [
    {
     "data": {
      "text/plain": [
       "9.0"
      ]
     },
     "execution_count": 32,
     "metadata": {},
     "output_type": "execute_result"
    }
   ],
   "source": [
    "x **= 2\n",
    "x"
   ]
  },
  {
   "cell_type": "markdown",
   "id": "smoking-winner",
   "metadata": {},
   "source": [
    "## Comparando valores\n",
    "\n",
    "\n",
    "### Igualdad    `==`"
   ]
  },
  {
   "cell_type": "code",
   "execution_count": 33,
   "id": "sitting-garlic",
   "metadata": {},
   "outputs": [
    {
     "data": {
      "text/plain": [
       "True"
      ]
     },
     "execution_count": 33,
     "metadata": {},
     "output_type": "execute_result"
    }
   ],
   "source": [
    "5 == 5.0"
   ]
  },
  {
   "cell_type": "markdown",
   "id": "operational-encyclopedia",
   "metadata": {},
   "source": [
    "### Desigualdad  `!=`"
   ]
  },
  {
   "cell_type": "code",
   "execution_count": 34,
   "id": "offensive-screening",
   "metadata": {},
   "outputs": [
    {
     "data": {
      "text/plain": [
       "False"
      ]
     },
     "execution_count": 34,
     "metadata": {},
     "output_type": "execute_result"
    }
   ],
   "source": [
    "4 != 4.0"
   ]
  },
  {
   "cell_type": "markdown",
   "id": "comparative-reward",
   "metadata": {},
   "source": [
    "### Mayor que `> `"
   ]
  },
  {
   "cell_type": "code",
   "execution_count": 35,
   "id": "pregnant-vehicle",
   "metadata": {
    "slideshow": {
     "slide_type": "subslide"
    }
   },
   "outputs": [
    {
     "data": {
      "text/plain": [
       "True"
      ]
     },
     "execution_count": 35,
     "metadata": {},
     "output_type": "execute_result"
    }
   ],
   "source": [
    "5 > 4"
   ]
  },
  {
   "cell_type": "markdown",
   "id": "australian-ozone",
   "metadata": {},
   "source": [
    "### Menor que `<`"
   ]
  },
  {
   "cell_type": "code",
   "execution_count": 36,
   "id": "accredited-pattern",
   "metadata": {},
   "outputs": [
    {
     "data": {
      "text/plain": [
       "False"
      ]
     },
     "execution_count": 36,
     "metadata": {},
     "output_type": "execute_result"
    }
   ],
   "source": [
    "5 < 4"
   ]
  },
  {
   "cell_type": "markdown",
   "id": "hispanic-butler",
   "metadata": {},
   "source": [
    "### Mayor o igual que `>=`"
   ]
  },
  {
   "cell_type": "code",
   "execution_count": 37,
   "id": "perceived-round",
   "metadata": {},
   "outputs": [
    {
     "data": {
      "text/plain": [
       "True"
      ]
     },
     "execution_count": 37,
     "metadata": {},
     "output_type": "execute_result"
    }
   ],
   "source": [
    "4 >=4"
   ]
  },
  {
   "cell_type": "markdown",
   "id": "departmental-article",
   "metadata": {},
   "source": [
    "### Menor o igual que `<=`"
   ]
  },
  {
   "cell_type": "code",
   "execution_count": 38,
   "id": "unlimited-spending",
   "metadata": {},
   "outputs": [
    {
     "data": {
      "text/plain": [
       "True"
      ]
     },
     "execution_count": 38,
     "metadata": {},
     "output_type": "execute_result"
    }
   ],
   "source": [
    "5 <= 5"
   ]
  },
  {
   "cell_type": "markdown",
   "id": "forward-panama",
   "metadata": {},
   "source": [
    "## Operaciones lógicas\n",
    "\n",
    "\n",
    "###  AND lógico:  `and`"
   ]
  },
  {
   "cell_type": "code",
   "execution_count": 39,
   "id": "processed-pregnancy",
   "metadata": {},
   "outputs": [
    {
     "data": {
      "text/plain": [
       "False"
      ]
     },
     "execution_count": 39,
     "metadata": {},
     "output_type": "execute_result"
    }
   ],
   "source": [
    "1 > 2 and 1 < 4"
   ]
  },
  {
   "cell_type": "markdown",
   "id": "willing-thunder",
   "metadata": {},
   "source": [
    "### OR lógico:  `or`"
   ]
  },
  {
   "cell_type": "code",
   "execution_count": 40,
   "id": "republican-geology",
   "metadata": {},
   "outputs": [
    {
     "data": {
      "text/plain": [
       "True"
      ]
     },
     "execution_count": 40,
     "metadata": {},
     "output_type": "execute_result"
    }
   ],
   "source": [
    "1 > 2 or 1 < 4"
   ]
  },
  {
   "cell_type": "markdown",
   "id": "immediate-miami",
   "metadata": {},
   "source": [
    "### NOT lógico   `not`"
   ]
  },
  {
   "cell_type": "code",
   "execution_count": 41,
   "id": "naval-authentication",
   "metadata": {},
   "outputs": [
    {
     "data": {
      "text/plain": [
       "False"
      ]
     },
     "execution_count": 41,
     "metadata": {},
     "output_type": "execute_result"
    }
   ],
   "source": [
    "not 5 > 4"
   ]
  }
 ],
 "metadata": {
  "jupytext": {
   "formats": "md:myst",
   "text_representation": {
    "extension": ".md",
    "format_name": "myst"
   }
  },
  "kernelspec": {
   "display_name": "Python 3",
   "language": "python",
   "name": "python3"
  },
  "language_info": {
   "codemirror_mode": {
    "name": "ipython",
    "version": 3
   },
   "file_extension": ".py",
   "mimetype": "text/x-python",
   "name": "python",
   "nbconvert_exporter": "python",
   "pygments_lexer": "ipython3",
   "version": "3.8.8"
  },
  "source_map": [
   11,
   22,
   29,
   39,
   43,
   47,
   51,
   53,
   61,
   65,
   69,
   72,
   84,
   90,
   95,
   99,
   103,
   105,
   109,
   113,
   115,
   119,
   121,
   125,
   127,
   131,
   133,
   140,
   142,
   146,
   148,
   152,
   154,
   158,
   160,
   164,
   166,
   170,
   172,
   176,
   178,
   185,
   188,
   192,
   195,
   199,
   202,
   206,
   209,
   213,
   216,
   220,
   223,
   227,
   230,
   234,
   237,
   244,
   246,
   250,
   252,
   256,
   262,
   266,
   268,
   272,
   274,
   278,
   280,
   287,
   289,
   293,
   295,
   299
  ]
 },
 "nbformat": 4,
 "nbformat_minor": 5
}