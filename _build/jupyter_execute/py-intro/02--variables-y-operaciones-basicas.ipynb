{
 "cells": [
  {
   "cell_type": "markdown",
   "id": "wooden-soldier",
   "metadata": {},
   "source": [
    "# Variables y operaciones básicas\n",
    "\n",
    "En este cuaderno hacemos una pequeña introducción al lenguage de programación Python.\n",
    "\n",
    "## Utilizando variables\n",
    "\n",
    "* Una variable es un contenedor en el cual un dato puede almacenarse en la memoria de la computadora.\n",
    "* El valor almacenado puede luego ser referido usando el nombre de la variable."
   ]
  },
  {
   "cell_type": "code",
   "execution_count": 1,
   "id": "original-network",
   "metadata": {},
   "outputs": [
    {
     "name": "stdout",
     "output_type": "stream",
     "text": [
      "3\n",
      "3.14\n",
      "Fulano y Mengano\n",
      "True\n"
     ]
    }
   ],
   "source": [
    "mosqueteros = 3\n",
    "pi = 3.14\n",
    "nombres = \"Fulano y Mengano\"\n",
    "hoyLlueve = True\n",
    "\n",
    "print(mosqueteros, pi, nombres, hoyLlueve, sep=\"\\n\")"
   ]
  },
  {
   "cell_type": "markdown",
   "id": "rough-nirvana",
   "metadata": {},
   "source": [
    "## Tipos de datos básicos\n",
    "\n",
    "Hay cuatro tipos básicos de datos\n",
    "* `int` enteros\n",
    "* `float` punto flotantes (números decimales)\n",
    "* `bool` boolean (True o False)\n",
    "* `str` texto"
   ]
  },
  {
   "cell_type": "code",
   "execution_count": 2,
   "id": "interstate-bumper",
   "metadata": {},
   "outputs": [
    {
     "data": {
      "text/plain": [
       "int"
      ]
     },
     "execution_count": 2,
     "metadata": {},
     "output_type": "execute_result"
    }
   ],
   "source": [
    "type(mosqueteros)"
   ]
  },
  {
   "cell_type": "code",
   "execution_count": 3,
   "id": "modern-tiffany",
   "metadata": {},
   "outputs": [
    {
     "data": {
      "text/plain": [
       "str"
      ]
     },
     "execution_count": 3,
     "metadata": {},
     "output_type": "execute_result"
    }
   ],
   "source": [
    "type(nombres)"
   ]
  },
  {
   "cell_type": "code",
   "execution_count": 4,
   "id": "going-mixture",
   "metadata": {},
   "outputs": [
    {
     "data": {
      "text/plain": [
       "float"
      ]
     },
     "execution_count": 4,
     "metadata": {},
     "output_type": "execute_result"
    }
   ],
   "source": [
    "type(pi)"
   ]
  },
  {
   "cell_type": "code",
   "execution_count": 5,
   "id": "vulnerable-infection",
   "metadata": {},
   "outputs": [
    {
     "data": {
      "text/plain": [
       "bool"
      ]
     },
     "execution_count": 5,
     "metadata": {},
     "output_type": "execute_result"
    }
   ],
   "source": [
    "type(hoyLlueve)"
   ]
  },
  {
   "cell_type": "markdown",
   "id": "honest-hello",
   "metadata": {},
   "source": [
    "```{warning} Cuidado con float:\n",
    "Los floats en general representan **aproximaciones** de los números reales. No siempre son los números exactos porque hay errores de redondeo al almacenar un número en binario con un tamaño finito.\n",
    "```\n",
    "\n",
    "Por ejemplo,"
   ]
  },
  {
   "cell_type": "code",
   "execution_count": 6,
   "id": "narrow-filter",
   "metadata": {},
   "outputs": [
    {
     "data": {
      "text/plain": [
       "0.0"
      ]
     },
     "execution_count": 6,
     "metadata": {},
     "output_type": "execute_result"
    }
   ],
   "source": [
    "(1e-18 + 1) - 1"
   ]
  },
  {
   "cell_type": "code",
   "execution_count": 7,
   "id": "ready-favorite",
   "metadata": {},
   "outputs": [
    {
     "data": {
      "text/plain": [
       "1e-18"
      ]
     },
     "execution_count": 7,
     "metadata": {},
     "output_type": "execute_result"
    }
   ],
   "source": [
    "1e-18 + (1 - 1)"
   ]
  },
  {
   "cell_type": "code",
   "execution_count": 8,
   "id": "convinced-framing",
   "metadata": {},
   "outputs": [
    {
     "name": "stdout",
     "output_type": "stream",
     "text": [
      "A 24 decimales, z = 0.1 queda almacenado como 0.100000000000000005551115\n"
     ]
    }
   ],
   "source": [
    "z = 0.1\n",
    "print(f\"A 24 decimales, z = 0.1 queda almacenado como {z:.24f}\")"
   ]
  },
  {
   "cell_type": "markdown",
   "id": "absent-riding",
   "metadata": {},
   "source": [
    "## Tipos de colecciones\n",
    "\n",
    "Los tipos de colecciones más utilizados son\n",
    "* `list` una lista ordenada y mutable de valores\n",
    "* `tuple` una lista ordenada e inmutable de valores\n",
    "* `set` una lista mutable pero no ordenada de valores\n",
    "* `dict` un diccionario no ordenado\n",
    "\n",
    "Aquí vemos cómo se crean, {ref}`más adelante<py-sec-colecciones>` estudiaremos su utilidad."
   ]
  },
  {
   "cell_type": "code",
   "execution_count": 9,
   "id": "flying-scoop",
   "metadata": {},
   "outputs": [],
   "source": [
    "colores = ['azul', 'rojo', 'verde']   # list\n",
    "primos = (2,3,5,7)  # tuple\n",
    "inflacion = {'CRI': 2.0, 'SLV': 0.8, 'GTM': 4.0,\n",
    "             'HND': 4.0, 'NIC': 5.2, 'DOM': 4.5}  # dict\n",
    "cuadrados = {1,1,1,4,4,9,9,16}  # set"
   ]
  },
  {
   "cell_type": "markdown",
   "id": "expressed-shower",
   "metadata": {},
   "source": [
    "## Definiendo múltiples variables\n",
    "En Python es posible definir varias variables en una sola instrucción:"
   ]
  },
  {
   "cell_type": "code",
   "execution_count": 10,
   "id": "quality-template",
   "metadata": {},
   "outputs": [],
   "source": [
    "n, a, b = 12, -2.0, 2.0"
   ]
  },
  {
   "cell_type": "code",
   "execution_count": 11,
   "id": "super-clock",
   "metadata": {},
   "outputs": [],
   "source": [
    "x = y = z = 1"
   ]
  },
  {
   "cell_type": "code",
   "execution_count": 12,
   "id": "designing-plate",
   "metadata": {},
   "outputs": [
    {
     "data": {
      "text/plain": [
       "1"
      ]
     },
     "execution_count": 12,
     "metadata": {},
     "output_type": "execute_result"
    }
   ],
   "source": [
    "y"
   ]
  },
  {
   "cell_type": "markdown",
   "id": "divine-sympathy",
   "metadata": {},
   "source": [
    "## Cambiando tipos de datos: *casting*"
   ]
  },
  {
   "cell_type": "code",
   "execution_count": 13,
   "id": "laden-bleeding",
   "metadata": {},
   "outputs": [
    {
     "data": {
      "text/plain": [
       "'84'"
      ]
     },
     "execution_count": 13,
     "metadata": {},
     "output_type": "execute_result"
    }
   ],
   "source": [
    "'8' + '4'"
   ]
  },
  {
   "cell_type": "code",
   "execution_count": 14,
   "id": "wanted-component",
   "metadata": {},
   "outputs": [
    {
     "data": {
      "text/plain": [
       "'8888'"
      ]
     },
     "execution_count": 14,
     "metadata": {},
     "output_type": "execute_result"
    }
   ],
   "source": [
    "'8' * 4"
   ]
  },
  {
   "cell_type": "markdown",
   "id": "broke-reflection",
   "metadata": {},
   "source": [
    "### ```int(x)``` Convierte ```x``` a un número entero"
   ]
  },
  {
   "cell_type": "code",
   "execution_count": 15,
   "id": "pleasant-macintosh",
   "metadata": {},
   "outputs": [
    {
     "data": {
      "text/plain": [
       "12"
      ]
     },
     "execution_count": 15,
     "metadata": {},
     "output_type": "execute_result"
    }
   ],
   "source": [
    "int('8') + int('4')"
   ]
  },
  {
   "cell_type": "markdown",
   "id": "primary-development",
   "metadata": {},
   "source": [
    "### ```float(x)``` Convierte ```x``` a un número de punto flotante"
   ]
  },
  {
   "cell_type": "code",
   "execution_count": 16,
   "id": "signal-leonard",
   "metadata": {},
   "outputs": [
    {
     "data": {
      "text/plain": [
       "12.0"
      ]
     },
     "execution_count": 16,
     "metadata": {},
     "output_type": "execute_result"
    }
   ],
   "source": [
    "float('8') + float('4')"
   ]
  },
  {
   "cell_type": "markdown",
   "id": "equal-comfort",
   "metadata": {},
   "source": [
    "### ```str(x)``` Convierte ```x``` a una representación de texto"
   ]
  },
  {
   "cell_type": "code",
   "execution_count": 17,
   "id": "furnished-omaha",
   "metadata": {},
   "outputs": [
    {
     "data": {
      "text/plain": [
       "'84'"
      ]
     },
     "execution_count": 17,
     "metadata": {},
     "output_type": "execute_result"
    }
   ],
   "source": [
    "str(8) + str(4)"
   ]
  },
  {
   "cell_type": "markdown",
   "id": "reasonable-buying",
   "metadata": {},
   "source": [
    "## Operaciones aritméticos\n",
    "\n",
    "\n",
    "### Suma:  `+`"
   ]
  },
  {
   "cell_type": "code",
   "execution_count": 18,
   "id": "appreciated-casting",
   "metadata": {},
   "outputs": [
    {
     "data": {
      "text/plain": [
       "5"
      ]
     },
     "execution_count": 18,
     "metadata": {},
     "output_type": "execute_result"
    }
   ],
   "source": [
    "2 + 3"
   ]
  },
  {
   "cell_type": "markdown",
   "id": "pregnant-jason",
   "metadata": {},
   "source": [
    "### Resta:  `-`"
   ]
  },
  {
   "cell_type": "code",
   "execution_count": 19,
   "id": "searching-arena",
   "metadata": {},
   "outputs": [
    {
     "data": {
      "text/plain": [
       "4.0"
      ]
     },
     "execution_count": 19,
     "metadata": {},
     "output_type": "execute_result"
    }
   ],
   "source": [
    "5 - 1.0"
   ]
  },
  {
   "cell_type": "markdown",
   "id": "steady-visiting",
   "metadata": {},
   "source": [
    "### Multiplicación:  `*`"
   ]
  },
  {
   "cell_type": "code",
   "execution_count": 20,
   "id": "outer-cache",
   "metadata": {},
   "outputs": [
    {
     "data": {
      "text/plain": [
       "16"
      ]
     },
     "execution_count": 20,
     "metadata": {},
     "output_type": "execute_result"
    }
   ],
   "source": [
    "4 * 4"
   ]
  },
  {
   "cell_type": "markdown",
   "id": "purple-generation",
   "metadata": {},
   "source": [
    "### División:   `/`"
   ]
  },
  {
   "cell_type": "code",
   "execution_count": 21,
   "id": "gentle-glucose",
   "metadata": {},
   "outputs": [
    {
     "data": {
      "text/plain": [
       "3.0"
      ]
     },
     "execution_count": 21,
     "metadata": {},
     "output_type": "execute_result"
    }
   ],
   "source": [
    "9 / 3"
   ]
  },
  {
   "cell_type": "markdown",
   "id": "instructional-memory",
   "metadata": {},
   "source": [
    "### Módulo:  `%`"
   ]
  },
  {
   "cell_type": "code",
   "execution_count": 22,
   "id": "wicked-taiwan",
   "metadata": {},
   "outputs": [
    {
     "data": {
      "text/plain": [
       "1"
      ]
     },
     "execution_count": 22,
     "metadata": {},
     "output_type": "execute_result"
    }
   ],
   "source": [
    "10 % 3"
   ]
  },
  {
   "cell_type": "markdown",
   "id": "comprehensive-redhead",
   "metadata": {},
   "source": [
    "### División entera:  `//`"
   ]
  },
  {
   "cell_type": "code",
   "execution_count": 23,
   "id": "familiar-military",
   "metadata": {},
   "outputs": [
    {
     "data": {
      "text/plain": [
       "3"
      ]
     },
     "execution_count": 23,
     "metadata": {},
     "output_type": "execute_result"
    }
   ],
   "source": [
    "10 // 3"
   ]
  },
  {
   "cell_type": "markdown",
   "id": "touched-biodiversity",
   "metadata": {},
   "source": [
    "### Exponente:  `**`"
   ]
  },
  {
   "cell_type": "code",
   "execution_count": 24,
   "id": "afraid-punch",
   "metadata": {},
   "outputs": [
    {
     "data": {
      "text/plain": [
       "25"
      ]
     },
     "execution_count": 24,
     "metadata": {},
     "output_type": "execute_result"
    }
   ],
   "source": [
    "5 ** 2"
   ]
  },
  {
   "cell_type": "markdown",
   "id": "coordinated-tuning",
   "metadata": {},
   "source": [
    "## Asignando valores por medio de operadores\n",
    "\n",
    "### a `=` b    $\\qquad\\Rightarrow\\qquad$ a = b"
   ]
  },
  {
   "cell_type": "code",
   "execution_count": 25,
   "id": "exempt-motion",
   "metadata": {},
   "outputs": [
    {
     "data": {
      "text/plain": [
       "3"
      ]
     },
     "execution_count": 25,
     "metadata": {},
     "output_type": "execute_result"
    }
   ],
   "source": [
    "x = 2 + 1\n",
    "x"
   ]
  },
  {
   "cell_type": "markdown",
   "id": "knowing-studio",
   "metadata": {},
   "source": [
    "### a `+=` b    $\\qquad\\Rightarrow\\qquad$ a = a + b"
   ]
  },
  {
   "cell_type": "code",
   "execution_count": 26,
   "id": "fatal-lawyer",
   "metadata": {},
   "outputs": [
    {
     "data": {
      "text/plain": [
       "4"
      ]
     },
     "execution_count": 26,
     "metadata": {},
     "output_type": "execute_result"
    }
   ],
   "source": [
    "x += 1\n",
    "x"
   ]
  },
  {
   "cell_type": "markdown",
   "id": "hearing-james",
   "metadata": {},
   "source": [
    "### a `-=` b    $\\qquad\\Rightarrow\\qquad$ a = a - b"
   ]
  },
  {
   "cell_type": "code",
   "execution_count": 27,
   "id": "demographic-permit",
   "metadata": {},
   "outputs": [
    {
     "data": {
      "text/plain": [
       "2"
      ]
     },
     "execution_count": 27,
     "metadata": {},
     "output_type": "execute_result"
    }
   ],
   "source": [
    "x -= 2\n",
    "x"
   ]
  },
  {
   "cell_type": "markdown",
   "id": "upper-patent",
   "metadata": {},
   "source": [
    "### a `*=` b    $\\qquad\\Rightarrow\\qquad$ a = a \\* b"
   ]
  },
  {
   "cell_type": "code",
   "execution_count": 28,
   "id": "joined-sacramento",
   "metadata": {},
   "outputs": [
    {
     "data": {
      "text/plain": [
       "6"
      ]
     },
     "execution_count": 28,
     "metadata": {},
     "output_type": "execute_result"
    }
   ],
   "source": [
    "x *= 3\n",
    "x"
   ]
  },
  {
   "cell_type": "markdown",
   "id": "possible-authentication",
   "metadata": {},
   "source": [
    "### a `/=` b    $\\qquad\\Rightarrow\\qquad$ a = a / b"
   ]
  },
  {
   "cell_type": "code",
   "execution_count": 29,
   "id": "developed-lotus",
   "metadata": {},
   "outputs": [
    {
     "data": {
      "text/plain": [
       "24.0"
      ]
     },
     "execution_count": 29,
     "metadata": {},
     "output_type": "execute_result"
    }
   ],
   "source": [
    "x /= 0.25\n",
    "x"
   ]
  },
  {
   "cell_type": "markdown",
   "id": "mounted-continuity",
   "metadata": {},
   "source": [
    "### a `%=` b    $\\qquad\\Rightarrow\\qquad$ a = a % b"
   ]
  },
  {
   "cell_type": "code",
   "execution_count": 30,
   "id": "touched-palmer",
   "metadata": {},
   "outputs": [
    {
     "data": {
      "text/plain": [
       "4.0"
      ]
     },
     "execution_count": 30,
     "metadata": {},
     "output_type": "execute_result"
    }
   ],
   "source": [
    "x %=  5\n",
    "x"
   ]
  },
  {
   "cell_type": "markdown",
   "id": "allied-friday",
   "metadata": {},
   "source": [
    "### a `//=` b    $\\qquad\\Rightarrow\\qquad$ a = a // b"
   ]
  },
  {
   "cell_type": "code",
   "execution_count": 31,
   "id": "developmental-version",
   "metadata": {},
   "outputs": [
    {
     "data": {
      "text/plain": [
       "3.0"
      ]
     },
     "execution_count": 31,
     "metadata": {},
     "output_type": "execute_result"
    }
   ],
   "source": [
    "x //= 1.25\n",
    "x"
   ]
  },
  {
   "cell_type": "markdown",
   "id": "built-brazil",
   "metadata": {},
   "source": [
    "### a `**`= b    $\\qquad\\Rightarrow\\qquad$ a = a \\*\\* b"
   ]
  },
  {
   "cell_type": "code",
   "execution_count": 32,
   "id": "compact-amazon",
   "metadata": {},
   "outputs": [
    {
     "data": {
      "text/plain": [
       "9.0"
      ]
     },
     "execution_count": 32,
     "metadata": {},
     "output_type": "execute_result"
    }
   ],
   "source": [
    "x **= 2\n",
    "x"
   ]
  },
  {
   "cell_type": "markdown",
   "id": "conceptual-recovery",
   "metadata": {},
   "source": [
    "## Comparando valores\n",
    "\n",
    "\n",
    "### Igualdad    `==`"
   ]
  },
  {
   "cell_type": "code",
   "execution_count": 33,
   "id": "offshore-connecticut",
   "metadata": {},
   "outputs": [
    {
     "data": {
      "text/plain": [
       "True"
      ]
     },
     "execution_count": 33,
     "metadata": {},
     "output_type": "execute_result"
    }
   ],
   "source": [
    "5 == 5.0"
   ]
  },
  {
   "cell_type": "markdown",
   "id": "macro-porter",
   "metadata": {},
   "source": [
    "### Desigualdad  `!=`"
   ]
  },
  {
   "cell_type": "code",
   "execution_count": 34,
   "id": "commercial-string",
   "metadata": {},
   "outputs": [
    {
     "data": {
      "text/plain": [
       "False"
      ]
     },
     "execution_count": 34,
     "metadata": {},
     "output_type": "execute_result"
    }
   ],
   "source": [
    "4 != 4.0"
   ]
  },
  {
   "cell_type": "markdown",
   "id": "adapted-gardening",
   "metadata": {},
   "source": [
    "### Mayor que `> `"
   ]
  },
  {
   "cell_type": "code",
   "execution_count": 35,
   "id": "floppy-underground",
   "metadata": {
    "slideshow": {
     "slide_type": "subslide"
    }
   },
   "outputs": [
    {
     "data": {
      "text/plain": [
       "True"
      ]
     },
     "execution_count": 35,
     "metadata": {},
     "output_type": "execute_result"
    }
   ],
   "source": [
    "5 > 4"
   ]
  },
  {
   "cell_type": "markdown",
   "id": "massive-venice",
   "metadata": {},
   "source": [
    "### Menor que `<`"
   ]
  },
  {
   "cell_type": "code",
   "execution_count": 36,
   "id": "christian-twenty",
   "metadata": {},
   "outputs": [
    {
     "data": {
      "text/plain": [
       "False"
      ]
     },
     "execution_count": 36,
     "metadata": {},
     "output_type": "execute_result"
    }
   ],
   "source": [
    "5 < 4"
   ]
  },
  {
   "cell_type": "markdown",
   "id": "perfect-detective",
   "metadata": {},
   "source": [
    "### Mayor o igual que `>=`"
   ]
  },
  {
   "cell_type": "code",
   "execution_count": 37,
   "id": "bridal-motorcycle",
   "metadata": {},
   "outputs": [
    {
     "data": {
      "text/plain": [
       "True"
      ]
     },
     "execution_count": 37,
     "metadata": {},
     "output_type": "execute_result"
    }
   ],
   "source": [
    "4 >=4"
   ]
  },
  {
   "cell_type": "markdown",
   "id": "light-veteran",
   "metadata": {},
   "source": [
    "### Menor o igual que `<=`"
   ]
  },
  {
   "cell_type": "code",
   "execution_count": 38,
   "id": "mineral-seating",
   "metadata": {},
   "outputs": [
    {
     "data": {
      "text/plain": [
       "True"
      ]
     },
     "execution_count": 38,
     "metadata": {},
     "output_type": "execute_result"
    }
   ],
   "source": [
    "5 <= 5"
   ]
  },
  {
   "cell_type": "markdown",
   "id": "altered-republican",
   "metadata": {},
   "source": [
    "## Operaciones lógicas\n",
    "\n",
    "\n",
    "###  AND lógico:  `and`"
   ]
  },
  {
   "cell_type": "code",
   "execution_count": 39,
   "id": "conditional-upgrade",
   "metadata": {},
   "outputs": [
    {
     "data": {
      "text/plain": [
       "False"
      ]
     },
     "execution_count": 39,
     "metadata": {},
     "output_type": "execute_result"
    }
   ],
   "source": [
    "1 > 2 and 1 < 4"
   ]
  },
  {
   "cell_type": "markdown",
   "id": "czech-engineering",
   "metadata": {},
   "source": [
    "### OR lógico:  `or`"
   ]
  },
  {
   "cell_type": "code",
   "execution_count": 40,
   "id": "demographic-carnival",
   "metadata": {},
   "outputs": [
    {
     "data": {
      "text/plain": [
       "True"
      ]
     },
     "execution_count": 40,
     "metadata": {},
     "output_type": "execute_result"
    }
   ],
   "source": [
    "1 > 2 or 1 < 4"
   ]
  },
  {
   "cell_type": "markdown",
   "id": "competitive-management",
   "metadata": {},
   "source": [
    "### NOT lógico   `not`"
   ]
  },
  {
   "cell_type": "code",
   "execution_count": 41,
   "id": "lovely-exclusion",
   "metadata": {},
   "outputs": [
    {
     "data": {
      "text/plain": [
       "False"
      ]
     },
     "execution_count": 41,
     "metadata": {},
     "output_type": "execute_result"
    }
   ],
   "source": [
    "not 5 > 4"
   ]
  }
 ],
 "metadata": {
  "jupytext": {
   "formats": "md:myst",
   "text_representation": {
    "extension": ".md",
    "format_name": "myst"
   }
  },
  "kernelspec": {
   "display_name": "Python 3",
   "language": "python",
   "name": "python3"
  },
  "language_info": {
   "codemirror_mode": {
    "name": "ipython",
    "version": 3
   },
   "file_extension": ".py",
   "mimetype": "text/x-python",
   "name": "python",
   "nbconvert_exporter": "python",
   "pygments_lexer": "ipython3",
   "version": "3.8.8"
  },
  "source_map": [
   11,
   22,
   29,
   39,
   43,
   47,
   51,
   53,
   61,
   65,
   69,
   72,
   84,
   90,
   95,
   99,
   103,
   105,
   109,
   113,
   115,
   119,
   121,
   125,
   127,
   131,
   133,
   140,
   142,
   146,
   148,
   152,
   154,
   158,
   160,
   164,
   166,
   170,
   172,
   176,
   178,
   185,
   188,
   192,
   195,
   199,
   202,
   206,
   209,
   213,
   216,
   220,
   223,
   227,
   230,
   234,
   237,
   244,
   246,
   250,
   252,
   256,
   262,
   266,
   268,
   272,
   274,
   278,
   280,
   287,
   289,
   293,
   295,
   299
  ]
 },
 "nbformat": 4,
 "nbformat_minor": 5
}