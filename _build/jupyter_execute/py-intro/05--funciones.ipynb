{
 "cells": [
  {
   "cell_type": "markdown",
   "id": "greater-notebook",
   "metadata": {},
   "source": [
    "# Funciones\n",
    "\n",
    "Las funciones son objetos que permiten realizar tareas específicas de una manera más ordenada, sin hacer copias innecesarias del código. Esto facilita enormemente el mantenimiento del código.\n",
    "\n",
    "<div class = \"video-w\">\n",
    "    <div class = \"video-container\">\n",
    "        <iframe width=\"560\" height=\"315\" src=\"https://www.youtube.com/embed/cU0otOOh6nc\" frameborder=\"0\" allow=\"accelerometer; autoplay; clipboard-write; encrypted-media; gyroscope; picture-in-picture\" allowfullscreen></iframe>\n",
    "    </div>\n",
    "</div>\n",
    "\n",
    "## Funciones como objetos\n",
    "\n",
    "\n",
    "\n",
    "En Python las funciones también son **objetos**, que pueden, por ejemplo,\n",
    "* copiarse\n",
    "* ser miembro de una colección (lista, tupla, diccionario)\n",
    "* pasarse como un argumento de otra función"
   ]
  },
  {
   "cell_type": "code",
   "execution_count": 1,
   "id": "infectious-purse",
   "metadata": {},
   "outputs": [
    {
     "data": {
      "text/plain": [
       "builtin_function_or_method"
      ]
     },
     "execution_count": 1,
     "metadata": {},
     "output_type": "execute_result"
    }
   ],
   "source": [
    "type(max)"
   ]
  },
  {
   "cell_type": "markdown",
   "id": "absolute-dressing",
   "metadata": {},
   "source": [
    "### ser miembro de una colección"
   ]
  },
  {
   "cell_type": "code",
   "execution_count": 2,
   "id": "golden-royal",
   "metadata": {},
   "outputs": [
    {
     "data": {
      "text/plain": [
       "[0.8660254037844386, 0.5000000000000001, 1.7320508075688767]"
      ]
     },
     "execution_count": 2,
     "metadata": {},
     "output_type": "execute_result"
    }
   ],
   "source": [
    "from math import sin, cos, tan, pi\n",
    "\n",
    "𝜋 = pi\n",
    "\n",
    "trigonometricas = (sin, cos, tan)\n",
    "[f(𝜋/3) for f in trigonometricas]"
   ]
  },
  {
   "cell_type": "markdown",
   "id": "yellow-adult",
   "metadata": {},
   "source": [
    "### copiarse"
   ]
  },
  {
   "cell_type": "code",
   "execution_count": 3,
   "id": "apparent-attitude",
   "metadata": {},
   "outputs": [
    {
     "data": {
      "text/plain": [
       "0.5000000000000001"
      ]
     },
     "execution_count": 3,
     "metadata": {},
     "output_type": "execute_result"
    }
   ],
   "source": [
    "coseno = cos\n",
    "coseno(𝜋/3)"
   ]
  },
  {
   "cell_type": "markdown",
   "id": "basic-rental",
   "metadata": {},
   "source": [
    "### pasarse como argumento de otra función"
   ]
  },
  {
   "cell_type": "code",
   "execution_count": 4,
   "id": "happy-console",
   "metadata": {},
   "outputs": [
    {
     "data": {
      "text/plain": [
       "0.9999999999999999"
      ]
     },
     "execution_count": 4,
     "metadata": {},
     "output_type": "execute_result"
    }
   ],
   "source": [
    "from scipy import integrate\n",
    "\n",
    "integrate.quad(cos, 0, 𝜋/2)[0]"
   ]
  },
  {
   "cell_type": "markdown",
   "id": "robust-tracker",
   "metadata": {},
   "source": [
    "## Definiendo funciones\n",
    "\n",
    "Una función se crea usando la palabra clave `def` (definition) seguida de un nombre de su escogencia y paréntesis `( )`.\n",
    "\n",
    "El programador puede escoger cualquier nombre para una función, excepto las palabras claves de Python y el nombre de funciones integradas existentes.\n",
    "\n",
    "Esta línea debe terminar con un `:`, luego deben seguir las instrucciones que la función ejecuta cuando es llamada, en líneas indentadas.\n",
    "\n",
    "Por tanto, la sintaxis se ve así:\n",
    "```\n",
    "def function-name( ):\n",
    "    statements-to-be-executed\n",
    "    statements-to-be-executed\n",
    "```    \n",
    "\n",
    "\n",
    "Para averiguar las palabras claves de Python:"
   ]
  },
  {
   "cell_type": "code",
   "execution_count": 5,
   "id": "annual-portrait",
   "metadata": {},
   "outputs": [
    {
     "name": "stdout",
     "output_type": "stream",
     "text": [
      "False\n",
      "None\n",
      "True\n",
      "and\n",
      "as\n",
      "assert\n",
      "async\n",
      "await\n",
      "break\n",
      "class\n",
      "continue\n",
      "def\n",
      "del\n",
      "elif\n",
      "else\n",
      "except\n",
      "finally\n",
      "for\n",
      "from\n",
      "global\n",
      "if\n",
      "import\n",
      "in\n",
      "is\n",
      "lambda\n",
      "nonlocal\n",
      "not\n",
      "or\n",
      "pass\n",
      "raise\n",
      "return\n",
      "try\n",
      "while\n",
      "with\n",
      "yield\n"
     ]
    }
   ],
   "source": [
    "import keyword\n",
    "print(*keyword.kwlist, sep='\\n')"
   ]
  },
  {
   "cell_type": "markdown",
   "id": "royal-tanzania",
   "metadata": {},
   "source": [
    "### Una función sin argumentos"
   ]
  },
  {
   "cell_type": "code",
   "execution_count": 6,
   "id": "chinese-address",
   "metadata": {},
   "outputs": [],
   "source": [
    "def hello( ):\n",
    "    print('Hello')\n",
    "    print('Welcome to the UCR!')"
   ]
  },
  {
   "cell_type": "markdown",
   "id": "prescription-framework",
   "metadata": {},
   "source": [
    "Para correr esta función"
   ]
  },
  {
   "cell_type": "code",
   "execution_count": 7,
   "id": "signal-pasta",
   "metadata": {},
   "outputs": [
    {
     "name": "stdout",
     "output_type": "stream",
     "text": [
      "Hello\n",
      "Welcome to the UCR!\n"
     ]
    }
   ],
   "source": [
    "hello()"
   ]
  },
  {
   "cell_type": "code",
   "execution_count": 8,
   "id": "downtown-tiffany",
   "metadata": {},
   "outputs": [],
   "source": [
    "saludar = hello"
   ]
  },
  {
   "cell_type": "code",
   "execution_count": 9,
   "id": "behind-renaissance",
   "metadata": {},
   "outputs": [
    {
     "name": "stdout",
     "output_type": "stream",
     "text": [
      "Hello\n",
      "Welcome to the UCR!\n"
     ]
    }
   ],
   "source": [
    "saludar()"
   ]
  },
  {
   "cell_type": "markdown",
   "id": "comparable-mother",
   "metadata": {},
   "source": [
    "### Una función con argumentos\n",
    "\n",
    "Supongamos que deseamos escribir una función para convertir un dato de temperatura de Celsius a Fahrenheit. Para ello, sabemos que:\n",
    "$$F = \\tfrac{9}{5}C + 32 = 1.8C + 32$$"
   ]
  },
  {
   "cell_type": "code",
   "execution_count": 10,
   "id": "sharp-triangle",
   "metadata": {},
   "outputs": [
    {
     "name": "stdout",
     "output_type": "stream",
     "text": [
      "15.0° Celsius es igual a 59.0° Fahrenheit\n"
     ]
    }
   ],
   "source": [
    "def c2f(c):\n",
    "    f = 1.8 * c + 32\n",
    "    print(f'{c:.1f}° Celsius es igual a {f:.1f}° Fahrenheit')\n",
    "\n",
    "c2f(15)"
   ]
  },
  {
   "cell_type": "code",
   "execution_count": 11,
   "id": "tested-meter",
   "metadata": {},
   "outputs": [
    {
     "name": "stdout",
     "output_type": "stream",
     "text": [
      "100.0° Celsius es igual a 212.0° Fahrenheit\n"
     ]
    }
   ],
   "source": [
    "y = c2f(100)"
   ]
  },
  {
   "cell_type": "code",
   "execution_count": 12,
   "id": "alien-remove",
   "metadata": {},
   "outputs": [
    {
     "data": {
      "text/plain": [
       "NoneType"
      ]
     },
     "execution_count": 12,
     "metadata": {},
     "output_type": "execute_result"
    }
   ],
   "source": [
    "type(y)"
   ]
  },
  {
   "cell_type": "markdown",
   "id": "physical-perth",
   "metadata": {},
   "source": [
    "### Una función que retorna un valor"
   ]
  },
  {
   "cell_type": "code",
   "execution_count": 13,
   "id": "metric-paris",
   "metadata": {},
   "outputs": [
    {
     "name": "stdout",
     "output_type": "stream",
     "text": [
      "59.0\n"
     ]
    }
   ],
   "source": [
    "def c2f(c):\n",
    "    f = 1.8 * c + 32\n",
    "    return f\n",
    "\n",
    "\n",
    "x = c2f(15)\n",
    "print(x)"
   ]
  },
  {
   "cell_type": "markdown",
   "id": "acceptable-subcommittee",
   "metadata": {},
   "source": [
    "### Una función con parámetros predeterminados"
   ]
  },
  {
   "cell_type": "code",
   "execution_count": 14,
   "id": "competent-response",
   "metadata": {},
   "outputs": [
    {
     "data": {
      "text/plain": [
       "59.0"
      ]
     },
     "execution_count": 14,
     "metadata": {},
     "output_type": "execute_result"
    }
   ],
   "source": [
    "def c2f(c, *, mayuscula=False, mostrar=False):\n",
    "    f = 1.8 * c + 32\n",
    "    if mostrar:\n",
    "        if mayuscula:\n",
    "            print(f'{c:.1f}° CELSIUS = {f:.1f} FAHRENHEIT')\n",
    "        else:\n",
    "            print(f'{c:.1f}° Celsius = {f:.1f} Fahrenheit')\n",
    "    return f\n",
    "\n",
    "c2f(15)"
   ]
  },
  {
   "cell_type": "code",
   "execution_count": 15,
   "id": "featured-novel",
   "metadata": {},
   "outputs": [
    {
     "name": "stdout",
     "output_type": "stream",
     "text": [
      "15.0° CELSIUS = 59.0 FAHRENHEIT\n"
     ]
    },
    {
     "data": {
      "text/plain": [
       "59.0"
      ]
     },
     "execution_count": 15,
     "metadata": {},
     "output_type": "execute_result"
    }
   ],
   "source": [
    "c2f(15, mostrar=True, mayuscula=True)"
   ]
  },
  {
   "cell_type": "code",
   "execution_count": 16,
   "id": "apart-dictionary",
   "metadata": {},
   "outputs": [
    {
     "name": "stdout",
     "output_type": "stream",
     "text": [
      "15.0° Celsius = 59.0 Fahrenheit\n"
     ]
    },
    {
     "data": {
      "text/plain": [
       "59.0"
      ]
     },
     "execution_count": 16,
     "metadata": {},
     "output_type": "execute_result"
    }
   ],
   "source": [
    "c2f(15, mostrar=True)"
   ]
  },
  {
   "cell_type": "markdown",
   "id": "declared-owner",
   "metadata": {},
   "source": [
    "## Una función con un número indefinido de parámetros posicionales\n",
    "\n",
    "Supongamos que queremos escribir una función que dependa de un número indefinido de parámetros. Por ejemplo, la función `print` imprime un número arbitrario de elementos:"
   ]
  },
  {
   "cell_type": "code",
   "execution_count": 17,
   "id": "reliable-watch",
   "metadata": {},
   "outputs": [
    {
     "name": "stdout",
     "output_type": "stream",
     "text": [
      "3 4 6\n"
     ]
    }
   ],
   "source": [
    "print(3, 4, 6)"
   ]
  },
  {
   "cell_type": "code",
   "execution_count": 18,
   "id": "biblical-hawaiian",
   "metadata": {},
   "outputs": [
    {
     "name": "stdout",
     "output_type": "stream",
     "text": [
      "5 3 7 1 perro\n"
     ]
    }
   ],
   "source": [
    "print(5,3,7,1,\"perro\")"
   ]
  },
  {
   "cell_type": "markdown",
   "id": "recreational-mortgage",
   "metadata": {},
   "source": [
    "Claramente no sería práctico hacer una función distinta para cada posible número de argumentos. Para ello utilizamos `*args` en la definición de la función. Por ejemplo, para *escribir* una operación de suma:"
   ]
  },
  {
   "cell_type": "code",
   "execution_count": 19,
   "id": "gross-china",
   "metadata": {},
   "outputs": [],
   "source": [
    "def imprimir_suma(*args):\n",
    "    numeros = (str(x) for x in args)\n",
    "    sumando = ' + '.join(numeros)\n",
    "    resultado = sum(args)\n",
    "    print(sumando, \" = \", resultado)\n",
    "    print('args = ', args, sep=\"\\n\")\n",
    "    print('*args = ', *args, sep=\"\\n\")"
   ]
  },
  {
   "cell_type": "code",
   "execution_count": 20,
   "id": "apparent-childhood",
   "metadata": {},
   "outputs": [
    {
     "name": "stdout",
     "output_type": "stream",
     "text": [
      "3 + 2 + 5  =  10\n",
      "args = \n",
      "(3, 2, 5)\n",
      "*args = \n",
      "3\n",
      "2\n",
      "5\n"
     ]
    }
   ],
   "source": [
    "imprimir_suma(3,2,5)"
   ]
  },
  {
   "cell_type": "code",
   "execution_count": 21,
   "id": "conceptual-trust",
   "metadata": {},
   "outputs": [
    {
     "name": "stdout",
     "output_type": "stream",
     "text": [
      "1 + 1 + 1 + 1 + 1  =  5\n",
      "args = \n",
      "(1, 1, 1, 1, 1)\n",
      "*args = \n",
      "1\n",
      "1\n",
      "1\n",
      "1\n",
      "1\n"
     ]
    }
   ],
   "source": [
    "imprimir_suma(1,1,1,1,1)"
   ]
  },
  {
   "cell_type": "markdown",
   "id": "vertical-snapshot",
   "metadata": {},
   "source": [
    "Vemos que a lo interno de la función, `args` es una tupla, mientras que `*args` son los elementos individuales de esa tupla.\n",
    "\n",
    "\n",
    "\n",
    "### Una función con un número indefinido de parámetros de palabra clave\n",
    "\n",
    "Supongamos que queremos escribir una función que dependa de un número indefinido de parámetros de palabras clave (usualmente para especificar opciones). Para ello, agrupamos esos parámetros en la variable `**kwargs`"
   ]
  },
  {
   "cell_type": "code",
   "execution_count": 22,
   "id": "still-level",
   "metadata": {},
   "outputs": [],
   "source": [
    "def imprimir_opciones(**kwargs):\n",
    "    for parametro, valor in kwargs.items():\n",
    "        print(parametro, \" = \", valor)\n",
    "    print('kwargs = ', kwargs)"
   ]
  },
  {
   "cell_type": "code",
   "execution_count": 23,
   "id": "stunning-passport",
   "metadata": {},
   "outputs": [
    {
     "name": "stdout",
     "output_type": "stream",
     "text": [
      "color  =  rojo\n",
      "modelo  =  2018\n",
      "marca  =  Honda\n",
      "estilo  =  SUV\n",
      "kwargs =  {'color': 'rojo', 'modelo': '2018', 'marca': 'Honda', 'estilo': 'SUV'}\n"
     ]
    }
   ],
   "source": [
    "imprimir_opciones(color='rojo', modelo='2018', marca='Honda', estilo='SUV')"
   ]
  },
  {
   "cell_type": "markdown",
   "id": "blessed-color",
   "metadata": {},
   "source": [
    "Vemos que a lo interno de la función, `**kwargs` es un diccionario. Esta característica de Python es muy útil para fijar un grupo de opciones en un diccionario y pasarlas repetidamente a funciones. Por ejemplo, la función `print` separa elementos con un espacio y termina la operación con un salto de linea:"
   ]
  },
  {
   "cell_type": "code",
   "execution_count": 24,
   "id": "numerous-madness",
   "metadata": {},
   "outputs": [],
   "source": [
    "?print"
   ]
  },
  {
   "cell_type": "markdown",
   "id": "prospective-hepatitis",
   "metadata": {},
   "source": [
    "Podemos cambiar estos valores repetidamente así:"
   ]
  },
  {
   "cell_type": "code",
   "execution_count": 25,
   "id": "emerging-horror",
   "metadata": {},
   "outputs": [
    {
     "name": "stdout",
     "output_type": "stream",
     "text": [
      "1 2 3\n",
      "4 5 6\n"
     ]
    }
   ],
   "source": [
    "print(1,2,3)\n",
    "print(4,5,6)"
   ]
  },
  {
   "cell_type": "code",
   "execution_count": 26,
   "id": "cognitive-sheep",
   "metadata": {},
   "outputs": [
    {
     "name": "stdout",
     "output_type": "stream",
     "text": [
      "1 /*\\ 2 /*\\ 3\n",
      "\n",
      "4 /*\\ 5 /*\\ 6\n",
      "\n"
     ]
    }
   ],
   "source": [
    "OPCIONES = {'sep': ' /*\\ ', 'end': '\\n\\n'}\n",
    "print(1,2,3, **OPCIONES)\n",
    "print(4,5,6, **OPCIONES)"
   ]
  },
  {
   "cell_type": "markdown",
   "id": "laden-livestock",
   "metadata": {},
   "source": [
    "En la práctica, podemos combinar ambas características:"
   ]
  },
  {
   "cell_type": "code",
   "execution_count": 27,
   "id": "latest-profit",
   "metadata": {},
   "outputs": [
    {
     "name": "stdout",
     "output_type": "stream",
     "text": [
      "Sin tomar en cuenta las opciones, la tupla de números es \n",
      "2 5 3 6 8 1\n",
      "pero tomando en cuenta las opciones, la tupla de números es \n",
      "2 5 3 6 8 1\n"
     ]
    }
   ],
   "source": [
    "def imprimir_operacion(*numeros, **print_options):\n",
    "    print('Sin tomar en cuenta las opciones, la tupla de números es ')\n",
    "    print(*numeros)\n",
    "    print('pero tomando en cuenta las opciones, la tupla de números es ')\n",
    "    print(*numeros, **print_options)\n",
    "\n",
    "imprimir_operacion(2,5,3,6,8,1)"
   ]
  },
  {
   "cell_type": "code",
   "execution_count": 28,
   "id": "institutional-singing",
   "metadata": {},
   "outputs": [
    {
     "name": "stdout",
     "output_type": "stream",
     "text": [
      "Sin tomar en cuenta las opciones, la tupla de números es \n",
      "2 5 3 6 8 1\n",
      "pero tomando en cuenta las opciones, la tupla de números es \n",
      "2 * 5 * 3 * 6 * 8 * 1 = ¿quién sabe?!!\n"
     ]
    }
   ],
   "source": [
    "OPCIONES = dict(sep = ' * ', end = ' = ¿quién sabe?!!\\n')\n",
    "imprimir_operacion(2,5,3,6,8,1, **OPCIONES)"
   ]
  },
  {
   "cell_type": "markdown",
   "id": "raised-observation",
   "metadata": {},
   "source": [
    "Vemos que lo importante de `*args` y `**kwargs` es el número de asteriscos, no el nombre mismo de la variable.\n",
    "\n",
    "\n",
    "## Documentando una función\n",
    "\n",
    "¡Es muy importante documentar lo que hace su código!"
   ]
  },
  {
   "cell_type": "code",
   "execution_count": 29,
   "id": "religious-phone",
   "metadata": {},
   "outputs": [],
   "source": [
    "def c2f(c, show=False):\n",
    "    \"\"\"\n",
    "    Converts temperature data from Celsius degrees to Fahrenheit degrees\n",
    "\n",
    "    Input:\n",
    "      c: a scalar number, degrees in Celsius\n",
    "      show: a boolean, whether to print the outcome\n",
    "    Output:\n",
    "      a scalar number, degrees in Fahrenheit\n",
    "    Example:\n",
    "      c2f(0)  # returns 32.0\n",
    "    \"\"\"\n",
    "    f = 1.8 * c + 32\n",
    "    if show:\n",
    "        print(f'{c:.1f}° Celsius = {f:.1f} Fahrenheit')\n",
    "    return f\n",
    "\n",
    "z = c2f(15)"
   ]
  },
  {
   "cell_type": "code",
   "execution_count": 30,
   "id": "meaning-helmet",
   "metadata": {},
   "outputs": [
    {
     "name": "stdout",
     "output_type": "stream",
     "text": [
      "Help on function c2f in module __main__:\n",
      "\n",
      "c2f(c, show=False)\n",
      "    Converts temperature data from Celsius degrees to Fahrenheit degrees\n",
      "    \n",
      "    Input:\n",
      "      c: a scalar number, degrees in Celsius\n",
      "      show: a boolean, whether to print the outcome\n",
      "    Output:\n",
      "      a scalar number, degrees in Fahrenheit\n",
      "    Example:\n",
      "      c2f(0)  # returns 32.0\n",
      "\n"
     ]
    }
   ],
   "source": [
    "help(c2f)"
   ]
  },
  {
   "cell_type": "code",
   "execution_count": 31,
   "id": "unauthorized-grade",
   "metadata": {},
   "outputs": [],
   "source": [
    "?c2f"
   ]
  },
  {
   "cell_type": "markdown",
   "id": "young-drama",
   "metadata": {},
   "source": [
    "## Entendiendo el ámbito de una variable\n",
    "\n",
    "\n",
    "\n",
    "Cuando una función encuentra una variable dentro de su definición que no hay sido definida dentro de la función, buscará su definición en el ambiente donde la función fue definida."
   ]
  },
  {
   "cell_type": "code",
   "execution_count": 32,
   "id": "protected-proportion",
   "metadata": {},
   "outputs": [],
   "source": [
    "pi = 3.1415\n",
    "\n",
    "def area(r):\n",
    "    A = pi * r**2\n",
    "    return A"
   ]
  },
  {
   "cell_type": "code",
   "execution_count": 33,
   "id": "typical-survival",
   "metadata": {},
   "outputs": [
    {
     "data": {
      "text/plain": [
       "3.1415"
      ]
     },
     "execution_count": 33,
     "metadata": {},
     "output_type": "execute_result"
    }
   ],
   "source": [
    "pi"
   ]
  },
  {
   "cell_type": "code",
   "execution_count": 34,
   "id": "constitutional-puppy",
   "metadata": {},
   "outputs": [
    {
     "name": "stdout",
     "output_type": "stream",
     "text": [
      "314.15000000000003\n"
     ]
    }
   ],
   "source": [
    "print(area(10))"
   ]
  },
  {
   "cell_type": "markdown",
   "id": "aggressive-document",
   "metadata": {},
   "source": [
    "Esta linea genera un error, porque `A` fue definida dentro de la función `area`, no existe en el ámbito exterior a esa función:"
   ]
  },
  {
   "cell_type": "code",
   "execution_count": 35,
   "id": "comic-telephone",
   "metadata": {
    "tags": [
     "raises-exception"
    ]
   },
   "outputs": [
    {
     "ename": "NameError",
     "evalue": "name 'A' is not defined",
     "output_type": "error",
     "traceback": [
      "\u001b[0;31m---------------------------------------------------------------------------\u001b[0m",
      "\u001b[0;31mNameError\u001b[0m                                 Traceback (most recent call last)",
      "\u001b[0;32m<ipython-input-35-939330b76721>\u001b[0m in \u001b[0;36m<module>\u001b[0;34m\u001b[0m\n\u001b[0;32m----> 1\u001b[0;31m \u001b[0mprint\u001b[0m\u001b[0;34m(\u001b[0m\u001b[0mA\u001b[0m\u001b[0;34m)\u001b[0m\u001b[0;34m\u001b[0m\u001b[0;34m\u001b[0m\u001b[0m\n\u001b[0m",
      "\u001b[0;31mNameError\u001b[0m: name 'A' is not defined"
     ]
    }
   ],
   "source": [
    "print(A)"
   ]
  },
  {
   "cell_type": "markdown",
   "id": "stable-accommodation",
   "metadata": {},
   "source": [
    "Al cambiar el valor de `pi`, la próxima vez que ejecutamos `area(10)` obtenemos un valor distinto, porque las funciones buscan el valor que falta en el ambiente que fue definida **cada vez que se ejecuta la función**, no al momento de de definir la función (podría incluso no existir aún en ese momento):"
   ]
  },
  {
   "cell_type": "code",
   "execution_count": 36,
   "id": "iraqi-indication",
   "metadata": {},
   "outputs": [
    {
     "data": {
      "text/plain": [
       "900"
      ]
     },
     "execution_count": 36,
     "metadata": {},
     "output_type": "execute_result"
    }
   ],
   "source": [
    "pi = 9\n",
    "area(10)"
   ]
  }
 ],
 "metadata": {
  "jupytext": {
   "formats": "md:myst",
   "text_representation": {
    "extension": ".md",
    "format_name": "myst"
   }
  },
  "kernelspec": {
   "display_name": "Python 3",
   "language": "python",
   "name": "python3"
  },
  "language_info": {
   "codemirror_mode": {
    "name": "ipython",
    "version": 3
   },
   "file_extension": ".py",
   "mimetype": "text/x-python",
   "name": "python",
   "nbconvert_exporter": "python",
   "pygments_lexer": "ipython3",
   "version": "3.8.8"
  },
  "source_map": [
   11,
   32,
   34,
   38,
   45,
   49,
   52,
   56,
   60,
   82,
   85,
   90,
   94,
   98,
   102,
   106,
   108,
   115,
   123,
   127,
   129,
   135,
   143,
   149,
   162,
   166,
   168,
   176,
   180,
   182,
   186,
   196,
   200,
   202,
   212,
   219,
   221,
   225,
   227,
   231,
   236,
   240,
   244,
   254,
   257,
   266,
   287,
   291,
   293,
   303,
   311,
   315,
   317,
   320,
   323,
   326
  ]
 },
 "nbformat": 4,
 "nbformat_minor": 5
}