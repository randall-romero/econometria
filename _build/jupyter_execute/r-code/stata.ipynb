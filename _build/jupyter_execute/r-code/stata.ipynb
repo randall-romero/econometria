{
 "cells": [
  {
   "cell_type": "markdown",
   "id": "contemporary-extraction",
   "metadata": {},
   "source": [
    "# Rezagos con Stata\n",
    "\n",
    "**Ejemplo numérico para ilustrar el uso de los operadores de rezago, diferencia, y diferencia estacional.**"
   ]
  },
  {
   "cell_type": "markdown",
   "id": "compact-michael",
   "metadata": {},
   "source": [
    "Basado en Levendis 2018 Time Series Econometrics, pp4-5"
   ]
  },
  {
   "cell_type": "markdown",
   "id": "julian-oregon",
   "metadata": {},
   "source": [
    "Importar las librerías necesarias"
   ]
  },
  {
   "cell_type": "code",
   "execution_count": null,
   "id": "cooked-encounter",
   "metadata": {},
   "outputs": [],
   "source": [
    "sysuse auto.dta"
   ]
  }
 ],
 "metadata": {
  "jupytext": {
   "text_representation": {
    "extension": ".md",
    "format_name": "myst",
    "format_version": 0.13,
    "jupytext_version": "1.10.3"
   }
  },
  "kernelspec": {
   "display_name": "Stata",
   "language": "stata",
   "name": "stata"
  },
  "source_map": [
   12,
   19,
   23,
   27
  ]
 },
 "nbformat": 4,
 "nbformat_minor": 5
}