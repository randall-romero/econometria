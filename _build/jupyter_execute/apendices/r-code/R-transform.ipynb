{
 "cells": [
  {
   "cell_type": "markdown",
   "id": "bc1bc2ef",
   "metadata": {},
   "source": [
    "(Rcode-transform)=\n",
    "# Transformaciones con R\n",
    "\n",
    "**Cálculo de transformaciones de la serie del PIB de Costa Rica**\n",
    "\n",
    "Importar las librerías necesarias"
   ]
  },
  {
   "cell_type": "code",
   "execution_count": null,
   "id": "44aa9a72",
   "metadata": {},
   "outputs": [],
   "source": [
    "library(readr)\n",
    "library(fpp3)\n",
    "library(slider)\n",
    "#library(ggplot2)"
   ]
  },
  {
   "cell_type": "markdown",
   "id": "1c97fa50",
   "metadata": {},
   "source": [
    "Leer datos del PIB trimestral de Costa Rica e indexar datos como serie de tiempo"
   ]
  },
  {
   "cell_type": "code",
   "execution_count": null,
   "id": "c713d70c",
   "metadata": {},
   "outputs": [],
   "source": [
    "datos <- read_csv(\"../data/CR-PIB.csv\") %>%\n",
    "  mutate(trimestre = yearquarter(periodo)) %>%\n",
    "  as_tsibble(index=trimestre) %>%\n",
    "  select(trimestre, pib)"
   ]
  },
  {
   "cell_type": "markdown",
   "id": "104f9287",
   "metadata": {},
   "source": [
    "Datos originales"
   ]
  },
  {
   "cell_type": "code",
   "execution_count": null,
   "id": "26f15ecb",
   "metadata": {},
   "outputs": [],
   "source": [
    "datos %>% autoplot(pib) +\n",
    "  labs(title = \"Producto Interno Bruto de Costa Rica\") +\n",
    "  ylab(\"billones de colones constantes\") + xlab(\" \")"
   ]
  },
  {
   "cell_type": "markdown",
   "id": "f3fa5531",
   "metadata": {},
   "source": [
    "Primera diferencia"
   ]
  },
  {
   "cell_type": "code",
   "execution_count": null,
   "id": "bbdd98ee",
   "metadata": {},
   "outputs": [],
   "source": [
    "datos %>% mutate(Dpib=difference(pib)) %>%\n",
    "  autoplot(Dpib) +\n",
    "  labs(title = \"Cambio trimestral en el PIB de Costa Rica\") +\n",
    "  ylab(\"billones de colones constantes\") + xlab(\" \")"
   ]
  },
  {
   "cell_type": "markdown",
   "id": "33f92184",
   "metadata": {},
   "source": [
    "Tasa de variación"
   ]
  },
  {
   "cell_type": "code",
   "execution_count": null,
   "id": "6be1e6f0",
   "metadata": {},
   "outputs": [],
   "source": [
    "datos %>% mutate(growth=100* difference(pib) / lag(pib)) %>%\n",
    "  autoplot(growth) +\n",
    "  labs(title = \"Tasa de crecimiento trimestral del PIB de Costa Rica\") +\n",
    "  ylab(\"por ciento\") + xlab(\" \")"
   ]
  },
  {
   "cell_type": "markdown",
   "id": "c71b4523",
   "metadata": {},
   "source": [
    "Tasa de variación continua"
   ]
  },
  {
   "cell_type": "code",
   "execution_count": null,
   "id": "60ed979a",
   "metadata": {},
   "outputs": [],
   "source": [
    "datos %>% mutate(growth=100* difference(log(pib))) %>%\n",
    "  autoplot(growth) +\n",
    "  labs(title = \"Tasa de crecimiento trimestral del PIB de Costa Rica\") +\n",
    "  ylab(\"por ciento\") + xlab(\" \")"
   ]
  },
  {
   "cell_type": "markdown",
   "id": "c8cce3a8",
   "metadata": {},
   "source": [
    "Cambio interanual"
   ]
  },
  {
   "cell_type": "code",
   "execution_count": null,
   "id": "a669eb54",
   "metadata": {},
   "outputs": [],
   "source": [
    "datos %>% mutate(growth=100* difference(pib, lag=4) / lag(pib)) %>%\n",
    "  autoplot(growth) +\n",
    "  labs(title = \"Cambio interanual en el PIB de Costa Rica\") +\n",
    "  ylab(\"billones de colones constantes\") + xlab(\" \")"
   ]
  },
  {
   "cell_type": "markdown",
   "id": "5beedb29",
   "metadata": {},
   "source": [
    "Tasa de variación interanual"
   ]
  },
  {
   "cell_type": "code",
   "execution_count": null,
   "id": "05cfa07a",
   "metadata": {},
   "outputs": [],
   "source": [
    "datos %>% mutate(growth=100* difference(log(pib), lag=4)) %>%\n",
    "  autoplot(growth) +\n",
    "  labs(title = \" de crecimiento interanual del PIB de Costa Rica\") +\n",
    "  ylab(\"por ciento\") + xlab(\" \")"
   ]
  },
  {
   "cell_type": "markdown",
   "id": "99f262cf",
   "metadata": {},
   "source": [
    "Serie suavizada"
   ]
  },
  {
   "cell_type": "code",
   "execution_count": null,
   "id": "0f879512",
   "metadata": {},
   "outputs": [],
   "source": [
    "datos %>% mutate(suave=slide_dbl(pib, mean, .before=4, .complete=TRUE)) %>%\n",
    "  select(trimestre, pib, suave) %>%\n",
    "  gather() %>%\n",
    "  autoplot() + geom_line() +\n",
    "  labs(title = \"Producto Interno Bruto de Costa Rica\") +\n",
    "  ylab(\"billones de colones constantes\") + xlab(\" \")"
   ]
  },
  {
   "cell_type": "markdown",
   "id": "3155f70b",
   "metadata": {},
   "source": [
    "{ref}`Volver al texto principal.<subsec-nivel-serie>`"
   ]
  }
 ],
 "metadata": {
  "jupytext": {
   "text_representation": {
    "extension": ".md",
    "format_name": "myst",
    "format_version": 0.13,
    "jupytext_version": "1.10.3"
   }
  },
  "kernelspec": {
   "display_name": "R",
   "language": "R",
   "name": "ir"
  },
  "source_map": [
   12,
   21,
   26,
   30,
   35,
   39,
   43,
   47,
   52,
   56,
   61,
   65,
   70,
   74,
   79,
   83,
   88,
   92,
   99
  ]
 },
 "nbformat": 4,
 "nbformat_minor": 5
}