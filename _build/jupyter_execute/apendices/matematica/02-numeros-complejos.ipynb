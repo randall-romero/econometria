{
 "cells": [
  {
   "cell_type": "markdown",
   "metadata": {
    "collapsed": false,
    "pycharm": {
     "name": "#%% md\n"
    }
   },
   "source": [
    "# Números complejos"
   ]
  },
  {
   "cell_type": "markdown",
   "metadata": {
    "collapsed": false,
    "pycharm": {
     "name": "#%% md\n"
    }
   },
   "source": [
    "```{include} ../../teoria/math-definitions.md\n",
    "```"
   ]
  },
  {
   "cell_type": "code",
   "execution_count": 1,
   "metadata": {
    "collapsed": false,
    "pycharm": {
     "name": "#%%\n"
    }
   },
   "outputs": [],
   "source": [
    "import plotly.express as px\n",
    "import numpy as np\n",
    "\n",
    "import plotly.io as pio\n",
    "pio.renderers.default = \"colab\" if 'google.colab' in str(get_ipython()) else 'iframe'"
   ]
  },
  {
   "cell_type": "markdown",
   "metadata": {
    "collapsed": false,
    "pycharm": {
     "name": "#%% md\n"
    }
   },
   "source": [
    "## Representación de números complejos\n",
    "![](../../imgs/polar-complex.png)\n",
    "\n",
    "\n",
    "## Multiplicación de números complejos\n",
    "\n",
    "Si $ z = Re^{i\\theta} $  y $ w = Se^{i\\varphi} $ , entonces su producto es\n",
    "\\begin{equation*}\n",
    "zw = RS e^{i(\\theta+\\varphi)}\n",
    "\\end{equation*}\n",
    "\n",
    "\n",
    "Así, si elevamos $ z $  a la $ n $ -ésima potencia:\n",
    "\\begin{equation*}\n",
    "z^n = \\left(Re^{i\\theta}\\right)^n = R^ne^{in\\theta}\n",
    "\\end{equation*}\n",
    "\n",
    "Es decir\n",
    "\\begin{equation*}\n",
    "\\lim\\limits_{n\\to\\infty}z^n = 0 \\Leftrightarrow | R | < 1\n",
    "\\end{equation*}"
   ]
  },
  {
   "cell_type": "markdown",
   "metadata": {
    "collapsed": false,
    "pycharm": {
     "name": "#%% md\n"
    }
   },
   "source": [
    "## Ejemplos de potencia de números complejos\n",
    "\n",
    "Cuando el módulo o valor absoluto $ R $  de un número complejo está por debajo de 1, su potencia tiende a cero conforme el exponente tiende a infinito:"
   ]
  },
  {
   "cell_type": "code",
   "execution_count": 2,
   "metadata": {
    "collapsed": false,
    "pycharm": {
     "name": "#%%\n"
    }
   },
   "outputs": [
    {
     "data": {
      "text/html": [
       "<iframe\n",
       "    scrolling=\"no\"\n",
       "    width=\"100%\"\n",
       "    height=\"545px\"\n",
       "    src=\"iframe_figures/figure_2.html\"\n",
       "    frameborder=\"0\"\n",
       "    allowfullscreen\n",
       "></iframe>\n"
      ]
     },
     "metadata": {},
     "output_type": "display_data"
    }
   ],
   "source": [
    "𝜃 = 30\n",
    "t = np.arange(48)\n",
    "\n",
    "px.scatter_polar(r=0.95**t, theta=t*𝜃,\n",
    "                 animation_frame=t,\n",
    "                 start_angle=0,\n",
    "                 range_r=[0, 1.1],\n",
    "                 direction='counterclockwise')"
   ]
  },
  {
   "cell_type": "markdown",
   "metadata": {
    "collapsed": false,
    "pycharm": {
     "name": "#%% md\n"
    }
   },
   "source": [
    "Por el contrario, si $ R > 1 $ , la potencia tenderá alejarse cada vez más del origen:"
   ]
  },
  {
   "cell_type": "code",
   "execution_count": 3,
   "metadata": {
    "collapsed": false,
    "pycharm": {
     "name": "#%%\n"
    }
   },
   "outputs": [
    {
     "data": {
      "text/html": [
       "<iframe\n",
       "    scrolling=\"no\"\n",
       "    width=\"100%\"\n",
       "    height=\"545px\"\n",
       "    src=\"iframe_figures/figure_3.html\"\n",
       "    frameborder=\"0\"\n",
       "    allowfullscreen\n",
       "></iframe>\n"
      ]
     },
     "metadata": {},
     "output_type": "display_data"
    }
   ],
   "source": [
    "px.scatter_polar(r=1.03**t, theta=t*𝜃,\n",
    "                 animation_frame=t,\n",
    "                 start_angle=0,\n",
    "                 range_r=[0, 4.5],\n",
    "                 direction='counterclockwise')"
   ]
  },
  {
   "cell_type": "markdown",
   "metadata": {
    "collapsed": false,
    "pycharm": {
     "name": "#%% md\n"
    }
   },
   "source": [
    "En el caso intermedio en que $ R = 1 $ , la potencia se mantendrá orbitando en la circunferencia unitaria:"
   ]
  },
  {
   "cell_type": "code",
   "execution_count": 4,
   "metadata": {
    "collapsed": false,
    "pycharm": {
     "name": "#%%\n"
    }
   },
   "outputs": [
    {
     "data": {
      "text/html": [
       "<iframe\n",
       "    scrolling=\"no\"\n",
       "    width=\"100%\"\n",
       "    height=\"545px\"\n",
       "    src=\"iframe_figures/figure_4.html\"\n",
       "    frameborder=\"0\"\n",
       "    allowfullscreen\n",
       "></iframe>\n"
      ]
     },
     "metadata": {},
     "output_type": "display_data"
    }
   ],
   "source": [
    "px.scatter_polar(r=1.0**t, theta=t*𝜃,\n",
    "                 animation_frame=t,\n",
    "                 start_angle=0,\n",
    "                 range_r=[0, 1.5],\n",
    "                 direction='counterclockwise')"
   ]
  }
 ],
 "metadata": {
  "kernelspec": {
   "display_name": "Python 3",
   "language": "python",
   "name": "python3"
  },
  "language_info": {
   "codemirror_mode": {
    "name": "ipython",
    "version": 3
   },
   "file_extension": ".py",
   "mimetype": "text/x-python",
   "name": "python",
   "nbconvert_exporter": "python",
   "pygments_lexer": "ipython3",
   "version": "3.9.7"
  }
 },
 "nbformat": 4,
 "nbformat_minor": 0
}