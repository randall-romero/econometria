{
 "cells": [
  {
   "cell_type": "markdown",
   "metadata": {
    "pycharm": {
     "name": "#%% md\n"
    }
   },
   "source": [
    "# Control de ejecución"
   ]
  },
  {
   "cell_type": "markdown",
   "metadata": {
    "pycharm": {
     "name": "#%% md\n"
    },
    "slideshow": {
     "slide_type": "slide"
    }
   },
   "source": [
    "* Los programas usualmente se ejecutan corriendo cada instrucción en el orden en que aparecen\n",
    "* Pero en ocasiones, necesitamos ejecutar las  instrucciones de otra manera.\n",
    "* Para ello, usamos instrucciones de control de ejecución:\n",
    "- ```if, elif, else``` ejecuta algunas instrucciones una vez, pero solo si cierta condición es verdadera\n",
    "- ```while``` ejecuta algunas instrucciones varias veces, solo mientras que cierta condición sea verdadera\n",
    "- ```for``` ejecuta algunas instrucciones varias veces, iterando sobre un iterable\n",
    "- ```continue``` brinca a la siguiente iteraciónde un bucle  `while` o `for`\n",
    "- ```break``` detiene la ejecución de un bucle `while` o `for`"
   ]
  },
  {
   "cell_type": "markdown",
   "metadata": {
    "pycharm": {
     "name": "#%% md\n"
    },
    "slideshow": {
     "slide_type": "slide"
    }
   },
   "source": [
    "# Ejecución condicional con `if`\n",
    "\n",
    "* La palabra clave ```if``` evalua una expresión para obtener un valor `True` o `False`.\n",
    "* Esto permite que un programa proceda en diferentes direcciones de acuerdo con el resultado del test.\n",
    "* La expresión evaluada debe ser seguida de dos puntos ```:```, luego las instrucciones que se evaluan si el test es verdadero deben escribirse en líneas separadas e indentadas respecto a la línea que contiene el ```if```.\n",
    "* El tamaño de la indentación no es importante, pero debe ser el mismo en cada línea.\n",
    "* Por tanto, la sintaxis se ve así:\n",
    "```\n",
    "if test-expression:\n",
    "   statements-to-execute-when-test-expression-is-True\n",
    "   statements-to-execute-when-test-expression-is-True\n",
    "```   "
   ]
  },
  {
   "cell_type": "markdown",
   "metadata": {
    "pycharm": {
     "name": "#%% md\n"
    },
    "slideshow": {
     "slide_type": "subslide"
    }
   },
   "source": [
    "Por ejemplo, para determinar si un número ```m``` es par o impar:"
   ]
  },
  {
   "cell_type": "code",
   "execution_count": null,
   "metadata": {
    "pycharm": {
     "name": "#%%\n"
    }
   },
   "outputs": [],
   "source": [
    "m = 7\n",
    "if m % 2 == 0:\n",
    "    print('m es par')\n",
    "else:\n",
    "    print('m es impar')"
   ]
  },
  {
   "cell_type": "markdown",
   "metadata": {
    "pycharm": {
     "name": "#%% md\n"
    },
    "slideshow": {
     "slide_type": "subslide"
    }
   },
   "source": [
    "El test no necesariamente tiene que ser un boolean. El número `0`, el valor `None`, y un texto vacío `''`, lista vacía `[]`, tupla vacía `()` o conjunto vacío `{}`, todos son interpretados como  `False`."
   ]
  },
  {
   "cell_type": "code",
   "execution_count": null,
   "metadata": {
    "pycharm": {
     "name": "#%%\n"
    },
    "scrolled": true
   },
   "outputs": [],
   "source": [
    "if m % 5:\n",
    "    print('m no es divisible entre 5')\n",
    "else:\n",
    "    print('m es divisible entre 5')"
   ]
  },
  {
   "cell_type": "code",
   "execution_count": null,
   "metadata": {
    "pycharm": {
     "name": "#%%\n"
    }
   },
   "outputs": [],
   "source": [
    "horas = 10\n",
    "\n",
    "if horas < 12:\n",
    "    ampm = 'a.m.'\n",
    "else:\n",
    "    ampm = 'p.m.'\n",
    "    \n",
    "ampm"
   ]
  },
  {
   "cell_type": "markdown",
   "metadata": {
    "pycharm": {
     "name": "#%% md\n"
    }
   },
   "source": [
    "## Examinando condiciones\n",
    "Algunas veces necesitamos asignar un valor dependiendo de una condición, como así\n",
    "```\n",
    "if testExpression:\n",
    "    x = ifTrueThis\n",
    "else:\n",
    "    x = ifFalseThis\n",
    "```\n",
    "Esto es equivalente a :\n",
    "```\n",
    "x = ifTrueThis if testExpression else ifFalseThis\n",
    "```\n",
    "Por ejemplo, el código anterior, en el que queremos definir una variable que depende de una condición, podemos escribirlo más compacto así:"
   ]
  },
  {
   "cell_type": "code",
   "execution_count": null,
   "metadata": {
    "pycharm": {
     "name": "#%%\n"
    }
   },
   "outputs": [],
   "source": [
    "ampm1 = 'a.m.' if horas < 12 else 'p.m.'\n",
    "ampm1"
   ]
  },
  {
   "cell_type": "markdown",
   "metadata": {
    "pycharm": {
     "name": "#%% md\n"
    }
   },
   "source": [
    "Otro ejemplo"
   ]
  },
  {
   "cell_type": "code",
   "execution_count": null,
   "metadata": {
    "pycharm": {
     "name": "#%%\n"
    }
   },
   "outputs": [],
   "source": [
    "n = 18\n",
    "z = \"n is \" +  (\"impar\" if n % 2 else \"par\")\n",
    "\n",
    "z"
   ]
  },
  {
   "cell_type": "markdown",
   "metadata": {
    "pycharm": {
     "name": "#%% md\n"
    },
    "slideshow": {
     "slide_type": "slide"
    }
   },
   "source": [
    "# Iterando `while` true i\n",
    "\n",
    "* Un bucle es una pieza de código que automáticamente se repite.\n",
    "* Una ejecución completa de todas las instrucciones dentro de un bucle se llama una “iteración”.\n",
    "* El tamaño del buche se controla con un test condicional que se ejecuta dentro del bucle.\n",
    "* Mientras que la expresión evaluada sea  ```True``` el bucle continuará –-- hasta que la expresión sea ```False```, punto en el cual el bucle termina.\n",
    "* En programas de Python, la palabra clave ```while``` crea un bucle. Es seguida por la expresion a evaluar y dos puntos ```:```.\n",
    "* Las instrucciones que se deben evaluar cuando el test pasa (sea ```True```) deben seguir abajo en líneas separadas, y cada línea debe estar indentada con el mismo espacio respecto a la línea que tiene el ```while```.\n",
    "* Este bloque de instrucciones debe incluir una instrucción que en algún momento cambie el resultado del test a ```False``` --- de lo contrario el bucle será infinito.\n",
    "* Por tanto, la sintaxis se ve así:\n",
    "\n",
    "```\n",
    "while test-expression :\n",
    "    statements-to-execute-when-test-expression-is-True\n",
    "    statements-to-execute-when-test-expression-is-True\n",
    "```    "
   ]
  },
  {
   "cell_type": "markdown",
   "metadata": {
    "pycharm": {
     "name": "#%% md\n"
    },
    "slideshow": {
     "slide_type": "subslide"
    }
   },
   "source": [
    "Por ejemplo, para obtener la serie de Fibonacci hasta 100"
   ]
  },
  {
   "cell_type": "code",
   "execution_count": null,
   "metadata": {
    "pycharm": {
     "name": "#%%\n"
    }
   },
   "outputs": [],
   "source": [
    "a, b = 0, 1\n",
    "\n",
    "while b < 100:\n",
    "    print(b, end=', ')\n",
    "    a, b = b, a + b"
   ]
  },
  {
   "cell_type": "markdown",
   "metadata": {
    "pycharm": {
     "name": "#%% md\n"
    },
    "slideshow": {
     "slide_type": "fragment"
    }
   },
   "source": [
    "Un enfoque distinto, pero que incluye el primer elemento que se pasa de 100"
   ]
  },
  {
   "cell_type": "code",
   "execution_count": null,
   "metadata": {
    "pycharm": {
     "name": "#%%\n"
    }
   },
   "outputs": [],
   "source": [
    "fib = [1, 1]\n",
    "\n",
    "while fib[-1]<100:\n",
    "    fib.append(fib[-2] + fib[-1])\n",
    "else:\n",
    "    fib.pop()\n",
    "    \n",
    "    \n",
    "fib"
   ]
  },
  {
   "cell_type": "markdown",
   "metadata": {
    "pycharm": {
     "name": "#%% md\n"
    }
   },
   "source": [
    "## La función ```range```\n",
    "Algunas veces necesitamos iterar sobre los enteros. Podemos generarlos con la función ```range```."
   ]
  },
  {
   "cell_type": "code",
   "execution_count": null,
   "metadata": {
    "pycharm": {
     "name": "#%%\n"
    }
   },
   "outputs": [],
   "source": [
    "range(6)"
   ]
  },
  {
   "cell_type": "markdown",
   "metadata": {
    "pycharm": {
     "name": "#%% md\n"
    },
    "slideshow": {
     "slide_type": "fragment"
    }
   },
   "source": [
    "Para ahorrar memoria, ```range``` retorna sus elementos uno a la vez, solo cuando se necesita, para evitar usar demasiada memoria. Por ejemplo"
   ]
  },
  {
   "cell_type": "code",
   "execution_count": null,
   "metadata": {
    "pycharm": {
     "name": "#%%\n"
    }
   },
   "outputs": [],
   "source": [
    "import sys"
   ]
  },
  {
   "cell_type": "code",
   "execution_count": null,
   "metadata": {
    "pycharm": {
     "name": "#%%\n"
    }
   },
   "outputs": [],
   "source": [
    "N = 1_000\n",
    "\n",
    "print(f'{sys.getsizeof(range(N))=}')\n",
    "print(f'{sys.getsizeof(list(range(N)))=}')\n",
    "\n",
    "print(f'{sys.getsizeof(range(1000*N))=}')\n",
    "print(f'{sys.getsizeof(list(range(1000*N)))=}')"
   ]
  },
  {
   "cell_type": "markdown",
   "metadata": {
    "pycharm": {
     "name": "#%% md\n"
    },
    "slideshow": {
     "slide_type": "fragment"
    }
   },
   "source": [
    "En los ejemplos que siguen convertimos objetos ```range``` en listas únicamente para poder imprimir sus elementos."
   ]
  },
  {
   "cell_type": "markdown",
   "metadata": {
    "pycharm": {
     "name": "#%% md\n"
    }
   },
   "source": [
    "`range(n)` retorna enteros de ```0``` a ```n-1```"
   ]
  },
  {
   "cell_type": "code",
   "execution_count": null,
   "metadata": {
    "pycharm": {
     "name": "#%%\n"
    },
    "scrolled": true,
    "slideshow": {
     "slide_type": "fragment"
    }
   },
   "outputs": [],
   "source": [
    "list(range(6))"
   ]
  },
  {
   "cell_type": "markdown",
   "metadata": {
    "pycharm": {
     "name": "#%% md\n"
    },
    "slideshow": {
     "slide_type": "subslide"
    }
   },
   "source": [
    "`range(m, n)` retorna enteros de ```m``` a ```n-1```"
   ]
  },
  {
   "cell_type": "code",
   "execution_count": null,
   "metadata": {
    "pycharm": {
     "name": "#%%\n"
    }
   },
   "outputs": [],
   "source": [
    "list(range(2,8))"
   ]
  },
  {
   "cell_type": "markdown",
   "metadata": {
    "pycharm": {
     "name": "#%% md\n"
    },
    "slideshow": {
     "slide_type": "fragment"
    }
   },
   "source": [
    "`range(m, n, s)` retorna enteros de ```m``` a ```n-1```, de ```s``` en ```s```"
   ]
  },
  {
   "cell_type": "code",
   "execution_count": null,
   "metadata": {
    "pycharm": {
     "name": "#%%\n"
    }
   },
   "outputs": [],
   "source": [
    "list(range(2,9,3))"
   ]
  },
  {
   "cell_type": "markdown",
   "metadata": {
    "pycharm": {
     "name": "#%% md\n"
    },
    "slideshow": {
     "slide_type": "fragment"
    }
   },
   "source": [
    "También podemos crear un ```range``` con el orden invertido:"
   ]
  },
  {
   "cell_type": "code",
   "execution_count": null,
   "metadata": {
    "pycharm": {
     "name": "#%%\n"
    },
    "scrolled": true
   },
   "outputs": [],
   "source": [
    "list(range(4, 0,-1))"
   ]
  },
  {
   "cell_type": "markdown",
   "metadata": {
    "pycharm": {
     "name": "#%% md\n"
    },
    "slideshow": {
     "slide_type": "slide"
    }
   },
   "source": [
    "# Iterando sobre los elementos de un iterable: `for`\n",
    "\n",
    "En Python la palabra clave ```for``` itera sobre todos los elementos de cualquier iterable que aparezca luego de la palabra clave ```in```.\n",
    "\n",
    "La sintaxis se ve así:\n",
    "\n",
    "```\n",
    "for item in iterable :\n",
    "    statements-to-execute-on-each-iteration\n",
    "    statements-to-execute-on-each-iteration\n",
    "```    \n",
    "\n",
    "Ejemplos de iterables:\n",
    "* rangos\n",
    "* listas, tuplas, conjutos, diccionarios\n",
    "* textos\n",
    "* archivos de texto\n",
    "* arreglos de números"
   ]
  },
  {
   "cell_type": "markdown",
   "metadata": {
    "pycharm": {
     "name": "#%% md\n"
    },
    "slideshow": {
     "slide_type": "subslide"
    }
   },
   "source": [
    "### Iterando sobre textos"
   ]
  },
  {
   "cell_type": "code",
   "execution_count": null,
   "metadata": {
    "pycharm": {
     "name": "#%%\n"
    }
   },
   "outputs": [],
   "source": [
    "for letra in 'abcd':\n",
    "    print(letra.upper())"
   ]
  },
  {
   "cell_type": "markdown",
   "metadata": {
    "pycharm": {
     "name": "#%% md\n"
    },
    "slideshow": {
     "slide_type": "subslide"
    }
   },
   "source": [
    "### Iterando sobre enteros"
   ]
  },
  {
   "cell_type": "code",
   "execution_count": null,
   "metadata": {
    "pycharm": {
     "name": "#%%\n"
    }
   },
   "outputs": [],
   "source": [
    "for k in range(1, 6):\n",
    "    print(k**2)"
   ]
  },
  {
   "cell_type": "markdown",
   "metadata": {
    "pycharm": {
     "name": "#%% md\n"
    }
   },
   "source": [
    "### Iterando líneas de un archivo de texto"
   ]
  },
  {
   "cell_type": "code",
   "execution_count": null,
   "metadata": {
    "collapsed": false,
    "pycharm": {
     "name": "#%%\n"
    }
   },
   "outputs": [],
   "source": [
    "with open(\"../data/HimnoNacional.txt\", 'r', encoding='utf-8') as archivo_himno:\n",
    "    for linea in archivo_himno:\n",
    "        print(linea, sep='')"
   ]
  },
  {
   "cell_type": "code",
   "execution_count": null,
   "metadata": {
    "collapsed": false,
    "pycharm": {
     "name": "#%%\n"
    }
   },
   "outputs": [],
   "source": [
    "temp = open(\"../data/HimnoNacional.txt\", 'r', encoding='utf-8')"
   ]
  },
  {
   "cell_type": "code",
   "execution_count": null,
   "metadata": {
    "collapsed": false,
    "pycharm": {
     "name": "#%%\n"
    }
   },
   "outputs": [],
   "source": [
    "dir(temp)"
   ]
  },
  {
   "cell_type": "code",
   "execution_count": 3,
   "metadata": {
    "collapsed": false,
    "pycharm": {
     "name": "#%%\n"
    }
   },
   "outputs": [],
   "source": [
    "temp = open(\"../data/HimnoNacional.txt\", 'r', encoding='utf-8')"
   ]
  },
  {
   "cell_type": "code",
   "execution_count": 4,
   "metadata": {
    "collapsed": false,
    "pycharm": {
     "name": "#%%\n"
    }
   },
   "outputs": [
    {
     "data": {
      "text/plain": [
       "['_CHUNK_SIZE',\n",
       " '__class__',\n",
       " '__del__',\n",
       " '__delattr__',\n",
       " '__dict__',\n",
       " '__dir__',\n",
       " '__doc__',\n",
       " '__enter__',\n",
       " '__eq__',\n",
       " '__exit__',\n",
       " '__format__',\n",
       " '__ge__',\n",
       " '__getattribute__',\n",
       " '__gt__',\n",
       " '__hash__',\n",
       " '__init__',\n",
       " '__init_subclass__',\n",
       " '__iter__',\n",
       " '__le__',\n",
       " '__lt__',\n",
       " '__ne__',\n",
       " '__new__',\n",
       " '__next__',\n",
       " '__reduce__',\n",
       " '__reduce_ex__',\n",
       " '__repr__',\n",
       " '__setattr__',\n",
       " '__sizeof__',\n",
       " '__str__',\n",
       " '__subclasshook__',\n",
       " '_checkClosed',\n",
       " '_checkReadable',\n",
       " '_checkSeekable',\n",
       " '_checkWritable',\n",
       " '_finalizing',\n",
       " 'buffer',\n",
       " 'close',\n",
       " 'closed',\n",
       " 'detach',\n",
       " 'encoding',\n",
       " 'errors',\n",
       " 'fileno',\n",
       " 'flush',\n",
       " 'isatty',\n",
       " 'line_buffering',\n",
       " 'mode',\n",
       " 'name',\n",
       " 'newlines',\n",
       " 'read',\n",
       " 'readable',\n",
       " 'readline',\n",
       " 'readlines',\n",
       " 'reconfigure',\n",
       " 'seek',\n",
       " 'seekable',\n",
       " 'tell',\n",
       " 'truncate',\n",
       " 'writable',\n",
       " 'write',\n",
       " 'write_through',\n",
       " 'writelines']"
      ]
     },
     "execution_count": 4,
     "metadata": {},
     "output_type": "execute_result"
    }
   ],
   "source": [
    "dir(temp)"
   ]
  },
  {
   "cell_type": "markdown",
   "metadata": {
    "pycharm": {
     "name": "#%% md\n"
    }
   },
   "source": [
    "### Iterando los elemetos de un diccionario"
   ]
  },
  {
   "cell_type": "code",
   "execution_count": null,
   "metadata": {
    "pycharm": {
     "name": "#%%\n"
    }
   },
   "outputs": [],
   "source": [
    "king = {'name': 'John Snow',\n",
    "        'age': 24,\n",
    "        'home': 'Castle Black',\n",
    "        'lover': 'Ygritte',\n",
    "        'knows': None}\n",
    "\n",
    "for llave, valor in king.items():\n",
    "    print(f'king[\"{llave}\"] = {valor}')"
   ]
  },
  {
   "cell_type": "markdown",
   "metadata": {
    "pycharm": {
     "name": "#%% md\n"
    }
   },
   "source": [
    "## enumerate\n",
    "\n",
    "En ocasiones, además de iterar los elemento de una colección, necesitamos llevar cuenta del número de iteración. Una forma de hacerlo es ésta:"
   ]
  },
  {
   "cell_type": "code",
   "execution_count": null,
   "metadata": {
    "pycharm": {
     "name": "#%%\n"
    }
   },
   "outputs": [],
   "source": [
    "eltexto = 'abcde'\n",
    "\n",
    "\n",
    "# esta es la forma \"fea\" que tendríamos que usar en otros lenguajes de programación\n",
    "for i in range(len(eltexto)):\n",
    "    letra = eltexto[i]\n",
    "    print(f'iteración {i} da por resultado  {letra}')\n",
    "    \n"
   ]
  },
  {
   "cell_type": "markdown",
   "metadata": {
    "pycharm": {
     "name": "#%% md\n"
    },
    "slideshow": {
     "slide_type": "subslide"
    }
   },
   "source": [
    "Como esta situación es tan común, Python tiene una forma elegante de hacerlo, usando la función ```enumerate``` "
   ]
  },
  {
   "cell_type": "code",
   "execution_count": null,
   "metadata": {
    "pycharm": {
     "name": "#%%\n"
    }
   },
   "outputs": [],
   "source": [
    "eltexto = 'abcde'\n",
    "\n",
    "# esta es la forma elegante usando Python\n",
    "for i, letra in enumerate(eltexto):\n",
    "    print(f'iteración {i} da por resultado  {letra}')\n",
    "    "
   ]
  },
  {
   "cell_type": "markdown",
   "metadata": {
    "pycharm": {
     "name": "#%% md\n"
    }
   },
   "source": [
    "## zip\n",
    "\n",
    "De manera similar, en ocasiones debemos iterar sobre dos o más colecciones en paralelo. Una forma es"
   ]
  },
  {
   "cell_type": "code",
   "execution_count": null,
   "metadata": {
    "pycharm": {
     "name": "#%%\n"
    },
    "scrolled": true
   },
   "outputs": [],
   "source": [
    "quantities = [3, 2, 4, 6]\n",
    "fruits = ('apple','banana','coconut')\n",
    "\n",
    "# este código dará un error, porque las colecciones no son del mismo tamaño!\n",
    "for i in range(len(quantities)):\n",
    "    n = quantities[i]\n",
    "    fruit = fruits[i]\n",
    "    print(f'{n} {fruit}s')"
   ]
  },
  {
   "cell_type": "markdown",
   "metadata": {
    "pycharm": {
     "name": "#%% md\n"
    },
    "slideshow": {
     "slide_type": "subslide"
    }
   },
   "source": [
    "Para iterar dos iterables en paralelo, es más elegante y fácil que usemos `zip`"
   ]
  },
  {
   "cell_type": "code",
   "execution_count": null,
   "metadata": {
    "pycharm": {
     "name": "#%%\n"
    },
    "scrolled": true
   },
   "outputs": [],
   "source": [
    "quantities = [3, 2, 4, 8]\n",
    "fruits = ('apple','banana','coconut')\n",
    "\n",
    "for n, fruit in zip(quantities,fruits):\n",
    "    print(f'{n} {fruit}s')"
   ]
  },
  {
   "cell_type": "markdown",
   "metadata": {
    "pycharm": {
     "name": "#%% md\n"
    }
   },
   "source": [
    "## *List comprehensions*\n",
    "\n",
    "* *List comprehension* es una manera elegante de definir una lista basado en otra colección (un iterable).\n",
    "* Generalmente son más compactas y rápidas que los bucles tradicionales.\n",
    "* No obstante, debemos evitar *list comprenhension* demasiado largas para que el código sea claro.\n",
    "\n"
   ]
  },
  {
   "cell_type": "markdown",
   "metadata": {
    "pycharm": {
     "name": "#%% md\n"
    }
   },
   "source": [
    "### Caso más sencillo"
   ]
  },
  {
   "cell_type": "markdown",
   "metadata": {
    "pycharm": {
     "name": "#%% md\n"
    },
    "slideshow": {
     "slide_type": "subslide"
    }
   },
   "source": [
    "A veces necesitamos hacer una lista de elementos a partir de otro iterable, como con este código\n",
    "\n",
    "```\n",
    "lst = list()\n",
    "for item in iterable:\n",
    "    lst.append(expression)\n",
    "```\n",
    "\n",
    "Esto puede hacer más sucintamente con\n",
    "\n",
    "```\n",
    "lst = [expression for item in iterable]\n",
    "```"
   ]
  },
  {
   "cell_type": "markdown",
   "metadata": {
    "pycharm": {
     "name": "#%% md\n"
    }
   },
   "source": [
    "Por ejemplo, para obtener una lista de los cuadrados de los números del 1 al 14:"
   ]
  },
  {
   "cell_type": "code",
   "execution_count": null,
   "metadata": {
    "pycharm": {
     "name": "#%%\n"
    }
   },
   "outputs": [],
   "source": [
    "%%timeit\n",
    "miscuadrados = []\n",
    "\n",
    "for k in range(1,15):\n",
    "    miscuadrados.append(k**2)\n",
    "    \n",
    "miscuadrados"
   ]
  },
  {
   "cell_type": "markdown",
   "metadata": {
    "pycharm": {
     "name": "#%% md\n"
    }
   },
   "source": [
    "Este código es más sencillo de entender, y más compacto. Además, usualmente es más rápido."
   ]
  },
  {
   "cell_type": "code",
   "execution_count": null,
   "metadata": {
    "pycharm": {
     "name": "#%%\n"
    }
   },
   "outputs": [],
   "source": [
    "%%timeit\n",
    "miscuadrados2 = [k**2 for k in range(1,15)]\n",
    "miscuadrados2"
   ]
  },
  {
   "cell_type": "code",
   "execution_count": null,
   "metadata": {
    "pycharm": {
     "name": "#%%\n"
    }
   },
   "outputs": [],
   "source": [
    "[k**2 for k in range(1,15) if k%2==1]"
   ]
  },
  {
   "cell_type": "markdown",
   "metadata": {
    "pycharm": {
     "name": "#%% md\n"
    },
    "slideshow": {
     "slide_type": "fragment"
    }
   },
   "source": [
    "Otro ejemplo: para contar las letras en una lista de palabras"
   ]
  },
  {
   "cell_type": "code",
   "execution_count": null,
   "metadata": {
    "pycharm": {
     "name": "#%%\n"
    }
   },
   "outputs": [],
   "source": [
    "frutas = ['apple','banana','carrot','grape','kiwi']\n",
    "\n",
    "[len(palabra) for palabra in frutas]"
   ]
  },
  {
   "cell_type": "markdown",
   "metadata": {
    "pycharm": {
     "name": "#%% md\n"
    }
   },
   "source": [
    "### Caso con un condicional"
   ]
  },
  {
   "cell_type": "markdown",
   "metadata": {
    "pycharm": {
     "name": "#%% md\n"
    },
    "slideshow": {
     "slide_type": "subslide"
    }
   },
   "source": [
    "A veces necesitamos además que se satisfaga alguna condición en la iteración, como con este código\n",
    "```\n",
    "lst = list()\n",
    "for item in iterable:\n",
    "    if conditional:\n",
    "        lst.append(expression)\n",
    "```\n",
    "\n",
    "Esto puede hacer más sucintamente con\n",
    "\n",
    "```\n",
    "lst = [expression for item in iterable if conditional]\n",
    "```"
   ]
  },
  {
   "cell_type": "markdown",
   "metadata": {
    "pycharm": {
     "name": "#%% md\n"
    },
    "slideshow": {
     "slide_type": "subslide"
    }
   },
   "source": [
    "Por ejemplo, para generar los cuadrados de los números pares menores que 12"
   ]
  },
  {
   "cell_type": "code",
   "execution_count": null,
   "metadata": {
    "pycharm": {
     "name": "#%%\n"
    },
    "scrolled": true
   },
   "outputs": [],
   "source": [
    "%%timeit\n",
    "lista1 = list()\n",
    "\n",
    "for k in range(1,12):\n",
    "    if k % 2 == 0:\n",
    "        lista1.append(k**2)\n",
    "\n",
    "lista1"
   ]
  },
  {
   "cell_type": "markdown",
   "metadata": {
    "pycharm": {
     "name": "#%% md\n"
    }
   },
   "source": [
    "Esta es una versión más compacta:"
   ]
  },
  {
   "cell_type": "code",
   "execution_count": null,
   "metadata": {
    "pycharm": {
     "name": "#%%\n"
    },
    "scrolled": true
   },
   "outputs": [],
   "source": [
    "%%timeit\n",
    "lista2 = [k**2 for k in range(1, 12) if not k%2]\n",
    "lista2"
   ]
  }
 ],
 "metadata": {
  "kernel_info": {
   "name": "python3"
  },
  "kernelspec": {
   "display_name": "Python 3 (ipykernel)",
   "language": "python",
   "name": "python3"
  },
  "language_info": {
   "codemirror_mode": {
    "name": "ipython",
    "version": 3
   },
   "file_extension": ".py",
   "mimetype": "text/x-python",
   "name": "python",
   "nbconvert_exporter": "python",
   "pygments_lexer": "ipython3",
   "version": "3.9.7"
  },
  "nteract": {
   "version": "0.14.3"
  },
  "toc-autonumbering": false,
  "toc-showtags": false
 },
 "nbformat": 4,
 "nbformat_minor": 4
}