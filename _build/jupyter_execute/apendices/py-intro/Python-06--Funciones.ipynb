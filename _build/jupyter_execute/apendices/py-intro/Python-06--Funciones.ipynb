{
 "cells": [
  {
   "cell_type": "markdown",
   "metadata": {
    "pycharm": {
     "name": "#%% md\n"
    }
   },
   "source": [
    "# Funciones"
   ]
  },
  {
   "cell_type": "markdown",
   "metadata": {
    "pycharm": {
     "name": "#%% md\n"
    }
   },
   "source": [
    "Las funciones son objetos que permiten realizar tareas específicas de una manera más ordenada, sin hacer copias innecesarias del código. Esto facilita enormemente el mantenimiento del código."
   ]
  },
  {
   "cell_type": "markdown",
   "metadata": {
    "pycharm": {
     "name": "#%% md\n"
    }
   },
   "source": [
    "## Funciones como objetos"
   ]
  },
  {
   "cell_type": "markdown",
   "metadata": {
    "pycharm": {
     "name": "#%% md\n"
    }
   },
   "source": [
    "En Python las funciones también son **objetos**, que pueden, por ejemplo, \n",
    "* copiarse\n",
    "* ser miembro de una colección (lista, tupla, diccionario)\n",
    "* pasarse como un argumento de otra función"
   ]
  },
  {
   "cell_type": "code",
   "execution_count": 1,
   "metadata": {
    "pycharm": {
     "name": "#%%\n"
    }
   },
   "outputs": [
    {
     "data": {
      "text/plain": [
       "builtin_function_or_method"
      ]
     },
     "execution_count": 1,
     "metadata": {},
     "output_type": "execute_result"
    }
   ],
   "source": [
    "type(max)"
   ]
  },
  {
   "cell_type": "markdown",
   "metadata": {
    "pycharm": {
     "name": "#%% md\n"
    }
   },
   "source": [
    "### ser miembro de una colección"
   ]
  },
  {
   "cell_type": "code",
   "execution_count": 2,
   "metadata": {
    "pycharm": {
     "name": "#%%\n"
    }
   },
   "outputs": [
    {
     "data": {
      "text/plain": [
       "[0.8660254037844386, 0.5000000000000001, 1.7320508075688767]"
      ]
     },
     "execution_count": 2,
     "metadata": {},
     "output_type": "execute_result"
    }
   ],
   "source": [
    "from math import sin, cos, tan, pi\n",
    "\n",
    "𝜋 = pi\n",
    "\n",
    "trigonometricas = (sin, cos, tan)\n",
    "[f(𝜋/3) for f in trigonometricas]"
   ]
  },
  {
   "cell_type": "markdown",
   "metadata": {
    "pycharm": {
     "name": "#%% md\n"
    }
   },
   "source": [
    "### copiarse"
   ]
  },
  {
   "cell_type": "code",
   "execution_count": 3,
   "metadata": {
    "pycharm": {
     "name": "#%%\n"
    }
   },
   "outputs": [
    {
     "data": {
      "text/plain": [
       "0.5000000000000001"
      ]
     },
     "execution_count": 3,
     "metadata": {},
     "output_type": "execute_result"
    }
   ],
   "source": [
    "coseno = cos\n",
    "coseno(𝜋/3)"
   ]
  },
  {
   "cell_type": "markdown",
   "metadata": {
    "pycharm": {
     "name": "#%% md\n"
    }
   },
   "source": [
    "### pasarse como argumento de otra función"
   ]
  },
  {
   "cell_type": "code",
   "execution_count": 4,
   "metadata": {
    "pycharm": {
     "name": "#%%\n"
    }
   },
   "outputs": [
    {
     "data": {
      "text/plain": [
       "0.9999999999999999"
      ]
     },
     "execution_count": 4,
     "metadata": {},
     "output_type": "execute_result"
    }
   ],
   "source": [
    "from scipy import integrate\n",
    "\n",
    "integrate.quad(cos, 0, 𝜋/2)[0]"
   ]
  },
  {
   "cell_type": "markdown",
   "metadata": {
    "pycharm": {
     "name": "#%% md\n"
    },
    "slideshow": {
     "slide_type": "slide"
    }
   },
   "source": [
    "# Definiendo funciones\n",
    "\n",
    "Una función se crea usando la palabra clave `def` (definition) seguida de un nombre de su escogencia y paréntesis `( )`.\n",
    "\n",
    "El programador puede escoger cualquier nombre para una función, excepto las palabras claves de Python y el nombre de funciones integradas existentes.\n",
    "\n",
    "Esta línea debe terminar con un `:`, luego deben seguir las instrucciones que la función ejecuta cuando es llamada, en líneas indentadas.\n",
    "\n",
    "Por tanto, la sintaxis se ve así:\n",
    "```\n",
    "def function-name( ):\n",
    "    statements-to-be-executed\n",
    "    statements-to-be-executed\n",
    "```    "
   ]
  },
  {
   "cell_type": "markdown",
   "metadata": {
    "pycharm": {
     "name": "#%% md\n"
    },
    "slideshow": {
     "slide_type": "subslide"
    }
   },
   "source": [
    "Para averiguar las palabras claves de Python:"
   ]
  },
  {
   "cell_type": "code",
   "execution_count": 5,
   "metadata": {
    "pycharm": {
     "name": "#%%\n"
    }
   },
   "outputs": [
    {
     "name": "stdout",
     "output_type": "stream",
     "text": [
      "['False', 'None', 'True', '__peg_parser__', 'and', 'as', 'assert', 'async', 'await', 'break', 'class', 'continue', 'def', 'del', 'elif', 'else', 'except', 'finally', 'for', 'from', 'global', 'if', 'import', 'in', 'is', 'lambda', 'nonlocal', 'not', 'or', 'pass', 'raise', 'return', 'try', 'while', 'with', 'yield']\n"
     ]
    }
   ],
   "source": [
    "import keyword\n",
    "print(keyword.kwlist)"
   ]
  },
  {
   "cell_type": "markdown",
   "metadata": {
    "pycharm": {
     "name": "#%% md\n"
    },
    "slideshow": {
     "slide_type": "subslide"
    }
   },
   "source": [
    "## Una función sin argumentos"
   ]
  },
  {
   "cell_type": "code",
   "execution_count": 6,
   "metadata": {
    "pycharm": {
     "name": "#%%\n"
    }
   },
   "outputs": [],
   "source": [
    "def hello( ):\n",
    "    print('Hello')\n",
    "    print('Welcome to the UCR!')"
   ]
  },
  {
   "cell_type": "markdown",
   "metadata": {
    "pycharm": {
     "name": "#%% md\n"
    },
    "slideshow": {
     "slide_type": "fragment"
    }
   },
   "source": [
    "Para correr esta función"
   ]
  },
  {
   "cell_type": "code",
   "execution_count": 7,
   "metadata": {
    "pycharm": {
     "name": "#%%\n"
    }
   },
   "outputs": [
    {
     "name": "stdout",
     "output_type": "stream",
     "text": [
      "Hello\n",
      "Welcome to the UCR!\n"
     ]
    }
   ],
   "source": [
    "hello()"
   ]
  },
  {
   "cell_type": "code",
   "execution_count": 8,
   "metadata": {
    "pycharm": {
     "name": "#%%\n"
    }
   },
   "outputs": [],
   "source": [
    "saludar = hello"
   ]
  },
  {
   "cell_type": "code",
   "execution_count": 9,
   "metadata": {
    "pycharm": {
     "name": "#%%\n"
    }
   },
   "outputs": [
    {
     "name": "stdout",
     "output_type": "stream",
     "text": [
      "Hello\n",
      "Welcome to the UCR!\n"
     ]
    }
   ],
   "source": [
    "saludar()"
   ]
  },
  {
   "cell_type": "markdown",
   "metadata": {
    "pycharm": {
     "name": "#%% md\n"
    },
    "slideshow": {
     "slide_type": "subslide"
    }
   },
   "source": [
    "## Una función con argumentos\n",
    "\n",
    "Supongamos que deseamos escribir una función para convertir un dato de temperatura de Celsius a Fahrenheit. Para ello, sabemos que:\n",
    "$$F = \\tfrac{9}{5}C + 32 = 1.8C + 32$$"
   ]
  },
  {
   "cell_type": "code",
   "execution_count": 10,
   "metadata": {
    "pycharm": {
     "name": "#%%\n"
    },
    "scrolled": true
   },
   "outputs": [
    {
     "name": "stdout",
     "output_type": "stream",
     "text": [
      "15.0° Celsius es igual a 59.0° Fahrenheit\n"
     ]
    }
   ],
   "source": [
    "def c2f(c):\n",
    "    f = 1.8 * c + 32\n",
    "    print(f'{c:.1f}° Celsius es igual a {f:.1f}° Fahrenheit')\n",
    "\n",
    "c2f(15)"
   ]
  },
  {
   "cell_type": "code",
   "execution_count": 11,
   "metadata": {
    "pycharm": {
     "name": "#%%\n"
    }
   },
   "outputs": [
    {
     "name": "stdout",
     "output_type": "stream",
     "text": [
      "100.0° Celsius es igual a 212.0° Fahrenheit\n"
     ]
    }
   ],
   "source": [
    "y = c2f(100)"
   ]
  },
  {
   "cell_type": "code",
   "execution_count": 12,
   "metadata": {
    "pycharm": {
     "name": "#%%\n"
    }
   },
   "outputs": [
    {
     "data": {
      "text/plain": [
       "NoneType"
      ]
     },
     "execution_count": 12,
     "metadata": {},
     "output_type": "execute_result"
    }
   ],
   "source": [
    "type(y)"
   ]
  },
  {
   "cell_type": "markdown",
   "metadata": {
    "pycharm": {
     "name": "#%% md\n"
    },
    "slideshow": {
     "slide_type": "subslide"
    }
   },
   "source": [
    "## Una función que retorna un valor"
   ]
  },
  {
   "cell_type": "code",
   "execution_count": 13,
   "metadata": {
    "pycharm": {
     "name": "#%%\n"
    }
   },
   "outputs": [],
   "source": [
    "def c2f(c):\n",
    "    f = 1.8 * c + 32\n",
    "    return f"
   ]
  },
  {
   "cell_type": "code",
   "execution_count": 14,
   "metadata": {
    "pycharm": {
     "name": "#%%\n"
    }
   },
   "outputs": [
    {
     "name": "stdout",
     "output_type": "stream",
     "text": [
      "59.0\n"
     ]
    }
   ],
   "source": [
    "x = c2f(15)\n",
    "print(x)"
   ]
  },
  {
   "cell_type": "markdown",
   "metadata": {
    "pycharm": {
     "name": "#%% md\n"
    },
    "slideshow": {
     "slide_type": "subslide"
    }
   },
   "source": [
    "## Una función con parámetros predeterminados"
   ]
  },
  {
   "cell_type": "code",
   "execution_count": 15,
   "metadata": {
    "pycharm": {
     "name": "#%%\n"
    }
   },
   "outputs": [
    {
     "data": {
      "text/plain": [
       "59.0"
      ]
     },
     "execution_count": 15,
     "metadata": {},
     "output_type": "execute_result"
    }
   ],
   "source": [
    "def c2f(c, *, mayuscula=False, mostrar=False):\n",
    "    f = 1.8 * c + 32\n",
    "    if mostrar:\n",
    "        if mayuscula:\n",
    "            print(f'{c:.1f}° CELSIUS = {f:.1f} FAHRENHEIT')\n",
    "        else:\n",
    "            print(f'{c:.1f}° Celsius = {f:.1f} Fahrenheit')\n",
    "    return f\n",
    "\n",
    "c2f(15)"
   ]
  },
  {
   "cell_type": "code",
   "execution_count": 16,
   "metadata": {
    "pycharm": {
     "name": "#%%\n"
    },
    "slideshow": {
     "slide_type": "subslide"
    }
   },
   "outputs": [
    {
     "name": "stdout",
     "output_type": "stream",
     "text": [
      "15.0° CELSIUS = 59.0 FAHRENHEIT\n"
     ]
    },
    {
     "data": {
      "text/plain": [
       "59.0"
      ]
     },
     "execution_count": 16,
     "metadata": {},
     "output_type": "execute_result"
    }
   ],
   "source": [
    "c2f(15, mostrar=True, mayuscula=True)"
   ]
  },
  {
   "cell_type": "code",
   "execution_count": 17,
   "metadata": {
    "pycharm": {
     "name": "#%%\n"
    },
    "scrolled": true,
    "slideshow": {
     "slide_type": "fragment"
    }
   },
   "outputs": [
    {
     "name": "stdout",
     "output_type": "stream",
     "text": [
      "15.0° Celsius = 59.0 Fahrenheit\n"
     ]
    },
    {
     "data": {
      "text/plain": [
       "59.0"
      ]
     },
     "execution_count": 17,
     "metadata": {},
     "output_type": "execute_result"
    }
   ],
   "source": [
    "c2f(15, mostrar=True)"
   ]
  },
  {
   "cell_type": "markdown",
   "metadata": {
    "pycharm": {
     "name": "#%% md\n"
    },
    "slideshow": {
     "slide_type": "subslide"
    }
   },
   "source": [
    "## Una función con un número indefinido de parámetros posicionales\n",
    "\n",
    "Supongamos que queremos escribir una función que dependa de un número indefinido de parámetros. Por ejemplo, la función `print` imprime un número arbitrario de elementos:"
   ]
  },
  {
   "cell_type": "code",
   "execution_count": 18,
   "metadata": {
    "pycharm": {
     "name": "#%%\n"
    }
   },
   "outputs": [
    {
     "name": "stdout",
     "output_type": "stream",
     "text": [
      "3 4 6\n"
     ]
    }
   ],
   "source": [
    "print(3, 4, 6)\n"
   ]
  },
  {
   "cell_type": "code",
   "execution_count": 19,
   "metadata": {
    "pycharm": {
     "name": "#%%\n"
    }
   },
   "outputs": [
    {
     "name": "stdout",
     "output_type": "stream",
     "text": [
      "5 3 7 1 perro\n"
     ]
    }
   ],
   "source": [
    "print(5,3,7,1,\"perro\")"
   ]
  },
  {
   "cell_type": "markdown",
   "metadata": {
    "pycharm": {
     "name": "#%% md\n"
    }
   },
   "source": [
    "Claramente no sería práctico hacer una función distinta para cada posible número de argumentos. Para ello utilizamos `*args` (**arg**ument**s**) en la definición de la función. Por ejemplo, para escribir una operación de suma:"
   ]
  },
  {
   "cell_type": "code",
   "execution_count": 20,
   "metadata": {
    "pycharm": {
     "name": "#%%\n"
    }
   },
   "outputs": [],
   "source": [
    "def imprimir_suma(*args):\n",
    "    numeros = (str(x) for x in args)\n",
    "    sumando = ' + '.join(numeros) \n",
    "    resultado = sum(args)\n",
    "    print(sumando, \" = \", resultado)\n",
    "    print(f'\\nEjecutando imprimir_suma con args = ', args, sep='\\n')\n",
    "    print(f'\\nEjecutando imprimir suma con *args = ', *args, sep='\\n')"
   ]
  },
  {
   "cell_type": "code",
   "execution_count": 21,
   "metadata": {
    "pycharm": {
     "name": "#%%\n"
    }
   },
   "outputs": [
    {
     "name": "stdout",
     "output_type": "stream",
     "text": [
      "3 + 2 + 5  =  10\n",
      "\n",
      "Ejecutando imprimir_suma con args = \n",
      "(3, 2, 5)\n",
      "\n",
      "Ejecutando imprimir suma con *args = \n",
      "3\n",
      "2\n",
      "5\n"
     ]
    }
   ],
   "source": [
    "imprimir_suma(3,2,5)"
   ]
  },
  {
   "cell_type": "code",
   "execution_count": 22,
   "metadata": {
    "pycharm": {
     "name": "#%%\n"
    }
   },
   "outputs": [
    {
     "name": "stdout",
     "output_type": "stream",
     "text": [
      "1 + 1 + 1 + 1 + 1  =  5\n",
      "\n",
      "Ejecutando imprimir_suma con args = \n",
      "(1, 1, 1, 1, 1)\n",
      "\n",
      "Ejecutando imprimir suma con *args = \n",
      "1\n",
      "1\n",
      "1\n",
      "1\n",
      "1\n"
     ]
    }
   ],
   "source": [
    "imprimir_suma(1,1,1,1,1)"
   ]
  },
  {
   "cell_type": "markdown",
   "metadata": {
    "pycharm": {
     "name": "#%% md\n"
    }
   },
   "source": [
    "Vemos que a lo interno de la función, `args` es una tupla, mientras que `*args` son los elementos individuales de esa tupla."
   ]
  },
  {
   "cell_type": "markdown",
   "metadata": {
    "pycharm": {
     "name": "#%% md\n"
    },
    "slideshow": {
     "slide_type": "subslide"
    }
   },
   "source": [
    "## Una función con un número indefinido de parámetros de palabra clave\n",
    "\n",
    "Supongamos que queremos escribir una función que dependa de un número indefinido de parámetros de palabras clave (usualmente para especificar opciones). Para ello, agrupamos esos parámetros en la variable `**kwargs` (**k**ey**w**ord **arg**ument**s**)"
   ]
  },
  {
   "cell_type": "code",
   "execution_count": 23,
   "metadata": {
    "pycharm": {
     "name": "#%%\n"
    }
   },
   "outputs": [],
   "source": [
    "def imprimir_opciones(**kwargs):\n",
    "    for parametro, valor in kwargs.items():\n",
    "        print(parametro, \" = \", valor)\n",
    "    \n",
    "    print(f'\\nEjecutando imprimir_suma con kargs = ', kwargs, sep='\\n')"
   ]
  },
  {
   "cell_type": "code",
   "execution_count": 24,
   "metadata": {
    "pycharm": {
     "name": "#%%\n"
    }
   },
   "outputs": [
    {
     "name": "stdout",
     "output_type": "stream",
     "text": [
      "color  =  rojo\n",
      "modelo  =  2018\n",
      "marca  =  Honda\n",
      "estilo  =  SUV\n",
      "\n",
      "Ejecutando imprimir_suma con kargs = \n",
      "{'color': 'rojo', 'modelo': '2018', 'marca': 'Honda', 'estilo': 'SUV'}\n"
     ]
    }
   ],
   "source": [
    "imprimir_opciones(color='rojo', modelo='2018', marca='Honda', estilo='SUV')"
   ]
  },
  {
   "cell_type": "markdown",
   "metadata": {
    "pycharm": {
     "name": "#%% md\n"
    }
   },
   "source": [
    "Vemos que a lo interno de la función, `**kwargs` es un diccionario. Esta característica de Python es muy útil para fijar un grupo de opciones en un diccionario y pasarlas repetidamente a funciones. Por ejemplo, la función `print` separa elementos con un espacio y termina la operación con un salto de linea:"
   ]
  },
  {
   "cell_type": "code",
   "execution_count": 25,
   "metadata": {
    "pycharm": {
     "name": "#%%\n"
    }
   },
   "outputs": [
    {
     "data": {
      "text/plain": [
       "\u001b[1;31mDocstring:\u001b[0m\n",
       "print(value, ..., sep=' ', end='\\n', file=sys.stdout, flush=False)\n",
       "\n",
       "Prints the values to a stream, or to sys.stdout by default.\n",
       "Optional keyword arguments:\n",
       "file:  a file-like object (stream); defaults to the current sys.stdout.\n",
       "sep:   string inserted between values, default a space.\n",
       "end:   string appended after the last value, default a newline.\n",
       "flush: whether to forcibly flush the stream.\n",
       "\u001b[1;31mType:\u001b[0m      builtin_function_or_method\n"
      ]
     },
     "metadata": {},
     "output_type": "display_data"
    }
   ],
   "source": [
    "?print"
   ]
  },
  {
   "cell_type": "markdown",
   "metadata": {
    "pycharm": {
     "name": "#%% md\n"
    }
   },
   "source": [
    "Podemos cambiar estos valores repetidamente así:"
   ]
  },
  {
   "cell_type": "code",
   "execution_count": 26,
   "metadata": {
    "pycharm": {
     "name": "#%%\n"
    }
   },
   "outputs": [
    {
     "name": "stdout",
     "output_type": "stream",
     "text": [
      "1 2 3\n",
      "4 5 6\n"
     ]
    }
   ],
   "source": [
    "print(1,2,3)\n",
    "print(4,5,6)"
   ]
  },
  {
   "cell_type": "code",
   "execution_count": 27,
   "metadata": {
    "pycharm": {
     "name": "#%%\n"
    }
   },
   "outputs": [
    {
     "name": "stdout",
     "output_type": "stream",
     "text": [
      "1 /*\\ 2 /*\\ 3\n",
      "\n",
      "4 /*\\ 5 /*\\ 6\n",
      "\n"
     ]
    }
   ],
   "source": [
    "OPCIONES = {'sep': ' /*\\ ', 'end': '\\n\\n'}\n",
    "\n",
    "print(1,2,3, **OPCIONES)\n",
    "print(4,5,6, **OPCIONES)"
   ]
  },
  {
   "cell_type": "code",
   "execution_count": 28,
   "metadata": {
    "pycharm": {
     "name": "#%%\n"
    }
   },
   "outputs": [
    {
     "name": "stdout",
     "output_type": "stream",
     "text": [
      "3 2 5 {'sep': ' /*\\\\ ', 'end': '\\n\\n'}\n"
     ]
    }
   ],
   "source": [
    "print(3,2,5, OPCIONES)"
   ]
  },
  {
   "cell_type": "markdown",
   "metadata": {
    "pycharm": {
     "name": "#%% md\n"
    }
   },
   "source": [
    "En la práctica, podemos combinar ambas características:"
   ]
  },
  {
   "cell_type": "code",
   "execution_count": 29,
   "metadata": {
    "pycharm": {
     "name": "#%%\n"
    }
   },
   "outputs": [],
   "source": [
    "def imprimir_operacion(*numeros, **print_options):\n",
    "    print('Sin tomar en cuenta las opciones, la tupla de números es ')\n",
    "    print(*numeros)\n",
    "    print('pero tomando en cuenta las opciones, la tupla de números es ')\n",
    "    print(*numeros, **print_options)"
   ]
  },
  {
   "cell_type": "code",
   "execution_count": 30,
   "metadata": {
    "pycharm": {
     "name": "#%%\n"
    }
   },
   "outputs": [
    {
     "name": "stdout",
     "output_type": "stream",
     "text": [
      "Sin tomar en cuenta las opciones, la tupla de números es \n",
      "2 5 3 6 8 1\n",
      "pero tomando en cuenta las opciones, la tupla de números es \n",
      "2 5 3 6 8 1\n"
     ]
    }
   ],
   "source": [
    "imprimir_operacion(2,5,3,6,8,1)"
   ]
  },
  {
   "cell_type": "code",
   "execution_count": 31,
   "metadata": {
    "pycharm": {
     "name": "#%%\n"
    }
   },
   "outputs": [
    {
     "name": "stdout",
     "output_type": "stream",
     "text": [
      "Sin tomar en cuenta las opciones, la tupla de números es \n",
      "2 5 3 6 8 1\n",
      "pero tomando en cuenta las opciones, la tupla de números es \n",
      "2 * 5 * 3 * 6 * 8 * 1 = ¿quién sabe?!!\n"
     ]
    }
   ],
   "source": [
    "OPCIONES = dict(sep = ' * ', end = ' = ¿quién sabe?!!\\n')\n",
    "imprimir_operacion(2,5,3,6,8,1, **OPCIONES)"
   ]
  },
  {
   "cell_type": "markdown",
   "metadata": {
    "pycharm": {
     "name": "#%% md\n"
    }
   },
   "source": [
    "Vemos que lo importante de `*args` y `**kwargs` es el número de asteriscos, no el nombre mismo de la variable."
   ]
  },
  {
   "cell_type": "markdown",
   "metadata": {
    "pycharm": {
     "name": "#%% md\n"
    }
   },
   "source": [
    "# Documentando una función\n",
    "\n",
    "¡Es muy importante documentar lo que hace su código!"
   ]
  },
  {
   "cell_type": "code",
   "execution_count": 32,
   "metadata": {
    "pycharm": {
     "name": "#%%\n"
    }
   },
   "outputs": [],
   "source": [
    "def c2f(c, show=False):\n",
    "    \"\"\"\n",
    "    Convierte dato de temperatura de grados Celsius a grados Fahrenheit\n",
    "    \n",
    "    Parámetros:\n",
    "      c: un número escalar, grados en Celsius\n",
    "      show: un boolean, imprime el resultado si `True`\n",
    "    Resultado:\n",
    "      un número escalar, grados en Fahrenheit\n",
    "    Ejemplo:\n",
    "      c2f(0)  # da 32.0 por resultado\n",
    "    \"\"\"\n",
    "    f = 1.8 * c + 32\n",
    "    if show:\n",
    "        print(f'{c:.1f}° Celsius = {f:.1f} Fahrenheit')\n",
    "    return f\n",
    "\n",
    "z = c2f(15)"
   ]
  },
  {
   "cell_type": "code",
   "execution_count": 33,
   "metadata": {
    "inputHidden": false,
    "outputHidden": false,
    "pycharm": {
     "name": "#%%\n"
    },
    "scrolled": true
   },
   "outputs": [
    {
     "name": "stdout",
     "output_type": "stream",
     "text": [
      "Help on function c2f in module __main__:\n",
      "\n",
      "c2f(c, show=False)\n",
      "    Convierte dato de temperatura de grados Celsius a grados Fahrenheit\n",
      "    \n",
      "    Parámetros:\n",
      "      c: un número escalar, grados en Celsius\n",
      "      show: un boolean, imprime el resultado si `True`\n",
      "    Resultado:\n",
      "      un número escalar, grados en Fahrenheit\n",
      "    Ejemplo:\n",
      "      c2f(0)  # da 32.0 por resultado\n",
      "\n"
     ]
    }
   ],
   "source": [
    "help(c2f)"
   ]
  },
  {
   "cell_type": "code",
   "execution_count": 34,
   "metadata": {
    "pycharm": {
     "name": "#%%\n"
    }
   },
   "outputs": [
    {
     "data": {
      "text/plain": [
       "\u001b[1;31mSignature:\u001b[0m \u001b[0mc2f\u001b[0m\u001b[1;33m(\u001b[0m\u001b[0mc\u001b[0m\u001b[1;33m,\u001b[0m \u001b[0mshow\u001b[0m\u001b[1;33m=\u001b[0m\u001b[1;32mFalse\u001b[0m\u001b[1;33m)\u001b[0m\u001b[1;33m\u001b[0m\u001b[1;33m\u001b[0m\u001b[0m\n",
       "\u001b[1;31mDocstring:\u001b[0m\n",
       "Convierte dato de temperatura de grados Celsius a grados Fahrenheit\n",
       "\n",
       "Parámetros:\n",
       "  c: un número escalar, grados en Celsius\n",
       "  show: un boolean, imprime el resultado si `True`\n",
       "Resultado:\n",
       "  un número escalar, grados en Fahrenheit\n",
       "Ejemplo:\n",
       "  c2f(0)  # da 32.0 por resultado\n",
       "\u001b[1;31mFile:\u001b[0m      c:\\users\\randa\\appdata\\local\\temp\\ipykernel_8000\\3486068780.py\n",
       "\u001b[1;31mType:\u001b[0m      function\n"
      ]
     },
     "metadata": {},
     "output_type": "display_data"
    }
   ],
   "source": [
    "?c2f"
   ]
  },
  {
   "cell_type": "markdown",
   "metadata": {
    "pycharm": {
     "name": "#%% md\n"
    },
    "slideshow": {
     "slide_type": "slide"
    }
   },
   "source": [
    "# Entendiendo el ámbito de una variable"
   ]
  },
  {
   "cell_type": "markdown",
   "metadata": {
    "pycharm": {
     "name": "#%% md\n"
    }
   },
   "source": [
    "Cuando una función encuentra una variable dentro de su definición que no hay sido definida dentro de la función, buscará su definición en el ambiente donde la función fue definida."
   ]
  },
  {
   "cell_type": "code",
   "execution_count": 35,
   "metadata": {
    "pycharm": {
     "name": "#%%\n"
    },
    "slideshow": {
     "slide_type": "fragment"
    }
   },
   "outputs": [],
   "source": [
    "pi = 3.1415\n",
    "\n",
    "def area(r):\n",
    "    A = pi * r**2\n",
    "    return A"
   ]
  },
  {
   "cell_type": "code",
   "execution_count": 36,
   "metadata": {
    "pycharm": {
     "name": "#%%\n"
    }
   },
   "outputs": [
    {
     "data": {
      "text/plain": [
       "3.1415"
      ]
     },
     "execution_count": 36,
     "metadata": {},
     "output_type": "execute_result"
    }
   ],
   "source": [
    "pi"
   ]
  },
  {
   "cell_type": "code",
   "execution_count": 37,
   "metadata": {
    "pycharm": {
     "name": "#%%\n"
    },
    "slideshow": {
     "slide_type": "fragment"
    }
   },
   "outputs": [
    {
     "name": "stdout",
     "output_type": "stream",
     "text": [
      "314.15000000000003\n"
     ]
    }
   ],
   "source": [
    "print(area(10))"
   ]
  },
  {
   "cell_type": "markdown",
   "metadata": {
    "pycharm": {
     "name": "#%% md\n"
    }
   },
   "source": [
    "La siguiente línea da un error, porque `A` es una variable definida a lo interno de la función `area`, por lo que no es visible desde \"fuera\" de la función:"
   ]
  },
  {
   "cell_type": "code",
   "execution_count": 38,
   "metadata": {
    "pycharm": {
     "name": "#%%\n"
    },
    "slideshow": {
     "slide_type": "subslide"
    }
   },
   "outputs": [
    {
     "ename": "NameError",
     "evalue": "name 'A' is not defined",
     "output_type": "error",
     "traceback": [
      "\u001b[1;31m---------------------------------------------------------------------------\u001b[0m",
      "\u001b[1;31mNameError\u001b[0m                                 Traceback (most recent call last)",
      "\u001b[1;32m~\\AppData\\Local\\Temp/ipykernel_8000/212384544.py\u001b[0m in \u001b[0;36m<module>\u001b[1;34m\u001b[0m\n\u001b[1;32m----> 1\u001b[1;33m \u001b[0mprint\u001b[0m\u001b[1;33m(\u001b[0m\u001b[0mA\u001b[0m\u001b[1;33m)\u001b[0m\u001b[1;33m\u001b[0m\u001b[1;33m\u001b[0m\u001b[0m\n\u001b[0m",
      "\u001b[1;31mNameError\u001b[0m: name 'A' is not defined"
     ]
    }
   ],
   "source": [
    "print(A)"
   ]
  },
  {
   "cell_type": "markdown",
   "metadata": {
    "pycharm": {
     "name": "#%% md\n"
    }
   },
   "source": [
    "Ahora cambiamos el valor de `pi`, y ejectamos `area` de nuevo:"
   ]
  },
  {
   "cell_type": "code",
   "execution_count": 39,
   "metadata": {
    "pycharm": {
     "name": "#%%\n"
    },
    "slideshow": {
     "slide_type": "subslide"
    }
   },
   "outputs": [
    {
     "data": {
      "text/plain": [
       "900"
      ]
     },
     "execution_count": 39,
     "metadata": {},
     "output_type": "execute_result"
    }
   ],
   "source": [
    "pi = 9\n",
    "area(10)"
   ]
  },
  {
   "cell_type": "markdown",
   "metadata": {
    "pycharm": {
     "name": "#%% md\n"
    }
   },
   "source": [
    "Vemos que el resultado cambia!!! Esto se debe a que la función `area` busca el valor de `pi` cada vez que es ejecutada, **no** al momento de definir la función."
   ]
  }
 ],
 "metadata": {
  "kernel_info": {
   "name": "python3"
  },
  "kernelspec": {
   "display_name": "Python 3 (ipykernel)",
   "language": "python",
   "name": "python3"
  },
  "language_info": {
   "codemirror_mode": {
    "name": "ipython",
    "version": 3
   },
   "file_extension": ".py",
   "mimetype": "text/x-python",
   "name": "python",
   "nbconvert_exporter": "python",
   "pygments_lexer": "ipython3",
   "version": "3.9.7"
  },
  "nteract": {
   "version": "0.14.3"
  },
  "toc-autonumbering": false,
  "toc-showtags": false
 },
 "nbformat": 4,
 "nbformat_minor": 4
}