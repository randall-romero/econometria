{
 "cells": [
  {
   "cell_type": "markdown",
   "metadata": {
    "pycharm": {
     "name": "#%% md\n"
    },
    "slideshow": {
     "slide_type": "slide"
    }
   },
   "source": [
    "# Importando y manipulando datos con Python"
   ]
  },
  {
   "cell_type": "markdown",
   "metadata": {
    "pycharm": {
     "name": "#%% md\n"
    }
   },
   "source": [
    "## Ejemplo 1: Importando datos de Internet"
   ]
  },
  {
   "cell_type": "markdown",
   "metadata": {
    "pycharm": {
     "name": "#%% md\n"
    }
   },
   "source": [
    "A menudo necesitamos darle seguimiento a algunos indicadores económicos. Este trabajo usualmente requiere:\n",
    "* visitar el sitio de Internet del proveedor de datos, \n",
    "* buscar los indicadores requeridos, \n",
    "* descargar los datos (posiblemente en varios archivos separados), \n",
    "* copiar los datos a un solo archivo, \n",
    "* acomodar los datos de manera apropiada, \n",
    "* y solo después de que se hayan completado estas engorrosas tareas, graficarlos. \n",
    "\n",
    "Si este trabajo debe realizarse periódicamente entonces también se hace necesario documentar exhaustivamente cada uno de estos pasos, de manera que podamos replicarlos de manera exacta en un futuro. Sobra decir que, si estas tareas hay que realizarlas para múltiples indicadores, el trabajo termina demandando una cantidad de tiempo considerable y además es muy susceptible a errores."
   ]
  },
  {
   "cell_type": "markdown",
   "metadata": {
    "pycharm": {
     "name": "#%% md\n"
    }
   },
   "source": [
    "Para facilitar este trabajo, podemos utilizar Python para descargar datos disponibles en Internet directamente, gracias a paquetes como [pandas-datareader](https://pandas-datareader.readthedocs.io/en/latest/index.html). Esto se hace fácilmente cuando los proveedores de datos proporcionan una API (interfaz de programa de aplicación) que especifica cómo un lenguaje como Python puede encontrar los datos deseados."
   ]
  },
  {
   "cell_type": "markdown",
   "metadata": {
    "pycharm": {
     "name": "#%% md\n"
    }
   },
   "source": [
    "Vamos a ilustrar esto con un ejemplo. Supongamos que queremos datos recientes sobre el crecimiento económico para los países miembros de la CMCA. El Banco Mundial proporciona los datos pertinentes en su \"World Database\", que podemos leer con el módulo `wb` de `pandas_datareader`."
   ]
  },
  {
   "cell_type": "code",
   "execution_count": 1,
   "metadata": {
    "pycharm": {
     "name": "#%%\n"
    }
   },
   "outputs": [],
   "source": [
    "import pandas as pd\n",
    "from pandas_datareader import wb\n",
    "import matplotlib.pyplot as plt\n",
    "\n",
    "pd.set_option('display.precision',2)\n",
    "%matplotlib inline"
   ]
  },
  {
   "cell_type": "markdown",
   "metadata": {
    "pycharm": {
     "name": "#%% md\n"
    }
   },
   "source": [
    "Para poder descargar datos del Banco Mundial, primero necesitamos saber el código exacto del indicador que queremos leer. La primera vez que hagamos esta tarea no conoceremos este código, pero podemos buscarlo en el sitio web del Banco Mundial o más fácilmente desde python. Por ejemplo, para encontrar datos sobre el PIB real per cápita, ejecutamos la función `.search()`:"
   ]
  },
  {
   "cell_type": "code",
   "execution_count": 2,
   "metadata": {
    "pycharm": {
     "name": "#%%\n"
    }
   },
   "outputs": [
    {
     "data": {
      "text/html": [
       "<div>\n",
       "<style scoped>\n",
       "    .dataframe tbody tr th:only-of-type {\n",
       "        vertical-align: middle;\n",
       "    }\n",
       "\n",
       "    .dataframe tbody tr th {\n",
       "        vertical-align: top;\n",
       "    }\n",
       "\n",
       "    .dataframe thead th {\n",
       "        text-align: right;\n",
       "    }\n",
       "</style>\n",
       "<table border=\"1\" class=\"dataframe\">\n",
       "  <thead>\n",
       "    <tr style=\"text-align: right;\">\n",
       "      <th></th>\n",
       "      <th>id</th>\n",
       "      <th>name</th>\n",
       "      <th>unit</th>\n",
       "      <th>source</th>\n",
       "      <th>sourceNote</th>\n",
       "      <th>sourceOrganization</th>\n",
       "      <th>topics</th>\n",
       "    </tr>\n",
       "  </thead>\n",
       "  <tbody>\n",
       "    <tr>\n",
       "      <th>716</th>\n",
       "      <td>6.0.GDPpc_constant</td>\n",
       "      <td>GDP per capita, PPP (constant 2011 internation...</td>\n",
       "      <td></td>\n",
       "      <td>LAC Equity Lab</td>\n",
       "      <td>GDP per capita based on purchasing power parit...</td>\n",
       "      <td>b'World Development Indicators (World Bank)'</td>\n",
       "      <td>Economy &amp; Growth</td>\n",
       "    </tr>\n",
       "    <tr>\n",
       "      <th>10411</th>\n",
       "      <td>NY.GDP.PCAP.KD</td>\n",
       "      <td>GDP per capita (constant 2015 US$)</td>\n",
       "      <td></td>\n",
       "      <td>World Development Indicators</td>\n",
       "      <td>GDP per capita is gross domestic product divid...</td>\n",
       "      <td>b'World Bank national accounts data, and OECD ...</td>\n",
       "      <td>Economy &amp; Growth</td>\n",
       "    </tr>\n",
       "    <tr>\n",
       "      <th>10413</th>\n",
       "      <td>NY.GDP.PCAP.KN</td>\n",
       "      <td>GDP per capita (constant LCU)</td>\n",
       "      <td></td>\n",
       "      <td>World Development Indicators</td>\n",
       "      <td>GDP per capita is gross domestic product divid...</td>\n",
       "      <td>b'World Bank national accounts data, and OECD ...</td>\n",
       "      <td>Economy &amp; Growth</td>\n",
       "    </tr>\n",
       "    <tr>\n",
       "      <th>10415</th>\n",
       "      <td>NY.GDP.PCAP.PP.KD</td>\n",
       "      <td>GDP per capita, PPP (constant 2017 internation...</td>\n",
       "      <td></td>\n",
       "      <td>World Development Indicators</td>\n",
       "      <td>GDP per capita based on purchasing power parit...</td>\n",
       "      <td>b'International Comparison Program, World Bank...</td>\n",
       "      <td>Economy &amp; Growth</td>\n",
       "    </tr>\n",
       "    <tr>\n",
       "      <th>10416</th>\n",
       "      <td>NY.GDP.PCAP.PP.KD.87</td>\n",
       "      <td>GDP per capita, PPP (constant 1987 internation...</td>\n",
       "      <td></td>\n",
       "      <td>WDI Database Archives</td>\n",
       "      <td></td>\n",
       "      <td>b''</td>\n",
       "      <td></td>\n",
       "    </tr>\n",
       "  </tbody>\n",
       "</table>\n",
       "</div>"
      ],
      "text/plain": [
       "                         id  \\\n",
       "716      6.0.GDPpc_constant   \n",
       "10411        NY.GDP.PCAP.KD   \n",
       "10413        NY.GDP.PCAP.KN   \n",
       "10415     NY.GDP.PCAP.PP.KD   \n",
       "10416  NY.GDP.PCAP.PP.KD.87   \n",
       "\n",
       "                                                    name unit  \\\n",
       "716    GDP per capita, PPP (constant 2011 internation...        \n",
       "10411                 GDP per capita (constant 2015 US$)        \n",
       "10413                      GDP per capita (constant LCU)        \n",
       "10415  GDP per capita, PPP (constant 2017 internation...        \n",
       "10416  GDP per capita, PPP (constant 1987 internation...        \n",
       "\n",
       "                             source  \\\n",
       "716                  LAC Equity Lab   \n",
       "10411  World Development Indicators   \n",
       "10413  World Development Indicators   \n",
       "10415  World Development Indicators   \n",
       "10416         WDI Database Archives   \n",
       "\n",
       "                                              sourceNote  \\\n",
       "716    GDP per capita based on purchasing power parit...   \n",
       "10411  GDP per capita is gross domestic product divid...   \n",
       "10413  GDP per capita is gross domestic product divid...   \n",
       "10415  GDP per capita based on purchasing power parit...   \n",
       "10416                                                      \n",
       "\n",
       "                                      sourceOrganization            topics  \n",
       "716         b'World Development Indicators (World Bank)'  Economy & Growth  \n",
       "10411  b'World Bank national accounts data, and OECD ...  Economy & Growth  \n",
       "10413  b'World Bank national accounts data, and OECD ...  Economy & Growth  \n",
       "10415  b'International Comparison Program, World Bank...  Economy & Growth  \n",
       "10416                                                b''                    "
      ]
     },
     "execution_count": 2,
     "metadata": {},
     "output_type": "execute_result"
    }
   ],
   "source": [
    "wb.search('gdp.*capita.*const')"
   ]
  },
  {
   "cell_type": "code",
   "execution_count": 3,
   "metadata": {
    "pycharm": {
     "name": "#%%\n"
    }
   },
   "outputs": [
    {
     "data": {
      "text/html": [
       "<div>\n",
       "<style scoped>\n",
       "    .dataframe tbody tr th:only-of-type {\n",
       "        vertical-align: middle;\n",
       "    }\n",
       "\n",
       "    .dataframe tbody tr th {\n",
       "        vertical-align: top;\n",
       "    }\n",
       "\n",
       "    .dataframe thead th {\n",
       "        text-align: right;\n",
       "    }\n",
       "</style>\n",
       "<table border=\"1\" class=\"dataframe\">\n",
       "  <thead>\n",
       "    <tr style=\"text-align: right;\">\n",
       "      <th></th>\n",
       "      <th>id</th>\n",
       "      <th>name</th>\n",
       "    </tr>\n",
       "  </thead>\n",
       "  <tbody>\n",
       "    <tr>\n",
       "      <th>716</th>\n",
       "      <td>6.0.GDPpc_constant</td>\n",
       "      <td>GDP per capita, PPP (constant 2011 internation...</td>\n",
       "    </tr>\n",
       "    <tr>\n",
       "      <th>10411</th>\n",
       "      <td>NY.GDP.PCAP.KD</td>\n",
       "      <td>GDP per capita (constant 2015 US$)</td>\n",
       "    </tr>\n",
       "    <tr>\n",
       "      <th>10413</th>\n",
       "      <td>NY.GDP.PCAP.KN</td>\n",
       "      <td>GDP per capita (constant LCU)</td>\n",
       "    </tr>\n",
       "    <tr>\n",
       "      <th>10415</th>\n",
       "      <td>NY.GDP.PCAP.PP.KD</td>\n",
       "      <td>GDP per capita, PPP (constant 2017 internation...</td>\n",
       "    </tr>\n",
       "    <tr>\n",
       "      <th>10416</th>\n",
       "      <td>NY.GDP.PCAP.PP.KD.87</td>\n",
       "      <td>GDP per capita, PPP (constant 1987 internation...</td>\n",
       "    </tr>\n",
       "  </tbody>\n",
       "</table>\n",
       "</div>"
      ],
      "text/plain": [
       "                         id                                               name\n",
       "716      6.0.GDPpc_constant  GDP per capita, PPP (constant 2011 internation...\n",
       "10411        NY.GDP.PCAP.KD                 GDP per capita (constant 2015 US$)\n",
       "10413        NY.GDP.PCAP.KN                      GDP per capita (constant LCU)\n",
       "10415     NY.GDP.PCAP.PP.KD  GDP per capita, PPP (constant 2017 internation...\n",
       "10416  NY.GDP.PCAP.PP.KD.87  GDP per capita, PPP (constant 1987 internation..."
      ]
     },
     "execution_count": 3,
     "metadata": {},
     "output_type": "execute_result"
    }
   ],
   "source": [
    "wb.search('gdp.*capita.*const').iloc[:,:2]"
   ]
  },
  {
   "cell_type": "markdown",
   "metadata": {
    "pycharm": {
     "name": "#%% md\n"
    }
   },
   "source": [
    "donde el punto seguido de un asterisco `.*` indica que cualquier texto en esa posición es una coincidencia. Esta función devuelve una tabla de datos con información sobre indicadores que coinciden con los criterios de búsqueda. En la línea anterior, usamos el código `.iloc[:,:2]` para que Python solo imprima las dos primeras columnas de esa tabla.\n",
    "\n",
    "Después de ejecutar esa búsqueda, elegimos el `'NY.GDP.PCAP.KD'`, cuya descripción es \"GDP per capita (constant 2010 US\\$)\". Definimos una variable con una lista de códigos de país de los países del CMCA:"
   ]
  },
  {
   "cell_type": "code",
   "execution_count": 4,
   "metadata": {
    "pycharm": {
     "name": "#%%\n"
    }
   },
   "outputs": [],
   "source": [
    "paises = ['CR', 'DO', 'GT', 'HN', 'NI', 'SV']"
   ]
  },
  {
   "cell_type": "markdown",
   "metadata": {
    "pycharm": {
     "name": "#%% md\n"
    }
   },
   "source": [
    "y procedemos a leer datos desde 1991:"
   ]
  },
  {
   "cell_type": "code",
   "execution_count": 5,
   "metadata": {
    "pycharm": {
     "name": "#%%\n"
    }
   },
   "outputs": [
    {
     "data": {
      "text/html": [
       "<div>\n",
       "<style scoped>\n",
       "    .dataframe tbody tr th:only-of-type {\n",
       "        vertical-align: middle;\n",
       "    }\n",
       "\n",
       "    .dataframe tbody tr th {\n",
       "        vertical-align: top;\n",
       "    }\n",
       "\n",
       "    .dataframe thead th {\n",
       "        text-align: right;\n",
       "    }\n",
       "</style>\n",
       "<table border=\"1\" class=\"dataframe\">\n",
       "  <thead>\n",
       "    <tr style=\"text-align: right;\">\n",
       "      <th></th>\n",
       "      <th></th>\n",
       "      <th>NY.GDP.PCAP.KD</th>\n",
       "    </tr>\n",
       "    <tr>\n",
       "      <th>country</th>\n",
       "      <th>year</th>\n",
       "      <th></th>\n",
       "    </tr>\n",
       "  </thead>\n",
       "  <tbody>\n",
       "    <tr>\n",
       "      <th rowspan=\"7\" valign=\"top\">Costa Rica</th>\n",
       "      <th>2019</th>\n",
       "      <td>12735.09</td>\n",
       "    </tr>\n",
       "    <tr>\n",
       "      <th>2018</th>\n",
       "      <td>12573.96</td>\n",
       "    </tr>\n",
       "    <tr>\n",
       "      <th>2017</th>\n",
       "      <td>12375.92</td>\n",
       "    </tr>\n",
       "    <tr>\n",
       "      <th>2016</th>\n",
       "      <td>12004.67</td>\n",
       "    </tr>\n",
       "    <tr>\n",
       "      <th>2015</th>\n",
       "      <td>11642.78</td>\n",
       "    </tr>\n",
       "    <tr>\n",
       "      <th>2014</th>\n",
       "      <td>11355.33</td>\n",
       "    </tr>\n",
       "    <tr>\n",
       "      <th>2013</th>\n",
       "      <td>11090.09</td>\n",
       "    </tr>\n",
       "  </tbody>\n",
       "</table>\n",
       "</div>"
      ],
      "text/plain": [
       "                 NY.GDP.PCAP.KD\n",
       "country    year                \n",
       "Costa Rica 2019        12735.09\n",
       "           2018        12573.96\n",
       "           2017        12375.92\n",
       "           2016        12004.67\n",
       "           2015        11642.78\n",
       "           2014        11355.33\n",
       "           2013        11090.09"
      ]
     },
     "execution_count": 5,
     "metadata": {},
     "output_type": "execute_result"
    }
   ],
   "source": [
    "datos = wb.download(indicator='NY.GDP.PCAP.KD',\n",
    "                    country=paises,start=1991, end=2019)\n",
    "\n",
    "datos.head(7)"
   ]
  },
  {
   "cell_type": "code",
   "execution_count": 6,
   "metadata": {
    "pycharm": {
     "name": "#%%\n"
    }
   },
   "outputs": [
    {
     "data": {
      "text/html": [
       "<div>\n",
       "<style scoped>\n",
       "    .dataframe tbody tr th:only-of-type {\n",
       "        vertical-align: middle;\n",
       "    }\n",
       "\n",
       "    .dataframe tbody tr th {\n",
       "        vertical-align: top;\n",
       "    }\n",
       "\n",
       "    .dataframe thead th {\n",
       "        text-align: right;\n",
       "    }\n",
       "</style>\n",
       "<table border=\"1\" class=\"dataframe\">\n",
       "  <thead>\n",
       "    <tr style=\"text-align: right;\">\n",
       "      <th></th>\n",
       "      <th></th>\n",
       "      <th>NY.GDP.PCAP.KD</th>\n",
       "    </tr>\n",
       "    <tr>\n",
       "      <th>country</th>\n",
       "      <th>year</th>\n",
       "      <th></th>\n",
       "    </tr>\n",
       "  </thead>\n",
       "  <tbody>\n",
       "    <tr>\n",
       "      <th rowspan=\"5\" valign=\"top\">Costa Rica</th>\n",
       "      <th>2019</th>\n",
       "      <td>12735.09</td>\n",
       "    </tr>\n",
       "    <tr>\n",
       "      <th>2018</th>\n",
       "      <td>12573.96</td>\n",
       "    </tr>\n",
       "    <tr>\n",
       "      <th>2017</th>\n",
       "      <td>12375.92</td>\n",
       "    </tr>\n",
       "    <tr>\n",
       "      <th>2016</th>\n",
       "      <td>12004.67</td>\n",
       "    </tr>\n",
       "    <tr>\n",
       "      <th>2015</th>\n",
       "      <td>11642.78</td>\n",
       "    </tr>\n",
       "    <tr>\n",
       "      <th>...</th>\n",
       "      <th>...</th>\n",
       "      <td>...</td>\n",
       "    </tr>\n",
       "    <tr>\n",
       "      <th rowspan=\"5\" valign=\"top\">El Salvador</th>\n",
       "      <th>1995</th>\n",
       "      <td>2839.21</td>\n",
       "    </tr>\n",
       "    <tr>\n",
       "      <th>1994</th>\n",
       "      <td>2743.37</td>\n",
       "    </tr>\n",
       "    <tr>\n",
       "      <th>1993</th>\n",
       "      <td>2654.52</td>\n",
       "    </tr>\n",
       "    <tr>\n",
       "      <th>1992</th>\n",
       "      <td>2542.90</td>\n",
       "    </tr>\n",
       "    <tr>\n",
       "      <th>1991</th>\n",
       "      <td>2409.03</td>\n",
       "    </tr>\n",
       "  </tbody>\n",
       "</table>\n",
       "<p>174 rows × 1 columns</p>\n",
       "</div>"
      ],
      "text/plain": [
       "                  NY.GDP.PCAP.KD\n",
       "country     year                \n",
       "Costa Rica  2019        12735.09\n",
       "            2018        12573.96\n",
       "            2017        12375.92\n",
       "            2016        12004.67\n",
       "            2015        11642.78\n",
       "...                          ...\n",
       "El Salvador 1995         2839.21\n",
       "            1994         2743.37\n",
       "            1993         2654.52\n",
       "            1992         2542.90\n",
       "            1991         2409.03\n",
       "\n",
       "[174 rows x 1 columns]"
      ]
     },
     "execution_count": 6,
     "metadata": {},
     "output_type": "execute_result"
    }
   ],
   "source": [
    "datos"
   ]
  },
  {
   "cell_type": "markdown",
   "metadata": {
    "pycharm": {
     "name": "#%% md\n"
    }
   },
   "source": [
    "También es posible leer datos de más de un indicador en una sola llamada a la función `wb.download()`, escribiendo sus códigos en una lista (tal como lo hicimos para leer datos de los seis países a la vez). En cualquier caso, obtenemos una tabla de datos en formato de panel, donde cada columna corresponde a uno de los indicadores.\n",
    "\n",
    "Para nuestro ejemplo en particular, donde solo leemos un indicador, sería útil si la tabla estuviera organizada de manera que cada fila corresponda a un año y cada columna a un país. Podemos lograrlo con esta instrucción:"
   ]
  },
  {
   "cell_type": "code",
   "execution_count": 7,
   "metadata": {
    "pycharm": {
     "name": "#%%\n"
    }
   },
   "outputs": [],
   "source": [
    "paises2 = {'Costa Rica':'CR', \n",
    "           'Dominican Republic':'DO',\n",
    "           'El Salvador':'SV',\n",
    "           'Guatemala':'GT',\n",
    "           'Honduras':'HN',\n",
    "           'Nicaragua':'NI'}"
   ]
  },
  {
   "cell_type": "code",
   "execution_count": 8,
   "metadata": {
    "pycharm": {
     "name": "#%%\n"
    }
   },
   "outputs": [
    {
     "data": {
      "text/html": [
       "<div>\n",
       "<style scoped>\n",
       "    .dataframe tbody tr th:only-of-type {\n",
       "        vertical-align: middle;\n",
       "    }\n",
       "\n",
       "    .dataframe tbody tr th {\n",
       "        vertical-align: top;\n",
       "    }\n",
       "\n",
       "    .dataframe thead tr th {\n",
       "        text-align: left;\n",
       "    }\n",
       "\n",
       "    .dataframe thead tr:last-of-type th {\n",
       "        text-align: right;\n",
       "    }\n",
       "</style>\n",
       "<table border=\"1\" class=\"dataframe\">\n",
       "  <thead>\n",
       "    <tr>\n",
       "      <th></th>\n",
       "      <th colspan=\"6\" halign=\"left\">NY.GDP.PCAP.KD</th>\n",
       "    </tr>\n",
       "    <tr>\n",
       "      <th>country</th>\n",
       "      <th>Costa Rica</th>\n",
       "      <th>Dominican Republic</th>\n",
       "      <th>El Salvador</th>\n",
       "      <th>Guatemala</th>\n",
       "      <th>Honduras</th>\n",
       "      <th>Nicaragua</th>\n",
       "    </tr>\n",
       "    <tr>\n",
       "      <th>year</th>\n",
       "      <th></th>\n",
       "      <th></th>\n",
       "      <th></th>\n",
       "      <th></th>\n",
       "      <th></th>\n",
       "      <th></th>\n",
       "    </tr>\n",
       "  </thead>\n",
       "  <tbody>\n",
       "    <tr>\n",
       "      <th>1991</th>\n",
       "      <td>6018.86</td>\n",
       "      <td>2774.25</td>\n",
       "      <td>2409.03</td>\n",
       "      <td>2758.68</td>\n",
       "      <td>1622.32</td>\n",
       "      <td>1227.53</td>\n",
       "    </tr>\n",
       "    <tr>\n",
       "      <th>1992</th>\n",
       "      <td>6403.78</td>\n",
       "      <td>3028.11</td>\n",
       "      <td>2542.90</td>\n",
       "      <td>2817.23</td>\n",
       "      <td>1672.92</td>\n",
       "      <td>1204.90</td>\n",
       "    </tr>\n",
       "    <tr>\n",
       "      <th>1993</th>\n",
       "      <td>6683.84</td>\n",
       "      <td>3191.60</td>\n",
       "      <td>2654.52</td>\n",
       "      <td>2854.13</td>\n",
       "      <td>1732.13</td>\n",
       "      <td>1173.81</td>\n",
       "    </tr>\n",
       "    <tr>\n",
       "      <th>1994</th>\n",
       "      <td>6811.11</td>\n",
       "      <td>3216.11</td>\n",
       "      <td>2743.37</td>\n",
       "      <td>2896.22</td>\n",
       "      <td>1687.46</td>\n",
       "      <td>1187.31</td>\n",
       "    </tr>\n",
       "    <tr>\n",
       "      <th>1995</th>\n",
       "      <td>6920.58</td>\n",
       "      <td>3340.04</td>\n",
       "      <td>2839.21</td>\n",
       "      <td>2965.89</td>\n",
       "      <td>1741.67</td>\n",
       "      <td>1232.32</td>\n",
       "    </tr>\n",
       "    <tr>\n",
       "      <th>1996</th>\n",
       "      <td>6846.36</td>\n",
       "      <td>3480.27</td>\n",
       "      <td>2831.39</td>\n",
       "      <td>2981.12</td>\n",
       "      <td>1724.17</td>\n",
       "      <td>1285.79</td>\n",
       "    </tr>\n",
       "    <tr>\n",
       "      <th>1997</th>\n",
       "      <td>7053.14</td>\n",
       "      <td>3727.80</td>\n",
       "      <td>2891.60</td>\n",
       "      <td>3038.71</td>\n",
       "      <td>1752.48</td>\n",
       "      <td>1312.96</td>\n",
       "    </tr>\n",
       "    <tr>\n",
       "      <th>1998</th>\n",
       "      <td>7389.05</td>\n",
       "      <td>3915.14</td>\n",
       "      <td>2941.94</td>\n",
       "      <td>3115.98</td>\n",
       "      <td>1764.41</td>\n",
       "      <td>1338.68</td>\n",
       "    </tr>\n",
       "    <tr>\n",
       "      <th>1999</th>\n",
       "      <td>7538.89</td>\n",
       "      <td>4083.64</td>\n",
       "      <td>2981.34</td>\n",
       "      <td>3160.08</td>\n",
       "      <td>1703.04</td>\n",
       "      <td>1409.79</td>\n",
       "    </tr>\n",
       "    <tr>\n",
       "      <th>2000</th>\n",
       "      <td>7678.49</td>\n",
       "      <td>4209.41</td>\n",
       "      <td>2992.90</td>\n",
       "      <td>3195.39</td>\n",
       "      <td>1777.92</td>\n",
       "      <td>1444.95</td>\n",
       "    </tr>\n",
       "    <tr>\n",
       "      <th>2001</th>\n",
       "      <td>7805.31</td>\n",
       "      <td>4249.10</td>\n",
       "      <td>2999.32</td>\n",
       "      <td>3192.31</td>\n",
       "      <td>1778.35</td>\n",
       "      <td>1465.74</td>\n",
       "    </tr>\n",
       "    <tr>\n",
       "      <th>2002</th>\n",
       "      <td>7940.43</td>\n",
       "      <td>4375.79</td>\n",
       "      <td>3028.55</td>\n",
       "      <td>3239.57</td>\n",
       "      <td>1797.89</td>\n",
       "      <td>1455.87</td>\n",
       "    </tr>\n",
       "    <tr>\n",
       "      <th>2003</th>\n",
       "      <td>8157.65</td>\n",
       "      <td>4255.77</td>\n",
       "      <td>3059.57</td>\n",
       "      <td>3250.84</td>\n",
       "      <td>1832.81</td>\n",
       "      <td>1472.04</td>\n",
       "    </tr>\n",
       "    <tr>\n",
       "      <th>2004</th>\n",
       "      <td>8395.40</td>\n",
       "      <td>4304.77</td>\n",
       "      <td>3071.55</td>\n",
       "      <td>3282.32</td>\n",
       "      <td>1899.81</td>\n",
       "      <td>1529.19</td>\n",
       "    </tr>\n",
       "    <tr>\n",
       "      <th>2005</th>\n",
       "      <td>8606.33</td>\n",
       "      <td>4647.04</td>\n",
       "      <td>3140.03</td>\n",
       "      <td>3320.16</td>\n",
       "      <td>1967.22</td>\n",
       "      <td>1573.05</td>\n",
       "    </tr>\n",
       "    <tr>\n",
       "      <th>2006</th>\n",
       "      <td>9109.53</td>\n",
       "      <td>5006.55</td>\n",
       "      <td>3261.76</td>\n",
       "      <td>3427.68</td>\n",
       "      <td>2048.27</td>\n",
       "      <td>1616.08</td>\n",
       "    </tr>\n",
       "    <tr>\n",
       "      <th>2007</th>\n",
       "      <td>9725.38</td>\n",
       "      <td>5308.63</td>\n",
       "      <td>3308.05</td>\n",
       "      <td>3573.60</td>\n",
       "      <td>2126.49</td>\n",
       "      <td>1674.94</td>\n",
       "    </tr>\n",
       "    <tr>\n",
       "      <th>2008</th>\n",
       "      <td>10052.68</td>\n",
       "      <td>5409.95</td>\n",
       "      <td>3364.10</td>\n",
       "      <td>3620.83</td>\n",
       "      <td>2168.59</td>\n",
       "      <td>1708.82</td>\n",
       "    </tr>\n",
       "    <tr>\n",
       "      <th>2009</th>\n",
       "      <td>9837.88</td>\n",
       "      <td>5393.47</td>\n",
       "      <td>3280.02</td>\n",
       "      <td>3570.30</td>\n",
       "      <td>2071.77</td>\n",
       "      <td>1630.09</td>\n",
       "    </tr>\n",
       "    <tr>\n",
       "      <th>2010</th>\n",
       "      <td>10236.98</td>\n",
       "      <td>5771.92</td>\n",
       "      <td>3334.93</td>\n",
       "      <td>3606.43</td>\n",
       "      <td>2106.00</td>\n",
       "      <td>1679.04</td>\n",
       "    </tr>\n",
       "    <tr>\n",
       "      <th>2011</th>\n",
       "      <td>10559.21</td>\n",
       "      <td>5881.14</td>\n",
       "      <td>3447.35</td>\n",
       "      <td>3688.87</td>\n",
       "      <td>2144.70</td>\n",
       "      <td>1761.21</td>\n",
       "    </tr>\n",
       "    <tr>\n",
       "      <th>2012</th>\n",
       "      <td>10945.04</td>\n",
       "      <td>5969.35</td>\n",
       "      <td>3528.87</td>\n",
       "      <td>3731.68</td>\n",
       "      <td>2191.89</td>\n",
       "      <td>1850.70</td>\n",
       "    </tr>\n",
       "    <tr>\n",
       "      <th>2013</th>\n",
       "      <td>11090.09</td>\n",
       "      <td>6187.28</td>\n",
       "      <td>3591.43</td>\n",
       "      <td>3802.15</td>\n",
       "      <td>2212.66</td>\n",
       "      <td>1916.28</td>\n",
       "    </tr>\n",
       "    <tr>\n",
       "      <th>2014</th>\n",
       "      <td>11355.33</td>\n",
       "      <td>6547.31</td>\n",
       "      <td>3636.01</td>\n",
       "      <td>3903.06</td>\n",
       "      <td>2240.33</td>\n",
       "      <td>1981.75</td>\n",
       "    </tr>\n",
       "    <tr>\n",
       "      <th>2015</th>\n",
       "      <td>11642.78</td>\n",
       "      <td>6921.52</td>\n",
       "      <td>3705.58</td>\n",
       "      <td>3994.64</td>\n",
       "      <td>2286.20</td>\n",
       "      <td>2049.85</td>\n",
       "    </tr>\n",
       "    <tr>\n",
       "      <th>2016</th>\n",
       "      <td>12004.67</td>\n",
       "      <td>7300.03</td>\n",
       "      <td>3781.38</td>\n",
       "      <td>4034.16</td>\n",
       "      <td>2334.75</td>\n",
       "      <td>2115.93</td>\n",
       "    </tr>\n",
       "    <tr>\n",
       "      <th>2017</th>\n",
       "      <td>12375.92</td>\n",
       "      <td>7556.85</td>\n",
       "      <td>3846.97</td>\n",
       "      <td>4091.27</td>\n",
       "      <td>2406.75</td>\n",
       "      <td>2185.91</td>\n",
       "    </tr>\n",
       "    <tr>\n",
       "      <th>2018</th>\n",
       "      <td>12573.96</td>\n",
       "      <td>7997.76</td>\n",
       "      <td>3920.53</td>\n",
       "      <td>4160.07</td>\n",
       "      <td>2457.97</td>\n",
       "      <td>2086.03</td>\n",
       "    </tr>\n",
       "    <tr>\n",
       "      <th>2019</th>\n",
       "      <td>12735.09</td>\n",
       "      <td>8314.34</td>\n",
       "      <td>3993.53</td>\n",
       "      <td>4254.04</td>\n",
       "      <td>2482.12</td>\n",
       "      <td>1984.82</td>\n",
       "    </tr>\n",
       "  </tbody>\n",
       "</table>\n",
       "</div>"
      ],
      "text/plain": [
       "        NY.GDP.PCAP.KD                                                    \\\n",
       "country     Costa Rica Dominican Republic El Salvador Guatemala Honduras   \n",
       "year                                                                       \n",
       "1991           6018.86            2774.25     2409.03   2758.68  1622.32   \n",
       "1992           6403.78            3028.11     2542.90   2817.23  1672.92   \n",
       "1993           6683.84            3191.60     2654.52   2854.13  1732.13   \n",
       "1994           6811.11            3216.11     2743.37   2896.22  1687.46   \n",
       "1995           6920.58            3340.04     2839.21   2965.89  1741.67   \n",
       "1996           6846.36            3480.27     2831.39   2981.12  1724.17   \n",
       "1997           7053.14            3727.80     2891.60   3038.71  1752.48   \n",
       "1998           7389.05            3915.14     2941.94   3115.98  1764.41   \n",
       "1999           7538.89            4083.64     2981.34   3160.08  1703.04   \n",
       "2000           7678.49            4209.41     2992.90   3195.39  1777.92   \n",
       "2001           7805.31            4249.10     2999.32   3192.31  1778.35   \n",
       "2002           7940.43            4375.79     3028.55   3239.57  1797.89   \n",
       "2003           8157.65            4255.77     3059.57   3250.84  1832.81   \n",
       "2004           8395.40            4304.77     3071.55   3282.32  1899.81   \n",
       "2005           8606.33            4647.04     3140.03   3320.16  1967.22   \n",
       "2006           9109.53            5006.55     3261.76   3427.68  2048.27   \n",
       "2007           9725.38            5308.63     3308.05   3573.60  2126.49   \n",
       "2008          10052.68            5409.95     3364.10   3620.83  2168.59   \n",
       "2009           9837.88            5393.47     3280.02   3570.30  2071.77   \n",
       "2010          10236.98            5771.92     3334.93   3606.43  2106.00   \n",
       "2011          10559.21            5881.14     3447.35   3688.87  2144.70   \n",
       "2012          10945.04            5969.35     3528.87   3731.68  2191.89   \n",
       "2013          11090.09            6187.28     3591.43   3802.15  2212.66   \n",
       "2014          11355.33            6547.31     3636.01   3903.06  2240.33   \n",
       "2015          11642.78            6921.52     3705.58   3994.64  2286.20   \n",
       "2016          12004.67            7300.03     3781.38   4034.16  2334.75   \n",
       "2017          12375.92            7556.85     3846.97   4091.27  2406.75   \n",
       "2018          12573.96            7997.76     3920.53   4160.07  2457.97   \n",
       "2019          12735.09            8314.34     3993.53   4254.04  2482.12   \n",
       "\n",
       "                   \n",
       "country Nicaragua  \n",
       "year               \n",
       "1991      1227.53  \n",
       "1992      1204.90  \n",
       "1993      1173.81  \n",
       "1994      1187.31  \n",
       "1995      1232.32  \n",
       "1996      1285.79  \n",
       "1997      1312.96  \n",
       "1998      1338.68  \n",
       "1999      1409.79  \n",
       "2000      1444.95  \n",
       "2001      1465.74  \n",
       "2002      1455.87  \n",
       "2003      1472.04  \n",
       "2004      1529.19  \n",
       "2005      1573.05  \n",
       "2006      1616.08  \n",
       "2007      1674.94  \n",
       "2008      1708.82  \n",
       "2009      1630.09  \n",
       "2010      1679.04  \n",
       "2011      1761.21  \n",
       "2012      1850.70  \n",
       "2013      1916.28  \n",
       "2014      1981.75  \n",
       "2015      2049.85  \n",
       "2016      2115.93  \n",
       "2017      2185.91  \n",
       "2018      2086.03  \n",
       "2019      1984.82  "
      ]
     },
     "execution_count": 8,
     "metadata": {},
     "output_type": "execute_result"
    }
   ],
   "source": [
    "datos.unstack('country')"
   ]
  },
  {
   "cell_type": "code",
   "execution_count": 9,
   "metadata": {
    "pycharm": {
     "name": "#%%\n"
    }
   },
   "outputs": [
    {
     "data": {
      "text/plain": [
       "MultiIndex([('NY.GDP.PCAP.KD',         'Costa Rica'),\n",
       "            ('NY.GDP.PCAP.KD', 'Dominican Republic'),\n",
       "            ('NY.GDP.PCAP.KD',        'El Salvador'),\n",
       "            ('NY.GDP.PCAP.KD',          'Guatemala'),\n",
       "            ('NY.GDP.PCAP.KD',           'Honduras'),\n",
       "            ('NY.GDP.PCAP.KD',          'Nicaragua')],\n",
       "           names=[None, 'country'])"
      ]
     },
     "execution_count": 9,
     "metadata": {},
     "output_type": "execute_result"
    }
   ],
   "source": [
    "datos.unstack('country').columns"
   ]
  },
  {
   "cell_type": "code",
   "execution_count": 10,
   "metadata": {
    "pycharm": {
     "name": "#%%\n"
    }
   },
   "outputs": [
    {
     "data": {
      "text/html": [
       "<div>\n",
       "<style scoped>\n",
       "    .dataframe tbody tr th:only-of-type {\n",
       "        vertical-align: middle;\n",
       "    }\n",
       "\n",
       "    .dataframe tbody tr th {\n",
       "        vertical-align: top;\n",
       "    }\n",
       "\n",
       "    .dataframe thead tr th {\n",
       "        text-align: left;\n",
       "    }\n",
       "\n",
       "    .dataframe thead tr:last-of-type th {\n",
       "        text-align: right;\n",
       "    }\n",
       "</style>\n",
       "<table border=\"1\" class=\"dataframe\">\n",
       "  <thead>\n",
       "    <tr>\n",
       "      <th></th>\n",
       "      <th colspan=\"6\" halign=\"left\">NY.GDP.PCAP.KD</th>\n",
       "    </tr>\n",
       "    <tr>\n",
       "      <th>country</th>\n",
       "      <th>Costa Rica</th>\n",
       "      <th>Dominican Republic</th>\n",
       "      <th>El Salvador</th>\n",
       "      <th>Guatemala</th>\n",
       "      <th>Honduras</th>\n",
       "      <th>Nicaragua</th>\n",
       "    </tr>\n",
       "    <tr>\n",
       "      <th>year</th>\n",
       "      <th></th>\n",
       "      <th></th>\n",
       "      <th></th>\n",
       "      <th></th>\n",
       "      <th></th>\n",
       "      <th></th>\n",
       "    </tr>\n",
       "  </thead>\n",
       "  <tbody>\n",
       "    <tr>\n",
       "      <th>1991</th>\n",
       "      <td>6018.86</td>\n",
       "      <td>2774.25</td>\n",
       "      <td>2409.03</td>\n",
       "      <td>2758.68</td>\n",
       "      <td>1622.32</td>\n",
       "      <td>1227.53</td>\n",
       "    </tr>\n",
       "    <tr>\n",
       "      <th>1992</th>\n",
       "      <td>6403.78</td>\n",
       "      <td>3028.11</td>\n",
       "      <td>2542.90</td>\n",
       "      <td>2817.23</td>\n",
       "      <td>1672.92</td>\n",
       "      <td>1204.90</td>\n",
       "    </tr>\n",
       "    <tr>\n",
       "      <th>1993</th>\n",
       "      <td>6683.84</td>\n",
       "      <td>3191.60</td>\n",
       "      <td>2654.52</td>\n",
       "      <td>2854.13</td>\n",
       "      <td>1732.13</td>\n",
       "      <td>1173.81</td>\n",
       "    </tr>\n",
       "    <tr>\n",
       "      <th>1994</th>\n",
       "      <td>6811.11</td>\n",
       "      <td>3216.11</td>\n",
       "      <td>2743.37</td>\n",
       "      <td>2896.22</td>\n",
       "      <td>1687.46</td>\n",
       "      <td>1187.31</td>\n",
       "    </tr>\n",
       "    <tr>\n",
       "      <th>1995</th>\n",
       "      <td>6920.58</td>\n",
       "      <td>3340.04</td>\n",
       "      <td>2839.21</td>\n",
       "      <td>2965.89</td>\n",
       "      <td>1741.67</td>\n",
       "      <td>1232.32</td>\n",
       "    </tr>\n",
       "    <tr>\n",
       "      <th>1996</th>\n",
       "      <td>6846.36</td>\n",
       "      <td>3480.27</td>\n",
       "      <td>2831.39</td>\n",
       "      <td>2981.12</td>\n",
       "      <td>1724.17</td>\n",
       "      <td>1285.79</td>\n",
       "    </tr>\n",
       "    <tr>\n",
       "      <th>1997</th>\n",
       "      <td>7053.14</td>\n",
       "      <td>3727.80</td>\n",
       "      <td>2891.60</td>\n",
       "      <td>3038.71</td>\n",
       "      <td>1752.48</td>\n",
       "      <td>1312.96</td>\n",
       "    </tr>\n",
       "    <tr>\n",
       "      <th>1998</th>\n",
       "      <td>7389.05</td>\n",
       "      <td>3915.14</td>\n",
       "      <td>2941.94</td>\n",
       "      <td>3115.98</td>\n",
       "      <td>1764.41</td>\n",
       "      <td>1338.68</td>\n",
       "    </tr>\n",
       "    <tr>\n",
       "      <th>1999</th>\n",
       "      <td>7538.89</td>\n",
       "      <td>4083.64</td>\n",
       "      <td>2981.34</td>\n",
       "      <td>3160.08</td>\n",
       "      <td>1703.04</td>\n",
       "      <td>1409.79</td>\n",
       "    </tr>\n",
       "    <tr>\n",
       "      <th>2000</th>\n",
       "      <td>7678.49</td>\n",
       "      <td>4209.41</td>\n",
       "      <td>2992.90</td>\n",
       "      <td>3195.39</td>\n",
       "      <td>1777.92</td>\n",
       "      <td>1444.95</td>\n",
       "    </tr>\n",
       "    <tr>\n",
       "      <th>2001</th>\n",
       "      <td>7805.31</td>\n",
       "      <td>4249.10</td>\n",
       "      <td>2999.32</td>\n",
       "      <td>3192.31</td>\n",
       "      <td>1778.35</td>\n",
       "      <td>1465.74</td>\n",
       "    </tr>\n",
       "    <tr>\n",
       "      <th>2002</th>\n",
       "      <td>7940.43</td>\n",
       "      <td>4375.79</td>\n",
       "      <td>3028.55</td>\n",
       "      <td>3239.57</td>\n",
       "      <td>1797.89</td>\n",
       "      <td>1455.87</td>\n",
       "    </tr>\n",
       "    <tr>\n",
       "      <th>2003</th>\n",
       "      <td>8157.65</td>\n",
       "      <td>4255.77</td>\n",
       "      <td>3059.57</td>\n",
       "      <td>3250.84</td>\n",
       "      <td>1832.81</td>\n",
       "      <td>1472.04</td>\n",
       "    </tr>\n",
       "    <tr>\n",
       "      <th>2004</th>\n",
       "      <td>8395.40</td>\n",
       "      <td>4304.77</td>\n",
       "      <td>3071.55</td>\n",
       "      <td>3282.32</td>\n",
       "      <td>1899.81</td>\n",
       "      <td>1529.19</td>\n",
       "    </tr>\n",
       "    <tr>\n",
       "      <th>2005</th>\n",
       "      <td>8606.33</td>\n",
       "      <td>4647.04</td>\n",
       "      <td>3140.03</td>\n",
       "      <td>3320.16</td>\n",
       "      <td>1967.22</td>\n",
       "      <td>1573.05</td>\n",
       "    </tr>\n",
       "    <tr>\n",
       "      <th>2006</th>\n",
       "      <td>9109.53</td>\n",
       "      <td>5006.55</td>\n",
       "      <td>3261.76</td>\n",
       "      <td>3427.68</td>\n",
       "      <td>2048.27</td>\n",
       "      <td>1616.08</td>\n",
       "    </tr>\n",
       "    <tr>\n",
       "      <th>2007</th>\n",
       "      <td>9725.38</td>\n",
       "      <td>5308.63</td>\n",
       "      <td>3308.05</td>\n",
       "      <td>3573.60</td>\n",
       "      <td>2126.49</td>\n",
       "      <td>1674.94</td>\n",
       "    </tr>\n",
       "    <tr>\n",
       "      <th>2008</th>\n",
       "      <td>10052.68</td>\n",
       "      <td>5409.95</td>\n",
       "      <td>3364.10</td>\n",
       "      <td>3620.83</td>\n",
       "      <td>2168.59</td>\n",
       "      <td>1708.82</td>\n",
       "    </tr>\n",
       "    <tr>\n",
       "      <th>2009</th>\n",
       "      <td>9837.88</td>\n",
       "      <td>5393.47</td>\n",
       "      <td>3280.02</td>\n",
       "      <td>3570.30</td>\n",
       "      <td>2071.77</td>\n",
       "      <td>1630.09</td>\n",
       "    </tr>\n",
       "    <tr>\n",
       "      <th>2010</th>\n",
       "      <td>10236.98</td>\n",
       "      <td>5771.92</td>\n",
       "      <td>3334.93</td>\n",
       "      <td>3606.43</td>\n",
       "      <td>2106.00</td>\n",
       "      <td>1679.04</td>\n",
       "    </tr>\n",
       "    <tr>\n",
       "      <th>2011</th>\n",
       "      <td>10559.21</td>\n",
       "      <td>5881.14</td>\n",
       "      <td>3447.35</td>\n",
       "      <td>3688.87</td>\n",
       "      <td>2144.70</td>\n",
       "      <td>1761.21</td>\n",
       "    </tr>\n",
       "    <tr>\n",
       "      <th>2012</th>\n",
       "      <td>10945.04</td>\n",
       "      <td>5969.35</td>\n",
       "      <td>3528.87</td>\n",
       "      <td>3731.68</td>\n",
       "      <td>2191.89</td>\n",
       "      <td>1850.70</td>\n",
       "    </tr>\n",
       "    <tr>\n",
       "      <th>2013</th>\n",
       "      <td>11090.09</td>\n",
       "      <td>6187.28</td>\n",
       "      <td>3591.43</td>\n",
       "      <td>3802.15</td>\n",
       "      <td>2212.66</td>\n",
       "      <td>1916.28</td>\n",
       "    </tr>\n",
       "    <tr>\n",
       "      <th>2014</th>\n",
       "      <td>11355.33</td>\n",
       "      <td>6547.31</td>\n",
       "      <td>3636.01</td>\n",
       "      <td>3903.06</td>\n",
       "      <td>2240.33</td>\n",
       "      <td>1981.75</td>\n",
       "    </tr>\n",
       "    <tr>\n",
       "      <th>2015</th>\n",
       "      <td>11642.78</td>\n",
       "      <td>6921.52</td>\n",
       "      <td>3705.58</td>\n",
       "      <td>3994.64</td>\n",
       "      <td>2286.20</td>\n",
       "      <td>2049.85</td>\n",
       "    </tr>\n",
       "    <tr>\n",
       "      <th>2016</th>\n",
       "      <td>12004.67</td>\n",
       "      <td>7300.03</td>\n",
       "      <td>3781.38</td>\n",
       "      <td>4034.16</td>\n",
       "      <td>2334.75</td>\n",
       "      <td>2115.93</td>\n",
       "    </tr>\n",
       "    <tr>\n",
       "      <th>2017</th>\n",
       "      <td>12375.92</td>\n",
       "      <td>7556.85</td>\n",
       "      <td>3846.97</td>\n",
       "      <td>4091.27</td>\n",
       "      <td>2406.75</td>\n",
       "      <td>2185.91</td>\n",
       "    </tr>\n",
       "    <tr>\n",
       "      <th>2018</th>\n",
       "      <td>12573.96</td>\n",
       "      <td>7997.76</td>\n",
       "      <td>3920.53</td>\n",
       "      <td>4160.07</td>\n",
       "      <td>2457.97</td>\n",
       "      <td>2086.03</td>\n",
       "    </tr>\n",
       "    <tr>\n",
       "      <th>2019</th>\n",
       "      <td>12735.09</td>\n",
       "      <td>8314.34</td>\n",
       "      <td>3993.53</td>\n",
       "      <td>4254.04</td>\n",
       "      <td>2482.12</td>\n",
       "      <td>1984.82</td>\n",
       "    </tr>\n",
       "  </tbody>\n",
       "</table>\n",
       "</div>"
      ],
      "text/plain": [
       "        NY.GDP.PCAP.KD                                                    \\\n",
       "country     Costa Rica Dominican Republic El Salvador Guatemala Honduras   \n",
       "year                                                                       \n",
       "1991           6018.86            2774.25     2409.03   2758.68  1622.32   \n",
       "1992           6403.78            3028.11     2542.90   2817.23  1672.92   \n",
       "1993           6683.84            3191.60     2654.52   2854.13  1732.13   \n",
       "1994           6811.11            3216.11     2743.37   2896.22  1687.46   \n",
       "1995           6920.58            3340.04     2839.21   2965.89  1741.67   \n",
       "1996           6846.36            3480.27     2831.39   2981.12  1724.17   \n",
       "1997           7053.14            3727.80     2891.60   3038.71  1752.48   \n",
       "1998           7389.05            3915.14     2941.94   3115.98  1764.41   \n",
       "1999           7538.89            4083.64     2981.34   3160.08  1703.04   \n",
       "2000           7678.49            4209.41     2992.90   3195.39  1777.92   \n",
       "2001           7805.31            4249.10     2999.32   3192.31  1778.35   \n",
       "2002           7940.43            4375.79     3028.55   3239.57  1797.89   \n",
       "2003           8157.65            4255.77     3059.57   3250.84  1832.81   \n",
       "2004           8395.40            4304.77     3071.55   3282.32  1899.81   \n",
       "2005           8606.33            4647.04     3140.03   3320.16  1967.22   \n",
       "2006           9109.53            5006.55     3261.76   3427.68  2048.27   \n",
       "2007           9725.38            5308.63     3308.05   3573.60  2126.49   \n",
       "2008          10052.68            5409.95     3364.10   3620.83  2168.59   \n",
       "2009           9837.88            5393.47     3280.02   3570.30  2071.77   \n",
       "2010          10236.98            5771.92     3334.93   3606.43  2106.00   \n",
       "2011          10559.21            5881.14     3447.35   3688.87  2144.70   \n",
       "2012          10945.04            5969.35     3528.87   3731.68  2191.89   \n",
       "2013          11090.09            6187.28     3591.43   3802.15  2212.66   \n",
       "2014          11355.33            6547.31     3636.01   3903.06  2240.33   \n",
       "2015          11642.78            6921.52     3705.58   3994.64  2286.20   \n",
       "2016          12004.67            7300.03     3781.38   4034.16  2334.75   \n",
       "2017          12375.92            7556.85     3846.97   4091.27  2406.75   \n",
       "2018          12573.96            7997.76     3920.53   4160.07  2457.97   \n",
       "2019          12735.09            8314.34     3993.53   4254.04  2482.12   \n",
       "\n",
       "                   \n",
       "country Nicaragua  \n",
       "year               \n",
       "1991      1227.53  \n",
       "1992      1204.90  \n",
       "1993      1173.81  \n",
       "1994      1187.31  \n",
       "1995      1232.32  \n",
       "1996      1285.79  \n",
       "1997      1312.96  \n",
       "1998      1338.68  \n",
       "1999      1409.79  \n",
       "2000      1444.95  \n",
       "2001      1465.74  \n",
       "2002      1455.87  \n",
       "2003      1472.04  \n",
       "2004      1529.19  \n",
       "2005      1573.05  \n",
       "2006      1616.08  \n",
       "2007      1674.94  \n",
       "2008      1708.82  \n",
       "2009      1630.09  \n",
       "2010      1679.04  \n",
       "2011      1761.21  \n",
       "2012      1850.70  \n",
       "2013      1916.28  \n",
       "2014      1981.75  \n",
       "2015      2049.85  \n",
       "2016      2115.93  \n",
       "2017      2185.91  \n",
       "2018      2086.03  \n",
       "2019      1984.82  "
      ]
     },
     "execution_count": 10,
     "metadata": {},
     "output_type": "execute_result"
    }
   ],
   "source": [
    "datos.unstack('country')"
   ]
  },
  {
   "cell_type": "code",
   "execution_count": 11,
   "metadata": {
    "pycharm": {
     "name": "#%%\n"
    }
   },
   "outputs": [
    {
     "data": {
      "text/html": [
       "<div>\n",
       "<style scoped>\n",
       "    .dataframe tbody tr th:only-of-type {\n",
       "        vertical-align: middle;\n",
       "    }\n",
       "\n",
       "    .dataframe tbody tr th {\n",
       "        vertical-align: top;\n",
       "    }\n",
       "\n",
       "    .dataframe thead th {\n",
       "        text-align: right;\n",
       "    }\n",
       "</style>\n",
       "<table border=\"1\" class=\"dataframe\">\n",
       "  <thead>\n",
       "    <tr style=\"text-align: right;\">\n",
       "      <th>country</th>\n",
       "      <th>Costa Rica</th>\n",
       "      <th>Dominican Republic</th>\n",
       "      <th>El Salvador</th>\n",
       "      <th>Guatemala</th>\n",
       "      <th>Honduras</th>\n",
       "      <th>Nicaragua</th>\n",
       "    </tr>\n",
       "    <tr>\n",
       "      <th>year</th>\n",
       "      <th></th>\n",
       "      <th></th>\n",
       "      <th></th>\n",
       "      <th></th>\n",
       "      <th></th>\n",
       "      <th></th>\n",
       "    </tr>\n",
       "  </thead>\n",
       "  <tbody>\n",
       "    <tr>\n",
       "      <th>1991</th>\n",
       "      <td>6018.86</td>\n",
       "      <td>2774.25</td>\n",
       "      <td>2409.03</td>\n",
       "      <td>2758.68</td>\n",
       "      <td>1622.32</td>\n",
       "      <td>1227.53</td>\n",
       "    </tr>\n",
       "    <tr>\n",
       "      <th>1992</th>\n",
       "      <td>6403.78</td>\n",
       "      <td>3028.11</td>\n",
       "      <td>2542.90</td>\n",
       "      <td>2817.23</td>\n",
       "      <td>1672.92</td>\n",
       "      <td>1204.90</td>\n",
       "    </tr>\n",
       "    <tr>\n",
       "      <th>1993</th>\n",
       "      <td>6683.84</td>\n",
       "      <td>3191.60</td>\n",
       "      <td>2654.52</td>\n",
       "      <td>2854.13</td>\n",
       "      <td>1732.13</td>\n",
       "      <td>1173.81</td>\n",
       "    </tr>\n",
       "    <tr>\n",
       "      <th>1994</th>\n",
       "      <td>6811.11</td>\n",
       "      <td>3216.11</td>\n",
       "      <td>2743.37</td>\n",
       "      <td>2896.22</td>\n",
       "      <td>1687.46</td>\n",
       "      <td>1187.31</td>\n",
       "    </tr>\n",
       "    <tr>\n",
       "      <th>1995</th>\n",
       "      <td>6920.58</td>\n",
       "      <td>3340.04</td>\n",
       "      <td>2839.21</td>\n",
       "      <td>2965.89</td>\n",
       "      <td>1741.67</td>\n",
       "      <td>1232.32</td>\n",
       "    </tr>\n",
       "    <tr>\n",
       "      <th>1996</th>\n",
       "      <td>6846.36</td>\n",
       "      <td>3480.27</td>\n",
       "      <td>2831.39</td>\n",
       "      <td>2981.12</td>\n",
       "      <td>1724.17</td>\n",
       "      <td>1285.79</td>\n",
       "    </tr>\n",
       "    <tr>\n",
       "      <th>1997</th>\n",
       "      <td>7053.14</td>\n",
       "      <td>3727.80</td>\n",
       "      <td>2891.60</td>\n",
       "      <td>3038.71</td>\n",
       "      <td>1752.48</td>\n",
       "      <td>1312.96</td>\n",
       "    </tr>\n",
       "    <tr>\n",
       "      <th>1998</th>\n",
       "      <td>7389.05</td>\n",
       "      <td>3915.14</td>\n",
       "      <td>2941.94</td>\n",
       "      <td>3115.98</td>\n",
       "      <td>1764.41</td>\n",
       "      <td>1338.68</td>\n",
       "    </tr>\n",
       "    <tr>\n",
       "      <th>1999</th>\n",
       "      <td>7538.89</td>\n",
       "      <td>4083.64</td>\n",
       "      <td>2981.34</td>\n",
       "      <td>3160.08</td>\n",
       "      <td>1703.04</td>\n",
       "      <td>1409.79</td>\n",
       "    </tr>\n",
       "    <tr>\n",
       "      <th>2000</th>\n",
       "      <td>7678.49</td>\n",
       "      <td>4209.41</td>\n",
       "      <td>2992.90</td>\n",
       "      <td>3195.39</td>\n",
       "      <td>1777.92</td>\n",
       "      <td>1444.95</td>\n",
       "    </tr>\n",
       "    <tr>\n",
       "      <th>2001</th>\n",
       "      <td>7805.31</td>\n",
       "      <td>4249.10</td>\n",
       "      <td>2999.32</td>\n",
       "      <td>3192.31</td>\n",
       "      <td>1778.35</td>\n",
       "      <td>1465.74</td>\n",
       "    </tr>\n",
       "    <tr>\n",
       "      <th>2002</th>\n",
       "      <td>7940.43</td>\n",
       "      <td>4375.79</td>\n",
       "      <td>3028.55</td>\n",
       "      <td>3239.57</td>\n",
       "      <td>1797.89</td>\n",
       "      <td>1455.87</td>\n",
       "    </tr>\n",
       "    <tr>\n",
       "      <th>2003</th>\n",
       "      <td>8157.65</td>\n",
       "      <td>4255.77</td>\n",
       "      <td>3059.57</td>\n",
       "      <td>3250.84</td>\n",
       "      <td>1832.81</td>\n",
       "      <td>1472.04</td>\n",
       "    </tr>\n",
       "    <tr>\n",
       "      <th>2004</th>\n",
       "      <td>8395.40</td>\n",
       "      <td>4304.77</td>\n",
       "      <td>3071.55</td>\n",
       "      <td>3282.32</td>\n",
       "      <td>1899.81</td>\n",
       "      <td>1529.19</td>\n",
       "    </tr>\n",
       "    <tr>\n",
       "      <th>2005</th>\n",
       "      <td>8606.33</td>\n",
       "      <td>4647.04</td>\n",
       "      <td>3140.03</td>\n",
       "      <td>3320.16</td>\n",
       "      <td>1967.22</td>\n",
       "      <td>1573.05</td>\n",
       "    </tr>\n",
       "    <tr>\n",
       "      <th>2006</th>\n",
       "      <td>9109.53</td>\n",
       "      <td>5006.55</td>\n",
       "      <td>3261.76</td>\n",
       "      <td>3427.68</td>\n",
       "      <td>2048.27</td>\n",
       "      <td>1616.08</td>\n",
       "    </tr>\n",
       "    <tr>\n",
       "      <th>2007</th>\n",
       "      <td>9725.38</td>\n",
       "      <td>5308.63</td>\n",
       "      <td>3308.05</td>\n",
       "      <td>3573.60</td>\n",
       "      <td>2126.49</td>\n",
       "      <td>1674.94</td>\n",
       "    </tr>\n",
       "    <tr>\n",
       "      <th>2008</th>\n",
       "      <td>10052.68</td>\n",
       "      <td>5409.95</td>\n",
       "      <td>3364.10</td>\n",
       "      <td>3620.83</td>\n",
       "      <td>2168.59</td>\n",
       "      <td>1708.82</td>\n",
       "    </tr>\n",
       "    <tr>\n",
       "      <th>2009</th>\n",
       "      <td>9837.88</td>\n",
       "      <td>5393.47</td>\n",
       "      <td>3280.02</td>\n",
       "      <td>3570.30</td>\n",
       "      <td>2071.77</td>\n",
       "      <td>1630.09</td>\n",
       "    </tr>\n",
       "    <tr>\n",
       "      <th>2010</th>\n",
       "      <td>10236.98</td>\n",
       "      <td>5771.92</td>\n",
       "      <td>3334.93</td>\n",
       "      <td>3606.43</td>\n",
       "      <td>2106.00</td>\n",
       "      <td>1679.04</td>\n",
       "    </tr>\n",
       "    <tr>\n",
       "      <th>2011</th>\n",
       "      <td>10559.21</td>\n",
       "      <td>5881.14</td>\n",
       "      <td>3447.35</td>\n",
       "      <td>3688.87</td>\n",
       "      <td>2144.70</td>\n",
       "      <td>1761.21</td>\n",
       "    </tr>\n",
       "    <tr>\n",
       "      <th>2012</th>\n",
       "      <td>10945.04</td>\n",
       "      <td>5969.35</td>\n",
       "      <td>3528.87</td>\n",
       "      <td>3731.68</td>\n",
       "      <td>2191.89</td>\n",
       "      <td>1850.70</td>\n",
       "    </tr>\n",
       "    <tr>\n",
       "      <th>2013</th>\n",
       "      <td>11090.09</td>\n",
       "      <td>6187.28</td>\n",
       "      <td>3591.43</td>\n",
       "      <td>3802.15</td>\n",
       "      <td>2212.66</td>\n",
       "      <td>1916.28</td>\n",
       "    </tr>\n",
       "    <tr>\n",
       "      <th>2014</th>\n",
       "      <td>11355.33</td>\n",
       "      <td>6547.31</td>\n",
       "      <td>3636.01</td>\n",
       "      <td>3903.06</td>\n",
       "      <td>2240.33</td>\n",
       "      <td>1981.75</td>\n",
       "    </tr>\n",
       "    <tr>\n",
       "      <th>2015</th>\n",
       "      <td>11642.78</td>\n",
       "      <td>6921.52</td>\n",
       "      <td>3705.58</td>\n",
       "      <td>3994.64</td>\n",
       "      <td>2286.20</td>\n",
       "      <td>2049.85</td>\n",
       "    </tr>\n",
       "    <tr>\n",
       "      <th>2016</th>\n",
       "      <td>12004.67</td>\n",
       "      <td>7300.03</td>\n",
       "      <td>3781.38</td>\n",
       "      <td>4034.16</td>\n",
       "      <td>2334.75</td>\n",
       "      <td>2115.93</td>\n",
       "    </tr>\n",
       "    <tr>\n",
       "      <th>2017</th>\n",
       "      <td>12375.92</td>\n",
       "      <td>7556.85</td>\n",
       "      <td>3846.97</td>\n",
       "      <td>4091.27</td>\n",
       "      <td>2406.75</td>\n",
       "      <td>2185.91</td>\n",
       "    </tr>\n",
       "    <tr>\n",
       "      <th>2018</th>\n",
       "      <td>12573.96</td>\n",
       "      <td>7997.76</td>\n",
       "      <td>3920.53</td>\n",
       "      <td>4160.07</td>\n",
       "      <td>2457.97</td>\n",
       "      <td>2086.03</td>\n",
       "    </tr>\n",
       "    <tr>\n",
       "      <th>2019</th>\n",
       "      <td>12735.09</td>\n",
       "      <td>8314.34</td>\n",
       "      <td>3993.53</td>\n",
       "      <td>4254.04</td>\n",
       "      <td>2482.12</td>\n",
       "      <td>1984.82</td>\n",
       "    </tr>\n",
       "  </tbody>\n",
       "</table>\n",
       "</div>"
      ],
      "text/plain": [
       "country  Costa Rica  Dominican Republic  El Salvador  Guatemala  Honduras  \\\n",
       "year                                                                        \n",
       "1991        6018.86             2774.25      2409.03    2758.68   1622.32   \n",
       "1992        6403.78             3028.11      2542.90    2817.23   1672.92   \n",
       "1993        6683.84             3191.60      2654.52    2854.13   1732.13   \n",
       "1994        6811.11             3216.11      2743.37    2896.22   1687.46   \n",
       "1995        6920.58             3340.04      2839.21    2965.89   1741.67   \n",
       "1996        6846.36             3480.27      2831.39    2981.12   1724.17   \n",
       "1997        7053.14             3727.80      2891.60    3038.71   1752.48   \n",
       "1998        7389.05             3915.14      2941.94    3115.98   1764.41   \n",
       "1999        7538.89             4083.64      2981.34    3160.08   1703.04   \n",
       "2000        7678.49             4209.41      2992.90    3195.39   1777.92   \n",
       "2001        7805.31             4249.10      2999.32    3192.31   1778.35   \n",
       "2002        7940.43             4375.79      3028.55    3239.57   1797.89   \n",
       "2003        8157.65             4255.77      3059.57    3250.84   1832.81   \n",
       "2004        8395.40             4304.77      3071.55    3282.32   1899.81   \n",
       "2005        8606.33             4647.04      3140.03    3320.16   1967.22   \n",
       "2006        9109.53             5006.55      3261.76    3427.68   2048.27   \n",
       "2007        9725.38             5308.63      3308.05    3573.60   2126.49   \n",
       "2008       10052.68             5409.95      3364.10    3620.83   2168.59   \n",
       "2009        9837.88             5393.47      3280.02    3570.30   2071.77   \n",
       "2010       10236.98             5771.92      3334.93    3606.43   2106.00   \n",
       "2011       10559.21             5881.14      3447.35    3688.87   2144.70   \n",
       "2012       10945.04             5969.35      3528.87    3731.68   2191.89   \n",
       "2013       11090.09             6187.28      3591.43    3802.15   2212.66   \n",
       "2014       11355.33             6547.31      3636.01    3903.06   2240.33   \n",
       "2015       11642.78             6921.52      3705.58    3994.64   2286.20   \n",
       "2016       12004.67             7300.03      3781.38    4034.16   2334.75   \n",
       "2017       12375.92             7556.85      3846.97    4091.27   2406.75   \n",
       "2018       12573.96             7997.76      3920.53    4160.07   2457.97   \n",
       "2019       12735.09             8314.34      3993.53    4254.04   2482.12   \n",
       "\n",
       "country  Nicaragua  \n",
       "year                \n",
       "1991       1227.53  \n",
       "1992       1204.90  \n",
       "1993       1173.81  \n",
       "1994       1187.31  \n",
       "1995       1232.32  \n",
       "1996       1285.79  \n",
       "1997       1312.96  \n",
       "1998       1338.68  \n",
       "1999       1409.79  \n",
       "2000       1444.95  \n",
       "2001       1465.74  \n",
       "2002       1455.87  \n",
       "2003       1472.04  \n",
       "2004       1529.19  \n",
       "2005       1573.05  \n",
       "2006       1616.08  \n",
       "2007       1674.94  \n",
       "2008       1708.82  \n",
       "2009       1630.09  \n",
       "2010       1679.04  \n",
       "2011       1761.21  \n",
       "2012       1850.70  \n",
       "2013       1916.28  \n",
       "2014       1981.75  \n",
       "2015       2049.85  \n",
       "2016       2115.93  \n",
       "2017       2185.91  \n",
       "2018       2086.03  \n",
       "2019       1984.82  "
      ]
     },
     "execution_count": 11,
     "metadata": {},
     "output_type": "execute_result"
    }
   ],
   "source": [
    "GDP = datos.unstack('country')['NY.GDP.PCAP.KD']\n",
    "GDP"
   ]
  },
  {
   "cell_type": "code",
   "execution_count": 12,
   "metadata": {
    "pycharm": {
     "name": "#%%\n"
    }
   },
   "outputs": [
    {
     "data": {
      "text/html": [
       "<div>\n",
       "<style scoped>\n",
       "    .dataframe tbody tr th:only-of-type {\n",
       "        vertical-align: middle;\n",
       "    }\n",
       "\n",
       "    .dataframe tbody tr th {\n",
       "        vertical-align: top;\n",
       "    }\n",
       "\n",
       "    .dataframe thead th {\n",
       "        text-align: right;\n",
       "    }\n",
       "</style>\n",
       "<table border=\"1\" class=\"dataframe\">\n",
       "  <thead>\n",
       "    <tr style=\"text-align: right;\">\n",
       "      <th>country</th>\n",
       "      <th>CR</th>\n",
       "      <th>DO</th>\n",
       "      <th>SV</th>\n",
       "      <th>GT</th>\n",
       "      <th>HN</th>\n",
       "      <th>NI</th>\n",
       "    </tr>\n",
       "    <tr>\n",
       "      <th>year</th>\n",
       "      <th></th>\n",
       "      <th></th>\n",
       "      <th></th>\n",
       "      <th></th>\n",
       "      <th></th>\n",
       "      <th></th>\n",
       "    </tr>\n",
       "  </thead>\n",
       "  <tbody>\n",
       "    <tr>\n",
       "      <th>1991</th>\n",
       "      <td>6018.86</td>\n",
       "      <td>2774.25</td>\n",
       "      <td>2409.03</td>\n",
       "      <td>2758.68</td>\n",
       "      <td>1622.32</td>\n",
       "      <td>1227.53</td>\n",
       "    </tr>\n",
       "    <tr>\n",
       "      <th>1992</th>\n",
       "      <td>6403.78</td>\n",
       "      <td>3028.11</td>\n",
       "      <td>2542.90</td>\n",
       "      <td>2817.23</td>\n",
       "      <td>1672.92</td>\n",
       "      <td>1204.90</td>\n",
       "    </tr>\n",
       "    <tr>\n",
       "      <th>1993</th>\n",
       "      <td>6683.84</td>\n",
       "      <td>3191.60</td>\n",
       "      <td>2654.52</td>\n",
       "      <td>2854.13</td>\n",
       "      <td>1732.13</td>\n",
       "      <td>1173.81</td>\n",
       "    </tr>\n",
       "    <tr>\n",
       "      <th>1994</th>\n",
       "      <td>6811.11</td>\n",
       "      <td>3216.11</td>\n",
       "      <td>2743.37</td>\n",
       "      <td>2896.22</td>\n",
       "      <td>1687.46</td>\n",
       "      <td>1187.31</td>\n",
       "    </tr>\n",
       "    <tr>\n",
       "      <th>1995</th>\n",
       "      <td>6920.58</td>\n",
       "      <td>3340.04</td>\n",
       "      <td>2839.21</td>\n",
       "      <td>2965.89</td>\n",
       "      <td>1741.67</td>\n",
       "      <td>1232.32</td>\n",
       "    </tr>\n",
       "    <tr>\n",
       "      <th>1996</th>\n",
       "      <td>6846.36</td>\n",
       "      <td>3480.27</td>\n",
       "      <td>2831.39</td>\n",
       "      <td>2981.12</td>\n",
       "      <td>1724.17</td>\n",
       "      <td>1285.79</td>\n",
       "    </tr>\n",
       "    <tr>\n",
       "      <th>1997</th>\n",
       "      <td>7053.14</td>\n",
       "      <td>3727.80</td>\n",
       "      <td>2891.60</td>\n",
       "      <td>3038.71</td>\n",
       "      <td>1752.48</td>\n",
       "      <td>1312.96</td>\n",
       "    </tr>\n",
       "    <tr>\n",
       "      <th>1998</th>\n",
       "      <td>7389.05</td>\n",
       "      <td>3915.14</td>\n",
       "      <td>2941.94</td>\n",
       "      <td>3115.98</td>\n",
       "      <td>1764.41</td>\n",
       "      <td>1338.68</td>\n",
       "    </tr>\n",
       "    <tr>\n",
       "      <th>1999</th>\n",
       "      <td>7538.89</td>\n",
       "      <td>4083.64</td>\n",
       "      <td>2981.34</td>\n",
       "      <td>3160.08</td>\n",
       "      <td>1703.04</td>\n",
       "      <td>1409.79</td>\n",
       "    </tr>\n",
       "    <tr>\n",
       "      <th>2000</th>\n",
       "      <td>7678.49</td>\n",
       "      <td>4209.41</td>\n",
       "      <td>2992.90</td>\n",
       "      <td>3195.39</td>\n",
       "      <td>1777.92</td>\n",
       "      <td>1444.95</td>\n",
       "    </tr>\n",
       "    <tr>\n",
       "      <th>2001</th>\n",
       "      <td>7805.31</td>\n",
       "      <td>4249.10</td>\n",
       "      <td>2999.32</td>\n",
       "      <td>3192.31</td>\n",
       "      <td>1778.35</td>\n",
       "      <td>1465.74</td>\n",
       "    </tr>\n",
       "    <tr>\n",
       "      <th>2002</th>\n",
       "      <td>7940.43</td>\n",
       "      <td>4375.79</td>\n",
       "      <td>3028.55</td>\n",
       "      <td>3239.57</td>\n",
       "      <td>1797.89</td>\n",
       "      <td>1455.87</td>\n",
       "    </tr>\n",
       "    <tr>\n",
       "      <th>2003</th>\n",
       "      <td>8157.65</td>\n",
       "      <td>4255.77</td>\n",
       "      <td>3059.57</td>\n",
       "      <td>3250.84</td>\n",
       "      <td>1832.81</td>\n",
       "      <td>1472.04</td>\n",
       "    </tr>\n",
       "    <tr>\n",
       "      <th>2004</th>\n",
       "      <td>8395.40</td>\n",
       "      <td>4304.77</td>\n",
       "      <td>3071.55</td>\n",
       "      <td>3282.32</td>\n",
       "      <td>1899.81</td>\n",
       "      <td>1529.19</td>\n",
       "    </tr>\n",
       "    <tr>\n",
       "      <th>2005</th>\n",
       "      <td>8606.33</td>\n",
       "      <td>4647.04</td>\n",
       "      <td>3140.03</td>\n",
       "      <td>3320.16</td>\n",
       "      <td>1967.22</td>\n",
       "      <td>1573.05</td>\n",
       "    </tr>\n",
       "    <tr>\n",
       "      <th>2006</th>\n",
       "      <td>9109.53</td>\n",
       "      <td>5006.55</td>\n",
       "      <td>3261.76</td>\n",
       "      <td>3427.68</td>\n",
       "      <td>2048.27</td>\n",
       "      <td>1616.08</td>\n",
       "    </tr>\n",
       "    <tr>\n",
       "      <th>2007</th>\n",
       "      <td>9725.38</td>\n",
       "      <td>5308.63</td>\n",
       "      <td>3308.05</td>\n",
       "      <td>3573.60</td>\n",
       "      <td>2126.49</td>\n",
       "      <td>1674.94</td>\n",
       "    </tr>\n",
       "    <tr>\n",
       "      <th>2008</th>\n",
       "      <td>10052.68</td>\n",
       "      <td>5409.95</td>\n",
       "      <td>3364.10</td>\n",
       "      <td>3620.83</td>\n",
       "      <td>2168.59</td>\n",
       "      <td>1708.82</td>\n",
       "    </tr>\n",
       "    <tr>\n",
       "      <th>2009</th>\n",
       "      <td>9837.88</td>\n",
       "      <td>5393.47</td>\n",
       "      <td>3280.02</td>\n",
       "      <td>3570.30</td>\n",
       "      <td>2071.77</td>\n",
       "      <td>1630.09</td>\n",
       "    </tr>\n",
       "    <tr>\n",
       "      <th>2010</th>\n",
       "      <td>10236.98</td>\n",
       "      <td>5771.92</td>\n",
       "      <td>3334.93</td>\n",
       "      <td>3606.43</td>\n",
       "      <td>2106.00</td>\n",
       "      <td>1679.04</td>\n",
       "    </tr>\n",
       "    <tr>\n",
       "      <th>2011</th>\n",
       "      <td>10559.21</td>\n",
       "      <td>5881.14</td>\n",
       "      <td>3447.35</td>\n",
       "      <td>3688.87</td>\n",
       "      <td>2144.70</td>\n",
       "      <td>1761.21</td>\n",
       "    </tr>\n",
       "    <tr>\n",
       "      <th>2012</th>\n",
       "      <td>10945.04</td>\n",
       "      <td>5969.35</td>\n",
       "      <td>3528.87</td>\n",
       "      <td>3731.68</td>\n",
       "      <td>2191.89</td>\n",
       "      <td>1850.70</td>\n",
       "    </tr>\n",
       "    <tr>\n",
       "      <th>2013</th>\n",
       "      <td>11090.09</td>\n",
       "      <td>6187.28</td>\n",
       "      <td>3591.43</td>\n",
       "      <td>3802.15</td>\n",
       "      <td>2212.66</td>\n",
       "      <td>1916.28</td>\n",
       "    </tr>\n",
       "    <tr>\n",
       "      <th>2014</th>\n",
       "      <td>11355.33</td>\n",
       "      <td>6547.31</td>\n",
       "      <td>3636.01</td>\n",
       "      <td>3903.06</td>\n",
       "      <td>2240.33</td>\n",
       "      <td>1981.75</td>\n",
       "    </tr>\n",
       "    <tr>\n",
       "      <th>2015</th>\n",
       "      <td>11642.78</td>\n",
       "      <td>6921.52</td>\n",
       "      <td>3705.58</td>\n",
       "      <td>3994.64</td>\n",
       "      <td>2286.20</td>\n",
       "      <td>2049.85</td>\n",
       "    </tr>\n",
       "    <tr>\n",
       "      <th>2016</th>\n",
       "      <td>12004.67</td>\n",
       "      <td>7300.03</td>\n",
       "      <td>3781.38</td>\n",
       "      <td>4034.16</td>\n",
       "      <td>2334.75</td>\n",
       "      <td>2115.93</td>\n",
       "    </tr>\n",
       "    <tr>\n",
       "      <th>2017</th>\n",
       "      <td>12375.92</td>\n",
       "      <td>7556.85</td>\n",
       "      <td>3846.97</td>\n",
       "      <td>4091.27</td>\n",
       "      <td>2406.75</td>\n",
       "      <td>2185.91</td>\n",
       "    </tr>\n",
       "    <tr>\n",
       "      <th>2018</th>\n",
       "      <td>12573.96</td>\n",
       "      <td>7997.76</td>\n",
       "      <td>3920.53</td>\n",
       "      <td>4160.07</td>\n",
       "      <td>2457.97</td>\n",
       "      <td>2086.03</td>\n",
       "    </tr>\n",
       "    <tr>\n",
       "      <th>2019</th>\n",
       "      <td>12735.09</td>\n",
       "      <td>8314.34</td>\n",
       "      <td>3993.53</td>\n",
       "      <td>4254.04</td>\n",
       "      <td>2482.12</td>\n",
       "      <td>1984.82</td>\n",
       "    </tr>\n",
       "  </tbody>\n",
       "</table>\n",
       "</div>"
      ],
      "text/plain": [
       "country        CR       DO       SV       GT       HN       NI\n",
       "year                                                          \n",
       "1991      6018.86  2774.25  2409.03  2758.68  1622.32  1227.53\n",
       "1992      6403.78  3028.11  2542.90  2817.23  1672.92  1204.90\n",
       "1993      6683.84  3191.60  2654.52  2854.13  1732.13  1173.81\n",
       "1994      6811.11  3216.11  2743.37  2896.22  1687.46  1187.31\n",
       "1995      6920.58  3340.04  2839.21  2965.89  1741.67  1232.32\n",
       "1996      6846.36  3480.27  2831.39  2981.12  1724.17  1285.79\n",
       "1997      7053.14  3727.80  2891.60  3038.71  1752.48  1312.96\n",
       "1998      7389.05  3915.14  2941.94  3115.98  1764.41  1338.68\n",
       "1999      7538.89  4083.64  2981.34  3160.08  1703.04  1409.79\n",
       "2000      7678.49  4209.41  2992.90  3195.39  1777.92  1444.95\n",
       "2001      7805.31  4249.10  2999.32  3192.31  1778.35  1465.74\n",
       "2002      7940.43  4375.79  3028.55  3239.57  1797.89  1455.87\n",
       "2003      8157.65  4255.77  3059.57  3250.84  1832.81  1472.04\n",
       "2004      8395.40  4304.77  3071.55  3282.32  1899.81  1529.19\n",
       "2005      8606.33  4647.04  3140.03  3320.16  1967.22  1573.05\n",
       "2006      9109.53  5006.55  3261.76  3427.68  2048.27  1616.08\n",
       "2007      9725.38  5308.63  3308.05  3573.60  2126.49  1674.94\n",
       "2008     10052.68  5409.95  3364.10  3620.83  2168.59  1708.82\n",
       "2009      9837.88  5393.47  3280.02  3570.30  2071.77  1630.09\n",
       "2010     10236.98  5771.92  3334.93  3606.43  2106.00  1679.04\n",
       "2011     10559.21  5881.14  3447.35  3688.87  2144.70  1761.21\n",
       "2012     10945.04  5969.35  3528.87  3731.68  2191.89  1850.70\n",
       "2013     11090.09  6187.28  3591.43  3802.15  2212.66  1916.28\n",
       "2014     11355.33  6547.31  3636.01  3903.06  2240.33  1981.75\n",
       "2015     11642.78  6921.52  3705.58  3994.64  2286.20  2049.85\n",
       "2016     12004.67  7300.03  3781.38  4034.16  2334.75  2115.93\n",
       "2017     12375.92  7556.85  3846.97  4091.27  2406.75  2185.91\n",
       "2018     12573.96  7997.76  3920.53  4160.07  2457.97  2086.03\n",
       "2019     12735.09  8314.34  3993.53  4254.04  2482.12  1984.82"
      ]
     },
     "execution_count": 12,
     "metadata": {},
     "output_type": "execute_result"
    }
   ],
   "source": [
    "GDP.rename(columns=paises2, inplace=True)\n",
    "GDP"
   ]
  },
  {
   "cell_type": "code",
   "execution_count": 13,
   "metadata": {
    "pycharm": {
     "name": "#%%\n"
    }
   },
   "outputs": [],
   "source": [
    "GDP.index = pd.period_range(start=GDP.index[0], periods=len(GDP.index),freq='A')"
   ]
  },
  {
   "cell_type": "markdown",
   "metadata": {
    "pycharm": {
     "name": "#%% md\n"
    }
   },
   "source": [
    "Una vez que los datos se organizan de esta manera, es muy fácil calcular el crecimiento para todos los países en un solo paso:"
   ]
  },
  {
   "cell_type": "code",
   "execution_count": 14,
   "metadata": {
    "pycharm": {
     "name": "#%%\n"
    }
   },
   "outputs": [
    {
     "data": {
      "text/html": [
       "<div>\n",
       "<style scoped>\n",
       "    .dataframe tbody tr th:only-of-type {\n",
       "        vertical-align: middle;\n",
       "    }\n",
       "\n",
       "    .dataframe tbody tr th {\n",
       "        vertical-align: top;\n",
       "    }\n",
       "\n",
       "    .dataframe thead th {\n",
       "        text-align: right;\n",
       "    }\n",
       "</style>\n",
       "<table border=\"1\" class=\"dataframe\">\n",
       "  <thead>\n",
       "    <tr style=\"text-align: right;\">\n",
       "      <th>country</th>\n",
       "      <th>CR</th>\n",
       "      <th>DO</th>\n",
       "      <th>SV</th>\n",
       "      <th>GT</th>\n",
       "      <th>HN</th>\n",
       "      <th>NI</th>\n",
       "    </tr>\n",
       "  </thead>\n",
       "  <tbody>\n",
       "    <tr>\n",
       "      <th>2014</th>\n",
       "      <td>11355.33</td>\n",
       "      <td>6547.31</td>\n",
       "      <td>3636.01</td>\n",
       "      <td>3903.06</td>\n",
       "      <td>2240.33</td>\n",
       "      <td>1981.75</td>\n",
       "    </tr>\n",
       "    <tr>\n",
       "      <th>2015</th>\n",
       "      <td>11642.78</td>\n",
       "      <td>6921.52</td>\n",
       "      <td>3705.58</td>\n",
       "      <td>3994.64</td>\n",
       "      <td>2286.20</td>\n",
       "      <td>2049.85</td>\n",
       "    </tr>\n",
       "    <tr>\n",
       "      <th>2016</th>\n",
       "      <td>12004.67</td>\n",
       "      <td>7300.03</td>\n",
       "      <td>3781.38</td>\n",
       "      <td>4034.16</td>\n",
       "      <td>2334.75</td>\n",
       "      <td>2115.93</td>\n",
       "    </tr>\n",
       "    <tr>\n",
       "      <th>2017</th>\n",
       "      <td>12375.92</td>\n",
       "      <td>7556.85</td>\n",
       "      <td>3846.97</td>\n",
       "      <td>4091.27</td>\n",
       "      <td>2406.75</td>\n",
       "      <td>2185.91</td>\n",
       "    </tr>\n",
       "    <tr>\n",
       "      <th>2018</th>\n",
       "      <td>12573.96</td>\n",
       "      <td>7997.76</td>\n",
       "      <td>3920.53</td>\n",
       "      <td>4160.07</td>\n",
       "      <td>2457.97</td>\n",
       "      <td>2086.03</td>\n",
       "    </tr>\n",
       "    <tr>\n",
       "      <th>2019</th>\n",
       "      <td>12735.09</td>\n",
       "      <td>8314.34</td>\n",
       "      <td>3993.53</td>\n",
       "      <td>4254.04</td>\n",
       "      <td>2482.12</td>\n",
       "      <td>1984.82</td>\n",
       "    </tr>\n",
       "  </tbody>\n",
       "</table>\n",
       "</div>"
      ],
      "text/plain": [
       "country        CR       DO       SV       GT       HN       NI\n",
       "2014     11355.33  6547.31  3636.01  3903.06  2240.33  1981.75\n",
       "2015     11642.78  6921.52  3705.58  3994.64  2286.20  2049.85\n",
       "2016     12004.67  7300.03  3781.38  4034.16  2334.75  2115.93\n",
       "2017     12375.92  7556.85  3846.97  4091.27  2406.75  2185.91\n",
       "2018     12573.96  7997.76  3920.53  4160.07  2457.97  2086.03\n",
       "2019     12735.09  8314.34  3993.53  4254.04  2482.12  1984.82"
      ]
     },
     "execution_count": 14,
     "metadata": {},
     "output_type": "execute_result"
    }
   ],
   "source": [
    "GDP.tail(6)"
   ]
  },
  {
   "cell_type": "code",
   "execution_count": 15,
   "metadata": {
    "pycharm": {
     "name": "#%%\n"
    }
   },
   "outputs": [
    {
     "data": {
      "text/html": [
       "<div>\n",
       "<style scoped>\n",
       "    .dataframe tbody tr th:only-of-type {\n",
       "        vertical-align: middle;\n",
       "    }\n",
       "\n",
       "    .dataframe tbody tr th {\n",
       "        vertical-align: top;\n",
       "    }\n",
       "\n",
       "    .dataframe thead th {\n",
       "        text-align: right;\n",
       "    }\n",
       "</style>\n",
       "<table border=\"1\" class=\"dataframe\">\n",
       "  <thead>\n",
       "    <tr style=\"text-align: right;\">\n",
       "      <th>country</th>\n",
       "      <th>CR</th>\n",
       "      <th>DO</th>\n",
       "      <th>SV</th>\n",
       "      <th>GT</th>\n",
       "      <th>HN</th>\n",
       "      <th>NI</th>\n",
       "    </tr>\n",
       "  </thead>\n",
       "  <tbody>\n",
       "    <tr>\n",
       "      <th>2015</th>\n",
       "      <td>2.53</td>\n",
       "      <td>5.72</td>\n",
       "      <td>1.91</td>\n",
       "      <td>2.35</td>\n",
       "      <td>2.05</td>\n",
       "      <td>3.44</td>\n",
       "    </tr>\n",
       "    <tr>\n",
       "      <th>2016</th>\n",
       "      <td>3.11</td>\n",
       "      <td>5.47</td>\n",
       "      <td>2.05</td>\n",
       "      <td>0.99</td>\n",
       "      <td>2.12</td>\n",
       "      <td>3.22</td>\n",
       "    </tr>\n",
       "    <tr>\n",
       "      <th>2017</th>\n",
       "      <td>3.09</td>\n",
       "      <td>3.52</td>\n",
       "      <td>1.73</td>\n",
       "      <td>1.42</td>\n",
       "      <td>3.08</td>\n",
       "      <td>3.31</td>\n",
       "    </tr>\n",
       "    <tr>\n",
       "      <th>2018</th>\n",
       "      <td>1.60</td>\n",
       "      <td>5.83</td>\n",
       "      <td>1.91</td>\n",
       "      <td>1.68</td>\n",
       "      <td>2.13</td>\n",
       "      <td>-4.57</td>\n",
       "    </tr>\n",
       "    <tr>\n",
       "      <th>2019</th>\n",
       "      <td>1.28</td>\n",
       "      <td>3.96</td>\n",
       "      <td>1.86</td>\n",
       "      <td>2.26</td>\n",
       "      <td>0.98</td>\n",
       "      <td>-4.85</td>\n",
       "    </tr>\n",
       "  </tbody>\n",
       "</table>\n",
       "</div>"
      ],
      "text/plain": [
       "country    CR    DO    SV    GT    HN    NI\n",
       "2015     2.53  5.72  1.91  2.35  2.05  3.44\n",
       "2016     3.11  5.47  2.05  0.99  2.12  3.22\n",
       "2017     3.09  3.52  1.73  1.42  3.08  3.31\n",
       "2018     1.60  5.83  1.91  1.68  2.13 -4.57\n",
       "2019     1.28  3.96  1.86  2.26  0.98 -4.85"
      ]
     },
     "execution_count": 15,
     "metadata": {},
     "output_type": "execute_result"
    }
   ],
   "source": [
    "GROWTH = 100 * GDP.dropna().pct_change()\n",
    "GROWTH.tail()"
   ]
  },
  {
   "cell_type": "markdown",
   "metadata": {
    "pycharm": {
     "name": "#%% md\n"
    }
   },
   "source": [
    "o para generar una tabla de datos formateada para ser incluida en un documento $\\LaTeX$"
   ]
  },
  {
   "cell_type": "code",
   "execution_count": 16,
   "metadata": {
    "pycharm": {
     "name": "#%%\n"
    }
   },
   "outputs": [],
   "source": [
    "GROWTH.tail(6).round(2).to_latex('micuadro.tex')"
   ]
  },
  {
   "cell_type": "markdown",
   "metadata": {
    "pycharm": {
     "name": "#%% md\n"
    }
   },
   "source": [
    "En la última instrucción, la parte `.tail(6)` indica que solo queremos las últimas seis observaciones, mientras que la parte `.to_latex('micuadro.tex')` exporta esa tabla a un archivo llamado *micuadro.tex*, que luego puede incluirse en un documento. El resultado de este código es"
   ]
  },
  {
   "cell_type": "code",
   "execution_count": 17,
   "metadata": {
    "pycharm": {
     "name": "#%%\n"
    }
   },
   "outputs": [
    {
     "name": "stdout",
     "output_type": "stream",
     "text": [
      "\\begin{tabular}{lrrrrrr}\n",
      "\\toprule\n",
      "country &    CR &    DO &    SV &    GT &    HN &    NI \\\\\n",
      "\\midrule\n",
      "2014 &  2.39 &  5.82 &  1.24 &  2.65 &  1.25 &  3.42 \\\\\n",
      "2015 &  2.53 &  5.72 &  1.91 &  2.35 &  2.05 &  3.44 \\\\\n",
      "2016 &  3.11 &  5.47 &  2.05 &  0.99 &  2.12 &  3.22 \\\\\n",
      "2017 &  3.09 &  3.52 &  1.73 &  1.42 &  3.08 &  3.31 \\\\\n",
      "2018 &  1.60 &  5.83 &  1.91 &  1.68 &  2.13 & -4.57 \\\\\n",
      "2019 &  1.28 &  3.96 &  1.86 &  2.26 &  0.98 & -4.85 \\\\\n",
      "\\bottomrule\n",
      "\\end{tabular}\n",
      "\n"
     ]
    }
   ],
   "source": [
    "print(open('micuadro.tex').read())"
   ]
  },
  {
   "cell_type": "markdown",
   "metadata": {
    "pycharm": {
     "name": "#%% md\n"
    }
   },
   "source": [
    "Finalmente, graficamos los resultados. Es posible mejorar el aspecto estético de esta figura, por ejemplo, cambiando la posición de la leyenda. Tales mejoras no se presentan aquí por consideraciones de espacio."
   ]
  },
  {
   "cell_type": "code",
   "execution_count": 18,
   "metadata": {
    "pycharm": {
     "name": "#%%\n"
    }
   },
   "outputs": [
    {
     "data": {
      "text/html": [
       "<div>\n",
       "<style scoped>\n",
       "    .dataframe tbody tr th:only-of-type {\n",
       "        vertical-align: middle;\n",
       "    }\n",
       "\n",
       "    .dataframe tbody tr th {\n",
       "        vertical-align: top;\n",
       "    }\n",
       "\n",
       "    .dataframe thead th {\n",
       "        text-align: right;\n",
       "    }\n",
       "</style>\n",
       "<table border=\"1\" class=\"dataframe\">\n",
       "  <thead>\n",
       "    <tr style=\"text-align: right;\">\n",
       "      <th>country</th>\n",
       "      <th>CR</th>\n",
       "      <th>DO</th>\n",
       "      <th>SV</th>\n",
       "      <th>GT</th>\n",
       "      <th>HN</th>\n",
       "      <th>NI</th>\n",
       "    </tr>\n",
       "  </thead>\n",
       "  <tbody>\n",
       "    <tr>\n",
       "      <th>1991</th>\n",
       "      <td>NaN</td>\n",
       "      <td>NaN</td>\n",
       "      <td>NaN</td>\n",
       "      <td>NaN</td>\n",
       "      <td>NaN</td>\n",
       "      <td>NaN</td>\n",
       "    </tr>\n",
       "    <tr>\n",
       "      <th>1992</th>\n",
       "      <td>6.40</td>\n",
       "      <td>9.15</td>\n",
       "      <td>5.56</td>\n",
       "      <td>2.12</td>\n",
       "      <td>3.12</td>\n",
       "      <td>-1.84</td>\n",
       "    </tr>\n",
       "    <tr>\n",
       "      <th>1993</th>\n",
       "      <td>4.37</td>\n",
       "      <td>5.40</td>\n",
       "      <td>4.39</td>\n",
       "      <td>1.31</td>\n",
       "      <td>3.54</td>\n",
       "      <td>-2.58</td>\n",
       "    </tr>\n",
       "    <tr>\n",
       "      <th>1994</th>\n",
       "      <td>1.90</td>\n",
       "      <td>0.77</td>\n",
       "      <td>3.35</td>\n",
       "      <td>1.47</td>\n",
       "      <td>-2.58</td>\n",
       "      <td>1.15</td>\n",
       "    </tr>\n",
       "    <tr>\n",
       "      <th>1995</th>\n",
       "      <td>1.61</td>\n",
       "      <td>3.85</td>\n",
       "      <td>3.49</td>\n",
       "      <td>2.41</td>\n",
       "      <td>3.21</td>\n",
       "      <td>3.79</td>\n",
       "    </tr>\n",
       "  </tbody>\n",
       "</table>\n",
       "</div>"
      ],
      "text/plain": [
       "country    CR    DO    SV    GT    HN    NI\n",
       "1991      NaN   NaN   NaN   NaN   NaN   NaN\n",
       "1992     6.40  9.15  5.56  2.12  3.12 -1.84\n",
       "1993     4.37  5.40  4.39  1.31  3.54 -2.58\n",
       "1994     1.90  0.77  3.35  1.47 -2.58  1.15\n",
       "1995     1.61  3.85  3.49  2.41  3.21  3.79"
      ]
     },
     "execution_count": 18,
     "metadata": {},
     "output_type": "execute_result"
    }
   ],
   "source": [
    "GROWTH.head()"
   ]
  },
  {
   "cell_type": "code",
   "execution_count": 19,
   "metadata": {
    "pycharm": {
     "name": "#%%\n"
    }
   },
   "outputs": [
    {
     "data": {
      "text/plain": [
       "['CR', 'DO', 'GT', 'HN', 'NI', 'SV']"
      ]
     },
     "execution_count": 19,
     "metadata": {},
     "output_type": "execute_result"
    }
   ],
   "source": [
    "paises"
   ]
  },
  {
   "cell_type": "code",
   "execution_count": 20,
   "metadata": {
    "pycharm": {
     "name": "#%%\n"
    }
   },
   "outputs": [],
   "source": [
    "plt.style.use('seaborn');\n",
    "GROWTH = GROWTH[paises]"
   ]
  },
  {
   "cell_type": "code",
   "execution_count": 21,
   "metadata": {
    "pycharm": {
     "name": "#%%\n"
    }
   },
   "outputs": [
    {
     "data": {
      "image/png": "[encoded data removed]",
      "text/plain": [
       "<Figure size 576x396 with 2 Axes>"
      ]
     },
     "metadata": {
      "filenames": {
       "image/png": "C:\\Users\\randa\\OneDrive\\Documents\\Teaching\\econometria\\_build\\jupyter_execute\\apendices\\py-intro\\Python-09--manipulando-datos_33_0.png"
      }
     },
     "output_type": "display_data"
    }
   ],
   "source": [
    "GROWTH[['GT','HN']]['2013':].plot(subplots=True)\n",
    "plt.savefig('growth.pdf', bbox_inches='tight')"
   ]
  },
  {
   "cell_type": "code",
   "execution_count": 22,
   "metadata": {
    "pycharm": {
     "name": "#%%\n"
    }
   },
   "outputs": [
    {
     "data": {
      "text/plain": [
       "array([<AxesSubplot:>, <AxesSubplot:>], dtype=object)"
      ]
     },
     "execution_count": 22,
     "metadata": {},
     "output_type": "execute_result"
    },
    {
     "data": {
      "image/png": "[encoded data removed]",
      "text/plain": [
       "<Figure size 576x396 with 2 Axes>"
      ]
     },
     "metadata": {
      "filenames": {
       "image/png": "C:\\Users\\randa\\OneDrive\\Documents\\Teaching\\econometria\\_build\\jupyter_execute\\apendices\\py-intro\\Python-09--manipulando-datos_34_1.png"
      }
     },
     "output_type": "display_data"
    }
   ],
   "source": [
    "plt.style.use('fivethirtyeight');\n",
    "GROWTH.columns = paises\n",
    "GROWTH[['GT','HN']]['2013':].plot(subplots=True)"
   ]
  },
  {
   "cell_type": "markdown",
   "metadata": {
    "pycharm": {
     "name": "#%% md\n"
    }
   },
   "source": [
    "También es posible trazar cada una de las series de tiempo en un subgráfico separado, con la instrucción"
   ]
  },
  {
   "cell_type": "code",
   "execution_count": 23,
   "metadata": {
    "pycharm": {
     "name": "#%%\n"
    }
   },
   "outputs": [
    {
     "data": {
      "image/png": "[encoded data removed]",
      "text/plain": [
       "<Figure size 576x396 with 6 Axes>"
      ]
     },
     "metadata": {
      "filenames": {
       "image/png": "C:\\Users\\randa\\OneDrive\\Documents\\Teaching\\econometria\\_build\\jupyter_execute\\apendices\\py-intro\\Python-09--manipulando-datos_36_0.png"
      }
     },
     "output_type": "display_data"
    }
   ],
   "source": [
    "GROWTH.plot(subplots=True, layout=[2,3], sharey=True);\n",
    "#plt.savefig('growth-subplots.pdf', bbox_inches='tight')"
   ]
  },
  {
   "cell_type": "markdown",
   "metadata": {
    "pycharm": {
     "name": "#%% md\n"
    }
   },
   "source": [
    "donde hemos especificado que cada serie de tiempo debe trazarse por separado (`subplots=True`), organizarse en dos filas y tres columnas (`layout=[2,3]`), y todos los subgráficos deben tener el mismo eje \"y\" (`sharey=True`, para facilitar las comparaciones de países)."
   ]
  },
  {
   "cell_type": "markdown",
   "metadata": {
    "pycharm": {
     "name": "#%% md\n"
    }
   },
   "source": [
    "Para ver cuáles estilos de gráficos están disponibles"
   ]
  },
  {
   "cell_type": "code",
   "execution_count": 24,
   "metadata": {
    "pycharm": {
     "name": "#%%\n"
    }
   },
   "outputs": [
    {
     "data": {
      "text/plain": [
       "['Solarize_Light2',\n",
       " '_classic_test_patch',\n",
       " 'bmh',\n",
       " 'classic',\n",
       " 'dark_background',\n",
       " 'fast',\n",
       " 'fivethirtyeight',\n",
       " 'ggplot',\n",
       " 'grayscale',\n",
       " 'seaborn',\n",
       " 'seaborn-bright',\n",
       " 'seaborn-colorblind',\n",
       " 'seaborn-dark',\n",
       " 'seaborn-dark-palette',\n",
       " 'seaborn-darkgrid',\n",
       " 'seaborn-deep',\n",
       " 'seaborn-muted',\n",
       " 'seaborn-notebook',\n",
       " 'seaborn-paper',\n",
       " 'seaborn-pastel',\n",
       " 'seaborn-poster',\n",
       " 'seaborn-talk',\n",
       " 'seaborn-ticks',\n",
       " 'seaborn-white',\n",
       " 'seaborn-whitegrid',\n",
       " 'tableau-colorblind10']"
      ]
     },
     "execution_count": 24,
     "metadata": {},
     "output_type": "execute_result"
    }
   ],
   "source": [
    "plt.style.available"
   ]
  },
  {
   "cell_type": "markdown",
   "metadata": {
    "pycharm": {
     "name": "#%% md\n"
    }
   },
   "source": [
    "## Ejemplo 2: Estimaciones econométricas"
   ]
  },
  {
   "cell_type": "markdown",
   "metadata": {
    "pycharm": {
     "name": "#%% md\n"
    }
   },
   "source": [
    "El paquete `statsmodels` de Python permite la estimación de muchos tipos de modelos econométricos, aunque no tantos como se pueden estimar usando R. Una ilustración simple es la estimación de una función de consumo keynesiana,\n",
    "\\begin{equation*}\n",
    "\\ln(c_t) = \\beta_0 + \\beta_1 \\ln(y_t) + \\epsilon_t\n",
    "\\end{equation*}\n",
    "\n",
    "donde $c_t$ representa consumo, $y_t$ ingreso, $\\epsilon$ un shock estocástico. En este caso $\\beta_1$ corresponde a la elasticidad ingreso del consumo.\n",
    "\n",
    "Al igual que en el ejemplo anterior, usaremos `pandas-datareader` para importar datos de Internet. En este ejemplo, también importamos la función `log()` del paquete `numpy` para calcular el logaritmo de los datos, así como el módulo `formula.api` de `statsmodels` para estimar el modelo."
   ]
  },
  {
   "cell_type": "code",
   "execution_count": 25,
   "metadata": {
    "pycharm": {
     "name": "#%%\n"
    }
   },
   "outputs": [],
   "source": [
    "import pandas_datareader.data as web\n",
    "from numpy import log\n",
    "import statsmodels.formula.api as smf"
   ]
  },
  {
   "cell_type": "markdown",
   "metadata": {
    "pycharm": {
     "name": "#%% md\n"
    }
   },
   "source": [
    "Una vez hecho esto, estamos listos para importar datos. En este ejemplo, utilizamos datos trimestrales sobre consumo y producción en los Estados Unidos, disponibles en [FRED](https://fred.stlouisfed.org/), una base de datos del Banco de la Reserva Federal de Saint Louis. Para “consumo” usamos la serie “PCEC” (Personal Consumption Expenditures), y para “ingreso” usamos “GDP” (Gross Domestic Product)."
   ]
  },
  {
   "cell_type": "code",
   "execution_count": 26,
   "metadata": {
    "pycharm": {
     "name": "#%%\n"
    }
   },
   "outputs": [],
   "source": [
    "usdata = web.DataReader(['PCEC','GDP'],'fred', 1947, 2018)"
   ]
  },
  {
   "cell_type": "code",
   "execution_count": 27,
   "metadata": {
    "pycharm": {
     "name": "#%%\n"
    }
   },
   "outputs": [
    {
     "data": {
      "text/html": [
       "<div>\n",
       "<style scoped>\n",
       "    .dataframe tbody tr th:only-of-type {\n",
       "        vertical-align: middle;\n",
       "    }\n",
       "\n",
       "    .dataframe tbody tr th {\n",
       "        vertical-align: top;\n",
       "    }\n",
       "\n",
       "    .dataframe thead th {\n",
       "        text-align: right;\n",
       "    }\n",
       "</style>\n",
       "<table border=\"1\" class=\"dataframe\">\n",
       "  <thead>\n",
       "    <tr style=\"text-align: right;\">\n",
       "      <th></th>\n",
       "      <th>PCEC</th>\n",
       "      <th>GDP</th>\n",
       "    </tr>\n",
       "    <tr>\n",
       "      <th>DATE</th>\n",
       "      <th></th>\n",
       "      <th></th>\n",
       "    </tr>\n",
       "  </thead>\n",
       "  <tbody>\n",
       "    <tr>\n",
       "      <th>2017-01-01</th>\n",
       "      <td>13046.44</td>\n",
       "      <td>19153.91</td>\n",
       "    </tr>\n",
       "    <tr>\n",
       "      <th>2017-04-01</th>\n",
       "      <td>13144.40</td>\n",
       "      <td>19322.92</td>\n",
       "    </tr>\n",
       "    <tr>\n",
       "      <th>2017-07-01</th>\n",
       "      <td>13268.15</td>\n",
       "      <td>19558.69</td>\n",
       "    </tr>\n",
       "    <tr>\n",
       "      <th>2017-10-01</th>\n",
       "      <td>13497.45</td>\n",
       "      <td>19882.97</td>\n",
       "    </tr>\n",
       "    <tr>\n",
       "      <th>2018-01-01</th>\n",
       "      <td>13667.43</td>\n",
       "      <td>20143.72</td>\n",
       "    </tr>\n",
       "  </tbody>\n",
       "</table>\n",
       "</div>"
      ],
      "text/plain": [
       "                PCEC       GDP\n",
       "DATE                          \n",
       "2017-01-01  13046.44  19153.91\n",
       "2017-04-01  13144.40  19322.92\n",
       "2017-07-01  13268.15  19558.69\n",
       "2017-10-01  13497.45  19882.97\n",
       "2018-01-01  13667.43  20143.72"
      ]
     },
     "execution_count": 27,
     "metadata": {},
     "output_type": "execute_result"
    }
   ],
   "source": [
    "usdata.tail()"
   ]
  },
  {
   "cell_type": "markdown",
   "metadata": {
    "pycharm": {
     "name": "#%% md\n"
    }
   },
   "source": [
    "Después de ejecutar esta instrucción, la variable `usdata` apunta a una tabla de datos `pandas`, en la que cada columna corresponde a una variable y cada fila a un cuarto.\n",
    "\n",
    "Ahora estimamos el modelo por mínimos cuadrados ordinarios (`.ols()`) e imprimimos un resumen de los resultados"
   ]
  },
  {
   "cell_type": "code",
   "execution_count": 28,
   "metadata": {
    "pycharm": {
     "name": "#%%\n"
    }
   },
   "outputs": [
    {
     "data": {
      "text/plain": [
       "<AxesSubplot:xlabel='DATE'>"
      ]
     },
     "execution_count": 28,
     "metadata": {},
     "output_type": "execute_result"
    },
    {
     "data": {
      "image/png": "[encoded data removed]",
      "text/plain": [
       "<Figure size 576x396 with 1 Axes>"
      ]
     },
     "metadata": {
      "filenames": {
       "image/png": "C:\\Users\\randa\\OneDrive\\Documents\\Teaching\\econometria\\_build\\jupyter_execute\\apendices\\py-intro\\Python-09--manipulando-datos_47_1.png"
      }
     },
     "output_type": "display_data"
    }
   ],
   "source": [
    "log(usdata).plot()"
   ]
  },
  {
   "cell_type": "code",
   "execution_count": 29,
   "metadata": {
    "pycharm": {
     "name": "#%%\n"
    }
   },
   "outputs": [
    {
     "data": {
      "text/html": [
       "<table class=\"simpletable\">\n",
       "<caption>OLS Regression Results</caption>\n",
       "<tr>\n",
       "  <th>Dep. Variable:</th>          <td>PCEC</td>       <th>  R-squared:         </th> <td>   1.000</td> \n",
       "</tr>\n",
       "<tr>\n",
       "  <th>Model:</th>                   <td>OLS</td>       <th>  Adj. R-squared:    </th> <td>   1.000</td> \n",
       "</tr>\n",
       "<tr>\n",
       "  <th>Method:</th>             <td>Least Squares</td>  <th>  F-statistic:       </th> <td>6.309e+05</td>\n",
       "</tr>\n",
       "<tr>\n",
       "  <th>Date:</th>             <td>Sun, 24 Apr 2022</td> <th>  Prob (F-statistic):</th>  <td>  0.00</td>  \n",
       "</tr>\n",
       "<tr>\n",
       "  <th>Time:</th>                 <td>16:32:35</td>     <th>  Log-Likelihood:    </th> <td>  592.46</td> \n",
       "</tr>\n",
       "<tr>\n",
       "  <th>No. Observations:</th>      <td>   285</td>      <th>  AIC:               </th> <td>  -1181.</td> \n",
       "</tr>\n",
       "<tr>\n",
       "  <th>Df Residuals:</th>          <td>   283</td>      <th>  BIC:               </th> <td>  -1174.</td> \n",
       "</tr>\n",
       "<tr>\n",
       "  <th>Df Model:</th>              <td>     1</td>      <th>                     </th>     <td> </td>    \n",
       "</tr>\n",
       "<tr>\n",
       "  <th>Covariance Type:</th>      <td>nonrobust</td>    <th>                     </th>     <td> </td>    \n",
       "</tr>\n",
       "</table>\n",
       "<table class=\"simpletable\">\n",
       "<tr>\n",
       "      <td></td>         <th>coef</th>     <th>std err</th>      <th>t</th>      <th>P>|t|</th>  <th>[0.025</th>    <th>0.975]</th>  \n",
       "</tr>\n",
       "<tr>\n",
       "  <th>Intercept</th> <td>   -0.6745</td> <td>    0.010</td> <td>  -64.899</td> <td> 0.000</td> <td>   -0.695</td> <td>   -0.654</td>\n",
       "</tr>\n",
       "<tr>\n",
       "  <th>GDP</th>       <td>    1.0273</td> <td>    0.001</td> <td>  794.300</td> <td> 0.000</td> <td>    1.025</td> <td>    1.030</td>\n",
       "</tr>\n",
       "</table>\n",
       "<table class=\"simpletable\">\n",
       "<tr>\n",
       "  <th>Omnibus:</th>       <td>51.744</td> <th>  Durbin-Watson:     </th> <td>   0.073</td>\n",
       "</tr>\n",
       "<tr>\n",
       "  <th>Prob(Omnibus):</th> <td> 0.000</td> <th>  Jarque-Bera (JB):  </th> <td>  86.528</td>\n",
       "</tr>\n",
       "<tr>\n",
       "  <th>Skew:</th>          <td> 1.022</td> <th>  Prob(JB):          </th> <td>1.62e-19</td>\n",
       "</tr>\n",
       "<tr>\n",
       "  <th>Kurtosis:</th>      <td> 4.764</td> <th>  Cond. No.          </th> <td>    47.1</td>\n",
       "</tr>\n",
       "</table><br/><br/>Notes:<br/>[1] Standard Errors assume that the covariance matrix of the errors is correctly specified."
      ],
      "text/plain": [
       "<class 'statsmodels.iolib.summary.Summary'>\n",
       "\"\"\"\n",
       "                            OLS Regression Results                            \n",
       "==============================================================================\n",
       "Dep. Variable:                   PCEC   R-squared:                       1.000\n",
       "Model:                            OLS   Adj. R-squared:                  1.000\n",
       "Method:                 Least Squares   F-statistic:                 6.309e+05\n",
       "Date:                Sun, 24 Apr 2022   Prob (F-statistic):               0.00\n",
       "Time:                        16:32:35   Log-Likelihood:                 592.46\n",
       "No. Observations:                 285   AIC:                            -1181.\n",
       "Df Residuals:                     283   BIC:                            -1174.\n",
       "Df Model:                           1                                         \n",
       "Covariance Type:            nonrobust                                         \n",
       "==============================================================================\n",
       "                 coef    std err          t      P>|t|      [0.025      0.975]\n",
       "------------------------------------------------------------------------------\n",
       "Intercept     -0.6745      0.010    -64.899      0.000      -0.695      -0.654\n",
       "GDP            1.0273      0.001    794.300      0.000       1.025       1.030\n",
       "==============================================================================\n",
       "Omnibus:                       51.744   Durbin-Watson:                   0.073\n",
       "Prob(Omnibus):                  0.000   Jarque-Bera (JB):               86.528\n",
       "Skew:                           1.022   Prob(JB):                     1.62e-19\n",
       "Kurtosis:                       4.764   Cond. No.                         47.1\n",
       "==============================================================================\n",
       "\n",
       "Notes:\n",
       "[1] Standard Errors assume that the covariance matrix of the errors is correctly specified.\n",
       "\"\"\""
      ]
     },
     "execution_count": 29,
     "metadata": {},
     "output_type": "execute_result"
    }
   ],
   "source": [
    "mod = smf.ols('PCEC ~ GDP', log(usdata)).fit()\n",
    "mod.summary()"
   ]
  },
  {
   "cell_type": "markdown",
   "metadata": {
    "pycharm": {
     "name": "#%% md\n"
    }
   },
   "source": [
    "Observe que la función `.ols()` toma dos argumentos, la fórmula que especifica el modelo y el nombre de la tabla de datos que contiene las variables. En este bloque de código, especificamos los datos como `log(usdata)`, que le dice a Python que queremos el logaritmo de los datos, lo que nos ahorra la tarea de generar otra tabla de datos con los datos transformados de antemano (como sería necesario en, para ejemplo, Stata).\n",
    "\n",
    "Alternativamente, esa línea también se puede escribir como\n",
    "```\n",
    "mod = smf.ols('log(PCEC) ~ log(GDP)', usdata).fit()\n",
    "```\n",
    "lo cual es conveniente en casos donde no todas las variables deben ser transformadas."
   ]
  },
  {
   "cell_type": "markdown",
   "metadata": {
    "pycharm": {
     "name": "#%% md\n"
    }
   },
   "source": [
    "Como se espera en una regresión de series de tiempo de tendencia, el estadístico $R^2$ es muy cercano a uno, y el estadístico de Durbin-Watson apunta a la alta posibilidad de autocorrelación en los residuos. Este documento no pretende ser una guía de mejores prácticas en econometría, pero consideremos un último modelo en el que el crecimiento del consumo depende del crecimiento del ingreso:\n",
    "\n",
    "\\begin{equation*}\n",
    "\\Delta\\ln(c_t) = \\beta_0 + \\beta_1 \\Delta \\ln(y_t) + \\epsilon_t\n",
    "\\end{equation*}\n",
    "\n",
    "que estimamos en Python con"
   ]
  },
  {
   "cell_type": "code",
   "execution_count": 30,
   "metadata": {
    "pycharm": {
     "name": "#%%\n"
    }
   },
   "outputs": [
    {
     "data": {
      "text/html": [
       "<table class=\"simpletable\">\n",
       "<caption>OLS Regression Results</caption>\n",
       "<tr>\n",
       "  <th>Dep. Variable:</th>          <td>PCEC</td>       <th>  R-squared:         </th> <td>   0.492</td>\n",
       "</tr>\n",
       "<tr>\n",
       "  <th>Model:</th>                   <td>OLS</td>       <th>  Adj. R-squared:    </th> <td>   0.490</td>\n",
       "</tr>\n",
       "<tr>\n",
       "  <th>Method:</th>             <td>Least Squares</td>  <th>  F-statistic:       </th> <td>   272.8</td>\n",
       "</tr>\n",
       "<tr>\n",
       "  <th>Date:</th>             <td>Sun, 24 Apr 2022</td> <th>  Prob (F-statistic):</th> <td>2.49e-43</td>\n",
       "</tr>\n",
       "<tr>\n",
       "  <th>Time:</th>                 <td>16:32:35</td>     <th>  Log-Likelihood:    </th> <td>  1011.9</td>\n",
       "</tr>\n",
       "<tr>\n",
       "  <th>No. Observations:</th>      <td>   284</td>      <th>  AIC:               </th> <td>  -2020.</td>\n",
       "</tr>\n",
       "<tr>\n",
       "  <th>Df Residuals:</th>          <td>   282</td>      <th>  BIC:               </th> <td>  -2012.</td>\n",
       "</tr>\n",
       "<tr>\n",
       "  <th>Df Model:</th>              <td>     1</td>      <th>                     </th>     <td> </td>   \n",
       "</tr>\n",
       "<tr>\n",
       "  <th>Covariance Type:</th>      <td>nonrobust</td>    <th>                     </th>     <td> </td>   \n",
       "</tr>\n",
       "</table>\n",
       "<table class=\"simpletable\">\n",
       "<tr>\n",
       "      <td></td>         <th>coef</th>     <th>std err</th>      <th>t</th>      <th>P>|t|</th>  <th>[0.025</th>    <th>0.975]</th>  \n",
       "</tr>\n",
       "<tr>\n",
       "  <th>Intercept</th> <td>    0.0062</td> <td>    0.001</td> <td>    8.668</td> <td> 0.000</td> <td>    0.005</td> <td>    0.008</td>\n",
       "</tr>\n",
       "<tr>\n",
       "  <th>GDP</th>       <td>    0.6167</td> <td>    0.037</td> <td>   16.515</td> <td> 0.000</td> <td>    0.543</td> <td>    0.690</td>\n",
       "</tr>\n",
       "</table>\n",
       "<table class=\"simpletable\">\n",
       "<tr>\n",
       "  <th>Omnibus:</th>       <td>102.779</td> <th>  Durbin-Watson:     </th> <td>   2.541</td> \n",
       "</tr>\n",
       "<tr>\n",
       "  <th>Prob(Omnibus):</th> <td> 0.000</td>  <th>  Jarque-Bera (JB):  </th> <td>1098.030</td> \n",
       "</tr>\n",
       "<tr>\n",
       "  <th>Skew:</th>          <td>-1.129</td>  <th>  Prob(JB):          </th> <td>3.68e-239</td>\n",
       "</tr>\n",
       "<tr>\n",
       "  <th>Kurtosis:</th>      <td>12.364</td>  <th>  Cond. No.          </th> <td>    91.4</td> \n",
       "</tr>\n",
       "</table><br/><br/>Notes:<br/>[1] Standard Errors assume that the covariance matrix of the errors is correctly specified."
      ],
      "text/plain": [
       "<class 'statsmodels.iolib.summary.Summary'>\n",
       "\"\"\"\n",
       "                            OLS Regression Results                            \n",
       "==============================================================================\n",
       "Dep. Variable:                   PCEC   R-squared:                       0.492\n",
       "Model:                            OLS   Adj. R-squared:                  0.490\n",
       "Method:                 Least Squares   F-statistic:                     272.8\n",
       "Date:                Sun, 24 Apr 2022   Prob (F-statistic):           2.49e-43\n",
       "Time:                        16:32:35   Log-Likelihood:                 1011.9\n",
       "No. Observations:                 284   AIC:                            -2020.\n",
       "Df Residuals:                     282   BIC:                            -2012.\n",
       "Df Model:                           1                                         \n",
       "Covariance Type:            nonrobust                                         \n",
       "==============================================================================\n",
       "                 coef    std err          t      P>|t|      [0.025      0.975]\n",
       "------------------------------------------------------------------------------\n",
       "Intercept      0.0062      0.001      8.668      0.000       0.005       0.008\n",
       "GDP            0.6167      0.037     16.515      0.000       0.543       0.690\n",
       "==============================================================================\n",
       "Omnibus:                      102.779   Durbin-Watson:                   2.541\n",
       "Prob(Omnibus):                  0.000   Jarque-Bera (JB):             1098.030\n",
       "Skew:                          -1.129   Prob(JB):                    3.68e-239\n",
       "Kurtosis:                      12.364   Cond. No.                         91.4\n",
       "==============================================================================\n",
       "\n",
       "Notes:\n",
       "[1] Standard Errors assume that the covariance matrix of the errors is correctly specified.\n",
       "\"\"\""
      ]
     },
     "execution_count": 30,
     "metadata": {},
     "output_type": "execute_result"
    }
   ],
   "source": [
    "smf.ols('PCEC ~ GDP', log(usdata).diff()).fit().summary()"
   ]
  },
  {
   "cell_type": "markdown",
   "metadata": {
    "pycharm": {
     "name": "#%% md\n"
    }
   },
   "source": [
    "Notamos que ahora el $R^2$ ya no está cerca de uno, y que la estadística de Durbin-Watson está más cerca de 2.0, lo que indica falta de autocorrelación.\n",
    "\n",
    "Con los resultados disponibles, podríamos predecir que un aumento de un punto porcentual (p.p.) en el crecimiento del PIB conduciría a un 0.618 p.p. aumento en el crecimiento del consumo. Sin embargo, dado que la muestra de datos cubre un período tan largo (casi 70 años de observación trimestral), es razonable preguntarse si los parámetros en este modelo son constantes, dado que podrían haber ocurrido varios cambios estructurales a lo largo de estos años. Una forma de evaluar dicha posibilidad es estimar el modelo con una muestra continua. En particular, vamos a estimar este modelo con 24 ventanas trimestrales de ventana móvil, cambiando la muestra en un cuarto en cada paso.\n",
    "\n",
    "En este caso, dado que vamos a necesitar datos de crecimiento muchas veces, es más eficiente calcular los datos de crecimiento solo una vez y almacenarlos en una variable de 'crecimiento'. Con el código `[1:]` estamos eliminando la primera observación, que perdemos cuando calculamos la diferencia de primer orden `.diff()`. Además, usamos la propiedad `.shape` de la tabla para averiguar cuántas observaciones tenemos` T`, y luego establecemos el rango de ventana en observaciones `h = 24`:"
   ]
  },
  {
   "cell_type": "code",
   "execution_count": 31,
   "metadata": {
    "pycharm": {
     "name": "#%%\n"
    }
   },
   "outputs": [],
   "source": [
    "growth = (100*log(usdata).diff())[1:]\n",
    "T, nvar = growth.shape\n",
    "h = 40"
   ]
  },
  {
   "cell_type": "code",
   "execution_count": 32,
   "metadata": {
    "pycharm": {
     "name": "#%%\n"
    }
   },
   "outputs": [
    {
     "data": {
      "text/plain": [
       "71.0"
      ]
     },
     "execution_count": 32,
     "metadata": {},
     "output_type": "execute_result"
    }
   ],
   "source": [
    "T /4"
   ]
  },
  {
   "cell_type": "markdown",
   "metadata": {
    "pycharm": {
     "name": "#%% md\n"
    }
   },
   "source": [
    "Para facilitar el siguiente paso, definimos la función `window_beta1`, que toma como único argumento el número de la última observación que se incluirá en la estimación, y devuelve el valor del coeficiente estimado del PIB"
   ]
  },
  {
   "cell_type": "code",
   "execution_count": 33,
   "metadata": {
    "pycharm": {
     "name": "#%%\n"
    }
   },
   "outputs": [],
   "source": [
    "def window_beta1(k):\n",
    "    submuestra = growth[k-h:k]\n",
    "    return smf.ols('PCEC~GDP', submuestra).fit().params['GDP']"
   ]
  },
  {
   "cell_type": "code",
   "execution_count": 34,
   "metadata": {
    "pycharm": {
     "name": "#%%\n"
    }
   },
   "outputs": [
    {
     "data": {
      "text/plain": [
       "0.4146020832731192"
      ]
     },
     "execution_count": 34,
     "metadata": {},
     "output_type": "execute_result"
    }
   ],
   "source": [
    "window_beta1(81)"
   ]
  },
  {
   "cell_type": "markdown",
   "metadata": {
    "pycharm": {
     "name": "#%% md\n"
    }
   },
   "source": [
    "Con esto, estamos listos para estimar el modelo muchas veces, agregando los resultados a la tabla de `growth` como el “indicador” `beta1`. Al graficar los resultados, obtenemos la siguiente figura, donde vemos claramente que el efecto del crecimiento del PIB en el crecimiento del consumo es bastante inestable y, por lo tanto, las predicciones hechas con el modelo simple podrían ser muy pobres."
   ]
  },
  {
   "cell_type": "code",
   "execution_count": 35,
   "metadata": {
    "pycharm": {
     "name": "#%%\n"
    },
    "scrolled": true
   },
   "outputs": [
    {
     "name": "stderr",
     "output_type": "stream",
     "text": [
      "C:\\ProgramData\\Anaconda3\\lib\\site-packages\\pandas\\core\\indexing.py:719: FutureWarning: Slicing a positional slice with .loc is not supported, and will raise TypeError in a future version.  Use .loc with labels or .iloc with positions instead.\n",
      "  indexer = self._get_setitem_indexer(key)\n"
     ]
    },
    {
     "data": {
      "text/plain": [
       "<AxesSubplot:xlabel='DATE'>"
      ]
     },
     "execution_count": 35,
     "metadata": {},
     "output_type": "execute_result"
    },
    {
     "data": {
      "image/png": "[encoded data removed]",
      "text/plain": [
       "<Figure size 576x396 with 1 Axes>"
      ]
     },
     "metadata": {
      "filenames": {
       "image/png": "C:\\Users\\randa\\OneDrive\\Documents\\Teaching\\econometria\\_build\\jupyter_execute\\apendices\\py-intro\\Python-09--manipulando-datos_59_2.png"
      }
     },
     "output_type": "display_data"
    }
   ],
   "source": [
    "growth.loc[h-1:,'beta1'] = [window_beta1(k) for k in range(h,T+1)]\n",
    "growth[['beta1']].plot()\n",
    "#plt.savefig('dynamic-beta.pdf', bbox_inches='tight')"
   ]
  },
  {
   "cell_type": "markdown",
   "metadata": {
    "pycharm": {
     "name": "#%% md\n"
    },
    "slideshow": {
     "slide_type": "slide"
    }
   },
   "source": [
    "## Referencias\n",
    "\n",
    "* Romero-Aguilar, Randall (2017). **[Python para economistas](http://www.secmca.org/NOTAS_ECONOMICAS/articulo93NOV2017.pdf)**. Nota Económica Regionales N0.93, diciembre. SECMCA. "
   ]
  }
 ],
 "metadata": {
  "kernelspec": {
   "display_name": "Python 3",
   "language": "python",
   "name": "python3"
  },
  "language_info": {
   "codemirror_mode": {
    "name": "ipython",
    "version": 3
   },
   "file_extension": ".py",
   "mimetype": "text/x-python",
   "name": "python",
   "nbconvert_exporter": "python",
   "pygments_lexer": "ipython3",
   "version": "3.9.7"
  }
 },
 "nbformat": 4,
 "nbformat_minor": 4
}