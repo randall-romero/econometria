{
 "cells": [
  {
   "cell_type": "markdown",
   "id": "abddff89",
   "metadata": {},
   "source": [
    "```{include} ../math-definitions.md\n",
    "```"
   ]
  },
  {
   "cell_type": "code",
   "execution_count": null,
   "id": "2046d3a4",
   "metadata": {
    "tags": [
     "hide-input"
    ]
   },
   "outputs": [],
   "source": [
    "import numpy as np\n",
    "import matplotlib.pyplot as plt\n",
    "plt.style.use('seaborn')\n",
    "from macrodemos.demo_ARMA import ARMA\n",
    "from macrodemos.common_components import merge_plots"
   ]
  },
  {
   "cell_type": "markdown",
   "id": "01f39dda",
   "metadata": {},
   "source": [
    "# Proceso autorregresivo de media móvil ARMA(p,q)\n",
    "\n",
    "## Procesos ARMA\n",
    "```{important} Definición: proceso ARMA\n",
    "\n",
    "Sea $\\left\\{\\epsilon_t\\right\\}$ un proceso ruido blanco; el proceso estocástico\n",
    "\\begin{equation*}\n",
    "y_t = c + \\phi_1y_{t-1} + \\dots + \\phi_py_{t-p} + \\epsilon_t + \\theta_1\\epsilon_{t-1} + \\dots + \\theta_q\\epsilon_{t-q}\n",
    "\\end{equation*}\n",
    "\n",
    "con $\\phi_p, \\theta_q \\neq 0$ es llamado un proceso ARMA(p,q).\n",
    "```\n",
    "\n",
    "\n",
    "ARMA  = **A**uto**R**egressive **M**oving **A**verage, (autorregresivo media móvil)\n",
    "\n",
    "Los procesos ARMA son importantes porque todo proceso estacionario puede ser aproximado por un proceso ARMA.\n",
    "\n",
    "\n",
    "\n",
    "Similar a lo que encontramos con los procesos AR(p), si asumimos que es estacionario su media satisface la relación\n",
    "\\begin{equation*}\n",
    "\\mu = c + \\phi_1\\mu + \\dots + \\phi_p\\mu\n",
    "\\end{equation*}\n",
    "\n",
    "Por lo que el proceso puede escribirse sin el intercepto, si expresamos la variable $y$ como desviación de su media\n",
    "\\begin{equation*}\n",
    "\\tilde{y}_t = \\phi_1\\tilde{y}_{t-1} + \\dots + \\phi_p\\tilde{y}_{t-p} + \\epsilon_t + \\theta_1\\epsilon_{t-1} + \\dots + \\theta_q\\epsilon_{t-q}\n",
    "\\end{equation*}\n",
    "\n",
    "Las fórmulas para la varianza y la autocovarianza se obtienen aplicando las definiciones del caso, pero tienden a ser más complicadas.\n",
    "\n",
    "\n",
    "\n",
    "\n",
    "## Estabilidad e invertibilidad de un proceso ARMA\n",
    "\n",
    "El proceso  $\\tilde{y}_t = \\phi_1\\tilde{y}_{t-1} + \\dots + \\phi_p\\tilde{y}_{t-p} + \\epsilon_t + \\theta_1\\epsilon_{t-1} + \\dots + \\theta_q\\epsilon_{t-q}$ puede expresarse en términos de polinomios de rezagos:\n",
    "\\begin{align*}\n",
    "\\tilde{y}_t - \\phi_1\\tilde{y}_{t-1} - \\dots - \\phi_p\\tilde{y}_{t-p} &= \\epsilon_t + \\theta_1\\epsilon_{t-1} + \\dots + \\theta_q\\epsilon_{t-q}\\\\\n",
    "\\left(1 - \\phi_1\\Lag - \\dots - \\phi_p\\Lag^p\\right)\\tilde{y}_t &= \\left(1 + \\theta_1\\Lag + \\dots + \\theta_q\\Lag^q\\right)\\epsilon_t\\\\\n",
    "\\Phi(\\Lag)\\tilde{y}_t &= \\Theta(\\Lag)\\epsilon_t\n",
    "\\end{align*}\n",
    "\n",
    "\n",
    "```{panels}\n",
    ":header: bg-dark text-center text-white\n",
    "\n",
    "Estabilidad\n",
    "^^^\n",
    "Si las raíces del polinomio $\\Phi(z)$ están todas fuera del círculo unitario, el proceso es **estable**.\n",
    "\\begin{equation*}\n",
    "\\tilde{y}_t = \\Phi(\\Lag)^{-1}\\Theta(\\Lag)\\epsilon_t\n",
    "\\end{equation*}\n",
    "\n",
    "\n",
    "---\n",
    "Invertibilidad\n",
    "^^^\n",
    "Si las raíces del polinomio $\\Theta(z)$ están todas fuera del círculo unitario, el proceso es **invertible**.\n",
    "\\begin{equation*}\n",
    "\\epsilon_t = \\Theta(\\Lag)^{-1}\\Phi(\\Lag)\\tilde{y}_t\n",
    "\\end{equation*}\n",
    "\n",
    "```\n",
    "\n",
    "\n",
    "## Sobreparametrización de un proceso ARMA\n",
    "\n",
    "Supongamos que tenemos un proceso ARMA(p, q) $\\Phi(\\Lag)y_t = \\Theta(\\Lag)\\epsilon_t$, en el cual los polinomios $\\Theta(\\Lag)$ tiene una raíz en común. En este caso podemos\n",
    "\\begin{align*}\n",
    "\\Phi(\\Lag)y_t &= \\Theta(\\Lag)\\epsilon_t\\\\\n",
    "(1-r\\Lag)\\Phi^*(\\Lag)y_t &= (1-r\\Lag)\\Theta^*(\\Lag)\\epsilon_t\\\\\n",
    "\\Phi^*(\\Lag)y_t &= \\Theta^*(\\Lag)\\epsilon_t\n",
    "\\end{align*}\n",
    "\n",
    "\n",
    "Es decir, podemos representar el mismo proceso con un modelo ARMA(p-1, q-1).\n",
    "\n",
    "Decimos que:\n",
    "\n",
    "* el modelo ARMA(p,q) está **sobreparametrizado**.\n",
    "* el modelo ARMA(p-1, q-1) es una representación más **parsimoniosa** del proceso generador de datos.\n",
    "\n",
    "\n",
    "\n",
    "{{ empieza_ejemplo }} Sobreparametrización {{ fin_titulo_ejemplo }}\n",
    "\n",
    "Consideremos estos dos procesos ARMA\n",
    "\\begin{align*}\n",
    "y_t &= 1.3y_{t-1}-0.4y_{t-2}+\\epsilon_t+0.1\\epsilon_{t-1} -0.3\\epsilon_{t-2} \\tag{ARMA(2,2)}\\\\\n",
    "y_t &= 0.8y_{t-1} +\\epsilon_t+0.6\\epsilon_{t-1} \\tag{ARMA(1,1)}\n",
    "\\end{align*}"
   ]
  },
  {
   "cell_type": "code",
   "execution_count": null,
   "id": "37605bdb",
   "metadata": {
    "tags": [
     "hide-input"
    ]
   },
   "outputs": [],
   "source": [
    "arma22 = ARMA(phi=[1.3, -0.4], theta=[0.1, -0.3])\n",
    "arma11 = ARMA(phi=[0.8], theta=[0.6])\n",
    "\n",
    "\n",
    "merge_plots(\n",
    "   [arma22.plot_correlogram(18), arma11.plot_correlogram(18), arma22.plot_partial_correlogram(18), arma11.plot_partial_correlogram(18)],\n",
    "   cols=2,\n",
    "   subplot_titles=[str(arma22), str(arma11)],\n",
    "   title_text='Autocorrelación (arriba) y autocorrelación parcial (abajo)',\n",
    ")"
   ]
  },
  {
   "cell_type": "markdown",
   "id": "9f9b6cb2",
   "metadata": {},
   "source": [
    "¡Sus funciones ACF y PACF son idénticas!\n",
    "\n",
    "\n",
    "Las raíces de los polinomios de rezagos del proceso ARMA(2,2)"
   ]
  },
  {
   "cell_type": "code",
   "execution_count": null,
   "id": "ab0978db",
   "metadata": {
    "tags": [
     "hide-input"
    ]
   },
   "outputs": [],
   "source": [
    "arma22.plot_ar_roots()"
   ]
  },
  {
   "cell_type": "code",
   "execution_count": null,
   "id": "2466ff7c",
   "metadata": {
    "tags": [
     "hide-input"
    ]
   },
   "outputs": [],
   "source": [
    "arma22.plot_ma_roots()"
   ]
  },
  {
   "cell_type": "markdown",
   "id": "7328ec9e",
   "metadata": {},
   "source": [
    "Vemos que ambas tienen a $z=0.5$ como una raíz.\n",
    "\n",
    "Al “eliminarla” de ambos polinomios, terminamos con el mismo proceso pero con menos parámetros.\n",
    "\n",
    "Esta representación ARMA(1, 1) es una versión más **parsimoniosa** del mismo proceso.\n",
    "{{ termina_ejemplo }}"
   ]
  }
 ],
 "metadata": {
  "jupytext": {
   "formats": "md:myst",
   "text_representation": {
    "extension": ".md",
    "format_name": "myst"
   }
  },
  "kernelspec": {
   "display_name": "Python 3",
   "language": "python",
   "name": "python3"
  },
  "source_map": [
   17,
   23,
   30,
   128,
   140,
   148,
   153,
   156
  ],
  "substitutions": {
   "empieza_ejemplo": "<div class=\"ejemplo\">\n<div class=\"ejemplo-titulo\"><b>Ejemplo: &nbsp;\n",
   "fin_titulo_ejemplo": "</b></div>",
   "termina_ejemplo": "</div>"
  }
 },
 "nbformat": 4,
 "nbformat_minor": 5
}