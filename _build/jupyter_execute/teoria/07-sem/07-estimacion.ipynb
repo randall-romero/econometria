{
 "cells": [
  {
   "cell_type": "markdown",
   "id": "78f802d1",
   "metadata": {},
   "source": [
    "```{include} ../math-definitions.md\n",
    "```"
   ]
  },
  {
   "cell_type": "code",
   "execution_count": null,
   "id": "10f83b48",
   "metadata": {
    "tags": [
     "hide-input"
    ]
   },
   "outputs": [],
   "source": [
    "import numpy as np\n",
    "import pandas as pd\n",
    "import matplotlib.pyplot as plt\n",
    "plt.style.use('seaborn')\n",
    "import statsmodels.api as sm\n",
    "from statsmodels.formula.api import ols\n",
    "from linearmodels.iv import IV2SLS\n",
    "from scipy.stats import zscore"
   ]
  },
  {
   "cell_type": "markdown",
   "id": "25079f97",
   "metadata": {},
   "source": [
    "# Estimación\n",
    "\n",
    "##   Métodos de estimación\n",
    "\n",
    "Se clasifican en métodos indirectos y métodos directos.\n",
    "\n",
    "Los directos se clasifican en dos grupos:\n",
    "\n",
    "```{panels}\n",
    ":header: bg-dark text-center text-white\n",
    "\n",
    "Métodos de información limitada\n",
    "^^^\n",
    "- OLS\n",
    "- IV\n",
    "- 2SLS\n",
    "- GMM\n",
    "- LIML\n",
    "\n",
    "---\n",
    "Métodos de información completa\n",
    "^^^\n",
    "- 3SLS\n",
    "- FIML\n",
    "- GMM\n",
    "```\n",
    "\n",
    "##   Consistencia de OLS de la forma reducida\n",
    "El estimador OLS de las pendientes $\\Pi$ es **consistente**\n",
    "\\begin{align*}\n",
    "\\plim\\hat{\\Pi} &= \\plim\\left[\\left(X'X\\right)^{-1}X'Y\\right]\\\\\n",
    "&= \\plim\\left[\\left(\\tfrac{1}{T}X'X\\right)^{-1}\\tfrac{1}{T}X'Y\\right]\\\\\n",
    "&= \\left(\\plim\\tfrac{1}{T}X'X\\right)^{-1} \\plim\\left(\\tfrac{1}{T}X'Y\\right)\\\\\n",
    "&= Q^{-1} \\left(Q\\Pi\\right) \\\\\n",
    "&= \\Pi\n",
    "\\end{align*}\n",
    "\n",
    "\n",
    "El estimador MCO de la varianza $\\Omega$ también es **consistente**\n",
    "\\begin{align*}\n",
    "\\plim\\hat{\\Omega} &= \\plim\\left[\\tfrac{1}{T}\\hat{V}'\\hat{V}\\right] \\\\\n",
    "&= \\plim\\left[\\tfrac{1}{T}\\left(Y-X\\hat{\\Pi}\\right)'\\left(Y-X\\hat{\\Pi}\\right)\\right] \\\\\n",
    "&= \\plim\\left(\\tfrac{1}{T}Y'Y\\right) - \\plim\\left(\\tfrac{1}{T}Y'X\\hat{\\Pi}\\right) - \\plim\\left(\\hat{\\Pi}'\\tfrac{1}{T}X'Y\\right) +  \\plim\\left(\\hat{\\Pi}'\\tfrac{1}{T}X'X\\hat{\\Pi}\\right) \\\\\n",
    "&= \\Pi'Q\\Pi + \\Omega - \\left(\\Pi'Q\\right)\\Pi - \\Pi'\\left(Q\\Pi\\right) + \\Pi'\\left(Q\\right)\\Pi \\\\\n",
    "&= \\Omega\n",
    "\\end{align*}\n",
    "\n",
    "\n",
    "\n",
    "##   Mínimos cuadrados indirectos (ILS)\n",
    "\n",
    "Es posible estimar $\\Pi$ y $\\Omega$ consistentemente con OLS, pero estos parámetros no son de interés (excepto para proyectar $Y|X$).\n",
    "\n",
    "No obstante, si el sistema está identificado, se puede usar Mínimos Cuadrados Indirectos (ILS), que consiste en estimar $\\estimator{\\Gamma}{ILS}$, $\\estimator{B}{ILS}$ y $\\estimator{\\Sigma}{ILS}$ en función de $\\estimator{\\Pi}{OLS}$ y $\\estimator{\\Omega}{OLS}$.\n",
    "\n",
    "Propiedades:\n",
    "\n",
    "- factible pero ineficiente\n",
    "- puede haber más de una solución (si está sobre- identificado).\n",
    "\n",
    "##   Mínimos cuadrados ordinarios (OLS)\n",
    "Escribimos la ecuación $j$ como\n",
    "\\begin{equation*}\n",
    "y_j = Y_j\\gamma_j + X_j\\beta_j + \\epsilon_j\n",
    "= \\notation{\\MAT{Y_j & X_j}}{$Z_j$}\\notation{\\MAT{\\gamma_j\\\\ \\beta_j}}{$\\delta_j$} + \\epsilon_j =Z_j\\delta_j + \\epsilon_j\n",
    "\\end{equation*}\n",
    "\n",
    "\n",
    "### Estimador OLS\n",
    "\n",
    "\\begin{align*}\n",
    "\\estimator{\\delta_j}{OLS} &= \\left(Z'_jZ_j\\right)^{-1} Z'_jy_j \\\\\n",
    "&= \\left(Z'_jZ_j\\right)^{-1} Z'_j(Z_j\\delta_j + \\epsilon_j)\\\\\n",
    "&= \\delta_j + \\left(Z'_jZ_j\\right)^{-1} Z'_j\\epsilon_j\\\\\n",
    "&= \\delta_j + \\MAT{Y'_jY_j & Y'_jX_j \\\\ X'_jY_j & X'_jX_j}^{-1}\\MAT{Y'_j\\epsilon_j\\\\ X'_j\\epsilon_j}\n",
    "\\end{align*}\n",
    "\n",
    "```{warning}\n",
    "**OLS es inconsistente** porque $ \\plim\\left[\\tfrac{1}{T}Y'_j\\epsilon_j\\right] \\neq 0 $ (sesgo de simultaneidad)\n",
    "```\n",
    "\n",
    "##   Caso particular: Modelo recursivo\n",
    "En el modelo recursivo donde $\\Gamma$ es triangular y $\\Sigma$ es diagonal,\n",
    "\n",
    "\\begin{align*}\n",
    "y_1 &=x'\\beta_1 + \\epsilon_1\\\\\n",
    "y_2 &=x'\\beta_2 + \\gamma_{12}y_1  + \\epsilon_2\\\\\n",
    "&\\vdots \\\\\n",
    "y_M &=x'\\beta_M + \\gamma_{1M}y_1+\\dots+\\gamma_{M-1,M}y_{M-1}+ \\epsilon_M\n",
    "\\end{align*}\n",
    "\n",
    "OLS es consistente y eficiente, porque no hay sesgo de simultaneidad:\n",
    "\n",
    "\\begin{align*}\n",
    "\\Cov\\left[y_1,\\epsilon_2\\right] &= \\Cov\\left[x'\\beta_1+\\epsilon_1,\\epsilon_2\\right] = 0 \\\\\n",
    "\\Cov\\left[y_1,\\epsilon_3\\right] &= \\Cov\\left[x'\\beta_1+\\epsilon_1,\\epsilon_3\\right] = 0 \\\\\n",
    "\\Cov\\left[y_2,\\epsilon_3\\right] &= \\Cov\\left[x'\\beta_2 + \\gamma_{12}y_1  + \\epsilon_2,\\epsilon_3\\right] = 0\n",
    "\\end{align*}\n",
    "\n",
    "y así sucesivamente.\n",
    "\n",
    "\n",
    "##   Variables instrumentales (IV)\n",
    "\n",
    "Muchos estimadores son casos particulares de IV\n",
    "\n",
    "Para la ecuación $ y_j = Y_j\\gamma_j + X_j\\beta_j + \\epsilon_j = Z_j\\delta_j + \\epsilon_j$ suponemos que existe matriz $\\simbolo{W_j}{T\\times(M_j+K_j)}$  tal que:\n",
    "\n",
    "instrumento correlacionado con regresores\n",
    ": $\\plim\\left(\\tfrac{1}{T}W'_jZ_j\\right) = \\Sigma_{WZ}$\n",
    "\n",
    "instrumento tiene varianza finita\n",
    ": $\\plim\\left(\\tfrac{1}{T}W'_jW_j\\right) = \\Sigma_{WW}$\n",
    "\n",
    "instrumento NO correlacionado con errores\n",
    ": $\\plim\\left(\\tfrac{1}{T}W'_j\\epsilon_j\\right) = 0$\n",
    "\n",
    "\n",
    "\n",
    "\n",
    "### Estimador IV\n",
    "\\begin{align*}\n",
    "\\estimator{\\delta_j}{IV} &= \\left(W'_jZ_j\\right)^{-1} W'_jy_j \\\\\n",
    "&= \\delta_j + \\left(\\tfrac{1}{T}W'_jZ_j\\right)^{-1} \\left(\\tfrac{1}{T}W'_j\\epsilon_j\\right)\n",
    "\\end{align*}\n",
    "\n",
    "```{important}\n",
    "**IV es consistente** porque $ \\plim\\left[\\tfrac{1}{T}W'_j\\epsilon_j\\right] = 0 $.\n",
    "```\n",
    "\n",
    "\n",
    "##   Mínimos cuadrados en dos etapas (2SLS)\n",
    "Consiste en usar como intrumentos para $Y_j$ los valores ajustados por la regresión de $Y_j$ en \\alert{todas} las $X$’s del sistema.\n",
    "\n",
    "Etapa 1\n",
    ": Ajustar $Y_j$ por OLS usando todas las $X$\n",
    "\\begin{equation*}\n",
    "\\estimator{Y_j}{OLS} = X\\estimator{\\Pi_j}{OLS} = X\\left(X'X\\right)^{-1} X'Y_j\n",
    "\\end{equation*}\n",
    "\n",
    "Etapa 2\n",
    ": Usar IV con $W = \\MAT{\\estimator{Y_j}{OLS} & X}$.\n",
    "\n",
    "### Estimador 2SLS\n",
    "\\begin{equation*}\n",
    "\t\\estimator{\\delta_j}{2SLS} = \\MAT{\\estimator{Y'_j}{OLS}Y_j & \\estimator{Y'_j}{OLS}X_j \\\\ X'_jY_j & X'_jX_j}^{-1}\\MAT{\\estimator{Y'_j}{OLS}y_j\\\\ X'_jy_j}\n",
    "\\end{equation*}\n",
    "\n",
    "\n",
    "Si no hay autocorrelación ni heteroscedasticidad entonces 2SLS es el estimador IV más eficiente usando sólo la información de $X$.\n",
    "\n",
    "\n",
    "\n",
    "\n",
    "{{ empieza_ejemplo }} El Modelo Klein I {{ fin_titulo_ejemplo }}\n",
    "\n",
    "En 1950 Klein estimó este modelo (conocido ahora como el modelo I de Klein) con datos anuales de 1921 a 1941\\footnote{\\scriptsize Basado en \\textcite[pp332-333]{Greene:2012}}:\n",
    "\\begin{align*}\n",
    "\\notation{C_t}{consumo}\t&= \\alpha_0 + \\alpha_1 P_t + \\alpha_2 P_{t-1} + \\alpha_3(Wp_t + Wg_t) + \\epsilon_{1t}  \\\\\n",
    "\\notation{I_t}{inversión} &= \\beta_0 + \\beta_1 P_t + \\beta_2 P_{t-1} + \\beta_3 K_{t-1} + \\epsilon_{2t}  \\\\\n",
    "\\notation{Wp_t}{$\\substack{\\text{salarios}\\\\\\text{privados}}$} &= \\gamma_0  + \\gamma_1 X_t + \\gamma_2 X_{t-1} + \\gamma_3 A_t + \\epsilon_{3t} \\\\\n",
    "\\notation{X_t}{producto} &= C_t + I_t + G_t \\\\\n",
    "\\notation{P_t}{utilidades} &= X_t -  T_t - Wp_t \\\\\n",
    "\\notation{K_t}{capital} &= K_{t-1} + I_{t-1}\n",
    "\\end{align*}\n",
    "\n",
    "\n",
    "Las variables exógenas son:\n",
    "- $G_t  =$ gasto (no salarial) del gobierno\n",
    "- $T_t  =$ impuestos indirectos a las empresas + exportaciones netas\n",
    "- $Wg_t =$ gastos salarial del gobierno\n",
    "- $A_t  =$ tendecia, años desde 1931\n",
    "\n",
    "Hay tres variables predeterminadas: los rezagos del stock de capital, utilidades privadas, y demanda total."
   ]
  },
  {
   "cell_type": "code",
   "execution_count": null,
   "id": "6ec5d89d",
   "metadata": {
    "tags": [
     "hide-input"
    ]
   },
   "outputs": [],
   "source": [
    "klein = pd.read_fwf(\"http://people.stern.nyu.edu/wgreene/Text/Edition7/TableF10-3.txt\")\n",
    "klein.dropna(inplace=True)\n",
    "klein['Year'] = klein['Year'].astype(int)\n",
    "klein.index = pd.period_range(start=klein['Year'].iloc[0], periods=klein.shape[0], freq=\"A\")\n",
    "del klein['Year']\n",
    "\n",
    "datanames = dict(\n",
    "  C=\"consumo\",\n",
    "  P=\"utilidades corporativas\",\n",
    "  Wp=\"salarios sector privado\",\n",
    "  I=\"inversión\",\n",
    "  K1=\"stock de capital del año anterior\",\n",
    "  X=\"producto nacional bruto\",\n",
    "  Wg=\"salarios sector público\",\n",
    "  G=\"gasto del gobierno\",\n",
    "  T=\"impuestos\")\n",
    "\n",
    "klein.rename(columns=datanames).plot(\n",
    "  subplots=True, figsize=[12,9], layout=[-1,3]);"
   ]
  },
  {
   "cell_type": "markdown",
   "id": "ee25d65b",
   "metadata": {},
   "source": [
    "El modelo contiene 3 ecuaciones de comportamiento, una condición de equilibrio, y dos identidades contables."
   ]
  },
  {
   "cell_type": "code",
   "execution_count": null,
   "id": "69948a7d",
   "metadata": {
    "tags": [
     "hide-input"
    ]
   },
   "outputs": [],
   "source": [
    "# La variable `K1` en la base de datos corresponde al *rezago* del capital, por lo que generamos `K`. Además, generamos la tendencia y el intercepto.\n",
    "\n",
    "klein['A'] = np.arange(klein.shape[0]) - 11\n",
    "klein['interc'] = 1\n",
    "\n",
    "# Generamos las variables predeterminadas y la suma de salarios\n",
    "klein['P1'] = klein['P'].shift(1)\n",
    "klein['X1'] = klein['X'].shift(1)\n",
    "klein['W'] = klein['Wp'] + klein['Wg']\n",
    "\n",
    "klein.dropna(inplace=True);"
   ]
  },
  {
   "cell_type": "markdown",
   "id": "547f04d7",
   "metadata": {},
   "source": [
    "{badge}`Etapa 1, badge-success` regresión de las endógenas contra todas las exógenas del sistema"
   ]
  },
  {
   "cell_type": "code",
   "execution_count": null,
   "id": "2fdf0589",
   "metadata": {
    "tags": [
     "hide-input"
    ]
   },
   "outputs": [],
   "source": [
    "# Clasificamos las variables en tres grupos: endógenas, exogenas, y predeterminadas\n",
    "\n",
    "endogenas = ['C', 'I', 'Wp', 'X', 'P']\n",
    "exogenas = ['interc', 'G', 'T', 'Wg', 'A']\n",
    "predeterminadas = ['K1', 'P1', 'X1']\n",
    "\n",
    "regresores_eqs = [\n",
    "  ['interc', 'P', 'P1', 'W'],\n",
    "  ['interc', 'P', 'P1', 'K1'],\n",
    "  ['interc', 'X', 'X1', 'A']]\n",
    "\n",
    "Y = klein[endogenas]\n",
    "X = klein[exogenas+predeterminadas]\n",
    "\n",
    "beta = np.linalg.solve(X.T@X, X.T@Y)\n",
    "beta = pd.DataFrame(beta, columns=endogenas, index=exogenas+predeterminadas)\n",
    "\n",
    "yhat = X@beta\n",
    "beta.style.format(\"{:.2f}\", na_rep=\" \")"
   ]
  },
  {
   "cell_type": "markdown",
   "id": "3b32ef91",
   "metadata": {},
   "source": [
    "{badge}`Etapa 2, badge-success` se sustituyen endógenas por su valor ajustado de la etapa 1"
   ]
  },
  {
   "cell_type": "code",
   "execution_count": null,
   "id": "3c5d322a",
   "metadata": {
    "tags": [
     "hide-input"
    ]
   },
   "outputs": [],
   "source": [
    "# Preparar datos para la segunda etapa\n",
    "\n",
    "# Definir lista de instrumentos para cada ecuación: esta lista es igual a la lista de regresores original, pero sustituyendo las endógenas por su valor ajustado de la etapa 1\n",
    "\n",
    "klein_ols = pd.concat([yhat, klein[exogenas+predeterminadas]], axis=1)\n",
    "klein_ols['W'] = klein_ols['Wp'] + klein_ols['Wg']\n",
    "\n",
    "# Etapa 2\n",
    "coef2sls = []\n",
    "for xx, yy in zip(regresores_eqs, endogenas[:3]):\n",
    "    X1, y1 = klein_ols[xx], klein_ols[yy]\n",
    "    beta1 = np.linalg.solve(X1.T@X1, X1.T@y1)\n",
    "    coef2sls.append(pd.Series(beta1.ravel(), index=xx, name=yy))\n",
    "pd.concat(coef2sls, axis=1, sort=False).style.format(\"{:.2f}\", na_rep=\" \")"
   ]
  },
  {
   "cell_type": "markdown",
   "id": "de8d309f",
   "metadata": {},
   "source": [
    "El estimador 2SLS del sistema es (estadístico $p$ en paréntesis):\n",
    "\\begin{align*}\n",
    "C_t\t &= \\estimate{16.55}{0.00} + \\estimate{0.02}{0.88} P_t + \\estimate{0.22}{0.04} P_{t-1} + \\estimate{0.81}{0.00}(Wp_t + Wg_t) + \\epsilon_{1t}  \\\\\n",
    "I_t  &= \\estimate{20.28}{0.01} + \\estimate{0.15}{0.39} P_t + \\estimate{0.62}{0.00} P_{t-1} - \\estimate{0.16}{0.00} K_{t-1} + \\epsilon_{2t}  \\\\\n",
    "Wp_t &= \\estimate{1.50}{0.19}  + \\estimate{0.44}{0.00} X_t + \\estimate{0.15}{0.00} X_{t-1} + \\estimate{0.13}{0.00} A_t + \\epsilon_{3t}\n",
    "\\end{align*}\n",
    "\n",
    "\n",
    "Este modelo también lo podemos estimar directamente con `linearmodels`:\n",
    "\n",
    "{badge}`Ecuación de consumo,badge-primary`"
   ]
  },
  {
   "cell_type": "code",
   "execution_count": null,
   "id": "f7ce3f0b",
   "metadata": {
    "tags": [
     "hide-input"
    ]
   },
   "outputs": [],
   "source": [
    "IV2SLS.from_formula('C ~ 1 + [P + W ~ G + T + Wg + A + K1 + X1] + P1', klein).fit().summary"
   ]
  },
  {
   "cell_type": "markdown",
   "id": "350f81bb",
   "metadata": {},
   "source": [
    "{badge}`Ecuación de inversión,badge-primary`"
   ]
  },
  {
   "cell_type": "code",
   "execution_count": null,
   "id": "417b586b",
   "metadata": {
    "tags": [
     "hide-input"
    ]
   },
   "outputs": [],
   "source": [
    "IV2SLS.from_formula('I ~ 1 + [P ~ G + T + Wg + A + X1] + P1 + K1', klein).fit().summary"
   ]
  },
  {
   "cell_type": "markdown",
   "id": "c03f6485",
   "metadata": {},
   "source": [
    "{badge}`Ecuación de salarios del sector privado,badge-primary`"
   ]
  },
  {
   "cell_type": "code",
   "execution_count": null,
   "id": "3a15c95c",
   "metadata": {
    "tags": [
     "hide-input"
    ]
   },
   "outputs": [],
   "source": [
    "IV2SLS.from_formula('Wp ~ 1 + [X ~ G + T + Wg + K1 + P1] + X1 + A', klein).fit().summary"
   ]
  },
  {
   "cell_type": "markdown",
   "id": "91e59537",
   "metadata": {},
   "source": [
    "{{ termina_ejemplo }}\n",
    "\n",
    "\n",
    "{{ empieza_ejemplo }} El modelo de la telaraña {{ fin_titulo_ejemplo }}\n",
    "\n",
    "En el modelo de la telaraña para los mercados de maíz y de trigo\n",
    "\n",
    "\\begin{align*}\n",
    "\tq^s_{mt} & = 200 &+& 0.5p_{m,t-1} &-& 0.2p_{w,t-1} &+& \\epsilon^s_{mt}  \\tag{oferta de maíz}  \\\\\n",
    "\tq^s_{wt} & = 80  &-& 0.2p_{m,t-1} &+& 0.4p_{w,t-1} &+& \\epsilon^s_{wt}  \\tag{oferta de trigo} \\\\\n",
    "\tq^d_{mt} & = 100 &-& 0.2p_{mt}    &+& 1.2p_{wt}    &+& \\epsilon^d_{mt} \\tag{demanda de maíz}       \\\\\n",
    "\tq^d_{wt} & = 50  &+& 1.1p_{mt}    &-& 0.4p_{wt}    &+& \\epsilon^d_{wt} \\tag{demanda de trigo}\n",
    "\\end{align*}\n",
    "\n",
    "\n",
    "Los agricultores pueden sembrar maíz o trigo, pero tardan un período en producirlo.\n",
    "\n",
    "Los consumidores están dispuestos a sustituir el consumo de maíz y trigo en respuesta a los precios que encuentran.\n",
    "\n",
    "Este modelo puede escribirse\n",
    "\n",
    "\\begin{equation*}\n",
    "\\notation{\\MAT{1 & 0  & 0 & 0 \\\\ 0 & 1 & 0 & 0 \\\\ 1 & 0 & 0.2 & -1.2 \\\\ 0 & 1 & -1.1 & 0.4}}{$\\Gamma$}\n",
    "\\notation{\\MAT{q_{mt} \\\\ q_{wt} \\\\ p_{mt} \\\\ p_{wt}}}{$Y_t$} =\n",
    "\\notation{\\MAT{200 & 0.5 & -0.2 \\\\ 80 & -0.2 & 0.4 \\\\  100 & 0 & 0 \\\\ 50 & 0 & 0}}{$B$}\n",
    "\\notation{\\MAT{1 \\\\ p_{m,t-1} \\\\ p_{w,t-1}}}{$Y_{t-1}$}  +\n",
    "\\notation{\\MAT{\\epsilon^s_{mt} \\\\ \\epsilon^s_{wt} \\\\ \\epsilon^d_{mt} \\\\ \\epsilon^d_{wt}}}{$\\epsilon_t$}\n",
    "\\end{equation*}\n",
    "\n",
    "\n",
    "Vemos que las ecuaciones de oferta no son simultáneas, pero las de demanda sí lo son.\n",
    "\n",
    "Para ilustrar el sesgo de simultaneidad del estimador OLS, y que el estimador 2SLS sí es insesgado, realizamos experimentos de Monte Carlo.\n",
    "\n",
    "\n",
    "Para ilustrar el procedimiento, simulamos una muestra de 100 observaciones:"
   ]
  },
  {
   "cell_type": "code",
   "execution_count": null,
   "id": "47f4cabb",
   "metadata": {
    "tags": [
     "hide-input"
    ]
   },
   "outputs": [],
   "source": [
    "# Definimos los parámetros del modelo\n",
    "endogenas = ['Q_maiz','Q_trigo','P_maiz','P_trigo']\n",
    "\n",
    "Gamma = np.array([      # RELACIÓN SIMULTANEA\n",
    "    [1, 0,   0,    0],  # oferta maiz\n",
    "    [0, 1,   0,    0],  # oferta trigo\n",
    "    [1, 0, 0.2, -1.2],  # demanda maiz\n",
    "    [0, 1,-1.1, 0.4]])  # demanda trigo\n",
    "\n",
    "cstr = np.array([200,80,100,50])  # interceptos forma estructural\n",
    "\n",
    "Beta = np.array([  # PENDIENTES ESTRUCTURALES\n",
    "    [ 0.5, -0.2],  # oferta maiz\n",
    "    [-0.2,  0.4],  # oferta trigo\n",
    "    [   0,    0],  # demanda maiz\n",
    "    [   0,    0]]) # demanda trigo\n",
    "\n",
    "\n",
    "# A partir de la inversa de Γ, obtenemos los parámetros de la forma reducida\n",
    "Gammainv = np.linalg.inv(Gamma)\n",
    "\n",
    "cred = Gammainv @ cstr # interceptos forma reducida\n",
    "Pi = Gammainv @ Beta   # pendientes forma reducida\n",
    "\n",
    "# Definimos la función *telaraña*, la cual simula $T$ observaciones de los precios y cantidades de trigo, luego de desechar las primeras *drop* observaciones. El resultado se retorna como una tabla de *Pandas*, la cual facilita la creación de gráficos y la estimación econométrica posterior.\n",
    "\n",
    "def telaraña(T, drop=10, estocastico=True):\n",
    "    if estocastico:\n",
    "        e_struc = np.random.randn(T+drop,4)\n",
    "        e_reduc = e_struc @ Gammainv.T\n",
    "    else:\n",
    "        e_reduc = np.zeros((T+drop,4))\n",
    "\n",
    "    y = np.zeros((T+drop,4))\n",
    "    y[0,-2:] = [120, 70]\n",
    "    for t in range(T+drop-1):\n",
    "        y[t+1] = cred + Pi @ y[t,-2:] + e_reduc[t+1]\n",
    "    return pd.DataFrame(y[drop:], columns=endogenas)\n",
    "\n",
    "\n",
    "telaraña(100).plot(subplots=True, layout=[2,2], figsize=[12,6], sharex=True);"
   ]
  },
  {
   "cell_type": "markdown",
   "id": "273917ab",
   "metadata": {},
   "source": [
    "En particular estimamos 1000 veces este modelo a partir de series simuladas de 24 observaciones."
   ]
  },
  {
   "cell_type": "code",
   "execution_count": null,
   "id": "1dfe8730",
   "metadata": {
    "tags": [
     "hide-input"
    ]
   },
   "outputs": [],
   "source": [
    "NSIMUL = 1000\n",
    "\n",
    "def telaraña_con_precios_rezagos(T=24):\n",
    "    datos = telaraña(T)\n",
    "    datos['LP_maiz'] = datos['P_maiz'].shift()   # precio maiz rezagado\n",
    "    datos['LP_trigo'] = datos['P_trigo'].shift() # precio trigo rezagado\n",
    "    return datos\n",
    "\n",
    "np.random.seed(123)\n",
    "DATOS_SIMULADOS = pd.concat(\n",
    "  [telaraña_con_precios_rezagos() for n in range(NSIMUL)],\n",
    "  keys = range(NSIMUL)\n",
    "  )\n",
    "\n",
    "def ols_params(modelo):\n",
    "    return pd.DataFrame(\n",
    "      [ols(modelo, df.loc[_]).fit().params\n",
    "         for _, df in DATOS_SIMULADOS.groupby(level=0)]\n",
    "       )\n",
    "\n",
    "def tsls_params(modelo):\n",
    "    return pd.DataFrame(\n",
    "        [IV2SLS.from_formula(modelo,df.dropna()).fit().params\n",
    "         for i, df in DATOS_SIMULADOS.groupby(level=0)])\n",
    "\n",
    "\n",
    "PARAMETROS_SIMULADOS = {\n",
    " 'ms_ols': ols_params('Q_maiz ~ 1 + LP_maiz + LP_trigo'),\n",
    " 'ws_ols': ols_params('Q_trigo ~ 1 + LP_maiz + LP_trigo'),\n",
    " 'md_ols': ols_params('Q_maiz ~ 1 + P_maiz + P_trigo'),\n",
    " 'wd_ols': ols_params('Q_trigo ~ 1 + P_maiz + P_trigo'),\n",
    " 'md_2sls': tsls_params('Q_maiz ~ 1 + [P_maiz + P_trigo ~ LP_maiz + LP_trigo]'),\n",
    " 'wd_2sls': tsls_params('Q_trigo ~ 1 + [P_maiz + P_trigo ~ LP_maiz + LP_trigo]')\n",
    "}\n",
    "\n",
    "true_params = {\n",
    "    'ms': np.r_[cstr[0],Beta[0]],\n",
    "    'ws': np.r_[cstr[1],Beta[1]],\n",
    "    'md': np.r_[cstr[2], -Gamma[2,-2:]],\n",
    "    'wd': np.r_[cstr[3], -Gamma[3,-2:]]}\n",
    "\n",
    "description = {\n",
    "    'ms': 'Oferta de maíz',\n",
    "    'ws': 'Oferta de trigo',\n",
    "    'md': 'Demanda de maíz',\n",
    "    'wd': 'Demanda de trigo'}\n",
    "\n",
    "def plot_result(caso, remove_outlier=False):\n",
    "    simul = PARAMETROS_SIMULADOS[caso]\n",
    "\n",
    "    # remove outliers\n",
    "    if remove_outlier:\n",
    "        not_outlier = (np.abs(zscore(simul)) < 3).all(axis=1)\n",
    "        print(f'Se detectaron {(~not_outlier).sum()} outliers')\n",
    "        simul = simul[not_outlier]\n",
    "\n",
    "    fig, axs = plt.subplots(1,3,figsize=[12,3])\n",
    "    true_values = true_params[caso[:2]]\n",
    "    for ax, serie, xv in zip(axs, simul, true_values):\n",
    "        simul[serie].hist(bins=20,ax=ax, alpha=0.75)\n",
    "        ax.axvline(x=xv,linewidth=4, color='r')\n",
    "        ax.spines['top'].set_visible(False)\n",
    "        ax.spines['right'].set_visible(False)\n",
    "        ax.spines['left'].set_visible(False)\n",
    "        ax.set(yticks=[], xlabel=serie)\n",
    "        ax.grid(False)\n",
    "    fig.suptitle(description[caso[:2]], size=16)\n",
    "    return pd.DataFrame({'promedio': simul.mean(),\n",
    "                         'verdadero': true_values}).round(3).T"
   ]
  },
  {
   "cell_type": "markdown",
   "id": "611e0fa5",
   "metadata": {},
   "source": [
    "En las figuras que siguen vemos la distribución obtenida para cada parámetro y lo comparamos con el verdadero valor poblacional.\n",
    "\n",
    "\n",
    "Las ecuaciones de oferta no son simultáneas, por lo que pueden ser estimadas por OLS.\n",
    "\n",
    "{badge}`oferta de maiz,badge-primary`"
   ]
  },
  {
   "cell_type": "code",
   "execution_count": null,
   "id": "33307818",
   "metadata": {
    "tags": [
     "hide-input"
    ]
   },
   "outputs": [],
   "source": [
    "plot_result('ms_ols')"
   ]
  },
  {
   "cell_type": "markdown",
   "id": "4c8fc181",
   "metadata": {},
   "source": [
    "{badge}`oferta de trigo, badge-primary`"
   ]
  },
  {
   "cell_type": "code",
   "execution_count": null,
   "id": "3227d404",
   "metadata": {
    "tags": [
     "hide-input"
    ]
   },
   "outputs": [],
   "source": [
    "plot_result('ws_ols')"
   ]
  },
  {
   "cell_type": "markdown",
   "id": "26aa20f7",
   "metadata": {},
   "source": [
    "Las ecuaciones de demanda sí son simultáneas, por lo que la estimación OLS estaría sesgada.\n",
    "\n",
    "{badge}`demanda de maiz,badge-danger`"
   ]
  },
  {
   "cell_type": "code",
   "execution_count": null,
   "id": "3c4bd5eb",
   "metadata": {
    "tags": [
     "hide-input"
    ]
   },
   "outputs": [],
   "source": [
    "plot_result('md_ols')"
   ]
  },
  {
   "cell_type": "markdown",
   "id": "75bac7bb",
   "metadata": {},
   "source": [
    "{badge}`demanda de trigo, badge-danger`"
   ]
  },
  {
   "cell_type": "code",
   "execution_count": null,
   "id": "099cdc01",
   "metadata": {
    "tags": [
     "hide-input"
    ]
   },
   "outputs": [],
   "source": [
    "plot_result('wd_ols')"
   ]
  },
  {
   "cell_type": "markdown",
   "id": "bd7fd527",
   "metadata": {},
   "source": [
    "Por ello, estimamos el sistema por 2SLS:\n",
    "\n",
    "{badge}`demanda de maiz,badge-primary`"
   ]
  },
  {
   "cell_type": "code",
   "execution_count": null,
   "id": "f4a695f9",
   "metadata": {
    "tags": [
     "hide-input"
    ]
   },
   "outputs": [],
   "source": [
    "plot_result('md_2sls', True)"
   ]
  },
  {
   "cell_type": "markdown",
   "id": "477066e9",
   "metadata": {},
   "source": [
    "{badge}`demanda de trigo, badge-primary`"
   ]
  },
  {
   "cell_type": "code",
   "execution_count": null,
   "id": "64e97fda",
   "metadata": {
    "tags": [
     "hide-input"
    ]
   },
   "outputs": [],
   "source": [
    "plot_result('wd_2sls', True)"
   ]
  },
  {
   "cell_type": "markdown",
   "id": "2c8fc133",
   "metadata": {},
   "source": [
    "{{ termina_ejemplo }}"
   ]
  }
 ],
 "metadata": {
  "jupytext": {
   "formats": "md:myst",
   "text_representation": {
    "extension": ".md",
    "format_name": "myst"
   }
  },
  "kernelspec": {
   "display_name": "Python 3",
   "language": "python",
   "name": "python3"
  },
  "source_map": [
   30,
   36,
   46,
   224,
   245,
   249,
   262,
   266,
   288,
   293,
   309,
   323,
   326,
   329,
   332,
   335,
   338,
   375,
   419,
   424,
   495,
   503,
   506,
   509,
   512,
   518,
   521,
   524,
   527,
   533,
   536,
   539,
   542
  ],
  "substitutions": {
   "empieza_ejemplo": "<div class=\"ejemplo\">\n<div class=\"ejemplo-titulo\"><b>Ejemplo: &nbsp;\n",
   "empieza_test": "<div class=\"test\">\n<div class=\"test-titulo\">\n",
   "fin_titulo_ejemplo": "</b></div>",
   "fin_titulo_test": "</div>",
   "termina_ejemplo": "</div>",
   "termina_test": "</div>",
   "test_estadistico": "<br><hr><i class=\"fas fa-calculator test-simbolo\"></i>\n",
   "test_hipotesis": "<br><hr><i class=\"fas fa-heading test-simbolo\"></i>\n",
   "test_inquietud": "<i class=\"fas fa-question test-simbolo\"></i>\n",
   "test_interpretacion": "<br><hr><i class=\"far fa-lightbulb test-simbolo\"></i>"
  }
 },
 "nbformat": 4,
 "nbformat_minor": 5
}