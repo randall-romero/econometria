{
 "cells": [
  {
   "cell_type": "code",
   "execution_count": 1,
   "id": "2d91c43f",
   "metadata": {},
   "outputs": [
    {
     "data": {
      "text/latex": [
       "$\\displaystyle 2.0 \\cdot 0.4^{t} + 1.0 \\cdot 0.5^{t} + 10.0$"
      ],
      "text/plain": [
       "2.0*0.4**t + 1.0*0.5**t + 10.0"
      ]
     },
     "execution_count": 1,
     "metadata": {},
     "output_type": "execute_result"
    }
   ],
   "source": [
    "from sympy import Function, rsolve\n",
    "from sympy.abc import t\n",
    "\n",
    "y = Function('y')\n",
    "rsolve(y(t) - 0.9*y(t-1) + 0.2*y(t-2) - 3, y(t), {y(0):13, y(1): 11.3})"
   ]
  }
 ],
 "metadata": {
  "jupytext": {
   "formats": "md:myst",
   "text_representation": {
    "extension": ".md",
    "format_name": "myst"
   }
  },
  "kernelspec": {
   "display_name": "Python 3",
   "language": "python",
   "name": "python3"
  },
  "language_info": {
   "codemirror_mode": {
    "name": "ipython",
    "version": 3
   },
   "file_extension": ".py",
   "mimetype": "text/x-python",
   "name": "python",
   "nbconvert_exporter": "python",
   "pygments_lexer": "ipython3",
   "version": "3.9.7"
  },
  "source_map": [
   17,
   188,
   194
  ],
  "substitutions": {
   "empieza_ejemplo": "<div class=\"ejemplo\">\n<div class=\"ejemplo-titulo\"><b>Ejemplo: &nbsp;\n",
   "fin_titulo_ejemplo": "</b></div>",
   "termina_ejemplo": "</div>"
  }
 },
 "nbformat": 4,
 "nbformat_minor": 5
}