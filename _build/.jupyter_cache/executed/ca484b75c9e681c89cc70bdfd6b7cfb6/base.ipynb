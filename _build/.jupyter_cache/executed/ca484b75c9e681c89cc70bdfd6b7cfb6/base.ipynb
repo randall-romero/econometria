{
 "cells": [],
 "metadata": {
  "jupytext": {
   "formats": "md:myst",
   "text_representation": {
    "extension": ".md",
    "format_name": "myst"
   }
  },
  "kernelspec": {
   "display_name": "Python 3",
   "language": "python",
   "name": "python3"
  },
  "language_info": {
   "codemirror_mode": {
    "name": "ipython",
    "version": 3
   },
   "file_extension": ".py",
   "mimetype": "text/x-python",
   "name": "python",
   "nbconvert_exporter": "python",
   "pygments_lexer": "ipython3",
   "version": "3.8.8"
  },
  "source_map": [
   30
  ],
  "substitutions": {
   "empieza_ejemplo": "<div class=\"ejemplo\">\n<div class=\"ejemplo-titulo\"><b>Ejemplo: &nbsp;\n",
   "empieza_test": "<div class=\"test\">\n<div class=\"test-titulo\">\n",
   "fin_titulo_ejemplo": "</b></div>",
   "fin_titulo_test": "</div>",
   "termina_ejemplo": "</div>",
   "termina_test": "</div>",
   "test_estadistico": "<br><hr><i class=\"fas fa-calculator test-simbolo\"></i>\n",
   "test_hipotesis": "<br><hr><i class=\"fas fa-heading test-simbolo\"></i>\n",
   "test_inquietud": "<i class=\"fas fa-question test-simbolo\"></i>\n",
   "test_interpretacion": "<br><hr><i class=\"far fa-lightbulb test-simbolo\"></i>"
  }
 },
 "nbformat": 4,
 "nbformat_minor": 5
}