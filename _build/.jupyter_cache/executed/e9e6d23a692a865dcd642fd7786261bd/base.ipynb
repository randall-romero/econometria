{
 "cells": [
  {
   "cell_type": "code",
   "execution_count": 1,
   "id": "genuine-implementation",
   "metadata": {
    "tags": [
     "hide-input"
    ]
   },
   "outputs": [],
   "source": [
    "import numpy as np\n",
    "import pandas as pd\n",
    "import matplotlib.pyplot as plt\n",
    "plt.style.use('seaborn-talk')\n",
    "\n",
    "\n",
    "from statsmodels.graphics.tsaplots import plot_acf, plot_pacf\n",
    "from statsmodels.tsa.statespace.sarimax import SARIMAX"
   ]
  },
  {
   "cell_type": "code",
   "execution_count": 2,
   "id": "sonic-publication",
   "metadata": {
    "tags": [
     "hide-input"
    ]
   },
   "outputs": [
    {
     "data": {
      "text/html": [
       "<div>\n",
       "<style scoped>\n",
       "    .dataframe tbody tr th:only-of-type {\n",
       "        vertical-align: middle;\n",
       "    }\n",
       "\n",
       "    .dataframe tbody tr th {\n",
       "        vertical-align: top;\n",
       "    }\n",
       "\n",
       "    .dataframe thead th {\n",
       "        text-align: right;\n",
       "    }\n",
       "</style>\n",
       "<table border=\"1\" class=\"dataframe\">\n",
       "  <thead>\n",
       "    <tr style=\"text-align: right;\">\n",
       "      <th></th>\n",
       "      <th>1</th>\n",
       "      <th>2</th>\n",
       "      <th>3</th>\n",
       "      <th>4</th>\n",
       "      <th>5</th>\n",
       "      <th>6</th>\n",
       "      <th>7</th>\n",
       "      <th>8</th>\n",
       "      <th>9</th>\n",
       "      <th>10</th>\n",
       "      <th>11</th>\n",
       "      <th>12</th>\n",
       "    </tr>\n",
       "  </thead>\n",
       "  <tbody>\n",
       "    <tr>\n",
       "      <th>2011</th>\n",
       "      <td>116.3</td>\n",
       "      <td>105.4</td>\n",
       "      <td>128.9</td>\n",
       "      <td>103.1</td>\n",
       "      <td>82.7</td>\n",
       "      <td>88.0</td>\n",
       "      <td>103.3</td>\n",
       "      <td>102.9</td>\n",
       "      <td>64.6</td>\n",
       "      <td>62.6</td>\n",
       "      <td>77.5</td>\n",
       "      <td>90.3</td>\n",
       "    </tr>\n",
       "    <tr>\n",
       "      <th>2012</th>\n",
       "      <td>115.8</td>\n",
       "      <td>108.1</td>\n",
       "      <td>130.9</td>\n",
       "      <td>106.0</td>\n",
       "      <td>82.2</td>\n",
       "      <td>89.1</td>\n",
       "      <td>105.9</td>\n",
       "      <td>105.7</td>\n",
       "      <td>67.8</td>\n",
       "      <td>60.4</td>\n",
       "      <td>79.3</td>\n",
       "      <td>92.4</td>\n",
       "    </tr>\n",
       "    <tr>\n",
       "      <th>2013</th>\n",
       "      <td>122.9</td>\n",
       "      <td>109.6</td>\n",
       "      <td>133.0</td>\n",
       "      <td>108.5</td>\n",
       "      <td>85.3</td>\n",
       "      <td>95.0</td>\n",
       "      <td>110.3</td>\n",
       "      <td>112.8</td>\n",
       "      <td>70.0</td>\n",
       "      <td>67.3</td>\n",
       "      <td>83.5</td>\n",
       "      <td>107.7</td>\n",
       "    </tr>\n",
       "    <tr>\n",
       "      <th>2014</th>\n",
       "      <td>132.3</td>\n",
       "      <td>120.9</td>\n",
       "      <td>146.3</td>\n",
       "      <td>111.9</td>\n",
       "      <td>93.1</td>\n",
       "      <td>96.4</td>\n",
       "      <td>111.4</td>\n",
       "      <td>116.8</td>\n",
       "      <td>71.7</td>\n",
       "      <td>67.3</td>\n",
       "      <td>85.3</td>\n",
       "      <td>104.9</td>\n",
       "    </tr>\n",
       "    <tr>\n",
       "      <th>2015</th>\n",
       "      <td>137.2</td>\n",
       "      <td>122.7</td>\n",
       "      <td>143.8</td>\n",
       "      <td>122.8</td>\n",
       "      <td>96.5</td>\n",
       "      <td>105.1</td>\n",
       "      <td>121.5</td>\n",
       "      <td>129.9</td>\n",
       "      <td>79.6</td>\n",
       "      <td>76.4</td>\n",
       "      <td>100.5</td>\n",
       "      <td>122.6</td>\n",
       "    </tr>\n",
       "    <tr>\n",
       "      <th>2016</th>\n",
       "      <td>149.2</td>\n",
       "      <td>141.8</td>\n",
       "      <td>161.3</td>\n",
       "      <td>132.0</td>\n",
       "      <td>108.1</td>\n",
       "      <td>113.3</td>\n",
       "      <td>134.6</td>\n",
       "      <td>138.7</td>\n",
       "      <td>84.5</td>\n",
       "      <td>83.2</td>\n",
       "      <td>102.4</td>\n",
       "      <td>124.2</td>\n",
       "    </tr>\n",
       "    <tr>\n",
       "      <th>2017</th>\n",
       "      <td>153.6</td>\n",
       "      <td>145.1</td>\n",
       "      <td>179.0</td>\n",
       "      <td>148.7</td>\n",
       "      <td>119.4</td>\n",
       "      <td>126.8</td>\n",
       "      <td>141.0</td>\n",
       "      <td>142.8</td>\n",
       "      <td>97.9</td>\n",
       "      <td>90.2</td>\n",
       "      <td>117.1</td>\n",
       "      <td>135.0</td>\n",
       "    </tr>\n",
       "    <tr>\n",
       "      <th>2018</th>\n",
       "      <td>165.7</td>\n",
       "      <td>161.1</td>\n",
       "      <td>189.4</td>\n",
       "      <td>161.3</td>\n",
       "      <td>127.4</td>\n",
       "      <td>134.1</td>\n",
       "      <td>148.9</td>\n",
       "      <td>156.0</td>\n",
       "      <td>100.3</td>\n",
       "      <td>93.9</td>\n",
       "      <td>120.4</td>\n",
       "      <td>140.7</td>\n",
       "    </tr>\n",
       "    <tr>\n",
       "      <th>2019</th>\n",
       "      <td>185.3</td>\n",
       "      <td>170.4</td>\n",
       "      <td>206.7</td>\n",
       "      <td>157.0</td>\n",
       "      <td>128.2</td>\n",
       "      <td>137.0</td>\n",
       "      <td>151.4</td>\n",
       "      <td>156.4</td>\n",
       "      <td>101.2</td>\n",
       "      <td>102.0</td>\n",
       "      <td>122.1</td>\n",
       "      <td>153.3</td>\n",
       "    </tr>\n",
       "  </tbody>\n",
       "</table>\n",
       "</div>"
      ],
      "text/plain": [
       "         1      2      3      4      5      6      7      8      9      10  \\\n",
       "2011  116.3  105.4  128.9  103.1   82.7   88.0  103.3  102.9   64.6   62.6   \n",
       "2012  115.8  108.1  130.9  106.0   82.2   89.1  105.9  105.7   67.8   60.4   \n",
       "2013  122.9  109.6  133.0  108.5   85.3   95.0  110.3  112.8   70.0   67.3   \n",
       "2014  132.3  120.9  146.3  111.9   93.1   96.4  111.4  116.8   71.7   67.3   \n",
       "2015  137.2  122.7  143.8  122.8   96.5  105.1  121.5  129.9   79.6   76.4   \n",
       "2016  149.2  141.8  161.3  132.0  108.1  113.3  134.6  138.7   84.5   83.2   \n",
       "2017  153.6  145.1  179.0  148.7  119.4  126.8  141.0  142.8   97.9   90.2   \n",
       "2018  165.7  161.1  189.4  161.3  127.4  134.1  148.9  156.0  100.3   93.9   \n",
       "2019  185.3  170.4  206.7  157.0  128.2  137.0  151.4  156.4  101.2  102.0   \n",
       "\n",
       "         11     12  \n",
       "2011   77.5   90.3  \n",
       "2012   79.3   92.4  \n",
       "2013   83.5  107.7  \n",
       "2014   85.3  104.9  \n",
       "2015  100.5  122.6  \n",
       "2016  102.4  124.2  \n",
       "2017  117.1  135.0  \n",
       "2018  120.4  140.7  \n",
       "2019  122.1  153.3  "
      ]
     },
     "execution_count": 2,
     "metadata": {},
     "output_type": "execute_result"
    }
   ],
   "source": [
    "# read data from previous example\n",
    "\n",
    "sjodatos =pd.read_pickle(\"datos/SJO-pasajeros.pickle\")\n",
    "sjodatoscuadro = sjodatos.unstack()\n",
    "sjodatoscuadro['extranjeros'].round(1)"
   ]
  },
  {
   "cell_type": "code",
   "execution_count": 3,
   "id": "dynamic-picture",
   "metadata": {
    "tags": [
     "hide-input"
    ]
   },
   "outputs": [
    {
     "data": {
      "image/png": "[encoded data removed]",
      "text/plain": [
       "<Figure size 864x360 with 4 Axes>"
      ]
     },
     "metadata": {
      "needs_background": "light"
     },
     "output_type": "display_data"
    }
   ],
   "source": [
    "def correlogramas4(serie, residencia, func):\n",
    "    fig, axs= plt.subplots(2,2, figsize=[12,5], sharex=True, sharey=True)\n",
    "    opts = dict(lags=24)\n",
    "    if func is plot_pacf:\n",
    "        opts['method'] = 'ols'\n",
    "\n",
    "    func(serie, **opts,ax=axs[0,0], title='$y_t$');\n",
    "    func(serie.diff(1).dropna(), **opts, ax=axs[0,1],title='$\\Delta y_t$');\n",
    "    func(serie.diff(12).dropna(), **opts, ax=axs[1,0],title='$\\Delta_{12}y_t$');\n",
    "    func(serie.diff(1).diff(12).dropna(), **opts, ax=axs[1,1],title='$\\Delta\\Delta_{12}y_t$');\n",
    "\n",
    "    for ax in axs.flat:\n",
    "        ax.set(xlim=[-0.5,24.5], xticks=np.arange(0,25,6))\n",
    "\n",
    "    pp = 'parcial' if (func is plot_pacf) else ''\n",
    "    fig.suptitle(f'Correlogramas {pp} de cantidad de pasajeros {residencia} en SJO', size=18)\n",
    "    return fig\n",
    "\n",
    "extranjeros = pd.DataFrame(np.log(sjodatos['extranjeros'].values), index=pd.period_range('2011-01', '2019-12', freq='M'))\n",
    "correlogramas4(extranjeros, 'extranjeros', plot_acf);"
   ]
  },
  {
   "cell_type": "code",
   "execution_count": 4,
   "id": "respiratory-glossary",
   "metadata": {
    "tags": [
     "hide-input"
    ]
   },
   "outputs": [
    {
     "data": {
      "text/html": [
       "<table class=\"simpletable\">\n",
       "<caption>SARIMAX Results</caption>\n",
       "<tr>\n",
       "  <th>Dep. Variable:</th>                  <td>0</td>               <th>  No. Observations:  </th>    <td>108</td>  \n",
       "</tr>\n",
       "<tr>\n",
       "  <th>Model:</th>           <td>SARIMAX(0, 1, 1)x(0, 1, 1, 12)</td> <th>  Log Likelihood     </th>  <td>194.101</td>\n",
       "</tr>\n",
       "<tr>\n",
       "  <th>Date:</th>                   <td>Tue, 23 Mar 2021</td>        <th>  AIC                </th> <td>-382.202</td>\n",
       "</tr>\n",
       "<tr>\n",
       "  <th>Time:</th>                       <td>16:09:06</td>            <th>  BIC                </th> <td>-374.540</td>\n",
       "</tr>\n",
       "<tr>\n",
       "  <th>Sample:</th>                    <td>01-31-2011</td>           <th>  HQIC               </th> <td>-379.106</td>\n",
       "</tr>\n",
       "<tr>\n",
       "  <th></th>                          <td>- 12-31-2019</td>          <th>                     </th>     <td> </td>   \n",
       "</tr>\n",
       "<tr>\n",
       "  <th>Covariance Type:</th>               <td>opg</td>              <th>                     </th>     <td> </td>   \n",
       "</tr>\n",
       "</table>\n",
       "<table class=\"simpletable\">\n",
       "<tr>\n",
       "      <td></td>        <th>coef</th>     <th>std err</th>      <th>z</th>      <th>P>|z|</th>  <th>[0.025</th>    <th>0.975]</th>  \n",
       "</tr>\n",
       "<tr>\n",
       "  <th>ma.L1</th>    <td>   -0.6109</td> <td>    0.087</td> <td>   -7.024</td> <td> 0.000</td> <td>   -0.781</td> <td>   -0.440</td>\n",
       "</tr>\n",
       "<tr>\n",
       "  <th>ma.S.L12</th> <td>   -0.7632</td> <td>    0.117</td> <td>   -6.520</td> <td> 0.000</td> <td>   -0.993</td> <td>   -0.534</td>\n",
       "</tr>\n",
       "<tr>\n",
       "  <th>sigma2</th>   <td>    0.0009</td> <td>    0.000</td> <td>    6.349</td> <td> 0.000</td> <td>    0.001</td> <td>    0.001</td>\n",
       "</tr>\n",
       "</table>\n",
       "<table class=\"simpletable\">\n",
       "<tr>\n",
       "  <th>Ljung-Box (L1) (Q):</th>     <td>0.05</td> <th>  Jarque-Bera (JB):  </th> <td>0.23</td>\n",
       "</tr>\n",
       "<tr>\n",
       "  <th>Prob(Q):</th>                <td>0.83</td> <th>  Prob(JB):          </th> <td>0.89</td>\n",
       "</tr>\n",
       "<tr>\n",
       "  <th>Heteroskedasticity (H):</th> <td>1.56</td> <th>  Skew:              </th> <td>0.09</td>\n",
       "</tr>\n",
       "<tr>\n",
       "  <th>Prob(H) (two-sided):</th>    <td>0.21</td> <th>  Kurtosis:          </th> <td>3.16</td>\n",
       "</tr>\n",
       "</table><br/><br/>Warnings:<br/>[1] Covariance matrix calculated using the outer product of gradients (complex-step)."
      ],
      "text/plain": [
       "<class 'statsmodels.iolib.summary.Summary'>\n",
       "\"\"\"\n",
       "                                     SARIMAX Results                                      \n",
       "==========================================================================================\n",
       "Dep. Variable:                                  0   No. Observations:                  108\n",
       "Model:             SARIMAX(0, 1, 1)x(0, 1, 1, 12)   Log Likelihood                 194.101\n",
       "Date:                            Tue, 23 Mar 2021   AIC                           -382.202\n",
       "Time:                                    16:09:06   BIC                           -374.540\n",
       "Sample:                                01-31-2011   HQIC                          -379.106\n",
       "                                     - 12-31-2019                                         \n",
       "Covariance Type:                              opg                                         \n",
       "==============================================================================\n",
       "                 coef    std err          z      P>|z|      [0.025      0.975]\n",
       "------------------------------------------------------------------------------\n",
       "ma.L1         -0.6109      0.087     -7.024      0.000      -0.781      -0.440\n",
       "ma.S.L12      -0.7632      0.117     -6.520      0.000      -0.993      -0.534\n",
       "sigma2         0.0009      0.000      6.349      0.000       0.001       0.001\n",
       "===================================================================================\n",
       "Ljung-Box (L1) (Q):                   0.05   Jarque-Bera (JB):                 0.23\n",
       "Prob(Q):                              0.83   Prob(JB):                         0.89\n",
       "Heteroskedasticity (H):               1.56   Skew:                             0.09\n",
       "Prob(H) (two-sided):                  0.21   Kurtosis:                         3.16\n",
       "===================================================================================\n",
       "\n",
       "Warnings:\n",
       "[1] Covariance matrix calculated using the outer product of gradients (complex-step).\n",
       "\"\"\""
      ]
     },
     "execution_count": 4,
     "metadata": {},
     "output_type": "execute_result"
    }
   ],
   "source": [
    "mod_extranjeros = SARIMAX(extranjeros, order=(0,1,1), seasonal_order=(0,1,1,12)).fit()\n",
    "mod_extranjeros.summary()"
   ]
  },
  {
   "cell_type": "code",
   "execution_count": 5,
   "id": "racial-dining",
   "metadata": {
    "tags": [
     "hide-input"
    ]
   },
   "outputs": [
    {
     "data": {
      "image/png": "[encoded data removed]",
      "text/plain": [
       "<Figure size 648x288 with 1 Axes>"
      ]
     },
     "metadata": {
      "needs_background": "light"
     },
     "output_type": "display_data"
    }
   ],
   "source": [
    "def plot_forecast(modelo, serie, residencia, ax):\n",
    "    fcast = modelo.get_forecast('2020-12')\n",
    "    ci = np.exp(fcast.conf_int())\n",
    "    np.exp(fcast.predicted_mean).plot(ax=ax)\n",
    "    ax.fill_between(ci.index,'lower y', 'upper y', data=ci, alpha=0.5)    \n",
    "    np.exp(serie).plot(ax=ax, legend=False)\n",
    "    ax.set(title=f'Pronóstico de pasajeros {residencia} en aeropuerto SJO')\n",
    "    return ax\n",
    "\n",
    "fig, ax = plt.subplots(1,1, figsize=[9,4])\n",
    "plot_forecast(mod_extranjeros, extranjeros['2015':], 'extranjeros', ax)\n",
    "ax.set(ylabel='miles de pasajeros');"
   ]
  }
 ],
 "metadata": {
  "jupytext": {
   "formats": "md:myst",
   "text_representation": {
    "extension": ".md",
    "format_name": "myst"
   }
  },
  "kernelspec": {
   "display_name": "Python 3",
   "language": "python",
   "name": "python3"
  },
  "language_info": {
   "codemirror_mode": {
    "name": "ipython",
    "version": 3
   },
   "file_extension": ".py",
   "mimetype": "text/x-python",
   "name": "python",
   "nbconvert_exporter": "python",
   "pygments_lexer": "ipython3",
   "version": "3.8.8"
  },
  "source_map": [
   17,
   23,
   33,
   49,
   56,
   196,
   219,
   224,
   228,
   254,
   268
  ],
  "substitutions": {
   "empieza_ejemplo": "<div class=\"ejemplo\">\n<div class=\"ejemplo-titulo\"><b>Ejemplo: &nbsp;\n",
   "fin_titulo_ejemplo": "</b></div>",
   "termina_ejemplo": "</div>"
  }
 },
 "nbformat": 4,
 "nbformat_minor": 5
}