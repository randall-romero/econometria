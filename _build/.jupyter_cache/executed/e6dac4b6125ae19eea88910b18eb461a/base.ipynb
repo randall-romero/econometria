{
 "cells": [
  {
   "cell_type": "code",
   "execution_count": 1,
   "id": "attended-karen",
   "metadata": {
    "tags": [
     "hide-input"
    ]
   },
   "outputs": [],
   "source": [
    "import pandas as pd\n",
    "import numpy as np\n",
    "from statsmodels.formula.api import ols\n",
    "pd.options.plotting.backend = \"plotly\""
   ]
  },
  {
   "cell_type": "code",
   "execution_count": 2,
   "id": "numerous-imaging",
   "metadata": {
    "tags": [
     "hide-input"
    ]
   },
   "outputs": [
    {
     "data": {
      "text/html": [
       "<div>\n",
       "<style scoped>\n",
       "    .dataframe tbody tr th:only-of-type {\n",
       "        vertical-align: middle;\n",
       "    }\n",
       "\n",
       "    .dataframe tbody tr th {\n",
       "        vertical-align: top;\n",
       "    }\n",
       "\n",
       "    .dataframe thead th {\n",
       "        text-align: right;\n",
       "    }\n",
       "</style>\n",
       "<table border=\"1\" class=\"dataframe\">\n",
       "  <thead>\n",
       "    <tr style=\"text-align: right;\">\n",
       "      <th></th>\n",
       "      <th>$\\hat{T}_B$</th>\n",
       "      <th>$\\alpha_1$</th>\n",
       "      <th>$t$</th>\n",
       "    </tr>\n",
       "  </thead>\n",
       "  <tbody>\n",
       "    <tr>\n",
       "      <th>Real GNP</th>\n",
       "      <td>1929</td>\n",
       "      <td>0.267</td>\n",
       "      <td>-5.58</td>\n",
       "    </tr>\n",
       "    <tr>\n",
       "      <th>Nominal GNP</th>\n",
       "      <td>1929</td>\n",
       "      <td>0.532</td>\n",
       "      <td>-5.82</td>\n",
       "    </tr>\n",
       "    <tr>\n",
       "      <th>Real per capita GNP</th>\n",
       "      <td>1929</td>\n",
       "      <td>0.494</td>\n",
       "      <td>-4.61</td>\n",
       "    </tr>\n",
       "    <tr>\n",
       "      <th>Industrial production</th>\n",
       "      <td>1929</td>\n",
       "      <td>0.290</td>\n",
       "      <td>-5.95</td>\n",
       "    </tr>\n",
       "    <tr>\n",
       "      <th>Employment</th>\n",
       "      <td>1929</td>\n",
       "      <td>0.651</td>\n",
       "      <td>-4.95</td>\n",
       "    </tr>\n",
       "    <tr>\n",
       "      <th>GNP deflator</th>\n",
       "      <td>1929</td>\n",
       "      <td>0.786</td>\n",
       "      <td>-4.12</td>\n",
       "    </tr>\n",
       "    <tr>\n",
       "      <th>Consumer prices</th>\n",
       "      <td>1873</td>\n",
       "      <td>0.941</td>\n",
       "      <td>-2.76</td>\n",
       "    </tr>\n",
       "    <tr>\n",
       "      <th>Wages</th>\n",
       "      <td>1929</td>\n",
       "      <td>0.660</td>\n",
       "      <td>-5.30</td>\n",
       "    </tr>\n",
       "    <tr>\n",
       "      <th>Money stock</th>\n",
       "      <td>1929</td>\n",
       "      <td>0.823</td>\n",
       "      <td>-4.34</td>\n",
       "    </tr>\n",
       "  </tbody>\n",
       "</table>\n",
       "</div>"
      ],
      "text/plain": [
       "                       $\\hat{T}_B$  $\\alpha_1$   $t$\n",
       "Real GNP                      1929       0.267 -5.58\n",
       "Nominal GNP                   1929       0.532 -5.82\n",
       "Real per capita GNP           1929       0.494 -4.61\n",
       "Industrial production         1929       0.290 -5.95\n",
       "Employment                    1929       0.651 -4.95\n",
       "GNP deflator                  1929       0.786 -4.12\n",
       "Consumer prices               1873       0.941 -2.76\n",
       "Wages                         1929       0.660 -5.30\n",
       "Money stock                   1929       0.823 -4.34"
      ]
     },
     "execution_count": 2,
     "metadata": {},
     "output_type": "execute_result"
    }
   ],
   "source": [
    "NP = pd.read_stata('datos/NelsonPlosserData.dta', index_col='year')\n",
    "NP.index = NP.index.year\n",
    "\n",
    "def ZivotAndrewsA(serie, k=8):\n",
    "    dta = NP[[serie]].dropna()\n",
    "    dta.rename(columns={serie:'y'}, inplace=True)\n",
    "    dta['t'] = np.arange(dta.shape[0])\n",
    "    dta['Ly'] = dta['y'].shift(1)\n",
    "    dta['Dy'] = dta['y'].diff(1)\n",
    "    for j in range(1, k+1):\n",
    "        dta[f'D{j}y'] = dta['Dy'].shift(j)    \n",
    "\n",
    "    lags = '+'.join(dta.columns[-k:])\n",
    "\n",
    "    alpha1values = pd.Series(0.0, index=dta.index[12:-12])\n",
    "\n",
    "    for tau in alpha1values.index:\n",
    "        dta['DL'] = (dta.index>tau).astype(int)\n",
    "        modelo = ols('y ~ Ly + t + DL + ' + lags, dta).fit()\n",
    "        alpha1values[tau] = ((modelo.params - 1)/modelo.bse)['Ly']\n",
    "\n",
    "    tauhat, tval = alpha1values.idxmin(), alpha1values.min()\n",
    "    dta['DL'] = (dta.index>tauhat).astype(int)\n",
    "    modelo = ols('y ~ Ly + t + DL + ' + lags, dta).fit()\n",
    "\n",
    "    return {r'$\\hat{T}_B$':tauhat, r'$\\alpha_1$': np.round(modelo.params['Ly'],3), r'$t$': np.round(tval,2)}\n",
    "\n",
    "\n",
    "\n",
    "seriesA = ['lrgnp', 'lgnp', 'lpcrgnp', 'lip', 'lemp', 'lprgnp', 'lcpi', 'lwg', 'lm']\n",
    "lags = [8,8,7,8,7,5,2,7,6]\n",
    "variables = {'lrgnp':'Real GNP',\n",
    "           'lgnp':'Nominal GNP',\n",
    "           'lpcrgnp':'Real per capita GNP',\n",
    "           'lip':'Industrial production',\n",
    "           'lemp':'Employment',\n",
    "           'lun':'Unemployment rate',\n",
    "           'lprgnp':'GNP deflator',\n",
    "           'lcpi':'Consumer prices',\n",
    "           'lwg':'Wages',\n",
    "           'lrwg':'Real wages',\n",
    "           'lm':'Money stock',\n",
    "           'lvel':'Velocity',\n",
    "           'bnd':'Bond yield',\n",
    "           'lsp500':'Common stock prices'}\n",
    "\n",
    "\n",
    "temp = pd.DataFrame([ZivotAndrewsA(ser, k) for ser, k in zip(seriesA, lags)], index=seriesA)\n",
    "temp.rename(index=variables)"
   ]
  }
 ],
 "metadata": {
  "jupytext": {
   "formats": "md:myst",
   "text_representation": {
    "extension": ".md",
    "format_name": "myst"
   }
  },
  "kernelspec": {
   "display_name": "Python 3",
   "language": "python",
   "name": "python3"
  },
  "language_info": {
   "codemirror_mode": {
    "name": "ipython",
    "version": 3
   },
   "file_extension": ".py",
   "mimetype": "text/x-python",
   "name": "python",
   "nbconvert_exporter": "python",
   "pygments_lexer": "ipython3",
   "version": "3.8.8"
  },
  "source_map": [
   30,
   38,
   44,
   139,
   190
  ],
  "substitutions": {
   "empieza_ejemplo": "<div class=\"ejemplo\">\n<div class=\"ejemplo-titulo\"><b>Ejemplo: &nbsp;\n",
   "empieza_test": "<div class=\"test\">\n<div class=\"test-titulo\">\n",
   "fin_titulo_ejemplo": "</b></div>",
   "fin_titulo_test": "</div>",
   "termina_ejemplo": "</div>",
   "termina_test": "</div>",
   "test_estadistico": "<br><hr><i class=\"fas fa-calculator test-simbolo\"></i>\n",
   "test_hipotesis": "<br><hr><i class=\"fas fa-heading test-simbolo\"></i>\n",
   "test_inquietud": "<i class=\"fas fa-question test-simbolo\"></i>\n",
   "test_interpretacion": "<br><hr><i class=\"far fa-lightbulb test-simbolo\"></i>"
  }
 },
 "nbformat": 4,
 "nbformat_minor": 5
}