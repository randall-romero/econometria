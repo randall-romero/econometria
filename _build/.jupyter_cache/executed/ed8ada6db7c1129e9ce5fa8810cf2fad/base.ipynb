{
 "cells": [
  {
   "cell_type": "code",
   "execution_count": 1,
   "id": "infinite-murray",
   "metadata": {},
   "outputs": [
    {
     "name": "stdout",
     "output_type": "stream",
     "text": [
      "m es impar\n"
     ]
    }
   ],
   "source": [
    "m = 7\n",
    "if m % 2 == 0:\n",
    "    print('m es par')\n",
    "else:\n",
    "    print('m es impar')"
   ]
  },
  {
   "cell_type": "code",
   "execution_count": 2,
   "id": "medical-tunnel",
   "metadata": {},
   "outputs": [
    {
     "name": "stdout",
     "output_type": "stream",
     "text": [
      "m is not divisible by 5\n"
     ]
    }
   ],
   "source": [
    "if m % 5:\n",
    "    print('m is not divisible by 5')\n",
    "else:\n",
    "    print('m is divisible by 5')"
   ]
  },
  {
   "cell_type": "code",
   "execution_count": 3,
   "id": "conventional-python",
   "metadata": {},
   "outputs": [
    {
     "data": {
      "text/plain": [
       "'a.m.'"
      ]
     },
     "execution_count": 3,
     "metadata": {},
     "output_type": "execute_result"
    }
   ],
   "source": [
    "horas = 10\n",
    "\n",
    "if horas < 12:\n",
    "    ampm = 'a.m.'\n",
    "else:\n",
    "    ampm = 'p.m.'\n",
    "\n",
    "ampm"
   ]
  },
  {
   "cell_type": "code",
   "execution_count": 4,
   "id": "religious-baptist",
   "metadata": {},
   "outputs": [
    {
     "data": {
      "text/plain": [
       "'a.m.'"
      ]
     },
     "execution_count": 4,
     "metadata": {},
     "output_type": "execute_result"
    }
   ],
   "source": [
    "ampm1 = 'a.m.' if horas < 12 else 'p.m.'\n",
    "ampm1"
   ]
  },
  {
   "cell_type": "code",
   "execution_count": 5,
   "id": "detected-concrete",
   "metadata": {},
   "outputs": [
    {
     "data": {
      "text/plain": [
       "'n is odd'"
      ]
     },
     "execution_count": 5,
     "metadata": {},
     "output_type": "execute_result"
    }
   ],
   "source": [
    "n = 17\n",
    "z = \"n is odd\" if n % 2 else \"n is even\"\n",
    "\n",
    "z"
   ]
  },
  {
   "cell_type": "code",
   "execution_count": 6,
   "id": "touched-stations",
   "metadata": {},
   "outputs": [
    {
     "name": "stdout",
     "output_type": "stream",
     "text": [
      "1, 1, 2, 3, 5, 8, 13, 21, 34, 55, 89, "
     ]
    }
   ],
   "source": [
    "a, b = 0, 1\n",
    "\n",
    "while b < 100:\n",
    "    print(b, end=', ')\n",
    "    a, b = b, a + b"
   ]
  },
  {
   "cell_type": "code",
   "execution_count": 7,
   "id": "graphic-equipment",
   "metadata": {},
   "outputs": [
    {
     "data": {
      "text/plain": [
       "[1, 1, 2, 3, 5, 8, 13, 21, 34, 55, 89]"
      ]
     },
     "execution_count": 7,
     "metadata": {},
     "output_type": "execute_result"
    }
   ],
   "source": [
    "fib = [1, 1]\n",
    "\n",
    "while fib[-1]<100:\n",
    "    fib.append(fib[-2] + fib[-1])\n",
    "else:\n",
    "    fib.pop()\n",
    "\n",
    "\n",
    "fib"
   ]
  },
  {
   "cell_type": "code",
   "execution_count": 8,
   "id": "medieval-saturn",
   "metadata": {},
   "outputs": [
    {
     "data": {
      "text/plain": [
       "range(0, 6)"
      ]
     },
     "execution_count": 8,
     "metadata": {},
     "output_type": "execute_result"
    }
   ],
   "source": [
    "range(6)"
   ]
  },
  {
   "cell_type": "code",
   "execution_count": 9,
   "id": "present-illness",
   "metadata": {},
   "outputs": [
    {
     "data": {
      "text/plain": [
       "[0, 1, 2, 3, 4, 5]"
      ]
     },
     "execution_count": 9,
     "metadata": {},
     "output_type": "execute_result"
    }
   ],
   "source": [
    "list(range(6))"
   ]
  },
  {
   "cell_type": "code",
   "execution_count": 10,
   "id": "lasting-communist",
   "metadata": {},
   "outputs": [
    {
     "data": {
      "text/plain": [
       "[2, 3, 4, 5, 6, 7]"
      ]
     },
     "execution_count": 10,
     "metadata": {},
     "output_type": "execute_result"
    }
   ],
   "source": [
    "list(range(2,8))"
   ]
  },
  {
   "cell_type": "code",
   "execution_count": 11,
   "id": "seven-dynamics",
   "metadata": {},
   "outputs": [
    {
     "data": {
      "text/plain": [
       "[2, 5, 8]"
      ]
     },
     "execution_count": 11,
     "metadata": {},
     "output_type": "execute_result"
    }
   ],
   "source": [
    "list(range(2,9,3))"
   ]
  },
  {
   "cell_type": "code",
   "execution_count": 12,
   "id": "mathematical-shelter",
   "metadata": {},
   "outputs": [
    {
     "data": {
      "text/plain": [
       "[4, 3, 2, 1]"
      ]
     },
     "execution_count": 12,
     "metadata": {},
     "output_type": "execute_result"
    }
   ],
   "source": [
    "list(range(4, 0,-1))"
   ]
  },
  {
   "cell_type": "code",
   "execution_count": 13,
   "id": "adequate-cream",
   "metadata": {},
   "outputs": [
    {
     "data": {
      "text/plain": [
       "8000056"
      ]
     },
     "execution_count": 13,
     "metadata": {},
     "output_type": "execute_result"
    }
   ],
   "source": [
    "from sys import getsizeof\n",
    "\n",
    "getsizeof(list(range(1_000_000)))"
   ]
  },
  {
   "cell_type": "code",
   "execution_count": 14,
   "id": "adaptive-suffering",
   "metadata": {},
   "outputs": [
    {
     "data": {
      "text/plain": [
       "48"
      ]
     },
     "execution_count": 14,
     "metadata": {},
     "output_type": "execute_result"
    }
   ],
   "source": [
    "getsizeof(range(1_000_000))"
   ]
  },
  {
   "cell_type": "code",
   "execution_count": 15,
   "id": "molecular-weekend",
   "metadata": {},
   "outputs": [
    {
     "name": "stdout",
     "output_type": "stream",
     "text": [
      "A\n",
      "B\n",
      "C\n",
      "D\n"
     ]
    }
   ],
   "source": [
    "for letra in 'abcd':\n",
    "    print(letra.upper())"
   ]
  },
  {
   "cell_type": "code",
   "execution_count": 16,
   "id": "published-halloween",
   "metadata": {},
   "outputs": [
    {
     "name": "stdout",
     "output_type": "stream",
     "text": [
      "1\n",
      "4\n",
      "9\n",
      "16\n",
      "25\n"
     ]
    }
   ],
   "source": [
    "for k in range(1, 6):\n",
    "    print(k**2)"
   ]
  },
  {
   "cell_type": "code",
   "execution_count": 17,
   "id": "separate-offset",
   "metadata": {},
   "outputs": [
    {
     "name": "stdout",
     "output_type": "stream",
     "text": [
      "h1 {\n",
      "\n",
      "    font-size: 200%;\n",
      "\n",
      "    color:white; \n",
      "\n",
      "    background-color: #0064b0;\n",
      "\n",
      "}\n",
      "\n",
      "\n",
      "\n",
      "h2 {\n",
      "\n",
      "    font-size: 150%;\n",
      "\n",
      "    color:white; \n",
      "\n",
      "    background-color: #e07b39;\n",
      "\n",
      "}\n",
      "\n",
      "\n",
      "\n",
      "h3 {\n",
      "\n",
      "    font-size: 125%;\n",
      "\n",
      "    color: gray;\n",
      "\n",
      "    background-color: #cce7e8;\n",
      "\n",
      "}\n"
     ]
    }
   ],
   "source": [
    "for linea in open(\"mi_estilo.css\", 'r'):\n",
    "    print(linea)"
   ]
  },
  {
   "cell_type": "code",
   "execution_count": 18,
   "id": "according-status",
   "metadata": {},
   "outputs": [
    {
     "name": "stdout",
     "output_type": "stream",
     "text": [
      "king[\"name\"] = John Snow\n",
      "king[\"age\"] = 24\n",
      "king[\"home\"] = Castle Black\n",
      "king[\"lover\"] = Ygritte\n",
      "king[\"knows\"] = None\n"
     ]
    }
   ],
   "source": [
    "king = {'name': 'John Snow',\n",
    "        'age': 24,\n",
    "        'home': 'Castle Black',\n",
    "        'lover': 'Ygritte',\n",
    "        'knows': None}\n",
    "\n",
    "for llave, valor in king.items():\n",
    "    print(f'king[\"{llave}\"] = {valor}')"
   ]
  },
  {
   "cell_type": "code",
   "execution_count": 19,
   "id": "tamil-mission",
   "metadata": {},
   "outputs": [
    {
     "name": "stdout",
     "output_type": "stream",
     "text": [
      "iteración 0 da por resultado  a\n",
      "iteración 1 da por resultado  b\n",
      "iteración 2 da por resultado  c\n",
      "iteración 3 da por resultado  d\n",
      "iteración 4 da por resultado  e\n"
     ]
    }
   ],
   "source": [
    "eltexto = 'abcde'\n",
    "\n",
    "for i in range(len(eltexto)):\n",
    "    letra = eltexto[i]\n",
    "    print(f'iteración {i} da por resultado  {letra}')\n"
   ]
  },
  {
   "cell_type": "code",
   "execution_count": 20,
   "id": "coral-gibraltar",
   "metadata": {},
   "outputs": [
    {
     "name": "stdout",
     "output_type": "stream",
     "text": [
      "iteración 0 da por resultado  a\n",
      "iteración 1 da por resultado  b\n",
      "iteración 2 da por resultado  c\n",
      "iteración 3 da por resultado  d\n",
      "iteración 4 da por resultado  e\n"
     ]
    }
   ],
   "source": [
    "eltexto = 'abcde'\n",
    "\n",
    "for i, letra in enumerate(eltexto):\n",
    "    print(f'iteración {i} da por resultado  {letra}')\n"
   ]
  },
  {
   "cell_type": "code",
   "execution_count": 21,
   "id": "skilled-amazon",
   "metadata": {},
   "outputs": [
    {
     "name": "stdout",
     "output_type": "stream",
     "text": [
      "0 = a\n",
      "1 = b\n",
      "2 = c\n",
      "3 = d\n"
     ]
    }
   ],
   "source": [
    "for i, letter in enumerate('abcd'):\n",
    "    print(f'{i} = {letter}')"
   ]
  },
  {
   "cell_type": "code",
   "execution_count": 22,
   "id": "subject-agreement",
   "metadata": {},
   "outputs": [
    {
     "name": "stdout",
     "output_type": "stream",
     "text": [
      "Estoy en la iteración 0 = a\n",
      "Estoy en la iteración 1 = b\n",
      "Estoy en la iteración 2 = c\n",
      "Estoy en la iteración 3 = d\n"
     ]
    }
   ],
   "source": [
    "for i, letter in enumerate('abcd'):\n",
    "    print(f'Estoy en la iteración {i:d} = {letter}')"
   ]
  },
  {
   "cell_type": "code",
   "execution_count": 23,
   "id": "published-tracker",
   "metadata": {},
   "outputs": [
    {
     "name": "stdout",
     "output_type": "stream",
     "text": [
      "3 apples\n",
      "2 bananas\n",
      "4 coconuts\n"
     ]
    }
   ],
   "source": [
    "quantities = [3, 2, 4]\n",
    "fruits = ('apple','banana','coconut')\n",
    "\n",
    "for i in range(len(quantities)):  # muy complicado\n",
    "    n = quantities[i]\n",
    "    fruit = fruits[i]\n",
    "    print(f'{n} {fruit}s')"
   ]
  },
  {
   "cell_type": "code",
   "execution_count": 24,
   "id": "posted-display",
   "metadata": {},
   "outputs": [
    {
     "name": "stdout",
     "output_type": "stream",
     "text": [
      "3 apples\n",
      "2 bananas\n",
      "4 coconuts\n"
     ]
    }
   ],
   "source": [
    "for n, fruit in zip(quantities,fruits): # más elegante\n",
    "    print(f'{n} {fruit}s')"
   ]
  },
  {
   "cell_type": "code",
   "execution_count": 25,
   "id": "worst-multiple",
   "metadata": {
    "tags": [
     "raises-exception"
    ]
   },
   "outputs": [
    {
     "name": "stdout",
     "output_type": "stream",
     "text": [
      "3 apples\n",
      "2 bananas\n",
      "4 coconuts\n"
     ]
    },
    {
     "ename": "IndexError",
     "evalue": "tuple index out of range",
     "output_type": "error",
     "traceback": [
      "\u001b[0;31m---------------------------------------------------------------------------\u001b[0m",
      "\u001b[0;31mIndexError\u001b[0m                                Traceback (most recent call last)",
      "\u001b[0;32m<ipython-input-25-4142e22e68dd>\u001b[0m in \u001b[0;36m<module>\u001b[0;34m\u001b[0m\n\u001b[1;32m      3\u001b[0m \u001b[0;32mfor\u001b[0m \u001b[0mi\u001b[0m \u001b[0;32min\u001b[0m \u001b[0mrange\u001b[0m\u001b[0;34m(\u001b[0m\u001b[0mlen\u001b[0m\u001b[0;34m(\u001b[0m\u001b[0mquantities\u001b[0m\u001b[0;34m)\u001b[0m\u001b[0;34m)\u001b[0m\u001b[0;34m:\u001b[0m\u001b[0;34m\u001b[0m\u001b[0;34m\u001b[0m\u001b[0m\n\u001b[1;32m      4\u001b[0m     \u001b[0mn\u001b[0m \u001b[0;34m=\u001b[0m \u001b[0mquantities\u001b[0m\u001b[0;34m[\u001b[0m\u001b[0mi\u001b[0m\u001b[0;34m]\u001b[0m\u001b[0;34m\u001b[0m\u001b[0;34m\u001b[0m\u001b[0m\n\u001b[0;32m----> 5\u001b[0;31m     \u001b[0mfruit\u001b[0m \u001b[0;34m=\u001b[0m \u001b[0mfruits\u001b[0m\u001b[0;34m[\u001b[0m\u001b[0mi\u001b[0m\u001b[0;34m]\u001b[0m\u001b[0;34m\u001b[0m\u001b[0;34m\u001b[0m\u001b[0m\n\u001b[0m\u001b[1;32m      6\u001b[0m     \u001b[0mprint\u001b[0m\u001b[0;34m(\u001b[0m\u001b[0;34mf'{n} {fruit}s'\u001b[0m\u001b[0;34m)\u001b[0m\u001b[0;34m\u001b[0m\u001b[0;34m\u001b[0m\u001b[0m\n",
      "\u001b[0;31mIndexError\u001b[0m: tuple index out of range"
     ]
    }
   ],
   "source": [
    "quantities.append(8)  # ahora quantities tiene 4 elementos, pero fruits sigue con 3\n",
    "\n",
    "for i in range(len(quantities)):  \n",
    "    n = quantities[i]\n",
    "    fruit = fruits[i]\n",
    "    print(f'{n} {fruit}s')"
   ]
  },
  {
   "cell_type": "code",
   "execution_count": 26,
   "id": "lightweight-vegetation",
   "metadata": {},
   "outputs": [
    {
     "name": "stdout",
     "output_type": "stream",
     "text": [
      "3 apples\n",
      "2 bananas\n",
      "4 coconuts\n"
     ]
    }
   ],
   "source": [
    "for n, fruit in zip(quantities,fruits): # más elegante\n",
    "    print(f'{n} {fruit}s')"
   ]
  },
  {
   "cell_type": "code",
   "execution_count": 27,
   "id": "accomplished-questionnaire",
   "metadata": {},
   "outputs": [
    {
     "data": {
      "text/plain": [
       "[1, 4, 9, 16, 25, 36, 49, 64, 81, 100, 121, 144, 169, 196]"
      ]
     },
     "execution_count": 27,
     "metadata": {},
     "output_type": "execute_result"
    }
   ],
   "source": [
    "miscuadrados = []\n",
    "\n",
    "for k in range(1,15):\n",
    "    miscuadrados.append(k**2)\n",
    "\n",
    "miscuadrados"
   ]
  },
  {
   "cell_type": "code",
   "execution_count": 28,
   "id": "dying-domain",
   "metadata": {},
   "outputs": [
    {
     "data": {
      "text/plain": [
       "[1, 4, 9, 16, 25, 36, 49, 64, 81, 100, 121, 144, 169, 196]"
      ]
     },
     "execution_count": 28,
     "metadata": {},
     "output_type": "execute_result"
    }
   ],
   "source": [
    "miscuadrados2 = [k**2 for k in range(1,15)]\n",
    "miscuadrados2"
   ]
  },
  {
   "cell_type": "code",
   "execution_count": 29,
   "id": "approximate-lottery",
   "metadata": {},
   "outputs": [
    {
     "data": {
      "text/plain": [
       "[1, 9, 25, 49, 81, 121, 169]"
      ]
     },
     "execution_count": 29,
     "metadata": {},
     "output_type": "execute_result"
    }
   ],
   "source": [
    "[k**2 for k in range(1,15) if k%2==1]"
   ]
  },
  {
   "cell_type": "code",
   "execution_count": 30,
   "id": "polished-utility",
   "metadata": {},
   "outputs": [
    {
     "data": {
      "text/plain": [
       "[1, 9, 25, 49, 81, 121, 169]"
      ]
     },
     "execution_count": 30,
     "metadata": {},
     "output_type": "execute_result"
    }
   ],
   "source": [
    "miscuadradosimpares = []\n",
    "\n",
    "for k in range(1,15):\n",
    "    if k%2==1:\n",
    "        miscuadradosimpares.append(k**2)\n",
    "\n",
    "miscuadradosimpares"
   ]
  },
  {
   "cell_type": "code",
   "execution_count": 31,
   "id": "ceramic-elite",
   "metadata": {},
   "outputs": [
    {
     "data": {
      "text/plain": [
       "[5, 6, 6, 5, 4]"
      ]
     },
     "execution_count": 31,
     "metadata": {},
     "output_type": "execute_result"
    }
   ],
   "source": [
    "frutas = ['apple','banana','carrot','grape','kiwi']\n",
    "\n",
    "[len(palabra) for palabra in frutas]"
   ]
  },
  {
   "cell_type": "code",
   "execution_count": 32,
   "id": "roman-cyprus",
   "metadata": {},
   "outputs": [
    {
     "data": {
      "text/plain": [
       "[4, 16, 36, 64, 100]"
      ]
     },
     "execution_count": 32,
     "metadata": {},
     "output_type": "execute_result"
    }
   ],
   "source": [
    "lista1 = list()\n",
    "\n",
    "for k in range(1,12):\n",
    "    if k % 2 == 0:\n",
    "        lista1.append(k**2)\n",
    "\n",
    "lista1"
   ]
  },
  {
   "cell_type": "code",
   "execution_count": 33,
   "id": "hairy-wiring",
   "metadata": {},
   "outputs": [
    {
     "data": {
      "text/plain": [
       "[4, 16, 36, 64, 100]"
      ]
     },
     "execution_count": 33,
     "metadata": {},
     "output_type": "execute_result"
    }
   ],
   "source": [
    "lista2 = [k**2 for k in range(1, 12) if not k%2]\n",
    "lista2"
   ]
  },
  {
   "cell_type": "code",
   "execution_count": 34,
   "id": "verified-alarm",
   "metadata": {},
   "outputs": [],
   "source": [
    "diasemana = 'lunes'\n",
    "dia = 30\n",
    "mes = 'febrero'\n",
    "año = 2020"
   ]
  },
  {
   "cell_type": "code",
   "execution_count": 35,
   "id": "neutral-singles",
   "metadata": {},
   "outputs": [
    {
     "data": {
      "text/plain": [
       "'Hoy es lunes 30 de febrero de 2020'"
      ]
     },
     "execution_count": 35,
     "metadata": {},
     "output_type": "execute_result"
    }
   ],
   "source": [
    "\"Hoy es %s %d de %s de %d\" % (diasemana, dia, mes, año)"
   ]
  },
  {
   "cell_type": "code",
   "execution_count": 36,
   "id": "burning-barcelona",
   "metadata": {},
   "outputs": [
    {
     "data": {
      "text/plain": [
       "'Hoy es lunes 30 de febrero de 2020'"
      ]
     },
     "execution_count": 36,
     "metadata": {},
     "output_type": "execute_result"
    }
   ],
   "source": [
    "\"Hoy es {0} {1} de {2} de {3}\".format(diasemana, dia, mes, año)"
   ]
  },
  {
   "cell_type": "code",
   "execution_count": 37,
   "id": "verified-writer",
   "metadata": {},
   "outputs": [
    {
     "data": {
      "text/plain": [
       "'Hoy es LUNES 29 de Febrero de 2020'"
      ]
     },
     "execution_count": 37,
     "metadata": {},
     "output_type": "execute_result"
    }
   ],
   "source": [
    "f\"Hoy es {diasemana.upper()} {dia-1} de {mes.title()} de {año}\""
   ]
  },
  {
   "cell_type": "code",
   "execution_count": 38,
   "id": "collective-transcription",
   "metadata": {},
   "outputs": [
    {
     "data": {
      "text/plain": [
       "0.14285714285714285"
      ]
     },
     "execution_count": 38,
     "metadata": {},
     "output_type": "execute_result"
    }
   ],
   "source": [
    "x = 1/7\n",
    "x"
   ]
  },
  {
   "cell_type": "code",
   "execution_count": 39,
   "id": "comic-peace",
   "metadata": {},
   "outputs": [
    {
     "data": {
      "text/plain": [
       "'x es igual a         0.14286'"
      ]
     },
     "execution_count": 39,
     "metadata": {},
     "output_type": "execute_result"
    }
   ],
   "source": [
    "f\"x es igual a {x:15.5f}\""
   ]
  }
 ],
 "metadata": {
  "jupytext": {
   "formats": "md:myst",
   "text_representation": {
    "extension": ".md",
    "format_name": "myst"
   }
  },
  "kernelspec": {
   "display_name": "Python 3",
   "language": "python",
   "name": "python3"
  },
  "language_info": {
   "codemirror_mode": {
    "name": "ipython",
    "version": 3
   },
   "file_extension": ".py",
   "mimetype": "text/x-python",
   "name": "python",
   "nbconvert_exporter": "python",
   "pygments_lexer": "ipython3",
   "version": "3.8.8"
  },
  "source_map": [
   11,
   49,
   55,
   61,
   68,
   79,
   82,
   100,
   105,
   130,
   136,
   142,
   152,
   157,
   159,
   169,
   171,
   177,
   179,
   185,
   187,
   193,
   195,
   199,
   205,
   207,
   234,
   237,
   243,
   246,
   250,
   253,
   257,
   266,
   277,
   286,
   294,
   299,
   302,
   310,
   320,
   323,
   328,
   336,
   339,
   342,
   378,
   387,
   392,
   396,
   404,
   410,
   414,
   438,
   448,
   451,
   455,
   462,
   466,
   470,
   474,
   479
  ]
 },
 "nbformat": 4,
 "nbformat_minor": 5
}