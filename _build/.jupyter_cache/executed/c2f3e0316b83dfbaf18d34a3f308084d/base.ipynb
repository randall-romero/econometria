{
 "cells": [
  {
   "cell_type": "code",
   "execution_count": 1,
   "id": "higher-renaissance",
   "metadata": {},
   "outputs": [
    {
     "data": {
      "text/plain": [
       "builtin_function_or_method"
      ]
     },
     "execution_count": 1,
     "metadata": {},
     "output_type": "execute_result"
    }
   ],
   "source": [
    "type(max)"
   ]
  },
  {
   "cell_type": "code",
   "execution_count": 2,
   "id": "solved-present",
   "metadata": {},
   "outputs": [
    {
     "data": {
      "text/plain": [
       "[0.8660254037844386, 0.5000000000000001, 1.7320508075688767]"
      ]
     },
     "execution_count": 2,
     "metadata": {},
     "output_type": "execute_result"
    }
   ],
   "source": [
    "from math import sin, cos, tan, pi\n",
    "\n",
    "𝜋 = pi\n",
    "\n",
    "trigonometricas = (sin, cos, tan)\n",
    "[f(𝜋/3) for f in trigonometricas]"
   ]
  },
  {
   "cell_type": "code",
   "execution_count": 3,
   "id": "emotional-england",
   "metadata": {},
   "outputs": [
    {
     "data": {
      "text/plain": [
       "0.5000000000000001"
      ]
     },
     "execution_count": 3,
     "metadata": {},
     "output_type": "execute_result"
    }
   ],
   "source": [
    "coseno = cos\n",
    "coseno(𝜋/3)"
   ]
  },
  {
   "cell_type": "code",
   "execution_count": 4,
   "id": "mental-priority",
   "metadata": {},
   "outputs": [
    {
     "data": {
      "text/plain": [
       "0.9999999999999999"
      ]
     },
     "execution_count": 4,
     "metadata": {},
     "output_type": "execute_result"
    }
   ],
   "source": [
    "from scipy import integrate\n",
    "\n",
    "integrate.quad(cos, 0, 𝜋/2)[0]"
   ]
  },
  {
   "cell_type": "code",
   "execution_count": 5,
   "id": "assigned-element",
   "metadata": {},
   "outputs": [
    {
     "name": "stdout",
     "output_type": "stream",
     "text": [
      "False\n",
      "None\n",
      "True\n",
      "and\n",
      "as\n",
      "assert\n",
      "async\n",
      "await\n",
      "break\n",
      "class\n",
      "continue\n",
      "def\n",
      "del\n",
      "elif\n",
      "else\n",
      "except\n",
      "finally\n",
      "for\n",
      "from\n",
      "global\n",
      "if\n",
      "import\n",
      "in\n",
      "is\n",
      "lambda\n",
      "nonlocal\n",
      "not\n",
      "or\n",
      "pass\n",
      "raise\n",
      "return\n",
      "try\n",
      "while\n",
      "with\n",
      "yield\n"
     ]
    }
   ],
   "source": [
    "import keyword\n",
    "print(*keyword.kwlist, sep='\\n')"
   ]
  },
  {
   "cell_type": "code",
   "execution_count": 6,
   "id": "smart-evanescence",
   "metadata": {},
   "outputs": [],
   "source": [
    "def hello( ):\n",
    "    print('Hello')\n",
    "    print('Welcome to the UCR!')"
   ]
  },
  {
   "cell_type": "code",
   "execution_count": 7,
   "id": "korean-ambassador",
   "metadata": {},
   "outputs": [
    {
     "name": "stdout",
     "output_type": "stream",
     "text": [
      "Hello\n",
      "Welcome to the UCR!\n"
     ]
    }
   ],
   "source": [
    "hello()"
   ]
  },
  {
   "cell_type": "code",
   "execution_count": 8,
   "id": "conceptual-capacity",
   "metadata": {},
   "outputs": [],
   "source": [
    "saludar = hello"
   ]
  },
  {
   "cell_type": "code",
   "execution_count": 9,
   "id": "finished-seventh",
   "metadata": {},
   "outputs": [
    {
     "name": "stdout",
     "output_type": "stream",
     "text": [
      "Hello\n",
      "Welcome to the UCR!\n"
     ]
    }
   ],
   "source": [
    "saludar()"
   ]
  },
  {
   "cell_type": "code",
   "execution_count": 10,
   "id": "female-press",
   "metadata": {},
   "outputs": [
    {
     "name": "stdout",
     "output_type": "stream",
     "text": [
      "15.0° Celsius es igual a 59.0° Fahrenheit\n"
     ]
    }
   ],
   "source": [
    "def c2f(c):\n",
    "    f = 1.8 * c + 32\n",
    "    print(f'{c:.1f}° Celsius es igual a {f:.1f}° Fahrenheit')\n",
    "\n",
    "c2f(15)"
   ]
  },
  {
   "cell_type": "code",
   "execution_count": 11,
   "id": "third-heather",
   "metadata": {},
   "outputs": [
    {
     "name": "stdout",
     "output_type": "stream",
     "text": [
      "100.0° Celsius es igual a 212.0° Fahrenheit\n"
     ]
    }
   ],
   "source": [
    "y = c2f(100)"
   ]
  },
  {
   "cell_type": "code",
   "execution_count": 12,
   "id": "moral-andrews",
   "metadata": {},
   "outputs": [
    {
     "data": {
      "text/plain": [
       "NoneType"
      ]
     },
     "execution_count": 12,
     "metadata": {},
     "output_type": "execute_result"
    }
   ],
   "source": [
    "type(y)"
   ]
  },
  {
   "cell_type": "code",
   "execution_count": 13,
   "id": "hazardous-investigation",
   "metadata": {},
   "outputs": [
    {
     "name": "stdout",
     "output_type": "stream",
     "text": [
      "59.0\n"
     ]
    }
   ],
   "source": [
    "def c2f(c):\n",
    "    f = 1.8 * c + 32\n",
    "    return f\n",
    "\n",
    "\n",
    "x = c2f(15)\n",
    "print(x)"
   ]
  },
  {
   "cell_type": "code",
   "execution_count": 14,
   "id": "coordinated-mountain",
   "metadata": {},
   "outputs": [
    {
     "data": {
      "text/plain": [
       "59.0"
      ]
     },
     "execution_count": 14,
     "metadata": {},
     "output_type": "execute_result"
    }
   ],
   "source": [
    "def c2f(c, *, mayuscula=False, mostrar=False):\n",
    "    f = 1.8 * c + 32\n",
    "    if mostrar:\n",
    "        if mayuscula:\n",
    "            print(f'{c:.1f}° CELSIUS = {f:.1f} FAHRENHEIT')\n",
    "        else:\n",
    "            print(f'{c:.1f}° Celsius = {f:.1f} Fahrenheit')\n",
    "    return f\n",
    "\n",
    "c2f(15)"
   ]
  },
  {
   "cell_type": "code",
   "execution_count": 15,
   "id": "tight-terrain",
   "metadata": {},
   "outputs": [
    {
     "name": "stdout",
     "output_type": "stream",
     "text": [
      "15.0° CELSIUS = 59.0 FAHRENHEIT\n"
     ]
    },
    {
     "data": {
      "text/plain": [
       "59.0"
      ]
     },
     "execution_count": 15,
     "metadata": {},
     "output_type": "execute_result"
    }
   ],
   "source": [
    "c2f(15, mostrar=True, mayuscula=True)"
   ]
  },
  {
   "cell_type": "code",
   "execution_count": 16,
   "id": "organized-generation",
   "metadata": {},
   "outputs": [
    {
     "name": "stdout",
     "output_type": "stream",
     "text": [
      "15.0° Celsius = 59.0 Fahrenheit\n"
     ]
    },
    {
     "data": {
      "text/plain": [
       "59.0"
      ]
     },
     "execution_count": 16,
     "metadata": {},
     "output_type": "execute_result"
    }
   ],
   "source": [
    "c2f(15, mostrar=True)"
   ]
  },
  {
   "cell_type": "code",
   "execution_count": 17,
   "id": "metallic-thinking",
   "metadata": {},
   "outputs": [
    {
     "name": "stdout",
     "output_type": "stream",
     "text": [
      "3 4 6\n"
     ]
    }
   ],
   "source": [
    "print(3, 4, 6)"
   ]
  },
  {
   "cell_type": "code",
   "execution_count": 18,
   "id": "accurate-morning",
   "metadata": {},
   "outputs": [
    {
     "name": "stdout",
     "output_type": "stream",
     "text": [
      "5 3 7 1 perro\n"
     ]
    }
   ],
   "source": [
    "print(5,3,7,1,\"perro\")"
   ]
  },
  {
   "cell_type": "code",
   "execution_count": 19,
   "id": "leading-myrtle",
   "metadata": {},
   "outputs": [],
   "source": [
    "def imprimir_suma(*args):\n",
    "    numeros = (str(x) for x in args)\n",
    "    sumando = ' + '.join(numeros)\n",
    "    resultado = sum(args)\n",
    "    print(sumando, \" = \", resultado)\n",
    "    print('args = ', args, sep=\"\\n\")\n",
    "    print('*args = ', *args, sep=\"\\n\")"
   ]
  },
  {
   "cell_type": "code",
   "execution_count": 20,
   "id": "cordless-description",
   "metadata": {},
   "outputs": [
    {
     "name": "stdout",
     "output_type": "stream",
     "text": [
      "3 + 2 + 5  =  10\n",
      "args = \n",
      "(3, 2, 5)\n",
      "*args = \n",
      "3\n",
      "2\n",
      "5\n"
     ]
    }
   ],
   "source": [
    "imprimir_suma(3,2,5)"
   ]
  },
  {
   "cell_type": "code",
   "execution_count": 21,
   "id": "essential-oxford",
   "metadata": {},
   "outputs": [
    {
     "name": "stdout",
     "output_type": "stream",
     "text": [
      "1 + 1 + 1 + 1 + 1  =  5\n",
      "args = \n",
      "(1, 1, 1, 1, 1)\n",
      "*args = \n",
      "1\n",
      "1\n",
      "1\n",
      "1\n",
      "1\n"
     ]
    }
   ],
   "source": [
    "imprimir_suma(1,1,1,1,1)"
   ]
  },
  {
   "cell_type": "code",
   "execution_count": 22,
   "id": "biblical-conclusion",
   "metadata": {},
   "outputs": [],
   "source": [
    "def imprimir_opciones(**kwargs):\n",
    "    for parametro, valor in kwargs.items():\n",
    "        print(parametro, \" = \", valor)\n",
    "    print('kwargs = ', kwargs)"
   ]
  },
  {
   "cell_type": "code",
   "execution_count": 23,
   "id": "western-mailman",
   "metadata": {},
   "outputs": [
    {
     "name": "stdout",
     "output_type": "stream",
     "text": [
      "color  =  rojo\n",
      "modelo  =  2018\n",
      "marca  =  Honda\n",
      "estilo  =  SUV\n",
      "kwargs =  {'color': 'rojo', 'modelo': '2018', 'marca': 'Honda', 'estilo': 'SUV'}\n"
     ]
    }
   ],
   "source": [
    "imprimir_opciones(color='rojo', modelo='2018', marca='Honda', estilo='SUV')"
   ]
  },
  {
   "cell_type": "code",
   "execution_count": 24,
   "id": "common-information",
   "metadata": {},
   "outputs": [],
   "source": [
    "?print"
   ]
  },
  {
   "cell_type": "code",
   "execution_count": 25,
   "id": "saving-facing",
   "metadata": {},
   "outputs": [
    {
     "name": "stdout",
     "output_type": "stream",
     "text": [
      "1 2 3\n",
      "4 5 6\n"
     ]
    }
   ],
   "source": [
    "print(1,2,3)\n",
    "print(4,5,6)"
   ]
  },
  {
   "cell_type": "code",
   "execution_count": 26,
   "id": "detected-switch",
   "metadata": {},
   "outputs": [
    {
     "name": "stdout",
     "output_type": "stream",
     "text": [
      "1 /*\\ 2 /*\\ 3\n",
      "\n",
      "4 /*\\ 5 /*\\ 6\n",
      "\n"
     ]
    }
   ],
   "source": [
    "OPCIONES = {'sep': ' /*\\ ', 'end': '\\n\\n'}\n",
    "print(1,2,3, **OPCIONES)\n",
    "print(4,5,6, **OPCIONES)"
   ]
  },
  {
   "cell_type": "code",
   "execution_count": 27,
   "id": "moderate-interstate",
   "metadata": {},
   "outputs": [
    {
     "name": "stdout",
     "output_type": "stream",
     "text": [
      "Sin tomar en cuenta las opciones, la tupla de números es \n",
      "2 5 3 6 8 1\n",
      "pero tomando en cuenta las opciones, la tupla de números es \n",
      "2 5 3 6 8 1\n"
     ]
    }
   ],
   "source": [
    "def imprimir_operacion(*numeros, **print_options):\n",
    "    print('Sin tomar en cuenta las opciones, la tupla de números es ')\n",
    "    print(*numeros)\n",
    "    print('pero tomando en cuenta las opciones, la tupla de números es ')\n",
    "    print(*numeros, **print_options)\n",
    "\n",
    "imprimir_operacion(2,5,3,6,8,1)"
   ]
  },
  {
   "cell_type": "code",
   "execution_count": 28,
   "id": "conservative-background",
   "metadata": {},
   "outputs": [
    {
     "name": "stdout",
     "output_type": "stream",
     "text": [
      "Sin tomar en cuenta las opciones, la tupla de números es \n",
      "2 5 3 6 8 1\n",
      "pero tomando en cuenta las opciones, la tupla de números es \n",
      "2 * 5 * 3 * 6 * 8 * 1 = ¿quién sabe?!!\n"
     ]
    }
   ],
   "source": [
    "OPCIONES = dict(sep = ' * ', end = ' = ¿quién sabe?!!\\n')\n",
    "imprimir_operacion(2,5,3,6,8,1, **OPCIONES)"
   ]
  },
  {
   "cell_type": "code",
   "execution_count": 29,
   "id": "arctic-volume",
   "metadata": {},
   "outputs": [],
   "source": [
    "def c2f(c, show=False):\n",
    "    \"\"\"\n",
    "    Converts temperature data from Celsius degrees to Fahrenheit degrees\n",
    "\n",
    "    Input:\n",
    "      c: a scalar number, degrees in Celsius\n",
    "      show: a boolean, whether to print the outcome\n",
    "    Output:\n",
    "      a scalar number, degrees in Fahrenheit\n",
    "    Example:\n",
    "      c2f(0)  # returns 32.0\n",
    "    \"\"\"\n",
    "    f = 1.8 * c + 32\n",
    "    if show:\n",
    "        print(f'{c:.1f}° Celsius = {f:.1f} Fahrenheit')\n",
    "    return f\n",
    "\n",
    "z = c2f(15)"
   ]
  },
  {
   "cell_type": "code",
   "execution_count": 30,
   "id": "dominant-feeling",
   "metadata": {},
   "outputs": [
    {
     "name": "stdout",
     "output_type": "stream",
     "text": [
      "Help on function c2f in module __main__:\n",
      "\n",
      "c2f(c, show=False)\n",
      "    Converts temperature data from Celsius degrees to Fahrenheit degrees\n",
      "    \n",
      "    Input:\n",
      "      c: a scalar number, degrees in Celsius\n",
      "      show: a boolean, whether to print the outcome\n",
      "    Output:\n",
      "      a scalar number, degrees in Fahrenheit\n",
      "    Example:\n",
      "      c2f(0)  # returns 32.0\n",
      "\n"
     ]
    }
   ],
   "source": [
    "help(c2f)"
   ]
  },
  {
   "cell_type": "code",
   "execution_count": 31,
   "id": "demanding-segment",
   "metadata": {},
   "outputs": [],
   "source": [
    "?c2f"
   ]
  },
  {
   "cell_type": "code",
   "execution_count": 32,
   "id": "dutch-wonder",
   "metadata": {},
   "outputs": [],
   "source": [
    "pi = 3.1415\n",
    "\n",
    "def area(r):\n",
    "    A = pi * r**2\n",
    "    return A"
   ]
  },
  {
   "cell_type": "code",
   "execution_count": 33,
   "id": "armed-playing",
   "metadata": {},
   "outputs": [
    {
     "data": {
      "text/plain": [
       "3.1415"
      ]
     },
     "execution_count": 33,
     "metadata": {},
     "output_type": "execute_result"
    }
   ],
   "source": [
    "pi"
   ]
  },
  {
   "cell_type": "code",
   "execution_count": 34,
   "id": "favorite-explorer",
   "metadata": {},
   "outputs": [
    {
     "name": "stdout",
     "output_type": "stream",
     "text": [
      "314.15000000000003\n"
     ]
    }
   ],
   "source": [
    "print(area(10))"
   ]
  },
  {
   "cell_type": "code",
   "execution_count": 35,
   "id": "typical-paraguay",
   "metadata": {
    "tags": [
     "raises-exception"
    ]
   },
   "outputs": [
    {
     "ename": "NameError",
     "evalue": "name 'A' is not defined",
     "output_type": "error",
     "traceback": [
      "\u001b[0;31m---------------------------------------------------------------------------\u001b[0m",
      "\u001b[0;31mNameError\u001b[0m                                 Traceback (most recent call last)",
      "\u001b[0;32m<ipython-input-35-939330b76721>\u001b[0m in \u001b[0;36m<module>\u001b[0;34m\u001b[0m\n\u001b[0;32m----> 1\u001b[0;31m \u001b[0mprint\u001b[0m\u001b[0;34m(\u001b[0m\u001b[0mA\u001b[0m\u001b[0;34m)\u001b[0m\u001b[0;34m\u001b[0m\u001b[0;34m\u001b[0m\u001b[0m\n\u001b[0m",
      "\u001b[0;31mNameError\u001b[0m: name 'A' is not defined"
     ]
    }
   ],
   "source": [
    "print(A)"
   ]
  },
  {
   "cell_type": "code",
   "execution_count": 36,
   "id": "manual-webster",
   "metadata": {},
   "outputs": [
    {
     "data": {
      "text/plain": [
       "900"
      ]
     },
     "execution_count": 36,
     "metadata": {},
     "output_type": "execute_result"
    }
   ],
   "source": [
    "pi = 9\n",
    "area(10)"
   ]
  }
 ],
 "metadata": {
  "jupytext": {
   "formats": "md:myst",
   "text_representation": {
    "extension": ".md",
    "format_name": "myst"
   }
  },
  "kernelspec": {
   "display_name": "Python 3",
   "language": "python",
   "name": "python3"
  },
  "language_info": {
   "codemirror_mode": {
    "name": "ipython",
    "version": 3
   },
   "file_extension": ".py",
   "mimetype": "text/x-python",
   "name": "python",
   "nbconvert_exporter": "python",
   "pygments_lexer": "ipython3",
   "version": "3.8.8"
  },
  "source_map": [
   11,
   32,
   34,
   38,
   45,
   49,
   52,
   56,
   60,
   82,
   85,
   90,
   94,
   98,
   102,
   106,
   108,
   115,
   123,
   127,
   129,
   135,
   143,
   149,
   162,
   166,
   168,
   176,
   180,
   182,
   186,
   196,
   200,
   202,
   212,
   219,
   221,
   225,
   227,
   231,
   236,
   240,
   244,
   254,
   257,
   266,
   287,
   291,
   293,
   303,
   311,
   315,
   317,
   320,
   323,
   326
  ]
 },
 "nbformat": 4,
 "nbformat_minor": 5
}