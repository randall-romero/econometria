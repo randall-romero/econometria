{
 "cells": [
  {
   "cell_type": "code",
   "execution_count": 1,
   "id": "marked-japanese",
   "metadata": {
    "tags": [
     "hide-input"
    ]
   },
   "outputs": [
    {
     "name": "stdout",
     "output_type": "stream",
     "text": [
      "Este es un resultado obtenido con Python! Clic en 'Click to Show' para ver el código que lo generó!\n"
     ]
    }
   ],
   "source": [
    "print(\"Este es un resultado obtenido con Python! Clic en 'Click to Show' para ver el código que lo generó!\")"
   ]
  }
 ],
 "metadata": {
  "jupytext": {
   "formats": "md:myst",
   "text_representation": {
    "extension": ".md",
    "format_name": "myst"
   }
  },
  "kernelspec": {
   "display_name": "Python 3",
   "language": "python",
   "name": "python3"
  },
  "language_info": {
   "codemirror_mode": {
    "name": "ipython",
    "version": 3
   },
   "file_extension": ".py",
   "mimetype": "text/x-python",
   "name": "python",
   "nbconvert_exporter": "python",
   "pygments_lexer": "ipython3",
   "version": "3.8.8"
  },
  "source_map": [
   11,
   86
  ]
 },
 "nbformat": 4,
 "nbformat_minor": 5
}