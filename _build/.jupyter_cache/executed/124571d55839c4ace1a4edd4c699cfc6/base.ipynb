{
 "cells": [
  {
   "cell_type": "code",
   "execution_count": 1,
   "metadata": {
    "Collapsed": "false",
    "pycharm": {
     "name": "#%%\n"
    }
   },
   "outputs": [],
   "source": [
    "import numpy as np\n",
    "import matplotlib.pyplot as plt\n",
    "import seaborn\n",
    "import pandas as pd\n",
    "from statsmodels.tsa.api import VAR\n",
    "\n",
    "np.random.seed(1995)\n",
    "\n",
    "%matplotlib inline"
   ]
  },
  {
   "cell_type": "code",
   "execution_count": 2,
   "metadata": {
    "Collapsed": "false",
    "pycharm": {
     "name": "#%%\n"
    }
   },
   "outputs": [],
   "source": [
    "A = np.array([[0.8, 0.7], [-0.2, 0.5]])\n",
    "sigma = 0.9\n",
    "\n",
    "def var_sample(T = 100):\n",
    "    ''' Simula el VAR(1) T períodos'''\n",
    "    X = np.zeros((T,2))\n",
    "    for t in range(1, T):\n",
    "        X[t] = X[t-1] @ A.T + sigma * np.random.randn(2)\n",
    "    \n",
    "    trimestres = pd.date_range(start='1992q1',freq='d',periods=T)\n",
    "    return pd.DataFrame(X, columns=['precio', 'cantidad'],index=trimestres)\n",
    "\n",
    "def A_ols(data):\n",
    "    '''Estima un VAR(1) a partir de datos, retorna coeficientes como vector'''\n",
    "    return VAR(data).fit().coefs[0].flatten()\n",
    "\n",
    "\n",
    "def estimaciones_var(T=100):\n",
    "    return A_ols(var_sample(T))\n",
    "\n",
    "\n",
    "from joblib import Parallel, delayed\n",
    "\n",
    "def Monte_Carlo(funcion, repeticiones, columnas, *args, **kwargs):\n",
    "    \"\"\"\n",
    "    Ejecuta simulaciones de Montecarlo en paralelo, aprovechando todos los núcleos del procesador\n",
    "\n",
    "    Argumentos:\n",
    "        funcion: una función que dé por resultado una única realización de las cantidades que se desean simular\n",
    "        repeticiones: un entero que indica cuántas muestras se desean simular\n",
    "        columnas: una lista (o tupla) de strings, que identifiquen a las cantidades individuales retornadas por funcion\n",
    "        *args, **kwargs: otros parámetros requeridos por funcion\n",
    "\n",
    "    Retorna:\n",
    "         Un data frame de pandas, con tantas filas como `repeticiones` y columnas como textos en `columnas`.\n",
    "    \"\"\"\n",
    "    datos = Parallel(n_jobs=-1)(delayed(funcion)(*args, **kwargs) for _ in range(repeticiones))\n",
    "    return pd.DataFrame(datos, columns=columnas)"
   ]
  },
  {
   "cell_type": "code",
   "execution_count": 3,
   "metadata": {
    "Collapsed": "false",
    "pycharm": {
     "name": "#%%\n"
    },
    "scrolled": true
   },
   "outputs": [
    {
     "name": "stdout",
     "output_type": "stream",
     "text": [
      "Wall time: 11.2 s\n"
     ]
    }
   ],
   "source": [
    "%%time\n",
    "nrepetitions = 10000\n",
    "estimates = Monte_Carlo(estimaciones_var, nrepetitions, ['$Φ_{11}$', '$Φ_{21}$', '$Φ_{12}$', '$Φ_{22}$'])"
   ]
  },
  {
   "cell_type": "code",
   "execution_count": 4,
   "metadata": {
    "Collapsed": "false",
    "pycharm": {
     "name": "#%%\n"
    }
   },
   "outputs": [
    {
     "data": {
      "text/html": [
       "<div>\n",
       "<style scoped>\n",
       "    .dataframe tbody tr th:only-of-type {\n",
       "        vertical-align: middle;\n",
       "    }\n",
       "\n",
       "    .dataframe tbody tr th {\n",
       "        vertical-align: top;\n",
       "    }\n",
       "\n",
       "    .dataframe thead th {\n",
       "        text-align: right;\n",
       "    }\n",
       "</style>\n",
       "<table border=\"1\" class=\"dataframe\">\n",
       "  <thead>\n",
       "    <tr style=\"text-align: right;\">\n",
       "      <th></th>\n",
       "      <th>$Φ_{11}$</th>\n",
       "      <th>$Φ_{21}$</th>\n",
       "      <th>$Φ_{12}$</th>\n",
       "      <th>$Φ_{22}$</th>\n",
       "    </tr>\n",
       "  </thead>\n",
       "  <tbody>\n",
       "    <tr>\n",
       "      <th>0</th>\n",
       "      <td>0.765712</td>\n",
       "      <td>0.819384</td>\n",
       "      <td>-0.156429</td>\n",
       "      <td>0.458297</td>\n",
       "    </tr>\n",
       "    <tr>\n",
       "      <th>1</th>\n",
       "      <td>0.739452</td>\n",
       "      <td>0.663542</td>\n",
       "      <td>-0.338397</td>\n",
       "      <td>0.381836</td>\n",
       "    </tr>\n",
       "    <tr>\n",
       "      <th>2</th>\n",
       "      <td>0.716336</td>\n",
       "      <td>0.727302</td>\n",
       "      <td>-0.139867</td>\n",
       "      <td>0.566685</td>\n",
       "    </tr>\n",
       "    <tr>\n",
       "      <th>3</th>\n",
       "      <td>0.884918</td>\n",
       "      <td>0.603639</td>\n",
       "      <td>-0.191849</td>\n",
       "      <td>0.483225</td>\n",
       "    </tr>\n",
       "    <tr>\n",
       "      <th>4</th>\n",
       "      <td>0.838614</td>\n",
       "      <td>0.785583</td>\n",
       "      <td>-0.193505</td>\n",
       "      <td>0.422932</td>\n",
       "    </tr>\n",
       "  </tbody>\n",
       "</table>\n",
       "</div>"
      ],
      "text/plain": [
       "   $Φ_{11}$  $Φ_{21}$  $Φ_{12}$  $Φ_{22}$\n",
       "0  0.765712  0.819384 -0.156429  0.458297\n",
       "1  0.739452  0.663542 -0.338397  0.381836\n",
       "2  0.716336  0.727302 -0.139867  0.566685\n",
       "3  0.884918  0.603639 -0.191849  0.483225\n",
       "4  0.838614  0.785583 -0.193505  0.422932"
      ]
     },
     "execution_count": 4,
     "metadata": {},
     "output_type": "execute_result"
    }
   ],
   "source": [
    "estimates.head()"
   ]
  },
  {
   "cell_type": "code",
   "execution_count": 5,
   "metadata": {
    "Collapsed": "false",
    "pycharm": {
     "name": "#%%\n"
    }
   },
   "outputs": [
    {
     "data": {
      "image/png": "[encoded data removed]",
      "text/plain": [
       "<Figure size 576x360 with 4 Axes>"
      ]
     },
     "metadata": {
      "needs_background": "light"
     },
     "output_type": "display_data"
    }
   ],
   "source": [
    "ax = estimates.hist(bins=50,figsize=[8,5])\n",
    "\n",
    "for i in range(2):\n",
    "    for j in range(2):\n",
    "        ax[i,j].axvline(x=A[i,j],linewidth=4, color='r')\n",
    "        \n",
    "#plt.gcf().savefig('imag/var-insesgado.pdf',bbox_inches='tight')        "
   ]
  },
  {
   "cell_type": "code",
   "execution_count": 6,
   "metadata": {
    "Collapsed": "false",
    "pycharm": {
     "name": "#%%\n"
    }
   },
   "outputs": [
    {
     "data": {
      "image/png": "[encoded data removed]",
      "text/plain": [
       "<Figure size 1080x576 with 4 Axes>"
      ]
     },
     "metadata": {
      "needs_background": "light"
     },
     "output_type": "display_data"
    }
   ],
   "source": [
    "xlag = np.zeros([2,1])\n",
    "XpX = np.zeros([2,2])\n",
    "XpY = np.zeros([2,2])\n",
    "\n",
    "T = 4000\n",
    "minT = 4\n",
    "Xest = np.zeros([T+1, 4])\n",
    "\n",
    "for t in range(T+1):\n",
    "    x = A @ xlag + sigma * np.random.randn(2,1)\n",
    "    XpX += np.outer(xlag, xlag)\n",
    "    XpY += np.outer(xlag, x)\n",
    "    xlag = x.copy()\n",
    "    \n",
    "    if t>minT:\n",
    "        Xest[t] = np.linalg.solve(XpX/t, XpY/t).flatten()\n",
    "    \n",
    "    \n",
    "estimates2 = pd.DataFrame(Xest[minT:], columns=['$Φ_{11}$', '$Φ_{21}$', '$Φ_{12}$', '$Φ_{22}$'])\n",
    "\n",
    "ax = estimates2.plot(color='b',figsize=[15,8],subplots=True, layout=[2,2])\n",
    "\n",
    "for i in range(2):\n",
    "    for j in range(2):\n",
    "        ax[i,j].axhline(y=A[j,i],linewidth=1, color='r')\n",
    "\n",
    "#plt.gcf().savefig('imag/var-consistente.pdf',bbox_inches='tight') "
   ]
  }
 ],
 "metadata": {
  "kernelspec": {
   "display_name": "Python 3",
   "language": "python",
   "name": "python3"
  },
  "language_info": {
   "codemirror_mode": {
    "name": "ipython",
    "version": 3
   },
   "file_extension": ".py",
   "mimetype": "text/x-python",
   "name": "python",
   "nbconvert_exporter": "python",
   "pygments_lexer": "ipython3",
   "version": "3.9.7"
  }
 },
 "nbformat": 4,
 "nbformat_minor": 4
}