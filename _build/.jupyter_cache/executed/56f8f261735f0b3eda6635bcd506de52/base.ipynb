{
 "cells": [
  {
   "cell_type": "code",
   "execution_count": 1,
   "id": "permanent-archives",
   "metadata": {},
   "outputs": [
    {
     "data": {
      "text/plain": [
       "['Spring', 'Summer', 'Autumn', 'Winter']"
      ]
     },
     "execution_count": 1,
     "metadata": {},
     "output_type": "execute_result"
    }
   ],
   "source": [
    "seasons = ['Spring', 'Summer','Autumn','Winter']\n",
    "seasons"
   ]
  },
  {
   "cell_type": "code",
   "execution_count": 2,
   "id": "particular-tokyo",
   "metadata": {},
   "outputs": [
    {
     "data": {
      "text/plain": [
       "[4, 3.0, 'abc', 5, 8, -3, 0, 2]"
      ]
     },
     "execution_count": 2,
     "metadata": {},
     "output_type": "execute_result"
    }
   ],
   "source": [
    "mylist = [4, 3.0, 'abc', 5, 8, -3, 0 , 2]\n",
    "mylist"
   ]
  },
  {
   "cell_type": "code",
   "execution_count": 3,
   "id": "incoming-arlington",
   "metadata": {},
   "outputs": [
    {
     "data": {
      "text/plain": [
       "'Autumn'"
      ]
     },
     "execution_count": 3,
     "metadata": {},
     "output_type": "execute_result"
    }
   ],
   "source": [
    "seasons[2]"
   ]
  },
  {
   "cell_type": "code",
   "execution_count": 4,
   "id": "controlled-probe",
   "metadata": {},
   "outputs": [
    {
     "data": {
      "text/plain": [
       "'Summer'"
      ]
     },
     "execution_count": 4,
     "metadata": {},
     "output_type": "execute_result"
    }
   ],
   "source": [
    "seasons[-3]"
   ]
  },
  {
   "cell_type": "code",
   "execution_count": 5,
   "id": "included-spencer",
   "metadata": {},
   "outputs": [
    {
     "data": {
      "text/plain": [
       "['Spring', 'Summer', 'Fall', 'Winter']"
      ]
     },
     "execution_count": 5,
     "metadata": {},
     "output_type": "execute_result"
    }
   ],
   "source": [
    "seasons[2] = 'Fall'\n",
    "seasons"
   ]
  },
  {
   "cell_type": "code",
   "execution_count": 6,
   "id": "strange-entrance",
   "metadata": {},
   "outputs": [
    {
     "data": {
      "text/plain": [
       "[4, 3.0, 'abc', 5, 8, -3, 0, 2]"
      ]
     },
     "execution_count": 6,
     "metadata": {},
     "output_type": "execute_result"
    }
   ],
   "source": [
    "mylist"
   ]
  },
  {
   "cell_type": "code",
   "execution_count": 7,
   "id": "further-moscow",
   "metadata": {},
   "outputs": [
    {
     "data": {
      "text/plain": [
       "['abc', 5]"
      ]
     },
     "execution_count": 7,
     "metadata": {},
     "output_type": "execute_result"
    }
   ],
   "source": [
    "mylist[2:4]"
   ]
  },
  {
   "cell_type": "code",
   "execution_count": 8,
   "id": "forbidden-international",
   "metadata": {},
   "outputs": [
    {
     "data": {
      "text/plain": [
       "[4, 3.0, 'abc']"
      ]
     },
     "execution_count": 8,
     "metadata": {},
     "output_type": "execute_result"
    }
   ],
   "source": [
    "mylist[:3]"
   ]
  },
  {
   "cell_type": "code",
   "execution_count": 9,
   "id": "abstract-development",
   "metadata": {},
   "outputs": [
    {
     "data": {
      "text/plain": [
       "[-3, 0, 2]"
      ]
     },
     "execution_count": 9,
     "metadata": {},
     "output_type": "execute_result"
    }
   ],
   "source": [
    "mylist[5:]"
   ]
  },
  {
   "cell_type": "code",
   "execution_count": 10,
   "id": "identified-winter",
   "metadata": {},
   "outputs": [
    {
     "data": {
      "text/plain": [
       "[0, 2]"
      ]
     },
     "execution_count": 10,
     "metadata": {},
     "output_type": "execute_result"
    }
   ],
   "source": [
    "mylist[-2:]"
   ]
  },
  {
   "cell_type": "code",
   "execution_count": 11,
   "id": "expressed-shield",
   "metadata": {},
   "outputs": [
    {
     "data": {
      "text/plain": [
       "[5]"
      ]
     },
     "execution_count": 11,
     "metadata": {},
     "output_type": "execute_result"
    }
   ],
   "source": [
    "mylist[3:4] # a pesar de que es un solo elemento, retorna una lista"
   ]
  },
  {
   "cell_type": "code",
   "execution_count": 12,
   "id": "central-petersburg",
   "metadata": {},
   "outputs": [
    {
     "data": {
      "text/plain": [
       "5"
      ]
     },
     "execution_count": 12,
     "metadata": {},
     "output_type": "execute_result"
    }
   ],
   "source": [
    "mylist[3]"
   ]
  },
  {
   "cell_type": "code",
   "execution_count": 13,
   "id": "piano-recorder",
   "metadata": {},
   "outputs": [
    {
     "data": {
      "text/plain": [
       "[]"
      ]
     },
     "execution_count": 13,
     "metadata": {},
     "output_type": "execute_result"
    }
   ],
   "source": [
    "mylist[3:3]"
   ]
  },
  {
   "cell_type": "code",
   "execution_count": 14,
   "id": "another-editor",
   "metadata": {},
   "outputs": [
    {
     "data": {
      "text/plain": [
       "[4, 'abc', 8, 0]"
      ]
     },
     "execution_count": 14,
     "metadata": {},
     "output_type": "execute_result"
    }
   ],
   "source": [
    "mylist[::2]"
   ]
  },
  {
   "cell_type": "code",
   "execution_count": 15,
   "id": "caring-alabama",
   "metadata": {},
   "outputs": [
    {
     "data": {
      "text/plain": [
       "[3.0, 5, -3, 2]"
      ]
     },
     "execution_count": 15,
     "metadata": {},
     "output_type": "execute_result"
    }
   ],
   "source": [
    "mylist[1::2]"
   ]
  },
  {
   "cell_type": "code",
   "execution_count": 16,
   "id": "floral-pharmaceutical",
   "metadata": {},
   "outputs": [
    {
     "data": {
      "text/plain": [
       "[4, 3.0, 'abc', 5, 8, -3, 0, 2]"
      ]
     },
     "execution_count": 16,
     "metadata": {},
     "output_type": "execute_result"
    }
   ],
   "source": [
    "otralista = mylist\n",
    "otralista"
   ]
  },
  {
   "cell_type": "code",
   "execution_count": 17,
   "id": "judicial-chance",
   "metadata": {},
   "outputs": [
    {
     "data": {
      "text/plain": [
       "[99999, 3.0, 'abc', 5, 8, -3, 0, 2]"
      ]
     },
     "execution_count": 17,
     "metadata": {},
     "output_type": "execute_result"
    }
   ],
   "source": [
    "otralista[0] = 99999\n",
    "otralista"
   ]
  },
  {
   "cell_type": "code",
   "execution_count": 18,
   "id": "varying-airport",
   "metadata": {},
   "outputs": [
    {
     "data": {
      "text/plain": [
       "[99999, 3.0, 'abc', 5, 8, -3, 0, 2]"
      ]
     },
     "execution_count": 18,
     "metadata": {},
     "output_type": "execute_result"
    }
   ],
   "source": [
    "mylist"
   ]
  },
  {
   "cell_type": "code",
   "execution_count": 19,
   "id": "still-service",
   "metadata": {},
   "outputs": [
    {
     "name": "stdout",
     "output_type": "stream",
     "text": [
      "139806897180480\n",
      "139806897180480\n"
     ]
    }
   ],
   "source": [
    "print(id(otralista), id(mylist),sep='\\n')"
   ]
  },
  {
   "cell_type": "code",
   "execution_count": 20,
   "id": "trained-settle",
   "metadata": {},
   "outputs": [
    {
     "data": {
      "text/plain": [
       "True"
      ]
     },
     "execution_count": 20,
     "metadata": {},
     "output_type": "execute_result"
    }
   ],
   "source": [
    "otralista is mylist"
   ]
  },
  {
   "cell_type": "code",
   "execution_count": 21,
   "id": "convenient-ballet",
   "metadata": {},
   "outputs": [
    {
     "name": "stdout",
     "output_type": "stream",
     "text": [
      "copialista =  [99999, 3.0, 'abc', 5, 8, -3, 0, 'copia independiente de la original']\n",
      "mylist     =  [99999, 3.0, 'abc', 5, 8, -3, 0, 2]\n",
      "otralista  =  [99999, 3.0, 'abc', 5, 8, -3, 0, 2]\n",
      "copialista es 139806896827840\n",
      "mylist     es 139806897180480\n",
      "otralista  es 139806897180480\n"
     ]
    }
   ],
   "source": [
    "copialista = mylist.copy()\n",
    "copialista[-1] = 'copia independiente de la original'\n",
    "print('copialista = ', copialista)\n",
    "print('mylist     = ', mylist)\n",
    "print('otralista  = ', mylist)\n",
    "print(f'copialista es {id(copialista)}',  f'mylist     es {id(mylist)}', f'otralista  es {id(otralista)}',  sep='\\n')"
   ]
  },
  {
   "cell_type": "code",
   "execution_count": 22,
   "id": "royal-seventh",
   "metadata": {},
   "outputs": [],
   "source": [
    "fruit = ['apple','orange','grape','kiwi']"
   ]
  },
  {
   "cell_type": "code",
   "execution_count": 23,
   "id": "rental-gamma",
   "metadata": {},
   "outputs": [
    {
     "data": {
      "text/plain": [
       "['apple', 'orange', 'grape', 'kiwi', 'apple']"
      ]
     },
     "execution_count": 23,
     "metadata": {},
     "output_type": "execute_result"
    }
   ],
   "source": [
    "fruit.append('apple')\n",
    "fruit"
   ]
  },
  {
   "cell_type": "code",
   "execution_count": 24,
   "id": "complicated-irish",
   "metadata": {},
   "outputs": [
    {
     "data": {
      "text/plain": [
       "['apple', 'orange', 'grape', 'kiwi', 'apple', 'mango', 'banana', 'kiwi']"
      ]
     },
     "execution_count": 24,
     "metadata": {},
     "output_type": "execute_result"
    }
   ],
   "source": [
    "fruit.extend(['mango','banana','kiwi'])\n",
    "fruit"
   ]
  },
  {
   "cell_type": "code",
   "execution_count": 25,
   "id": "dying-pennsylvania",
   "metadata": {},
   "outputs": [
    {
     "data": {
      "text/plain": [
       "['apple',\n",
       " 'orange',\n",
       " 'guava',\n",
       " 'grape',\n",
       " 'kiwi',\n",
       " 'apple',\n",
       " 'mango',\n",
       " 'banana',\n",
       " 'kiwi']"
      ]
     },
     "execution_count": 25,
     "metadata": {},
     "output_type": "execute_result"
    }
   ],
   "source": [
    "fruit.insert(2,'guava')\n",
    "fruit"
   ]
  },
  {
   "cell_type": "code",
   "execution_count": 26,
   "id": "personalized-celebrity",
   "metadata": {},
   "outputs": [
    {
     "data": {
      "text/plain": [
       "9"
      ]
     },
     "execution_count": 26,
     "metadata": {},
     "output_type": "execute_result"
    }
   ],
   "source": [
    "len(fruit)"
   ]
  },
  {
   "cell_type": "code",
   "execution_count": 27,
   "id": "celtic-wesley",
   "metadata": {},
   "outputs": [
    {
     "data": {
      "text/plain": [
       "['apple', 'orange', 'guava', 'grape', 'apple', 'mango', 'banana', 'kiwi']"
      ]
     },
     "execution_count": 27,
     "metadata": {},
     "output_type": "execute_result"
    }
   ],
   "source": [
    "fruit.remove('kiwi')\n",
    "fruit"
   ]
  },
  {
   "cell_type": "code",
   "execution_count": 28,
   "id": "comfortable-mother",
   "metadata": {},
   "outputs": [
    {
     "data": {
      "text/plain": [
       "['apple', 'orange', 'guava', 'grape', 'apple', 'mango', 'banana']"
      ]
     },
     "execution_count": 28,
     "metadata": {},
     "output_type": "execute_result"
    }
   ],
   "source": [
    "fruit.pop()\n",
    "fruit"
   ]
  },
  {
   "cell_type": "code",
   "execution_count": 29,
   "id": "sustainable-remedy",
   "metadata": {},
   "outputs": [
    {
     "data": {
      "text/plain": [
       "3"
      ]
     },
     "execution_count": 29,
     "metadata": {},
     "output_type": "execute_result"
    }
   ],
   "source": [
    "fruit.index('grape')"
   ]
  },
  {
   "cell_type": "code",
   "execution_count": 30,
   "id": "fatty-bedroom",
   "metadata": {},
   "outputs": [
    {
     "data": {
      "text/plain": [
       "2"
      ]
     },
     "execution_count": 30,
     "metadata": {},
     "output_type": "execute_result"
    }
   ],
   "source": [
    "fruit.count('apple')"
   ]
  },
  {
   "cell_type": "code",
   "execution_count": 31,
   "id": "outside-neighborhood",
   "metadata": {},
   "outputs": [
    {
     "data": {
      "text/plain": [
       "['apple', 'apple', 'banana', 'grape', 'guava', 'mango', 'orange']"
      ]
     },
     "execution_count": 31,
     "metadata": {},
     "output_type": "execute_result"
    }
   ],
   "source": [
    "fruit.sort()\n",
    "fruit"
   ]
  },
  {
   "cell_type": "code",
   "execution_count": 32,
   "id": "coral-cache",
   "metadata": {},
   "outputs": [
    {
     "data": {
      "text/plain": [
       "['orange', 'mango', 'guava', 'grape', 'banana', 'apple', 'apple']"
      ]
     },
     "execution_count": 32,
     "metadata": {},
     "output_type": "execute_result"
    }
   ],
   "source": [
    "fruit.reverse()\n",
    "fruit"
   ]
  },
  {
   "cell_type": "code",
   "execution_count": 33,
   "id": "incomplete-billy",
   "metadata": {},
   "outputs": [],
   "source": [
    "fruit.sort(reverse=True)"
   ]
  },
  {
   "cell_type": "code",
   "execution_count": 34,
   "id": "double-apartment",
   "metadata": {},
   "outputs": [],
   "source": [
    "seasons = ('Spring', 'Summer','Autumn','Winter')"
   ]
  },
  {
   "cell_type": "code",
   "execution_count": 35,
   "id": "transsexual-treasury",
   "metadata": {},
   "outputs": [
    {
     "data": {
      "text/plain": [
       "'Autumn'"
      ]
     },
     "execution_count": 35,
     "metadata": {},
     "output_type": "execute_result"
    }
   ],
   "source": [
    "seasons[2]"
   ]
  },
  {
   "cell_type": "code",
   "execution_count": 36,
   "id": "coordinate-jordan",
   "metadata": {},
   "outputs": [
    {
     "data": {
      "text/plain": [
       "'Summer'"
      ]
     },
     "execution_count": 36,
     "metadata": {},
     "output_type": "execute_result"
    }
   ],
   "source": [
    "seasons[-3]"
   ]
  },
  {
   "cell_type": "code",
   "execution_count": 37,
   "id": "plain-programmer",
   "metadata": {
    "tags": [
     "raises-exception"
    ]
   },
   "outputs": [
    {
     "ename": "TypeError",
     "evalue": "'tuple' object does not support item assignment",
     "output_type": "error",
     "traceback": [
      "\u001b[0;31m---------------------------------------------------------------------------\u001b[0m",
      "\u001b[0;31mTypeError\u001b[0m                                 Traceback (most recent call last)",
      "\u001b[0;32m<ipython-input-37-3a773b804719>\u001b[0m in \u001b[0;36m<module>\u001b[0;34m\u001b[0m\n\u001b[0;32m----> 1\u001b[0;31m \u001b[0mseasons\u001b[0m\u001b[0;34m[\u001b[0m\u001b[0;36m2\u001b[0m\u001b[0;34m]\u001b[0m \u001b[0;34m=\u001b[0m \u001b[0;34m'Fall'\u001b[0m\u001b[0;34m\u001b[0m\u001b[0;34m\u001b[0m\u001b[0m\n\u001b[0m",
      "\u001b[0;31mTypeError\u001b[0m: 'tuple' object does not support item assignment"
     ]
    }
   ],
   "source": [
    "seasons[2] = 'Fall'"
   ]
  },
  {
   "cell_type": "code",
   "execution_count": 38,
   "id": "concrete-bacon",
   "metadata": {},
   "outputs": [
    {
     "data": {
      "text/plain": [
       "('Jan',\n",
       " 'Feb',\n",
       " 'Mar',\n",
       " 'Apr',\n",
       " 'May',\n",
       " 'Jun',\n",
       " 'Jul',\n",
       " 'Aug',\n",
       " 'Sep',\n",
       " 'Oct',\n",
       " 'Nov',\n",
       " 'Dec')"
      ]
     },
     "execution_count": 38,
     "metadata": {},
     "output_type": "execute_result"
    }
   ],
   "source": [
    "M = ('Jan', 'Feb', 'Mar', 'Apr', 'May', 'Jun', \\\n",
    "'Jul','Aug','Sep','Oct','Nov','Dec')\n",
    "M"
   ]
  },
  {
   "cell_type": "code",
   "execution_count": 39,
   "id": "english-priest",
   "metadata": {},
   "outputs": [
    {
     "data": {
      "text/plain": [
       "('Apr', 'May', 'Jun')"
      ]
     },
     "execution_count": 39,
     "metadata": {},
     "output_type": "execute_result"
    }
   ],
   "source": [
    "# To split the months into quarters:\n",
    "Q1, Q2, Q3, Q4 = M[:3], M[3:6], M[6:9], M[9:]\n",
    "Q2"
   ]
  },
  {
   "cell_type": "code",
   "execution_count": 40,
   "id": "bronze-break",
   "metadata": {},
   "outputs": [],
   "source": [
    "solo = (55, )"
   ]
  },
  {
   "cell_type": "code",
   "execution_count": 41,
   "id": "general-present",
   "metadata": {},
   "outputs": [
    {
     "data": {
      "text/plain": [
       "tuple"
      ]
     },
     "execution_count": 41,
     "metadata": {},
     "output_type": "execute_result"
    }
   ],
   "source": [
    "type(solo)"
   ]
  },
  {
   "cell_type": "code",
   "execution_count": 42,
   "id": "surface-impossible",
   "metadata": {},
   "outputs": [],
   "source": [
    "M2 = {2, 4, 6, 8, 10, 12, 14}\n",
    "M3 = set([3, 6, 9, 12, 15])"
   ]
  },
  {
   "cell_type": "code",
   "execution_count": 43,
   "id": "gorgeous-reunion",
   "metadata": {},
   "outputs": [
    {
     "data": {
      "text/plain": [
       "{2, 4, 6, 8, 10, 12, 14, 16}"
      ]
     },
     "execution_count": 43,
     "metadata": {},
     "output_type": "execute_result"
    }
   ],
   "source": [
    "M2.add(16)\n",
    "M2"
   ]
  },
  {
   "cell_type": "code",
   "execution_count": 44,
   "id": "apart-candle",
   "metadata": {},
   "outputs": [
    {
     "data": {
      "text/plain": [
       "{3, 6, 9, 12, 15, 18, 21}"
      ]
     },
     "execution_count": 44,
     "metadata": {},
     "output_type": "execute_result"
    }
   ],
   "source": [
    "M3.update([18, 21])\n",
    "M3"
   ]
  },
  {
   "cell_type": "code",
   "execution_count": 45,
   "id": "cross-citizenship",
   "metadata": {},
   "outputs": [
    {
     "data": {
      "text/plain": [
       "{2, 4, 6, 8, 10, 12, 14, 16}"
      ]
     },
     "execution_count": 45,
     "metadata": {},
     "output_type": "execute_result"
    }
   ],
   "source": [
    "M2c = M2.copy()\n",
    "M2c"
   ]
  },
  {
   "cell_type": "code",
   "execution_count": 46,
   "id": "interpreted-strengthening",
   "metadata": {},
   "outputs": [
    {
     "data": {
      "text/plain": [
       "2"
      ]
     },
     "execution_count": 46,
     "metadata": {},
     "output_type": "execute_result"
    }
   ],
   "source": [
    "M2c.pop()"
   ]
  },
  {
   "cell_type": "code",
   "execution_count": 47,
   "id": "taken-longitude",
   "metadata": {},
   "outputs": [
    {
     "data": {
      "text/plain": [
       "{4, 6, 8, 10, 12, 14, 16}"
      ]
     },
     "execution_count": 47,
     "metadata": {},
     "output_type": "execute_result"
    }
   ],
   "source": [
    "M2c"
   ]
  },
  {
   "cell_type": "code",
   "execution_count": 48,
   "id": "pointed-phrase",
   "metadata": {},
   "outputs": [
    {
     "data": {
      "text/plain": [
       "{4, 6, 8, 12, 14, 16}"
      ]
     },
     "execution_count": 48,
     "metadata": {},
     "output_type": "execute_result"
    }
   ],
   "source": [
    "M2c.discard(10)\n",
    "M2c"
   ]
  },
  {
   "cell_type": "code",
   "execution_count": 49,
   "id": "rational-knitting",
   "metadata": {},
   "outputs": [
    {
     "data": {
      "text/plain": [
       "{2, 3, 4, 6, 8, 9, 10, 12, 14, 15, 16, 18, 21}"
      ]
     },
     "execution_count": 49,
     "metadata": {},
     "output_type": "execute_result"
    }
   ],
   "source": [
    "M2.union(M3)"
   ]
  },
  {
   "cell_type": "code",
   "execution_count": 50,
   "id": "rolled-hawaiian",
   "metadata": {},
   "outputs": [
    {
     "data": {
      "text/plain": [
       "{6, 12}"
      ]
     },
     "execution_count": 50,
     "metadata": {},
     "output_type": "execute_result"
    }
   ],
   "source": [
    "M3.intersection(M2)"
   ]
  },
  {
   "cell_type": "code",
   "execution_count": 51,
   "id": "sublime-cancer",
   "metadata": {},
   "outputs": [
    {
     "data": {
      "text/plain": [
       "{2, 4, 8, 10, 14, 16}"
      ]
     },
     "execution_count": 51,
     "metadata": {},
     "output_type": "execute_result"
    }
   ],
   "source": [
    "M2.difference(M3)"
   ]
  },
  {
   "cell_type": "code",
   "execution_count": 52,
   "id": "ambient-fetish",
   "metadata": {},
   "outputs": [
    {
     "data": {
      "text/plain": [
       "False"
      ]
     },
     "execution_count": 52,
     "metadata": {},
     "output_type": "execute_result"
    }
   ],
   "source": [
    "M2.isdisjoint(M3)"
   ]
  },
  {
   "cell_type": "code",
   "execution_count": 53,
   "id": "civil-muscle",
   "metadata": {},
   "outputs": [
    {
     "data": {
      "text/plain": [
       "{'name': 'John Snow', 'age': 24, 'home': 'Winterfell'}"
      ]
     },
     "execution_count": 53,
     "metadata": {},
     "output_type": "execute_result"
    }
   ],
   "source": [
    "king = {'name': 'John Snow',\n",
    "        'age': 24,\n",
    "        'home': 'Winterfell'}\n",
    "\n",
    "king"
   ]
  },
  {
   "cell_type": "code",
   "execution_count": 54,
   "id": "intelligent-chess",
   "metadata": {},
   "outputs": [
    {
     "data": {
      "text/plain": [
       "{'name': 'Samwell Tarly', 'age': 22}"
      ]
     },
     "execution_count": 54,
     "metadata": {},
     "output_type": "execute_result"
    }
   ],
   "source": [
    "friend = dict(name='Samwell Tarly', age=22)\n",
    "friend"
   ]
  },
  {
   "cell_type": "code",
   "execution_count": 55,
   "id": "expensive-biography",
   "metadata": {},
   "outputs": [
    {
     "data": {
      "text/plain": [
       "24"
      ]
     },
     "execution_count": 55,
     "metadata": {},
     "output_type": "execute_result"
    }
   ],
   "source": [
    "king['age']"
   ]
  },
  {
   "cell_type": "code",
   "execution_count": 56,
   "id": "descending-clinton",
   "metadata": {},
   "outputs": [
    {
     "data": {
      "text/plain": [
       "{'name': 'John Snow', 'age': 24, 'home': 'Castle Black'}"
      ]
     },
     "execution_count": 56,
     "metadata": {},
     "output_type": "execute_result"
    }
   ],
   "source": [
    "king['home'] = 'Castle Black'\n",
    "king"
   ]
  },
  {
   "cell_type": "code",
   "execution_count": 57,
   "id": "common-residence",
   "metadata": {},
   "outputs": [
    {
     "data": {
      "text/plain": [
       "{'name': 'John Snow',\n",
       " 'age': 24,\n",
       " 'home': 'Castle Black',\n",
       " 'lover': 'Ygritte',\n",
       " 'knows': None}"
      ]
     },
     "execution_count": 57,
     "metadata": {},
     "output_type": "execute_result"
    }
   ],
   "source": [
    "king['lover'] = 'Ygritte'\n",
    "king['knows'] = None\n",
    "king"
   ]
  },
  {
   "cell_type": "code",
   "execution_count": 58,
   "id": "assisted-preserve",
   "metadata": {},
   "outputs": [
    {
     "data": {
      "text/plain": [
       "{'name': 'John Snow', 'age': 24, 'home': 'Castle Black', 'knows': None}"
      ]
     },
     "execution_count": 58,
     "metadata": {},
     "output_type": "execute_result"
    }
   ],
   "source": [
    "del king['lover'] # killed by Olly!\n",
    "king"
   ]
  },
  {
   "cell_type": "code",
   "execution_count": 59,
   "id": "excessive-rochester",
   "metadata": {},
   "outputs": [
    {
     "name": "stdout",
     "output_type": "stream",
     "text": [
      "Daenerys Stormborn of the House Targaryen, First of Her Name,\n",
      "The Unburnt, Queen of the Andals and the First Men, Khaleesi of the Great Grass Sea,\n",
      "Breaker of Chains, and Mother of Dragons\n"
     ]
    }
   ],
   "source": [
    "king['lover'] = \"\"\"Daenerys Stormborn of the House Targaryen, First of Her Name,\n",
    "The Unburnt, Queen of the Andals and the First Men, Khaleesi of the Great Grass Sea,\n",
    "Breaker of Chains, and Mother of Dragons\"\"\"\n",
    "\n",
    "print(king['lover'])"
   ]
  }
 ],
 "metadata": {
  "jupytext": {
   "formats": "md:myst",
   "text_representation": {
    "extension": ".md",
    "format_name": "myst"
   }
  },
  "kernelspec": {
   "display_name": "Python 3",
   "language": "python",
   "name": "python3"
  },
  "language_info": {
   "codemirror_mode": {
    "name": "ipython",
    "version": 3
   },
   "file_extension": ".py",
   "mimetype": "text/x-python",
   "name": "python",
   "nbconvert_exporter": "python",
   "pygments_lexer": "ipython3",
   "version": "3.8.8"
  },
  "source_map": [
   11,
   28,
   31,
   37,
   40,
   44,
   48,
   50,
   54,
   57,
   63,
   67,
   71,
   75,
   79,
   83,
   87,
   91,
   95,
   99,
   101,
   107,
   112,
   117,
   119,
   123,
   127,
   129,
   133,
   140,
   144,
   146,
   150,
   153,
   157,
   160,
   166,
   169,
   175,
   177,
   183,
   186,
   192,
   195,
   201,
   203,
   209,
   211,
   217,
   220,
   225,
   230,
   232,
   238,
   240,
   246,
   250,
   252,
   258,
   261,
   265,
   271,
   275,
   279,
   283,
   285,
   292,
   295,
   299,
   302,
   306,
   309,
   313,
   316,
   321,
   325,
   327,
   331,
   334,
   338,
   340,
   346,
   348,
   352,
   354,
   358,
   360,
   367,
   373,
   379,
   382,
   386,
   388,
   392,
   395,
   399,
   403,
   407,
   410,
   414
  ]
 },
 "nbformat": 4,
 "nbformat_minor": 5
}