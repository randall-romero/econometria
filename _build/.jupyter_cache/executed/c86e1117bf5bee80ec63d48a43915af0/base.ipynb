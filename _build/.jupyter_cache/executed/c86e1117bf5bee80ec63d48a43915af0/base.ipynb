{
 "cells": [
  {
   "cell_type": "code",
   "execution_count": 1,
   "id": "radio-february",
   "metadata": {},
   "outputs": [
    {
     "name": "stderr",
     "output_type": "stream",
     "text": [
      "── \u001b[1mAttaching packages\u001b[22m ──────────────────────────────────────────── fpp3 0.4.0 ──\n",
      "\n"
     ]
    },
    {
     "name": "stderr",
     "output_type": "stream",
     "text": [
      "\u001b[32m✔\u001b[39m \u001b[34mtibble     \u001b[39m 3.1.0      \u001b[32m✔\u001b[39m \u001b[34mtsibble    \u001b[39m 1.0.0 \n",
      "\u001b[32m✔\u001b[39m \u001b[34mdplyr      \u001b[39m 1.0.5      \u001b[32m✔\u001b[39m \u001b[34mtsibbledata\u001b[39m 0.3.0 \n",
      "\u001b[32m✔\u001b[39m \u001b[34mtidyr      \u001b[39m 1.1.3      \u001b[32m✔\u001b[39m \u001b[34mfeasts     \u001b[39m 0.1.7 \n",
      "\u001b[32m✔\u001b[39m \u001b[34mlubridate  \u001b[39m 1.7.10     \u001b[32m✔\u001b[39m \u001b[34mfable      \u001b[39m 0.3.0 \n",
      "\u001b[32m✔\u001b[39m \u001b[34mggplot2    \u001b[39m 3.3.3      \n",
      "\n"
     ]
    },
    {
     "name": "stderr",
     "output_type": "stream",
     "text": [
      "── \u001b[1mConflicts\u001b[22m ───────────────────────────────────────────────── fpp3_conflicts ──\n",
      "\u001b[31m✖\u001b[39m \u001b[34mlubridate\u001b[39m::\u001b[32mdate()\u001b[39m    masks \u001b[34mbase\u001b[39m::date()\n",
      "\u001b[31m✖\u001b[39m \u001b[34mdplyr\u001b[39m::\u001b[32mfilter()\u001b[39m      masks \u001b[34mstats\u001b[39m::filter()\n",
      "\u001b[31m✖\u001b[39m \u001b[34mtsibble\u001b[39m::\u001b[32mintersect()\u001b[39m masks \u001b[34mbase\u001b[39m::intersect()\n",
      "\u001b[31m✖\u001b[39m \u001b[34mtsibble\u001b[39m::\u001b[32minterval()\u001b[39m  masks \u001b[34mlubridate\u001b[39m::interval()\n",
      "\u001b[31m✖\u001b[39m \u001b[34mdplyr\u001b[39m::\u001b[32mlag()\u001b[39m         masks \u001b[34mstats\u001b[39m::lag()\n",
      "\u001b[31m✖\u001b[39m \u001b[34mtsibble\u001b[39m::\u001b[32msetdiff()\u001b[39m   masks \u001b[34mbase\u001b[39m::setdiff()\n",
      "\u001b[31m✖\u001b[39m \u001b[34mtsibble\u001b[39m::\u001b[32munion()\u001b[39m     masks \u001b[34mbase\u001b[39m::union()\n",
      "\n"
     ]
    }
   ],
   "source": [
    "library(readr)\n",
    "library(fpp3)\n",
    "#library(ggplot2)"
   ]
  },
  {
   "cell_type": "code",
   "execution_count": 2,
   "id": "muslim-mercury",
   "metadata": {},
   "outputs": [
    {
     "data": {
      "text/html": [
       "'/home/randall/Documents/ec4301/ec4301/r-code'"
      ],
      "text/latex": [
       "'/home/randall/Documents/ec4301/ec4301/r-code'"
      ],
      "text/markdown": [
       "'/home/randall/Documents/ec4301/ec4301/r-code'"
      ],
      "text/plain": [
       "[1] \"/home/randall/Documents/ec4301/ec4301/r-code\""
      ]
     },
     "metadata": {},
     "output_type": "display_data"
    }
   ],
   "source": [
    "getwd()"
   ]
  }
 ],
 "metadata": {
  "jupytext": {
   "text_representation": {
    "extension": ".md",
    "format_name": "myst",
    "format_version": 0.13,
    "jupytext_version": "1.10.3"
   }
  },
  "kernelspec": {
   "display_name": "R",
   "language": "R",
   "name": "ir"
  },
  "language_info": {
   "codemirror_mode": "r",
   "file_extension": ".r",
   "mimetype": "text/x-r-source",
   "name": "R",
   "pygments_lexer": "r",
   "version": "4.0.4"
  },
  "source_map": [
   12,
   21,
   25,
   29
  ]
 },
 "nbformat": 4,
 "nbformat_minor": 5
}