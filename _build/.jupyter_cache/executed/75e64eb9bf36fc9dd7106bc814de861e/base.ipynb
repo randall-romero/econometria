{
 "cells": [
  {
   "cell_type": "code",
   "execution_count": 1,
   "metadata": {
    "collapsed": false,
    "pycharm": {
     "name": "#%%\n"
    }
   },
   "outputs": [],
   "source": [
    "import plotly.express as px\n",
    "import numpy as np\n",
    "\n",
    "import plotly.io as pio\n",
    "pio.renderers.default = \"browser\""
   ]
  },
  {
   "cell_type": "code",
   "execution_count": 2,
   "metadata": {
    "collapsed": false,
    "pycharm": {
     "name": "#%%\n"
    }
   },
   "outputs": [],
   "source": [
    "𝜃 = 30\n",
    "t = np.arange(48)\n",
    "\n",
    "px.scatter_polar(r=0.95**t, theta=t*𝜃,\n",
    "                 animation_frame=t,\n",
    "                 start_angle=0,\n",
    "                 range_r=[0, 1.1],\n",
    "                 direction='counterclockwise')"
   ]
  },
  {
   "cell_type": "code",
   "execution_count": 3,
   "metadata": {
    "collapsed": false,
    "pycharm": {
     "name": "#%%\n"
    }
   },
   "outputs": [],
   "source": [
    "px.scatter_polar(r=1.03**t, theta=t*𝜃,\n",
    "                 animation_frame=t,\n",
    "                 start_angle=0,\n",
    "                 range_r=[0, 4.5],\n",
    "                 direction='counterclockwise')"
   ]
  },
  {
   "cell_type": "code",
   "execution_count": 4,
   "metadata": {
    "collapsed": false,
    "pycharm": {
     "name": "#%%\n"
    }
   },
   "outputs": [],
   "source": [
    "px.scatter_polar(r=1.0**t, theta=t*𝜃,\n",
    "                 animation_frame=t,\n",
    "                 start_angle=0,\n",
    "                 range_r=[0, 1.5],\n",
    "                 direction='counterclockwise')"
   ]
  }
 ],
 "metadata": {
  "kernelspec": {
   "display_name": "Python 3",
   "language": "python",
   "name": "python3"
  },
  "language_info": {
   "codemirror_mode": {
    "name": "ipython",
    "version": 3
   },
   "file_extension": ".py",
   "mimetype": "text/x-python",
   "name": "python",
   "nbconvert_exporter": "python",
   "pygments_lexer": "ipython3",
   "version": "3.9.7"
  }
 },
 "nbformat": 4,
 "nbformat_minor": 0
}