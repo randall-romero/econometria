{
 "cells": [
  {
   "cell_type": "code",
   "execution_count": 1,
   "id": "183abb72",
   "metadata": {
    "tags": [
     "hide-input"
    ]
   },
   "outputs": [
    {
     "data": {
      "text/html": [
       "<div>\n",
       "<style scoped>\n",
       "    .dataframe tbody tr th:only-of-type {\n",
       "        vertical-align: middle;\n",
       "    }\n",
       "\n",
       "    .dataframe tbody tr th {\n",
       "        vertical-align: top;\n",
       "    }\n",
       "\n",
       "    .dataframe thead th {\n",
       "        text-align: right;\n",
       "    }\n",
       "</style>\n",
       "<table border=\"1\" class=\"dataframe\">\n",
       "  <thead>\n",
       "    <tr style=\"text-align: right;\">\n",
       "      <th></th>\n",
       "      <th>IMAE</th>\n",
       "      <th>IPC</th>\n",
       "      <th>M1</th>\n",
       "      <th>Tbasica</th>\n",
       "    </tr>\n",
       "    <tr>\n",
       "      <th>fecha</th>\n",
       "      <th></th>\n",
       "      <th></th>\n",
       "      <th></th>\n",
       "      <th></th>\n",
       "    </tr>\n",
       "  </thead>\n",
       "  <tbody>\n",
       "    <tr>\n",
       "      <th>2020-07</th>\n",
       "      <td>110.987099</td>\n",
       "      <td>106.127077</td>\n",
       "      <td>5.166828e+06</td>\n",
       "      <td>3.708065</td>\n",
       "    </tr>\n",
       "    <tr>\n",
       "      <th>2020-08</th>\n",
       "      <td>110.584336</td>\n",
       "      <td>106.122788</td>\n",
       "      <td>5.206881e+06</td>\n",
       "      <td>3.635484</td>\n",
       "    </tr>\n",
       "    <tr>\n",
       "      <th>2020-09</th>\n",
       "      <td>113.705524</td>\n",
       "      <td>106.411930</td>\n",
       "      <td>5.206211e+06</td>\n",
       "      <td>3.498333</td>\n",
       "    </tr>\n",
       "    <tr>\n",
       "      <th>2020-10</th>\n",
       "      <td>118.613059</td>\n",
       "      <td>106.496597</td>\n",
       "      <td>5.061595e+06</td>\n",
       "      <td>3.293548</td>\n",
       "    </tr>\n",
       "    <tr>\n",
       "      <th>2020-11</th>\n",
       "      <td>120.969090</td>\n",
       "      <td>106.498184</td>\n",
       "      <td>4.913216e+06</td>\n",
       "      <td>3.346667</td>\n",
       "    </tr>\n",
       "  </tbody>\n",
       "</table>\n",
       "</div>"
      ],
      "text/plain": [
       "               IMAE         IPC            M1   Tbasica\n",
       "fecha                                                  \n",
       "2020-07  110.987099  106.127077  5.166828e+06  3.708065\n",
       "2020-08  110.584336  106.122788  5.206881e+06  3.635484\n",
       "2020-09  113.705524  106.411930  5.206211e+06  3.498333\n",
       "2020-10  118.613059  106.496597  5.061595e+06  3.293548\n",
       "2020-11  120.969090  106.498184  4.913216e+06  3.346667"
      ]
     },
     "execution_count": 1,
     "metadata": {},
     "output_type": "execute_result"
    }
   ],
   "source": [
    "import bccr\n",
    "import numpy as np\n",
    "import matplotlib.pyplot as plt\n",
    "plt.style.use('seaborn')\n",
    "import matplotlib.gridspec as gridspec\n",
    "\n",
    "import statsmodels.api as sm\n",
    "from statsmodels.formula.api import ols\n",
    "\n",
    "\n",
    "datos = bccr.SW(IMAE=35449, IPC=25482, M1=1445, Tbasica=423, func=np.mean, fillna='ffill').dropna()\n",
    "datos.tail()"
   ]
  },
  {
   "cell_type": "code",
   "execution_count": 2,
   "id": "2d339827",
   "metadata": {
    "tags": [
     "hide-input"
    ]
   },
   "outputs": [
    {
     "data": {
      "text/html": [
       "<table class=\"simpletable\">\n",
       "<caption>OLS Regression Results</caption>\n",
       "<tr>\n",
       "  <th>Dep. Variable:</th>           <td>M1</td>        <th>  R-squared:         </th> <td>   0.994</td> \n",
       "</tr>\n",
       "<tr>\n",
       "  <th>Model:</th>                   <td>OLS</td>       <th>  Adj. R-squared:    </th> <td>   0.994</td> \n",
       "</tr>\n",
       "<tr>\n",
       "  <th>Method:</th>             <td>Least Squares</td>  <th>  F-statistic:       </th> <td>1.944e+04</td>\n",
       "</tr>\n",
       "<tr>\n",
       "  <th>Date:</th>             <td>Sun, 24 Apr 2022</td> <th>  Prob (F-statistic):</th>  <td>  0.00</td>  \n",
       "</tr>\n",
       "<tr>\n",
       "  <th>Time:</th>                 <td>16:23:49</td>     <th>  Log-Likelihood:    </th> <td>  335.36</td> \n",
       "</tr>\n",
       "<tr>\n",
       "  <th>No. Observations:</th>      <td>   359</td>      <th>  AIC:               </th> <td>  -662.7</td> \n",
       "</tr>\n",
       "<tr>\n",
       "  <th>Df Residuals:</th>          <td>   355</td>      <th>  BIC:               </th> <td>  -647.2</td> \n",
       "</tr>\n",
       "<tr>\n",
       "  <th>Df Model:</th>              <td>     3</td>      <th>                     </th>     <td> </td>    \n",
       "</tr>\n",
       "<tr>\n",
       "  <th>Covariance Type:</th>      <td>nonrobust</td>    <th>                     </th>     <td> </td>    \n",
       "</tr>\n",
       "</table>\n",
       "<table class=\"simpletable\">\n",
       "<tr>\n",
       "      <td></td>         <th>coef</th>     <th>std err</th>      <th>t</th>      <th>P>|t|</th>  <th>[0.025</th>    <th>0.975]</th>  \n",
       "</tr>\n",
       "<tr>\n",
       "  <th>Intercept</th> <td>    6.3294</td> <td>    0.298</td> <td>   21.263</td> <td> 0.000</td> <td>    5.744</td> <td>    6.915</td>\n",
       "</tr>\n",
       "<tr>\n",
       "  <th>IMAE</th>      <td>    1.0242</td> <td>    0.079</td> <td>   13.044</td> <td> 0.000</td> <td>    0.870</td> <td>    1.179</td>\n",
       "</tr>\n",
       "<tr>\n",
       "  <th>IPC</th>       <td>    0.9268</td> <td>    0.028</td> <td>   33.508</td> <td> 0.000</td> <td>    0.872</td> <td>    0.981</td>\n",
       "</tr>\n",
       "<tr>\n",
       "  <th>Tbasica</th>   <td>   -0.3519</td> <td>    0.022</td> <td>  -15.919</td> <td> 0.000</td> <td>   -0.395</td> <td>   -0.308</td>\n",
       "</tr>\n",
       "</table>\n",
       "<table class=\"simpletable\">\n",
       "<tr>\n",
       "  <th>Omnibus:</th>       <td>115.244</td> <th>  Durbin-Watson:     </th> <td>   0.450</td> \n",
       "</tr>\n",
       "<tr>\n",
       "  <th>Prob(Omnibus):</th> <td> 0.000</td>  <th>  Jarque-Bera (JB):  </th> <td> 463.868</td> \n",
       "</tr>\n",
       "<tr>\n",
       "  <th>Skew:</th>          <td> 1.349</td>  <th>  Prob(JB):          </th> <td>1.87e-101</td>\n",
       "</tr>\n",
       "<tr>\n",
       "  <th>Kurtosis:</th>      <td> 7.872</td>  <th>  Cond. No.          </th> <td>    390.</td> \n",
       "</tr>\n",
       "</table><br/><br/>Notes:<br/>[1] Standard Errors assume that the covariance matrix of the errors is correctly specified."
      ],
      "text/plain": [
       "<class 'statsmodels.iolib.summary.Summary'>\n",
       "\"\"\"\n",
       "                            OLS Regression Results                            \n",
       "==============================================================================\n",
       "Dep. Variable:                     M1   R-squared:                       0.994\n",
       "Model:                            OLS   Adj. R-squared:                  0.994\n",
       "Method:                 Least Squares   F-statistic:                 1.944e+04\n",
       "Date:                Sun, 24 Apr 2022   Prob (F-statistic):               0.00\n",
       "Time:                        16:23:49   Log-Likelihood:                 335.36\n",
       "No. Observations:                 359   AIC:                            -662.7\n",
       "Df Residuals:                     355   BIC:                            -647.2\n",
       "Df Model:                           3                                         \n",
       "Covariance Type:            nonrobust                                         \n",
       "==============================================================================\n",
       "                 coef    std err          t      P>|t|      [0.025      0.975]\n",
       "------------------------------------------------------------------------------\n",
       "Intercept      6.3294      0.298     21.263      0.000       5.744       6.915\n",
       "IMAE           1.0242      0.079     13.044      0.000       0.870       1.179\n",
       "IPC            0.9268      0.028     33.508      0.000       0.872       0.981\n",
       "Tbasica       -0.3519      0.022    -15.919      0.000      -0.395      -0.308\n",
       "==============================================================================\n",
       "Omnibus:                      115.244   Durbin-Watson:                   0.450\n",
       "Prob(Omnibus):                  0.000   Jarque-Bera (JB):              463.868\n",
       "Skew:                           1.349   Prob(JB):                    1.87e-101\n",
       "Kurtosis:                       7.872   Cond. No.                         390.\n",
       "==============================================================================\n",
       "\n",
       "Notes:\n",
       "[1] Standard Errors assume that the covariance matrix of the errors is correctly specified.\n",
       "\"\"\""
      ]
     },
     "execution_count": 2,
     "metadata": {},
     "output_type": "execute_result"
    }
   ],
   "source": [
    "res = ols('M1 ~ IMAE + IPC + Tbasica', data=np.log(datos)).fit()\n",
    "res.summary()"
   ]
  },
  {
   "cell_type": "code",
   "execution_count": 3,
   "id": "45f42d42",
   "metadata": {
    "tags": [
     "hide-input"
    ]
   },
   "outputs": [
    {
     "data": {
      "image/png": "[encoded data removed]",
      "text/plain": [
       "<Figure size 720x360 with 3 Axes>"
      ]
     },
     "metadata": {},
     "output_type": "display_data"
    }
   ],
   "source": [
    "fig = plt.figure(figsize=[10,5], tight_layout=True)\n",
    "gs = gridspec.GridSpec(2, 2)\n",
    "ax = fig.add_subplot(gs[0, :])\n",
    "axs0 = fig.add_subplot(gs[1,0])\n",
    "axs1 = fig.add_subplot(gs[1,1], sharey=axs0)\n",
    "\n",
    "res.resid.plot(title='Residuos de la regresión', ax=ax)\n",
    "\n",
    "OPCIONES = dict(lags=48, alpha=0.05, )\n",
    "sm.graphics.tsa.plot_acf(res.resid, ax=axs0, title='Autocorrelación',**OPCIONES);\n",
    "sm.graphics.tsa.plot_pacf(res.resid, ax=axs1, title='Autocorrelación parcial', **OPCIONES);\n",
    "axs0.set_xticks([0,12,24,36,48])\n",
    "axs1.set_xticks([0,12,24,36,48]);"
   ]
  }
 ],
 "metadata": {
  "jupytext": {
   "formats": "md:myst",
   "text_representation": {
    "extension": ".md",
    "format_name": "myst"
   }
  },
  "kernelspec": {
   "display_name": "Python 3",
   "language": "python",
   "name": "python3"
  },
  "language_info": {
   "codemirror_mode": {
    "name": "ipython",
    "version": 3
   },
   "file_extension": ".py",
   "mimetype": "text/x-python",
   "name": "python",
   "nbconvert_exporter": "python",
   "pygments_lexer": "ipython3",
   "version": "3.9.7"
  },
  "source_map": [
   17,
   137,
   153,
   157,
   162,
   177
  ],
  "substitutions": {
   "empieza_ejemplo": "<div class=\"ejemplo\">\n<div class=\"ejemplo-titulo\"><b>Ejemplo: &nbsp;\n",
   "fin_titulo_ejemplo": "</b></div>",
   "termina_ejemplo": "</div>"
  }
 },
 "nbformat": 4,
 "nbformat_minor": 5
}