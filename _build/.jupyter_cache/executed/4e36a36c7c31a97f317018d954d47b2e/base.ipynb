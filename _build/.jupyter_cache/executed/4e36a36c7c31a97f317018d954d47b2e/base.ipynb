{
 "cells": [
  {
   "cell_type": "code",
   "execution_count": 1,
   "id": "frozen-illinois",
   "metadata": {},
   "outputs": [
    {
     "data": {
      "text/plain": [
       "3.0"
      ]
     },
     "execution_count": 1,
     "metadata": {},
     "output_type": "execute_result"
    }
   ],
   "source": [
    "import numpy\n",
    "numpy.sqrt(9)"
   ]
  },
  {
   "cell_type": "code",
   "execution_count": 2,
   "id": "motivated-currency",
   "metadata": {},
   "outputs": [
    {
     "data": {
      "text/plain": [
       "3.0"
      ]
     },
     "execution_count": 2,
     "metadata": {},
     "output_type": "execute_result"
    }
   ],
   "source": [
    "import numpy as np\n",
    "np.sqrt(9)"
   ]
  },
  {
   "cell_type": "code",
   "execution_count": 3,
   "id": "correct-reception",
   "metadata": {},
   "outputs": [
    {
     "data": {
      "text/plain": [
       "3.0"
      ]
     },
     "execution_count": 3,
     "metadata": {},
     "output_type": "execute_result"
    }
   ],
   "source": [
    "from numpy import sqrt, cos, sin\n",
    "sqrt(9)"
   ]
  },
  {
   "cell_type": "code",
   "execution_count": 4,
   "id": "fatty-designer",
   "metadata": {},
   "outputs": [
    {
     "name": "stdout",
     "output_type": "stream",
     "text": [
      "1.0\n",
      "[ 1.          0.54030231 -1.        ]\n"
     ]
    }
   ],
   "source": [
    "import numpy as np\n",
    "π = np.pi\n",
    "print(np.cos(0))\n",
    "print(np.cos([0,   1,   π]))"
   ]
  },
  {
   "cell_type": "code",
   "execution_count": 5,
   "id": "advanced-kennedy",
   "metadata": {
    "tags": [
     "raises-exception"
    ]
   },
   "outputs": [
    {
     "name": "stdout",
     "output_type": "stream",
     "text": [
      "1.0\n"
     ]
    },
    {
     "ename": "TypeError",
     "evalue": "must be real number, not list",
     "output_type": "error",
     "traceback": [
      "\u001b[0;31m---------------------------------------------------------------------------\u001b[0m",
      "\u001b[0;31mTypeError\u001b[0m                                 Traceback (most recent call last)",
      "\u001b[0;32m<ipython-input-5-91f3b7dbd55b>\u001b[0m in \u001b[0;36m<module>\u001b[0;34m\u001b[0m\n\u001b[1;32m      1\u001b[0m \u001b[0;32mimport\u001b[0m \u001b[0mmath\u001b[0m\u001b[0;34m\u001b[0m\u001b[0;34m\u001b[0m\u001b[0m\n\u001b[1;32m      2\u001b[0m \u001b[0mprint\u001b[0m\u001b[0;34m(\u001b[0m\u001b[0mmath\u001b[0m\u001b[0;34m.\u001b[0m\u001b[0mcos\u001b[0m\u001b[0;34m(\u001b[0m\u001b[0;36m0\u001b[0m\u001b[0;34m)\u001b[0m\u001b[0;34m)\u001b[0m\u001b[0;34m\u001b[0m\u001b[0;34m\u001b[0m\u001b[0m\n\u001b[0;32m----> 3\u001b[0;31m \u001b[0mprint\u001b[0m\u001b[0;34m(\u001b[0m\u001b[0mmath\u001b[0m\u001b[0;34m.\u001b[0m\u001b[0mcos\u001b[0m\u001b[0;34m(\u001b[0m\u001b[0;34m[\u001b[0m\u001b[0;36m0\u001b[0m\u001b[0;34m,\u001b[0m\u001b[0;36m1\u001b[0m\u001b[0;34m,\u001b[0m \u001b[0mπ\u001b[0m\u001b[0;34m]\u001b[0m\u001b[0;34m)\u001b[0m\u001b[0;34m)\u001b[0m\u001b[0;34m\u001b[0m\u001b[0;34m\u001b[0m\u001b[0m\n\u001b[0m",
      "\u001b[0;31mTypeError\u001b[0m: must be real number, not list"
     ]
    }
   ],
   "source": [
    "import math\n",
    "print(math.cos(0))\n",
    "print(math.cos([0,1, π]))"
   ]
  },
  {
   "cell_type": "code",
   "execution_count": 6,
   "id": "expressed-bubble",
   "metadata": {},
   "outputs": [],
   "source": [
    "nrep = 12_000\n",
    "values = list(range(nrep))"
   ]
  },
  {
   "cell_type": "code",
   "execution_count": 7,
   "id": "geological-primary",
   "metadata": {},
   "outputs": [
    {
     "name": "stdout",
     "output_type": "stream",
     "text": [
      "3.34 ms ± 13.8 µs per loop (mean ± std. dev. of 7 runs, 100 loops each)\n"
     ]
    }
   ],
   "source": [
    "%%timeit\n",
    "option0 = np.empty_like(values)\n",
    "\n",
    "for i, x in enumerate(values):\n",
    "    option0[i] = math.cos(x)"
   ]
  },
  {
   "cell_type": "code",
   "execution_count": 8,
   "id": "bronze-workstation",
   "metadata": {},
   "outputs": [
    {
     "name": "stdout",
     "output_type": "stream",
     "text": [
      "1.82 ms ± 17.1 µs per loop (mean ± std. dev. of 7 runs, 1000 loops each)\n"
     ]
    }
   ],
   "source": [
    "%%timeit\n",
    "option1 = list()\n",
    "for x in values:\n",
    "    option1.append(math.cos(x))"
   ]
  },
  {
   "cell_type": "code",
   "execution_count": 9,
   "id": "simplified-solid",
   "metadata": {},
   "outputs": [
    {
     "name": "stdout",
     "output_type": "stream",
     "text": [
      "1.39 ms ± 74 µs per loop (mean ± std. dev. of 7 runs, 1000 loops each)\n"
     ]
    }
   ],
   "source": [
    "%%timeit\n",
    "option2 = [math.cos(x) for x in values]"
   ]
  },
  {
   "cell_type": "code",
   "execution_count": 10,
   "id": "greater-ghana",
   "metadata": {},
   "outputs": [
    {
     "name": "stdout",
     "output_type": "stream",
     "text": [
      "958 µs ± 82.5 µs per loop (mean ± std. dev. of 7 runs, 1000 loops each)\n"
     ]
    }
   ],
   "source": [
    "%%timeit\n",
    "option3 = np.cos(values)"
   ]
  },
  {
   "cell_type": "code",
   "execution_count": 11,
   "id": "nearby-investigator",
   "metadata": {},
   "outputs": [
    {
     "name": "stdout",
     "output_type": "stream",
     "text": [
      "item  = 0.70\n",
      "tax   = 0.73\n",
      "total = 1.44\n"
     ]
    }
   ],
   "source": [
    "item, rate = 0.70, 1.05\n",
    "tax = item * rate\n",
    "total = item + tax\n",
    "txt, val = ['item','tax','total'], [item,tax,total]\n",
    "\n",
    "for tt, vv in zip(txt, val):\n",
    "    print(f'{tt:5s} = {vv:.2f}')"
   ]
  },
  {
   "cell_type": "code",
   "execution_count": 12,
   "id": "piano-transport",
   "metadata": {},
   "outputs": [
    {
     "name": "stdout",
     "output_type": "stream",
     "text": [
      "item     = 0.69999999999999995559\n",
      "tax      = 0.73499999999999998668\n",
      "total    = 1.43500000000000005329\n"
     ]
    }
   ],
   "source": [
    "for tt, vv in zip(txt, val):\n",
    "    print(f'{tt:8s} = {vv:.20f}')"
   ]
  },
  {
   "cell_type": "code",
   "execution_count": 13,
   "id": "operating-exhaust",
   "metadata": {},
   "outputs": [
    {
     "name": "stdout",
     "output_type": "stream",
     "text": [
      "item  = 0.70\n",
      "tax   = 0.74\n",
      "total = 1.44\n"
     ]
    }
   ],
   "source": [
    "from decimal import Decimal\n",
    "item, rate = Decimal('0.70'), Decimal('1.05')\n",
    "tax = item * rate\n",
    "total = item + tax\n",
    "\n",
    "txt, val = ['item','tax','total'], [item,tax,total]\n",
    "\n",
    "for tt, vv in zip(txt, val):\n",
    "    print(f'{tt:5s} = {vv:.2f}')"
   ]
  },
  {
   "cell_type": "code",
   "execution_count": 14,
   "id": "controversial-blast",
   "metadata": {},
   "outputs": [
    {
     "name": "stdout",
     "output_type": "stream",
     "text": [
      "item  = 0.70000000000000000000\n",
      "tax   = 0.73500000000000000000\n",
      "total = 1.43500000000000000000\n"
     ]
    }
   ],
   "source": [
    "for tt, vv in zip(txt, val):\n",
    "    print(f'{tt:5s} = {vv:.20f}')"
   ]
  },
  {
   "cell_type": "code",
   "execution_count": 15,
   "id": "verified-designer",
   "metadata": {},
   "outputs": [
    {
     "data": {
      "text/plain": [
       "32.22222222222222"
      ]
     },
     "execution_count": 15,
     "metadata": {},
     "output_type": "execute_result"
    }
   ],
   "source": [
    "import temperaturas as tm\n",
    "\n",
    "tm.f2c(90)"
   ]
  },
  {
   "cell_type": "code",
   "execution_count": 16,
   "id": "iraqi-europe",
   "metadata": {},
   "outputs": [
    {
     "data": {
      "text/plain": [
       "104.0"
      ]
     },
     "execution_count": 16,
     "metadata": {},
     "output_type": "execute_result"
    }
   ],
   "source": [
    "tm.c2f(40)"
   ]
  }
 ],
 "metadata": {
  "jupytext": {
   "formats": "md:myst",
   "text_representation": {
    "extension": ".md",
    "format_name": "myst"
   }
  },
  "kernelspec": {
   "display_name": "Python 3",
   "language": "python",
   "name": "python3"
  },
  "language_info": {
   "codemirror_mode": {
    "name": "ipython",
    "version": 3
   },
   "file_extension": ".py",
   "mimetype": "text/x-python",
   "name": "python",
   "nbconvert_exporter": "python",
   "pygments_lexer": "ipython3",
   "version": "3.8.8"
  },
  "source_map": [
   11,
   54,
   57,
   61,
   64,
   68,
   71,
   84,
   89,
   93,
   98,
   102,
   107,
   115,
   122,
   127,
   130,
   138,
   146,
   150,
   153,
   157,
   167,
   171,
   174,
   199,
   205,
   207
  ]
 },
 "nbformat": 4,
 "nbformat_minor": 5
}