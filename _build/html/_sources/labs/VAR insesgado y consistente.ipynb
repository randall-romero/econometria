{
 "cells": [
  {
   "cell_type": "markdown",
   "metadata": {
    "pycharm": {
     "name": "#%% md\n"
    }
   },
   "source": [
    "# Estimador OLS del VAR(1) es consistente e insesgado"
   ]
  },
  {
   "cell_type": "code",
   "execution_count": 1,
   "metadata": {
    "Collapsed": "false",
    "pycharm": {
     "name": "#%%\n"
    }
   },
   "outputs": [],
   "source": [
    "import numpy as np\n",
    "import matplotlib.pyplot as plt\n",
    "import seaborn\n",
    "import pandas as pd\n",
    "from statsmodels.tsa.api import VAR\n",
    "\n",
    "np.random.seed(1995)\n",
    "\n",
    "%matplotlib inline"
   ]
  },
  {
   "cell_type": "markdown",
   "metadata": {
    "Collapsed": "false",
    "pycharm": {
     "name": "#%% md\n"
    }
   },
   "source": [
    "## El modelo"
   ]
  },
  {
   "cell_type": "markdown",
   "metadata": {
    "Collapsed": "false",
    "pycharm": {
     "name": "#%% md\n"
    }
   },
   "source": [
    "En este cuaderno simulamos realizaciones del VAR(1)\n",
    "\n",
    "\\begin{align*} \n",
    "x_t &= 0.8x_{t-1} + 0.7y_{t-1} + \\epsilon_{x,t} \\\\\n",
    "y_t &= -0.2x_{t-1} + 0.5y_{t-1} + \\epsilon_{y,t}\n",
    "\\end{align*}\n",
    "\n",
    "que puede escribirse\n",
    "\\begin{equation*}\n",
    "\\underset{Y_t}{\\begin{pmatrix}x_t \\\\ y_t\\end{pmatrix}} = \n",
    "\\underset{\\Phi}{\\begin{pmatrix}0.8 & 0.7 \\\\ -0.2 & 0.5\\end{pmatrix}}\n",
    "\\underset{Y_{t-1}}{\\begin{pmatrix}x_{t-1} \\\\ y_{t-1}\\end{pmatrix}} +\n",
    "\\underset{\\epsilon_t}{\\begin{pmatrix}\\epsilon_{x,t} \\\\ \\epsilon_{y,t}\\end{pmatrix}}\n",
    "\\quad\\qquad\n",
    "\\Omega = \\begin{pmatrix}0.9 & 0 \\\\ 0 & 0.9\\end{pmatrix}\n",
    "\\end{equation*}\n",
    "\n",
    "\n",
    "y las utilizamos para estimar los párametros originales por OLS. El objetivo es ilustrar que este estimador está insesgado y que es consistente."
   ]
  },
  {
   "cell_type": "markdown",
   "metadata": {
    "Collapsed": "false",
    "pycharm": {
     "name": "#%% md\n"
    }
   },
   "source": [
    "### Funciones auxiliares\n",
    "\n",
    "Definimos las matrices de parámetros $\\Phi$ y $\\Omega$. Declaramos dos funciones: para simular una muestra de observaciones del VAR, y otra para estimar los coeficientes de $\\Phi$ a partir de tales simulaciones. "
   ]
  },
  {
   "cell_type": "code",
   "execution_count": 2,
   "metadata": {
    "Collapsed": "false",
    "pycharm": {
     "name": "#%%\n"
    }
   },
   "outputs": [],
   "source": [
    "A = np.array([[0.8, 0.7], [-0.2, 0.5]])\n",
    "sigma = 0.9\n",
    "\n",
    "def var_sample(T = 100):\n",
    "    ''' Simula el VAR(1) T períodos'''\n",
    "    X = np.zeros((T,2))\n",
    "    for t in range(1, T):\n",
    "        X[t] = X[t-1] @ A.T + sigma * np.random.randn(2)\n",
    "    \n",
    "    trimestres = pd.date_range(start='1992q1',freq='d',periods=T)\n",
    "    return pd.DataFrame(X, columns=['precio', 'cantidad'],index=trimestres)\n",
    "\n",
    "def A_ols(data):\n",
    "    '''Estima un VAR(1) a partir de datos, retorna coeficientes como vector'''\n",
    "    return VAR(data).fit().coefs[0].flatten()\n",
    "\n",
    "\n",
    "def estimaciones_var(T=100):\n",
    "    return A_ols(var_sample(T))\n",
    "\n",
    "\n",
    "from joblib import Parallel, delayed\n",
    "\n",
    "def Monte_Carlo(funcion, repeticiones, columnas, *args, **kwargs):\n",
    "    \"\"\"\n",
    "    Ejecuta simulaciones de Montecarlo en paralelo, aprovechando todos los núcleos del procesador\n",
    "\n",
    "    Argumentos:\n",
    "        funcion: una función que dé por resultado una única realización de las cantidades que se desean simular\n",
    "        repeticiones: un entero que indica cuántas muestras se desean simular\n",
    "        columnas: una lista (o tupla) de strings, que identifiquen a las cantidades individuales retornadas por funcion\n",
    "        *args, **kwargs: otros parámetros requeridos por funcion\n",
    "\n",
    "    Retorna:\n",
    "         Un data frame de pandas, con tantas filas como `repeticiones` y columnas como textos en `columnas`.\n",
    "    \"\"\"\n",
    "    datos = Parallel(n_jobs=-1)(delayed(funcion)(*args, **kwargs) for _ in range(repeticiones))\n",
    "    return pd.DataFrame(datos, columns=columnas)"
   ]
  },
  {
   "cell_type": "markdown",
   "metadata": {
    "Collapsed": "false",
    "pycharm": {
     "name": "#%% md\n"
    }
   },
   "source": [
    "##  La estimación OLS de un VAR es insesgada\n",
    "\n",
    "Obtenemos 10000 muestras de $T=100$ observaciones del VAR. Para cada muestra estimamos el VAR y colectamos los coeficientes estimados."
   ]
  },
  {
   "cell_type": "code",
   "execution_count": 3,
   "metadata": {
    "Collapsed": "false",
    "scrolled": true,
    "pycharm": {
     "name": "#%%\n"
    }
   },
   "outputs": [
    {
     "name": "stdout",
     "output_type": "stream",
     "text": [
      "Wall time: 13.5 s\n"
     ]
    }
   ],
   "source": [
    "%%time\n",
    "nrepetitions = 10000\n",
    "estimates = Monte_Carlo(estimaciones_var, nrepetitions, ['$Φ_{11}$', '$Φ_{21}$', '$Φ_{12}$', '$Φ_{22}$'])"
   ]
  },
  {
   "cell_type": "code",
   "execution_count": 4,
   "metadata": {
    "Collapsed": "false",
    "pycharm": {
     "name": "#%%\n"
    }
   },
   "outputs": [
    {
     "data": {
      "text/plain": "   $Φ_{11}$  $Φ_{21}$  $Φ_{12}$  $Φ_{22}$\n0  0.844947  0.665533 -0.248710  0.593978\n1  0.716520  0.604271 -0.260401  0.324318\n2  0.792525  0.814655 -0.202305  0.475453\n3  0.638622  0.529020 -0.116859  0.405299\n4  0.776426  0.750889 -0.231297  0.422044",
      "text/html": "<div>\n<style scoped>\n    .dataframe tbody tr th:only-of-type {\n        vertical-align: middle;\n    }\n\n    .dataframe tbody tr th {\n        vertical-align: top;\n    }\n\n    .dataframe thead th {\n        text-align: right;\n    }\n</style>\n<table border=\"1\" class=\"dataframe\">\n  <thead>\n    <tr style=\"text-align: right;\">\n      <th></th>\n      <th>$Φ_{11}$</th>\n      <th>$Φ_{21}$</th>\n      <th>$Φ_{12}$</th>\n      <th>$Φ_{22}$</th>\n    </tr>\n  </thead>\n  <tbody>\n    <tr>\n      <th>0</th>\n      <td>0.844947</td>\n      <td>0.665533</td>\n      <td>-0.248710</td>\n      <td>0.593978</td>\n    </tr>\n    <tr>\n      <th>1</th>\n      <td>0.716520</td>\n      <td>0.604271</td>\n      <td>-0.260401</td>\n      <td>0.324318</td>\n    </tr>\n    <tr>\n      <th>2</th>\n      <td>0.792525</td>\n      <td>0.814655</td>\n      <td>-0.202305</td>\n      <td>0.475453</td>\n    </tr>\n    <tr>\n      <th>3</th>\n      <td>0.638622</td>\n      <td>0.529020</td>\n      <td>-0.116859</td>\n      <td>0.405299</td>\n    </tr>\n    <tr>\n      <th>4</th>\n      <td>0.776426</td>\n      <td>0.750889</td>\n      <td>-0.231297</td>\n      <td>0.422044</td>\n    </tr>\n  </tbody>\n</table>\n</div>"
     },
     "execution_count": 4,
     "metadata": {},
     "output_type": "execute_result"
    }
   ],
   "source": [
    "estimates.head()"
   ]
  },
  {
   "cell_type": "markdown",
   "metadata": {
    "Collapsed": "false",
    "pycharm": {
     "name": "#%% md\n"
    }
   },
   "source": [
    "Luego graficamos la distribución de cada columna (estimaciones de uno de los parámetros) con un histograma. Observe cómo la distribución estimada está centrada alrededor del verdadero parámetro en cada uno de los gráficos."
   ]
  },
  {
   "cell_type": "code",
   "execution_count": 5,
   "metadata": {
    "Collapsed": "false",
    "pycharm": {
     "name": "#%%\n"
    }
   },
   "outputs": [
    {
     "data": {
      "text/plain": "<Figure size 576x360 with 4 Axes>",
      "image/png": "[encoded data removed]"
     },
     "metadata": {
      "needs_background": "light"
     },
     "output_type": "display_data"
    }
   ],
   "source": [
    "ax = estimates.hist(bins=50,figsize=[8,5])\n",
    "\n",
    "for i in range(2):\n",
    "    for j in range(2):\n",
    "        ax[i,j].axvline(x=A[i,j],linewidth=4, color='r')\n",
    "        \n",
    "#plt.gcf().savefig('imag/var-insesgado.pdf',bbox_inches='tight')        "
   ]
  },
  {
   "cell_type": "markdown",
   "metadata": {
    "Collapsed": "false",
    "pycharm": {
     "name": "#%% md\n"
    }
   },
   "source": [
    "##  La estimación OLS de un VAR es consistente\n",
    "\n",
    "Para ilustrar que la estimación OLS de un VAR es consistente, simulamos una sola muestra de datos y vamos agregando una nueva observación. En cada paso estimamos el VAR con OLS. Observe que conforme aumenta el número de observaciones, los valores estimados convergen a los parámetros poblacionales."
   ]
  },
  {
   "cell_type": "code",
   "execution_count": 6,
   "metadata": {
    "Collapsed": "false",
    "pycharm": {
     "name": "#%%\n"
    }
   },
   "outputs": [
    {
     "data": {
      "text/plain": "<Figure size 1080x576 with 4 Axes>",
      "image/png": "[encoded data removed]"
     },
     "metadata": {
      "needs_background": "light"
     },
     "output_type": "display_data"
    }
   ],
   "source": [
    "xlag = np.zeros([2,1])\n",
    "XpX = np.zeros([2,2])\n",
    "XpY = np.zeros([2,2])\n",
    "\n",
    "T = 4000\n",
    "minT = 4\n",
    "Xest = np.zeros([T+1, 4])\n",
    "\n",
    "for t in range(T+1):\n",
    "    x = A @ xlag + sigma * np.random.randn(2,1)\n",
    "    XpX += np.outer(xlag, xlag)\n",
    "    XpY += np.outer(xlag, x)\n",
    "    xlag = x.copy()\n",
    "    \n",
    "    if t>minT:\n",
    "        Xest[t] = np.linalg.solve(XpX/t, XpY/t).flatten()\n",
    "    \n",
    "    \n",
    "estimates2 = pd.DataFrame(Xest[minT:], columns=['$Φ_{11}$', '$Φ_{21}$', '$Φ_{12}$', '$Φ_{22}$'])\n",
    "\n",
    "ax = estimates2.plot(color='b',figsize=[15,8],subplots=True, layout=[2,2])\n",
    "\n",
    "for i in range(2):\n",
    "    for j in range(2):\n",
    "        ax[i,j].axhline(y=A[j,i],linewidth=1, color='r')\n",
    "\n",
    "#plt.gcf().savefig('imag/var-consistente.pdf',bbox_inches='tight') "
   ]
  }
 ],
 "metadata": {
  "kernelspec": {
   "display_name": "Python 3",
   "language": "python",
   "name": "python3"
  },
  "language_info": {
   "codemirror_mode": {
    "name": "ipython",
    "version": 3
   },
   "file_extension": ".py",
   "mimetype": "text/x-python",
   "name": "python",
   "nbconvert_exporter": "python",
   "pygments_lexer": "ipython3",
   "version": "3.8.3"
  }
 },
 "nbformat": 4,
 "nbformat_minor": 4
}