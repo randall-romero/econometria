{
 "cells": [
  {
   "cell_type": "markdown",
   "id": "stretch-boulder",
   "metadata": {},
   "source": [
    "# Control de ejecución\n",
    "\n",
    "\n",
    "\n",
    "* Los programas usualmente se ejecutan corriendo cada instrucción en el orden en que aparecen\n",
    "* Pero en ocasiones, necesitamos ejecutar las  instrucciones de otra manera.\n",
    "* Para ello, usamos instrucciones de control de ejecución:\n",
    "- ```if, elif, else``` ejecuta algunas instrucciones una vez, pero solo si cierta condición es verdadera\n",
    "- ```while``` ejecuta algunas instrucciones varias veces, solo mientras que cierta condición sea verdadera\n",
    "- ```for``` ejecuta algunas instrucciones varias veces, iterando sobre un iterable\n",
    "- ```continue``` brinca a la siguiente iteraciónde un bucle  `while` o `for`\n",
    "- ```break``` detiene la ejecución de un bucle `while` o `for`\n",
    "\n",
    "<div class = \"video-w\">\n",
    "    <div class = \"video-container\">\n",
    "        <iframe width=\"560\" height=\"315\" src=\"https://www.youtube.com/embed/yd2nGfknE4k\" frameborder=\"0\" allow=\"accelerometer; autoplay; clipboard-write; encrypted-media; gyroscope; picture-in-picture\" allowfullscreen></iframe>\n",
    "    </div>\n",
    "</div>\n",
    "\n",
    "## Ejecución condicional con `if`\n",
    "\n",
    "* La palabra clave ```if``` evalua una expresión para obtener un valor `True` o `False`.\n",
    "* Esto permite que un programa proceda en diferentes direcciones de acuerdo con el resultado del test.\n",
    "* La expresión evaluada debe ser seguida de dos puntos ```:```, luego las instrucciones que se evaluan si el test es verdadero deben escribirse en líneas separadas e indentadas respecto a la línea que contiene el ```if```.\n",
    "* El tamaño de la indentación no es importante, pero debe ser el mismo en cada línea.\n",
    "* Por tanto, la sintaxis se ve así:\n",
    "```\n",
    "if test-expression:\n",
    "   statements-to-execute-when-test-expression-is-True\n",
    "   statements-to-execute-when-test-expression-is-True\n",
    "```   \n",
    "\n",
    "\n",
    "\n",
    "Por ejemplo, para determinar si un número ```m``` es par o impar:"
   ]
  },
  {
   "cell_type": "code",
   "execution_count": 1,
   "id": "chubby-processor",
   "metadata": {},
   "outputs": [
    {
     "name": "stdout",
     "output_type": "stream",
     "text": [
      "m es impar\n"
     ]
    }
   ],
   "source": [
    "m = 7\n",
    "if m % 2 == 0:\n",
    "    print('m es par')\n",
    "else:\n",
    "    print('m es impar')"
   ]
  },
  {
   "cell_type": "markdown",
   "id": "returning-rebate",
   "metadata": {},
   "source": [
    "El test no necesariamente tiene que ser un boolean. El número `0`, el valor `None`, y un texto vacío `''`, lista vacía `[]`, tupla vacía `()` o conjunto vacío `{}`, todos son interpretados como  `False`."
   ]
  },
  {
   "cell_type": "code",
   "execution_count": 2,
   "id": "compressed-thing",
   "metadata": {},
   "outputs": [
    {
     "name": "stdout",
     "output_type": "stream",
     "text": [
      "m is not divisible by 5\n"
     ]
    }
   ],
   "source": [
    "if m % 5:\n",
    "    print('m is not divisible by 5')\n",
    "else:\n",
    "    print('m is divisible by 5')"
   ]
  },
  {
   "cell_type": "code",
   "execution_count": 3,
   "id": "anonymous-basis",
   "metadata": {},
   "outputs": [
    {
     "data": {
      "text/plain": [
       "'a.m.'"
      ]
     },
     "execution_count": 3,
     "metadata": {},
     "output_type": "execute_result"
    }
   ],
   "source": [
    "horas = 10\n",
    "\n",
    "if horas < 12:\n",
    "    ampm = 'a.m.'\n",
    "else:\n",
    "    ampm = 'p.m.'\n",
    "\n",
    "ampm"
   ]
  },
  {
   "cell_type": "code",
   "execution_count": 4,
   "id": "christian-thread",
   "metadata": {},
   "outputs": [
    {
     "data": {
      "text/plain": [
       "'a.m.'"
      ]
     },
     "execution_count": 4,
     "metadata": {},
     "output_type": "execute_result"
    }
   ],
   "source": [
    "ampm1 = 'a.m.' if horas < 12 else 'p.m.'\n",
    "ampm1"
   ]
  },
  {
   "cell_type": "markdown",
   "id": "elder-capacity",
   "metadata": {},
   "source": [
    "## Examinando condiciones\n",
    "Algunas veces necesitamos asignar un valor dependiendo de una condición, como así\n",
    "```\n",
    "if testExpression:\n",
    "    x = ifTrueThis\n",
    "else:\n",
    "    x = ifFalseThis\n",
    "```\n",
    "Esto es equivalente a :\n",
    "```\n",
    "x = ifTrueThis if testExpression else ifFalseThis\n",
    "```\n",
    "Por ejemplo"
   ]
  },
  {
   "cell_type": "code",
   "execution_count": 5,
   "id": "aboriginal-phase",
   "metadata": {},
   "outputs": [
    {
     "data": {
      "text/plain": [
       "'n is odd'"
      ]
     },
     "execution_count": 5,
     "metadata": {},
     "output_type": "execute_result"
    }
   ],
   "source": [
    "n = 17\n",
    "z = \"n is odd\" if n % 2 else \"n is even\"\n",
    "\n",
    "z"
   ]
  },
  {
   "cell_type": "markdown",
   "id": "marked-concord",
   "metadata": {},
   "source": [
    "## Iterando `while` true i\n",
    "\n",
    "* Un bucle es una pieza de código que automáticamente se repite.\n",
    "* Una ejecución completa de todas las instrucciones dentro de un bucle se llama una “iteración”.\n",
    "* El tamaño del buche se controla con un test condicional que se ejecuta dentro del bucle.\n",
    "* Mientras que la expresión evaluada sea  ```True``` el bucle continuará –-- hasta que la expresión sea ```False```, punto en el cual el bucle termina.\n",
    "* En programas de Python, la palabra clave ```while``` crea un bucle. Es seguida por la expresion a evaluar y dos puntos ```:```.\n",
    "* Las instrucciones que se deben evaluar cuando el test pasa (sea ```True```) deben seguir abajo en líneas separadas, y cada línea debe estar indentada con el mismo espacio respecto a la línea que tiene el ```while```.\n",
    "* Este bloque de instrucciones debe incluir una instrucción que en algún momento cambie el resultado del test a ```False``` --- de lo contrario el bucle será infinito.\n",
    "* Por tanto, la sintaxis se ve así:\n",
    "\n",
    "```\n",
    "while test-expression :\n",
    "    statements-to-execute-when-test-expression-is-True\n",
    "    statements-to-execute-when-test-expression-is-True\n",
    "```    \n",
    "\n",
    "\n",
    "\n",
    "Por ejemplo, para obtener la serie de Fibonacci hasta 100"
   ]
  },
  {
   "cell_type": "code",
   "execution_count": 6,
   "id": "crude-championship",
   "metadata": {},
   "outputs": [
    {
     "name": "stdout",
     "output_type": "stream",
     "text": [
      "1, 1, 2, 3, 5, 8, 13, 21, 34, 55, 89, "
     ]
    }
   ],
   "source": [
    "a, b = 0, 1\n",
    "\n",
    "while b < 100:\n",
    "    print(b, end=', ')\n",
    "    a, b = b, a + b"
   ]
  },
  {
   "cell_type": "markdown",
   "id": "rubber-transformation",
   "metadata": {},
   "source": [
    "Un enfoque distinto, pero que incluye el primer elemnto que se pasa de 100"
   ]
  },
  {
   "cell_type": "code",
   "execution_count": 7,
   "id": "crazy-sydney",
   "metadata": {},
   "outputs": [
    {
     "data": {
      "text/plain": [
       "[1, 1, 2, 3, 5, 8, 13, 21, 34, 55, 89]"
      ]
     },
     "execution_count": 7,
     "metadata": {},
     "output_type": "execute_result"
    }
   ],
   "source": [
    "fib = [1, 1]\n",
    "\n",
    "while fib[-1]<100:\n",
    "    fib.append(fib[-2] + fib[-1])\n",
    "else:\n",
    "    fib.pop()\n",
    "\n",
    "\n",
    "fib"
   ]
  },
  {
   "cell_type": "markdown",
   "id": "dynamic-scanning",
   "metadata": {},
   "source": [
    "## La función ```range```\n",
    "Algunas veces necesitamos iterar sobre los enteros. Podemos generarlos con la función ```range```."
   ]
  },
  {
   "cell_type": "code",
   "execution_count": 8,
   "id": "outdoor-rhythm",
   "metadata": {},
   "outputs": [
    {
     "data": {
      "text/plain": [
       "range(0, 6)"
      ]
     },
     "execution_count": 8,
     "metadata": {},
     "output_type": "execute_result"
    }
   ],
   "source": [
    "range(6)"
   ]
  },
  {
   "cell_type": "markdown",
   "id": "broken-divorce",
   "metadata": {},
   "source": [
    "Para ahorrar memoria, ```range``` retorna sus elementos uno a la vez, solo cuando se necesita, para evitar usar demasiada memoria. En los ejemplos que siguen convertimos objetos ```range``` en listas para poder imprimir sus elementos.\n",
    "\n",
    "\n",
    "\n",
    "`range(n)` retorna enteros de ```0``` a ```n-1```"
   ]
  },
  {
   "cell_type": "code",
   "execution_count": 9,
   "id": "rolled-tutorial",
   "metadata": {},
   "outputs": [
    {
     "data": {
      "text/plain": [
       "[0, 1, 2, 3, 4, 5]"
      ]
     },
     "execution_count": 9,
     "metadata": {},
     "output_type": "execute_result"
    }
   ],
   "source": [
    "list(range(6))"
   ]
  },
  {
   "cell_type": "markdown",
   "id": "hybrid-baptist",
   "metadata": {},
   "source": [
    "`range(m, n)` retorna enteros de ```m``` a ```n-1```"
   ]
  },
  {
   "cell_type": "code",
   "execution_count": 10,
   "id": "cardiac-consolidation",
   "metadata": {},
   "outputs": [
    {
     "data": {
      "text/plain": [
       "[2, 3, 4, 5, 6, 7]"
      ]
     },
     "execution_count": 10,
     "metadata": {},
     "output_type": "execute_result"
    }
   ],
   "source": [
    "list(range(2,8))"
   ]
  },
  {
   "cell_type": "markdown",
   "id": "criminal-allocation",
   "metadata": {},
   "source": [
    "`range(m, n, s)` retorna enteros de ```m``` a ```n-1```, de ```s``` en ```s```"
   ]
  },
  {
   "cell_type": "code",
   "execution_count": 11,
   "id": "arbitrary-truck",
   "metadata": {},
   "outputs": [
    {
     "data": {
      "text/plain": [
       "[2, 5, 8]"
      ]
     },
     "execution_count": 11,
     "metadata": {},
     "output_type": "execute_result"
    }
   ],
   "source": [
    "list(range(2,9,3))"
   ]
  },
  {
   "cell_type": "markdown",
   "id": "embedded-characterization",
   "metadata": {},
   "source": [
    "También podemos crear un ```range``` con el orden invertido:"
   ]
  },
  {
   "cell_type": "code",
   "execution_count": 12,
   "id": "turned-italy",
   "metadata": {},
   "outputs": [
    {
     "data": {
      "text/plain": [
       "[4, 3, 2, 1]"
      ]
     },
     "execution_count": 12,
     "metadata": {},
     "output_type": "execute_result"
    }
   ],
   "source": [
    "list(range(4, 0,-1))"
   ]
  },
  {
   "cell_type": "markdown",
   "id": "deluxe-berkeley",
   "metadata": {},
   "source": [
    "### Comparando la cantidad de memoria necesaria"
   ]
  },
  {
   "cell_type": "code",
   "execution_count": 13,
   "id": "incorporate-announcement",
   "metadata": {},
   "outputs": [
    {
     "data": {
      "text/plain": [
       "8000056"
      ]
     },
     "execution_count": 13,
     "metadata": {},
     "output_type": "execute_result"
    }
   ],
   "source": [
    "from sys import getsizeof\n",
    "\n",
    "getsizeof(list(range(1_000_000)))"
   ]
  },
  {
   "cell_type": "code",
   "execution_count": 14,
   "id": "widespread-girlfriend",
   "metadata": {},
   "outputs": [
    {
     "data": {
      "text/plain": [
       "48"
      ]
     },
     "execution_count": 14,
     "metadata": {},
     "output_type": "execute_result"
    }
   ],
   "source": [
    "getsizeof(range(1_000_000))"
   ]
  },
  {
   "cell_type": "markdown",
   "id": "raising-rainbow",
   "metadata": {},
   "source": [
    "## Iterando sobre los elementos de un iterable: `for`\n",
    "\n",
    "En Python la palabra clave ```for``` itera sobre todos los elementos de cualquier iterable que aparezca luego de la palabra clave ```in```.\n",
    "\n",
    "La sintaxis se ve así:\n",
    "\n",
    "```\n",
    "for item in iterable :\n",
    "    statements-to-execute-on-each-iteration\n",
    "    statements-to-execute-on-each-iteration\n",
    "```    \n",
    "\n",
    "Ejemplos de iterables:\n",
    "* rangos\n",
    "* listas, tuplas, conjutos, diccionarios\n",
    "* textos\n",
    "* archivos de texto\n",
    "* arreglos de números\n",
    "\n",
    "\n",
    "\n",
    "### Iterando sobre textos"
   ]
  },
  {
   "cell_type": "code",
   "execution_count": 15,
   "id": "native-simple",
   "metadata": {},
   "outputs": [
    {
     "name": "stdout",
     "output_type": "stream",
     "text": [
      "A\n",
      "B\n",
      "C\n",
      "D\n"
     ]
    }
   ],
   "source": [
    "for letra in 'abcd':\n",
    "    print(letra.upper())"
   ]
  },
  {
   "cell_type": "markdown",
   "id": "radio-image",
   "metadata": {},
   "source": [
    "### Iterando sobre enteros"
   ]
  },
  {
   "cell_type": "code",
   "execution_count": 16,
   "id": "strong-shore",
   "metadata": {},
   "outputs": [
    {
     "name": "stdout",
     "output_type": "stream",
     "text": [
      "1\n",
      "4\n",
      "9\n",
      "16\n",
      "25\n"
     ]
    }
   ],
   "source": [
    "for k in range(1, 6):\n",
    "    print(k**2)"
   ]
  },
  {
   "cell_type": "markdown",
   "id": "facial-classroom",
   "metadata": {},
   "source": [
    "### Iterando líneas de un archivo de texto"
   ]
  },
  {
   "cell_type": "code",
   "execution_count": 17,
   "id": "defined-worth",
   "metadata": {},
   "outputs": [
    {
     "name": "stdout",
     "output_type": "stream",
     "text": [
      "h1 {\n",
      "\n",
      "    font-size: 200%;\n",
      "\n",
      "    color:white; \n",
      "\n",
      "    background-color: #0064b0;\n",
      "\n",
      "}\n",
      "\n",
      "\n",
      "\n",
      "h2 {\n",
      "\n",
      "    font-size: 150%;\n",
      "\n",
      "    color:white; \n",
      "\n",
      "    background-color: #e07b39;\n",
      "\n",
      "}\n",
      "\n",
      "\n",
      "\n",
      "h3 {\n",
      "\n",
      "    font-size: 125%;\n",
      "\n",
      "    color: gray;\n",
      "\n",
      "    background-color: #cce7e8;\n",
      "\n",
      "}\n"
     ]
    }
   ],
   "source": [
    "for linea in open(\"mi_estilo.css\", 'r'):\n",
    "    print(linea)"
   ]
  },
  {
   "cell_type": "markdown",
   "id": "specific-breakdown",
   "metadata": {},
   "source": [
    "### Iterando los elemetos de un diccionario"
   ]
  },
  {
   "cell_type": "code",
   "execution_count": 18,
   "id": "collect-spokesman",
   "metadata": {},
   "outputs": [
    {
     "name": "stdout",
     "output_type": "stream",
     "text": [
      "king[\"name\"] = John Snow\n",
      "king[\"age\"] = 24\n",
      "king[\"home\"] = Castle Black\n",
      "king[\"lover\"] = Ygritte\n",
      "king[\"knows\"] = None\n"
     ]
    }
   ],
   "source": [
    "king = {'name': 'John Snow',\n",
    "        'age': 24,\n",
    "        'home': 'Castle Black',\n",
    "        'lover': 'Ygritte',\n",
    "        'knows': None}\n",
    "\n",
    "for llave, valor in king.items():\n",
    "    print(f'king[\"{llave}\"] = {valor}')"
   ]
  },
  {
   "cell_type": "markdown",
   "id": "dying-medicaid",
   "metadata": {},
   "source": [
    "## enumerate\n",
    "\n",
    "\n",
    "\n",
    "Para llevar cuenta del número de iteración usamos ```enumerate```"
   ]
  },
  {
   "cell_type": "code",
   "execution_count": 19,
   "id": "excellent-response",
   "metadata": {},
   "outputs": [
    {
     "name": "stdout",
     "output_type": "stream",
     "text": [
      "iteración 0 da por resultado  a\n",
      "iteración 1 da por resultado  b\n",
      "iteración 2 da por resultado  c\n",
      "iteración 3 da por resultado  d\n",
      "iteración 4 da por resultado  e\n"
     ]
    }
   ],
   "source": [
    "eltexto = 'abcde'\n",
    "\n",
    "for i in range(len(eltexto)):\n",
    "    letra = eltexto[i]\n",
    "    print(f'iteración {i} da por resultado  {letra}')\n"
   ]
  },
  {
   "cell_type": "code",
   "execution_count": 20,
   "id": "advanced-messaging",
   "metadata": {},
   "outputs": [
    {
     "name": "stdout",
     "output_type": "stream",
     "text": [
      "iteración 0 da por resultado  a\n",
      "iteración 1 da por resultado  b\n",
      "iteración 2 da por resultado  c\n",
      "iteración 3 da por resultado  d\n",
      "iteración 4 da por resultado  e\n"
     ]
    }
   ],
   "source": [
    "eltexto = 'abcde'\n",
    "\n",
    "for i, letra in enumerate(eltexto):\n",
    "    print(f'iteración {i} da por resultado  {letra}')\n"
   ]
  },
  {
   "cell_type": "code",
   "execution_count": 21,
   "id": "cordless-jason",
   "metadata": {},
   "outputs": [
    {
     "name": "stdout",
     "output_type": "stream",
     "text": [
      "0 = a\n",
      "1 = b\n",
      "2 = c\n",
      "3 = d\n"
     ]
    }
   ],
   "source": [
    "for i, letter in enumerate('abcd'):\n",
    "    print(f'{i} = {letter}')"
   ]
  },
  {
   "cell_type": "code",
   "execution_count": 22,
   "id": "spoken-vacation",
   "metadata": {},
   "outputs": [
    {
     "name": "stdout",
     "output_type": "stream",
     "text": [
      "Estoy en la iteración 0 = a\n",
      "Estoy en la iteración 1 = b\n",
      "Estoy en la iteración 2 = c\n",
      "Estoy en la iteración 3 = d\n"
     ]
    }
   ],
   "source": [
    "for i, letter in enumerate('abcd'):\n",
    "    print(f'Estoy en la iteración {i:d} = {letter}')"
   ]
  },
  {
   "cell_type": "markdown",
   "id": "exciting-failing",
   "metadata": {},
   "source": [
    "## zip\n",
    "\n",
    "\n",
    "\n",
    "Para iterar dos iterables en paralelo, usamos `zip`"
   ]
  },
  {
   "cell_type": "code",
   "execution_count": 23,
   "id": "established-sussex",
   "metadata": {},
   "outputs": [
    {
     "name": "stdout",
     "output_type": "stream",
     "text": [
      "3 apples\n",
      "2 bananas\n",
      "4 coconuts\n"
     ]
    }
   ],
   "source": [
    "quantities = [3, 2, 4]\n",
    "fruits = ('apple','banana','coconut')\n",
    "\n",
    "for i in range(len(quantities)):  # muy complicado\n",
    "    n = quantities[i]\n",
    "    fruit = fruits[i]\n",
    "    print(f'{n} {fruit}s')"
   ]
  },
  {
   "cell_type": "code",
   "execution_count": 24,
   "id": "liable-profile",
   "metadata": {},
   "outputs": [
    {
     "name": "stdout",
     "output_type": "stream",
     "text": [
      "3 apples\n",
      "2 bananas\n",
      "4 coconuts\n"
     ]
    }
   ],
   "source": [
    "for n, fruit in zip(quantities,fruits): # más elegante\n",
    "    print(f'{n} {fruit}s')"
   ]
  },
  {
   "cell_type": "markdown",
   "id": "small-plane",
   "metadata": {},
   "source": [
    "Una ventaja de trabajar con `zip` es que no genera un error si una lista es más corta que la que medimos con `len`, simplemente itera mientras haya elementos en ambas listas. Por ejemplo"
   ]
  },
  {
   "cell_type": "code",
   "execution_count": 25,
   "id": "saved-trade",
   "metadata": {
    "tags": [
     "raises-exception"
    ]
   },
   "outputs": [
    {
     "name": "stdout",
     "output_type": "stream",
     "text": [
      "3 apples\n",
      "2 bananas\n",
      "4 coconuts\n"
     ]
    },
    {
     "ename": "IndexError",
     "evalue": "tuple index out of range",
     "output_type": "error",
     "traceback": [
      "\u001b[0;31m---------------------------------------------------------------------------\u001b[0m",
      "\u001b[0;31mIndexError\u001b[0m                                Traceback (most recent call last)",
      "\u001b[0;32m<ipython-input-25-4142e22e68dd>\u001b[0m in \u001b[0;36m<module>\u001b[0;34m\u001b[0m\n\u001b[1;32m      3\u001b[0m \u001b[0;32mfor\u001b[0m \u001b[0mi\u001b[0m \u001b[0;32min\u001b[0m \u001b[0mrange\u001b[0m\u001b[0;34m(\u001b[0m\u001b[0mlen\u001b[0m\u001b[0;34m(\u001b[0m\u001b[0mquantities\u001b[0m\u001b[0;34m)\u001b[0m\u001b[0;34m)\u001b[0m\u001b[0;34m:\u001b[0m\u001b[0;34m\u001b[0m\u001b[0;34m\u001b[0m\u001b[0m\n\u001b[1;32m      4\u001b[0m     \u001b[0mn\u001b[0m \u001b[0;34m=\u001b[0m \u001b[0mquantities\u001b[0m\u001b[0;34m[\u001b[0m\u001b[0mi\u001b[0m\u001b[0;34m]\u001b[0m\u001b[0;34m\u001b[0m\u001b[0;34m\u001b[0m\u001b[0m\n\u001b[0;32m----> 5\u001b[0;31m     \u001b[0mfruit\u001b[0m \u001b[0;34m=\u001b[0m \u001b[0mfruits\u001b[0m\u001b[0;34m[\u001b[0m\u001b[0mi\u001b[0m\u001b[0;34m]\u001b[0m\u001b[0;34m\u001b[0m\u001b[0;34m\u001b[0m\u001b[0m\n\u001b[0m\u001b[1;32m      6\u001b[0m     \u001b[0mprint\u001b[0m\u001b[0;34m(\u001b[0m\u001b[0;34mf'{n} {fruit}s'\u001b[0m\u001b[0;34m)\u001b[0m\u001b[0;34m\u001b[0m\u001b[0;34m\u001b[0m\u001b[0m\n",
      "\u001b[0;31mIndexError\u001b[0m: tuple index out of range"
     ]
    }
   ],
   "source": [
    "quantities.append(8)  # ahora quantities tiene 4 elementos, pero fruits sigue con 3\n",
    "\n",
    "for i in range(len(quantities)):  \n",
    "    n = quantities[i]\n",
    "    fruit = fruits[i]\n",
    "    print(f'{n} {fruit}s')"
   ]
  },
  {
   "cell_type": "markdown",
   "id": "detailed-garlic",
   "metadata": {},
   "source": [
    "mientras con `zip`:"
   ]
  },
  {
   "cell_type": "code",
   "execution_count": 26,
   "id": "simplified-coordinator",
   "metadata": {},
   "outputs": [
    {
     "name": "stdout",
     "output_type": "stream",
     "text": [
      "3 apples\n",
      "2 bananas\n",
      "4 coconuts\n"
     ]
    }
   ],
   "source": [
    "for n, fruit in zip(quantities,fruits): # más elegante\n",
    "    print(f'{n} {fruit}s')"
   ]
  },
  {
   "cell_type": "markdown",
   "id": "strategic-bristol",
   "metadata": {},
   "source": [
    "## *List comprehensions*\n",
    "\n",
    "* *List comprehension* es una manera elegante de definir una lista basado en otra lista (un iterable).\n",
    "* Generalmente son más compactas y rápidas que los bucles tradicionales.\n",
    "* No obstante, debemos evitar *list comprenhension* demasiado largas para que el código sea claro.\n",
    "\n",
    "\n",
    "\n",
    "\n",
    "### Caso más sencillo\n",
    "\n",
    "\n",
    "\n",
    "A veces necesitamos hacer una lista de elementos a partir de otro iterable, como con este código\n",
    "\n",
    "```\n",
    "lst = list()\n",
    "for item in iterable:\n",
    "    lst.append(expression)\n",
    "```\n",
    "\n",
    "Esto puede hacer más sucintamente con\n",
    "\n",
    "```\n",
    "lst = [expression for item in iterable]\n",
    "```\n",
    "\n",
    "\n",
    "\n",
    "Por ejemplo, para obtener una lista de los cuadrados de los números del 1 al 14:"
   ]
  },
  {
   "cell_type": "code",
   "execution_count": 27,
   "id": "regional-capital",
   "metadata": {},
   "outputs": [
    {
     "data": {
      "text/plain": [
       "[1, 4, 9, 16, 25, 36, 49, 64, 81, 100, 121, 144, 169, 196]"
      ]
     },
     "execution_count": 27,
     "metadata": {},
     "output_type": "execute_result"
    }
   ],
   "source": [
    "miscuadrados = []\n",
    "\n",
    "for k in range(1,15):\n",
    "    miscuadrados.append(k**2)\n",
    "\n",
    "miscuadrados"
   ]
  },
  {
   "cell_type": "code",
   "execution_count": 28,
   "id": "rural-habitat",
   "metadata": {},
   "outputs": [
    {
     "data": {
      "text/plain": [
       "[1, 4, 9, 16, 25, 36, 49, 64, 81, 100, 121, 144, 169, 196]"
      ]
     },
     "execution_count": 28,
     "metadata": {},
     "output_type": "execute_result"
    }
   ],
   "source": [
    "miscuadrados2 = [k**2 for k in range(1,15)]\n",
    "miscuadrados2"
   ]
  },
  {
   "cell_type": "code",
   "execution_count": 29,
   "id": "liked-russian",
   "metadata": {},
   "outputs": [
    {
     "data": {
      "text/plain": [
       "[1, 9, 25, 49, 81, 121, 169]"
      ]
     },
     "execution_count": 29,
     "metadata": {},
     "output_type": "execute_result"
    }
   ],
   "source": [
    "[k**2 for k in range(1,15) if k%2==1]"
   ]
  },
  {
   "cell_type": "code",
   "execution_count": 30,
   "id": "dependent-marshall",
   "metadata": {},
   "outputs": [
    {
     "data": {
      "text/plain": [
       "[1, 9, 25, 49, 81, 121, 169]"
      ]
     },
     "execution_count": 30,
     "metadata": {},
     "output_type": "execute_result"
    }
   ],
   "source": [
    "miscuadradosimpares = []\n",
    "\n",
    "for k in range(1,15):\n",
    "    if k%2==1:\n",
    "        miscuadradosimpares.append(k**2)\n",
    "\n",
    "miscuadradosimpares"
   ]
  },
  {
   "cell_type": "markdown",
   "id": "driving-adult",
   "metadata": {},
   "source": [
    "Para contar las letras en una lista de palabras"
   ]
  },
  {
   "cell_type": "code",
   "execution_count": 31,
   "id": "hindu-breach",
   "metadata": {},
   "outputs": [
    {
     "data": {
      "text/plain": [
       "[5, 6, 6, 5, 4]"
      ]
     },
     "execution_count": 31,
     "metadata": {},
     "output_type": "execute_result"
    }
   ],
   "source": [
    "frutas = ['apple','banana','carrot','grape','kiwi']\n",
    "\n",
    "[len(palabra) for palabra in frutas]"
   ]
  },
  {
   "cell_type": "markdown",
   "id": "duplicate-warrant",
   "metadata": {},
   "source": [
    "### Caso con un condicional\n",
    "\n",
    "\n",
    "\n",
    "A veces necesitamos además que se satisfaga alguna condición en la iteración, como con este código\n",
    "```\n",
    "lst = list()\n",
    "for item in iterable:\n",
    "    if conditional:\n",
    "        lst.append(expression)\n",
    "```\n",
    "\n",
    "Esto puede hacer más sucintamente con\n",
    "\n",
    "```\n",
    "lst = [expression for item in iterable if conditional]\n",
    "```\n",
    "\n",
    "\n",
    "\n",
    "Por ejemplo, para generar los cuadrados de los números pares menores que 12"
   ]
  },
  {
   "cell_type": "code",
   "execution_count": 32,
   "id": "european-panic",
   "metadata": {},
   "outputs": [
    {
     "data": {
      "text/plain": [
       "[4, 16, 36, 64, 100]"
      ]
     },
     "execution_count": 32,
     "metadata": {},
     "output_type": "execute_result"
    }
   ],
   "source": [
    "lista1 = list()\n",
    "\n",
    "for k in range(1,12):\n",
    "    if k % 2 == 0:\n",
    "        lista1.append(k**2)\n",
    "\n",
    "lista1"
   ]
  },
  {
   "cell_type": "code",
   "execution_count": 33,
   "id": "alternate-toddler",
   "metadata": {},
   "outputs": [
    {
     "data": {
      "text/plain": [
       "[4, 16, 36, 64, 100]"
      ]
     },
     "execution_count": 33,
     "metadata": {},
     "output_type": "execute_result"
    }
   ],
   "source": [
    "lista2 = [k**2 for k in range(1, 12) if not k%2]\n",
    "lista2"
   ]
  },
  {
   "cell_type": "markdown",
   "id": "introductory-report",
   "metadata": {},
   "source": [
    "## Operaciones con textos"
   ]
  },
  {
   "cell_type": "code",
   "execution_count": 34,
   "id": "coated-speed",
   "metadata": {},
   "outputs": [],
   "source": [
    "diasemana = 'lunes'\n",
    "dia = 30\n",
    "mes = 'febrero'\n",
    "año = 2020"
   ]
  },
  {
   "cell_type": "code",
   "execution_count": 35,
   "id": "sound-gothic",
   "metadata": {},
   "outputs": [
    {
     "data": {
      "text/plain": [
       "'Hoy es lunes 30 de febrero de 2020'"
      ]
     },
     "execution_count": 35,
     "metadata": {},
     "output_type": "execute_result"
    }
   ],
   "source": [
    "\"Hoy es %s %d de %s de %d\" % (diasemana, dia, mes, año)"
   ]
  },
  {
   "cell_type": "code",
   "execution_count": 36,
   "id": "included-parks",
   "metadata": {},
   "outputs": [
    {
     "data": {
      "text/plain": [
       "'Hoy es lunes 30 de febrero de 2020'"
      ]
     },
     "execution_count": 36,
     "metadata": {},
     "output_type": "execute_result"
    }
   ],
   "source": [
    "\"Hoy es {0} {1} de {2} de {3}\".format(diasemana, dia, mes, año)"
   ]
  },
  {
   "cell_type": "code",
   "execution_count": 37,
   "id": "empirical-jungle",
   "metadata": {},
   "outputs": [
    {
     "data": {
      "text/plain": [
       "'Hoy es LUNES 29 de Febrero de 2020'"
      ]
     },
     "execution_count": 37,
     "metadata": {},
     "output_type": "execute_result"
    }
   ],
   "source": [
    "f\"Hoy es {diasemana.upper()} {dia-1} de {mes.title()} de {año}\""
   ]
  },
  {
   "cell_type": "code",
   "execution_count": 38,
   "id": "female-opportunity",
   "metadata": {},
   "outputs": [
    {
     "data": {
      "text/plain": [
       "0.14285714285714285"
      ]
     },
     "execution_count": 38,
     "metadata": {},
     "output_type": "execute_result"
    }
   ],
   "source": [
    "x = 1/7\n",
    "x"
   ]
  },
  {
   "cell_type": "code",
   "execution_count": 39,
   "id": "rising-velvet",
   "metadata": {},
   "outputs": [
    {
     "data": {
      "text/plain": [
       "'x es igual a         0.14286'"
      ]
     },
     "execution_count": 39,
     "metadata": {},
     "output_type": "execute_result"
    }
   ],
   "source": [
    "f\"x es igual a {x:15.5f}\""
   ]
  }
 ],
 "metadata": {
  "jupytext": {
   "formats": "md:myst",
   "text_representation": {
    "extension": ".md",
    "format_name": "myst"
   }
  },
  "kernelspec": {
   "display_name": "Python 3",
   "language": "python",
   "name": "python3"
  },
  "language_info": {
   "codemirror_mode": {
    "name": "ipython",
    "version": 3
   },
   "file_extension": ".py",
   "mimetype": "text/x-python",
   "name": "python",
   "nbconvert_exporter": "python",
   "pygments_lexer": "ipython3",
   "version": "3.8.8"
  },
  "source_map": [
   11,
   49,
   55,
   61,
   68,
   79,
   82,
   100,
   105,
   130,
   136,
   142,
   152,
   157,
   159,
   169,
   171,
   177,
   179,
   185,
   187,
   193,
   195,
   199,
   205,
   207,
   234,
   237,
   243,
   246,
   250,
   253,
   257,
   266,
   277,
   286,
   294,
   299,
   302,
   310,
   320,
   323,
   328,
   336,
   339,
   342,
   378,
   387,
   392,
   396,
   404,
   410,
   414,
   438,
   448,
   451,
   455,
   462,
   466,
   470,
   474,
   479
  ]
 },
 "nbformat": 4,
 "nbformat_minor": 5
}