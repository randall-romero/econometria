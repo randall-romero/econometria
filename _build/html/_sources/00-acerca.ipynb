{
 "cells": [
  {
   "cell_type": "markdown",
   "id": "confidential-queensland",
   "metadata": {},
   "source": [
    "![portada](./figures/portada.jpg)\n",
    "\n",
    "# Acerca de este libro\n",
    "\n",
    "Este sitio muestra la versión preliminar de un libro de macroeconometría, basado en los apuntes del curso EC-4301 Macroeconometría, de la Universidad de Costa Rica.\n",
    "\n",
    "\n",
    "Se asume que el lector ha tenido formación básica en estadística, econometría y en álgebra lineal.\n",
    "\n",
    "```{div} example\n",
    "En estos apuntes se presenta además varios ejemplos numéricos, bien sea con Stata o con Python.\n",
    "```\n",
    "\n",
    "```{warning}\n",
    "Esta es apenas una versión preliminar de los apuntes del curso, que estaré actualizando a lo largo del primer semestre de 2021.\n",
    "```"
   ]
  }
 ],
 "metadata": {
  "jupytext": {
   "formats": "md:myst",
   "text_representation": {
    "extension": ".md",
    "format_name": "myst"
   }
  },
  "kernelspec": {
   "display_name": "Python 3",
   "language": "python",
   "name": "python3"
  },
  "language_info": {
   "codemirror_mode": {
    "name": "ipython",
    "version": 3
   },
   "file_extension": ".py",
   "mimetype": "text/x-python",
   "name": "python",
   "nbconvert_exporter": "python",
   "pygments_lexer": "ipython3",
   "version": "3.8.8"
  },
  "source_map": [
   30
  ],
  "substitutions": {
   "empieza_ejemplo": "<div class=\"ejemplo\">\n<div class=\"ejemplo-titulo\"><b>Ejemplo: &nbsp;\n",
   "empieza_test": "<div class=\"test\">\n<div class=\"test-titulo\">\n",
   "fin_titulo_ejemplo": "</b></div>",
   "fin_titulo_test": "</div>",
   "termina_ejemplo": "</div>",
   "termina_test": "</div>",
   "test_estadistico": "<br><hr><i class=\"fas fa-calculator test-simbolo\"></i>\n",
   "test_hipotesis": "<br><hr><i class=\"fas fa-heading test-simbolo\"></i>\n",
   "test_inquietud": "<i class=\"fas fa-question test-simbolo\"></i>\n",
   "test_interpretacion": "<br><hr><i class=\"far fa-lightbulb test-simbolo\"></i>"
  }
 },
 "nbformat": 4,
 "nbformat_minor": 5
}