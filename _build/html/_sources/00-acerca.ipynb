{
 "cells": [
  {
   "cell_type": "markdown",
   "id": "certain-faith",
   "metadata": {},
   "source": [
    "# Acerca de este libro\n",
    "\n",
    "Este sitio muestra la versión preliminar de un libro de macroeconometría, basado en los apuntes del curso EC-4301 Macroeconometría, de la Universidad de Costa Rica.\n",
    "\n",
    "![portada](./figures/portada-ucr-youtube1.jpg)\n",
    "\n",
    "Se asume que el lector ha tenido formación básica en estadística, econometría y en álgebra lineal.\n",
    "\n",
    "```{div} example\n",
    "En estos apuntes se presenta además varios ejemplos numéricos, bien sea con Stata o con Python.\n",
    "```\n",
    "\n",
    "Hola\n",
    "\n",
    "\n",
    "\n",
    "```{admonition} Advertencia\n",
    "Esta es apenas una versión preliminar de los apuntes del curso, que estaré actualizando a lo largo del primer semestre de 2021.\n",
    "```\n",
    "\n",
    "\n",
    "\n",
    "<div class=\"example\">\n",
    "En estos apuntes se presenta además varios ejemplos numéricos, bien sea con Stata o con Python.\n",
    "</div>\n",
    "\n",
    "\n",
    "\n",
    "```{toctree}\n",
    ":hidden:\n",
    ":titlesonly:\n",
    ":caption: Acerca de este libro\n",
    "\n",
    "01-interactuando\n",
    "02-contenido\n",
    "```\n",
    "\n",
    "\n",
    "```{toctree}\n",
    ":hidden:\n",
    ":titlesonly:\n",
    ":numbered: 2\n",
    ":caption: Modelos de series de tiempo univariadas\n",
    "\n",
    "01-intro/chapter01\n",
    "02-eqdiff/chapter02\n",
    "03-arma/chapter03\n",
    "04-arima/chapter04\n",
    "05-cambioestructural/chapter05\n",
    "06-estacional/chapter06\n",
    "```\n",
    "\n",
    "\n",
    "```{toctree}\n",
    ":hidden:\n",
    ":titlesonly:\n",
    ":numbered: 2\n",
    ":caption: Modelos de series de tiempo multivariadas\n",
    "\n",
    "07-sur/chapter07\n",
    "08-sem/chapter08\n",
    "```\n",
    "\n",
    "\n",
    "```{toctree}\n",
    ":hidden:\n",
    ":titlesonly:\n",
    ":caption: Apéndices\n",
    "\n",
    "py-intro/py-chapter\n",
    "labs/labs-chapter\n",
    "r-code/chapter-r\n",
    "matematica/matematica\n",
    "estadistica/estadistica\n",
    "```"
   ]
  }
 ],
 "metadata": {
  "jupytext": {
   "formats": "md:myst",
   "text_representation": {
    "extension": ".md",
    "format_name": "myst"
   }
  },
  "kernelspec": {
   "display_name": "Python 3",
   "language": "python",
   "name": "python3"
  },
  "language_info": {
   "codemirror_mode": {
    "name": "ipython",
    "version": 3
   },
   "file_extension": ".py",
   "mimetype": "text/x-python",
   "name": "python",
   "nbconvert_exporter": "python",
   "pygments_lexer": "ipython3",
   "version": "3.8.8"
  },
  "source_map": [
   30
  ],
  "substitutions": {
   "empieza_ejemplo": "<div class=\"ejemplo\">\n<div class=\"ejemplo-titulo\"><b>Ejemplo: &nbsp;\n",
   "empieza_test": "<div class=\"test\">\n<div class=\"test-titulo\">\n",
   "fin_titulo_ejemplo": "</b></div>",
   "fin_titulo_test": "</div>",
   "termina_ejemplo": "</div>",
   "termina_test": "</div>",
   "test_estadistico": "<br><hr><i class=\"fas fa-calculator test-simbolo\"></i>\n",
   "test_hipotesis": "<br><hr><i class=\"fas fa-heading test-simbolo\"></i>\n",
   "test_inquietud": "<i class=\"fas fa-question test-simbolo\"></i>\n",
   "test_interpretacion": "<br><hr><i class=\"far fa-lightbulb test-simbolo\"></i>"
  }
 },
 "nbformat": 4,
 "nbformat_minor": 5
}