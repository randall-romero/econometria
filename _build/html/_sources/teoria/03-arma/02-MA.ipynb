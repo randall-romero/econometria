{
 "cells": [
  {
   "cell_type": "markdown",
   "id": "b1ea6393",
   "metadata": {},
   "source": [
    "```{include} ../math-definitions.md\n",
    "```"
   ]
  },
  {
   "cell_type": "code",
   "execution_count": null,
   "id": "661024db",
   "metadata": {
    "tags": [
     "hide-input"
    ]
   },
   "outputs": [],
   "source": [
    "import numpy as np\n",
    "import matplotlib.pyplot as plt\n",
    "plt.style.use('seaborn')\n",
    "from macrodemos.demo_ARMA import ARMA\n",
    "from macrodemos.common_components import merge_plots"
   ]
  },
  {
   "cell_type": "markdown",
   "id": "6cff7fd5",
   "metadata": {},
   "source": [
    "# Proceso de media móvil MA(q)\n",
    "\n",
    "## Proceso media móvil de primer orden: MA(1)\n",
    "\n",
    "Sea $\\left\\{\\epsilon_t\\right\\}_{t=-\\infty}^\\infty$ un proceso ruido blanco. Se define el proceso MA(1) como:\n",
    "\\begin{align*}\n",
    "y_t  &= \\mu + \\epsilon_t + \\theta\\epsilon_{t-1} \\\\\n",
    "     &= \\mu + (1+\\theta \\Lag)\\epsilon_t\n",
    "\\end{align*}\n",
    "\n",
    "Su valor esperado es:\n",
    "\\begin{align*}\n",
    "\\E[y_t]  &= \\mu + \\E[\\epsilon_t] + \\theta\\E[\\epsilon_{t-1}] \\\\\n",
    "         &= \\mu + 0 + 0\\theta \\\\\n",
    "         &= \\mu\n",
    "\\end{align*}\n",
    "\n",
    "\n",
    "Su varianza es\n",
    "\\begin{align*}\n",
    "\\Var[y_t] &\\equiv \\E\\left[(y_t - \\E[y_t])^2\\right] \\\\\n",
    "          &= \\E\\left[(y_t - \\mu)^2\\right] \\\\\n",
    "          &= \\E\\left[(\\epsilon_t + \\theta\\epsilon_{t-1})^2\\right] \\\\\n",
    "          &= \\E\\left[\\epsilon^2_t + 2\\theta\\epsilon_t\\epsilon_{t-1} + \\theta^2\\epsilon^2_{t-1}\\right] \\\\\n",
    "          &= \\E\\left[\\epsilon^2_t\\right] + 2\\theta\\E\\left[\\epsilon_t\\epsilon_{t-1}\\right] + \\theta^2\\E\\left[\\epsilon^2_{t-1}\\right] \\\\\n",
    "          &= \\sigma^2 + 2\\theta\\times 0  \\theta^2\\sigma^2 \\\\\n",
    "          &= (1 + \\theta^2)\\sigma^2\n",
    "\\end{align*}\n",
    "\n",
    "\n",
    "Su autocovarianza $j$, para $j\\geq 1$, es\n",
    "\\begin{align*}\n",
    "\\Cov[y_t, y_{t-j}] &= \\E\\left[(y_t - \\mu)(y_{t-j} - \\mu)\\right] \\\\\n",
    "                   &= \\E\\left[(\\epsilon_{t} + \\theta\\epsilon_{t-1})(\\epsilon_{t-j} + \\theta\\epsilon_{t-j-1})\\right] \\\\\n",
    "                   &= \\E\\left[\\epsilon_{t}\\epsilon_{t-j} + \\theta\\epsilon_{t}\\epsilon_{t-j-1} + \\theta\\epsilon_{t-1}\\epsilon_{t-j} + \\theta^2\\epsilon_{t-1}\\epsilon_{t-j-1}\\right] \\\\\n",
    "                   &= 0 + \\theta\\times 0 + \\theta\\E\\left[\\epsilon_{t-1}\\epsilon_{t-j}\\right]  + \\theta^2\\times 0 \\\\\n",
    "                   &= \\theta\\E\\left[\\epsilon_{t-1}\\epsilon_{t-j}\\right]\n",
    "                   = \\begin{cases}\n",
    "\\theta\\sigma^2 &, \\text{ si }j=1 \\\\\n",
    "0 &, \\text{ si }j>1\n",
    "\\end{cases}\n",
    "\\end{align*}\n",
    "\n",
    "\n",
    "Por lo tanto, su función de autocorrelación es\n",
    "\\begin{equation*}\n",
    "\\rho_j = \\begin{cases}\n",
    "\\frac{\\theta}{1+\\theta^2} &, \\text{ si } j=1 \\\\\n",
    "0 &, \\text{ si } j>1\n",
    "\\end{cases}\n",
    "\\end{equation*}\n",
    "\n",
    "Notemos que la función de autocorrelación de $y_t  = \\mu + \\epsilon_t + \\theta\\epsilon_{t-1}$ es la misma que para el proceso $z_t  = \\mu + \\epsilon_t + \\frac{1}{\\theta}\\epsilon_{t-1}$"
   ]
  },
  {
   "cell_type": "code",
   "execution_count": null,
   "id": "e9c6f62d",
   "metadata": {
    "tags": [
     "hide-input"
    ]
   },
   "outputs": [],
   "source": [
    "plt.style.use('seaborn')\n",
    "\n",
    "rho1 = lambda x: x / (1+x**2)\n",
    "theta = np.linspace(-3,3, 121)\n",
    "\n",
    "fig, ax = plt.subplots()\n",
    "ax.plot(theta, rho1(theta))\n",
    "\n",
    "ax.plot([0.5,0.5,2.0,2.0], [0,rho1(0.5), rho1(2.0), 0], ':')\n",
    "ax.plot([-0.5,-0.5,-2.0,-2.0], [0,rho1(-0.5), rho1(-2.0), 0], ':')\n",
    "ax.set_xticks([-2.0,-0.5,0.0,0.5, 2.0])\n",
    "ax.set_yticks([-0.5,0,0.5])\n",
    "ax.set_xlabel(r'$\\theta$')\n",
    "ax.set_ylabel(r'$\\rho_1$');"
   ]
  },
  {
   "cell_type": "markdown",
   "id": "1fbe0afc",
   "metadata": {},
   "source": [
    "Resumiendo los resultados que hemos obtenido\n",
    "\\begin{align*}\n",
    "\\E[y_t]   &= \\mu \\\\\n",
    "\\Var[y_t] &= (1 + \\theta^2)\\sigma^2 \\\\\n",
    "\\Cov[y_t, y_{t-j}] &= \\begin{cases}\\theta\\sigma^2 &, \\text{ si }j=1 \\\\0 &, \\text{ si }j>1 \\end{cases}\n",
    "\\end{align*}\n",
    "\n",
    "vemos que ninguno de estos momentos depende del tiempo $t$, por lo que el proceso MA(1) siempre es covarianza-estacionario.\n",
    "\n",
    "{{ empieza_ejemplo }} MA(1) con $\\theta>0${{ fin_titulo_ejemplo }}\n",
    "\n",
    "$y_t  = \\epsilon_t + 0.8\\epsilon_{t-1}$"
   ]
  },
  {
   "cell_type": "code",
   "execution_count": null,
   "id": "fec9eb8d",
   "metadata": {
    "tags": [
     "hide-input"
    ]
   },
   "outputs": [],
   "source": [
    "modelo_ma1p = ARMA(theta=[0.8])\n",
    "modelo_ma1p.sample(120)\n",
    "\n",
    "merge_plots(\n",
    "   [modelo_ma1p.plot_process(), modelo_ma1p.plot_correlogram(18)],\n",
    "   cols=2,\n",
    "   subplot_titles=['Realización', 'Autocorrelación'] ,\n",
    "   title_text=str(modelo_ma1p),\n",
    "   shared_yaxes=False\n",
    ")"
   ]
  },
  {
   "cell_type": "markdown",
   "id": "38f4fee2",
   "metadata": {},
   "source": [
    "{{ termina_ejemplo }}\n",
    "\n",
    "{{ empieza_ejemplo }} MA(1) con $\\theta<0${{ fin_titulo_ejemplo }}\n",
    "$y_t  = \\epsilon_t - 0.8\\epsilon_{t-1}$"
   ]
  },
  {
   "cell_type": "code",
   "execution_count": null,
   "id": "06b334f5",
   "metadata": {
    "tags": [
     "hide-input"
    ]
   },
   "outputs": [],
   "source": [
    "modelo_ma1n = ARMA(theta=[-0.8])\n",
    "modelo_ma1n.sample(120)\n",
    "\n",
    "merge_plots(\n",
    "   [modelo_ma1n.plot_process(), modelo_ma1n.plot_correlogram(18)],\n",
    "   cols=2,\n",
    "   subplot_titles=['Realización', 'Autocorrelación'] ,\n",
    "   title_text=str(modelo_ma1n),\n",
    "   shared_yaxes=False\n",
    ")"
   ]
  },
  {
   "cell_type": "markdown",
   "id": "dec3d9fb",
   "metadata": {},
   "source": [
    "{{ termina_ejemplo }}\n",
    "\n",
    "\n",
    "## Invertibilidad de un proceso MA(1)\n",
    "\n",
    "Supongamos que $\\mu=0$, con lo que el proceso es\n",
    "\\begin{equation*}\n",
    "y_t  = \\epsilon_t + \\theta\\epsilon_{t-1} = (1+\\theta \\Lag)\\epsilon_t\n",
    "\\end{equation*}\n",
    "\n",
    "Siempre que $|\\theta|< 1$ podemos invertir el polinomio $(1+\\theta \\Lag)$:\n",
    "\\begin{equation*}\n",
    "(1+\\theta \\Lag)^{-1} = (1 - \\theta\\Lag + \\theta^2\\Lag^2 - \\theta^3\\Lag^3 + \\dots)\n",
    "\\end{equation*}\n",
    "\n",
    "con lo que\n",
    "\\begin{align*}\n",
    "\\epsilon_t &= (1+\\theta \\Lag)^{-1}y_t \\\\\n",
    " &= (1 - \\theta\\Lag + \\theta^2\\Lag^2 - \\theta^3\\Lag^3 + \\dots)y_t \\\\\n",
    " &= y_{t} - \\theta y_{t-1} + \\theta^2 y_{t-2} - \\theta^3 y_{t-3} + \\dots\\\\\n",
    "\\Rightarrow y_{t} &= \\epsilon_t + \\theta y_{t-1} - \\theta^2 y_{t-2} + \\theta^3 y_{t-3} - \\dots\n",
    "\\end{align*}\n",
    "\n",
    "Es decir, podemos representar el proceso MA(1) como un proceso AR($\\infty$).\n",
    "\n",
    "\n",
    "Recordemos que si bien un proceso MA(1) con parámetro $\\theta$ tiene exactamente la misma función de autocorrelación que un proceso con parámetro $\\frac{1}{\\theta}$, solo uno de ellos puede ser invertible, porque si $|\\theta|<1$, entonces $|\\frac{1}{\\theta}|>1$.\n",
    "\n",
    "Para ciertos métodos de estimación, sólo será posible estimar el modelo MA(1) si es invertible.\n",
    "\n",
    "Por ello, para modelos no invertibles se suele cambiar el parámetro por su recíproco.\n",
    "\n",
    "\n",
    "\n",
    "\n",
    "## El proceso MA(q)\n",
    "\n",
    "Es fácil extender el proceso MA(1) para incluir más rezagos.\n",
    "\n",
    "El proceso MA(q) es\n",
    "\\begin{align*}\n",
    "y_t  &= \\mu + \\epsilon_t + \\theta_1\\epsilon_{t-1} + \\dots + \\theta_q\\epsilon_{t-q} \\\\\n",
    "     &= \\mu + \\left(1 + \\theta_1 \\Lag + \\dots + \\theta_q \\Lag^q\\right)\\epsilon_t\\\\\n",
    "     &= \\mu + \\Theta(\\Lag)\\epsilon_t\n",
    "\\end{align*}\n",
    "con $\\epsilon_t$ ruido blanco.\n",
    "\n",
    "Su valor esperado es\n",
    "\\begin{align*}\n",
    "\\E\\left(y_t\\right) & = \\E\\left(\\mu +\\epsilon_t + \\theta_1\\epsilon_{t-1} + \\dots + \\theta_q\\epsilon_{t-q}\\right)                               \\\\\n",
    "                   & = \\mu + \\E\\left(\\epsilon_t\\right) + \\theta_1\\E\\left(\\epsilon_{t-1}\\right) + \\dots + \\theta_q\\E\\left(\\epsilon_{t-q}\\right) \\\\\n",
    "                   & = \\mu\n",
    "\\end{align*}\n",
    "\n",
    "\n",
    "Su varianza es\n",
    "\\begin{align*}\n",
    "\\Var[y_t] &= \\E\\left[(y_t - \\mu)^2\\right] \\\\\n",
    " &= \\E\\left[(\\epsilon_t + \\theta_1\\epsilon_{t-1} + \\dots + \\theta_q\\epsilon_{t-q})^2\\right] \\\\\n",
    " &= \\sigma^2 + \\theta_1^2\\sigma^2 + \\dots + \\theta_q^2\\sigma^2 \\\\\n",
    " &= (1 + \\theta_1^2 + \\dots + \\theta_q^2)\\sigma^2\n",
    "\\end{align*}\n",
    "\n",
    "mientras que su autocovarianza es\n",
    "\\begin{equation*}\n",
    "\\gamma_j = \\begin{cases}\n",
    "\\left(\\theta_j + \\theta_{j+1}\\theta_1 + \\theta_{j+2}\\theta_2 +\\dots + \\theta_{q}\\theta_{q-j}  \\right)\\sigma^2 &\\text{si } j=1,2,\\dots,q \\\\\n",
    "0 &\\text{para } j>q.\n",
    "\\end{cases}\n",
    "\\end{equation*}\n",
    "\n",
    "es decir, una característica distintiva de un proceso MA(q) es que todas sus autocorrelaciones para rezagos mayores a $q$ son cero.\n",
    "\n",
    "\n",
    "\n",
    "## Invertibilidad de un proceso MA(q)\n",
    "\n",
    "El proceso MA(q)\n",
    "\\begin{equation*}\n",
    "y_t = \\mu + \\Theta(\\Lag)\\epsilon_t\n",
    "\\end{equation*}\n",
    "será invertible si y solo si las raíces del polinomio $\\Theta(z)$ están todas fuera del círculo unitario.\n",
    "\n",
    "En ese caso, el proceso se puede representar por\n",
    "\\begin{equation*}\n",
    "\\epsilon_t = \\Theta^{-1}(\\Lag)(y_t - \\mu)\n",
    "\\end{equation*}\n",
    "lo cual corresponde a un proceso AR($\\infty$).\n",
    "\n",
    "\n",
    "## Función impulso respuesta de un proceso MA(q)\n",
    "\n",
    "La función de impulso respuesta está definida por\n",
    "\\begin{equation*}\n",
    "\\Psi(j) = \\marginal{y_{t+j}}{\\epsilon_{t}}\n",
    "\\end{equation*}\n",
    "es decir, nos dice cuánto cambia $y$ luego de $j$ períodos ante una perturbación.\n",
    "\n",
    "Para series estacionarias, podemos escribir\n",
    "\\begin{equation*}\n",
    "\\Psi(j) = \\marginal{y_{t}}{\\epsilon_{t-j}}\n",
    "\\end{equation*}\n",
    "\n",
    "Pero como $y_t = \\mu + \\epsilon_t + \\theta_1\\epsilon_{t-1} + \\dots + \\theta_q\\epsilon_{t-q}$ es fácil ver que\n",
    "\\begin{equation*}\n",
    "\\Psi(j) = \\theta_j\n",
    "\\end{equation*}\n",
    "es decir, la función de impulso respuesta es idéntica a los coeficientes del proceso MA(q).\n",
    "\n",
    "\n",
    "\n",
    "{{ empieza_ejemplo }} MA(2) y MA(4) {{ fin_titulo_ejemplo }}\n",
    "\n",
    "\\begin{align*}\n",
    "y_t &= \\epsilon_t + 0.5\\epsilon_{t-1} + 0.5\\epsilon_{t-2} \\tag{MA(2)} \\\\\n",
    "y_t &= \\epsilon_t - 0.6\\epsilon_{t-1} + 0.3\\epsilon_{t-2} - 0.5\\epsilon_{t-3} + 0.5\\epsilon_{t-4} \\tag{MA(4)}\n",
    "\\end{align*}"
   ]
  },
  {
   "cell_type": "code",
   "execution_count": null,
   "id": "1e27e8c1",
   "metadata": {
    "tags": [
     "hide-input"
    ]
   },
   "outputs": [],
   "source": [
    "subplot_titles = ['Realización',\n",
    "                  'Función impulso respuesta',\n",
    "                  'Autocorrelación',\n",
    "                  'Autocorrelación parcial']\n",
    "\n",
    "y = ARMA(theta=[0.5, 0.5])\n",
    "y.sample(120)\n",
    "\n",
    "\n",
    "\n",
    "merge_plots(\n",
    "   [y.plot_process(), y.plot_irf(24), y.plot_correlogram(18), y.plot_partial_correlogram(18)],\n",
    "   cols=2,\n",
    "   subplot_titles=subplot_titles,\n",
    "   title_text=str(y),\n",
    "   shared_xaxes=False,\n",
    "   shared_yaxes=False\n",
    ")"
   ]
  },
  {
   "cell_type": "code",
   "execution_count": null,
   "id": "f40d5fa3",
   "metadata": {
    "tags": [
     "hide-input"
    ]
   },
   "outputs": [],
   "source": [
    "z = ARMA(theta=[-0.6, 0.3, -0.5, 0.5])\n",
    "z.sample(120)\n",
    "\n",
    "merge_plots(\n",
    "   [z.plot_process(), z.plot_irf(24), z.plot_correlogram(18), z.plot_partial_correlogram(18)],\n",
    "   cols=2,\n",
    "   subplot_titles=subplot_titles,\n",
    "   title_text=str(z),\n",
    "   shared_xaxes=False,\n",
    "   shared_yaxes=False\n",
    ")"
   ]
  },
  {
   "cell_type": "code",
   "execution_count": null,
   "id": "21ee31e8",
   "metadata": {
    "tags": [
     "hide-input"
    ]
   },
   "outputs": [],
   "source": [
    "fig = y.plot_ma_roots()\n",
    "fig.update_layout(title_text='Raíces de $z^2 + 0.5z + 0.5$')"
   ]
  },
  {
   "cell_type": "code",
   "execution_count": null,
   "id": "aff85300",
   "metadata": {
    "tags": [
     "hide-input"
    ]
   },
   "outputs": [],
   "source": [
    "fig = z.plot_ma_roots()\n",
    "fig.update_layout(title_text='Raíces de $z^4 - 0.6z^3 + 0.3z^2 - 0.5z + 0.5$')"
   ]
  },
  {
   "cell_type": "markdown",
   "id": "b0b7dc51",
   "metadata": {},
   "source": [
    "{{ termina_ejemplo }}\n",
    "\n",
    "\n",
    "## Proceso media móvil de orden infinito: MA($\\infty$)\n",
    "\n",
    "Definimos el proceso MA($\\infty$) como\n",
    "\\begin{equation*}\n",
    "y_t = \\mu + \\psi_0\\epsilon_{t} + \\psi_1\\epsilon_{t-1} + \\psi_2\\epsilon_{t-2} + \\dots\n",
    "\\end{equation*}\n",
    "\n",
    "Su media es\n",
    "\\begin{equation*}\n",
    "\\E[y_t] = \\mu\n",
    "\\end{equation*}\n",
    "\n",
    "Su varianza es\n",
    "\\begin{equation*}\n",
    "\\gamma_0 = \\left(\\psi_0^2 + \\psi_1^2 + \\psi_2^2 + \\dots \\right)\\sigma^2\n",
    "\\end{equation*}\n",
    "\n",
    "la cual es finita siempre y cuando\n",
    "\\begin{equation*}\n",
    "\\sum_{j=0}^{\\infty}\\psi_j^2 < \\infty\n",
    "\\end{equation*}"
   ]
  }
 ],
 "metadata": {
  "jupytext": {
   "formats": "md:myst",
   "text_representation": {
    "extension": ".md",
    "format_name": "myst"
   }
  },
  "kernelspec": {
   "display_name": "Python 3",
   "language": "python",
   "name": "python3"
  },
  "source_map": [
   17,
   23,
   30,
   88,
   104,
   120,
   132,
   138,
   151,
   271,
   294,
   311,
   317,
   321
  ],
  "substitutions": {
   "empieza_ejemplo": "<div class=\"ejemplo\">\n<div class=\"ejemplo-titulo\"><b>Ejemplo: &nbsp;\n",
   "fin_titulo_ejemplo": "</b></div>",
   "termina_ejemplo": "</div>"
  }
 },
 "nbformat": 4,
 "nbformat_minor": 5
}