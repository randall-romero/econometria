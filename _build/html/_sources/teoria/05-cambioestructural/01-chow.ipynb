{
 "cells": [
  {
   "cell_type": "markdown",
   "id": "8af817db",
   "metadata": {},
   "source": [
    "```{include} ../math-definitions.md\n",
    "```"
   ]
  },
  {
   "cell_type": "code",
   "execution_count": null,
   "id": "349426c5",
   "metadata": {
    "tags": [
     "hide-input"
    ]
   },
   "outputs": [],
   "source": [
    "import numpy as np\n",
    "import pandas as pd\n",
    "pd.options.plotting.backend = \"plotly\"\n",
    "\n",
    "from statsmodels.formula.api import ols\n",
    "import pandas_datareader as pdr\n",
    "import plotly.express as px"
   ]
  },
  {
   "cell_type": "markdown",
   "id": "89ba762b",
   "metadata": {},
   "source": [
    "# La prueba de Chow\n",
    "\n",
    " % Greene p191--\n",
    "## Determinando si hay un cambio estructural\n",
    "\n",
    "Recordemos que podemos expresar una regresión lineal como\n",
    "\\begin{align*}\n",
    "y_t &= \\beta_{1}x_{t,1} + \\dots + \\beta_{k}x_{t,k} + \\epsilon \\\\\n",
    "    &=\\MAT{x_{t,1} & \\dots & x_{t,k}}\\MAT{\\beta_{1} \\\\ \\vdots \\\\ \\beta_{k}} + \\epsilon_{t} \\\\\n",
    "    &=x'_t\\beta + \\epsilon_{t}\n",
    "\\end{align*}\n",
    "\n",
    "Cuando apilamos todas $T$ las observaciones\n",
    "\\begin{equation*}\n",
    "Y = \\simbolo{\\MAT{y_1 \\\\ \\vdots \\\\ y_T}}{Y} = \\MAT{x'_1\\beta + \\epsilon_{1} \\\\ \\vdots \\\\ x'_T\\beta + \\epsilon_{T}}\n",
    "= \\simbolo{\\MAT{x'_1\\\\ \\vdots \\\\ x'_T}}{X}\\beta   + \\simbolo{\\MAT{\\epsilon_{1} \\\\ \\vdots \\\\ \\epsilon_{T}}}{\\epsilon}\n",
    "= X\\beta + \\epsilon\n",
    "\\end{equation*}\n",
    "\n",
    "\n",
    "La regresión $Y=X\\beta+\\epsilon$ asume que el vector de coeficientes $\\beta$ es el mismo para toda la muestra.\n",
    "\n",
    "Supongamos que pensamos que durante el período conocido hubo un cambio estructural en la economía, por lo que el vector de parámetros fue $\\beta_0$ antes del cambio pero $\\beta_{1}$ después. Entonces:\n",
    "\\begin{align*}\n",
    "&\\begin{cases}\n",
    "Y_1 = X_1\\beta_1 + \\epsilon_{1},& \\text{ antes del cambio}\\\\\n",
    "Y_2 = X_2\\beta_2 + \\epsilon_{2},& \\text{ después}\\\\\n",
    "\\end{cases}\\\\\n",
    "\\MAT{Y_1\\\\ Y_2} &=\\MAT{X_1 & 0 \\\\ 0 & X_2}\\MAT{\\beta_1\\\\ \\beta_2} + \\MAT{\\epsilon_{1}\\\\ \\epsilon_{2}}\n",
    "\\end{align*}\n",
    "\n",
    "Por lo que el estimador de mínimos cuadrados ordinarios\n",
    "\\begin{equation*}\n",
    "\\widehat{\\MAT{\\beta_1\\\\ \\beta_2}}= \\MAT{X'_1X_1 & 0 \\\\ 0 & X'_2X_2}^{-1}\\MAT{X'_1Y_1 \\\\ X_2Y_2} = \\MAT{\\hat\\beta_1\\\\ \\hat\\beta_2}\n",
    "\\end{equation*}\n",
    "\n",
    "\n",
    "Esto nos dice que los parámetros $\\beta_{1}$ y $\\beta_2$ pueden estimarse por MCO separadamente.\n",
    "\n",
    "Planteamos la hipótesis nula de que no hay cambio estructural: $\\beta_{1}=\\beta_2$. Entonces\n",
    "\\begin{align*}\n",
    " &\\begin{cases}\n",
    "Y_1 = X_1\\beta + \\epsilon_{1},& \\text{ antes del cambio}\\\\\n",
    "Y_2 = X_2\\beta + \\epsilon_{2},& \\text{ todo sigue igual}\\\\\n",
    "\\end{cases}\\\\\n",
    "\\MAT{Y_1\\\\ Y_2} &=\\MAT{X_1 \\\\ X_2}\\beta + \\MAT{\\epsilon_{1}\\\\ \\epsilon_{2}}\n",
    "\\end{align*}\n",
    "\n",
    "Esto corresponde a la regresión con todas las observaciones.\n",
    "\n",
    "La hipótesis $\\beta_{1}=\\beta_2$ puede comprobarse con un test de Wald.\n",
    "\n",
    "\n",
    "## La prueba de Chow\n",
    "\n",
    "Sea $S$ la suma de los cuadrados de los residuos de la regresión restringida, y $S_i$ la suma de los cuadrados de los residuos de la regresión de la muestra $i$.\n",
    "\n",
    "\n",
    "\\TEST{Prueba de cambio estructural de Chow}{¿Son los coeficientes $\\beta_1$ y $\\beta_2$ distintos?}{$\\beta_{1} = \\beta_2$}{$\\frac{\\frac{S - S_1 - S_2}{k}}{\\frac{S_1+S_2}{T-2k}} \\sim F(k, T-2k)$}{Si el estadístico es grande (mayor que el valor crítico), los modelos son distintos, por lo que sí hay cambio estructural.}\n",
    "\n",
    "\n",
    "\n",
    "{{ empieza_ejemplo }} Cambio en la demanda por combustible {{ fin_titulo_ejemplo }}\n",
    "El mercado del petróleo tuvo un cambio significativo en 1973:\n",
    "\n",
    "\n",
    "````{panels}\n",
    ":img-top-cls: pl-0 pr-0\n",
    "\n",
    "---\n",
    ":img-top: figures/seven-sisters.jpg\n",
    "^^^\n",
    "Antes de 1973, el comercio de petróleo estaba dominado por las “Siete Hermanas”, que controlaba $\\approx 85\\%$ de la reservas de petróleo.\n",
    "\n",
    "---\n",
    ":img-top: figures/OPEC-flag.png\n",
    "^^^\n",
    "Desde la guerra de Yom Kippur (oct-1973), la OPEP ha dominado activamente en la fijación del precio.\n",
    "````"
   ]
  },
  {
   "cell_type": "code",
   "execution_count": null,
   "id": "46c3c9ef",
   "metadata": {
    "tags": [
     "hide-input"
    ]
   },
   "outputs": [],
   "source": [
    "oil = pdr.get_data_fred('WTISPLC', start=1946)   \n",
    "fig = oil.plot()\n",
    "\n",
    "\n",
    "fig.update_layout(\n",
    "        title=\"Spot Crude Oil Price: West Texas Intermediate (WTI)\",\n",
    "        xaxis_title=\" \",\n",
    "        yaxis_title=\"dólares por barril\",\n",
    "        showlegend=False\n",
    "    )\n",
    "\n",
    "vrect_options = dict(\n",
    "    annotation_position=\"top left\",\n",
    "    fillcolor=\"green\",\n",
    "    opacity=0.25,\n",
    "    annotation_textangle=-90,\n",
    "    line_width=0\n",
    ")    \n",
    "\n",
    "fig.add_vrect(x0=\"1973-10-01\", x1=\"1974-03-30\",\n",
    "              annotation_text=\"embargo 1973\", **vrect_options)    \n",
    "\n",
    "fig.add_vrect(x0=\"1979-01-01\", x1=\"1980-06-30\",\n",
    "              annotation_text=\"crisis petrolera 1979\", **vrect_options)\n",
    "\n",
    "fig.add_vrect(x0=\"2008-01-01\", x1=\"2010-01-01\",\n",
    "              annotation_text=\"Crisis Financiera\", **vrect_options)"
   ]
  },
  {
   "cell_type": "markdown",
   "id": "d6d377b0",
   "metadata": {},
   "source": [
    "Fuente de datos: <https://fred.stlouisfed.org/series/WTISPLC>\n",
    "\n",
    "\n",
    "\n",
    "\\textcite{Greene:2012} estima el modelo el consumo per capita de combustible $G$\n",
    "\\begin{equation*}\n",
    "G_t = \\beta_1 + \\beta_2 I_t + \\beta_3 PG_t + \\beta_4 PNC_t + \\beta_5 PUC_t + \\beta_6 t + \\epsilon_{t}\n",
    "\\end{equation*}\n",
    "(todas las variables en logaritmo, excepto $t$) y comprueba si hay un cambio estructural en 1974."
   ]
  },
  {
   "cell_type": "code",
   "execution_count": null,
   "id": "11bb425d",
   "metadata": {
    "tags": [
     "hide-input"
    ]
   },
   "outputs": [],
   "source": [
    "greene_file = 'http://www.stern.nyu.edu/~wgreene/Text/Edition7/TableF2-2.csv'\n",
    "gasdata = pd.read_csv(greene_file, parse_dates=True, index_col=0)\n",
    "\n",
    "gasdata.eval('G = GASEXP/GASP', inplace=True)\n",
    "gasdata.eval('GPC = 1e6*G/POP', inplace=True)\n",
    "gasdata['t'] = np.exp(gasdata.index.year - 1952)\n",
    "\n",
    "series = {\n",
    "    'GASEXP'    : 'Total U.S. gasoline expenditure',\n",
    "    'GASP'      : 'precio combustible',\n",
    "    'INCOME'    : 'ingreso per capita',\n",
    "    'PNC'       : 'precio carro nuevo',\n",
    "    'PUC'       : 'precio carro nuevo',\n",
    "    'POP'       : 'U.S. total population in thousands',\n",
    "    'GPC'       : 'Consumo per capita',\n",
    "    'Intercept' : 'intercepto',\n",
    "    't'         : 'tendencia'\n",
    "}\n",
    "\n",
    "params = pd.DataFrame()\n",
    "signif = pd.DataFrame()\n",
    "stats = pd.DataFrame(index=['S', '$R^2$', 'T', 'k'])\n",
    "\n",
    "samples = {'1953-2004': slice('1953','2004'),\n",
    "           '1953-1973': slice('1953','1973'),\n",
    "           '1974-2004': slice('1974','2004')}\n",
    "\n",
    "\n",
    "for periodo, ss in samples.items():\n",
    "    mm = ols('GPC ~ INCOME + GASP + PNC + PUC + t', np.log(gasdata)[ss]).fit()\n",
    "    params[periodo] = mm.params\n",
    "    signif[periodo] = ['✓' if p < 0.05 else '' for p in mm.pvalues]\n",
    "    stats[periodo] = [mm.ssr, mm.rsquared, mm.nobs, mm.params.shape[0]]\n",
    "\n",
    "params.rename(index=series)\n",
    "signif.index = params.index\n",
    "\n",
    "pd.concat([params.round(4), signif], keys=['coef ', 'p<0.05']).unstack(0)"
   ]
  },
  {
   "cell_type": "code",
   "execution_count": null,
   "id": "7a31eaf8",
   "metadata": {
    "tags": [
     "hide-input"
    ]
   },
   "outputs": [],
   "source": [
    "stats"
   ]
  },
  {
   "cell_type": "code",
   "execution_count": null,
   "id": "d39d3068",
   "metadata": {
    "tags": [
     "hide-input"
    ]
   },
   "outputs": [],
   "source": [
    "gasdata['PERIODO'] = ''\n",
    "gasdata.loc['1953':'1973', 'PERIODO'] = '1953-1973'\n",
    "gasdata.loc['1974':'2004', 'PERIODO'] = '1974-2004'\n",
    "fig = px.scatter(gasdata, x=\"GPC\", y=\"GASP\", color=\"PERIODO\", trendline=\"ols\")\n",
    "fig.update_layout(\n",
    "        title=\"Cambio estructural, test de Chow\",\n",
    "        xaxis_title=\"Consumo per capita\",\n",
    "        yaxis_title=\"ndice de precio\"\n",
    "    )"
   ]
  },
  {
   "cell_type": "markdown",
   "id": "538cc1fd",
   "metadata": {},
   "source": [
    "\\begin{equation*}\n",
    "\\frac{\\frac{0.1020 - 0.0020 - 0.0071}{6}}{\\frac{0.0020 + 0.0071}{52 - 2\\times 6}} = 67.65 > 2.34 = F(6, 40)\n",
    "\\end{equation*}\n",
    "\n",
    "La prueba de Chow confirma que hay un cambio estructural en 1974: los parámetros de 1953-1973 son significativamente distintos a los de 1974-2004.\n",
    "\n",
    "{{ termina_ejemplo }}\n",
    "\n",
    "## Limitaciones de la prueba de Chow\n",
    "La prueba de Chow tiene algunas limitaciones importantes\n",
    "\n",
    "-  Asume que el analista sabe la fecha en que ocurre el cambio estructural\n",
    "-  Asume que la varianza de los errores es la misma antes y después del cambio estructural."
   ]
  }
 ],
 "metadata": {
  "jupytext": {
   "formats": "md:myst",
   "text_representation": {
    "extension": ".md",
    "format_name": "myst"
   }
  },
  "kernelspec": {
   "display_name": "Python 3",
   "language": "python",
   "name": "python3"
  },
  "source_map": [
   17,
   23,
   32,
   120,
   150,
   160,
   202,
   208,
   219
  ],
  "substitutions": {
   "empieza_ejemplo": "<div class=\"ejemplo\">\n<div class=\"ejemplo-titulo\"><b>Ejemplo: &nbsp;\n",
   "fin_titulo_ejemplo": "</b></div>",
   "termina_ejemplo": "</div>"
  }
 },
 "nbformat": 4,
 "nbformat_minor": 5
}