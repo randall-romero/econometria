{
 "cells": [
  {
   "cell_type": "markdown",
   "id": "baa2864e-324d-473b-951a-cdacf6ab7a08",
   "metadata": {
    "pycharm": {
     "name": "#%% md\n"
    }
   },
   "source": [
    "<head>\n",
    "  <title>Bootstrap Example</title>\n",
    "  <meta charset=\"utf-8\">\n",
    "  <meta name=\"viewport\" content=\"width=device-width, initial-scale=1\">\n",
    "  <link rel=\"stylesheet\" href=\"https://maxcdn.bootstrapcdn.com/bootstrap/3.4.1/css/bootstrap.min.css\">\n",
    "  <script src=\"https://ajax.googleapis.com/ajax/libs/jquery/3.5.1/jquery.min.js\"></script>\n",
    "  <script src=\"https://maxcdn.bootstrapcdn.com/bootstrap/3.4.1/js/bootstrap.min.js\"></script>\n",
    "</head>\n",
    "\n",
    "<div class=\"container\">\n",
    "  <div class=\"row\">\n",
    "    <div class=\"col-sm-4\">\n",
    "      <h3>Column 1</h3>\n",
    "      <p>Lorem ipsum dolor sit amet, consectetur adipisicing elit...</p>\n",
    "      <p>Ut enim ad minim veniam, quis nostrud exercitation ullamco laboris...</p>\n",
    "    </div>\n",
    "    <div class=\"col-sm-4\">\n",
    "      <h3>Column 2</h3>\n",
    "      <p>Lorem ipsum dolor sit amet, consectetur adipisicing elit...</p>\n",
    "      <p>Ut enim ad minim veniam, quis nostrud exercitation ullamco laboris...</p>\n",
    "    </div>\n",
    "    <div class=\"col-sm-4\">\n",
    "      <h3>Column 3</h3>        \n",
    "      <p>Lorem ipsum dolor sit amet, consectetur adipisicing elit...</p>\n",
    "      <p>Ut enim ad minim veniam, quis nostrud exercitation ullamco laboris...</p>\n",
    "    </div>\n",
    "  </div>\n",
    "</div>"
   ]
  },
  {
   "cell_type": "markdown",
   "id": "bb775e21-c806-4ad3-8057-aaf447154454",
   "metadata": {
    "pycharm": {
     "name": "#%% md\n"
    }
   },
   "source": [
    "<div class=\"alert alert-info\">\n",
    "  <strong>Let's start with THIS blue box:</strong>\n",
    "</div>"
   ]
  },
  {
   "cell_type": "markdown",
   "id": "8887092a-4cd2-4f15-8a4a-f9a0769a96bb",
   "metadata": {
    "pycharm": {
     "name": "#%% md\n"
    }
   },
   "source": [
    "<div class=\"alert alert-success\">\n",
    "  <strong>Let's start with THIS blue box:</strong>\n",
    "</div>"
   ]
  },
  {
   "cell_type": "markdown",
   "id": "b386c807-9a85-4bb1-8253-cca09b3d5e95",
   "metadata": {
    "pycharm": {
     "name": "#%% md\n"
    }
   },
   "source": [
    "<div class=\"alert alert-warning\">\n",
    "  <strong>Let's start with THIS blue box:</strong>\n",
    "</div>"
   ]
  },
  {
   "cell_type": "markdown",
   "id": "c708ae13-5543-4b3b-bb2b-80c965ae1432",
   "metadata": {
    "pycharm": {
     "name": "#%% md\n"
    }
   },
   "source": [
    "<div class=\"alert alert-danger\">\n",
    "  <strong>Let's start with THIS blue box:</strong>\n",
    "</div>"
   ]
  },
  {
   "cell_type": "markdown",
   "id": "05657d02-561c-47e0-b731-222b39662190",
   "metadata": {
    "pycharm": {
     "name": "#%% md\n"
    }
   },
   "source": [
    "<style>\n",
    "h1 {\n",
    "  border: 1.5px solid #333;\n",
    "  padding: 8px 12px;\n",
    "  background-image: linear-gradient(180deg, #fff, rgb(160, 147, 147));\n",
    "  position: static;\n",
    "}\n",
    "</style>"
   ]
  },
  {
   "cell_type": "markdown",
   "id": "50ccd8bd-b310-4ca6-b564-13bf6678f4de",
   "metadata": {
    "tags": [],
    "pycharm": {
     "name": "#%% md\n"
    }
   },
   "source": []
  },
  {
   "cell_type": "code",
   "execution_count": null,
   "id": "7f0c1478-8bda-4a66-be57-2fd8e5648075",
   "metadata": {
    "pycharm": {
     "name": "#%%\n"
    }
   },
   "outputs": [],
   "source": []
  }
 ],
 "metadata": {
  "kernelspec": {
   "display_name": "Python 3 (ipykernel)",
   "language": "python",
   "name": "python3"
  },
  "language_info": {
   "codemirror_mode": {
    "name": "ipython",
    "version": 3
   },
   "file_extension": ".py",
   "mimetype": "text/x-python",
   "name": "python",
   "nbconvert_exporter": "python",
   "pygments_lexer": "ipython3",
   "version": "3.9.7"
  }
 },
 "nbformat": 4,
 "nbformat_minor": 5
}