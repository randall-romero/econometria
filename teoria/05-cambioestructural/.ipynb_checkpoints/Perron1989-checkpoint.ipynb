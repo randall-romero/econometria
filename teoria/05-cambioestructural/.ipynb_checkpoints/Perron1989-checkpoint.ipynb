{
 "cells": [
  {
   "cell_type": "markdown",
   "metadata": {},
   "source": [
    "# Replicando resultados de Perron 1989\n",
    "\n",
    "*Material del curso EC4301 Macroeconometría*\n",
    "\n",
    "Universidad de Costa Rica\n",
    "\n",
    "**Profesor:  Randall Romero Aguilar**\n",
    "\n",
    "Actualizado: 2021-Jun-09"
   ]
  },
  {
   "cell_type": "code",
   "execution_count": 1,
   "metadata": {
    "Collapsed": "false"
   },
   "outputs": [],
   "source": [
    "import pandas as pd\n",
    "import numpy as np\n",
    "import seaborn as sns\n",
    "from statsmodels.formula.api import ols\n",
    "import matplotlib.pyplot as plt\n",
    "from statsmodels.graphics.tsaplots import plot_acf\n",
    "\n",
    "plt.style.use('seaborn-talk')\n",
    "plt.rc('savefig', bbox='tight')\n",
    "figpath ='../figures/'"
   ]
  },
  {
   "cell_type": "code",
   "execution_count": 2,
   "metadata": {
    "Collapsed": "false"
   },
   "outputs": [
    {
     "data": {
      "image/png": "[encoded data removed]",
      "text/plain": [
       "<Figure size 432x144 with 2 Axes>"
      ]
     },
     "metadata": {
      "needs_background": "light"
     },
     "output_type": "display_data"
    }
   ],
   "source": [
    "T = 7\n",
    "data3 = pd.DataFrame(index=np.arange(T))\n",
    "data3['DL'] = (data3.index>=3).astype(int)\n",
    "data3['DP'] = (data3.index==3).astype(int)\n",
    "\n",
    "fig, axs = plt.subplots(2,1,figsize=[6,2], sharex=True)\n",
    "data3.plot.bar(subplots=True, width=0.05, ax=axs, legend=False)\n",
    "data3.plot(subplots=True, ls='', marker='o', ax=axs, legend=False)\n",
    "for ax in axs:\n",
    "    ax.spines['right'].set_visible(False)\n",
    "    ax.spines['top'].set_visible(False)\n",
    "    ax.spines['bottom'].set_linewidth(0.25)\n",
    "    ax.spines['left'].set_linewidth(0.25)\n",
    "    ax.set(yticks=[0,1], ylim=[-0.08, 1.08], title='')\n",
    "\n",
    "axs[1].set_xticks(np.arange(T))\n",
    "axs[1].set_xticklabels([f'$\\\\tau {tau:+d}$' if tau else '$\\\\tau$' for tau in range(-3,4)])\n",
    "axs[0].annotate('$D_L(\\\\tau)_t$', [0.5, 0.5], size=16, color=axs[0].lines[0].get_color())\n",
    "axs[1].annotate('$D_P(\\\\tau)_t$', [0.5, 0.5], size=16, color=axs[1].lines[0].get_color())\n",
    "fig.savefig(figpath+'perron-breaks.pdf')"
   ]
  },
  {
   "cell_type": "markdown",
   "metadata": {
    "Collapsed": "false"
   },
   "source": [
    "## "
   ]
  },
  {
   "cell_type": "code",
   "execution_count": 3,
   "metadata": {
    "Collapsed": "false"
   },
   "outputs": [],
   "source": [
    "perronModelA = pd.DataFrame({\n",
    "    '1%':[-4.30, -4.39, -4.39, -4.34, -4.32, -4.45, -4.42, -4.33, -4.27],\n",
    "    '2.5%':[-3.93, -4.08, -4.03, -4.01, -4.01, -4.09, -4.07, -3.99, -3.97],\n",
    "    '5%': [-3.68, -3.77, -3.76, -3.72, -3.76, -3.76, -3.80, -3.75, -3.69],\n",
    "    '10%':[-3.40, -3.47, -3.46, -3.44, -3.46, -3.47, -3.51, -3.46, -3.38],\n",
    "    '90%':[-1.38, -1.45, -1.43, -1.26, -1.17, -1.28, -1.42, -1.46, -1.37],\n",
    "    '95%':[-1.09, -1.14, -1.13, -0.88, -0.79, -0.92, -1.10, -1.13, -1.04],\n",
    "    '97.5%':[-0.78, -0.90, -0.83, -0.55, -0.49, -0.60, -0.82, -0.89, -0.74],\n",
    "    '99%':[-0.46, -0.54, -0.51, -0.21, -0.15, -0.26, -0.50, -0.57, -0.47]},\n",
    "    index = [0.1, 0.2, 0.3, 0.4, 0.5, 0.6, 0.7, 0.8, 0.9])"
   ]
  },
  {
   "cell_type": "code",
   "execution_count": 4,
   "metadata": {
    "Collapsed": "false"
   },
   "outputs": [],
   "source": [
    "perronModelB = pd.DataFrame({\n",
    "    '1%':[ -4.27, -4.41, -4.51, -4.55, -4.56, -4.57, -4.51, -4.38, -4.26],\n",
    "    '2.5%':[ -3.94, -4.08, -4.17, -4.20, -4.26, -4.20, -4.13, -4.07, -3.96],\n",
    "    '5%':[ -3.65, -3.80, -3.87, -3.94, -3.96, -3.95, -3.85, -3.82, -3.68],\n",
    "    '10%':[ -3.36, -3.49, -3.58, -3.66, -3.68, -3.66, -3.57, -3.50, -3.35],\n",
    "    '90%':[ -1.35, -1.48, -1.59, -1.69, -1.74, -1.71, -1.61, -1.49, -1.34],\n",
    "    '95%':[ -1.04, -1.18, -1.27, -1.37, -1.40, -1.36, -1.28, -1.16, -1.04],\n",
    "    '97.5%':[ -0.78, -0.87, -0.97, -1.11, -1.18, -1.11, -0.97, -0.87, -0.77],\n",
    "    '99%':[ -0.40, -0.52, -0.69, -0.75, -0.82, -0.78, -0.67, -0.54, -0.43]},\n",
    "    index = [0.1, 0.2, 0.3, 0.4, 0.5, 0.6, 0.7, 0.8, 0.9])"
   ]
  },
  {
   "cell_type": "code",
   "execution_count": 5,
   "metadata": {
    "Collapsed": "false"
   },
   "outputs": [],
   "source": [
    "perronModelC = pd.DataFrame({\n",
    "    '1%':[-4.38, -4.65, -4.78, -4.81, -4.90, -4.88, -4.75, -4.70, -4.41],\n",
    "    '2.5%':[-4.01, -4.32, -4.46, -4.48, -4.53, -4.49, -4.44, -4.31, -4.10],\n",
    "    '5%':[-3.75, -3.99, -4.17, -4.22, -4.24, -4.24, -4.18, -4.04, -3.80],\n",
    "    '10%':[-3.45, -3.66, -3.87, -3.95, -3.96, -3.95, -3.86, -3.69, -3.46],\n",
    "    '90%':[-1.44, -1.60, -1.78, -1.91, -1.96, -1.93, -1.81, -1.63, -1.44],\n",
    "    '95%':[-1.11, -1.27, -1.46, -1.62, -1.69, -1.63, -1.47, -1.29, -1.12],\n",
    "    '97.5%':[-0.82, -0.98, -1.15, -1.35, -1.43, -1.37, -1.17, -1.04, -0.80],\n",
    "    '99%':[-0.45, -0.67, -0.81, -1.04, -1.07, -1.08, -0.79, -0.64, -0.50]},\n",
    "    index = [0.1, 0.2, 0.3, 0.4, 0.5, 0.6, 0.7, 0.8, 0.9])"
   ]
  },
  {
   "cell_type": "code",
   "execution_count": 6,
   "metadata": {
    "Collapsed": "false"
   },
   "outputs": [],
   "source": [
    "perron = pd.concat([tab[['1%','5%','10%']].rename(columns={'1%':'1\\%','5%':'5\\%','10%':'10\\%'}) for tab in [perronModelA, perronModelB, perronModelC]],\n",
    "                   axis=1, keys=[f'Modelo {v}' for v in 'ABC']) \n",
    "perron.index.name = r'$\\lambda$'\n",
    "perron.to_latex(figpath+'PerronModelABC.tex', escape=False)"
   ]
  },
  {
   "cell_type": "markdown",
   "metadata": {
    "Collapsed": "false"
   },
   "source": [
    "## Datos de Nelson y Plosser"
   ]
  },
  {
   "cell_type": "code",
   "execution_count": 7,
   "metadata": {
    "Collapsed": "false"
   },
   "outputs": [],
   "source": [
    "NP = pd.read_stata('NelsonPlosserData.dta')\n",
    "NP.set_index('year',inplace=True)\n",
    "NP.index = NP.index.year"
   ]
  },
  {
   "cell_type": "code",
   "execution_count": 8,
   "metadata": {
    "Collapsed": "false"
   },
   "outputs": [
    {
     "data": {
      "text/plain": [
       "Index(['rgnp', 'gnp', 'pcrgnp', 'ip', 'emp', 'un', 'prgnp', 'cpi', 'wg', 'rwg',\n",
       "       'm', 'vel', 'bnd', 'sp500', 'lrgnp', 'lgnp', 'lpcrgnp', 'lip', 'lemp',\n",
       "       'lun', 'lprgnp', 'lcpi', 'lwg', 'lrwg', 'lm', 'lvel', 'lsp500'],\n",
       "      dtype='object')"
      ]
     },
     "execution_count": 8,
     "metadata": {},
     "output_type": "execute_result"
    }
   ],
   "source": [
    "NP.columns"
   ]
  },
  {
   "cell_type": "markdown",
   "metadata": {
    "Collapsed": "false"
   },
   "source": [
    "### Salarios nominales"
   ]
  },
  {
   "cell_type": "code",
   "execution_count": 9,
   "metadata": {
    "Collapsed": "false"
   },
   "outputs": [],
   "source": [
    "lwg = NP[['lwg']].dropna()\n",
    "lwg['DL'] = (lwg.index>1929).astype(int)\n",
    "lwg['DP'] = (lwg.index==1930).astype(int)\n",
    "lwg['t'] = np.arange(lwg.shape[0])\n",
    "lwg['Ly'] = lwg['lwg'].shift(1)\n",
    "model1_lwg = ols('lwg~ DL + DP + t + Ly', lwg).fit()\n",
    "model2_lwg = ols('lwg~ DL + t ', lwg).fit()"
   ]
  },
  {
   "cell_type": "code",
   "execution_count": 10,
   "metadata": {
    "Collapsed": "false"
   },
   "outputs": [
    {
     "data": {
      "image/png": "[encoded data removed]",
      "text/plain": [
       "<Figure size 748.8x514.8 with 1 Axes>"
      ]
     },
     "metadata": {
      "needs_background": "light"
     },
     "output_type": "display_data"
    }
   ],
   "source": [
    "fig, ax = plt.subplots()\n",
    "\n",
    "# modelo de salarios nominales\n",
    "lwg['lwg'].plot(ax=ax)\n",
    "model2_lwg.fittedvalues.plot(ax=ax,ls='--')\n",
    "#model2_lwg.resid.plot(ax=axs[1,0], ls='--')\n",
    "\n",
    "\n",
    "\n",
    "ax.set(xlabel='', title='Salarios nominales')\n",
    "\n",
    "\n",
    "ax.spines['right'].set_visible(False)\n",
    "ax.spines['top'].set_visible(False)\n",
    "ax.spines['bottom'].set_linewidth(0.25)\n",
    "ax.spines['left'].set_linewidth(0.25)\n",
    "    \n",
    "fig.savefig(figpath+'perron-ejemplo-salarios-paso1.pdf')"
   ]
  },
  {
   "cell_type": "code",
   "execution_count": 11,
   "metadata": {
    "Collapsed": "false"
   },
   "outputs": [
    {
     "data": {
      "image/png": "[encoded data removed]",
      "text/plain": [
       "<Figure size 864x288 with 1 Axes>"
      ]
     },
     "metadata": {
      "needs_background": "light"
     },
     "output_type": "display_data"
    }
   ],
   "source": [
    "fig, ax = plt.subplots(figsize=[12,4])\n",
    "plot_acf(model1_lwg.resid, fft=True, ax=ax);\n",
    "ax.spines['right'].set_visible(False)\n",
    "ax.spines['top'].set_visible(False)\n",
    "ax.spines['bottom'].set_linewidth(0.25)\n",
    "ax.spines['left'].set_linewidth(0.25)\n",
    "ax.set(xticks=np.arange(0,21,4), title='Autocorrelación de residuos')\n",
    "fig.savefig(figpath+'perron-ejemplo-salarios-acf.pdf')"
   ]
  },
  {
   "cell_type": "code",
   "execution_count": 12,
   "metadata": {
    "Collapsed": "false"
   },
   "outputs": [
    {
     "data": {
      "text/plain": [
       "Intercept      0.370967\n",
       "DL           -24.557338\n",
       "DP           -13.871863\n",
       "t           -307.933470\n",
       "Ly            -3.078051\n",
       "dtype: float64"
      ]
     },
     "execution_count": 12,
     "metadata": {},
     "output_type": "execute_result"
    }
   ],
   "source": [
    "(model1_lwg.params - 1)/model1_lwg.bse"
   ]
  },
  {
   "cell_type": "code",
   "execution_count": 13,
   "metadata": {
    "Collapsed": "false"
   },
   "outputs": [
    {
     "data": {
      "text/plain": [
       "0.4"
      ]
     },
     "execution_count": 13,
     "metadata": {},
     "output_type": "execute_result"
    }
   ],
   "source": [
    "lambdaval = np.round(1-(lwg.DL).mean(), 1)\n",
    "lambdaval"
   ]
  },
  {
   "cell_type": "code",
   "execution_count": 14,
   "metadata": {
    "Collapsed": "false"
   },
   "outputs": [
    {
     "data": {
      "text/plain": [
       "1\\%    -4.34\n",
       "5\\%    -3.72\n",
       "10\\%   -3.44\n",
       "Name: 0.4, dtype: float64"
      ]
     },
     "execution_count": 14,
     "metadata": {},
     "output_type": "execute_result"
    }
   ],
   "source": [
    "perron['Modelo A'].loc[lambdaval]"
   ]
  },
  {
   "cell_type": "code",
   "execution_count": 15,
   "metadata": {
    "Collapsed": "false"
   },
   "outputs": [],
   "source": [
    "def Perron_testA(serie, k=8):\n",
    "    dta = NP[[serie]].dropna()\n",
    "    dta.rename(columns={serie:'y'}, inplace=True)\n",
    "    dta['DL'] = (dta.index>1929).astype(int)\n",
    "    dta['DP'] = (dta.index==1930).astype(int)\n",
    "    dta['t'] = np.arange(dta.shape[0])\n",
    "    dta['Ly'] = dta['y'].shift(1)\n",
    "    dta['Dy'] = dta['y'].diff(1)\n",
    "    for j in range(1, k+1):\n",
    "        dta[f'D{j}y'] = dta['Dy'].shift(j)\n",
    "    \n",
    "    lags = '+'.join(dta.columns[-k:])\n",
    "    \n",
    "    modelo = ols('y ~ DL + DP + t + Ly + '+ lags, dta).fit()\n",
    "    tval = ((modelo.params - 1)/modelo.bse).round(2)['Ly']\n",
    "    lda = 1-dta['DL'].mean()\n",
    "    crit = perron['Modelo A'].loc[np.round(lda,1)]\n",
    "    \n",
    "    return {'$t$':tval, '$\\lambda$':np.round(lda,2), '1\\%':crit['1\\%'],'5\\%':crit['5\\%'],'10\\%':crit['10\\%']}"
   ]
  },
  {
   "cell_type": "code",
   "execution_count": 16,
   "metadata": {
    "Collapsed": "false"
   },
   "outputs": [],
   "source": [
    "variables = {'lrgnp':'Real GNP',\n",
    "           'lgnp':'Nominal GNP',\n",
    "           'lpcrgnp':'Real per capita GNP',\n",
    "           'lip':'Industrial production',\n",
    "           'lemp':'Employment', \n",
    "           'lun':'Unemployment rate',\n",
    "           'lprgnp':'GNP deflator',\n",
    "           'lcpi':'Consumer prices',\n",
    "           'lwg':'Wages',\n",
    "           'lrwg':'Real wages', \n",
    "           'lm':'Money stock', \n",
    "           'lvel':'Velocity',\n",
    "           'bnd':'Bond yield',\n",
    "           'lsp500':'Common stock prices'}"
   ]
  },
  {
   "cell_type": "code",
   "execution_count": 17,
   "metadata": {
    "Collapsed": "false"
   },
   "outputs": [],
   "source": [
    "seriesA = ['lrgnp', 'lgnp', 'lpcrgnp', 'lip', 'lemp', 'lprgnp', 'lcpi', 'lwg', 'lm']\n",
    "lags = [8,8,7,8,7,5,2,7,6]"
   ]
  },
  {
   "cell_type": "code",
   "execution_count": 18,
   "metadata": {
    "Collapsed": "false"
   },
   "outputs": [],
   "source": [
    "temp = pd.DataFrame([Perron_testA(ser, k) for ser, k in zip(seriesA, lags)], index=seriesA)\n",
    "temp.rename(index=variables).to_latex(figpath+'perron-nelson-plosser.tex', escape=False)"
   ]
  },
  {
   "cell_type": "code",
   "execution_count": 19,
   "metadata": {
    "Collapsed": "false"
   },
   "outputs": [],
   "source": [
    "def Perron_test2(serie, k=8):\n",
    "    dta = NP[[serie]].dropna()\n",
    "    dta.rename(columns={serie:'y'}, inplace=True)\n",
    "    dta['DL'] = (dta.index>1929).astype(int)\n",
    "    dta['DP'] = (dta.index==1930).astype(int)\n",
    "    dta['t'] = np.arange(dta.shape[0])\n",
    "        \n",
    "    detrend = pd.DataFrame({'y':ols('y ~ DL + t + DP', dta).fit().resid})\n",
    "    \n",
    "    detrend['Ly'] = detrend['y'].shift(1)\n",
    "    detrend['Dy'] = detrend['y'].diff(1)\n",
    "    for j in range(1, k+1):\n",
    "        detrend[f'D{j}y'] = detrend['Dy'].shift(j)\n",
    "    \n",
    "    lags = '+'.join(detrend.columns[-k:])\n",
    "    \n",
    "    \n",
    "    \n",
    "    modelo = ols('y ~ -1 + Ly + '+ lags, detrend).fit()\n",
    "    tval = ((modelo.params - 1)/modelo.bse).round(2)['Ly']\n",
    "    lda = np.round(1-dta['DL'].mean(),1)\n",
    "    return dict(t=tval, lambda_=lda, crit=perron['Modelo A'].loc[lda]['5\\%'])"
   ]
  },
  {
   "cell_type": "code",
   "execution_count": 20,
   "metadata": {
    "Collapsed": "false"
   },
   "outputs": [
    {
     "name": "stdout",
     "output_type": "stream",
     "text": [
      "{'t': -2.5, 'lambda_': 0.3, 'crit': -3.76}\n",
      "{'t': -2.38, 'lambda_': 0.3, 'crit': -3.76}\n",
      "{'t': -3.06, 'lambda_': 0.6, 'crit': -3.76}\n"
     ]
    }
   ],
   "source": [
    "for ser in ['lrgnp', 'lgnp', 'lip']:\n",
    "    print(Perron_test2(ser))"
   ]
  }
 ],
 "metadata": {
  "kernelspec": {
   "display_name": "Python 3",
   "language": "python",
   "name": "python3"
  },
  "language_info": {
   "codemirror_mode": {
    "name": "ipython",
    "version": 3
   },
   "file_extension": ".py",
   "mimetype": "text/x-python",
   "name": "python",
   "nbconvert_exporter": "python",
   "pygments_lexer": "ipython3",
   "version": "3.8.5"
  }
 },
 "nbformat": 4,
 "nbformat_minor": 4
}
